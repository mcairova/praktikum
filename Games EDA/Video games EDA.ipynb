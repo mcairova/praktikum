{
 "cells": [
  {
   "cell_type": "markdown",
   "metadata": {},
   "source": [
    "# Исследование компьютерных игр <a class = \"tocSkip\">"
   ]
  },
  {
   "cell_type": "markdown",
   "metadata": {
    "toc": true
   },
   "source": [
    "<h1> <span class=\"tocSkip\"></span></h1>\n",
    "<div class=\"toc\"><ul class=\"toc-item\"><li><span><a href=\"#Описание-проекта\" data-toc-modified-id=\"Описание-проекта-1\"><span class=\"toc-item-num\">1&nbsp;&nbsp;</span>Описание проекта</a></span></li><li><span><a href=\"#Описание-данных\" data-toc-modified-id=\"Описание-данных-2\"><span class=\"toc-item-num\">2&nbsp;&nbsp;</span>Описание данных</a></span></li><li><span><a href=\"#Импорт-библиотек-и-настройка\" data-toc-modified-id=\"Импорт-библиотек-и-настройка-3\"><span class=\"toc-item-num\">3&nbsp;&nbsp;</span>Импорт библиотек и настройка</a></span></li><li><span><a href=\"#Функции\" data-toc-modified-id=\"Функции-4\"><span class=\"toc-item-num\">4&nbsp;&nbsp;</span>Функции</a></span></li><li><span><a href=\"#Знакомство-с-данными\" data-toc-modified-id=\"Знакомство-с-данными-5\"><span class=\"toc-item-num\">5&nbsp;&nbsp;</span>Знакомство с данными</a></span><ul class=\"toc-item\"><li><span><a href=\"#Вывод\" data-toc-modified-id=\"Вывод-5.1\"><span class=\"toc-item-num\">5.1&nbsp;&nbsp;</span>Вывод</a></span></li></ul></li><li><span><a href=\"#Подготовка-данных\" data-toc-modified-id=\"Подготовка-данных-6\"><span class=\"toc-item-num\">6&nbsp;&nbsp;</span>Подготовка данных</a></span><ul class=\"toc-item\"><li><span><a href=\"#Замена-регистра\" data-toc-modified-id=\"Замена-регистра-6.1\"><span class=\"toc-item-num\">6.1&nbsp;&nbsp;</span>Замена регистра</a></span></li><li><span><a href=\"#Обработка-пропусков\" data-toc-modified-id=\"Обработка-пропусков-6.2\"><span class=\"toc-item-num\">6.2&nbsp;&nbsp;</span>Обработка пропусков</a></span></li><li><span><a href=\"#Замена-типов-данных\" data-toc-modified-id=\"Замена-типов-данных-6.3\"><span class=\"toc-item-num\">6.3&nbsp;&nbsp;</span>Замена типов данных</a></span></li><li><span><a href=\"#Расчёт-дополнительных-значений\" data-toc-modified-id=\"Расчёт-дополнительных-значений-6.4\"><span class=\"toc-item-num\">6.4&nbsp;&nbsp;</span>Расчёт дополнительных значений</a></span></li><li><span><a href=\"#Вывод\" data-toc-modified-id=\"Вывод-6.5\"><span class=\"toc-item-num\">6.5&nbsp;&nbsp;</span>Вывод</a></span></li></ul></li><li><span><a href=\"#Исследовательский-анализ-данных\" data-toc-modified-id=\"Исследовательский-анализ-данных-7\"><span class=\"toc-item-num\">7&nbsp;&nbsp;</span>Исследовательский анализ данных</a></span><ul class=\"toc-item\"><li><span><a href=\"#Количество-игр,-выпускаемых-в-разные-года\" data-toc-modified-id=\"Количество-игр,-выпускаемых-в-разные-года-7.1\"><span class=\"toc-item-num\">7.1&nbsp;&nbsp;</span>Количество игр, выпускаемых в разные года</a></span></li><li><span><a href=\"#Продажи-по-платформам\" data-toc-modified-id=\"Продажи-по-платформам-7.2\"><span class=\"toc-item-num\">7.2&nbsp;&nbsp;</span>Продажи по платформам</a></span></li><li><span><a href=\"#Анализ-платформ,-актуальных-на-данный-момент\" data-toc-modified-id=\"Анализ-платформ,-актуальных-на-данный-момент-7.3\"><span class=\"toc-item-num\">7.3&nbsp;&nbsp;</span>Анализ платформ, актуальных на данный момент</a></span></li><li><span><a href=\"#Влияние-на-продажи-отзвывов-пользователей-и-критиков\" data-toc-modified-id=\"Влияние-на-продажи-отзвывов-пользователей-и-критиков-7.4\"><span class=\"toc-item-num\">7.4&nbsp;&nbsp;</span>Влияние на продажи отзвывов пользователей и критиков</a></span></li><li><span><a href=\"#Анализ-жанров\" data-toc-modified-id=\"Анализ-жанров-7.5\"><span class=\"toc-item-num\">7.5&nbsp;&nbsp;</span>Анализ жанров</a></span></li><li><span><a href=\"#Вывод\" data-toc-modified-id=\"Вывод-7.6\"><span class=\"toc-item-num\">7.6&nbsp;&nbsp;</span>Вывод</a></span></li></ul></li><li><span><a href=\"#Портреты-пользователей-по-регионам\" data-toc-modified-id=\"Портреты-пользователей-по-регионам-8\"><span class=\"toc-item-num\">8&nbsp;&nbsp;</span>Портреты пользователей по регионам</a></span><ul class=\"toc-item\"><li><span><a href=\"#Cамые-популярные-платформы\" data-toc-modified-id=\"Cамые-популярные-платформы-8.1\"><span class=\"toc-item-num\">8.1&nbsp;&nbsp;</span>Cамые популярные платформы</a></span></li><li><span><a href=\"#Самые-популярные-жанры\" data-toc-modified-id=\"Самые-популярные-жанры-8.2\"><span class=\"toc-item-num\">8.2&nbsp;&nbsp;</span>Самые популярные жанры</a></span></li><li><span><a href=\"#Влияние-рейтинга-ESRB-на-продажи\" data-toc-modified-id=\"Влияние-рейтинга-ESRB-на-продажи-8.3\"><span class=\"toc-item-num\">8.3&nbsp;&nbsp;</span>Влияние рейтинга ESRB на продажи</a></span></li><li><span><a href=\"#Вывод\" data-toc-modified-id=\"Вывод-8.4\"><span class=\"toc-item-num\">8.4&nbsp;&nbsp;</span>Вывод</a></span></li></ul></li><li><span><a href=\"#Проверка-гипотез\" data-toc-modified-id=\"Проверка-гипотез-9\"><span class=\"toc-item-num\">9&nbsp;&nbsp;</span>Проверка гипотез</a></span><ul class=\"toc-item\"><li><span><a href=\"#Средние-пользовательские-рейтинги-платформ-Xbox-One-и-PC-одинаковые.\" data-toc-modified-id=\"Средние-пользовательские-рейтинги-платформ-Xbox-One-и-PC-одинаковые.-9.1\"><span class=\"toc-item-num\">9.1&nbsp;&nbsp;</span>Средние пользовательские рейтинги платформ Xbox One и PC одинаковые.</a></span></li><li><span><a href=\"#Средние-пользовательские-рейтинги-жанров-Action-и-Sports-разные.\" data-toc-modified-id=\"Средние-пользовательские-рейтинги-жанров-Action-и-Sports-разные.-9.2\"><span class=\"toc-item-num\">9.2&nbsp;&nbsp;</span>Средние пользовательские рейтинги жанров Action и Sports разные.</a></span></li><li><span><a href=\"#Вывод\" data-toc-modified-id=\"Вывод-9.3\"><span class=\"toc-item-num\">9.3&nbsp;&nbsp;</span>Вывод</a></span></li></ul></li><li><span><a href=\"#Общий-вывод\" data-toc-modified-id=\"Общий-вывод-10\"><span class=\"toc-item-num\">10&nbsp;&nbsp;</span>Общий вывод</a></span></li></ul></div>"
   ]
  },
  {
   "cell_type": "markdown",
   "metadata": {},
   "source": [
    "#### Описание проекта"
   ]
  },
  {
   "cell_type": "markdown",
   "metadata": {},
   "source": [
    "Необходимо проанализировать исторические данные из открытых источников о продажах игр, оценки пользователей и экспертов, жанры и платформы (например, Xbox или PlayStation).  \n",
    "Выявить определяющие успешность игры закономерности.  \n",
    "Это позволит сделать ставку на потенциально популярный продукт и спланировать рекламные кампании."
   ]
  },
  {
   "cell_type": "markdown",
   "metadata": {},
   "source": [
    "#### Описание данных"
   ]
  },
  {
   "cell_type": "markdown",
   "metadata": {},
   "source": [
    "Name — название игры  \n",
    "Platform — платформа  \n",
    "Year_of_Release — год выпуска  \n",
    "Genre — жанр игры  \n",
    "NA_sales — продажи в Северной Америке (миллионы проданных копий)  \n",
    "EU_sales — продажи в Европе (миллионы проданных копий)  \n",
    "JP_sales — продажи в Японии (миллионы проданных копий)  \n",
    "Other_sales — продажи в других странах (миллионы проданных копий)  \n",
    "Critic_Score — оценка критиков (максимум 100)  \n",
    "User_Score — оценка пользователей (максимум 10)  \n",
    "Rating — рейтинг от организации ESRB (англ. Entertainment Software Rating Board)  "
   ]
  },
  {
   "cell_type": "markdown",
   "metadata": {},
   "source": [
    "#### Импорт библиотек и настройка"
   ]
  },
  {
   "cell_type": "code",
   "execution_count": 1,
   "metadata": {},
   "outputs": [],
   "source": [
    "#базовые библиотеки для работы с данными\n",
    "import pandas as pd\n",
    "import numpy as np\n",
    "from scipy import stats as st\n",
    "\n",
    "#методы для отображения данных\n",
    "import ipywidgets as widgets\n",
    "from IPython.display import display, HTML, display_html\n",
    "\n",
    "#библиотеки для построения графиков\n",
    "import matplotlib.pyplot as plt\n",
    "import seaborn as sns\n",
    "\n",
    "#настройка формата вывода\n",
    "pd.set_option('display.max_columns', None)\n",
    "sns.set_style(\"whitegrid\")\n",
    "sns.set_palette(\"husl\", 8)\n",
    "sns.set_context(\"notebook\")\n",
    "\n",
    "#отключение предупреждений\n",
    "import warnings\n",
    "warnings.filterwarnings('ignore')"
   ]
  },
  {
   "cell_type": "code",
   "execution_count": 2,
   "metadata": {},
   "outputs": [
    {
     "name": "stdout",
     "output_type": "stream",
     "text": [
      "Name: seaborn\n",
      "Version: 0.9.0\n",
      "Summary: seaborn: statistical data visualization\n",
      "Home-page: https://seaborn.pydata.org\n",
      "Author: Michael Waskom\n",
      "Author-email: mwaskom@nyu.edu\n",
      "License: BSD (3-clause)\n",
      "Location: d:\\anaconda3\\lib\\site-packages\n",
      "Requires: matplotlib, numpy, scipy, pandas\n",
      "Required-by: pandas-profiling, missingno\n"
     ]
    }
   ],
   "source": [
    "#проверим версию seaborn, которая установлена в локальном окружении\n",
    "!pip show seaborn"
   ]
  },
  {
   "cell_type": "code",
   "execution_count": 3,
   "metadata": {},
   "outputs": [
    {
     "name": "stdout",
     "output_type": "stream",
     "text": [
      "Requirement already satisfied: seaborn==0.9.0 in d:\\anaconda3\\lib\\site-packages (0.9.0)\n",
      "Requirement already satisfied: scipy>=0.14.0 in d:\\anaconda3\\lib\\site-packages (from seaborn==0.9.0) (1.6.2)\n",
      "Requirement already satisfied: pandas>=0.15.2 in d:\\anaconda3\\lib\\site-packages (from seaborn==0.9.0) (1.2.4)\n",
      "Requirement already satisfied: numpy>=1.9.3 in d:\\anaconda3\\lib\\site-packages (from seaborn==0.9.0) (1.19.2)\n",
      "Requirement already satisfied: matplotlib>=1.4.3 in d:\\anaconda3\\lib\\site-packages (from seaborn==0.9.0) (3.3.4)\n",
      "Requirement already satisfied: pillow>=6.2.0 in d:\\anaconda3\\lib\\site-packages (from matplotlib>=1.4.3->seaborn==0.9.0) (8.2.0)\n",
      "Requirement already satisfied: pyparsing!=2.0.4,!=2.1.2,!=2.1.6,>=2.0.3 in d:\\anaconda3\\lib\\site-packages (from matplotlib>=1.4.3->seaborn==0.9.0) (2.4.7)\n",
      "Requirement already satisfied: cycler>=0.10 in d:\\anaconda3\\lib\\site-packages (from matplotlib>=1.4.3->seaborn==0.9.0) (0.10.0)\n",
      "Requirement already satisfied: python-dateutil>=2.1 in d:\\anaconda3\\lib\\site-packages (from matplotlib>=1.4.3->seaborn==0.9.0) (2.8.1)\n",
      "Requirement already satisfied: kiwisolver>=1.0.1 in d:\\anaconda3\\lib\\site-packages (from matplotlib>=1.4.3->seaborn==0.9.0) (1.3.1)\n",
      "Requirement already satisfied: six in d:\\anaconda3\\lib\\site-packages (from cycler>=0.10->matplotlib>=1.4.3->seaborn==0.9.0) (1.15.0)\n",
      "Requirement already satisfied: pytz>=2017.3 in d:\\anaconda3\\lib\\site-packages (from pandas>=0.15.2->seaborn==0.9.0) (2021.1)\n"
     ]
    }
   ],
   "source": [
    "#пропишем полученную версию 0.9.0, чтобы избежать конфликтов\n",
    "!pip install seaborn==0.9.0"
   ]
  },
  {
   "cell_type": "markdown",
   "metadata": {},
   "source": [
    "#### Функции"
   ]
  },
  {
   "cell_type": "markdown",
   "metadata": {},
   "source": [
    "Напишем функцию, которая позволит нам выводить данные компактнее.  \n",
    "На входе у неё будет список таблиц, список заголовков таблиц и общий заголовок(необязательный параметр)."
   ]
  },
  {
   "cell_type": "code",
   "execution_count": 4,
   "metadata": {},
   "outputs": [],
   "source": [
    "def display_tables(dfs: list, captions: list, title=None):\n",
    "    \"\"\"Функция для отображения таблиц.\n",
    "    Аргументы:\n",
    "    dfs -- список таблиц;\n",
    "    captions -- список заголовков таблиц;\n",
    "    title -- общий заголовок, необязательный параметр.\n",
    "    \"\"\"\n",
    "    output = \"\"\n",
    "    # проверка на совпадение числа таблиц и заголовков\n",
    "    if len(dfs) != len(captions):\n",
    "        raise ValueError('Число таблиц и заголовков должно совпадать!')\n",
    "    # объединяем аргументы в словарь\n",
    "    combined = dict(zip(captions, dfs))\n",
    "    if title is not None:\n",
    "        print(\"\\033[1m\", title, \"\\033[0m\")\n",
    "    for caption, df in combined.items():\n",
    "        # настраиваем параметры вывода\n",
    "        output += df.style.set_table_attributes(\"style='display:inline'\").set_caption(caption)._repr_html_()\n",
    "        output += \"\\xa0\\xa0\\xa0\"\n",
    "    display(HTML(output))"
   ]
  },
  {
   "cell_type": "markdown",
   "metadata": {},
   "source": [
    "Нам еще будет нужна функция, которая показывает значения на графиках."
   ]
  },
  {
   "cell_type": "code",
   "execution_count": 5,
   "metadata": {},
   "outputs": [],
   "source": [
    "def show_values_on_bars(axs, h_v=\"v\", space=0.4):\n",
    "    \"\"\"Функция, которая показывает значения на столбчатых графиках.\n",
    "    Аргументы:\n",
    "    axs — на каком графике подписать;\n",
    "    h_v — ориентация графика, необязательный параметр;\n",
    "    space — отступ, необязательный параметр.\n",
    "    \"\"\"\n",
    "\n",
    "    def _show_on_single_plot(ax):\n",
    "        if h_v == \"v\":\n",
    "            for p in ax.patches:\n",
    "                _x = p.get_x() + p.get_width() / 2\n",
    "                _y = p.get_y() + p.get_height()\n",
    "                value = int(p.get_height())\n",
    "                ax.text(_x, _y, value, ha=\"center\")\n",
    "        elif h_v == \"h\":\n",
    "            for p in ax.patches:\n",
    "                _x = p.get_x() + p.get_width() + float(space)\n",
    "                _y = p.get_y() + p.get_height() / 2\n",
    "                value = int(p.get_width())\n",
    "                ax.text(_x, _y, value, ha=\"right\")\n",
    "\n",
    "    if isinstance(axs, np.ndarray):\n",
    "        for idx, ax in np.ndenumerate(axs):\n",
    "            _show_on_single_plot(ax)\n",
    "    else:\n",
    "        _show_on_single_plot(axs)"
   ]
  },
  {
   "cell_type": "markdown",
   "metadata": {},
   "source": [
    "#### Знакомство с данными"
   ]
  },
  {
   "cell_type": "code",
   "execution_count": 6,
   "metadata": {},
   "outputs": [
    {
     "data": {
      "text/plain": [
       "(16715, 11)"
      ]
     },
     "execution_count": 6,
     "metadata": {},
     "output_type": "execute_result"
    }
   ],
   "source": [
    "try:\n",
    "    games = pd.read_csv('/datasets/games.csv')\n",
    "except:    \n",
    "    games = pd.read_csv(r'D:\\games.csv')\n",
    "games.shape"
   ]
  },
  {
   "cell_type": "code",
   "execution_count": 7,
   "metadata": {
    "scrolled": false
   },
   "outputs": [
    {
     "name": "stdout",
     "output_type": "stream",
     "text": [
      "\u001b[1m Смотрим на исходные данные \u001b[0m\n"
     ]
    },
    {
     "data": {
      "text/html": [
       "<style  type=\"text/css\" >\n",
       "</style><table id=\"T_621fc_\" style='display:inline'><caption>Первые 15 строк</caption><thead>    <tr>        <th class=\"blank level0\" ></th>        <th class=\"col_heading level0 col0\" >Name</th>        <th class=\"col_heading level0 col1\" >Platform</th>        <th class=\"col_heading level0 col2\" >Year_of_Release</th>        <th class=\"col_heading level0 col3\" >Genre</th>        <th class=\"col_heading level0 col4\" >NA_sales</th>        <th class=\"col_heading level0 col5\" >EU_sales</th>        <th class=\"col_heading level0 col6\" >JP_sales</th>        <th class=\"col_heading level0 col7\" >Other_sales</th>        <th class=\"col_heading level0 col8\" >Critic_Score</th>        <th class=\"col_heading level0 col9\" >User_Score</th>        <th class=\"col_heading level0 col10\" >Rating</th>    </tr></thead><tbody>\n",
       "                <tr>\n",
       "                        <th id=\"T_621fc_level0_row0\" class=\"row_heading level0 row0\" >0</th>\n",
       "                        <td id=\"T_621fc_row0_col0\" class=\"data row0 col0\" >Wii Sports</td>\n",
       "                        <td id=\"T_621fc_row0_col1\" class=\"data row0 col1\" >Wii</td>\n",
       "                        <td id=\"T_621fc_row0_col2\" class=\"data row0 col2\" >2006.000000</td>\n",
       "                        <td id=\"T_621fc_row0_col3\" class=\"data row0 col3\" >Sports</td>\n",
       "                        <td id=\"T_621fc_row0_col4\" class=\"data row0 col4\" >41.360000</td>\n",
       "                        <td id=\"T_621fc_row0_col5\" class=\"data row0 col5\" >28.960000</td>\n",
       "                        <td id=\"T_621fc_row0_col6\" class=\"data row0 col6\" >3.770000</td>\n",
       "                        <td id=\"T_621fc_row0_col7\" class=\"data row0 col7\" >8.450000</td>\n",
       "                        <td id=\"T_621fc_row0_col8\" class=\"data row0 col8\" >76.000000</td>\n",
       "                        <td id=\"T_621fc_row0_col9\" class=\"data row0 col9\" >8</td>\n",
       "                        <td id=\"T_621fc_row0_col10\" class=\"data row0 col10\" >E</td>\n",
       "            </tr>\n",
       "            <tr>\n",
       "                        <th id=\"T_621fc_level0_row1\" class=\"row_heading level0 row1\" >1</th>\n",
       "                        <td id=\"T_621fc_row1_col0\" class=\"data row1 col0\" >Super Mario Bros.</td>\n",
       "                        <td id=\"T_621fc_row1_col1\" class=\"data row1 col1\" >NES</td>\n",
       "                        <td id=\"T_621fc_row1_col2\" class=\"data row1 col2\" >1985.000000</td>\n",
       "                        <td id=\"T_621fc_row1_col3\" class=\"data row1 col3\" >Platform</td>\n",
       "                        <td id=\"T_621fc_row1_col4\" class=\"data row1 col4\" >29.080000</td>\n",
       "                        <td id=\"T_621fc_row1_col5\" class=\"data row1 col5\" >3.580000</td>\n",
       "                        <td id=\"T_621fc_row1_col6\" class=\"data row1 col6\" >6.810000</td>\n",
       "                        <td id=\"T_621fc_row1_col7\" class=\"data row1 col7\" >0.770000</td>\n",
       "                        <td id=\"T_621fc_row1_col8\" class=\"data row1 col8\" >nan</td>\n",
       "                        <td id=\"T_621fc_row1_col9\" class=\"data row1 col9\" >nan</td>\n",
       "                        <td id=\"T_621fc_row1_col10\" class=\"data row1 col10\" >nan</td>\n",
       "            </tr>\n",
       "            <tr>\n",
       "                        <th id=\"T_621fc_level0_row2\" class=\"row_heading level0 row2\" >2</th>\n",
       "                        <td id=\"T_621fc_row2_col0\" class=\"data row2 col0\" >Mario Kart Wii</td>\n",
       "                        <td id=\"T_621fc_row2_col1\" class=\"data row2 col1\" >Wii</td>\n",
       "                        <td id=\"T_621fc_row2_col2\" class=\"data row2 col2\" >2008.000000</td>\n",
       "                        <td id=\"T_621fc_row2_col3\" class=\"data row2 col3\" >Racing</td>\n",
       "                        <td id=\"T_621fc_row2_col4\" class=\"data row2 col4\" >15.680000</td>\n",
       "                        <td id=\"T_621fc_row2_col5\" class=\"data row2 col5\" >12.760000</td>\n",
       "                        <td id=\"T_621fc_row2_col6\" class=\"data row2 col6\" >3.790000</td>\n",
       "                        <td id=\"T_621fc_row2_col7\" class=\"data row2 col7\" >3.290000</td>\n",
       "                        <td id=\"T_621fc_row2_col8\" class=\"data row2 col8\" >82.000000</td>\n",
       "                        <td id=\"T_621fc_row2_col9\" class=\"data row2 col9\" >8.3</td>\n",
       "                        <td id=\"T_621fc_row2_col10\" class=\"data row2 col10\" >E</td>\n",
       "            </tr>\n",
       "            <tr>\n",
       "                        <th id=\"T_621fc_level0_row3\" class=\"row_heading level0 row3\" >3</th>\n",
       "                        <td id=\"T_621fc_row3_col0\" class=\"data row3 col0\" >Wii Sports Resort</td>\n",
       "                        <td id=\"T_621fc_row3_col1\" class=\"data row3 col1\" >Wii</td>\n",
       "                        <td id=\"T_621fc_row3_col2\" class=\"data row3 col2\" >2009.000000</td>\n",
       "                        <td id=\"T_621fc_row3_col3\" class=\"data row3 col3\" >Sports</td>\n",
       "                        <td id=\"T_621fc_row3_col4\" class=\"data row3 col4\" >15.610000</td>\n",
       "                        <td id=\"T_621fc_row3_col5\" class=\"data row3 col5\" >10.930000</td>\n",
       "                        <td id=\"T_621fc_row3_col6\" class=\"data row3 col6\" >3.280000</td>\n",
       "                        <td id=\"T_621fc_row3_col7\" class=\"data row3 col7\" >2.950000</td>\n",
       "                        <td id=\"T_621fc_row3_col8\" class=\"data row3 col8\" >80.000000</td>\n",
       "                        <td id=\"T_621fc_row3_col9\" class=\"data row3 col9\" >8</td>\n",
       "                        <td id=\"T_621fc_row3_col10\" class=\"data row3 col10\" >E</td>\n",
       "            </tr>\n",
       "            <tr>\n",
       "                        <th id=\"T_621fc_level0_row4\" class=\"row_heading level0 row4\" >4</th>\n",
       "                        <td id=\"T_621fc_row4_col0\" class=\"data row4 col0\" >Pokemon Red/Pokemon Blue</td>\n",
       "                        <td id=\"T_621fc_row4_col1\" class=\"data row4 col1\" >GB</td>\n",
       "                        <td id=\"T_621fc_row4_col2\" class=\"data row4 col2\" >1996.000000</td>\n",
       "                        <td id=\"T_621fc_row4_col3\" class=\"data row4 col3\" >Role-Playing</td>\n",
       "                        <td id=\"T_621fc_row4_col4\" class=\"data row4 col4\" >11.270000</td>\n",
       "                        <td id=\"T_621fc_row4_col5\" class=\"data row4 col5\" >8.890000</td>\n",
       "                        <td id=\"T_621fc_row4_col6\" class=\"data row4 col6\" >10.220000</td>\n",
       "                        <td id=\"T_621fc_row4_col7\" class=\"data row4 col7\" >1.000000</td>\n",
       "                        <td id=\"T_621fc_row4_col8\" class=\"data row4 col8\" >nan</td>\n",
       "                        <td id=\"T_621fc_row4_col9\" class=\"data row4 col9\" >nan</td>\n",
       "                        <td id=\"T_621fc_row4_col10\" class=\"data row4 col10\" >nan</td>\n",
       "            </tr>\n",
       "            <tr>\n",
       "                        <th id=\"T_621fc_level0_row5\" class=\"row_heading level0 row5\" >5</th>\n",
       "                        <td id=\"T_621fc_row5_col0\" class=\"data row5 col0\" >Tetris</td>\n",
       "                        <td id=\"T_621fc_row5_col1\" class=\"data row5 col1\" >GB</td>\n",
       "                        <td id=\"T_621fc_row5_col2\" class=\"data row5 col2\" >1989.000000</td>\n",
       "                        <td id=\"T_621fc_row5_col3\" class=\"data row5 col3\" >Puzzle</td>\n",
       "                        <td id=\"T_621fc_row5_col4\" class=\"data row5 col4\" >23.200000</td>\n",
       "                        <td id=\"T_621fc_row5_col5\" class=\"data row5 col5\" >2.260000</td>\n",
       "                        <td id=\"T_621fc_row5_col6\" class=\"data row5 col6\" >4.220000</td>\n",
       "                        <td id=\"T_621fc_row5_col7\" class=\"data row5 col7\" >0.580000</td>\n",
       "                        <td id=\"T_621fc_row5_col8\" class=\"data row5 col8\" >nan</td>\n",
       "                        <td id=\"T_621fc_row5_col9\" class=\"data row5 col9\" >nan</td>\n",
       "                        <td id=\"T_621fc_row5_col10\" class=\"data row5 col10\" >nan</td>\n",
       "            </tr>\n",
       "            <tr>\n",
       "                        <th id=\"T_621fc_level0_row6\" class=\"row_heading level0 row6\" >6</th>\n",
       "                        <td id=\"T_621fc_row6_col0\" class=\"data row6 col0\" >New Super Mario Bros.</td>\n",
       "                        <td id=\"T_621fc_row6_col1\" class=\"data row6 col1\" >DS</td>\n",
       "                        <td id=\"T_621fc_row6_col2\" class=\"data row6 col2\" >2006.000000</td>\n",
       "                        <td id=\"T_621fc_row6_col3\" class=\"data row6 col3\" >Platform</td>\n",
       "                        <td id=\"T_621fc_row6_col4\" class=\"data row6 col4\" >11.280000</td>\n",
       "                        <td id=\"T_621fc_row6_col5\" class=\"data row6 col5\" >9.140000</td>\n",
       "                        <td id=\"T_621fc_row6_col6\" class=\"data row6 col6\" >6.500000</td>\n",
       "                        <td id=\"T_621fc_row6_col7\" class=\"data row6 col7\" >2.880000</td>\n",
       "                        <td id=\"T_621fc_row6_col8\" class=\"data row6 col8\" >89.000000</td>\n",
       "                        <td id=\"T_621fc_row6_col9\" class=\"data row6 col9\" >8.5</td>\n",
       "                        <td id=\"T_621fc_row6_col10\" class=\"data row6 col10\" >E</td>\n",
       "            </tr>\n",
       "            <tr>\n",
       "                        <th id=\"T_621fc_level0_row7\" class=\"row_heading level0 row7\" >7</th>\n",
       "                        <td id=\"T_621fc_row7_col0\" class=\"data row7 col0\" >Wii Play</td>\n",
       "                        <td id=\"T_621fc_row7_col1\" class=\"data row7 col1\" >Wii</td>\n",
       "                        <td id=\"T_621fc_row7_col2\" class=\"data row7 col2\" >2006.000000</td>\n",
       "                        <td id=\"T_621fc_row7_col3\" class=\"data row7 col3\" >Misc</td>\n",
       "                        <td id=\"T_621fc_row7_col4\" class=\"data row7 col4\" >13.960000</td>\n",
       "                        <td id=\"T_621fc_row7_col5\" class=\"data row7 col5\" >9.180000</td>\n",
       "                        <td id=\"T_621fc_row7_col6\" class=\"data row7 col6\" >2.930000</td>\n",
       "                        <td id=\"T_621fc_row7_col7\" class=\"data row7 col7\" >2.840000</td>\n",
       "                        <td id=\"T_621fc_row7_col8\" class=\"data row7 col8\" >58.000000</td>\n",
       "                        <td id=\"T_621fc_row7_col9\" class=\"data row7 col9\" >6.6</td>\n",
       "                        <td id=\"T_621fc_row7_col10\" class=\"data row7 col10\" >E</td>\n",
       "            </tr>\n",
       "            <tr>\n",
       "                        <th id=\"T_621fc_level0_row8\" class=\"row_heading level0 row8\" >8</th>\n",
       "                        <td id=\"T_621fc_row8_col0\" class=\"data row8 col0\" >New Super Mario Bros. Wii</td>\n",
       "                        <td id=\"T_621fc_row8_col1\" class=\"data row8 col1\" >Wii</td>\n",
       "                        <td id=\"T_621fc_row8_col2\" class=\"data row8 col2\" >2009.000000</td>\n",
       "                        <td id=\"T_621fc_row8_col3\" class=\"data row8 col3\" >Platform</td>\n",
       "                        <td id=\"T_621fc_row8_col4\" class=\"data row8 col4\" >14.440000</td>\n",
       "                        <td id=\"T_621fc_row8_col5\" class=\"data row8 col5\" >6.940000</td>\n",
       "                        <td id=\"T_621fc_row8_col6\" class=\"data row8 col6\" >4.700000</td>\n",
       "                        <td id=\"T_621fc_row8_col7\" class=\"data row8 col7\" >2.240000</td>\n",
       "                        <td id=\"T_621fc_row8_col8\" class=\"data row8 col8\" >87.000000</td>\n",
       "                        <td id=\"T_621fc_row8_col9\" class=\"data row8 col9\" >8.4</td>\n",
       "                        <td id=\"T_621fc_row8_col10\" class=\"data row8 col10\" >E</td>\n",
       "            </tr>\n",
       "            <tr>\n",
       "                        <th id=\"T_621fc_level0_row9\" class=\"row_heading level0 row9\" >9</th>\n",
       "                        <td id=\"T_621fc_row9_col0\" class=\"data row9 col0\" >Duck Hunt</td>\n",
       "                        <td id=\"T_621fc_row9_col1\" class=\"data row9 col1\" >NES</td>\n",
       "                        <td id=\"T_621fc_row9_col2\" class=\"data row9 col2\" >1984.000000</td>\n",
       "                        <td id=\"T_621fc_row9_col3\" class=\"data row9 col3\" >Shooter</td>\n",
       "                        <td id=\"T_621fc_row9_col4\" class=\"data row9 col4\" >26.930000</td>\n",
       "                        <td id=\"T_621fc_row9_col5\" class=\"data row9 col5\" >0.630000</td>\n",
       "                        <td id=\"T_621fc_row9_col6\" class=\"data row9 col6\" >0.280000</td>\n",
       "                        <td id=\"T_621fc_row9_col7\" class=\"data row9 col7\" >0.470000</td>\n",
       "                        <td id=\"T_621fc_row9_col8\" class=\"data row9 col8\" >nan</td>\n",
       "                        <td id=\"T_621fc_row9_col9\" class=\"data row9 col9\" >nan</td>\n",
       "                        <td id=\"T_621fc_row9_col10\" class=\"data row9 col10\" >nan</td>\n",
       "            </tr>\n",
       "            <tr>\n",
       "                        <th id=\"T_621fc_level0_row10\" class=\"row_heading level0 row10\" >10</th>\n",
       "                        <td id=\"T_621fc_row10_col0\" class=\"data row10 col0\" >Nintendogs</td>\n",
       "                        <td id=\"T_621fc_row10_col1\" class=\"data row10 col1\" >DS</td>\n",
       "                        <td id=\"T_621fc_row10_col2\" class=\"data row10 col2\" >2005.000000</td>\n",
       "                        <td id=\"T_621fc_row10_col3\" class=\"data row10 col3\" >Simulation</td>\n",
       "                        <td id=\"T_621fc_row10_col4\" class=\"data row10 col4\" >9.050000</td>\n",
       "                        <td id=\"T_621fc_row10_col5\" class=\"data row10 col5\" >10.950000</td>\n",
       "                        <td id=\"T_621fc_row10_col6\" class=\"data row10 col6\" >1.930000</td>\n",
       "                        <td id=\"T_621fc_row10_col7\" class=\"data row10 col7\" >2.740000</td>\n",
       "                        <td id=\"T_621fc_row10_col8\" class=\"data row10 col8\" >nan</td>\n",
       "                        <td id=\"T_621fc_row10_col9\" class=\"data row10 col9\" >nan</td>\n",
       "                        <td id=\"T_621fc_row10_col10\" class=\"data row10 col10\" >nan</td>\n",
       "            </tr>\n",
       "            <tr>\n",
       "                        <th id=\"T_621fc_level0_row11\" class=\"row_heading level0 row11\" >11</th>\n",
       "                        <td id=\"T_621fc_row11_col0\" class=\"data row11 col0\" >Mario Kart DS</td>\n",
       "                        <td id=\"T_621fc_row11_col1\" class=\"data row11 col1\" >DS</td>\n",
       "                        <td id=\"T_621fc_row11_col2\" class=\"data row11 col2\" >2005.000000</td>\n",
       "                        <td id=\"T_621fc_row11_col3\" class=\"data row11 col3\" >Racing</td>\n",
       "                        <td id=\"T_621fc_row11_col4\" class=\"data row11 col4\" >9.710000</td>\n",
       "                        <td id=\"T_621fc_row11_col5\" class=\"data row11 col5\" >7.470000</td>\n",
       "                        <td id=\"T_621fc_row11_col6\" class=\"data row11 col6\" >4.130000</td>\n",
       "                        <td id=\"T_621fc_row11_col7\" class=\"data row11 col7\" >1.900000</td>\n",
       "                        <td id=\"T_621fc_row11_col8\" class=\"data row11 col8\" >91.000000</td>\n",
       "                        <td id=\"T_621fc_row11_col9\" class=\"data row11 col9\" >8.6</td>\n",
       "                        <td id=\"T_621fc_row11_col10\" class=\"data row11 col10\" >E</td>\n",
       "            </tr>\n",
       "            <tr>\n",
       "                        <th id=\"T_621fc_level0_row12\" class=\"row_heading level0 row12\" >12</th>\n",
       "                        <td id=\"T_621fc_row12_col0\" class=\"data row12 col0\" >Pokemon Gold/Pokemon Silver</td>\n",
       "                        <td id=\"T_621fc_row12_col1\" class=\"data row12 col1\" >GB</td>\n",
       "                        <td id=\"T_621fc_row12_col2\" class=\"data row12 col2\" >1999.000000</td>\n",
       "                        <td id=\"T_621fc_row12_col3\" class=\"data row12 col3\" >Role-Playing</td>\n",
       "                        <td id=\"T_621fc_row12_col4\" class=\"data row12 col4\" >9.000000</td>\n",
       "                        <td id=\"T_621fc_row12_col5\" class=\"data row12 col5\" >6.180000</td>\n",
       "                        <td id=\"T_621fc_row12_col6\" class=\"data row12 col6\" >7.200000</td>\n",
       "                        <td id=\"T_621fc_row12_col7\" class=\"data row12 col7\" >0.710000</td>\n",
       "                        <td id=\"T_621fc_row12_col8\" class=\"data row12 col8\" >nan</td>\n",
       "                        <td id=\"T_621fc_row12_col9\" class=\"data row12 col9\" >nan</td>\n",
       "                        <td id=\"T_621fc_row12_col10\" class=\"data row12 col10\" >nan</td>\n",
       "            </tr>\n",
       "            <tr>\n",
       "                        <th id=\"T_621fc_level0_row13\" class=\"row_heading level0 row13\" >13</th>\n",
       "                        <td id=\"T_621fc_row13_col0\" class=\"data row13 col0\" >Wii Fit</td>\n",
       "                        <td id=\"T_621fc_row13_col1\" class=\"data row13 col1\" >Wii</td>\n",
       "                        <td id=\"T_621fc_row13_col2\" class=\"data row13 col2\" >2007.000000</td>\n",
       "                        <td id=\"T_621fc_row13_col3\" class=\"data row13 col3\" >Sports</td>\n",
       "                        <td id=\"T_621fc_row13_col4\" class=\"data row13 col4\" >8.920000</td>\n",
       "                        <td id=\"T_621fc_row13_col5\" class=\"data row13 col5\" >8.030000</td>\n",
       "                        <td id=\"T_621fc_row13_col6\" class=\"data row13 col6\" >3.600000</td>\n",
       "                        <td id=\"T_621fc_row13_col7\" class=\"data row13 col7\" >2.150000</td>\n",
       "                        <td id=\"T_621fc_row13_col8\" class=\"data row13 col8\" >80.000000</td>\n",
       "                        <td id=\"T_621fc_row13_col9\" class=\"data row13 col9\" >7.7</td>\n",
       "                        <td id=\"T_621fc_row13_col10\" class=\"data row13 col10\" >E</td>\n",
       "            </tr>\n",
       "            <tr>\n",
       "                        <th id=\"T_621fc_level0_row14\" class=\"row_heading level0 row14\" >14</th>\n",
       "                        <td id=\"T_621fc_row14_col0\" class=\"data row14 col0\" >Kinect Adventures!</td>\n",
       "                        <td id=\"T_621fc_row14_col1\" class=\"data row14 col1\" >X360</td>\n",
       "                        <td id=\"T_621fc_row14_col2\" class=\"data row14 col2\" >2010.000000</td>\n",
       "                        <td id=\"T_621fc_row14_col3\" class=\"data row14 col3\" >Misc</td>\n",
       "                        <td id=\"T_621fc_row14_col4\" class=\"data row14 col4\" >15.000000</td>\n",
       "                        <td id=\"T_621fc_row14_col5\" class=\"data row14 col5\" >4.890000</td>\n",
       "                        <td id=\"T_621fc_row14_col6\" class=\"data row14 col6\" >0.240000</td>\n",
       "                        <td id=\"T_621fc_row14_col7\" class=\"data row14 col7\" >1.690000</td>\n",
       "                        <td id=\"T_621fc_row14_col8\" class=\"data row14 col8\" >61.000000</td>\n",
       "                        <td id=\"T_621fc_row14_col9\" class=\"data row14 col9\" >6.3</td>\n",
       "                        <td id=\"T_621fc_row14_col10\" class=\"data row14 col10\" >E</td>\n",
       "            </tr>\n",
       "    </tbody></table>   <style  type=\"text/css\" >\n",
       "</style><table id=\"T_321dd_\" style='display:inline'><caption>Произвольные 15 строк</caption><thead>    <tr>        <th class=\"blank level0\" ></th>        <th class=\"col_heading level0 col0\" >Name</th>        <th class=\"col_heading level0 col1\" >Platform</th>        <th class=\"col_heading level0 col2\" >Year_of_Release</th>        <th class=\"col_heading level0 col3\" >Genre</th>        <th class=\"col_heading level0 col4\" >NA_sales</th>        <th class=\"col_heading level0 col5\" >EU_sales</th>        <th class=\"col_heading level0 col6\" >JP_sales</th>        <th class=\"col_heading level0 col7\" >Other_sales</th>        <th class=\"col_heading level0 col8\" >Critic_Score</th>        <th class=\"col_heading level0 col9\" >User_Score</th>        <th class=\"col_heading level0 col10\" >Rating</th>    </tr></thead><tbody>\n",
       "                <tr>\n",
       "                        <th id=\"T_321dd_level0_row0\" class=\"row_heading level0 row0\" >7634</th>\n",
       "                        <td id=\"T_321dd_row0_col0\" class=\"data row0 col0\" >Press Your Luck 2010 Edition</td>\n",
       "                        <td id=\"T_321dd_row0_col1\" class=\"data row0 col1\" >DS</td>\n",
       "                        <td id=\"T_321dd_row0_col2\" class=\"data row0 col2\" >2009.000000</td>\n",
       "                        <td id=\"T_321dd_row0_col3\" class=\"data row0 col3\" >Misc</td>\n",
       "                        <td id=\"T_321dd_row0_col4\" class=\"data row0 col4\" >0.180000</td>\n",
       "                        <td id=\"T_321dd_row0_col5\" class=\"data row0 col5\" >0.000000</td>\n",
       "                        <td id=\"T_321dd_row0_col6\" class=\"data row0 col6\" >0.000000</td>\n",
       "                        <td id=\"T_321dd_row0_col7\" class=\"data row0 col7\" >0.010000</td>\n",
       "                        <td id=\"T_321dd_row0_col8\" class=\"data row0 col8\" >nan</td>\n",
       "                        <td id=\"T_321dd_row0_col9\" class=\"data row0 col9\" >tbd</td>\n",
       "                        <td id=\"T_321dd_row0_col10\" class=\"data row0 col10\" >E</td>\n",
       "            </tr>\n",
       "            <tr>\n",
       "                        <th id=\"T_321dd_level0_row1\" class=\"row_heading level0 row1\" >13771</th>\n",
       "                        <td id=\"T_321dd_row1_col0\" class=\"data row1 col0\" >Aeon Flux</td>\n",
       "                        <td id=\"T_321dd_row1_col1\" class=\"data row1 col1\" >PS2</td>\n",
       "                        <td id=\"T_321dd_row1_col2\" class=\"data row1 col2\" >2005.000000</td>\n",
       "                        <td id=\"T_321dd_row1_col3\" class=\"data row1 col3\" >Action</td>\n",
       "                        <td id=\"T_321dd_row1_col4\" class=\"data row1 col4\" >0.020000</td>\n",
       "                        <td id=\"T_321dd_row1_col5\" class=\"data row1 col5\" >0.020000</td>\n",
       "                        <td id=\"T_321dd_row1_col6\" class=\"data row1 col6\" >0.000000</td>\n",
       "                        <td id=\"T_321dd_row1_col7\" class=\"data row1 col7\" >0.010000</td>\n",
       "                        <td id=\"T_321dd_row1_col8\" class=\"data row1 col8\" >66.000000</td>\n",
       "                        <td id=\"T_321dd_row1_col9\" class=\"data row1 col9\" >5.8</td>\n",
       "                        <td id=\"T_321dd_row1_col10\" class=\"data row1 col10\" >T</td>\n",
       "            </tr>\n",
       "            <tr>\n",
       "                        <th id=\"T_321dd_level0_row2\" class=\"row_heading level0 row2\" >3051</th>\n",
       "                        <td id=\"T_321dd_row2_col0\" class=\"data row2 col0\" >Castlevania: Lords of Shadow</td>\n",
       "                        <td id=\"T_321dd_row2_col1\" class=\"data row2 col1\" >X360</td>\n",
       "                        <td id=\"T_321dd_row2_col2\" class=\"data row2 col2\" >2010.000000</td>\n",
       "                        <td id=\"T_321dd_row2_col3\" class=\"data row2 col3\" >Action</td>\n",
       "                        <td id=\"T_321dd_row2_col4\" class=\"data row2 col4\" >0.420000</td>\n",
       "                        <td id=\"T_321dd_row2_col5\" class=\"data row2 col5\" >0.170000</td>\n",
       "                        <td id=\"T_321dd_row2_col6\" class=\"data row2 col6\" >0.010000</td>\n",
       "                        <td id=\"T_321dd_row2_col7\" class=\"data row2 col7\" >0.050000</td>\n",
       "                        <td id=\"T_321dd_row2_col8\" class=\"data row2 col8\" >83.000000</td>\n",
       "                        <td id=\"T_321dd_row2_col9\" class=\"data row2 col9\" >7.8</td>\n",
       "                        <td id=\"T_321dd_row2_col10\" class=\"data row2 col10\" >M</td>\n",
       "            </tr>\n",
       "            <tr>\n",
       "                        <th id=\"T_321dd_level0_row3\" class=\"row_heading level0 row3\" >15726</th>\n",
       "                        <td id=\"T_321dd_row3_col0\" class=\"data row3 col0\" >Prince of Stride</td>\n",
       "                        <td id=\"T_321dd_row3_col1\" class=\"data row3 col1\" >PSV</td>\n",
       "                        <td id=\"T_321dd_row3_col2\" class=\"data row3 col2\" >2015.000000</td>\n",
       "                        <td id=\"T_321dd_row3_col3\" class=\"data row3 col3\" >Adventure</td>\n",
       "                        <td id=\"T_321dd_row3_col4\" class=\"data row3 col4\" >0.000000</td>\n",
       "                        <td id=\"T_321dd_row3_col5\" class=\"data row3 col5\" >0.000000</td>\n",
       "                        <td id=\"T_321dd_row3_col6\" class=\"data row3 col6\" >0.020000</td>\n",
       "                        <td id=\"T_321dd_row3_col7\" class=\"data row3 col7\" >0.000000</td>\n",
       "                        <td id=\"T_321dd_row3_col8\" class=\"data row3 col8\" >nan</td>\n",
       "                        <td id=\"T_321dd_row3_col9\" class=\"data row3 col9\" >nan</td>\n",
       "                        <td id=\"T_321dd_row3_col10\" class=\"data row3 col10\" >nan</td>\n",
       "            </tr>\n",
       "            <tr>\n",
       "                        <th id=\"T_321dd_level0_row4\" class=\"row_heading level0 row4\" >578</th>\n",
       "                        <td id=\"T_321dd_row4_col0\" class=\"data row4 col0\" >Final Fantasy XIII-2</td>\n",
       "                        <td id=\"T_321dd_row4_col1\" class=\"data row4 col1\" >PS3</td>\n",
       "                        <td id=\"T_321dd_row4_col2\" class=\"data row4 col2\" >2011.000000</td>\n",
       "                        <td id=\"T_321dd_row4_col3\" class=\"data row4 col3\" >Role-Playing</td>\n",
       "                        <td id=\"T_321dd_row4_col4\" class=\"data row4 col4\" >0.780000</td>\n",
       "                        <td id=\"T_321dd_row4_col5\" class=\"data row4 col5\" >0.730000</td>\n",
       "                        <td id=\"T_321dd_row4_col6\" class=\"data row4 col6\" >0.890000</td>\n",
       "                        <td id=\"T_321dd_row4_col7\" class=\"data row4 col7\" >0.230000</td>\n",
       "                        <td id=\"T_321dd_row4_col8\" class=\"data row4 col8\" >79.000000</td>\n",
       "                        <td id=\"T_321dd_row4_col9\" class=\"data row4 col9\" >6.6</td>\n",
       "                        <td id=\"T_321dd_row4_col10\" class=\"data row4 col10\" >T</td>\n",
       "            </tr>\n",
       "            <tr>\n",
       "                        <th id=\"T_321dd_level0_row5\" class=\"row_heading level0 row5\" >14668</th>\n",
       "                        <td id=\"T_321dd_row5_col0\" class=\"data row5 col0\" >World of Zoo</td>\n",
       "                        <td id=\"T_321dd_row5_col1\" class=\"data row5 col1\" >PC</td>\n",
       "                        <td id=\"T_321dd_row5_col2\" class=\"data row5 col2\" >2009.000000</td>\n",
       "                        <td id=\"T_321dd_row5_col3\" class=\"data row5 col3\" >Simulation</td>\n",
       "                        <td id=\"T_321dd_row5_col4\" class=\"data row5 col4\" >0.000000</td>\n",
       "                        <td id=\"T_321dd_row5_col5\" class=\"data row5 col5\" >0.020000</td>\n",
       "                        <td id=\"T_321dd_row5_col6\" class=\"data row5 col6\" >0.000000</td>\n",
       "                        <td id=\"T_321dd_row5_col7\" class=\"data row5 col7\" >0.010000</td>\n",
       "                        <td id=\"T_321dd_row5_col8\" class=\"data row5 col8\" >nan</td>\n",
       "                        <td id=\"T_321dd_row5_col9\" class=\"data row5 col9\" >8.4</td>\n",
       "                        <td id=\"T_321dd_row5_col10\" class=\"data row5 col10\" >E</td>\n",
       "            </tr>\n",
       "            <tr>\n",
       "                        <th id=\"T_321dd_level0_row6\" class=\"row_heading level0 row6\" >10421</th>\n",
       "                        <td id=\"T_321dd_row6_col0\" class=\"data row6 col0\" >Gravity Games Bike: Street Vert Dirt</td>\n",
       "                        <td id=\"T_321dd_row6_col1\" class=\"data row6 col1\" >PS2</td>\n",
       "                        <td id=\"T_321dd_row6_col2\" class=\"data row6 col2\" >2002.000000</td>\n",
       "                        <td id=\"T_321dd_row6_col3\" class=\"data row6 col3\" >Sports</td>\n",
       "                        <td id=\"T_321dd_row6_col4\" class=\"data row6 col4\" >0.050000</td>\n",
       "                        <td id=\"T_321dd_row6_col5\" class=\"data row6 col5\" >0.040000</td>\n",
       "                        <td id=\"T_321dd_row6_col6\" class=\"data row6 col6\" >0.000000</td>\n",
       "                        <td id=\"T_321dd_row6_col7\" class=\"data row6 col7\" >0.010000</td>\n",
       "                        <td id=\"T_321dd_row6_col8\" class=\"data row6 col8\" >24.000000</td>\n",
       "                        <td id=\"T_321dd_row6_col9\" class=\"data row6 col9\" >4.1</td>\n",
       "                        <td id=\"T_321dd_row6_col10\" class=\"data row6 col10\" >T</td>\n",
       "            </tr>\n",
       "            <tr>\n",
       "                        <th id=\"T_321dd_level0_row7\" class=\"row_heading level0 row7\" >10231</th>\n",
       "                        <td id=\"T_321dd_row7_col0\" class=\"data row7 col0\" >Calling</td>\n",
       "                        <td id=\"T_321dd_row7_col1\" class=\"data row7 col1\" >Wii</td>\n",
       "                        <td id=\"T_321dd_row7_col2\" class=\"data row7 col2\" >2009.000000</td>\n",
       "                        <td id=\"T_321dd_row7_col3\" class=\"data row7 col3\" >Adventure</td>\n",
       "                        <td id=\"T_321dd_row7_col4\" class=\"data row7 col4\" >0.060000</td>\n",
       "                        <td id=\"T_321dd_row7_col5\" class=\"data row7 col5\" >0.040000</td>\n",
       "                        <td id=\"T_321dd_row7_col6\" class=\"data row7 col6\" >0.000000</td>\n",
       "                        <td id=\"T_321dd_row7_col7\" class=\"data row7 col7\" >0.010000</td>\n",
       "                        <td id=\"T_321dd_row7_col8\" class=\"data row7 col8\" >49.000000</td>\n",
       "                        <td id=\"T_321dd_row7_col9\" class=\"data row7 col9\" >6.7</td>\n",
       "                        <td id=\"T_321dd_row7_col10\" class=\"data row7 col10\" >T</td>\n",
       "            </tr>\n",
       "            <tr>\n",
       "                        <th id=\"T_321dd_level0_row8\" class=\"row_heading level0 row8\" >12163</th>\n",
       "                        <td id=\"T_321dd_row8_col0\" class=\"data row8 col0\" >Titanic Mystery</td>\n",
       "                        <td id=\"T_321dd_row8_col1\" class=\"data row8 col1\" >DS</td>\n",
       "                        <td id=\"T_321dd_row8_col2\" class=\"data row8 col2\" >2010.000000</td>\n",
       "                        <td id=\"T_321dd_row8_col3\" class=\"data row8 col3\" >Puzzle</td>\n",
       "                        <td id=\"T_321dd_row8_col4\" class=\"data row8 col4\" >0.050000</td>\n",
       "                        <td id=\"T_321dd_row8_col5\" class=\"data row8 col5\" >0.010000</td>\n",
       "                        <td id=\"T_321dd_row8_col6\" class=\"data row8 col6\" >0.000000</td>\n",
       "                        <td id=\"T_321dd_row8_col7\" class=\"data row8 col7\" >0.010000</td>\n",
       "                        <td id=\"T_321dd_row8_col8\" class=\"data row8 col8\" >nan</td>\n",
       "                        <td id=\"T_321dd_row8_col9\" class=\"data row8 col9\" >tbd</td>\n",
       "                        <td id=\"T_321dd_row8_col10\" class=\"data row8 col10\" >T</td>\n",
       "            </tr>\n",
       "            <tr>\n",
       "                        <th id=\"T_321dd_level0_row9\" class=\"row_heading level0 row9\" >1090</th>\n",
       "                        <td id=\"T_321dd_row9_col0\" class=\"data row9 col0\" >PGR: Project Gotham Racing 2</td>\n",
       "                        <td id=\"T_321dd_row9_col1\" class=\"data row9 col1\" >XB</td>\n",
       "                        <td id=\"T_321dd_row9_col2\" class=\"data row9 col2\" >2003.000000</td>\n",
       "                        <td id=\"T_321dd_row9_col3\" class=\"data row9 col3\" >Racing</td>\n",
       "                        <td id=\"T_321dd_row9_col4\" class=\"data row9 col4\" >0.970000</td>\n",
       "                        <td id=\"T_321dd_row9_col5\" class=\"data row9 col5\" >0.590000</td>\n",
       "                        <td id=\"T_321dd_row9_col6\" class=\"data row9 col6\" >0.040000</td>\n",
       "                        <td id=\"T_321dd_row9_col7\" class=\"data row9 col7\" >0.070000</td>\n",
       "                        <td id=\"T_321dd_row9_col8\" class=\"data row9 col8\" >nan</td>\n",
       "                        <td id=\"T_321dd_row9_col9\" class=\"data row9 col9\" >nan</td>\n",
       "                        <td id=\"T_321dd_row9_col10\" class=\"data row9 col10\" >nan</td>\n",
       "            </tr>\n",
       "            <tr>\n",
       "                        <th id=\"T_321dd_level0_row10\" class=\"row_heading level0 row10\" >8272</th>\n",
       "                        <td id=\"T_321dd_row10_col0\" class=\"data row10 col0\" >X-Men: The Official Game</td>\n",
       "                        <td id=\"T_321dd_row10_col1\" class=\"data row10 col1\" >X360</td>\n",
       "                        <td id=\"T_321dd_row10_col2\" class=\"data row10 col2\" >2006.000000</td>\n",
       "                        <td id=\"T_321dd_row10_col3\" class=\"data row10 col3\" >Action</td>\n",
       "                        <td id=\"T_321dd_row10_col4\" class=\"data row10 col4\" >0.160000</td>\n",
       "                        <td id=\"T_321dd_row10_col5\" class=\"data row10 col5\" >0.000000</td>\n",
       "                        <td id=\"T_321dd_row10_col6\" class=\"data row10 col6\" >0.000000</td>\n",
       "                        <td id=\"T_321dd_row10_col7\" class=\"data row10 col7\" >0.010000</td>\n",
       "                        <td id=\"T_321dd_row10_col8\" class=\"data row10 col8\" >52.000000</td>\n",
       "                        <td id=\"T_321dd_row10_col9\" class=\"data row10 col9\" >6.1</td>\n",
       "                        <td id=\"T_321dd_row10_col10\" class=\"data row10 col10\" >T</td>\n",
       "            </tr>\n",
       "            <tr>\n",
       "                        <th id=\"T_321dd_level0_row11\" class=\"row_heading level0 row11\" >3894</th>\n",
       "                        <td id=\"T_321dd_row11_col0\" class=\"data row11 col0\" >DC Universe Online</td>\n",
       "                        <td id=\"T_321dd_row11_col1\" class=\"data row11 col1\" >PS3</td>\n",
       "                        <td id=\"T_321dd_row11_col2\" class=\"data row11 col2\" >2011.000000</td>\n",
       "                        <td id=\"T_321dd_row11_col3\" class=\"data row11 col3\" >Role-Playing</td>\n",
       "                        <td id=\"T_321dd_row11_col4\" class=\"data row11 col4\" >0.350000</td>\n",
       "                        <td id=\"T_321dd_row11_col5\" class=\"data row11 col5\" >0.110000</td>\n",
       "                        <td id=\"T_321dd_row11_col6\" class=\"data row11 col6\" >0.000000</td>\n",
       "                        <td id=\"T_321dd_row11_col7\" class=\"data row11 col7\" >0.060000</td>\n",
       "                        <td id=\"T_321dd_row11_col8\" class=\"data row11 col8\" >67.000000</td>\n",
       "                        <td id=\"T_321dd_row11_col9\" class=\"data row11 col9\" >7.4</td>\n",
       "                        <td id=\"T_321dd_row11_col10\" class=\"data row11 col10\" >T</td>\n",
       "            </tr>\n",
       "            <tr>\n",
       "                        <th id=\"T_321dd_level0_row12\" class=\"row_heading level0 row12\" >6236</th>\n",
       "                        <td id=\"T_321dd_row12_col0\" class=\"data row12 col0\" >Shin Megami Tensei: Strange Journey</td>\n",
       "                        <td id=\"T_321dd_row12_col1\" class=\"data row12 col1\" >DS</td>\n",
       "                        <td id=\"T_321dd_row12_col2\" class=\"data row12 col2\" >2009.000000</td>\n",
       "                        <td id=\"T_321dd_row12_col3\" class=\"data row12 col3\" >Role-Playing</td>\n",
       "                        <td id=\"T_321dd_row12_col4\" class=\"data row12 col4\" >0.130000</td>\n",
       "                        <td id=\"T_321dd_row12_col5\" class=\"data row12 col5\" >0.000000</td>\n",
       "                        <td id=\"T_321dd_row12_col6\" class=\"data row12 col6\" >0.140000</td>\n",
       "                        <td id=\"T_321dd_row12_col7\" class=\"data row12 col7\" >0.010000</td>\n",
       "                        <td id=\"T_321dd_row12_col8\" class=\"data row12 col8\" >80.000000</td>\n",
       "                        <td id=\"T_321dd_row12_col9\" class=\"data row12 col9\" >8.7</td>\n",
       "                        <td id=\"T_321dd_row12_col10\" class=\"data row12 col10\" >M</td>\n",
       "            </tr>\n",
       "            <tr>\n",
       "                        <th id=\"T_321dd_level0_row13\" class=\"row_heading level0 row13\" >7887</th>\n",
       "                        <td id=\"T_321dd_row13_col0\" class=\"data row13 col0\" >Gallop Racer</td>\n",
       "                        <td id=\"T_321dd_row13_col1\" class=\"data row13 col1\" >PS</td>\n",
       "                        <td id=\"T_321dd_row13_col2\" class=\"data row13 col2\" >1999.000000</td>\n",
       "                        <td id=\"T_321dd_row13_col3\" class=\"data row13 col3\" >Sports</td>\n",
       "                        <td id=\"T_321dd_row13_col4\" class=\"data row13 col4\" >0.000000</td>\n",
       "                        <td id=\"T_321dd_row13_col5\" class=\"data row13 col5\" >0.000000</td>\n",
       "                        <td id=\"T_321dd_row13_col6\" class=\"data row13 col6\" >0.180000</td>\n",
       "                        <td id=\"T_321dd_row13_col7\" class=\"data row13 col7\" >0.010000</td>\n",
       "                        <td id=\"T_321dd_row13_col8\" class=\"data row13 col8\" >nan</td>\n",
       "                        <td id=\"T_321dd_row13_col9\" class=\"data row13 col9\" >nan</td>\n",
       "                        <td id=\"T_321dd_row13_col10\" class=\"data row13 col10\" >nan</td>\n",
       "            </tr>\n",
       "            <tr>\n",
       "                        <th id=\"T_321dd_level0_row14\" class=\"row_heading level0 row14\" >14100</th>\n",
       "                        <td id=\"T_321dd_row14_col0\" class=\"data row14 col0\" >Deception III: Dark Delusion</td>\n",
       "                        <td id=\"T_321dd_row14_col1\" class=\"data row14 col1\" >PS</td>\n",
       "                        <td id=\"T_321dd_row14_col2\" class=\"data row14 col2\" >1999.000000</td>\n",
       "                        <td id=\"T_321dd_row14_col3\" class=\"data row14 col3\" >Role-Playing</td>\n",
       "                        <td id=\"T_321dd_row14_col4\" class=\"data row14 col4\" >0.020000</td>\n",
       "                        <td id=\"T_321dd_row14_col5\" class=\"data row14 col5\" >0.010000</td>\n",
       "                        <td id=\"T_321dd_row14_col6\" class=\"data row14 col6\" >0.000000</td>\n",
       "                        <td id=\"T_321dd_row14_col7\" class=\"data row14 col7\" >0.000000</td>\n",
       "                        <td id=\"T_321dd_row14_col8\" class=\"data row14 col8\" >nan</td>\n",
       "                        <td id=\"T_321dd_row14_col9\" class=\"data row14 col9\" >nan</td>\n",
       "                        <td id=\"T_321dd_row14_col10\" class=\"data row14 col10\" >nan</td>\n",
       "            </tr>\n",
       "    </tbody></table>   <style  type=\"text/css\" >\n",
       "</style><table id=\"T_f532c_\" style='display:inline'><caption>Последние 15 строк</caption><thead>    <tr>        <th class=\"blank level0\" ></th>        <th class=\"col_heading level0 col0\" >Name</th>        <th class=\"col_heading level0 col1\" >Platform</th>        <th class=\"col_heading level0 col2\" >Year_of_Release</th>        <th class=\"col_heading level0 col3\" >Genre</th>        <th class=\"col_heading level0 col4\" >NA_sales</th>        <th class=\"col_heading level0 col5\" >EU_sales</th>        <th class=\"col_heading level0 col6\" >JP_sales</th>        <th class=\"col_heading level0 col7\" >Other_sales</th>        <th class=\"col_heading level0 col8\" >Critic_Score</th>        <th class=\"col_heading level0 col9\" >User_Score</th>        <th class=\"col_heading level0 col10\" >Rating</th>    </tr></thead><tbody>\n",
       "                <tr>\n",
       "                        <th id=\"T_f532c_level0_row0\" class=\"row_heading level0 row0\" >16700</th>\n",
       "                        <td id=\"T_f532c_row0_col0\" class=\"data row0 col0\" >Mezase!! Tsuri Master DS</td>\n",
       "                        <td id=\"T_f532c_row0_col1\" class=\"data row0 col1\" >DS</td>\n",
       "                        <td id=\"T_f532c_row0_col2\" class=\"data row0 col2\" >2009.000000</td>\n",
       "                        <td id=\"T_f532c_row0_col3\" class=\"data row0 col3\" >Sports</td>\n",
       "                        <td id=\"T_f532c_row0_col4\" class=\"data row0 col4\" >0.000000</td>\n",
       "                        <td id=\"T_f532c_row0_col5\" class=\"data row0 col5\" >0.000000</td>\n",
       "                        <td id=\"T_f532c_row0_col6\" class=\"data row0 col6\" >0.010000</td>\n",
       "                        <td id=\"T_f532c_row0_col7\" class=\"data row0 col7\" >0.000000</td>\n",
       "                        <td id=\"T_f532c_row0_col8\" class=\"data row0 col8\" >nan</td>\n",
       "                        <td id=\"T_f532c_row0_col9\" class=\"data row0 col9\" >nan</td>\n",
       "                        <td id=\"T_f532c_row0_col10\" class=\"data row0 col10\" >nan</td>\n",
       "            </tr>\n",
       "            <tr>\n",
       "                        <th id=\"T_f532c_level0_row1\" class=\"row_heading level0 row1\" >16701</th>\n",
       "                        <td id=\"T_f532c_row1_col0\" class=\"data row1 col0\" >Eiyuu Densetsu: Sora no Kiseki Material Collection Portable</td>\n",
       "                        <td id=\"T_f532c_row1_col1\" class=\"data row1 col1\" >PSP</td>\n",
       "                        <td id=\"T_f532c_row1_col2\" class=\"data row1 col2\" >2007.000000</td>\n",
       "                        <td id=\"T_f532c_row1_col3\" class=\"data row1 col3\" >Role-Playing</td>\n",
       "                        <td id=\"T_f532c_row1_col4\" class=\"data row1 col4\" >0.000000</td>\n",
       "                        <td id=\"T_f532c_row1_col5\" class=\"data row1 col5\" >0.000000</td>\n",
       "                        <td id=\"T_f532c_row1_col6\" class=\"data row1 col6\" >0.010000</td>\n",
       "                        <td id=\"T_f532c_row1_col7\" class=\"data row1 col7\" >0.000000</td>\n",
       "                        <td id=\"T_f532c_row1_col8\" class=\"data row1 col8\" >nan</td>\n",
       "                        <td id=\"T_f532c_row1_col9\" class=\"data row1 col9\" >nan</td>\n",
       "                        <td id=\"T_f532c_row1_col10\" class=\"data row1 col10\" >nan</td>\n",
       "            </tr>\n",
       "            <tr>\n",
       "                        <th id=\"T_f532c_level0_row2\" class=\"row_heading level0 row2\" >16702</th>\n",
       "                        <td id=\"T_f532c_row2_col0\" class=\"data row2 col0\" >STORM: Frontline Nation</td>\n",
       "                        <td id=\"T_f532c_row2_col1\" class=\"data row2 col1\" >PC</td>\n",
       "                        <td id=\"T_f532c_row2_col2\" class=\"data row2 col2\" >2011.000000</td>\n",
       "                        <td id=\"T_f532c_row2_col3\" class=\"data row2 col3\" >Strategy</td>\n",
       "                        <td id=\"T_f532c_row2_col4\" class=\"data row2 col4\" >0.000000</td>\n",
       "                        <td id=\"T_f532c_row2_col5\" class=\"data row2 col5\" >0.010000</td>\n",
       "                        <td id=\"T_f532c_row2_col6\" class=\"data row2 col6\" >0.000000</td>\n",
       "                        <td id=\"T_f532c_row2_col7\" class=\"data row2 col7\" >0.000000</td>\n",
       "                        <td id=\"T_f532c_row2_col8\" class=\"data row2 col8\" >60.000000</td>\n",
       "                        <td id=\"T_f532c_row2_col9\" class=\"data row2 col9\" >7.2</td>\n",
       "                        <td id=\"T_f532c_row2_col10\" class=\"data row2 col10\" >E10+</td>\n",
       "            </tr>\n",
       "            <tr>\n",
       "                        <th id=\"T_f532c_level0_row3\" class=\"row_heading level0 row3\" >16703</th>\n",
       "                        <td id=\"T_f532c_row3_col0\" class=\"data row3 col0\" >Strawberry Nauts</td>\n",
       "                        <td id=\"T_f532c_row3_col1\" class=\"data row3 col1\" >PSV</td>\n",
       "                        <td id=\"T_f532c_row3_col2\" class=\"data row3 col2\" >2016.000000</td>\n",
       "                        <td id=\"T_f532c_row3_col3\" class=\"data row3 col3\" >Adventure</td>\n",
       "                        <td id=\"T_f532c_row3_col4\" class=\"data row3 col4\" >0.000000</td>\n",
       "                        <td id=\"T_f532c_row3_col5\" class=\"data row3 col5\" >0.000000</td>\n",
       "                        <td id=\"T_f532c_row3_col6\" class=\"data row3 col6\" >0.010000</td>\n",
       "                        <td id=\"T_f532c_row3_col7\" class=\"data row3 col7\" >0.000000</td>\n",
       "                        <td id=\"T_f532c_row3_col8\" class=\"data row3 col8\" >nan</td>\n",
       "                        <td id=\"T_f532c_row3_col9\" class=\"data row3 col9\" >nan</td>\n",
       "                        <td id=\"T_f532c_row3_col10\" class=\"data row3 col10\" >nan</td>\n",
       "            </tr>\n",
       "            <tr>\n",
       "                        <th id=\"T_f532c_level0_row4\" class=\"row_heading level0 row4\" >16704</th>\n",
       "                        <td id=\"T_f532c_row4_col0\" class=\"data row4 col0\" >Plushees</td>\n",
       "                        <td id=\"T_f532c_row4_col1\" class=\"data row4 col1\" >DS</td>\n",
       "                        <td id=\"T_f532c_row4_col2\" class=\"data row4 col2\" >2008.000000</td>\n",
       "                        <td id=\"T_f532c_row4_col3\" class=\"data row4 col3\" >Simulation</td>\n",
       "                        <td id=\"T_f532c_row4_col4\" class=\"data row4 col4\" >0.010000</td>\n",
       "                        <td id=\"T_f532c_row4_col5\" class=\"data row4 col5\" >0.000000</td>\n",
       "                        <td id=\"T_f532c_row4_col6\" class=\"data row4 col6\" >0.000000</td>\n",
       "                        <td id=\"T_f532c_row4_col7\" class=\"data row4 col7\" >0.000000</td>\n",
       "                        <td id=\"T_f532c_row4_col8\" class=\"data row4 col8\" >nan</td>\n",
       "                        <td id=\"T_f532c_row4_col9\" class=\"data row4 col9\" >tbd</td>\n",
       "                        <td id=\"T_f532c_row4_col10\" class=\"data row4 col10\" >E</td>\n",
       "            </tr>\n",
       "            <tr>\n",
       "                        <th id=\"T_f532c_level0_row5\" class=\"row_heading level0 row5\" >16705</th>\n",
       "                        <td id=\"T_f532c_row5_col0\" class=\"data row5 col0\" >15 Days</td>\n",
       "                        <td id=\"T_f532c_row5_col1\" class=\"data row5 col1\" >PC</td>\n",
       "                        <td id=\"T_f532c_row5_col2\" class=\"data row5 col2\" >2009.000000</td>\n",
       "                        <td id=\"T_f532c_row5_col3\" class=\"data row5 col3\" >Adventure</td>\n",
       "                        <td id=\"T_f532c_row5_col4\" class=\"data row5 col4\" >0.000000</td>\n",
       "                        <td id=\"T_f532c_row5_col5\" class=\"data row5 col5\" >0.010000</td>\n",
       "                        <td id=\"T_f532c_row5_col6\" class=\"data row5 col6\" >0.000000</td>\n",
       "                        <td id=\"T_f532c_row5_col7\" class=\"data row5 col7\" >0.000000</td>\n",
       "                        <td id=\"T_f532c_row5_col8\" class=\"data row5 col8\" >63.000000</td>\n",
       "                        <td id=\"T_f532c_row5_col9\" class=\"data row5 col9\" >5.8</td>\n",
       "                        <td id=\"T_f532c_row5_col10\" class=\"data row5 col10\" >nan</td>\n",
       "            </tr>\n",
       "            <tr>\n",
       "                        <th id=\"T_f532c_level0_row6\" class=\"row_heading level0 row6\" >16706</th>\n",
       "                        <td id=\"T_f532c_row6_col0\" class=\"data row6 col0\" >Men in Black II: Alien Escape</td>\n",
       "                        <td id=\"T_f532c_row6_col1\" class=\"data row6 col1\" >GC</td>\n",
       "                        <td id=\"T_f532c_row6_col2\" class=\"data row6 col2\" >2003.000000</td>\n",
       "                        <td id=\"T_f532c_row6_col3\" class=\"data row6 col3\" >Shooter</td>\n",
       "                        <td id=\"T_f532c_row6_col4\" class=\"data row6 col4\" >0.010000</td>\n",
       "                        <td id=\"T_f532c_row6_col5\" class=\"data row6 col5\" >0.000000</td>\n",
       "                        <td id=\"T_f532c_row6_col6\" class=\"data row6 col6\" >0.000000</td>\n",
       "                        <td id=\"T_f532c_row6_col7\" class=\"data row6 col7\" >0.000000</td>\n",
       "                        <td id=\"T_f532c_row6_col8\" class=\"data row6 col8\" >nan</td>\n",
       "                        <td id=\"T_f532c_row6_col9\" class=\"data row6 col9\" >tbd</td>\n",
       "                        <td id=\"T_f532c_row6_col10\" class=\"data row6 col10\" >T</td>\n",
       "            </tr>\n",
       "            <tr>\n",
       "                        <th id=\"T_f532c_level0_row7\" class=\"row_heading level0 row7\" >16707</th>\n",
       "                        <td id=\"T_f532c_row7_col0\" class=\"data row7 col0\" >Aiyoku no Eustia</td>\n",
       "                        <td id=\"T_f532c_row7_col1\" class=\"data row7 col1\" >PSV</td>\n",
       "                        <td id=\"T_f532c_row7_col2\" class=\"data row7 col2\" >2014.000000</td>\n",
       "                        <td id=\"T_f532c_row7_col3\" class=\"data row7 col3\" >Misc</td>\n",
       "                        <td id=\"T_f532c_row7_col4\" class=\"data row7 col4\" >0.000000</td>\n",
       "                        <td id=\"T_f532c_row7_col5\" class=\"data row7 col5\" >0.000000</td>\n",
       "                        <td id=\"T_f532c_row7_col6\" class=\"data row7 col6\" >0.010000</td>\n",
       "                        <td id=\"T_f532c_row7_col7\" class=\"data row7 col7\" >0.000000</td>\n",
       "                        <td id=\"T_f532c_row7_col8\" class=\"data row7 col8\" >nan</td>\n",
       "                        <td id=\"T_f532c_row7_col9\" class=\"data row7 col9\" >nan</td>\n",
       "                        <td id=\"T_f532c_row7_col10\" class=\"data row7 col10\" >nan</td>\n",
       "            </tr>\n",
       "            <tr>\n",
       "                        <th id=\"T_f532c_level0_row8\" class=\"row_heading level0 row8\" >16708</th>\n",
       "                        <td id=\"T_f532c_row8_col0\" class=\"data row8 col0\" >Woody Woodpecker in Crazy Castle 5</td>\n",
       "                        <td id=\"T_f532c_row8_col1\" class=\"data row8 col1\" >GBA</td>\n",
       "                        <td id=\"T_f532c_row8_col2\" class=\"data row8 col2\" >2002.000000</td>\n",
       "                        <td id=\"T_f532c_row8_col3\" class=\"data row8 col3\" >Platform</td>\n",
       "                        <td id=\"T_f532c_row8_col4\" class=\"data row8 col4\" >0.010000</td>\n",
       "                        <td id=\"T_f532c_row8_col5\" class=\"data row8 col5\" >0.000000</td>\n",
       "                        <td id=\"T_f532c_row8_col6\" class=\"data row8 col6\" >0.000000</td>\n",
       "                        <td id=\"T_f532c_row8_col7\" class=\"data row8 col7\" >0.000000</td>\n",
       "                        <td id=\"T_f532c_row8_col8\" class=\"data row8 col8\" >nan</td>\n",
       "                        <td id=\"T_f532c_row8_col9\" class=\"data row8 col9\" >nan</td>\n",
       "                        <td id=\"T_f532c_row8_col10\" class=\"data row8 col10\" >nan</td>\n",
       "            </tr>\n",
       "            <tr>\n",
       "                        <th id=\"T_f532c_level0_row9\" class=\"row_heading level0 row9\" >16709</th>\n",
       "                        <td id=\"T_f532c_row9_col0\" class=\"data row9 col0\" >SCORE International Baja 1000: The Official Game</td>\n",
       "                        <td id=\"T_f532c_row9_col1\" class=\"data row9 col1\" >PS2</td>\n",
       "                        <td id=\"T_f532c_row9_col2\" class=\"data row9 col2\" >2008.000000</td>\n",
       "                        <td id=\"T_f532c_row9_col3\" class=\"data row9 col3\" >Racing</td>\n",
       "                        <td id=\"T_f532c_row9_col4\" class=\"data row9 col4\" >0.000000</td>\n",
       "                        <td id=\"T_f532c_row9_col5\" class=\"data row9 col5\" >0.000000</td>\n",
       "                        <td id=\"T_f532c_row9_col6\" class=\"data row9 col6\" >0.000000</td>\n",
       "                        <td id=\"T_f532c_row9_col7\" class=\"data row9 col7\" >0.000000</td>\n",
       "                        <td id=\"T_f532c_row9_col8\" class=\"data row9 col8\" >nan</td>\n",
       "                        <td id=\"T_f532c_row9_col9\" class=\"data row9 col9\" >nan</td>\n",
       "                        <td id=\"T_f532c_row9_col10\" class=\"data row9 col10\" >nan</td>\n",
       "            </tr>\n",
       "            <tr>\n",
       "                        <th id=\"T_f532c_level0_row10\" class=\"row_heading level0 row10\" >16710</th>\n",
       "                        <td id=\"T_f532c_row10_col0\" class=\"data row10 col0\" >Samurai Warriors: Sanada Maru</td>\n",
       "                        <td id=\"T_f532c_row10_col1\" class=\"data row10 col1\" >PS3</td>\n",
       "                        <td id=\"T_f532c_row10_col2\" class=\"data row10 col2\" >2016.000000</td>\n",
       "                        <td id=\"T_f532c_row10_col3\" class=\"data row10 col3\" >Action</td>\n",
       "                        <td id=\"T_f532c_row10_col4\" class=\"data row10 col4\" >0.000000</td>\n",
       "                        <td id=\"T_f532c_row10_col5\" class=\"data row10 col5\" >0.000000</td>\n",
       "                        <td id=\"T_f532c_row10_col6\" class=\"data row10 col6\" >0.010000</td>\n",
       "                        <td id=\"T_f532c_row10_col7\" class=\"data row10 col7\" >0.000000</td>\n",
       "                        <td id=\"T_f532c_row10_col8\" class=\"data row10 col8\" >nan</td>\n",
       "                        <td id=\"T_f532c_row10_col9\" class=\"data row10 col9\" >nan</td>\n",
       "                        <td id=\"T_f532c_row10_col10\" class=\"data row10 col10\" >nan</td>\n",
       "            </tr>\n",
       "            <tr>\n",
       "                        <th id=\"T_f532c_level0_row11\" class=\"row_heading level0 row11\" >16711</th>\n",
       "                        <td id=\"T_f532c_row11_col0\" class=\"data row11 col0\" >LMA Manager 2007</td>\n",
       "                        <td id=\"T_f532c_row11_col1\" class=\"data row11 col1\" >X360</td>\n",
       "                        <td id=\"T_f532c_row11_col2\" class=\"data row11 col2\" >2006.000000</td>\n",
       "                        <td id=\"T_f532c_row11_col3\" class=\"data row11 col3\" >Sports</td>\n",
       "                        <td id=\"T_f532c_row11_col4\" class=\"data row11 col4\" >0.000000</td>\n",
       "                        <td id=\"T_f532c_row11_col5\" class=\"data row11 col5\" >0.010000</td>\n",
       "                        <td id=\"T_f532c_row11_col6\" class=\"data row11 col6\" >0.000000</td>\n",
       "                        <td id=\"T_f532c_row11_col7\" class=\"data row11 col7\" >0.000000</td>\n",
       "                        <td id=\"T_f532c_row11_col8\" class=\"data row11 col8\" >nan</td>\n",
       "                        <td id=\"T_f532c_row11_col9\" class=\"data row11 col9\" >nan</td>\n",
       "                        <td id=\"T_f532c_row11_col10\" class=\"data row11 col10\" >nan</td>\n",
       "            </tr>\n",
       "            <tr>\n",
       "                        <th id=\"T_f532c_level0_row12\" class=\"row_heading level0 row12\" >16712</th>\n",
       "                        <td id=\"T_f532c_row12_col0\" class=\"data row12 col0\" >Haitaka no Psychedelica</td>\n",
       "                        <td id=\"T_f532c_row12_col1\" class=\"data row12 col1\" >PSV</td>\n",
       "                        <td id=\"T_f532c_row12_col2\" class=\"data row12 col2\" >2016.000000</td>\n",
       "                        <td id=\"T_f532c_row12_col3\" class=\"data row12 col3\" >Adventure</td>\n",
       "                        <td id=\"T_f532c_row12_col4\" class=\"data row12 col4\" >0.000000</td>\n",
       "                        <td id=\"T_f532c_row12_col5\" class=\"data row12 col5\" >0.000000</td>\n",
       "                        <td id=\"T_f532c_row12_col6\" class=\"data row12 col6\" >0.010000</td>\n",
       "                        <td id=\"T_f532c_row12_col7\" class=\"data row12 col7\" >0.000000</td>\n",
       "                        <td id=\"T_f532c_row12_col8\" class=\"data row12 col8\" >nan</td>\n",
       "                        <td id=\"T_f532c_row12_col9\" class=\"data row12 col9\" >nan</td>\n",
       "                        <td id=\"T_f532c_row12_col10\" class=\"data row12 col10\" >nan</td>\n",
       "            </tr>\n",
       "            <tr>\n",
       "                        <th id=\"T_f532c_level0_row13\" class=\"row_heading level0 row13\" >16713</th>\n",
       "                        <td id=\"T_f532c_row13_col0\" class=\"data row13 col0\" >Spirits & Spells</td>\n",
       "                        <td id=\"T_f532c_row13_col1\" class=\"data row13 col1\" >GBA</td>\n",
       "                        <td id=\"T_f532c_row13_col2\" class=\"data row13 col2\" >2003.000000</td>\n",
       "                        <td id=\"T_f532c_row13_col3\" class=\"data row13 col3\" >Platform</td>\n",
       "                        <td id=\"T_f532c_row13_col4\" class=\"data row13 col4\" >0.010000</td>\n",
       "                        <td id=\"T_f532c_row13_col5\" class=\"data row13 col5\" >0.000000</td>\n",
       "                        <td id=\"T_f532c_row13_col6\" class=\"data row13 col6\" >0.000000</td>\n",
       "                        <td id=\"T_f532c_row13_col7\" class=\"data row13 col7\" >0.000000</td>\n",
       "                        <td id=\"T_f532c_row13_col8\" class=\"data row13 col8\" >nan</td>\n",
       "                        <td id=\"T_f532c_row13_col9\" class=\"data row13 col9\" >nan</td>\n",
       "                        <td id=\"T_f532c_row13_col10\" class=\"data row13 col10\" >nan</td>\n",
       "            </tr>\n",
       "            <tr>\n",
       "                        <th id=\"T_f532c_level0_row14\" class=\"row_heading level0 row14\" >16714</th>\n",
       "                        <td id=\"T_f532c_row14_col0\" class=\"data row14 col0\" >Winning Post 8 2016</td>\n",
       "                        <td id=\"T_f532c_row14_col1\" class=\"data row14 col1\" >PSV</td>\n",
       "                        <td id=\"T_f532c_row14_col2\" class=\"data row14 col2\" >2016.000000</td>\n",
       "                        <td id=\"T_f532c_row14_col3\" class=\"data row14 col3\" >Simulation</td>\n",
       "                        <td id=\"T_f532c_row14_col4\" class=\"data row14 col4\" >0.000000</td>\n",
       "                        <td id=\"T_f532c_row14_col5\" class=\"data row14 col5\" >0.000000</td>\n",
       "                        <td id=\"T_f532c_row14_col6\" class=\"data row14 col6\" >0.010000</td>\n",
       "                        <td id=\"T_f532c_row14_col7\" class=\"data row14 col7\" >0.000000</td>\n",
       "                        <td id=\"T_f532c_row14_col8\" class=\"data row14 col8\" >nan</td>\n",
       "                        <td id=\"T_f532c_row14_col9\" class=\"data row14 col9\" >nan</td>\n",
       "                        <td id=\"T_f532c_row14_col10\" class=\"data row14 col10\" >nan</td>\n",
       "            </tr>\n",
       "    </tbody></table>   <style  type=\"text/css\" >\n",
       "</style><table id=\"T_d5ca0_\" style='display:inline'><caption>Статистическая информация</caption><thead>    <tr>        <th class=\"blank level0\" ></th>        <th class=\"col_heading level0 col0\" >Year_of_Release</th>        <th class=\"col_heading level0 col1\" >NA_sales</th>        <th class=\"col_heading level0 col2\" >EU_sales</th>        <th class=\"col_heading level0 col3\" >JP_sales</th>        <th class=\"col_heading level0 col4\" >Other_sales</th>        <th class=\"col_heading level0 col5\" >Critic_Score</th>    </tr></thead><tbody>\n",
       "                <tr>\n",
       "                        <th id=\"T_d5ca0_level0_row0\" class=\"row_heading level0 row0\" >count</th>\n",
       "                        <td id=\"T_d5ca0_row0_col0\" class=\"data row0 col0\" >16446.000000</td>\n",
       "                        <td id=\"T_d5ca0_row0_col1\" class=\"data row0 col1\" >16715.000000</td>\n",
       "                        <td id=\"T_d5ca0_row0_col2\" class=\"data row0 col2\" >16715.000000</td>\n",
       "                        <td id=\"T_d5ca0_row0_col3\" class=\"data row0 col3\" >16715.000000</td>\n",
       "                        <td id=\"T_d5ca0_row0_col4\" class=\"data row0 col4\" >16715.000000</td>\n",
       "                        <td id=\"T_d5ca0_row0_col5\" class=\"data row0 col5\" >8137.000000</td>\n",
       "            </tr>\n",
       "            <tr>\n",
       "                        <th id=\"T_d5ca0_level0_row1\" class=\"row_heading level0 row1\" >mean</th>\n",
       "                        <td id=\"T_d5ca0_row1_col0\" class=\"data row1 col0\" >2006.484616</td>\n",
       "                        <td id=\"T_d5ca0_row1_col1\" class=\"data row1 col1\" >0.263377</td>\n",
       "                        <td id=\"T_d5ca0_row1_col2\" class=\"data row1 col2\" >0.145060</td>\n",
       "                        <td id=\"T_d5ca0_row1_col3\" class=\"data row1 col3\" >0.077617</td>\n",
       "                        <td id=\"T_d5ca0_row1_col4\" class=\"data row1 col4\" >0.047342</td>\n",
       "                        <td id=\"T_d5ca0_row1_col5\" class=\"data row1 col5\" >68.967679</td>\n",
       "            </tr>\n",
       "            <tr>\n",
       "                        <th id=\"T_d5ca0_level0_row2\" class=\"row_heading level0 row2\" >std</th>\n",
       "                        <td id=\"T_d5ca0_row2_col0\" class=\"data row2 col0\" >5.877050</td>\n",
       "                        <td id=\"T_d5ca0_row2_col1\" class=\"data row2 col1\" >0.813604</td>\n",
       "                        <td id=\"T_d5ca0_row2_col2\" class=\"data row2 col2\" >0.503339</td>\n",
       "                        <td id=\"T_d5ca0_row2_col3\" class=\"data row2 col3\" >0.308853</td>\n",
       "                        <td id=\"T_d5ca0_row2_col4\" class=\"data row2 col4\" >0.186731</td>\n",
       "                        <td id=\"T_d5ca0_row2_col5\" class=\"data row2 col5\" >13.938165</td>\n",
       "            </tr>\n",
       "            <tr>\n",
       "                        <th id=\"T_d5ca0_level0_row3\" class=\"row_heading level0 row3\" >min</th>\n",
       "                        <td id=\"T_d5ca0_row3_col0\" class=\"data row3 col0\" >1980.000000</td>\n",
       "                        <td id=\"T_d5ca0_row3_col1\" class=\"data row3 col1\" >0.000000</td>\n",
       "                        <td id=\"T_d5ca0_row3_col2\" class=\"data row3 col2\" >0.000000</td>\n",
       "                        <td id=\"T_d5ca0_row3_col3\" class=\"data row3 col3\" >0.000000</td>\n",
       "                        <td id=\"T_d5ca0_row3_col4\" class=\"data row3 col4\" >0.000000</td>\n",
       "                        <td id=\"T_d5ca0_row3_col5\" class=\"data row3 col5\" >13.000000</td>\n",
       "            </tr>\n",
       "            <tr>\n",
       "                        <th id=\"T_d5ca0_level0_row4\" class=\"row_heading level0 row4\" >25%</th>\n",
       "                        <td id=\"T_d5ca0_row4_col0\" class=\"data row4 col0\" >2003.000000</td>\n",
       "                        <td id=\"T_d5ca0_row4_col1\" class=\"data row4 col1\" >0.000000</td>\n",
       "                        <td id=\"T_d5ca0_row4_col2\" class=\"data row4 col2\" >0.000000</td>\n",
       "                        <td id=\"T_d5ca0_row4_col3\" class=\"data row4 col3\" >0.000000</td>\n",
       "                        <td id=\"T_d5ca0_row4_col4\" class=\"data row4 col4\" >0.000000</td>\n",
       "                        <td id=\"T_d5ca0_row4_col5\" class=\"data row4 col5\" >60.000000</td>\n",
       "            </tr>\n",
       "            <tr>\n",
       "                        <th id=\"T_d5ca0_level0_row5\" class=\"row_heading level0 row5\" >50%</th>\n",
       "                        <td id=\"T_d5ca0_row5_col0\" class=\"data row5 col0\" >2007.000000</td>\n",
       "                        <td id=\"T_d5ca0_row5_col1\" class=\"data row5 col1\" >0.080000</td>\n",
       "                        <td id=\"T_d5ca0_row5_col2\" class=\"data row5 col2\" >0.020000</td>\n",
       "                        <td id=\"T_d5ca0_row5_col3\" class=\"data row5 col3\" >0.000000</td>\n",
       "                        <td id=\"T_d5ca0_row5_col4\" class=\"data row5 col4\" >0.010000</td>\n",
       "                        <td id=\"T_d5ca0_row5_col5\" class=\"data row5 col5\" >71.000000</td>\n",
       "            </tr>\n",
       "            <tr>\n",
       "                        <th id=\"T_d5ca0_level0_row6\" class=\"row_heading level0 row6\" >75%</th>\n",
       "                        <td id=\"T_d5ca0_row6_col0\" class=\"data row6 col0\" >2010.000000</td>\n",
       "                        <td id=\"T_d5ca0_row6_col1\" class=\"data row6 col1\" >0.240000</td>\n",
       "                        <td id=\"T_d5ca0_row6_col2\" class=\"data row6 col2\" >0.110000</td>\n",
       "                        <td id=\"T_d5ca0_row6_col3\" class=\"data row6 col3\" >0.040000</td>\n",
       "                        <td id=\"T_d5ca0_row6_col4\" class=\"data row6 col4\" >0.030000</td>\n",
       "                        <td id=\"T_d5ca0_row6_col5\" class=\"data row6 col5\" >79.000000</td>\n",
       "            </tr>\n",
       "            <tr>\n",
       "                        <th id=\"T_d5ca0_level0_row7\" class=\"row_heading level0 row7\" >max</th>\n",
       "                        <td id=\"T_d5ca0_row7_col0\" class=\"data row7 col0\" >2016.000000</td>\n",
       "                        <td id=\"T_d5ca0_row7_col1\" class=\"data row7 col1\" >41.360000</td>\n",
       "                        <td id=\"T_d5ca0_row7_col2\" class=\"data row7 col2\" >28.960000</td>\n",
       "                        <td id=\"T_d5ca0_row7_col3\" class=\"data row7 col3\" >10.220000</td>\n",
       "                        <td id=\"T_d5ca0_row7_col4\" class=\"data row7 col4\" >10.570000</td>\n",
       "                        <td id=\"T_d5ca0_row7_col5\" class=\"data row7 col5\" >98.000000</td>\n",
       "            </tr>\n",
       "    </tbody></table>   "
      ],
      "text/plain": [
       "<IPython.core.display.HTML object>"
      ]
     },
     "metadata": {},
     "output_type": "display_data"
    },
    {
     "name": "stdout",
     "output_type": "stream",
     "text": [
      "Общая информация, info() \n",
      "\n",
      "<class 'pandas.core.frame.DataFrame'>\n",
      "RangeIndex: 16715 entries, 0 to 16714\n",
      "Data columns (total 11 columns):\n",
      " #   Column           Non-Null Count  Dtype  \n",
      "---  ------           --------------  -----  \n",
      " 0   Name             16713 non-null  object \n",
      " 1   Platform         16715 non-null  object \n",
      " 2   Year_of_Release  16446 non-null  float64\n",
      " 3   Genre            16713 non-null  object \n",
      " 4   NA_sales         16715 non-null  float64\n",
      " 5   EU_sales         16715 non-null  float64\n",
      " 6   JP_sales         16715 non-null  float64\n",
      " 7   Other_sales      16715 non-null  float64\n",
      " 8   Critic_Score     8137 non-null   float64\n",
      " 9   User_Score       10014 non-null  object \n",
      " 10  Rating           9949 non-null   object \n",
      "dtypes: float64(6), object(5)\n",
      "memory usage: 1.4+ MB\n"
     ]
    },
    {
     "data": {
      "text/plain": [
       "None"
      ]
     },
     "metadata": {},
     "output_type": "display_data"
    },
    {
     "name": "stdout",
     "output_type": "stream",
     "text": [
      "Доля пропущенных значений\n"
     ]
    },
    {
     "data": {
      "text/plain": [
       "Critic_Score       0.513192\n",
       "Rating             0.404786\n",
       "User_Score         0.400897\n",
       "Year_of_Release    0.016093\n",
       "Name               0.000120\n",
       "Genre              0.000120\n",
       "Platform           0.000000\n",
       "NA_sales           0.000000\n",
       "EU_sales           0.000000\n",
       "JP_sales           0.000000\n",
       "Other_sales        0.000000\n",
       "dtype: float64"
      ]
     },
     "metadata": {},
     "output_type": "display_data"
    },
    {
     "name": "stdout",
     "output_type": "stream",
     "text": [
      "Строк: 16715 \n",
      "Дубликатов: 0\n",
      "\n",
      "Уникальных игр 11559 \n",
      "Платформ 31 \n",
      "Жанров 12\n"
     ]
    }
   ],
   "source": [
    "display_tables([games.head(15), games.sample(15, random_state=0), games.tail(15), games.describe()],\n",
    "               ['Первые 15 строк', 'Произвольные 15 строк', 'Последние 15 строк', 'Статистическая информация'],\n",
    "               'Смотрим на исходные данные')\n",
    "print(\"Общая информация, info()\", '\\n')\n",
    "display(games.info())\n",
    "print(\"Доля пропущенных значений\")\n",
    "display(games.isnull().mean().sort_values(ascending=False))\n",
    "print(\"Строк:\", games.shape[0], '\\n' \"Дубликатов:\", games.duplicated().sum())\n",
    "print('\\nУникальных игр', games['Name'].nunique(), '\\nПлатформ', games['Platform'].nunique(),\n",
    "      '\\nЖанров', games['Genre'].nunique())"
   ]
  },
  {
   "cell_type": "markdown",
   "metadata": {},
   "source": [
    "##### Вывод"
   ]
  },
  {
   "cell_type": "markdown",
   "metadata": {},
   "source": [
    "Для анализа доступны данные с 1980 по 2016 год включительно.  \n",
    "Уникальных игр - 11559, платформ - 31, жанров - 12. В таблице нет дублей.  \n",
    "Очень большой процент пропущенных значений, причём в полях, которые потребуются для анализа.  \n",
    "\n",
    "Каких данных не хватает для более полного анализа в рамках поставленной задачи:   \n",
    "- Данные по продажам за каждый год, так мы сможем проанализировать динамику более качественно.  \n",
    "- Информация о стоимости, сейчас мы ничего не знаем о деньгах."
   ]
  },
  {
   "cell_type": "markdown",
   "metadata": {},
   "source": [
    "#### Подготовка данных"
   ]
  },
  {
   "cell_type": "markdown",
   "metadata": {},
   "source": [
    "##### Замена регистра"
   ]
  },
  {
   "cell_type": "markdown",
   "metadata": {},
   "source": [
    "Приведём названия столбцов к нижнему регистру."
   ]
  },
  {
   "cell_type": "code",
   "execution_count": 8,
   "metadata": {},
   "outputs": [],
   "source": [
    "games.columns = games.columns.str.lower()"
   ]
  },
  {
   "cell_type": "code",
   "execution_count": 9,
   "metadata": {
    "scrolled": true
   },
   "outputs": [
    {
     "data": {
      "text/plain": [
       "Index(['name', 'platform', 'year_of_release', 'genre', 'na_sales', 'eu_sales',\n",
       "       'jp_sales', 'other_sales', 'critic_score', 'user_score', 'rating'],\n",
       "      dtype='object')"
      ]
     },
     "execution_count": 9,
     "metadata": {},
     "output_type": "execute_result"
    }
   ],
   "source": [
    "games.columns"
   ]
  },
  {
   "cell_type": "markdown",
   "metadata": {},
   "source": [
    "Проверим, есть ли дубликаты в столбцах из-за разницы в регистре.  \n",
    "Посчитаем уникальные значения со сменой регистра и без неё. "
   ]
  },
  {
   "cell_type": "code",
   "execution_count": 10,
   "metadata": {},
   "outputs": [
    {
     "name": "stdout",
     "output_type": "stream",
     "text": [
      "Столбец name\n",
      "Уникальных значений в исходных данных 11559 \n",
      "Со сменой регистра 11559 \n",
      "\n",
      "Столбец platform\n",
      "Уникальных значений в исходных данных 31 \n",
      "Со сменой регистра 31 \n",
      "\n",
      "Столбец genre\n",
      "Уникальных значений в исходных данных 12 \n",
      "Со сменой регистра 12 \n",
      "\n",
      "Столбец rating\n",
      "Уникальных значений в исходных данных 8 \n",
      "Со сменой регистра 8 \n",
      "\n"
     ]
    }
   ],
   "source": [
    "for column in ['name', 'platform', 'genre', 'rating']:\n",
    "    print('Столбец', column)\n",
    "    print('Уникальных значений в исходных данных', games[column].nunique(), '\\nСо сменой регистра',\n",
    "          games[column].str.lower().nunique(), '\\n')"
   ]
  },
  {
   "cell_type": "markdown",
   "metadata": {},
   "source": [
    "Замена регистра не требуется."
   ]
  },
  {
   "cell_type": "markdown",
   "metadata": {},
   "source": [
    "##### Обработка пропусков"
   ]
  },
  {
   "cell_type": "markdown",
   "metadata": {},
   "source": [
    "Посмотрим на долю и количество пропущенных значений."
   ]
  },
  {
   "cell_type": "code",
   "execution_count": 11,
   "metadata": {
    "scrolled": false
   },
   "outputs": [
    {
     "name": "stdout",
     "output_type": "stream",
     "text": [
      "Пропущенные значения\n"
     ]
    },
    {
     "data": {
      "text/html": [
       "<div>\n",
       "<style scoped>\n",
       "    .dataframe tbody tr th:only-of-type {\n",
       "        vertical-align: middle;\n",
       "    }\n",
       "\n",
       "    .dataframe tbody tr th {\n",
       "        vertical-align: top;\n",
       "    }\n",
       "\n",
       "    .dataframe thead th {\n",
       "        text-align: right;\n",
       "    }\n",
       "</style>\n",
       "<table border=\"1\" class=\"dataframe\">\n",
       "  <thead>\n",
       "    <tr style=\"text-align: right;\">\n",
       "      <th></th>\n",
       "      <th>Доля пропусков</th>\n",
       "      <th>Количество</th>\n",
       "    </tr>\n",
       "  </thead>\n",
       "  <tbody>\n",
       "    <tr>\n",
       "      <th>critic_score</th>\n",
       "      <td>0.513192</td>\n",
       "      <td>8578</td>\n",
       "    </tr>\n",
       "    <tr>\n",
       "      <th>rating</th>\n",
       "      <td>0.404786</td>\n",
       "      <td>6766</td>\n",
       "    </tr>\n",
       "    <tr>\n",
       "      <th>user_score</th>\n",
       "      <td>0.400897</td>\n",
       "      <td>6701</td>\n",
       "    </tr>\n",
       "    <tr>\n",
       "      <th>year_of_release</th>\n",
       "      <td>0.016093</td>\n",
       "      <td>269</td>\n",
       "    </tr>\n",
       "    <tr>\n",
       "      <th>name</th>\n",
       "      <td>0.000120</td>\n",
       "      <td>2</td>\n",
       "    </tr>\n",
       "    <tr>\n",
       "      <th>genre</th>\n",
       "      <td>0.000120</td>\n",
       "      <td>2</td>\n",
       "    </tr>\n",
       "    <tr>\n",
       "      <th>platform</th>\n",
       "      <td>0.000000</td>\n",
       "      <td>0</td>\n",
       "    </tr>\n",
       "    <tr>\n",
       "      <th>na_sales</th>\n",
       "      <td>0.000000</td>\n",
       "      <td>0</td>\n",
       "    </tr>\n",
       "    <tr>\n",
       "      <th>eu_sales</th>\n",
       "      <td>0.000000</td>\n",
       "      <td>0</td>\n",
       "    </tr>\n",
       "    <tr>\n",
       "      <th>jp_sales</th>\n",
       "      <td>0.000000</td>\n",
       "      <td>0</td>\n",
       "    </tr>\n",
       "    <tr>\n",
       "      <th>other_sales</th>\n",
       "      <td>0.000000</td>\n",
       "      <td>0</td>\n",
       "    </tr>\n",
       "  </tbody>\n",
       "</table>\n",
       "</div>"
      ],
      "text/plain": [
       "                 Доля пропусков  Количество\n",
       "critic_score           0.513192        8578\n",
       "rating                 0.404786        6766\n",
       "user_score             0.400897        6701\n",
       "year_of_release        0.016093         269\n",
       "name                   0.000120           2\n",
       "genre                  0.000120           2\n",
       "platform               0.000000           0\n",
       "na_sales               0.000000           0\n",
       "eu_sales               0.000000           0\n",
       "jp_sales               0.000000           0\n",
       "other_sales            0.000000           0"
      ]
     },
     "execution_count": 11,
     "metadata": {},
     "output_type": "execute_result"
    }
   ],
   "source": [
    "print(\"Пропущенные значения\")\n",
    "pd.concat([games.isnull().mean().to_frame(name='Доля пропусков'),\n",
    "           games.isnull().sum().to_frame(name='Количество')], axis=1).sort_values(by='Количество', ascending=False)"
   ]
  },
  {
   "cell_type": "markdown",
   "metadata": {},
   "source": [
    "Проанализируем пропуски.  \n",
    "Начнём с лёгкого - пропусков в названии игры."
   ]
  },
  {
   "cell_type": "code",
   "execution_count": 12,
   "metadata": {},
   "outputs": [
    {
     "data": {
      "text/html": [
       "<style  type=\"text/css\" >\n",
       "</style><table id=\"T_22f8d_\" style='display:inline'><caption>Пропуски в названии игры</caption><thead>    <tr>        <th class=\"blank level0\" ></th>        <th class=\"col_heading level0 col0\" >name</th>        <th class=\"col_heading level0 col1\" >platform</th>        <th class=\"col_heading level0 col2\" >year_of_release</th>        <th class=\"col_heading level0 col3\" >genre</th>        <th class=\"col_heading level0 col4\" >na_sales</th>        <th class=\"col_heading level0 col5\" >eu_sales</th>        <th class=\"col_heading level0 col6\" >jp_sales</th>        <th class=\"col_heading level0 col7\" >other_sales</th>        <th class=\"col_heading level0 col8\" >critic_score</th>        <th class=\"col_heading level0 col9\" >user_score</th>        <th class=\"col_heading level0 col10\" >rating</th>    </tr></thead><tbody>\n",
       "                <tr>\n",
       "                        <th id=\"T_22f8d_level0_row0\" class=\"row_heading level0 row0\" >659</th>\n",
       "                        <td id=\"T_22f8d_row0_col0\" class=\"data row0 col0\" >nan</td>\n",
       "                        <td id=\"T_22f8d_row0_col1\" class=\"data row0 col1\" >GEN</td>\n",
       "                        <td id=\"T_22f8d_row0_col2\" class=\"data row0 col2\" >1993.000000</td>\n",
       "                        <td id=\"T_22f8d_row0_col3\" class=\"data row0 col3\" >nan</td>\n",
       "                        <td id=\"T_22f8d_row0_col4\" class=\"data row0 col4\" >1.780000</td>\n",
       "                        <td id=\"T_22f8d_row0_col5\" class=\"data row0 col5\" >0.530000</td>\n",
       "                        <td id=\"T_22f8d_row0_col6\" class=\"data row0 col6\" >0.000000</td>\n",
       "                        <td id=\"T_22f8d_row0_col7\" class=\"data row0 col7\" >0.080000</td>\n",
       "                        <td id=\"T_22f8d_row0_col8\" class=\"data row0 col8\" >nan</td>\n",
       "                        <td id=\"T_22f8d_row0_col9\" class=\"data row0 col9\" >nan</td>\n",
       "                        <td id=\"T_22f8d_row0_col10\" class=\"data row0 col10\" >nan</td>\n",
       "            </tr>\n",
       "            <tr>\n",
       "                        <th id=\"T_22f8d_level0_row1\" class=\"row_heading level0 row1\" >14244</th>\n",
       "                        <td id=\"T_22f8d_row1_col0\" class=\"data row1 col0\" >nan</td>\n",
       "                        <td id=\"T_22f8d_row1_col1\" class=\"data row1 col1\" >GEN</td>\n",
       "                        <td id=\"T_22f8d_row1_col2\" class=\"data row1 col2\" >1993.000000</td>\n",
       "                        <td id=\"T_22f8d_row1_col3\" class=\"data row1 col3\" >nan</td>\n",
       "                        <td id=\"T_22f8d_row1_col4\" class=\"data row1 col4\" >0.000000</td>\n",
       "                        <td id=\"T_22f8d_row1_col5\" class=\"data row1 col5\" >0.000000</td>\n",
       "                        <td id=\"T_22f8d_row1_col6\" class=\"data row1 col6\" >0.030000</td>\n",
       "                        <td id=\"T_22f8d_row1_col7\" class=\"data row1 col7\" >0.000000</td>\n",
       "                        <td id=\"T_22f8d_row1_col8\" class=\"data row1 col8\" >nan</td>\n",
       "                        <td id=\"T_22f8d_row1_col9\" class=\"data row1 col9\" >nan</td>\n",
       "                        <td id=\"T_22f8d_row1_col10\" class=\"data row1 col10\" >nan</td>\n",
       "            </tr>\n",
       "    </tbody></table>   "
      ],
      "text/plain": [
       "<IPython.core.display.HTML object>"
      ]
     },
     "metadata": {},
     "output_type": "display_data"
    }
   ],
   "source": [
    "display_tables([games[games['name'].isnull()]], [\"Пропуски в названии игры\"])"
   ]
  },
  {
   "cell_type": "markdown",
   "metadata": {},
   "source": [
    "Восстанавливать данные не имеет смысла, так как игра довольно старая.  \n",
    "Поэтому удалим, заодно и избавимся от пропусков в жанре. "
   ]
  },
  {
   "cell_type": "code",
   "execution_count": 13,
   "metadata": {},
   "outputs": [],
   "source": [
    "games = games.dropna(subset=['name'])"
   ]
  },
  {
   "cell_type": "markdown",
   "metadata": {},
   "source": [
    "Теперь займемся пропусками в годе выпуска."
   ]
  },
  {
   "cell_type": "code",
   "execution_count": 14,
   "metadata": {
    "scrolled": false
   },
   "outputs": [
    {
     "name": "stdout",
     "output_type": "stream",
     "text": [
      "Пропусков в годе выпуска 269\n"
     ]
    },
    {
     "data": {
      "text/html": [
       "<style  type=\"text/css\" >\n",
       "</style><table id=\"T_90558_\" style='display:inline'><caption>Смотрим на строки с пропусками в годе выхода</caption><thead>    <tr>        <th class=\"blank level0\" ></th>        <th class=\"col_heading level0 col0\" >name</th>        <th class=\"col_heading level0 col1\" >platform</th>        <th class=\"col_heading level0 col2\" >year_of_release</th>        <th class=\"col_heading level0 col3\" >genre</th>        <th class=\"col_heading level0 col4\" >na_sales</th>        <th class=\"col_heading level0 col5\" >eu_sales</th>        <th class=\"col_heading level0 col6\" >jp_sales</th>        <th class=\"col_heading level0 col7\" >other_sales</th>        <th class=\"col_heading level0 col8\" >critic_score</th>        <th class=\"col_heading level0 col9\" >user_score</th>        <th class=\"col_heading level0 col10\" >rating</th>    </tr></thead><tbody>\n",
       "                <tr>\n",
       "                        <th id=\"T_90558_level0_row0\" class=\"row_heading level0 row0\" >15267</th>\n",
       "                        <td id=\"T_90558_row0_col0\" class=\"data row0 col0\" >Saint</td>\n",
       "                        <td id=\"T_90558_row0_col1\" class=\"data row0 col1\" >Wii</td>\n",
       "                        <td id=\"T_90558_row0_col2\" class=\"data row0 col2\" >nan</td>\n",
       "                        <td id=\"T_90558_row0_col3\" class=\"data row0 col3\" >Shooter</td>\n",
       "                        <td id=\"T_90558_row0_col4\" class=\"data row0 col4\" >0.020000</td>\n",
       "                        <td id=\"T_90558_row0_col5\" class=\"data row0 col5\" >0.000000</td>\n",
       "                        <td id=\"T_90558_row0_col6\" class=\"data row0 col6\" >0.000000</td>\n",
       "                        <td id=\"T_90558_row0_col7\" class=\"data row0 col7\" >0.000000</td>\n",
       "                        <td id=\"T_90558_row0_col8\" class=\"data row0 col8\" >nan</td>\n",
       "                        <td id=\"T_90558_row0_col9\" class=\"data row0 col9\" >tbd</td>\n",
       "                        <td id=\"T_90558_row0_col10\" class=\"data row0 col10\" >E10+</td>\n",
       "            </tr>\n",
       "            <tr>\n",
       "                        <th id=\"T_90558_level0_row1\" class=\"row_heading level0 row1\" >14769</th>\n",
       "                        <td id=\"T_90558_row1_col0\" class=\"data row1 col0\" >Super Duper Sumos</td>\n",
       "                        <td id=\"T_90558_row1_col1\" class=\"data row1 col1\" >GBA</td>\n",
       "                        <td id=\"T_90558_row1_col2\" class=\"data row1 col2\" >nan</td>\n",
       "                        <td id=\"T_90558_row1_col3\" class=\"data row1 col3\" >Action</td>\n",
       "                        <td id=\"T_90558_row1_col4\" class=\"data row1 col4\" >0.020000</td>\n",
       "                        <td id=\"T_90558_row1_col5\" class=\"data row1 col5\" >0.010000</td>\n",
       "                        <td id=\"T_90558_row1_col6\" class=\"data row1 col6\" >0.000000</td>\n",
       "                        <td id=\"T_90558_row1_col7\" class=\"data row1 col7\" >0.000000</td>\n",
       "                        <td id=\"T_90558_row1_col8\" class=\"data row1 col8\" >57.000000</td>\n",
       "                        <td id=\"T_90558_row1_col9\" class=\"data row1 col9\" >tbd</td>\n",
       "                        <td id=\"T_90558_row1_col10\" class=\"data row1 col10\" >E</td>\n",
       "            </tr>\n",
       "            <tr>\n",
       "                        <th id=\"T_90558_level0_row2\" class=\"row_heading level0 row2\" >4648</th>\n",
       "                        <td id=\"T_90558_row2_col0\" class=\"data row2 col0\" >TERA</td>\n",
       "                        <td id=\"T_90558_row2_col1\" class=\"data row2 col1\" >PC</td>\n",
       "                        <td id=\"T_90558_row2_col2\" class=\"data row2 col2\" >nan</td>\n",
       "                        <td id=\"T_90558_row2_col3\" class=\"data row2 col3\" >Role-Playing</td>\n",
       "                        <td id=\"T_90558_row2_col4\" class=\"data row2 col4\" >0.250000</td>\n",
       "                        <td id=\"T_90558_row2_col5\" class=\"data row2 col5\" >0.120000</td>\n",
       "                        <td id=\"T_90558_row2_col6\" class=\"data row2 col6\" >0.000000</td>\n",
       "                        <td id=\"T_90558_row2_col7\" class=\"data row2 col7\" >0.050000</td>\n",
       "                        <td id=\"T_90558_row2_col8\" class=\"data row2 col8\" >77.000000</td>\n",
       "                        <td id=\"T_90558_row2_col9\" class=\"data row2 col9\" >6.8</td>\n",
       "                        <td id=\"T_90558_row2_col10\" class=\"data row2 col10\" >M</td>\n",
       "            </tr>\n",
       "            <tr>\n",
       "                        <th id=\"T_90558_level0_row3\" class=\"row_heading level0 row3\" >6624</th>\n",
       "                        <td id=\"T_90558_row3_col0\" class=\"data row3 col0\" >College Hoops 2K6</td>\n",
       "                        <td id=\"T_90558_row3_col1\" class=\"data row3 col1\" >PS2</td>\n",
       "                        <td id=\"T_90558_row3_col2\" class=\"data row3 col2\" >nan</td>\n",
       "                        <td id=\"T_90558_row3_col3\" class=\"data row3 col3\" >Sports</td>\n",
       "                        <td id=\"T_90558_row3_col4\" class=\"data row3 col4\" >0.120000</td>\n",
       "                        <td id=\"T_90558_row3_col5\" class=\"data row3 col5\" >0.100000</td>\n",
       "                        <td id=\"T_90558_row3_col6\" class=\"data row3 col6\" >0.000000</td>\n",
       "                        <td id=\"T_90558_row3_col7\" class=\"data row3 col7\" >0.030000</td>\n",
       "                        <td id=\"T_90558_row3_col8\" class=\"data row3 col8\" >77.000000</td>\n",
       "                        <td id=\"T_90558_row3_col9\" class=\"data row3 col9\" >7.3</td>\n",
       "                        <td id=\"T_90558_row3_col10\" class=\"data row3 col10\" >E</td>\n",
       "            </tr>\n",
       "            <tr>\n",
       "                        <th id=\"T_90558_level0_row4\" class=\"row_heading level0 row4\" >14210</th>\n",
       "                        <td id=\"T_90558_row4_col0\" class=\"data row4 col0\" >Sabre Wulf</td>\n",
       "                        <td id=\"T_90558_row4_col1\" class=\"data row4 col1\" >GBA</td>\n",
       "                        <td id=\"T_90558_row4_col2\" class=\"data row4 col2\" >nan</td>\n",
       "                        <td id=\"T_90558_row4_col3\" class=\"data row4 col3\" >Platform</td>\n",
       "                        <td id=\"T_90558_row4_col4\" class=\"data row4 col4\" >0.020000</td>\n",
       "                        <td id=\"T_90558_row4_col5\" class=\"data row4 col5\" >0.010000</td>\n",
       "                        <td id=\"T_90558_row4_col6\" class=\"data row4 col6\" >0.000000</td>\n",
       "                        <td id=\"T_90558_row4_col7\" class=\"data row4 col7\" >0.000000</td>\n",
       "                        <td id=\"T_90558_row4_col8\" class=\"data row4 col8\" >75.000000</td>\n",
       "                        <td id=\"T_90558_row4_col9\" class=\"data row4 col9\" >8</td>\n",
       "                        <td id=\"T_90558_row4_col10\" class=\"data row4 col10\" >E</td>\n",
       "            </tr>\n",
       "            <tr>\n",
       "                        <th id=\"T_90558_level0_row5\" class=\"row_heading level0 row5\" >3459</th>\n",
       "                        <td id=\"T_90558_row5_col0\" class=\"data row5 col0\" >NASCAR: Dirt to Daytona</td>\n",
       "                        <td id=\"T_90558_row5_col1\" class=\"data row5 col1\" >PS2</td>\n",
       "                        <td id=\"T_90558_row5_col2\" class=\"data row5 col2\" >nan</td>\n",
       "                        <td id=\"T_90558_row5_col3\" class=\"data row5 col3\" >Racing</td>\n",
       "                        <td id=\"T_90558_row5_col4\" class=\"data row5 col4\" >0.280000</td>\n",
       "                        <td id=\"T_90558_row5_col5\" class=\"data row5 col5\" >0.220000</td>\n",
       "                        <td id=\"T_90558_row5_col6\" class=\"data row5 col6\" >0.000000</td>\n",
       "                        <td id=\"T_90558_row5_col7\" class=\"data row5 col7\" >0.070000</td>\n",
       "                        <td id=\"T_90558_row5_col8\" class=\"data row5 col8\" >84.000000</td>\n",
       "                        <td id=\"T_90558_row5_col9\" class=\"data row5 col9\" >8.8</td>\n",
       "                        <td id=\"T_90558_row5_col10\" class=\"data row5 col10\" >E</td>\n",
       "            </tr>\n",
       "            <tr>\n",
       "                        <th id=\"T_90558_level0_row6\" class=\"row_heading level0 row6\" >657</th>\n",
       "                        <td id=\"T_90558_row6_col0\" class=\"data row6 col0\" >Frogger's Adventures: Temple of the Frog</td>\n",
       "                        <td id=\"T_90558_row6_col1\" class=\"data row6 col1\" >GBA</td>\n",
       "                        <td id=\"T_90558_row6_col2\" class=\"data row6 col2\" >nan</td>\n",
       "                        <td id=\"T_90558_row6_col3\" class=\"data row6 col3\" >Adventure</td>\n",
       "                        <td id=\"T_90558_row6_col4\" class=\"data row6 col4\" >2.150000</td>\n",
       "                        <td id=\"T_90558_row6_col5\" class=\"data row6 col5\" >0.180000</td>\n",
       "                        <td id=\"T_90558_row6_col6\" class=\"data row6 col6\" >0.000000</td>\n",
       "                        <td id=\"T_90558_row6_col7\" class=\"data row6 col7\" >0.070000</td>\n",
       "                        <td id=\"T_90558_row6_col8\" class=\"data row6 col8\" >73.000000</td>\n",
       "                        <td id=\"T_90558_row6_col9\" class=\"data row6 col9\" >tbd</td>\n",
       "                        <td id=\"T_90558_row6_col10\" class=\"data row6 col10\" >E</td>\n",
       "            </tr>\n",
       "            <tr>\n",
       "                        <th id=\"T_90558_level0_row7\" class=\"row_heading level0 row7\" >7353</th>\n",
       "                        <td id=\"T_90558_row7_col0\" class=\"data row7 col0\" >Ghostbusters II</td>\n",
       "                        <td id=\"T_90558_row7_col1\" class=\"data row7 col1\" >2600</td>\n",
       "                        <td id=\"T_90558_row7_col2\" class=\"data row7 col2\" >nan</td>\n",
       "                        <td id=\"T_90558_row7_col3\" class=\"data row7 col3\" >Action</td>\n",
       "                        <td id=\"T_90558_row7_col4\" class=\"data row7 col4\" >0.200000</td>\n",
       "                        <td id=\"T_90558_row7_col5\" class=\"data row7 col5\" >0.010000</td>\n",
       "                        <td id=\"T_90558_row7_col6\" class=\"data row7 col6\" >0.000000</td>\n",
       "                        <td id=\"T_90558_row7_col7\" class=\"data row7 col7\" >0.000000</td>\n",
       "                        <td id=\"T_90558_row7_col8\" class=\"data row7 col8\" >nan</td>\n",
       "                        <td id=\"T_90558_row7_col9\" class=\"data row7 col9\" >nan</td>\n",
       "                        <td id=\"T_90558_row7_col10\" class=\"data row7 col10\" >nan</td>\n",
       "            </tr>\n",
       "            <tr>\n",
       "                        <th id=\"T_90558_level0_row8\" class=\"row_heading level0 row8\" >3024</th>\n",
       "                        <td id=\"T_90558_row8_col0\" class=\"data row8 col0\" >The Chronicles of Narnia: The Lion, The Witch and The Wardrobe</td>\n",
       "                        <td id=\"T_90558_row8_col1\" class=\"data row8 col1\" >GBA</td>\n",
       "                        <td id=\"T_90558_row8_col2\" class=\"data row8 col2\" >nan</td>\n",
       "                        <td id=\"T_90558_row8_col3\" class=\"data row8 col3\" >Action</td>\n",
       "                        <td id=\"T_90558_row8_col4\" class=\"data row8 col4\" >0.480000</td>\n",
       "                        <td id=\"T_90558_row8_col5\" class=\"data row8 col5\" >0.180000</td>\n",
       "                        <td id=\"T_90558_row8_col6\" class=\"data row8 col6\" >0.000000</td>\n",
       "                        <td id=\"T_90558_row8_col7\" class=\"data row8 col7\" >0.010000</td>\n",
       "                        <td id=\"T_90558_row8_col8\" class=\"data row8 col8\" >66.000000</td>\n",
       "                        <td id=\"T_90558_row8_col9\" class=\"data row8 col9\" >6.8</td>\n",
       "                        <td id=\"T_90558_row8_col10\" class=\"data row8 col10\" >E</td>\n",
       "            </tr>\n",
       "            <tr>\n",
       "                        <th id=\"T_90558_level0_row9\" class=\"row_heading level0 row9\" >377</th>\n",
       "                        <td id=\"T_90558_row9_col0\" class=\"data row9 col0\" >FIFA Soccer 2004</td>\n",
       "                        <td id=\"T_90558_row9_col1\" class=\"data row9 col1\" >PS2</td>\n",
       "                        <td id=\"T_90558_row9_col2\" class=\"data row9 col2\" >nan</td>\n",
       "                        <td id=\"T_90558_row9_col3\" class=\"data row9 col3\" >Sports</td>\n",
       "                        <td id=\"T_90558_row9_col4\" class=\"data row9 col4\" >0.590000</td>\n",
       "                        <td id=\"T_90558_row9_col5\" class=\"data row9 col5\" >2.360000</td>\n",
       "                        <td id=\"T_90558_row9_col6\" class=\"data row9 col6\" >0.040000</td>\n",
       "                        <td id=\"T_90558_row9_col7\" class=\"data row9 col7\" >0.510000</td>\n",
       "                        <td id=\"T_90558_row9_col8\" class=\"data row9 col8\" >84.000000</td>\n",
       "                        <td id=\"T_90558_row9_col9\" class=\"data row9 col9\" >6.4</td>\n",
       "                        <td id=\"T_90558_row9_col10\" class=\"data row9 col10\" >E</td>\n",
       "            </tr>\n",
       "    </tbody></table>   "
      ],
      "text/plain": [
       "<IPython.core.display.HTML object>"
      ]
     },
     "metadata": {},
     "output_type": "display_data"
    }
   ],
   "source": [
    "print(\"Пропусков в годе выпуска\", games['year_of_release'].isnull().sum())\n",
    "display_tables([games[games['year_of_release'].isnull()].sample(10, random_state=4)],\n",
    "               ['Смотрим на строки с пропусками в годе выхода'])"
   ]
  },
  {
   "cell_type": "markdown",
   "metadata": {},
   "source": [
    "Посмотрим на несколько игр, возможно, есть какая-то закономерность или подсказка."
   ]
  },
  {
   "cell_type": "code",
   "execution_count": 15,
   "metadata": {
    "scrolled": true
   },
   "outputs": [
    {
     "name": "stdout",
     "output_type": "stream",
     "text": [
      "\u001b[1m Игры с пропуском в годе выпуска \u001b[0m\n"
     ]
    },
    {
     "data": {
      "text/html": [
       "<style  type=\"text/css\" >\n",
       "</style><table id=\"T_91ac4_\" style='display:inline'><caption>Madden NFL 2004</caption><thead>    <tr>        <th class=\"blank level0\" ></th>        <th class=\"col_heading level0 col0\" >name</th>        <th class=\"col_heading level0 col1\" >platform</th>        <th class=\"col_heading level0 col2\" >year_of_release</th>        <th class=\"col_heading level0 col3\" >genre</th>        <th class=\"col_heading level0 col4\" >na_sales</th>        <th class=\"col_heading level0 col5\" >eu_sales</th>        <th class=\"col_heading level0 col6\" >jp_sales</th>        <th class=\"col_heading level0 col7\" >other_sales</th>        <th class=\"col_heading level0 col8\" >critic_score</th>        <th class=\"col_heading level0 col9\" >user_score</th>        <th class=\"col_heading level0 col10\" >rating</th>    </tr></thead><tbody>\n",
       "                <tr>\n",
       "                        <th id=\"T_91ac4_level0_row0\" class=\"row_heading level0 row0\" >183</th>\n",
       "                        <td id=\"T_91ac4_row0_col0\" class=\"data row0 col0\" >Madden NFL 2004</td>\n",
       "                        <td id=\"T_91ac4_row0_col1\" class=\"data row0 col1\" >PS2</td>\n",
       "                        <td id=\"T_91ac4_row0_col2\" class=\"data row0 col2\" >nan</td>\n",
       "                        <td id=\"T_91ac4_row0_col3\" class=\"data row0 col3\" >Sports</td>\n",
       "                        <td id=\"T_91ac4_row0_col4\" class=\"data row0 col4\" >4.260000</td>\n",
       "                        <td id=\"T_91ac4_row0_col5\" class=\"data row0 col5\" >0.260000</td>\n",
       "                        <td id=\"T_91ac4_row0_col6\" class=\"data row0 col6\" >0.010000</td>\n",
       "                        <td id=\"T_91ac4_row0_col7\" class=\"data row0 col7\" >0.710000</td>\n",
       "                        <td id=\"T_91ac4_row0_col8\" class=\"data row0 col8\" >94.000000</td>\n",
       "                        <td id=\"T_91ac4_row0_col9\" class=\"data row0 col9\" >8.5</td>\n",
       "                        <td id=\"T_91ac4_row0_col10\" class=\"data row0 col10\" >E</td>\n",
       "            </tr>\n",
       "            <tr>\n",
       "                        <th id=\"T_91ac4_level0_row1\" class=\"row_heading level0 row1\" >1881</th>\n",
       "                        <td id=\"T_91ac4_row1_col0\" class=\"data row1 col0\" >Madden NFL 2004</td>\n",
       "                        <td id=\"T_91ac4_row1_col1\" class=\"data row1 col1\" >XB</td>\n",
       "                        <td id=\"T_91ac4_row1_col2\" class=\"data row1 col2\" >2003.000000</td>\n",
       "                        <td id=\"T_91ac4_row1_col3\" class=\"data row1 col3\" >Sports</td>\n",
       "                        <td id=\"T_91ac4_row1_col4\" class=\"data row1 col4\" >1.020000</td>\n",
       "                        <td id=\"T_91ac4_row1_col5\" class=\"data row1 col5\" >0.020000</td>\n",
       "                        <td id=\"T_91ac4_row1_col6\" class=\"data row1 col6\" >0.000000</td>\n",
       "                        <td id=\"T_91ac4_row1_col7\" class=\"data row1 col7\" >0.050000</td>\n",
       "                        <td id=\"T_91ac4_row1_col8\" class=\"data row1 col8\" >92.000000</td>\n",
       "                        <td id=\"T_91ac4_row1_col9\" class=\"data row1 col9\" >8.3</td>\n",
       "                        <td id=\"T_91ac4_row1_col10\" class=\"data row1 col10\" >E</td>\n",
       "            </tr>\n",
       "            <tr>\n",
       "                        <th id=\"T_91ac4_level0_row2\" class=\"row_heading level0 row2\" >3889</th>\n",
       "                        <td id=\"T_91ac4_row2_col0\" class=\"data row2 col0\" >Madden NFL 2004</td>\n",
       "                        <td id=\"T_91ac4_row2_col1\" class=\"data row2 col1\" >GC</td>\n",
       "                        <td id=\"T_91ac4_row2_col2\" class=\"data row2 col2\" >2003.000000</td>\n",
       "                        <td id=\"T_91ac4_row2_col3\" class=\"data row2 col3\" >Sports</td>\n",
       "                        <td id=\"T_91ac4_row2_col4\" class=\"data row2 col4\" >0.400000</td>\n",
       "                        <td id=\"T_91ac4_row2_col5\" class=\"data row2 col5\" >0.100000</td>\n",
       "                        <td id=\"T_91ac4_row2_col6\" class=\"data row2 col6\" >0.000000</td>\n",
       "                        <td id=\"T_91ac4_row2_col7\" class=\"data row2 col7\" >0.010000</td>\n",
       "                        <td id=\"T_91ac4_row2_col8\" class=\"data row2 col8\" >94.000000</td>\n",
       "                        <td id=\"T_91ac4_row2_col9\" class=\"data row2 col9\" >7.7</td>\n",
       "                        <td id=\"T_91ac4_row2_col10\" class=\"data row2 col10\" >E</td>\n",
       "            </tr>\n",
       "            <tr>\n",
       "                        <th id=\"T_91ac4_level0_row3\" class=\"row_heading level0 row3\" >5708</th>\n",
       "                        <td id=\"T_91ac4_row3_col0\" class=\"data row3 col0\" >Madden NFL 2004</td>\n",
       "                        <td id=\"T_91ac4_row3_col1\" class=\"data row3 col1\" >GBA</td>\n",
       "                        <td id=\"T_91ac4_row3_col2\" class=\"data row3 col2\" >2003.000000</td>\n",
       "                        <td id=\"T_91ac4_row3_col3\" class=\"data row3 col3\" >Sports</td>\n",
       "                        <td id=\"T_91ac4_row3_col4\" class=\"data row3 col4\" >0.220000</td>\n",
       "                        <td id=\"T_91ac4_row3_col5\" class=\"data row3 col5\" >0.080000</td>\n",
       "                        <td id=\"T_91ac4_row3_col6\" class=\"data row3 col6\" >0.000000</td>\n",
       "                        <td id=\"T_91ac4_row3_col7\" class=\"data row3 col7\" >0.010000</td>\n",
       "                        <td id=\"T_91ac4_row3_col8\" class=\"data row3 col8\" >70.000000</td>\n",
       "                        <td id=\"T_91ac4_row3_col9\" class=\"data row3 col9\" >6.6</td>\n",
       "                        <td id=\"T_91ac4_row3_col10\" class=\"data row3 col10\" >E</td>\n",
       "            </tr>\n",
       "    </tbody></table>   <style  type=\"text/css\" >\n",
       "</style><table id=\"T_77539_\" style='display:inline'><caption>FIFA Soccer 2004</caption><thead>    <tr>        <th class=\"blank level0\" ></th>        <th class=\"col_heading level0 col0\" >name</th>        <th class=\"col_heading level0 col1\" >platform</th>        <th class=\"col_heading level0 col2\" >year_of_release</th>        <th class=\"col_heading level0 col3\" >genre</th>        <th class=\"col_heading level0 col4\" >na_sales</th>        <th class=\"col_heading level0 col5\" >eu_sales</th>        <th class=\"col_heading level0 col6\" >jp_sales</th>        <th class=\"col_heading level0 col7\" >other_sales</th>        <th class=\"col_heading level0 col8\" >critic_score</th>        <th class=\"col_heading level0 col9\" >user_score</th>        <th class=\"col_heading level0 col10\" >rating</th>    </tr></thead><tbody>\n",
       "                <tr>\n",
       "                        <th id=\"T_77539_level0_row0\" class=\"row_heading level0 row0\" >377</th>\n",
       "                        <td id=\"T_77539_row0_col0\" class=\"data row0 col0\" >FIFA Soccer 2004</td>\n",
       "                        <td id=\"T_77539_row0_col1\" class=\"data row0 col1\" >PS2</td>\n",
       "                        <td id=\"T_77539_row0_col2\" class=\"data row0 col2\" >nan</td>\n",
       "                        <td id=\"T_77539_row0_col3\" class=\"data row0 col3\" >Sports</td>\n",
       "                        <td id=\"T_77539_row0_col4\" class=\"data row0 col4\" >0.590000</td>\n",
       "                        <td id=\"T_77539_row0_col5\" class=\"data row0 col5\" >2.360000</td>\n",
       "                        <td id=\"T_77539_row0_col6\" class=\"data row0 col6\" >0.040000</td>\n",
       "                        <td id=\"T_77539_row0_col7\" class=\"data row0 col7\" >0.510000</td>\n",
       "                        <td id=\"T_77539_row0_col8\" class=\"data row0 col8\" >84.000000</td>\n",
       "                        <td id=\"T_77539_row0_col9\" class=\"data row0 col9\" >6.4</td>\n",
       "                        <td id=\"T_77539_row0_col10\" class=\"data row0 col10\" >E</td>\n",
       "            </tr>\n",
       "            <tr>\n",
       "                        <th id=\"T_77539_level0_row1\" class=\"row_heading level0 row1\" >2606</th>\n",
       "                        <td id=\"T_77539_row1_col0\" class=\"data row1 col0\" >FIFA Soccer 2004</td>\n",
       "                        <td id=\"T_77539_row1_col1\" class=\"data row1 col1\" >XB</td>\n",
       "                        <td id=\"T_77539_row1_col2\" class=\"data row1 col2\" >2003.000000</td>\n",
       "                        <td id=\"T_77539_row1_col3\" class=\"data row1 col3\" >Sports</td>\n",
       "                        <td id=\"T_77539_row1_col4\" class=\"data row1 col4\" >0.240000</td>\n",
       "                        <td id=\"T_77539_row1_col5\" class=\"data row1 col5\" >0.490000</td>\n",
       "                        <td id=\"T_77539_row1_col6\" class=\"data row1 col6\" >0.000000</td>\n",
       "                        <td id=\"T_77539_row1_col7\" class=\"data row1 col7\" >0.050000</td>\n",
       "                        <td id=\"T_77539_row1_col8\" class=\"data row1 col8\" >82.000000</td>\n",
       "                        <td id=\"T_77539_row1_col9\" class=\"data row1 col9\" >8.2</td>\n",
       "                        <td id=\"T_77539_row1_col10\" class=\"data row1 col10\" >E</td>\n",
       "            </tr>\n",
       "            <tr>\n",
       "                        <th id=\"T_77539_level0_row2\" class=\"row_heading level0 row2\" >12029</th>\n",
       "                        <td id=\"T_77539_row2_col0\" class=\"data row2 col0\" >FIFA Soccer 2004</td>\n",
       "                        <td id=\"T_77539_row2_col1\" class=\"data row2 col1\" >GC</td>\n",
       "                        <td id=\"T_77539_row2_col2\" class=\"data row2 col2\" >2003.000000</td>\n",
       "                        <td id=\"T_77539_row2_col3\" class=\"data row2 col3\" >Sports</td>\n",
       "                        <td id=\"T_77539_row2_col4\" class=\"data row2 col4\" >0.050000</td>\n",
       "                        <td id=\"T_77539_row2_col5\" class=\"data row2 col5\" >0.010000</td>\n",
       "                        <td id=\"T_77539_row2_col6\" class=\"data row2 col6\" >0.000000</td>\n",
       "                        <td id=\"T_77539_row2_col7\" class=\"data row2 col7\" >0.000000</td>\n",
       "                        <td id=\"T_77539_row2_col8\" class=\"data row2 col8\" >83.000000</td>\n",
       "                        <td id=\"T_77539_row2_col9\" class=\"data row2 col9\" >6.2</td>\n",
       "                        <td id=\"T_77539_row2_col10\" class=\"data row2 col10\" >E</td>\n",
       "            </tr>\n",
       "            <tr>\n",
       "                        <th id=\"T_77539_level0_row3\" class=\"row_heading level0 row3\" >13086</th>\n",
       "                        <td id=\"T_77539_row3_col0\" class=\"data row3 col0\" >FIFA Soccer 2004</td>\n",
       "                        <td id=\"T_77539_row3_col1\" class=\"data row3 col1\" >GBA</td>\n",
       "                        <td id=\"T_77539_row3_col2\" class=\"data row3 col2\" >2003.000000</td>\n",
       "                        <td id=\"T_77539_row3_col3\" class=\"data row3 col3\" >Sports</td>\n",
       "                        <td id=\"T_77539_row3_col4\" class=\"data row3 col4\" >0.040000</td>\n",
       "                        <td id=\"T_77539_row3_col5\" class=\"data row3 col5\" >0.010000</td>\n",
       "                        <td id=\"T_77539_row3_col6\" class=\"data row3 col6\" >0.000000</td>\n",
       "                        <td id=\"T_77539_row3_col7\" class=\"data row3 col7\" >0.000000</td>\n",
       "                        <td id=\"T_77539_row3_col8\" class=\"data row3 col8\" >82.000000</td>\n",
       "                        <td id=\"T_77539_row3_col9\" class=\"data row3 col9\" >7.9</td>\n",
       "                        <td id=\"T_77539_row3_col10\" class=\"data row3 col10\" >E</td>\n",
       "            </tr>\n",
       "    </tbody></table>   <style  type=\"text/css\" >\n",
       "</style><table id=\"T_24020_\" style='display:inline'><caption>LEGO Batman: The Videogame</caption><thead>    <tr>        <th class=\"blank level0\" ></th>        <th class=\"col_heading level0 col0\" >name</th>        <th class=\"col_heading level0 col1\" >platform</th>        <th class=\"col_heading level0 col2\" >year_of_release</th>        <th class=\"col_heading level0 col3\" >genre</th>        <th class=\"col_heading level0 col4\" >na_sales</th>        <th class=\"col_heading level0 col5\" >eu_sales</th>        <th class=\"col_heading level0 col6\" >jp_sales</th>        <th class=\"col_heading level0 col7\" >other_sales</th>        <th class=\"col_heading level0 col8\" >critic_score</th>        <th class=\"col_heading level0 col9\" >user_score</th>        <th class=\"col_heading level0 col10\" >rating</th>    </tr></thead><tbody>\n",
       "                <tr>\n",
       "                        <th id=\"T_24020_level0_row0\" class=\"row_heading level0 row0\" >397</th>\n",
       "                        <td id=\"T_24020_row0_col0\" class=\"data row0 col0\" >LEGO Batman: The Videogame</td>\n",
       "                        <td id=\"T_24020_row0_col1\" class=\"data row0 col1\" >X360</td>\n",
       "                        <td id=\"T_24020_row0_col2\" class=\"data row0 col2\" >2008.000000</td>\n",
       "                        <td id=\"T_24020_row0_col3\" class=\"data row0 col3\" >Action</td>\n",
       "                        <td id=\"T_24020_row0_col4\" class=\"data row0 col4\" >2.040000</td>\n",
       "                        <td id=\"T_24020_row0_col5\" class=\"data row0 col5\" >1.020000</td>\n",
       "                        <td id=\"T_24020_row0_col6\" class=\"data row0 col6\" >0.000000</td>\n",
       "                        <td id=\"T_24020_row0_col7\" class=\"data row0 col7\" >0.320000</td>\n",
       "                        <td id=\"T_24020_row0_col8\" class=\"data row0 col8\" >76.000000</td>\n",
       "                        <td id=\"T_24020_row0_col9\" class=\"data row0 col9\" >7.9</td>\n",
       "                        <td id=\"T_24020_row0_col10\" class=\"data row0 col10\" >E10+</td>\n",
       "            </tr>\n",
       "            <tr>\n",
       "                        <th id=\"T_24020_level0_row1\" class=\"row_heading level0 row1\" >456</th>\n",
       "                        <td id=\"T_24020_row1_col0\" class=\"data row1 col0\" >LEGO Batman: The Videogame</td>\n",
       "                        <td id=\"T_24020_row1_col1\" class=\"data row1 col1\" >Wii</td>\n",
       "                        <td id=\"T_24020_row1_col2\" class=\"data row1 col2\" >nan</td>\n",
       "                        <td id=\"T_24020_row1_col3\" class=\"data row1 col3\" >Action</td>\n",
       "                        <td id=\"T_24020_row1_col4\" class=\"data row1 col4\" >1.800000</td>\n",
       "                        <td id=\"T_24020_row1_col5\" class=\"data row1 col5\" >0.970000</td>\n",
       "                        <td id=\"T_24020_row1_col6\" class=\"data row1 col6\" >0.000000</td>\n",
       "                        <td id=\"T_24020_row1_col7\" class=\"data row1 col7\" >0.290000</td>\n",
       "                        <td id=\"T_24020_row1_col8\" class=\"data row1 col8\" >74.000000</td>\n",
       "                        <td id=\"T_24020_row1_col9\" class=\"data row1 col9\" >7.9</td>\n",
       "                        <td id=\"T_24020_row1_col10\" class=\"data row1 col10\" >E10+</td>\n",
       "            </tr>\n",
       "            <tr>\n",
       "                        <th id=\"T_24020_level0_row2\" class=\"row_heading level0 row2\" >460</th>\n",
       "                        <td id=\"T_24020_row2_col0\" class=\"data row2 col0\" >LEGO Batman: The Videogame</td>\n",
       "                        <td id=\"T_24020_row2_col1\" class=\"data row2 col1\" >DS</td>\n",
       "                        <td id=\"T_24020_row2_col2\" class=\"data row2 col2\" >2008.000000</td>\n",
       "                        <td id=\"T_24020_row2_col3\" class=\"data row2 col3\" >Action</td>\n",
       "                        <td id=\"T_24020_row2_col4\" class=\"data row2 col4\" >1.750000</td>\n",
       "                        <td id=\"T_24020_row2_col5\" class=\"data row2 col5\" >1.010000</td>\n",
       "                        <td id=\"T_24020_row2_col6\" class=\"data row2 col6\" >0.000000</td>\n",
       "                        <td id=\"T_24020_row2_col7\" class=\"data row2 col7\" >0.290000</td>\n",
       "                        <td id=\"T_24020_row2_col8\" class=\"data row2 col8\" >72.000000</td>\n",
       "                        <td id=\"T_24020_row2_col9\" class=\"data row2 col9\" >8</td>\n",
       "                        <td id=\"T_24020_row2_col10\" class=\"data row2 col10\" >E10+</td>\n",
       "            </tr>\n",
       "            <tr>\n",
       "                        <th id=\"T_24020_level0_row3\" class=\"row_heading level0 row3\" >1519</th>\n",
       "                        <td id=\"T_24020_row3_col0\" class=\"data row3 col0\" >LEGO Batman: The Videogame</td>\n",
       "                        <td id=\"T_24020_row3_col1\" class=\"data row3 col1\" >PS3</td>\n",
       "                        <td id=\"T_24020_row3_col2\" class=\"data row3 col2\" >2008.000000</td>\n",
       "                        <td id=\"T_24020_row3_col3\" class=\"data row3 col3\" >Action</td>\n",
       "                        <td id=\"T_24020_row3_col4\" class=\"data row3 col4\" >0.720000</td>\n",
       "                        <td id=\"T_24020_row3_col5\" class=\"data row3 col5\" >0.390000</td>\n",
       "                        <td id=\"T_24020_row3_col6\" class=\"data row3 col6\" >0.000000</td>\n",
       "                        <td id=\"T_24020_row3_col7\" class=\"data row3 col7\" >0.190000</td>\n",
       "                        <td id=\"T_24020_row3_col8\" class=\"data row3 col8\" >75.000000</td>\n",
       "                        <td id=\"T_24020_row3_col9\" class=\"data row3 col9\" >7.7</td>\n",
       "                        <td id=\"T_24020_row3_col10\" class=\"data row3 col10\" >E10+</td>\n",
       "            </tr>\n",
       "            <tr>\n",
       "                        <th id=\"T_24020_level0_row4\" class=\"row_heading level0 row4\" >1538</th>\n",
       "                        <td id=\"T_24020_row4_col0\" class=\"data row4 col0\" >LEGO Batman: The Videogame</td>\n",
       "                        <td id=\"T_24020_row4_col1\" class=\"data row4 col1\" >PSP</td>\n",
       "                        <td id=\"T_24020_row4_col2\" class=\"data row4 col2\" >nan</td>\n",
       "                        <td id=\"T_24020_row4_col3\" class=\"data row4 col3\" >Action</td>\n",
       "                        <td id=\"T_24020_row4_col4\" class=\"data row4 col4\" >0.570000</td>\n",
       "                        <td id=\"T_24020_row4_col5\" class=\"data row4 col5\" >0.440000</td>\n",
       "                        <td id=\"T_24020_row4_col6\" class=\"data row4 col6\" >0.000000</td>\n",
       "                        <td id=\"T_24020_row4_col7\" class=\"data row4 col7\" >0.270000</td>\n",
       "                        <td id=\"T_24020_row4_col8\" class=\"data row4 col8\" >73.000000</td>\n",
       "                        <td id=\"T_24020_row4_col9\" class=\"data row4 col9\" >7.4</td>\n",
       "                        <td id=\"T_24020_row4_col10\" class=\"data row4 col10\" >E10+</td>\n",
       "            </tr>\n",
       "            <tr>\n",
       "                        <th id=\"T_24020_level0_row5\" class=\"row_heading level0 row5\" >1553</th>\n",
       "                        <td id=\"T_24020_row5_col0\" class=\"data row5 col0\" >LEGO Batman: The Videogame</td>\n",
       "                        <td id=\"T_24020_row5_col1\" class=\"data row5 col1\" >PS2</td>\n",
       "                        <td id=\"T_24020_row5_col2\" class=\"data row5 col2\" >2008.000000</td>\n",
       "                        <td id=\"T_24020_row5_col3\" class=\"data row5 col3\" >Action</td>\n",
       "                        <td id=\"T_24020_row5_col4\" class=\"data row5 col4\" >0.720000</td>\n",
       "                        <td id=\"T_24020_row5_col5\" class=\"data row5 col5\" >0.030000</td>\n",
       "                        <td id=\"T_24020_row5_col6\" class=\"data row5 col6\" >0.000000</td>\n",
       "                        <td id=\"T_24020_row5_col7\" class=\"data row5 col7\" >0.520000</td>\n",
       "                        <td id=\"T_24020_row5_col8\" class=\"data row5 col8\" >77.000000</td>\n",
       "                        <td id=\"T_24020_row5_col9\" class=\"data row5 col9\" >8.9</td>\n",
       "                        <td id=\"T_24020_row5_col10\" class=\"data row5 col10\" >E10+</td>\n",
       "            </tr>\n",
       "            <tr>\n",
       "                        <th id=\"T_24020_level0_row6\" class=\"row_heading level0 row6\" >12465</th>\n",
       "                        <td id=\"T_24020_row6_col0\" class=\"data row6 col0\" >LEGO Batman: The Videogame</td>\n",
       "                        <td id=\"T_24020_row6_col1\" class=\"data row6 col1\" >PC</td>\n",
       "                        <td id=\"T_24020_row6_col2\" class=\"data row6 col2\" >2008.000000</td>\n",
       "                        <td id=\"T_24020_row6_col3\" class=\"data row6 col3\" >Action</td>\n",
       "                        <td id=\"T_24020_row6_col4\" class=\"data row6 col4\" >0.020000</td>\n",
       "                        <td id=\"T_24020_row6_col5\" class=\"data row6 col5\" >0.030000</td>\n",
       "                        <td id=\"T_24020_row6_col6\" class=\"data row6 col6\" >0.000000</td>\n",
       "                        <td id=\"T_24020_row6_col7\" class=\"data row6 col7\" >0.010000</td>\n",
       "                        <td id=\"T_24020_row6_col8\" class=\"data row6 col8\" >80.000000</td>\n",
       "                        <td id=\"T_24020_row6_col9\" class=\"data row6 col9\" >7.8</td>\n",
       "                        <td id=\"T_24020_row6_col10\" class=\"data row6 col10\" >E10+</td>\n",
       "            </tr>\n",
       "    </tbody></table>   "
      ],
      "text/plain": [
       "<IPython.core.display.HTML object>"
      ]
     },
     "metadata": {},
     "output_type": "display_data"
    }
   ],
   "source": [
    "display_tables([games.query(\"name == 'Madden NFL 2004'\"), games.query(\"name == 'FIFA Soccer 2004'\"),\n",
    "                games.query(\"name == 'LEGO Batman: The Videogame'\")],\n",
    "               [\"Madden NFL 2004\", \"FIFA Soccer 2004\", 'LEGO Batman: The Videogame'], 'Игры с пропуском в годе выпуска')"
   ]
  },
  {
   "cell_type": "markdown",
   "metadata": {},
   "source": [
    "Ага, видим, что игры выходят на разных платформах и в один год.  \n",
    "Заполним часть значений годом выпуска игры на другой платформе, если данные по году будут отличатся на разных платформах, то возьмём максимальное значение."
   ]
  },
  {
   "cell_type": "code",
   "execution_count": 16,
   "metadata": {},
   "outputs": [],
   "source": [
    "for i in games[games['year_of_release'].isnull() == True].index:  \n",
    "    games['year_of_release'][i] = games.loc[games['name'] == games['name'][i], 'year_of_release'].max()"
   ]
  },
  {
   "cell_type": "code",
   "execution_count": 17,
   "metadata": {},
   "outputs": [
    {
     "name": "stdout",
     "output_type": "stream",
     "text": [
      "Осталось пропусков в годе релиза: 146\n"
     ]
    }
   ],
   "source": [
    "print(\"Осталось пропусков в годе релиза:\", games['year_of_release'].isnull().sum())"
   ]
  },
  {
   "cell_type": "markdown",
   "metadata": {},
   "source": [
    "Перейдем к самым масштабным пропускам: возрастная категория и оценки.  "
   ]
  },
  {
   "cell_type": "code",
   "execution_count": 18,
   "metadata": {},
   "outputs": [
    {
     "name": "stdout",
     "output_type": "stream",
     "text": [
      "Пропусков в рейтинге 6764\n",
      "Пропусков в оценке пользователей 6699\n",
      "Пропусков в оценке критиков 8576\n"
     ]
    },
    {
     "data": {
      "text/html": [
       "<style  type=\"text/css\" >\n",
       "</style><table id=\"T_86568_\" style='display:inline'><caption>Строки с пропусками в рейтинге</caption><thead>    <tr>        <th class=\"blank level0\" ></th>        <th class=\"col_heading level0 col0\" >name</th>        <th class=\"col_heading level0 col1\" >platform</th>        <th class=\"col_heading level0 col2\" >year_of_release</th>        <th class=\"col_heading level0 col3\" >genre</th>        <th class=\"col_heading level0 col4\" >na_sales</th>        <th class=\"col_heading level0 col5\" >eu_sales</th>        <th class=\"col_heading level0 col6\" >jp_sales</th>        <th class=\"col_heading level0 col7\" >other_sales</th>        <th class=\"col_heading level0 col8\" >critic_score</th>        <th class=\"col_heading level0 col9\" >user_score</th>        <th class=\"col_heading level0 col10\" >rating</th>    </tr></thead><tbody>\n",
       "                <tr>\n",
       "                        <th id=\"T_86568_level0_row0\" class=\"row_heading level0 row0\" >2582</th>\n",
       "                        <td id=\"T_86568_row0_col0\" class=\"data row0 col0\" >Ridge Racer</td>\n",
       "                        <td id=\"T_86568_row0_col1\" class=\"data row0 col1\" >PS</td>\n",
       "                        <td id=\"T_86568_row0_col2\" class=\"data row0 col2\" >1994.000000</td>\n",
       "                        <td id=\"T_86568_row0_col3\" class=\"data row0 col3\" >Racing</td>\n",
       "                        <td id=\"T_86568_row0_col4\" class=\"data row0 col4\" >0.000000</td>\n",
       "                        <td id=\"T_86568_row0_col5\" class=\"data row0 col5\" >0.000000</td>\n",
       "                        <td id=\"T_86568_row0_col6\" class=\"data row0 col6\" >0.740000</td>\n",
       "                        <td id=\"T_86568_row0_col7\" class=\"data row0 col7\" >0.050000</td>\n",
       "                        <td id=\"T_86568_row0_col8\" class=\"data row0 col8\" >nan</td>\n",
       "                        <td id=\"T_86568_row0_col9\" class=\"data row0 col9\" >nan</td>\n",
       "                        <td id=\"T_86568_row0_col10\" class=\"data row0 col10\" >nan</td>\n",
       "            </tr>\n",
       "            <tr>\n",
       "                        <th id=\"T_86568_level0_row1\" class=\"row_heading level0 row1\" >15403</th>\n",
       "                        <td id=\"T_86568_row1_col0\" class=\"data row1 col0\" >Hakuoki: Shinkai - Hana no Shou</td>\n",
       "                        <td id=\"T_86568_row1_col1\" class=\"data row1 col1\" >PSV</td>\n",
       "                        <td id=\"T_86568_row1_col2\" class=\"data row1 col2\" >2016.000000</td>\n",
       "                        <td id=\"T_86568_row1_col3\" class=\"data row1 col3\" >Adventure</td>\n",
       "                        <td id=\"T_86568_row1_col4\" class=\"data row1 col4\" >0.000000</td>\n",
       "                        <td id=\"T_86568_row1_col5\" class=\"data row1 col5\" >0.000000</td>\n",
       "                        <td id=\"T_86568_row1_col6\" class=\"data row1 col6\" >0.020000</td>\n",
       "                        <td id=\"T_86568_row1_col7\" class=\"data row1 col7\" >0.000000</td>\n",
       "                        <td id=\"T_86568_row1_col8\" class=\"data row1 col8\" >nan</td>\n",
       "                        <td id=\"T_86568_row1_col9\" class=\"data row1 col9\" >nan</td>\n",
       "                        <td id=\"T_86568_row1_col10\" class=\"data row1 col10\" >nan</td>\n",
       "            </tr>\n",
       "            <tr>\n",
       "                        <th id=\"T_86568_level0_row2\" class=\"row_heading level0 row2\" >5486</th>\n",
       "                        <td id=\"T_86568_row2_col0\" class=\"data row2 col0\" >Scooby-Doo! First Frights</td>\n",
       "                        <td id=\"T_86568_row2_col1\" class=\"data row2 col1\" >PS2</td>\n",
       "                        <td id=\"T_86568_row2_col2\" class=\"data row2 col2\" >2009.000000</td>\n",
       "                        <td id=\"T_86568_row2_col3\" class=\"data row2 col3\" >Action</td>\n",
       "                        <td id=\"T_86568_row2_col4\" class=\"data row2 col4\" >0.140000</td>\n",
       "                        <td id=\"T_86568_row2_col5\" class=\"data row2 col5\" >0.030000</td>\n",
       "                        <td id=\"T_86568_row2_col6\" class=\"data row2 col6\" >0.000000</td>\n",
       "                        <td id=\"T_86568_row2_col7\" class=\"data row2 col7\" >0.160000</td>\n",
       "                        <td id=\"T_86568_row2_col8\" class=\"data row2 col8\" >nan</td>\n",
       "                        <td id=\"T_86568_row2_col9\" class=\"data row2 col9\" >nan</td>\n",
       "                        <td id=\"T_86568_row2_col10\" class=\"data row2 col10\" >nan</td>\n",
       "            </tr>\n",
       "            <tr>\n",
       "                        <th id=\"T_86568_level0_row3\" class=\"row_heading level0 row3\" >13052</th>\n",
       "                        <td id=\"T_86568_row3_col0\" class=\"data row3 col0\" >RPG Tsukuru DS</td>\n",
       "                        <td id=\"T_86568_row3_col1\" class=\"data row3 col1\" >DS</td>\n",
       "                        <td id=\"T_86568_row3_col2\" class=\"data row3 col2\" >2010.000000</td>\n",
       "                        <td id=\"T_86568_row3_col3\" class=\"data row3 col3\" >Role-Playing</td>\n",
       "                        <td id=\"T_86568_row3_col4\" class=\"data row3 col4\" >0.000000</td>\n",
       "                        <td id=\"T_86568_row3_col5\" class=\"data row3 col5\" >0.000000</td>\n",
       "                        <td id=\"T_86568_row3_col6\" class=\"data row3 col6\" >0.050000</td>\n",
       "                        <td id=\"T_86568_row3_col7\" class=\"data row3 col7\" >0.000000</td>\n",
       "                        <td id=\"T_86568_row3_col8\" class=\"data row3 col8\" >nan</td>\n",
       "                        <td id=\"T_86568_row3_col9\" class=\"data row3 col9\" >nan</td>\n",
       "                        <td id=\"T_86568_row3_col10\" class=\"data row3 col10\" >nan</td>\n",
       "            </tr>\n",
       "            <tr>\n",
       "                        <th id=\"T_86568_level0_row4\" class=\"row_heading level0 row4\" >1717</th>\n",
       "                        <td id=\"T_86568_row4_col0\" class=\"data row4 col0\" >Super Ghouls 'n Ghosts</td>\n",
       "                        <td id=\"T_86568_row4_col1\" class=\"data row4 col1\" >SNES</td>\n",
       "                        <td id=\"T_86568_row4_col2\" class=\"data row4 col2\" >1991.000000</td>\n",
       "                        <td id=\"T_86568_row4_col3\" class=\"data row4 col3\" >Platform</td>\n",
       "                        <td id=\"T_86568_row4_col4\" class=\"data row4 col4\" >0.500000</td>\n",
       "                        <td id=\"T_86568_row4_col5\" class=\"data row4 col5\" >0.140000</td>\n",
       "                        <td id=\"T_86568_row4_col6\" class=\"data row4 col6\" >0.520000</td>\n",
       "                        <td id=\"T_86568_row4_col7\" class=\"data row4 col7\" >0.020000</td>\n",
       "                        <td id=\"T_86568_row4_col8\" class=\"data row4 col8\" >nan</td>\n",
       "                        <td id=\"T_86568_row4_col9\" class=\"data row4 col9\" >nan</td>\n",
       "                        <td id=\"T_86568_row4_col10\" class=\"data row4 col10\" >nan</td>\n",
       "            </tr>\n",
       "            <tr>\n",
       "                        <th id=\"T_86568_level0_row5\" class=\"row_heading level0 row5\" >16337</th>\n",
       "                        <td id=\"T_86568_row5_col0\" class=\"data row5 col0\" >Battle Worlds: Kronos</td>\n",
       "                        <td id=\"T_86568_row5_col1\" class=\"data row5 col1\" >PC</td>\n",
       "                        <td id=\"T_86568_row5_col2\" class=\"data row5 col2\" >2016.000000</td>\n",
       "                        <td id=\"T_86568_row5_col3\" class=\"data row5 col3\" >Strategy</td>\n",
       "                        <td id=\"T_86568_row5_col4\" class=\"data row5 col4\" >0.000000</td>\n",
       "                        <td id=\"T_86568_row5_col5\" class=\"data row5 col5\" >0.010000</td>\n",
       "                        <td id=\"T_86568_row5_col6\" class=\"data row5 col6\" >0.000000</td>\n",
       "                        <td id=\"T_86568_row5_col7\" class=\"data row5 col7\" >0.000000</td>\n",
       "                        <td id=\"T_86568_row5_col8\" class=\"data row5 col8\" >71.000000</td>\n",
       "                        <td id=\"T_86568_row5_col9\" class=\"data row5 col9\" >7.1</td>\n",
       "                        <td id=\"T_86568_row5_col10\" class=\"data row5 col10\" >nan</td>\n",
       "            </tr>\n",
       "            <tr>\n",
       "                        <th id=\"T_86568_level0_row6\" class=\"row_heading level0 row6\" >257</th>\n",
       "                        <td id=\"T_86568_row6_col0\" class=\"data row6 col0\" >Sonic the Hedgehog</td>\n",
       "                        <td id=\"T_86568_row6_col1\" class=\"data row6 col1\" >GEN</td>\n",
       "                        <td id=\"T_86568_row6_col2\" class=\"data row6 col2\" >1991.000000</td>\n",
       "                        <td id=\"T_86568_row6_col3\" class=\"data row6 col3\" >Platform</td>\n",
       "                        <td id=\"T_86568_row6_col4\" class=\"data row6 col4\" >3.030000</td>\n",
       "                        <td id=\"T_86568_row6_col5\" class=\"data row6 col5\" >0.910000</td>\n",
       "                        <td id=\"T_86568_row6_col6\" class=\"data row6 col6\" >0.260000</td>\n",
       "                        <td id=\"T_86568_row6_col7\" class=\"data row6 col7\" >0.130000</td>\n",
       "                        <td id=\"T_86568_row6_col8\" class=\"data row6 col8\" >nan</td>\n",
       "                        <td id=\"T_86568_row6_col9\" class=\"data row6 col9\" >nan</td>\n",
       "                        <td id=\"T_86568_row6_col10\" class=\"data row6 col10\" >nan</td>\n",
       "            </tr>\n",
       "            <tr>\n",
       "                        <th id=\"T_86568_level0_row7\" class=\"row_heading level0 row7\" >11488</th>\n",
       "                        <td id=\"T_86568_row7_col0\" class=\"data row7 col0\" >Black/Matrix</td>\n",
       "                        <td id=\"T_86568_row7_col1\" class=\"data row7 col1\" >SAT</td>\n",
       "                        <td id=\"T_86568_row7_col2\" class=\"data row7 col2\" >1998.000000</td>\n",
       "                        <td id=\"T_86568_row7_col3\" class=\"data row7 col3\" >Strategy</td>\n",
       "                        <td id=\"T_86568_row7_col4\" class=\"data row7 col4\" >0.000000</td>\n",
       "                        <td id=\"T_86568_row7_col5\" class=\"data row7 col5\" >0.000000</td>\n",
       "                        <td id=\"T_86568_row7_col6\" class=\"data row7 col6\" >0.080000</td>\n",
       "                        <td id=\"T_86568_row7_col7\" class=\"data row7 col7\" >0.000000</td>\n",
       "                        <td id=\"T_86568_row7_col8\" class=\"data row7 col8\" >nan</td>\n",
       "                        <td id=\"T_86568_row7_col9\" class=\"data row7 col9\" >nan</td>\n",
       "                        <td id=\"T_86568_row7_col10\" class=\"data row7 col10\" >nan</td>\n",
       "            </tr>\n",
       "            <tr>\n",
       "                        <th id=\"T_86568_level0_row8\" class=\"row_heading level0 row8\" >1232</th>\n",
       "                        <td id=\"T_86568_row8_col0\" class=\"data row8 col0\" >NASCAR 98</td>\n",
       "                        <td id=\"T_86568_row8_col1\" class=\"data row8 col1\" >PS</td>\n",
       "                        <td id=\"T_86568_row8_col2\" class=\"data row8 col2\" >1996.000000</td>\n",
       "                        <td id=\"T_86568_row8_col3\" class=\"data row8 col3\" >Racing</td>\n",
       "                        <td id=\"T_86568_row8_col4\" class=\"data row8 col4\" >1.430000</td>\n",
       "                        <td id=\"T_86568_row8_col5\" class=\"data row8 col5\" >0.050000</td>\n",
       "                        <td id=\"T_86568_row8_col6\" class=\"data row8 col6\" >0.000000</td>\n",
       "                        <td id=\"T_86568_row8_col7\" class=\"data row8 col7\" >0.040000</td>\n",
       "                        <td id=\"T_86568_row8_col8\" class=\"data row8 col8\" >nan</td>\n",
       "                        <td id=\"T_86568_row8_col9\" class=\"data row8 col9\" >nan</td>\n",
       "                        <td id=\"T_86568_row8_col10\" class=\"data row8 col10\" >nan</td>\n",
       "            </tr>\n",
       "            <tr>\n",
       "                        <th id=\"T_86568_level0_row9\" class=\"row_heading level0 row9\" >16424</th>\n",
       "                        <td id=\"T_86568_row9_col0\" class=\"data row9 col0\" >RalliSport Challenge(JP sales)</td>\n",
       "                        <td id=\"T_86568_row9_col1\" class=\"data row9 col1\" >XB</td>\n",
       "                        <td id=\"T_86568_row9_col2\" class=\"data row9 col2\" >2002.000000</td>\n",
       "                        <td id=\"T_86568_row9_col3\" class=\"data row9 col3\" >Racing</td>\n",
       "                        <td id=\"T_86568_row9_col4\" class=\"data row9 col4\" >0.000000</td>\n",
       "                        <td id=\"T_86568_row9_col5\" class=\"data row9 col5\" >0.000000</td>\n",
       "                        <td id=\"T_86568_row9_col6\" class=\"data row9 col6\" >0.010000</td>\n",
       "                        <td id=\"T_86568_row9_col7\" class=\"data row9 col7\" >0.000000</td>\n",
       "                        <td id=\"T_86568_row9_col8\" class=\"data row9 col8\" >nan</td>\n",
       "                        <td id=\"T_86568_row9_col9\" class=\"data row9 col9\" >nan</td>\n",
       "                        <td id=\"T_86568_row9_col10\" class=\"data row9 col10\" >nan</td>\n",
       "            </tr>\n",
       "    </tbody></table>   <style  type=\"text/css\" >\n",
       "</style><table id=\"T_b6f34_\" style='display:inline'><caption>Строки с пропусками в оценке пользователей</caption><thead>    <tr>        <th class=\"blank level0\" ></th>        <th class=\"col_heading level0 col0\" >name</th>        <th class=\"col_heading level0 col1\" >platform</th>        <th class=\"col_heading level0 col2\" >year_of_release</th>        <th class=\"col_heading level0 col3\" >genre</th>        <th class=\"col_heading level0 col4\" >na_sales</th>        <th class=\"col_heading level0 col5\" >eu_sales</th>        <th class=\"col_heading level0 col6\" >jp_sales</th>        <th class=\"col_heading level0 col7\" >other_sales</th>        <th class=\"col_heading level0 col8\" >critic_score</th>        <th class=\"col_heading level0 col9\" >user_score</th>        <th class=\"col_heading level0 col10\" >rating</th>    </tr></thead><tbody>\n",
       "                <tr>\n",
       "                        <th id=\"T_b6f34_level0_row0\" class=\"row_heading level0 row0\" >15724</th>\n",
       "                        <td id=\"T_b6f34_row0_col0\" class=\"data row0 col0\" >Rising Zan: The Samurai Gunman</td>\n",
       "                        <td id=\"T_b6f34_row0_col1\" class=\"data row0 col1\" >PS</td>\n",
       "                        <td id=\"T_b6f34_row0_col2\" class=\"data row0 col2\" >1998.000000</td>\n",
       "                        <td id=\"T_b6f34_row0_col3\" class=\"data row0 col3\" >Action</td>\n",
       "                        <td id=\"T_b6f34_row0_col4\" class=\"data row0 col4\" >0.010000</td>\n",
       "                        <td id=\"T_b6f34_row0_col5\" class=\"data row0 col5\" >0.010000</td>\n",
       "                        <td id=\"T_b6f34_row0_col6\" class=\"data row0 col6\" >0.000000</td>\n",
       "                        <td id=\"T_b6f34_row0_col7\" class=\"data row0 col7\" >0.000000</td>\n",
       "                        <td id=\"T_b6f34_row0_col8\" class=\"data row0 col8\" >nan</td>\n",
       "                        <td id=\"T_b6f34_row0_col9\" class=\"data row0 col9\" >nan</td>\n",
       "                        <td id=\"T_b6f34_row0_col10\" class=\"data row0 col10\" >nan</td>\n",
       "            </tr>\n",
       "            <tr>\n",
       "                        <th id=\"T_b6f34_level0_row1\" class=\"row_heading level0 row1\" >9020</th>\n",
       "                        <td id=\"T_b6f34_row1_col0\" class=\"data row1 col0\" >Thunder Truck Rally</td>\n",
       "                        <td id=\"T_b6f34_row1_col1\" class=\"data row1 col1\" >PS</td>\n",
       "                        <td id=\"T_b6f34_row1_col2\" class=\"data row1 col2\" >1997.000000</td>\n",
       "                        <td id=\"T_b6f34_row1_col3\" class=\"data row1 col3\" >Racing</td>\n",
       "                        <td id=\"T_b6f34_row1_col4\" class=\"data row1 col4\" >0.080000</td>\n",
       "                        <td id=\"T_b6f34_row1_col5\" class=\"data row1 col5\" >0.050000</td>\n",
       "                        <td id=\"T_b6f34_row1_col6\" class=\"data row1 col6\" >0.000000</td>\n",
       "                        <td id=\"T_b6f34_row1_col7\" class=\"data row1 col7\" >0.010000</td>\n",
       "                        <td id=\"T_b6f34_row1_col8\" class=\"data row1 col8\" >nan</td>\n",
       "                        <td id=\"T_b6f34_row1_col9\" class=\"data row1 col9\" >nan</td>\n",
       "                        <td id=\"T_b6f34_row1_col10\" class=\"data row1 col10\" >nan</td>\n",
       "            </tr>\n",
       "            <tr>\n",
       "                        <th id=\"T_b6f34_level0_row2\" class=\"row_heading level0 row2\" >10623</th>\n",
       "                        <td id=\"T_b6f34_row2_col0\" class=\"data row2 col0\" >Dragonseeds</td>\n",
       "                        <td id=\"T_b6f34_row2_col1\" class=\"data row2 col1\" >PS</td>\n",
       "                        <td id=\"T_b6f34_row2_col2\" class=\"data row2 col2\" >1998.000000</td>\n",
       "                        <td id=\"T_b6f34_row2_col3\" class=\"data row2 col3\" >Action</td>\n",
       "                        <td id=\"T_b6f34_row2_col4\" class=\"data row2 col4\" >0.030000</td>\n",
       "                        <td id=\"T_b6f34_row2_col5\" class=\"data row2 col5\" >0.020000</td>\n",
       "                        <td id=\"T_b6f34_row2_col6\" class=\"data row2 col6\" >0.040000</td>\n",
       "                        <td id=\"T_b6f34_row2_col7\" class=\"data row2 col7\" >0.010000</td>\n",
       "                        <td id=\"T_b6f34_row2_col8\" class=\"data row2 col8\" >nan</td>\n",
       "                        <td id=\"T_b6f34_row2_col9\" class=\"data row2 col9\" >nan</td>\n",
       "                        <td id=\"T_b6f34_row2_col10\" class=\"data row2 col10\" >nan</td>\n",
       "            </tr>\n",
       "            <tr>\n",
       "                        <th id=\"T_b6f34_level0_row3\" class=\"row_heading level0 row3\" >15818</th>\n",
       "                        <td id=\"T_b6f34_row3_col0\" class=\"data row3 col0\" >Hanayaka Kana, Ware ga Ichizoku: Tasogare Polarstar</td>\n",
       "                        <td id=\"T_b6f34_row3_col1\" class=\"data row3 col1\" >PSP</td>\n",
       "                        <td id=\"T_b6f34_row3_col2\" class=\"data row3 col2\" >2013.000000</td>\n",
       "                        <td id=\"T_b6f34_row3_col3\" class=\"data row3 col3\" >Adventure</td>\n",
       "                        <td id=\"T_b6f34_row3_col4\" class=\"data row3 col4\" >0.000000</td>\n",
       "                        <td id=\"T_b6f34_row3_col5\" class=\"data row3 col5\" >0.000000</td>\n",
       "                        <td id=\"T_b6f34_row3_col6\" class=\"data row3 col6\" >0.020000</td>\n",
       "                        <td id=\"T_b6f34_row3_col7\" class=\"data row3 col7\" >0.000000</td>\n",
       "                        <td id=\"T_b6f34_row3_col8\" class=\"data row3 col8\" >nan</td>\n",
       "                        <td id=\"T_b6f34_row3_col9\" class=\"data row3 col9\" >nan</td>\n",
       "                        <td id=\"T_b6f34_row3_col10\" class=\"data row3 col10\" >nan</td>\n",
       "            </tr>\n",
       "            <tr>\n",
       "                        <th id=\"T_b6f34_level0_row4\" class=\"row_heading level0 row4\" >14680</th>\n",
       "                        <td id=\"T_b6f34_row4_col0\" class=\"data row4 col0\" >Nisekoi: Yomeiri!?</td>\n",
       "                        <td id=\"T_b6f34_row4_col1\" class=\"data row4 col1\" >PSV</td>\n",
       "                        <td id=\"T_b6f34_row4_col2\" class=\"data row4 col2\" >2014.000000</td>\n",
       "                        <td id=\"T_b6f34_row4_col3\" class=\"data row4 col3\" >Adventure</td>\n",
       "                        <td id=\"T_b6f34_row4_col4\" class=\"data row4 col4\" >0.000000</td>\n",
       "                        <td id=\"T_b6f34_row4_col5\" class=\"data row4 col5\" >0.000000</td>\n",
       "                        <td id=\"T_b6f34_row4_col6\" class=\"data row4 col6\" >0.030000</td>\n",
       "                        <td id=\"T_b6f34_row4_col7\" class=\"data row4 col7\" >0.000000</td>\n",
       "                        <td id=\"T_b6f34_row4_col8\" class=\"data row4 col8\" >nan</td>\n",
       "                        <td id=\"T_b6f34_row4_col9\" class=\"data row4 col9\" >nan</td>\n",
       "                        <td id=\"T_b6f34_row4_col10\" class=\"data row4 col10\" >nan</td>\n",
       "            </tr>\n",
       "            <tr>\n",
       "                        <th id=\"T_b6f34_level0_row5\" class=\"row_heading level0 row5\" >14788</th>\n",
       "                        <td id=\"T_b6f34_row5_col0\" class=\"data row5 col0\" >Starry ? Sky: In Winter</td>\n",
       "                        <td id=\"T_b6f34_row5_col1\" class=\"data row5 col1\" >PSP</td>\n",
       "                        <td id=\"T_b6f34_row5_col2\" class=\"data row5 col2\" >2011.000000</td>\n",
       "                        <td id=\"T_b6f34_row5_col3\" class=\"data row5 col3\" >Misc</td>\n",
       "                        <td id=\"T_b6f34_row5_col4\" class=\"data row5 col4\" >0.000000</td>\n",
       "                        <td id=\"T_b6f34_row5_col5\" class=\"data row5 col5\" >0.000000</td>\n",
       "                        <td id=\"T_b6f34_row5_col6\" class=\"data row5 col6\" >0.030000</td>\n",
       "                        <td id=\"T_b6f34_row5_col7\" class=\"data row5 col7\" >0.000000</td>\n",
       "                        <td id=\"T_b6f34_row5_col8\" class=\"data row5 col8\" >nan</td>\n",
       "                        <td id=\"T_b6f34_row5_col9\" class=\"data row5 col9\" >nan</td>\n",
       "                        <td id=\"T_b6f34_row5_col10\" class=\"data row5 col10\" >nan</td>\n",
       "            </tr>\n",
       "            <tr>\n",
       "                        <th id=\"T_b6f34_level0_row6\" class=\"row_heading level0 row6\" >9152</th>\n",
       "                        <td id=\"T_b6f34_row6_col0\" class=\"data row6 col0\" >Micro Machines 64 Turbo</td>\n",
       "                        <td id=\"T_b6f34_row6_col1\" class=\"data row6 col1\" >N64</td>\n",
       "                        <td id=\"T_b6f34_row6_col2\" class=\"data row6 col2\" >1999.000000</td>\n",
       "                        <td id=\"T_b6f34_row6_col3\" class=\"data row6 col3\" >Racing</td>\n",
       "                        <td id=\"T_b6f34_row6_col4\" class=\"data row6 col4\" >0.110000</td>\n",
       "                        <td id=\"T_b6f34_row6_col5\" class=\"data row6 col5\" >0.030000</td>\n",
       "                        <td id=\"T_b6f34_row6_col6\" class=\"data row6 col6\" >0.000000</td>\n",
       "                        <td id=\"T_b6f34_row6_col7\" class=\"data row6 col7\" >0.000000</td>\n",
       "                        <td id=\"T_b6f34_row6_col8\" class=\"data row6 col8\" >nan</td>\n",
       "                        <td id=\"T_b6f34_row6_col9\" class=\"data row6 col9\" >nan</td>\n",
       "                        <td id=\"T_b6f34_row6_col10\" class=\"data row6 col10\" >nan</td>\n",
       "            </tr>\n",
       "            <tr>\n",
       "                        <th id=\"T_b6f34_level0_row7\" class=\"row_heading level0 row7\" >13860</th>\n",
       "                        <td id=\"T_b6f34_row7_col0\" class=\"data row7 col0\" >Daikaijuu Battle: Ultra Coliseum DX - Ultra Senshi Daishuuketsu</td>\n",
       "                        <td id=\"T_b6f34_row7_col1\" class=\"data row7 col1\" >Wii</td>\n",
       "                        <td id=\"T_b6f34_row7_col2\" class=\"data row7 col2\" >2010.000000</td>\n",
       "                        <td id=\"T_b6f34_row7_col3\" class=\"data row7 col3\" >Fighting</td>\n",
       "                        <td id=\"T_b6f34_row7_col4\" class=\"data row7 col4\" >0.000000</td>\n",
       "                        <td id=\"T_b6f34_row7_col5\" class=\"data row7 col5\" >0.000000</td>\n",
       "                        <td id=\"T_b6f34_row7_col6\" class=\"data row7 col6\" >0.040000</td>\n",
       "                        <td id=\"T_b6f34_row7_col7\" class=\"data row7 col7\" >0.000000</td>\n",
       "                        <td id=\"T_b6f34_row7_col8\" class=\"data row7 col8\" >nan</td>\n",
       "                        <td id=\"T_b6f34_row7_col9\" class=\"data row7 col9\" >nan</td>\n",
       "                        <td id=\"T_b6f34_row7_col10\" class=\"data row7 col10\" >nan</td>\n",
       "            </tr>\n",
       "            <tr>\n",
       "                        <th id=\"T_b6f34_level0_row8\" class=\"row_heading level0 row8\" >3532</th>\n",
       "                        <td id=\"T_b6f34_row8_col0\" class=\"data row8 col0\" >SD Gundam G Generation Neo</td>\n",
       "                        <td id=\"T_b6f34_row8_col1\" class=\"data row8 col1\" >PS2</td>\n",
       "                        <td id=\"T_b6f34_row8_col2\" class=\"data row8 col2\" >2002.000000</td>\n",
       "                        <td id=\"T_b6f34_row8_col3\" class=\"data row8 col3\" >Strategy</td>\n",
       "                        <td id=\"T_b6f34_row8_col4\" class=\"data row8 col4\" >0.000000</td>\n",
       "                        <td id=\"T_b6f34_row8_col5\" class=\"data row8 col5\" >0.000000</td>\n",
       "                        <td id=\"T_b6f34_row8_col6\" class=\"data row8 col6\" >0.570000</td>\n",
       "                        <td id=\"T_b6f34_row8_col7\" class=\"data row8 col7\" >0.000000</td>\n",
       "                        <td id=\"T_b6f34_row8_col8\" class=\"data row8 col8\" >nan</td>\n",
       "                        <td id=\"T_b6f34_row8_col9\" class=\"data row8 col9\" >nan</td>\n",
       "                        <td id=\"T_b6f34_row8_col10\" class=\"data row8 col10\" >nan</td>\n",
       "            </tr>\n",
       "            <tr>\n",
       "                        <th id=\"T_b6f34_level0_row9\" class=\"row_heading level0 row9\" >798</th>\n",
       "                        <td id=\"T_b6f34_row9_col0\" class=\"data row9 col0\" >Yokai Watch</td>\n",
       "                        <td id=\"T_b6f34_row9_col1\" class=\"data row9 col1\" >3DS</td>\n",
       "                        <td id=\"T_b6f34_row9_col2\" class=\"data row9 col2\" >2013.000000</td>\n",
       "                        <td id=\"T_b6f34_row9_col3\" class=\"data row9 col3\" >Role-Playing</td>\n",
       "                        <td id=\"T_b6f34_row9_col4\" class=\"data row9 col4\" >0.250000</td>\n",
       "                        <td id=\"T_b6f34_row9_col5\" class=\"data row9 col5\" >0.450000</td>\n",
       "                        <td id=\"T_b6f34_row9_col6\" class=\"data row9 col6\" >1.330000</td>\n",
       "                        <td id=\"T_b6f34_row9_col7\" class=\"data row9 col7\" >0.050000</td>\n",
       "                        <td id=\"T_b6f34_row9_col8\" class=\"data row9 col8\" >nan</td>\n",
       "                        <td id=\"T_b6f34_row9_col9\" class=\"data row9 col9\" >nan</td>\n",
       "                        <td id=\"T_b6f34_row9_col10\" class=\"data row9 col10\" >nan</td>\n",
       "            </tr>\n",
       "    </tbody></table>   <style  type=\"text/css\" >\n",
       "</style><table id=\"T_0d0f9_\" style='display:inline'><caption>Строки с пропусками в оценке критиков</caption><thead>    <tr>        <th class=\"blank level0\" ></th>        <th class=\"col_heading level0 col0\" >name</th>        <th class=\"col_heading level0 col1\" >platform</th>        <th class=\"col_heading level0 col2\" >year_of_release</th>        <th class=\"col_heading level0 col3\" >genre</th>        <th class=\"col_heading level0 col4\" >na_sales</th>        <th class=\"col_heading level0 col5\" >eu_sales</th>        <th class=\"col_heading level0 col6\" >jp_sales</th>        <th class=\"col_heading level0 col7\" >other_sales</th>        <th class=\"col_heading level0 col8\" >critic_score</th>        <th class=\"col_heading level0 col9\" >user_score</th>        <th class=\"col_heading level0 col10\" >rating</th>    </tr></thead><tbody>\n",
       "                <tr>\n",
       "                        <th id=\"T_0d0f9_level0_row0\" class=\"row_heading level0 row0\" >6471</th>\n",
       "                        <td id=\"T_0d0f9_row0_col0\" class=\"data row0 col0\" >Hey Arnold! The Movie</td>\n",
       "                        <td id=\"T_0d0f9_row0_col1\" class=\"data row0 col1\" >GBA</td>\n",
       "                        <td id=\"T_0d0f9_row0_col2\" class=\"data row0 col2\" >2002.000000</td>\n",
       "                        <td id=\"T_0d0f9_row0_col3\" class=\"data row0 col3\" >Platform</td>\n",
       "                        <td id=\"T_0d0f9_row0_col4\" class=\"data row0 col4\" >0.190000</td>\n",
       "                        <td id=\"T_0d0f9_row0_col5\" class=\"data row0 col5\" >0.070000</td>\n",
       "                        <td id=\"T_0d0f9_row0_col6\" class=\"data row0 col6\" >0.000000</td>\n",
       "                        <td id=\"T_0d0f9_row0_col7\" class=\"data row0 col7\" >0.000000</td>\n",
       "                        <td id=\"T_0d0f9_row0_col8\" class=\"data row0 col8\" >nan</td>\n",
       "                        <td id=\"T_0d0f9_row0_col9\" class=\"data row0 col9\" >nan</td>\n",
       "                        <td id=\"T_0d0f9_row0_col10\" class=\"data row0 col10\" >nan</td>\n",
       "            </tr>\n",
       "            <tr>\n",
       "                        <th id=\"T_0d0f9_level0_row1\" class=\"row_heading level0 row1\" >2586</th>\n",
       "                        <td id=\"T_0d0f9_row1_col0\" class=\"data row1 col0\" >Momotarou Dentetsu 7</td>\n",
       "                        <td id=\"T_0d0f9_row1_col1\" class=\"data row1 col1\" >PS</td>\n",
       "                        <td id=\"T_0d0f9_row1_col2\" class=\"data row1 col2\" >1997.000000</td>\n",
       "                        <td id=\"T_0d0f9_row1_col3\" class=\"data row1 col3\" >Simulation</td>\n",
       "                        <td id=\"T_0d0f9_row1_col4\" class=\"data row1 col4\" >0.000000</td>\n",
       "                        <td id=\"T_0d0f9_row1_col5\" class=\"data row1 col5\" >0.000000</td>\n",
       "                        <td id=\"T_0d0f9_row1_col6\" class=\"data row1 col6\" >0.740000</td>\n",
       "                        <td id=\"T_0d0f9_row1_col7\" class=\"data row1 col7\" >0.050000</td>\n",
       "                        <td id=\"T_0d0f9_row1_col8\" class=\"data row1 col8\" >nan</td>\n",
       "                        <td id=\"T_0d0f9_row1_col9\" class=\"data row1 col9\" >nan</td>\n",
       "                        <td id=\"T_0d0f9_row1_col10\" class=\"data row1 col10\" >nan</td>\n",
       "            </tr>\n",
       "            <tr>\n",
       "                        <th id=\"T_0d0f9_level0_row2\" class=\"row_heading level0 row2\" >11714</th>\n",
       "                        <td id=\"T_0d0f9_row2_col0\" class=\"data row2 col0\" >Quo Vadis</td>\n",
       "                        <td id=\"T_0d0f9_row2_col1\" class=\"data row2 col1\" >SAT</td>\n",
       "                        <td id=\"T_0d0f9_row2_col2\" class=\"data row2 col2\" >1995.000000</td>\n",
       "                        <td id=\"T_0d0f9_row2_col3\" class=\"data row2 col3\" >Strategy</td>\n",
       "                        <td id=\"T_0d0f9_row2_col4\" class=\"data row2 col4\" >0.000000</td>\n",
       "                        <td id=\"T_0d0f9_row2_col5\" class=\"data row2 col5\" >0.000000</td>\n",
       "                        <td id=\"T_0d0f9_row2_col6\" class=\"data row2 col6\" >0.080000</td>\n",
       "                        <td id=\"T_0d0f9_row2_col7\" class=\"data row2 col7\" >0.000000</td>\n",
       "                        <td id=\"T_0d0f9_row2_col8\" class=\"data row2 col8\" >nan</td>\n",
       "                        <td id=\"T_0d0f9_row2_col9\" class=\"data row2 col9\" >nan</td>\n",
       "                        <td id=\"T_0d0f9_row2_col10\" class=\"data row2 col10\" >nan</td>\n",
       "            </tr>\n",
       "            <tr>\n",
       "                        <th id=\"T_0d0f9_level0_row3\" class=\"row_heading level0 row3\" >11998</th>\n",
       "                        <td id=\"T_0d0f9_row3_col0\" class=\"data row3 col0\" >Shin Chan Contra ¡Los Plastas!</td>\n",
       "                        <td id=\"T_0d0f9_row3_col1\" class=\"data row3 col1\" >DS</td>\n",
       "                        <td id=\"T_0d0f9_row3_col2\" class=\"data row3 col2\" >2009.000000</td>\n",
       "                        <td id=\"T_0d0f9_row3_col3\" class=\"data row3 col3\" >Platform</td>\n",
       "                        <td id=\"T_0d0f9_row3_col4\" class=\"data row3 col4\" >0.000000</td>\n",
       "                        <td id=\"T_0d0f9_row3_col5\" class=\"data row3 col5\" >0.000000</td>\n",
       "                        <td id=\"T_0d0f9_row3_col6\" class=\"data row3 col6\" >0.070000</td>\n",
       "                        <td id=\"T_0d0f9_row3_col7\" class=\"data row3 col7\" >0.000000</td>\n",
       "                        <td id=\"T_0d0f9_row3_col8\" class=\"data row3 col8\" >nan</td>\n",
       "                        <td id=\"T_0d0f9_row3_col9\" class=\"data row3 col9\" >nan</td>\n",
       "                        <td id=\"T_0d0f9_row3_col10\" class=\"data row3 col10\" >nan</td>\n",
       "            </tr>\n",
       "            <tr>\n",
       "                        <th id=\"T_0d0f9_level0_row4\" class=\"row_heading level0 row4\" >14697</th>\n",
       "                        <td id=\"T_0d0f9_row4_col0\" class=\"data row4 col0\" >Merv Griffin's Crosswords</td>\n",
       "                        <td id=\"T_0d0f9_row4_col1\" class=\"data row4 col1\" >DS</td>\n",
       "                        <td id=\"T_0d0f9_row4_col2\" class=\"data row4 col2\" >2008.000000</td>\n",
       "                        <td id=\"T_0d0f9_row4_col3\" class=\"data row4 col3\" >Puzzle</td>\n",
       "                        <td id=\"T_0d0f9_row4_col4\" class=\"data row4 col4\" >0.030000</td>\n",
       "                        <td id=\"T_0d0f9_row4_col5\" class=\"data row4 col5\" >0.000000</td>\n",
       "                        <td id=\"T_0d0f9_row4_col6\" class=\"data row4 col6\" >0.000000</td>\n",
       "                        <td id=\"T_0d0f9_row4_col7\" class=\"data row4 col7\" >0.000000</td>\n",
       "                        <td id=\"T_0d0f9_row4_col8\" class=\"data row4 col8\" >nan</td>\n",
       "                        <td id=\"T_0d0f9_row4_col9\" class=\"data row4 col9\" >nan</td>\n",
       "                        <td id=\"T_0d0f9_row4_col10\" class=\"data row4 col10\" >nan</td>\n",
       "            </tr>\n",
       "            <tr>\n",
       "                        <th id=\"T_0d0f9_level0_row5\" class=\"row_heading level0 row5\" >13398</th>\n",
       "                        <td id=\"T_0d0f9_row5_col0\" class=\"data row5 col0\" >Taiko no Tatsujin Portable 2</td>\n",
       "                        <td id=\"T_0d0f9_row5_col1\" class=\"data row5 col1\" >PSP</td>\n",
       "                        <td id=\"T_0d0f9_row5_col2\" class=\"data row5 col2\" >2006.000000</td>\n",
       "                        <td id=\"T_0d0f9_row5_col3\" class=\"data row5 col3\" >Misc</td>\n",
       "                        <td id=\"T_0d0f9_row5_col4\" class=\"data row5 col4\" >0.000000</td>\n",
       "                        <td id=\"T_0d0f9_row5_col5\" class=\"data row5 col5\" >0.000000</td>\n",
       "                        <td id=\"T_0d0f9_row5_col6\" class=\"data row5 col6\" >0.050000</td>\n",
       "                        <td id=\"T_0d0f9_row5_col7\" class=\"data row5 col7\" >0.000000</td>\n",
       "                        <td id=\"T_0d0f9_row5_col8\" class=\"data row5 col8\" >nan</td>\n",
       "                        <td id=\"T_0d0f9_row5_col9\" class=\"data row5 col9\" >nan</td>\n",
       "                        <td id=\"T_0d0f9_row5_col10\" class=\"data row5 col10\" >nan</td>\n",
       "            </tr>\n",
       "            <tr>\n",
       "                        <th id=\"T_0d0f9_level0_row6\" class=\"row_heading level0 row6\" >14752</th>\n",
       "                        <td id=\"T_0d0f9_row6_col0\" class=\"data row6 col0\" >Metal Saga: Hagane no Kisetsu</td>\n",
       "                        <td id=\"T_0d0f9_row6_col1\" class=\"data row6 col1\" >DS</td>\n",
       "                        <td id=\"T_0d0f9_row6_col2\" class=\"data row6 col2\" >2006.000000</td>\n",
       "                        <td id=\"T_0d0f9_row6_col3\" class=\"data row6 col3\" >Role-Playing</td>\n",
       "                        <td id=\"T_0d0f9_row6_col4\" class=\"data row6 col4\" >0.000000</td>\n",
       "                        <td id=\"T_0d0f9_row6_col5\" class=\"data row6 col5\" >0.000000</td>\n",
       "                        <td id=\"T_0d0f9_row6_col6\" class=\"data row6 col6\" >0.030000</td>\n",
       "                        <td id=\"T_0d0f9_row6_col7\" class=\"data row6 col7\" >0.000000</td>\n",
       "                        <td id=\"T_0d0f9_row6_col8\" class=\"data row6 col8\" >nan</td>\n",
       "                        <td id=\"T_0d0f9_row6_col9\" class=\"data row6 col9\" >nan</td>\n",
       "                        <td id=\"T_0d0f9_row6_col10\" class=\"data row6 col10\" >nan</td>\n",
       "            </tr>\n",
       "            <tr>\n",
       "                        <th id=\"T_0d0f9_level0_row7\" class=\"row_heading level0 row7\" >8334</th>\n",
       "                        <td id=\"T_0d0f9_row7_col0\" class=\"data row7 col0\" >Jikkyou Powerful Pro Yakyuu 2013</td>\n",
       "                        <td id=\"T_0d0f9_row7_col1\" class=\"data row7 col1\" >PSP</td>\n",
       "                        <td id=\"T_0d0f9_row7_col2\" class=\"data row7 col2\" >2013.000000</td>\n",
       "                        <td id=\"T_0d0f9_row7_col3\" class=\"data row7 col3\" >Sports</td>\n",
       "                        <td id=\"T_0d0f9_row7_col4\" class=\"data row7 col4\" >0.000000</td>\n",
       "                        <td id=\"T_0d0f9_row7_col5\" class=\"data row7 col5\" >0.000000</td>\n",
       "                        <td id=\"T_0d0f9_row7_col6\" class=\"data row7 col6\" >0.170000</td>\n",
       "                        <td id=\"T_0d0f9_row7_col7\" class=\"data row7 col7\" >0.000000</td>\n",
       "                        <td id=\"T_0d0f9_row7_col8\" class=\"data row7 col8\" >nan</td>\n",
       "                        <td id=\"T_0d0f9_row7_col9\" class=\"data row7 col9\" >nan</td>\n",
       "                        <td id=\"T_0d0f9_row7_col10\" class=\"data row7 col10\" >nan</td>\n",
       "            </tr>\n",
       "            <tr>\n",
       "                        <th id=\"T_0d0f9_level0_row8\" class=\"row_heading level0 row8\" >16035</th>\n",
       "                        <td id=\"T_0d0f9_row8_col0\" class=\"data row8 col0\" >Pac-Man Championship Edition 2 + Arcade Game Series</td>\n",
       "                        <td id=\"T_0d0f9_row8_col1\" class=\"data row8 col1\" >XOne</td>\n",
       "                        <td id=\"T_0d0f9_row8_col2\" class=\"data row8 col2\" >2016.000000</td>\n",
       "                        <td id=\"T_0d0f9_row8_col3\" class=\"data row8 col3\" >Action</td>\n",
       "                        <td id=\"T_0d0f9_row8_col4\" class=\"data row8 col4\" >0.010000</td>\n",
       "                        <td id=\"T_0d0f9_row8_col5\" class=\"data row8 col5\" >0.000000</td>\n",
       "                        <td id=\"T_0d0f9_row8_col6\" class=\"data row8 col6\" >0.000000</td>\n",
       "                        <td id=\"T_0d0f9_row8_col7\" class=\"data row8 col7\" >0.000000</td>\n",
       "                        <td id=\"T_0d0f9_row8_col8\" class=\"data row8 col8\" >nan</td>\n",
       "                        <td id=\"T_0d0f9_row8_col9\" class=\"data row8 col9\" >nan</td>\n",
       "                        <td id=\"T_0d0f9_row8_col10\" class=\"data row8 col10\" >nan</td>\n",
       "            </tr>\n",
       "            <tr>\n",
       "                        <th id=\"T_0d0f9_level0_row9\" class=\"row_heading level0 row9\" >13123</th>\n",
       "                        <td id=\"T_0d0f9_row9_col0\" class=\"data row9 col0\" >Bakusou Kyoudai Let's & Go!! Eternal Wings</td>\n",
       "                        <td id=\"T_0d0f9_row9_col1\" class=\"data row9 col1\" >PS</td>\n",
       "                        <td id=\"T_0d0f9_row9_col2\" class=\"data row9 col2\" >1998.000000</td>\n",
       "                        <td id=\"T_0d0f9_row9_col3\" class=\"data row9 col3\" >Racing</td>\n",
       "                        <td id=\"T_0d0f9_row9_col4\" class=\"data row9 col4\" >0.000000</td>\n",
       "                        <td id=\"T_0d0f9_row9_col5\" class=\"data row9 col5\" >0.000000</td>\n",
       "                        <td id=\"T_0d0f9_row9_col6\" class=\"data row9 col6\" >0.050000</td>\n",
       "                        <td id=\"T_0d0f9_row9_col7\" class=\"data row9 col7\" >0.000000</td>\n",
       "                        <td id=\"T_0d0f9_row9_col8\" class=\"data row9 col8\" >nan</td>\n",
       "                        <td id=\"T_0d0f9_row9_col9\" class=\"data row9 col9\" >nan</td>\n",
       "                        <td id=\"T_0d0f9_row9_col10\" class=\"data row9 col10\" >nan</td>\n",
       "            </tr>\n",
       "    </tbody></table>   "
      ],
      "text/plain": [
       "<IPython.core.display.HTML object>"
      ]
     },
     "metadata": {},
     "output_type": "display_data"
    }
   ],
   "source": [
    "print(\"Пропусков в рейтинге\", games['rating'].isnull().sum())\n",
    "print(\"Пропусков в оценке пользователей\", games['user_score'].isnull().sum())\n",
    "print(\"Пропусков в оценке критиков\", games['critic_score'].isnull().sum())\n",
    "\n",
    "display_tables([games[games['rating'].isnull()].sample(10, random_state=8),\n",
    "                games[games['user_score'].isnull()].sample(10, random_state=8),\n",
    "                games[games['critic_score'].isnull()].sample(10, random_state=8)],\n",
    "               ['Строки с пропусками в рейтинге', 'Строки с пропусками в оценке пользователей',\n",
    "                'Строки с пропусками в оценке критиков'])"
   ]
  },
  {
   "cell_type": "markdown",
   "metadata": {},
   "source": [
    "Как видим, пропущены данные за разные года и по разным платформам.  \n",
    "Возможно, произошла какая-то проблема при формировании выгрузки. Например, при опросе источника данных разорвалась сессия.  \n",
    "Сохраним эти данные в отдельные таблицы и передадим их коллегам для анализа причин и исправления."
   ]
  },
  {
   "cell_type": "code",
   "execution_count": 19,
   "metadata": {},
   "outputs": [],
   "source": [
    "no_rating = games[games['rating'].isnull()]\n",
    "no_user_score = games[games['user_score'].isnull()]\n",
    "no_critic_score = games[games['critic_score'].isnull()]"
   ]
  },
  {
   "cell_type": "markdown",
   "metadata": {},
   "source": [
    "Помимо пропусков, у нас есть еще значения tbd (to be defined). Посмотрим сколько их."
   ]
  },
  {
   "cell_type": "code",
   "execution_count": 20,
   "metadata": {},
   "outputs": [
    {
     "data": {
      "text/plain": [
       "2424"
      ]
     },
     "execution_count": 20,
     "metadata": {},
     "output_type": "execute_result"
    }
   ],
   "source": [
    "len(games.query('user_score == \"tbd\"'))"
   ]
  },
  {
   "cell_type": "markdown",
   "metadata": {},
   "source": [
    "Заменим их на np.nan."
   ]
  },
  {
   "cell_type": "code",
   "execution_count": 21,
   "metadata": {},
   "outputs": [],
   "source": [
    "games['user_score'] = games['user_score'].replace('tbd', np.nan, regex=True)"
   ]
  },
  {
   "cell_type": "markdown",
   "metadata": {},
   "source": [
    "По идее, данных нам должно хватить для дальнейшего анализа и проверки гипотез. Так что оставим эти пропуски незаполненными."
   ]
  },
  {
   "cell_type": "markdown",
   "metadata": {},
   "source": [
    " Но для анализа нам нужен рейтинг. Заменим пропущенные значения на 'NoR' ('No Rating')."
   ]
  },
  {
   "cell_type": "code",
   "execution_count": 22,
   "metadata": {},
   "outputs": [],
   "source": [
    "games['rating'] = games['rating'].fillna('NoR')"
   ]
  },
  {
   "cell_type": "code",
   "execution_count": 23,
   "metadata": {},
   "outputs": [
    {
     "data": {
      "text/html": [
       "<div>\n",
       "<style scoped>\n",
       "    .dataframe tbody tr th:only-of-type {\n",
       "        vertical-align: middle;\n",
       "    }\n",
       "\n",
       "    .dataframe tbody tr th {\n",
       "        vertical-align: top;\n",
       "    }\n",
       "\n",
       "    .dataframe thead th {\n",
       "        text-align: right;\n",
       "    }\n",
       "</style>\n",
       "<table border=\"1\" class=\"dataframe\">\n",
       "  <thead>\n",
       "    <tr style=\"text-align: right;\">\n",
       "      <th></th>\n",
       "      <th>count</th>\n",
       "    </tr>\n",
       "  </thead>\n",
       "  <tbody>\n",
       "    <tr>\n",
       "      <th>NoR</th>\n",
       "      <td>6764</td>\n",
       "    </tr>\n",
       "    <tr>\n",
       "      <th>E</th>\n",
       "      <td>3990</td>\n",
       "    </tr>\n",
       "    <tr>\n",
       "      <th>T</th>\n",
       "      <td>2961</td>\n",
       "    </tr>\n",
       "    <tr>\n",
       "      <th>M</th>\n",
       "      <td>1563</td>\n",
       "    </tr>\n",
       "    <tr>\n",
       "      <th>E10+</th>\n",
       "      <td>1420</td>\n",
       "    </tr>\n",
       "    <tr>\n",
       "      <th>EC</th>\n",
       "      <td>8</td>\n",
       "    </tr>\n",
       "    <tr>\n",
       "      <th>K-A</th>\n",
       "      <td>3</td>\n",
       "    </tr>\n",
       "    <tr>\n",
       "      <th>RP</th>\n",
       "      <td>3</td>\n",
       "    </tr>\n",
       "    <tr>\n",
       "      <th>AO</th>\n",
       "      <td>1</td>\n",
       "    </tr>\n",
       "  </tbody>\n",
       "</table>\n",
       "</div>"
      ],
      "text/plain": [
       "      count\n",
       "NoR    6764\n",
       "E      3990\n",
       "T      2961\n",
       "M      1563\n",
       "E10+   1420\n",
       "EC        8\n",
       "K-A       3\n",
       "RP        3\n",
       "AO        1"
      ]
     },
     "execution_count": 23,
     "metadata": {},
     "output_type": "execute_result"
    }
   ],
   "source": [
    "#проверим\n",
    "games['rating'].value_counts().to_frame(name='count')"
   ]
  },
  {
   "cell_type": "markdown",
   "metadata": {},
   "source": [
    "##### Замена типов данных"
   ]
  },
  {
   "cell_type": "markdown",
   "metadata": {},
   "source": [
    "Год выпуска и оценку критиков поменяем на Int64, оценку пользователей - на float64."
   ]
  },
  {
   "cell_type": "code",
   "execution_count": 24,
   "metadata": {},
   "outputs": [],
   "source": [
    "games['year_of_release'] = games['year_of_release'].astype('Int64')\n",
    "games['critic_score'] = games['critic_score'].astype('Int64')\n",
    "games['user_score'] = games['user_score'].astype('float64')"
   ]
  },
  {
   "cell_type": "markdown",
   "metadata": {},
   "source": [
    "##### Расчёт дополнительных значений"
   ]
  },
  {
   "cell_type": "markdown",
   "metadata": {},
   "source": [
    "Добавим информацию о суммарных продажах, для этого создадим новый столбец, просуммировав значения по регионам."
   ]
  },
  {
   "cell_type": "code",
   "execution_count": 25,
   "metadata": {},
   "outputs": [],
   "source": [
    "games['total_sales'] = games.filter(regex=r'sales').sum(axis=1)"
   ]
  },
  {
   "cell_type": "code",
   "execution_count": 26,
   "metadata": {},
   "outputs": [
    {
     "data": {
      "text/html": [
       "<style  type=\"text/css\" >\n",
       "</style><table id=\"T_a8ab3_\" style='display:inline'><caption>Проверяем, как отработала фукция для расчёта суммарных продаж</caption><thead>    <tr>        <th class=\"blank level0\" ></th>        <th class=\"col_heading level0 col0\" >name</th>        <th class=\"col_heading level0 col1\" >platform</th>        <th class=\"col_heading level0 col2\" >year_of_release</th>        <th class=\"col_heading level0 col3\" >genre</th>        <th class=\"col_heading level0 col4\" >na_sales</th>        <th class=\"col_heading level0 col5\" >eu_sales</th>        <th class=\"col_heading level0 col6\" >jp_sales</th>        <th class=\"col_heading level0 col7\" >other_sales</th>        <th class=\"col_heading level0 col8\" >critic_score</th>        <th class=\"col_heading level0 col9\" >user_score</th>        <th class=\"col_heading level0 col10\" >rating</th>        <th class=\"col_heading level0 col11\" >total_sales</th>    </tr></thead><tbody>\n",
       "                <tr>\n",
       "                        <th id=\"T_a8ab3_level0_row0\" class=\"row_heading level0 row0\" >14414</th>\n",
       "                        <td id=\"T_a8ab3_row0_col0\" class=\"data row0 col0\" >Atelier Shallie Plus: Alchemists of the Dusk Sea</td>\n",
       "                        <td id=\"T_a8ab3_row0_col1\" class=\"data row0 col1\" >PSV</td>\n",
       "                        <td id=\"T_a8ab3_row0_col2\" class=\"data row0 col2\" >2016</td>\n",
       "                        <td id=\"T_a8ab3_row0_col3\" class=\"data row0 col3\" >Role-Playing</td>\n",
       "                        <td id=\"T_a8ab3_row0_col4\" class=\"data row0 col4\" >0.000000</td>\n",
       "                        <td id=\"T_a8ab3_row0_col5\" class=\"data row0 col5\" >0.000000</td>\n",
       "                        <td id=\"T_a8ab3_row0_col6\" class=\"data row0 col6\" >0.030000</td>\n",
       "                        <td id=\"T_a8ab3_row0_col7\" class=\"data row0 col7\" >0.000000</td>\n",
       "                        <td id=\"T_a8ab3_row0_col8\" class=\"data row0 col8\" ><NA></td>\n",
       "                        <td id=\"T_a8ab3_row0_col9\" class=\"data row0 col9\" >nan</td>\n",
       "                        <td id=\"T_a8ab3_row0_col10\" class=\"data row0 col10\" >T</td>\n",
       "                        <td id=\"T_a8ab3_row0_col11\" class=\"data row0 col11\" >0.030000</td>\n",
       "            </tr>\n",
       "            <tr>\n",
       "                        <th id=\"T_a8ab3_level0_row1\" class=\"row_heading level0 row1\" >11051</th>\n",
       "                        <td id=\"T_a8ab3_row1_col0\" class=\"data row1 col0\" >Lock's Quest</td>\n",
       "                        <td id=\"T_a8ab3_row1_col1\" class=\"data row1 col1\" >DS</td>\n",
       "                        <td id=\"T_a8ab3_row1_col2\" class=\"data row1 col2\" >2008</td>\n",
       "                        <td id=\"T_a8ab3_row1_col3\" class=\"data row1 col3\" >Strategy</td>\n",
       "                        <td id=\"T_a8ab3_row1_col4\" class=\"data row1 col4\" >0.080000</td>\n",
       "                        <td id=\"T_a8ab3_row1_col5\" class=\"data row1 col5\" >0.000000</td>\n",
       "                        <td id=\"T_a8ab3_row1_col6\" class=\"data row1 col6\" >0.000000</td>\n",
       "                        <td id=\"T_a8ab3_row1_col7\" class=\"data row1 col7\" >0.010000</td>\n",
       "                        <td id=\"T_a8ab3_row1_col8\" class=\"data row1 col8\" >80</td>\n",
       "                        <td id=\"T_a8ab3_row1_col9\" class=\"data row1 col9\" >8.700000</td>\n",
       "                        <td id=\"T_a8ab3_row1_col10\" class=\"data row1 col10\" >E</td>\n",
       "                        <td id=\"T_a8ab3_row1_col11\" class=\"data row1 col11\" >0.090000</td>\n",
       "            </tr>\n",
       "            <tr>\n",
       "                        <th id=\"T_a8ab3_level0_row2\" class=\"row_heading level0 row2\" >2445</th>\n",
       "                        <td id=\"T_a8ab3_row2_col0\" class=\"data row2 col0\" >Wii Fit U</td>\n",
       "                        <td id=\"T_a8ab3_row2_col1\" class=\"data row2 col1\" >WiiU</td>\n",
       "                        <td id=\"T_a8ab3_row2_col2\" class=\"data row2 col2\" >2013</td>\n",
       "                        <td id=\"T_a8ab3_row2_col3\" class=\"data row2 col3\" >Sports</td>\n",
       "                        <td id=\"T_a8ab3_row2_col4\" class=\"data row2 col4\" >0.350000</td>\n",
       "                        <td id=\"T_a8ab3_row2_col5\" class=\"data row2 col5\" >0.230000</td>\n",
       "                        <td id=\"T_a8ab3_row2_col6\" class=\"data row2 col6\" >0.210000</td>\n",
       "                        <td id=\"T_a8ab3_row2_col7\" class=\"data row2 col7\" >0.050000</td>\n",
       "                        <td id=\"T_a8ab3_row2_col8\" class=\"data row2 col8\" >72</td>\n",
       "                        <td id=\"T_a8ab3_row2_col9\" class=\"data row2 col9\" >7.700000</td>\n",
       "                        <td id=\"T_a8ab3_row2_col10\" class=\"data row2 col10\" >E</td>\n",
       "                        <td id=\"T_a8ab3_row2_col11\" class=\"data row2 col11\" >0.840000</td>\n",
       "            </tr>\n",
       "            <tr>\n",
       "                        <th id=\"T_a8ab3_level0_row3\" class=\"row_heading level0 row3\" >7886</th>\n",
       "                        <td id=\"T_a8ab3_row3_col0\" class=\"data row3 col0\" >Taiko no Tatsujin: Wii U Version!</td>\n",
       "                        <td id=\"T_a8ab3_row3_col1\" class=\"data row3 col1\" >WiiU</td>\n",
       "                        <td id=\"T_a8ab3_row3_col2\" class=\"data row3 col2\" >2013</td>\n",
       "                        <td id=\"T_a8ab3_row3_col3\" class=\"data row3 col3\" >Misc</td>\n",
       "                        <td id=\"T_a8ab3_row3_col4\" class=\"data row3 col4\" >0.000000</td>\n",
       "                        <td id=\"T_a8ab3_row3_col5\" class=\"data row3 col5\" >0.000000</td>\n",
       "                        <td id=\"T_a8ab3_row3_col6\" class=\"data row3 col6\" >0.190000</td>\n",
       "                        <td id=\"T_a8ab3_row3_col7\" class=\"data row3 col7\" >0.000000</td>\n",
       "                        <td id=\"T_a8ab3_row3_col8\" class=\"data row3 col8\" ><NA></td>\n",
       "                        <td id=\"T_a8ab3_row3_col9\" class=\"data row3 col9\" >nan</td>\n",
       "                        <td id=\"T_a8ab3_row3_col10\" class=\"data row3 col10\" >NoR</td>\n",
       "                        <td id=\"T_a8ab3_row3_col11\" class=\"data row3 col11\" >0.190000</td>\n",
       "            </tr>\n",
       "            <tr>\n",
       "                        <th id=\"T_a8ab3_level0_row4\" class=\"row_heading level0 row4\" >5895</th>\n",
       "                        <td id=\"T_a8ab3_row4_col0\" class=\"data row4 col0\" >Resident Evil Archives: Resident Evil</td>\n",
       "                        <td id=\"T_a8ab3_row4_col1\" class=\"data row4 col1\" >Wii</td>\n",
       "                        <td id=\"T_a8ab3_row4_col2\" class=\"data row4 col2\" >2008</td>\n",
       "                        <td id=\"T_a8ab3_row4_col3\" class=\"data row4 col3\" >Action</td>\n",
       "                        <td id=\"T_a8ab3_row4_col4\" class=\"data row4 col4\" >0.160000</td>\n",
       "                        <td id=\"T_a8ab3_row4_col5\" class=\"data row4 col5\" >0.040000</td>\n",
       "                        <td id=\"T_a8ab3_row4_col6\" class=\"data row4 col6\" >0.080000</td>\n",
       "                        <td id=\"T_a8ab3_row4_col7\" class=\"data row4 col7\" >0.020000</td>\n",
       "                        <td id=\"T_a8ab3_row4_col8\" class=\"data row4 col8\" >76</td>\n",
       "                        <td id=\"T_a8ab3_row4_col9\" class=\"data row4 col9\" >8.900000</td>\n",
       "                        <td id=\"T_a8ab3_row4_col10\" class=\"data row4 col10\" >M</td>\n",
       "                        <td id=\"T_a8ab3_row4_col11\" class=\"data row4 col11\" >0.300000</td>\n",
       "            </tr>\n",
       "            <tr>\n",
       "                        <th id=\"T_a8ab3_level0_row5\" class=\"row_heading level0 row5\" >6116</th>\n",
       "                        <td id=\"T_a8ab3_row5_col0\" class=\"data row5 col0\" >F/A-18F Super Hornet</td>\n",
       "                        <td id=\"T_a8ab3_row5_col1\" class=\"data row5 col1\" >GBA</td>\n",
       "                        <td id=\"T_a8ab3_row5_col2\" class=\"data row5 col2\" >2004</td>\n",
       "                        <td id=\"T_a8ab3_row5_col3\" class=\"data row5 col3\" >Simulation</td>\n",
       "                        <td id=\"T_a8ab3_row5_col4\" class=\"data row5 col4\" >0.200000</td>\n",
       "                        <td id=\"T_a8ab3_row5_col5\" class=\"data row5 col5\" >0.080000</td>\n",
       "                        <td id=\"T_a8ab3_row5_col6\" class=\"data row5 col6\" >0.000000</td>\n",
       "                        <td id=\"T_a8ab3_row5_col7\" class=\"data row5 col7\" >0.010000</td>\n",
       "                        <td id=\"T_a8ab3_row5_col8\" class=\"data row5 col8\" ><NA></td>\n",
       "                        <td id=\"T_a8ab3_row5_col9\" class=\"data row5 col9\" >nan</td>\n",
       "                        <td id=\"T_a8ab3_row5_col10\" class=\"data row5 col10\" >NoR</td>\n",
       "                        <td id=\"T_a8ab3_row5_col11\" class=\"data row5 col11\" >0.290000</td>\n",
       "            </tr>\n",
       "            <tr>\n",
       "                        <th id=\"T_a8ab3_level0_row6\" class=\"row_heading level0 row6\" >12405</th>\n",
       "                        <td id=\"T_a8ab3_row6_col0\" class=\"data row6 col0\" >Zero Escape: Zero Time Dilemma</td>\n",
       "                        <td id=\"T_a8ab3_row6_col1\" class=\"data row6 col1\" >PSV</td>\n",
       "                        <td id=\"T_a8ab3_row6_col2\" class=\"data row6 col2\" >2016</td>\n",
       "                        <td id=\"T_a8ab3_row6_col3\" class=\"data row6 col3\" >Adventure</td>\n",
       "                        <td id=\"T_a8ab3_row6_col4\" class=\"data row6 col4\" >0.030000</td>\n",
       "                        <td id=\"T_a8ab3_row6_col5\" class=\"data row6 col5\" >0.000000</td>\n",
       "                        <td id=\"T_a8ab3_row6_col6\" class=\"data row6 col6\" >0.020000</td>\n",
       "                        <td id=\"T_a8ab3_row6_col7\" class=\"data row6 col7\" >0.010000</td>\n",
       "                        <td id=\"T_a8ab3_row6_col8\" class=\"data row6 col8\" >83</td>\n",
       "                        <td id=\"T_a8ab3_row6_col9\" class=\"data row6 col9\" >8.300000</td>\n",
       "                        <td id=\"T_a8ab3_row6_col10\" class=\"data row6 col10\" >M</td>\n",
       "                        <td id=\"T_a8ab3_row6_col11\" class=\"data row6 col11\" >0.060000</td>\n",
       "            </tr>\n",
       "            <tr>\n",
       "                        <th id=\"T_a8ab3_level0_row7\" class=\"row_heading level0 row7\" >5766</th>\n",
       "                        <td id=\"T_a8ab3_row7_col0\" class=\"data row7 col0\" >Mega Man Maverick Hunter X</td>\n",
       "                        <td id=\"T_a8ab3_row7_col1\" class=\"data row7 col1\" >PSP</td>\n",
       "                        <td id=\"T_a8ab3_row7_col2\" class=\"data row7 col2\" >2005</td>\n",
       "                        <td id=\"T_a8ab3_row7_col3\" class=\"data row7 col3\" >Platform</td>\n",
       "                        <td id=\"T_a8ab3_row7_col4\" class=\"data row7 col4\" >0.270000</td>\n",
       "                        <td id=\"T_a8ab3_row7_col5\" class=\"data row7 col5\" >0.010000</td>\n",
       "                        <td id=\"T_a8ab3_row7_col6\" class=\"data row7 col6\" >0.000000</td>\n",
       "                        <td id=\"T_a8ab3_row7_col7\" class=\"data row7 col7\" >0.030000</td>\n",
       "                        <td id=\"T_a8ab3_row7_col8\" class=\"data row7 col8\" >79</td>\n",
       "                        <td id=\"T_a8ab3_row7_col9\" class=\"data row7 col9\" >8.300000</td>\n",
       "                        <td id=\"T_a8ab3_row7_col10\" class=\"data row7 col10\" >E10+</td>\n",
       "                        <td id=\"T_a8ab3_row7_col11\" class=\"data row7 col11\" >0.310000</td>\n",
       "            </tr>\n",
       "            <tr>\n",
       "                        <th id=\"T_a8ab3_level0_row8\" class=\"row_heading level0 row8\" >6316</th>\n",
       "                        <td id=\"T_a8ab3_row8_col0\" class=\"data row8 col0\" >WWE Road to WrestleMania X8</td>\n",
       "                        <td id=\"T_a8ab3_row8_col1\" class=\"data row8 col1\" >GBA</td>\n",
       "                        <td id=\"T_a8ab3_row8_col2\" class=\"data row8 col2\" >2002</td>\n",
       "                        <td id=\"T_a8ab3_row8_col3\" class=\"data row8 col3\" >Fighting</td>\n",
       "                        <td id=\"T_a8ab3_row8_col4\" class=\"data row8 col4\" >0.190000</td>\n",
       "                        <td id=\"T_a8ab3_row8_col5\" class=\"data row8 col5\" >0.070000</td>\n",
       "                        <td id=\"T_a8ab3_row8_col6\" class=\"data row8 col6\" >0.000000</td>\n",
       "                        <td id=\"T_a8ab3_row8_col7\" class=\"data row8 col7\" >0.000000</td>\n",
       "                        <td id=\"T_a8ab3_row8_col8\" class=\"data row8 col8\" >73</td>\n",
       "                        <td id=\"T_a8ab3_row8_col9\" class=\"data row8 col9\" >7.500000</td>\n",
       "                        <td id=\"T_a8ab3_row8_col10\" class=\"data row8 col10\" >E</td>\n",
       "                        <td id=\"T_a8ab3_row8_col11\" class=\"data row8 col11\" >0.260000</td>\n",
       "            </tr>\n",
       "            <tr>\n",
       "                        <th id=\"T_a8ab3_level0_row9\" class=\"row_heading level0 row9\" >5417</th>\n",
       "                        <td id=\"T_a8ab3_row9_col0\" class=\"data row9 col0\" >Dynasty Warriors 6 Empires</td>\n",
       "                        <td id=\"T_a8ab3_row9_col1\" class=\"data row9 col1\" >PS3</td>\n",
       "                        <td id=\"T_a8ab3_row9_col2\" class=\"data row9 col2\" >2009</td>\n",
       "                        <td id=\"T_a8ab3_row9_col3\" class=\"data row9 col3\" >Action</td>\n",
       "                        <td id=\"T_a8ab3_row9_col4\" class=\"data row9 col4\" >0.140000</td>\n",
       "                        <td id=\"T_a8ab3_row9_col5\" class=\"data row9 col5\" >0.030000</td>\n",
       "                        <td id=\"T_a8ab3_row9_col6\" class=\"data row9 col6\" >0.150000</td>\n",
       "                        <td id=\"T_a8ab3_row9_col7\" class=\"data row9 col7\" >0.020000</td>\n",
       "                        <td id=\"T_a8ab3_row9_col8\" class=\"data row9 col8\" >62</td>\n",
       "                        <td id=\"T_a8ab3_row9_col9\" class=\"data row9 col9\" >7.000000</td>\n",
       "                        <td id=\"T_a8ab3_row9_col10\" class=\"data row9 col10\" >T</td>\n",
       "                        <td id=\"T_a8ab3_row9_col11\" class=\"data row9 col11\" >0.340000</td>\n",
       "            </tr>\n",
       "    </tbody></table>   "
      ],
      "text/plain": [
       "<IPython.core.display.HTML object>"
      ]
     },
     "metadata": {},
     "output_type": "display_data"
    }
   ],
   "source": [
    "display_tables([games.sample(10, random_state = 4)], ['Проверяем, как отработала фукция для расчёта суммарных продаж'])"
   ]
  },
  {
   "cell_type": "markdown",
   "metadata": {},
   "source": [
    "##### Вывод"
   ]
  },
  {
   "cell_type": "markdown",
   "metadata": {},
   "source": [
    "- Заменили регистр в названиях стоблцов.\n",
    "- Проверили, есть ли дубликаты в столбцах из-за разницы в регистре. Дубликатов не оказалось.\n",
    "- Обработали часть пропусков по году выпуска для игр, по которым есть информация о других платформах.\n",
    "- Проанализировали пропуски по возрастному рейтингу и оценкам от пользоватаей и критиков. Приняли решение не заполнять их. Так как любое заполнение может серьезно исказить итоговые данные. Удалять их тоже не будем, потому что это лишит нас большого объема данных на этапах, которые не связаны с рейтингом и оценками.\n",
    "- Значения \"tbd\" заменили на np.nan.\n",
    "- Для года выпуска и оценки критиков произвели замену типа данных на Int64, оценку пользователей заменили на float64.\n",
    "- Добавили информацию о суммарных продажах по каждой из игр."
   ]
  },
  {
   "cell_type": "markdown",
   "metadata": {},
   "source": [
    "#### Исследовательский анализ данных"
   ]
  },
  {
   "cell_type": "markdown",
   "metadata": {},
   "source": [
    "##### Количество игр, выпускаемых в разные года"
   ]
  },
  {
   "cell_type": "code",
   "execution_count": 27,
   "metadata": {},
   "outputs": [
    {
     "data": {
      "image/png": "[encoded data removed]",
      "text/plain": [
       "<Figure size 1440x504 with 1 Axes>"
      ]
     },
     "metadata": {},
     "output_type": "display_data"
    }
   ],
   "source": [
    "fig, ax = plt.subplots(figsize=(20,7))\n",
    "sns.countplot(x=\"year_of_release\", data=games.dropna(), ax=ax, color=\"#e274cf\")\n",
    "ax.set_title('Количество выпущенных игр в год', fontsize=15)\n",
    "ax.set_xlabel('')\n",
    "ax.set_ylabel('Количество игр')\n",
    "plt.xticks(rotation=60)\n",
    "show_values_on_bars(ax)\n",
    "plt.show()"
   ]
  },
  {
   "cell_type": "markdown",
   "metadata": {},
   "source": [
    "Максимальное число игр выпускалось в 2008-2009 годах.  \n",
    "Видим значительное снижение после 2011 года, это может быть связано с развитием мобильных игр."
   ]
  },
  {
   "cell_type": "markdown",
   "metadata": {},
   "source": [
    "##### Продажи по платформам"
   ]
  },
  {
   "cell_type": "markdown",
   "metadata": {},
   "source": [
    "Определим, какие платформы лидируют по суммарным продажам."
   ]
  },
  {
   "cell_type": "code",
   "execution_count": 28,
   "metadata": {},
   "outputs": [],
   "source": [
    "platforms_sales = games.pivot_table(\n",
    "    index='platform', values='total_sales', aggfunc='sum').sort_values(by='total_sales', ascending=False)"
   ]
  },
  {
   "cell_type": "code",
   "execution_count": 29,
   "metadata": {},
   "outputs": [
    {
     "data": {
      "image/png": "[encoded data removed]",
      "text/plain": [
       "<Figure size 1440x504 with 1 Axes>"
      ]
     },
     "metadata": {},
     "output_type": "display_data"
    }
   ],
   "source": [
    "fig, ax = plt.subplots(figsize = (20,7))\n",
    "sns.barplot(x=platforms_sales.index,y=platforms_sales['total_sales'], ax=ax, color=\"#e274cf\")\n",
    "ax.set_title('Распределение продаж по платформам',fontsize=15)\n",
    "ax.set_xlabel('')\n",
    "ax.set_ylabel('Продано, млн копий')\n",
    "show_values_on_bars(ax)\n",
    "plt.show()"
   ]
  },
  {
   "cell_type": "markdown",
   "metadata": {},
   "source": [
    "Оставим 6 самых прибыльных платформ."
   ]
  },
  {
   "cell_type": "code",
   "execution_count": 30,
   "metadata": {},
   "outputs": [
    {
     "data": {
      "text/plain": [
       "array(['PS2', 'X360', 'PS3', 'Wii', 'DS', 'PS'], dtype=object)"
      ]
     },
     "execution_count": 30,
     "metadata": {},
     "output_type": "execute_result"
    }
   ],
   "source": [
    "top_platforms = platforms_sales.head(6).index.values\n",
    "top_platforms"
   ]
  },
  {
   "cell_type": "markdown",
   "metadata": {},
   "source": [
    "Построим по каждой из топ-платформ, как менялись суммарные продажи по годам."
   ]
  },
  {
   "cell_type": "code",
   "execution_count": 31,
   "metadata": {},
   "outputs": [],
   "source": [
    "# сформируем таблицу, на основании которой будем строить\n",
    "platforms_sales_per_year = games.groupby(['platform', 'year_of_release'])[['total_sales']].sum().reset_index()"
   ]
  },
  {
   "cell_type": "code",
   "execution_count": 32,
   "metadata": {},
   "outputs": [
    {
     "name": "stdout",
     "output_type": "stream",
     "text": [
      "\u001b[1m Суммарные продажи по годам для топ-платформ \u001b[0m\n"
     ]
    },
    {
     "data": {
      "image/png": "[encoded data removed]",
      "text/plain": [
       "<Figure size 1152x1152 with 6 Axes>"
      ]
     },
     "metadata": {},
     "output_type": "display_data"
    }
   ],
   "source": [
    "# построим в цикле 6 графиков, по 1 на каждую из топ-платформ\n",
    "_, axs = plt.subplots(3, 2, figsize=(16, 16))\n",
    "print(\"\\033[1m\", 'Суммарные продажи по годам для топ-платформ', \"\\033[0m\")\n",
    "axs = axs.ravel()\n",
    "for i, top_platform in enumerate(top_platforms):\n",
    "    sns.barplot(data=platforms_sales_per_year.query('platform == @top_platform'),\n",
    "                x='year_of_release', y='total_sales', ax=axs[i], color=\"#e274cf\")\n",
    "    axs[i].set_title(top_platform, fontsize=15)\n",
    "    axs[i].set_xlabel('')\n",
    "    axs[i].set_ylabel('Продано, млн копий')\n",
    "    show_values_on_bars(axs[i])\n",
    "plt.tight_layout(rect=[0, 0.03, 1, 0.95])"
   ]
  },
  {
   "cell_type": "markdown",
   "metadata": {},
   "source": [
    "По графикам видно, что среднее время жизни игровой платформы - 10 лет.  \n",
    "Пика продаж платформы обычно достигают на 3-6 годы жизни, после чего продажи начинают падать."
   ]
  },
  {
   "cell_type": "markdown",
   "metadata": {},
   "source": [
    "##### Анализ платформ, актуальных на данный момент"
   ]
  },
  {
   "cell_type": "markdown",
   "metadata": {},
   "source": [
    "На предыдущем этапе мы выяснили, что среднее время жизни платформы 10 лет и в последние 4 года жизни, игры продаются значительно хуже.  \n",
    "Для того, чтобы построить прогноз на 2017, год возьмём платформы, которые были выпущены, начиная с 2011 года."
   ]
  },
  {
   "cell_type": "code",
   "execution_count": 33,
   "metadata": {},
   "outputs": [],
   "source": [
    "actual_platforms = games.groupby('platform')['year_of_release'].min().reset_index()\n",
    "actual_platforms = actual_platforms[actual_platforms.year_of_release >= 2011]"
   ]
  },
  {
   "cell_type": "code",
   "execution_count": 34,
   "metadata": {},
   "outputs": [
    {
     "data": {
      "text/plain": [
       "array(['PS4', 'PSV', 'WiiU', 'XOne'], dtype=object)"
      ]
     },
     "execution_count": 34,
     "metadata": {},
     "output_type": "execute_result"
    }
   ],
   "source": [
    "#получим список платформ\n",
    "actual_platforms = actual_platforms['platform'].values\n",
    "actual_platforms"
   ]
  },
  {
   "cell_type": "markdown",
   "metadata": {},
   "source": [
    "Построим график «ящик с усами» по продажам игр в разбивке по платформам. "
   ]
  },
  {
   "cell_type": "code",
   "execution_count": 35,
   "metadata": {},
   "outputs": [
    {
     "data": {
      "image/png": "[encoded data removed]",
      "text/plain": [
       "<Figure size 1152x720 with 1 Axes>"
      ]
     },
     "metadata": {},
     "output_type": "display_data"
    }
   ],
   "source": [
    "fig, ax = plt.subplots(figsize=(16, 10))\n",
    "ax.set_title('Распределение продаж по актуальным платформам', fontsize=15)\n",
    "\n",
    "sns.boxplot(x=\"year_of_release\", y='total_sales',\n",
    "            data=games.query('platform in @actual_platforms').dropna(), hue='platform', ax=ax)\n",
    "ax.set_xlabel('Год выпуска')\n",
    "ax.set_ylabel('Продано, млн копий')\n",
    "plt.show()"
   ]
  },
  {
   "cell_type": "markdown",
   "metadata": {},
   "source": [
    "По медиане последние 2 года лидирует WiiU, но  PS4 и XOne опережают её по суммарным продажам за счёт игр-бестселлеров.  \n",
    "Так что ждём новые игры от PS4 и XOne и новые платформы."
   ]
  },
  {
   "cell_type": "markdown",
   "metadata": {},
   "source": [
    "##### Влияние на продажи отзвывов пользователей и критиков"
   ]
  },
  {
   "cell_type": "markdown",
   "metadata": {},
   "source": [
    "Посмотрите, как влияют на продажи внутри одной популярной платформы отзывы пользователей и критиков. Постройте диаграмму рассеяния и посчитайте корреляцию между отзывами и продажами. Сформулируйте выводы."
   ]
  },
  {
   "cell_type": "code",
   "execution_count": 36,
   "metadata": {},
   "outputs": [
    {
     "data": {
      "image/png": "[encoded data removed]",
      "text/plain": [
       "<Figure size 1080x360 with 2 Axes>"
      ]
     },
     "metadata": {},
     "output_type": "display_data"
    }
   ],
   "source": [
    "fig, ax = plt.subplots(1, 2, figsize=(15, 5))\n",
    "fig.suptitle('Влияние на продажи XOne оценок от критиков', fontsize=15)\n",
    "sns.scatterplot(data=games.query('platform == \"XOne\"'), y='total_sales', x='critic_score', ax=ax[0])\n",
    "sns.scatterplot(data=games.query('platform == \"XOne\"'), y='total_sales', x='user_score', ax=ax[1])\n",
    "ax[0].set_xlabel('Оценка критиков')\n",
    "ax[1].set_xlabel('Оценка пользователей')\n",
    "ax[0].set_ylabel('Продано, млн копий')\n",
    "ax[1].set_ylabel('Продано, млн копий')\n",
    "plt.show()"
   ]
  },
  {
   "cell_type": "markdown",
   "metadata": {},
   "source": [
    "По графикам видно, что оценка критиков важнее оценки пользователей.  \n",
    "Можно заметить, что критики реже ставят плохие оценки.  \n",
    "Посчитаем корреляцию и построим heatmap."
   ]
  },
  {
   "cell_type": "code",
   "execution_count": 37,
   "metadata": {},
   "outputs": [
    {
     "name": "stdout",
     "output_type": "stream",
     "text": [
      "\u001b[1m Влияние оценок на продажи для актуальных платформ \u001b[0m\n"
     ]
    },
    {
     "data": {
      "image/png": "[encoded data removed]",
      "text/plain": [
       "<Figure size 1152x1008 with 4 Axes>"
      ]
     },
     "metadata": {},
     "output_type": "display_data"
    }
   ],
   "source": [
    "_, axs = plt.subplots(2, 2, figsize=(16, 14))\n",
    "print(\"\\033[1m\", 'Влияние оценок на продажи для актуальных платформ', \"\\033[0m\")\n",
    "axs = axs.ravel()\n",
    "for i, platform in enumerate(actual_platforms):\n",
    "    sns.heatmap(games.query('platform == @platform')[['total_sales', 'critic_score', 'user_score']].corr(),\n",
    "                linewidths=.2, annot=True, ax=axs[i], cmap=\"RdPu\", cbar=False)\n",
    "    axs[i].set_title(platform, fontsize=15)\n",
    "plt.show()"
   ]
  },
  {
   "cell_type": "markdown",
   "metadata": {},
   "source": [
    "Делаем следующие выводы:\n",
    "- Для платформ с хорошими показателями продаж существует умеренная взаимосвязь между отзывами критиков и продажами, у  игр с большими продажами обычно хорошие отзывы.  \n",
    "- Оценки пользователей практически не влияют на продажи(за исключением платформы WiiU).\n",
    "\n",
    "При планировании маркетинговой стратегии при выпуске новых игр необходимо учесть бюджет на работу с критиками, так как им доверяют больше."
   ]
  },
  {
   "cell_type": "markdown",
   "metadata": {},
   "source": [
    "##### Анализ жанров"
   ]
  },
  {
   "cell_type": "code",
   "execution_count": 38,
   "metadata": {},
   "outputs": [],
   "source": [
    "# оставим для анализа данные, начиная с 2011 года\n",
    "actual_games = games[games.year_of_release >= 2011]"
   ]
  },
  {
   "cell_type": "code",
   "execution_count": 39,
   "metadata": {
    "scrolled": false
   },
   "outputs": [
    {
     "data": {
      "image/png": "[encoded data removed]",
      "text/plain": [
       "<Figure size 1440x504 with 1 Axes>"
      ]
     },
     "metadata": {},
     "output_type": "display_data"
    }
   ],
   "source": [
    "# построим график, который покажет количество выпущенных игр\n",
    "fig, ax = plt.subplots(figsize=(20, 7))\n",
    "sns.countplot(x=\"genre\", data=actual_games, order=actual_games['genre'].value_counts().index, ax=ax, color=\"#e274cf\")\n",
    "ax.set_title('Количество выпущенных игр по жанрам, начиная с 2011 года', fontsize=15)\n",
    "ax.set_xlabel('')\n",
    "ax.set_ylabel('Количество игр')\n",
    "show_values_on_bars(ax)\n",
    "plt.show()"
   ]
  },
  {
   "cell_type": "markdown",
   "metadata": {},
   "source": [
    "Игр в жанре Action выпускается больше всего."
   ]
  },
  {
   "cell_type": "markdown",
   "metadata": {},
   "source": [
    "Построим сводную таблицу по жанрам, посчитав количество, средние, медианные и суммарные продажи."
   ]
  },
  {
   "cell_type": "code",
   "execution_count": 40,
   "metadata": {},
   "outputs": [
    {
     "data": {
      "text/html": [
       "<style  type=\"text/css\" >\n",
       "</style><table id=\"T_da35b_\" ><thead>    <tr>        <th class=\"blank level0\" ></th>        <th class=\"col_heading level0 col0\" >count</th>        <th class=\"col_heading level0 col1\" >mean_sales</th>        <th class=\"col_heading level0 col2\" >median_sales</th>        <th class=\"col_heading level0 col3\" >total_sales</th>    </tr>    <tr>        <th class=\"index_name level0\" >genre</th>        <th class=\"blank\" ></th>        <th class=\"blank\" ></th>        <th class=\"blank\" ></th>        <th class=\"blank\" ></th>    </tr></thead><tbody>\n",
       "                <tr>\n",
       "                        <th id=\"T_da35b_level0_row0\" class=\"row_heading level0 row0\" >Action</th>\n",
       "                        <td id=\"T_da35b_row0_col0\" class=\"data row0 col0\" >1287</td>\n",
       "                        <td id=\"T_da35b_row0_col1\" class=\"data row0 col1\" >0.439</td>\n",
       "                        <td id=\"T_da35b_row0_col2\" class=\"data row0 col2\" >0.130000</td>\n",
       "                        <td id=\"T_da35b_row0_col3\" class=\"data row0 col3\" >565.220000</td>\n",
       "            </tr>\n",
       "            <tr>\n",
       "                        <th id=\"T_da35b_level0_row1\" class=\"row_heading level0 row1\" >Shooter</th>\n",
       "                        <td id=\"T_da35b_row1_col0\" class=\"data row1 col0\" >332</td>\n",
       "                        <td id=\"T_da35b_row1_col1\" class=\"data row1 col1\" >1.214</td>\n",
       "                        <td id=\"T_da35b_row1_col2\" class=\"data row1 col2\" >0.410000</td>\n",
       "                        <td id=\"T_da35b_row1_col3\" class=\"data row1 col3\" >402.960000</td>\n",
       "            </tr>\n",
       "            <tr>\n",
       "                        <th id=\"T_da35b_level0_row2\" class=\"row_heading level0 row2\" >Role-Playing</th>\n",
       "                        <td id=\"T_da35b_row2_col0\" class=\"data row2 col0\" >465</td>\n",
       "                        <td id=\"T_da35b_row2_col1\" class=\"data row2 col1\" >0.528</td>\n",
       "                        <td id=\"T_da35b_row2_col2\" class=\"data row2 col2\" >0.150000</td>\n",
       "                        <td id=\"T_da35b_row2_col3\" class=\"data row2 col3\" >245.630000</td>\n",
       "            </tr>\n",
       "            <tr>\n",
       "                        <th id=\"T_da35b_level0_row3\" class=\"row_heading level0 row3\" >Sports</th>\n",
       "                        <td id=\"T_da35b_row3_col0\" class=\"data row3 col0\" >390</td>\n",
       "                        <td id=\"T_da35b_row3_col1\" class=\"data row3 col1\" >0.609</td>\n",
       "                        <td id=\"T_da35b_row3_col2\" class=\"data row3 col2\" >0.200000</td>\n",
       "                        <td id=\"T_da35b_row3_col3\" class=\"data row3 col3\" >237.400000</td>\n",
       "            </tr>\n",
       "            <tr>\n",
       "                        <th id=\"T_da35b_level0_row4\" class=\"row_heading level0 row4\" >Misc</th>\n",
       "                        <td id=\"T_da35b_row4_col0\" class=\"data row4 col0\" >382</td>\n",
       "                        <td id=\"T_da35b_row4_col1\" class=\"data row4 col1\" >0.366</td>\n",
       "                        <td id=\"T_da35b_row4_col2\" class=\"data row4 col2\" >0.120000</td>\n",
       "                        <td id=\"T_da35b_row4_col3\" class=\"data row4 col3\" >139.910000</td>\n",
       "            </tr>\n",
       "            <tr>\n",
       "                        <th id=\"T_da35b_level0_row5\" class=\"row_heading level0 row5\" >Platform</th>\n",
       "                        <td id=\"T_da35b_row5_col0\" class=\"data row5 col0\" >122</td>\n",
       "                        <td id=\"T_da35b_row5_col1\" class=\"data row5 col1\" >0.727</td>\n",
       "                        <td id=\"T_da35b_row5_col2\" class=\"data row5 col2\" >0.185000</td>\n",
       "                        <td id=\"T_da35b_row5_col3\" class=\"data row5 col3\" >88.680000</td>\n",
       "            </tr>\n",
       "            <tr>\n",
       "                        <th id=\"T_da35b_level0_row6\" class=\"row_heading level0 row6\" >Racing</th>\n",
       "                        <td id=\"T_da35b_row6_col0\" class=\"data row6 col0\" >180</td>\n",
       "                        <td id=\"T_da35b_row6_col1\" class=\"data row6 col1\" >0.491</td>\n",
       "                        <td id=\"T_da35b_row6_col2\" class=\"data row6 col2\" >0.160000</td>\n",
       "                        <td id=\"T_da35b_row6_col3\" class=\"data row6 col3\" >88.310000</td>\n",
       "            </tr>\n",
       "            <tr>\n",
       "                        <th id=\"T_da35b_level0_row7\" class=\"row_heading level0 row7\" >Fighting</th>\n",
       "                        <td id=\"T_da35b_row7_col0\" class=\"data row7 col0\" >159</td>\n",
       "                        <td id=\"T_da35b_row7_col1\" class=\"data row7 col1\" >0.421</td>\n",
       "                        <td id=\"T_da35b_row7_col2\" class=\"data row7 col2\" >0.180000</td>\n",
       "                        <td id=\"T_da35b_row7_col3\" class=\"data row7 col3\" >66.900000</td>\n",
       "            </tr>\n",
       "            <tr>\n",
       "                        <th id=\"T_da35b_level0_row8\" class=\"row_heading level0 row8\" >Simulation</th>\n",
       "                        <td id=\"T_da35b_row8_col0\" class=\"data row8 col0\" >136</td>\n",
       "                        <td id=\"T_da35b_row8_col1\" class=\"data row8 col1\" >0.370</td>\n",
       "                        <td id=\"T_da35b_row8_col2\" class=\"data row8 col2\" >0.110000</td>\n",
       "                        <td id=\"T_da35b_row8_col3\" class=\"data row8 col3\" >50.260000</td>\n",
       "            </tr>\n",
       "            <tr>\n",
       "                        <th id=\"T_da35b_level0_row9\" class=\"row_heading level0 row9\" >Adventure</th>\n",
       "                        <td id=\"T_da35b_row9_col0\" class=\"data row9 col0\" >410</td>\n",
       "                        <td id=\"T_da35b_row9_col1\" class=\"data row9 col1\" >0.110</td>\n",
       "                        <td id=\"T_da35b_row9_col2\" class=\"data row9 col2\" >0.030000</td>\n",
       "                        <td id=\"T_da35b_row9_col3\" class=\"data row9 col3\" >45.040000</td>\n",
       "            </tr>\n",
       "            <tr>\n",
       "                        <th id=\"T_da35b_level0_row10\" class=\"row_heading level0 row10\" >Strategy</th>\n",
       "                        <td id=\"T_da35b_row10_col0\" class=\"data row10 col0\" >118</td>\n",
       "                        <td id=\"T_da35b_row10_col1\" class=\"data row10 col1\" >0.191</td>\n",
       "                        <td id=\"T_da35b_row10_col2\" class=\"data row10 col2\" >0.080000</td>\n",
       "                        <td id=\"T_da35b_row10_col3\" class=\"data row10 col3\" >22.510000</td>\n",
       "            </tr>\n",
       "            <tr>\n",
       "                        <th id=\"T_da35b_level0_row11\" class=\"row_heading level0 row11\" >Puzzle</th>\n",
       "                        <td id=\"T_da35b_row11_col0\" class=\"data row11 col0\" >71</td>\n",
       "                        <td id=\"T_da35b_row11_col1\" class=\"data row11 col1\" >0.139</td>\n",
       "                        <td id=\"T_da35b_row11_col2\" class=\"data row11 col2\" >0.050000</td>\n",
       "                        <td id=\"T_da35b_row11_col3\" class=\"data row11 col3\" >9.850000</td>\n",
       "            </tr>\n",
       "    </tbody></table>"
      ],
      "text/plain": [
       "<pandas.io.formats.style.Styler at 0x141f1d5f850>"
      ]
     },
     "execution_count": 40,
     "metadata": {},
     "output_type": "execute_result"
    }
   ],
   "source": [
    "sales_by_genre = actual_games.pivot_table(index='genre',values='total_sales', \n",
    "                                          aggfunc={'total_sales':['count', 'mean', 'median', 'sum']}).sort_values('sum', ascending = False)\n",
    "sales_by_genre = sales_by_genre.rename(columns={'mean':'mean_sales','median':'median_sales','sum':'total_sales'})\n",
    "sales_by_genre.style.format({'mean_sales': '{:.3f}'})"
   ]
  },
  {
   "cell_type": "code",
   "execution_count": 41,
   "metadata": {},
   "outputs": [
    {
     "data": {
      "image/png": "[encoded data removed]",
      "text/plain": [
       "<Figure size 1440x504 with 1 Axes>"
      ]
     },
     "metadata": {},
     "output_type": "display_data"
    }
   ],
   "source": [
    "fig, ax = plt.subplots(figsize=(20,7))\n",
    "sns.barplot(x=sales_by_genre.index,y=sales_by_genre['total_sales'], ax=ax, color=\"#e274cf\")\n",
    "ax.set_title('Распределение продаж по жанрам, начиная с 2011 года', fontsize=15)\n",
    "ax.set_xlabel('')\n",
    "ax.set_ylabel('Продано, млн копий')\n",
    "show_values_on_bars(ax)\n",
    "plt.show()"
   ]
  },
  {
   "cell_type": "markdown",
   "metadata": {},
   "source": [
    " Лучше всего продаются игры Action и Shooter, а хуже всего - Adventure, Strategy и Puzzle."
   ]
  },
  {
   "cell_type": "markdown",
   "metadata": {},
   "source": [
    "Посмотрим на распределение продаж, построив boxplot, отсортированный по медианным продажам."
   ]
  },
  {
   "cell_type": "code",
   "execution_count": 42,
   "metadata": {},
   "outputs": [
    {
     "data": {
      "image/png": "[encoded data removed]",
      "text/plain": [
       "<Figure size 1152x720 with 1 Axes>"
      ]
     },
     "metadata": {},
     "output_type": "display_data"
    }
   ],
   "source": [
    "# зададим порядок сортировки\n",
    "genre_order = sales_by_genre.sort_values(by='median_sales', ascending=False)\n",
    "# построим boxplot\n",
    "fig, ax = plt.subplots(figsize=(16, 10))\n",
    "ax.set_title('Распределение продаж по жанрам', fontsize=15)\n",
    "\n",
    "sns.boxplot(y=\"genre\", x='total_sales',\n",
    "            data=actual_games, ax=ax, orient='h', order=genre_order.index)\n",
    "ax.set_xlim(0, 15)\n",
    "ax.set_ylabel('')\n",
    "ax.set_xlabel('Продано, млн копий')\n",
    "plt.show()"
   ]
  },
  {
   "cell_type": "markdown",
   "metadata": {},
   "source": [
    "Жанр Shooter выгядит более привлекательно, у него самые высокие медианные продажи и довольно много игр-бестселлеров."
   ]
  },
  {
   "cell_type": "markdown",
   "metadata": {},
   "source": [
    "##### Вывод"
   ]
  },
  {
   "cell_type": "markdown",
   "metadata": {},
   "source": [
    "- Количество игр на игровые приставки и компьютеры активно росло с 1995 до 2008 года. Видим значительное снижение после 2011 года, это может быть связано с развитием мобильных приложений.\n",
    "- Самая продаваемая историческая платформа - PS2.\n",
    "- Среднее время жизни игровой платформы - 10 лет. Пик продаж достигается на 3-6 год жизни, после чего продажи стремительно падают.\n",
    "- Актуальный временной промежуток - с 2011 года, актуальных платформ, которые были выпущены в это время всего 4: PS4, PSV, WiiU, и XOne. Из них лучше всего продаются PS4 и XOne. Обе платформы были выпущены в 2013 году.\n",
    "- Для платформ с хорошими показателями продаж существует умеренная зависимость между отзывами критиков и продажами, у игр с большими продажами обычно хорошие отзывы.\n",
    "- С 2011 года больше всего выпускается игр жанра Action.\n",
    "- Начиная с 2011 года, лучше всего продаются игры Action и Shooter, а хуже всего - Adventure, Strategy и Puzzle.\n",
    "- По медианным продажам лидирует жанр Shooter, Action только на 7м месте."
   ]
  },
  {
   "cell_type": "markdown",
   "metadata": {},
   "source": [
    "#### Портреты пользователей по регионам"
   ]
  },
  {
   "cell_type": "markdown",
   "metadata": {},
   "source": [
    "##### Cамые популярные платформы"
   ]
  },
  {
   "cell_type": "code",
   "execution_count": 43,
   "metadata": {
    "scrolled": false
   },
   "outputs": [
    {
     "data": {
      "image/png": "[encoded data removed]",
      "text/plain": [
       "<Figure size 1152x360 with 3 Axes>"
      ]
     },
     "metadata": {},
     "output_type": "display_data"
    }
   ],
   "source": [
    "# создадим переменные для цикла и подписей на графиках\n",
    "sales = ['na_sales', 'eu_sales', 'jp_sales']\n",
    "countries = ['Северная Америка', 'Европа', 'Япония']\n",
    "\n",
    "# построим графики\n",
    "fig, axs = plt.subplots(1, 3, figsize=(16, 5))\n",
    "fig.suptitle('Топ-5 платформ с 2011 года')\n",
    "for i, sale in enumerate(sales):\n",
    "    actual_games_sorted = actual_games.groupby(by='platform').agg({sale: 'sum'}).sort_values(by=sale,\n",
    "                                                                                             ascending=True).tail(5)\n",
    "    actual_games_sorted.plot(kind='barh', ax=axs[i], title=countries[i])\n",
    "    axs[i].set_ylabel('')\n",
    "    show_values_on_bars(axs[i], 'h')\n",
    "axs[1].set_xlabel('Продано, млн копий')\n",
    "plt.show()"
   ]
  },
  {
   "cell_type": "markdown",
   "metadata": {},
   "source": [
    "Лидеры по платформам в каждом регионе свои. В Северной Америке - это X360, в Европе - PS3 и PS4, в Японии 3DS."
   ]
  },
  {
   "cell_type": "markdown",
   "metadata": {},
   "source": [
    "##### Самые популярные жанры"
   ]
  },
  {
   "cell_type": "code",
   "execution_count": 44,
   "metadata": {},
   "outputs": [
    {
     "data": {
      "image/png": "[encoded data removed]",
      "text/plain": [
       "<Figure size 1152x360 with 3 Axes>"
      ]
     },
     "metadata": {},
     "output_type": "display_data"
    }
   ],
   "source": [
    "fig, axs = plt.subplots(1, 3, figsize=(16, 5))\n",
    "fig.suptitle('Топ-5 жанров с 2011 года')\n",
    "for i, sale in enumerate(sales):\n",
    "    actual_games.groupby(by='genre').agg({sale: 'sum'}).sort_values(by=sale, ascending=True).tail(5).plot(kind='barh',\n",
    "                                                                                                          ax=axs[i],\n",
    "                                                                                                          title=\n",
    "                                                                                                          countries[i])\n",
    "    axs[i].set_ylabel('')\n",
    "    show_values_on_bars(axs[i], 'h')\n",
    "axs[1].set_xlabel('Продано, млн копий')\n",
    "plt.tight_layout(rect=[0, 0.03, 1, 0.95])"
   ]
  },
  {
   "cell_type": "markdown",
   "metadata": {},
   "source": [
    "Любовь к жанру Action объединяет пользователей всех регионов.  \n",
    "В Японии лидером является Role-Playing, но в Северной Америке и Европе этот жанр только четвёртый по популярности."
   ]
  },
  {
   "cell_type": "markdown",
   "metadata": {},
   "source": [
    "##### Влияние рейтинга ESRB на продажи"
   ]
  },
  {
   "cell_type": "code",
   "execution_count": 45,
   "metadata": {},
   "outputs": [
    {
     "data": {
      "image/png": "[encoded data removed]",
      "text/plain": [
       "<Figure size 1152x360 with 3 Axes>"
      ]
     },
     "metadata": {},
     "output_type": "display_data"
    }
   ],
   "source": [
    "fig, axs = plt.subplots(1, 3, figsize=(16, 5))\n",
    "fig.suptitle('Продажи, в разбивке по рейтингу ESRB')\n",
    "for i, sale in enumerate(sales):\n",
    "    actual_games.groupby(by='rating').agg({sale: 'sum'}).sort_values(by=sale, ascending=True).tail(5).plot(kind='barh',\n",
    "                                                                                                           ax=axs[i],\n",
    "                                                                                                           title=\n",
    "                                                                                                           countries[i])\n",
    "    axs[i].set_xlabel('')\n",
    "    axs[i].set_ylabel('')\n",
    "    show_values_on_bars(axs[i], 'h')\n",
    "axs[1].set_xlabel('Продано, млн копий')\n",
    "plt.show()    "
   ]
  },
  {
   "cell_type": "markdown",
   "metadata": {},
   "source": [
    "Видим схожее распредение для Северной Америки и Европы, там уверено лидируют игры «M» («Mature») - «Для взрослых».  \n",
    "В Японии в лидерах игры «NoR» («Без рейтинга»), далее со значительным оставанием идут «E» («Everyone») - «Для всех» и «T» («Teen») - «Подросткам»."
   ]
  },
  {
   "cell_type": "markdown",
   "metadata": {},
   "source": [
    "##### Вывод"
   ]
  },
  {
   "cell_type": "markdown",
   "metadata": {},
   "source": [
    "- Лидеры по платформам: Северная Америка - X360, Европа - PS3 и PS4, Япония - 3DS.  \n",
    "- Северная Америка и Европа практически идентичны по топ-5 игровых жанров.  \n",
    "- Action хорошо продается во всех регионах, включая Японию.  \n",
    "- В Японии лидером является Role-Playing, хотя в Северной Америке и Европе этот жанр только четвёртый по популярности.   \n",
    "- В Северной Америке и Европе уверено лидируют игры с рейтингом «M» («Mature») - «Для взрослых», в Японии в лидерах игры «NoR» («Без рейтинга»), далее со значительным оставанием идут «E» («Everyone») - «Для всех» и «T» («Teen») - «Подросткам»."
   ]
  },
  {
   "cell_type": "markdown",
   "metadata": {},
   "source": [
    "####  Проверка гипотез"
   ]
  },
  {
   "cell_type": "markdown",
   "metadata": {},
   "source": [
    "##### Средние пользовательские рейтинги платформ Xbox One и PC одинаковые."
   ]
  },
  {
   "cell_type": "markdown",
   "metadata": {},
   "source": [
    "Будем проверять две выборки на равенство их средних.  \n",
    "Первая выборка - пользовательские рейтинги Xbox One, вторая - оценки PC.  \n",
    "Возьмём данные за актуальный период, удалим пустые значения."
   ]
  },
  {
   "cell_type": "code",
   "execution_count": 46,
   "metadata": {},
   "outputs": [
    {
     "name": "stdout",
     "output_type": "stream",
     "text": [
      "Оценок Xbox One: 182 \n",
      "PC: 314\n"
     ]
    }
   ],
   "source": [
    "xone_user_score = actual_games.query('platform == \"XOne\"').loc[:, 'user_score'].dropna()\n",
    "pc_user_score = actual_games.query('platform == \"PC\"').loc[:, 'user_score'].dropna()\n",
    "print('Оценок Xbox One:', len(xone_user_score), '\\nPC:', len(pc_user_score))"
   ]
  },
  {
   "cell_type": "markdown",
   "metadata": {},
   "source": [
    "Сформулируем нулевые гипотезы:  \n",
    "H₀ - средние пользовательские рейтинги платформ Xbox One и PC одинаковые;  \n",
    "H₁ - средние пользовательские рейтинги платформ Xbox One и PC различаются.  \n",
    "\n",
    "Уровень значимости зададим равным 5%\n",
    "\n",
    "Сравним дисперсии, чтобы корректно выбрать значение equal_var."
   ]
  },
  {
   "cell_type": "code",
   "execution_count": 47,
   "metadata": {},
   "outputs": [
    {
     "name": "stdout",
     "output_type": "stream",
     "text": [
      "Дисперсия пользовательских рейтингов платформы Xbox One 1.90699684293607\n",
      "Дисперсия пользовательских рейтингов платформы PC 2.5759813597606867\n"
     ]
    }
   ],
   "source": [
    "print('Дисперсия пользовательских рейтингов платформы Xbox One',\n",
    "      (xone_user_score.describe()['std'] ** 2))\n",
    "print('Дисперсия пользовательских рейтингов платформы PC',\n",
    "      (pc_user_score.describe()['std'] ** 2))                               "
   ]
  },
  {
   "cell_type": "markdown",
   "metadata": {},
   "source": [
    "Дисперсии отличаются, оставим значение по умолчанию, т.е. equal_var = False."
   ]
  },
  {
   "cell_type": "code",
   "execution_count": 48,
   "metadata": {},
   "outputs": [
    {
     "name": "stdout",
     "output_type": "stream",
     "text": [
      "P-value: 0.6981816747159801\n",
      "Не получилось отвергнуть нулевую гипотезу\n"
     ]
    }
   ],
   "source": [
    "alpha = 0.05\n",
    "results = st.ttest_ind(xone_user_score, pc_user_score)\n",
    "print('P-value:', results.pvalue)\n",
    "\n",
    "if (results.pvalue < alpha):\n",
    "    print(\"Отвергаем нулевую гипотезу\")\n",
    "else:\n",
    "    print(\"Не получилось отвергнуть нулевую гипотезу\")"
   ]
  },
  {
   "cell_type": "markdown",
   "metadata": {},
   "source": [
    "Для выбранного уровня значимости не получилось отвергнуть нулевую гипотезу.  \n",
    "Следовательно, средние пользовательские рейтинги платформ Xbox One и PC одинаковые."
   ]
  },
  {
   "cell_type": "markdown",
   "metadata": {},
   "source": [
    "##### Средние пользовательские рейтинги жанров Action и Sports разные."
   ]
  },
  {
   "cell_type": "markdown",
   "metadata": {},
   "source": [
    "Будем проверять две выборки на равенство их средних.  \n",
    "Первая выборка - пользовательские рейтинги игр жанра Action, вторая - оценки Sports.  \n",
    "Возьмём данные за актуальный период, удалим пустые значения."
   ]
  },
  {
   "cell_type": "code",
   "execution_count": 49,
   "metadata": {},
   "outputs": [
    {
     "name": "stdout",
     "output_type": "stream",
     "text": [
      "Оценок Action: 675 \n",
      "Sport: 246\n"
     ]
    }
   ],
   "source": [
    "action_user_score = actual_games.query('genre == \"Action\"').loc[:, 'user_score'].dropna()\n",
    "sports_user_score = actual_games.query('genre == \"Sports\"').loc[:, 'user_score'].dropna()\n",
    "print('Оценок Action:', len(action_user_score), '\\nSport:', len(sports_user_score))"
   ]
  },
  {
   "cell_type": "markdown",
   "metadata": {},
   "source": [
    "Сформулируем нулевые гипотезы:  \n",
    "H₀ - средние пользовательские рейтинги жанров Action и Sports одинаковые;  \n",
    "H₁ - средние пользовательские рейтинги жанров Action и Sports различаются.  \n",
    "\n",
    "Уровень значимости зададим равным 5%\n",
    "\n",
    "Сравним дисперсии, чтобы корректно выбрать значение equal_var."
   ]
  },
  {
   "cell_type": "code",
   "execution_count": 50,
   "metadata": {},
   "outputs": [
    {
     "name": "stdout",
     "output_type": "stream",
     "text": [
      "Дисперсия пользовательских рейтингов игр жанра Action 1.8013857346961217\n",
      "Дисперсия пользовательских рейтингов игр жанра Sports 2.882509540401525\n"
     ]
    }
   ],
   "source": [
    "print('Дисперсия пользовательских рейтингов игр жанра Action',\n",
    "      (action_user_score.describe()['std'] ** 2))\n",
    "print('Дисперсия пользовательских рейтингов игр жанра Sports',\n",
    "      (sports_user_score.describe()['std'] ** 2)) "
   ]
  },
  {
   "cell_type": "markdown",
   "metadata": {},
   "source": [
    "Дисперсии отличаются, оставим значение по умолчанию, т.е. equal_var = False."
   ]
  },
  {
   "cell_type": "code",
   "execution_count": 51,
   "metadata": {},
   "outputs": [
    {
     "name": "stdout",
     "output_type": "stream",
     "text": [
      "P-value: 1.551415375928656e-24\n",
      "Отвергаем нулевую гипотезу\n"
     ]
    }
   ],
   "source": [
    "alpha = 0.05\n",
    "results = st.ttest_ind(action_user_score, sports_user_score)\n",
    "print('P-value:', results.pvalue)\n",
    "\n",
    "if (results.pvalue < alpha):\n",
    "    print(\"Отвергаем нулевую гипотезу\")\n",
    "else:\n",
    "    print(\"Не получилось отвергнуть нулевую гипотезу\")"
   ]
  },
  {
   "cell_type": "markdown",
   "metadata": {},
   "source": [
    "Для выбранного уровня значимости отвергаем нулевую гипотезу.  \n",
    "Следовательно, средние пользовательские рейтинги жанров Action и Sports различаются."
   ]
  },
  {
   "cell_type": "markdown",
   "metadata": {},
   "source": [
    "##### Вывод"
   ]
  },
  {
   "cell_type": "markdown",
   "metadata": {},
   "source": [
    "Проверили две гипотезы:  \n",
    "1) Средние пользовательские рейтинги платформ Xbox One и PC одинаковые.  \n",
    "2) Средние пользовательские рейтинги жанров Action и Sports различаются.\n",
    "\n",
    "Обе гипотезы потвердились."
   ]
  },
  {
   "cell_type": "markdown",
   "metadata": {},
   "source": [
    "#### Общий вывод"
   ]
  },
  {
   "cell_type": "markdown",
   "metadata": {},
   "source": [
    "\n",
    "***Что было сделано:***    \n",
    "В ходе проекта проанализировали исторические данные из открытых источников о продажах игр, оценки пользователей и экспертов, жанры и платформы. Выявили закономерности, которые определяют успешность игры. \n",
    "- Провели предобработку данных, привели данные к нужным типам, обработали пропуски.  \n",
    "- Рассчитали вспомогательные значения для анализа: суммарные продажи во всех регионах.  \n",
    "- Провели исследовательский анализ данных.    \n",
    "- Составили портрет пользователя каждого региона.    \n",
    "- Проверили две гипотезы о равенстве средних пользовательских рейтингов платформ Xbox One и PC и о различии\n",
    "средних пользовательских рейтингов жанров Action и Sports.\n",
    "     \n",
    "    \n",
    "***Результаты анализа:***    \n",
    "- Количество игр на игровые приставки и компьютеры активно росло с 1995 до 2008 года.  \n",
    "- Максимальное число игр в год(1400+) выпускалось в 2008-2009 годах. \n",
    "- Наблюдается значительное снижение после 2011 года, это может быть связано с развитием мобильных приложений.    \n",
    "- Самая продаваемая историческая платформа - PS2.\n",
    "- Среднее время жизни игровой платформы - 10 лет. Пик продаж достигается на 3-6 год жизни, после чего продажи стремительно падают.   \n",
    "- Актуальный временной промежуток - с 2011 года, актуальных платформ, которые были выпущены в это время всего 4: PS4, PSV, WiiU,  и XOne. Из них лучше всего продаются PS4 и XOne. Обе платформы были выпущены в 2013 году. \n",
    "- Cуществует умеренная взаимосвязь между отзывами критиков и продажами, у игр с большими продажами обычно хорошие отзывы.   \n",
    "- Начиная с 2011 года, лучше всего продаются игры Action и Shooter, а хуже всего - Adventure, Strategy и Puzzle. \n",
    "- По медианным продажам уверенно лидирует жанр Shooter, Action только на 7м месте.    \n",
    "- в Северной Америке и в Европе лидируют игры с возрастным рейтингом Mature, а в Японии - игры, по которым рейтинг неизвестен, далее со значительным оставанием идут Everyone и Teen.   \n",
    "    \n",
    "***Результаты проверки гипотез:***   \n",
    "Обе гипотезы подтвердились.    \n",
    "- Средние пользовательские рейтинги платформ Xbox One и PC одинаковые.    \n",
    "- Средние пользовательские рейтинги жанров Action и Sports различаются.\n",
    "    \n",
    "***Рекомендации:***\n",
    "    \n",
    "- Самые перспективные с точки зрения продаж плаформы: PS4 и XOnе, жанры: Action и Shooter.  \n",
    "- У игр жанра Shooter самые высокие средние и медианные продажи, они более стабильные. Однако, не стоит забывать и о жанре Action, в нем регулярно выходят игры, которые становятся бестселлерами.\n",
    "- При выборе уже выпущенных игр, но которых нет в нашем магазине, необходимо обращать внимание на рейтинг от критиков. Игры с хорошим рейтингом будут хорошо продаваться.    \n",
    "- При планировании маркетинговой стратегии для новых игр необходимо учесть бюджет на работу с критиками. \n",
    "- При таргетировании по регионам, необходимо учесть, что в Северной Америке и в Европе лидируют игры с возрастным рейтингом Mature. Про Японию нет информации, так как в лидерах игры с неизвестным рейтингом. В Японии очень популярны игры жанра Role-Playing. В Северной Америке и в Европе - Action и Shooter.\n",
    "\n",
    "\n",
    "***Что необходимо сделать:***\n",
    "    \n",
    "- Добавить данные по продажам за каждый год, так мы сможем проанализировать более качественно.   \n",
    "- Добавить информацию о стоимости, потому что сейчас мы ничего не знаем о деньгах.   \n",
    "- Провести вместе с коллегами расширенный анализ и выявить причину незаполненных значений. Данные доступны в таблицах `no_rating`, `no_user_score` и `no_critic_score`.   \n",
    "\n",
    "Если обнаружатся ошибки в выгрузке, то следует сделать повторную выгрузку. Так мы сможем получить больше данных для анализа и более высокую точность выводов."
   ]
  }
 ],
 "metadata": {
  "kernelspec": {
   "display_name": "Python 3",
   "language": "python",
   "name": "python3"
  },
  "language_info": {
   "codemirror_mode": {
    "name": "ipython",
    "version": 3
   },
   "file_extension": ".py",
   "mimetype": "text/x-python",
   "name": "python",
   "nbconvert_exporter": "python",
   "pygments_lexer": "ipython3",
   "version": "3.8.8"
  },
  "toc": {
   "base_numbering": 1,
   "nav_menu": {},
   "number_sections": true,
   "sideBar": true,
   "skip_h1_title": true,
   "title_cell": " ",
   "title_sidebar": "Содержание",
   "toc_cell": true,
   "toc_position": {
    "height": "calc(100% - 180px)",
    "left": "10px",
    "top": "150px",
    "width": "289.6px"
   },
   "toc_section_display": true,
   "toc_window_display": true
  }
 },
 "nbformat": 4,
 "nbformat_minor": 2
}
