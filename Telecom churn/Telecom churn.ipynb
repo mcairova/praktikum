{
 "cells": [
  {
   "cell_type": "markdown",
   "metadata": {
    "toc": true
   },
   "source": [
    "<h1>Содержание<span class=\"tocSkip\"></span></h1>\n",
    "<div class=\"toc\"><ul class=\"toc-item\"><li><span><a href=\"#Описание-проекта\" data-toc-modified-id=\"Описание-проекта-1\"><span class=\"toc-item-num\">1&nbsp;&nbsp;</span>Описание проекта</a></span><ul class=\"toc-item\"><li><span><a href=\"#Описание-услуг\" data-toc-modified-id=\"Описание-услуг-1.1\"><span class=\"toc-item-num\">1.1&nbsp;&nbsp;</span>Описание услуг</a></span></li><li><span><a href=\"#Описание-данных\" data-toc-modified-id=\"Описание-данных-1.2\"><span class=\"toc-item-num\">1.2&nbsp;&nbsp;</span>Описание данных</a></span></li></ul></li><li><span><a href=\"#Импорт-библиотек-и-настройка-окружения\" data-toc-modified-id=\"Импорт-библиотек-и-настройка-окружения-2\"><span class=\"toc-item-num\">2&nbsp;&nbsp;</span>Импорт библиотек и настройка окружения</a></span></li><li><span><a href=\"#Функции\" data-toc-modified-id=\"Функции-3\"><span class=\"toc-item-num\">3&nbsp;&nbsp;</span>Функции</a></span><ul class=\"toc-item\"><li><span><a href=\"#display_tables\" data-toc-modified-id=\"display_tables-3.1\"><span class=\"toc-item-num\">3.1&nbsp;&nbsp;</span>display_tables</a></span></li><li><span><a href=\"#show_values_on_bars\" data-toc-modified-id=\"show_values_on_bars-3.2\"><span class=\"toc-item-num\">3.2&nbsp;&nbsp;</span>show_values_on_bars</a></span></li></ul></li><li><span><a href=\"#Первичный-анализ\" data-toc-modified-id=\"Первичный-анализ-4\"><span class=\"toc-item-num\">4&nbsp;&nbsp;</span>Первичный анализ</a></span><ul class=\"toc-item\"><li><span><a href=\"#Чтение-файлов-и-изучение-данных\" data-toc-modified-id=\"Чтение-файлов-и-изучение-данных-4.1\"><span class=\"toc-item-num\">4.1&nbsp;&nbsp;</span>Чтение файлов и изучение данных</a></span></li></ul></li><li><span><a href=\"#План-работ\" data-toc-modified-id=\"План-работ-5\"><span class=\"toc-item-num\">5&nbsp;&nbsp;</span>План работ</a></span></li><li><span><a href=\"#Предобработка\" data-toc-modified-id=\"Предобработка-6\"><span class=\"toc-item-num\">6&nbsp;&nbsp;</span>Предобработка</a></span><ul class=\"toc-item\"><li><span><a href=\"#Таблица-contract\" data-toc-modified-id=\"Таблица-contract-6.1\"><span class=\"toc-item-num\">6.1&nbsp;&nbsp;</span>Таблица contract</a></span></li><li><span><a href=\"#Объединение-таблиц\" data-toc-modified-id=\"Объединение-таблиц-6.2\"><span class=\"toc-item-num\">6.2&nbsp;&nbsp;</span>Объединение таблиц</a></span></li></ul></li><li><span><a href=\"#Анализ-данных\" data-toc-modified-id=\"Анализ-данных-7\"><span class=\"toc-item-num\">7&nbsp;&nbsp;</span>Анализ данных</a></span></li><li><span><a href=\"#Подготовка-к-обучению\" data-toc-modified-id=\"Подготовка-к-обучению-8\"><span class=\"toc-item-num\">8&nbsp;&nbsp;</span>Подготовка к обучению</a></span></li><li><span><a href=\"#Моделирование\" data-toc-modified-id=\"Моделирование-9\"><span class=\"toc-item-num\">9&nbsp;&nbsp;</span>Моделирование</a></span></li><li><span><a href=\"#Тестирование-лучших-моделей\" data-toc-modified-id=\"Тестирование-лучших-моделей-10\"><span class=\"toc-item-num\">10&nbsp;&nbsp;</span>Тестирование лучших моделей</a></span></li><li><span><a href=\"#Вывод\" data-toc-modified-id=\"Вывод-11\"><span class=\"toc-item-num\">11&nbsp;&nbsp;</span>Вывод</a></span></li></ul></div>"
   ]
  },
  {
   "cell_type": "markdown",
   "metadata": {},
   "source": [
    "# Прогнозирование оттока клиентов"
   ]
  },
  {
   "cell_type": "markdown",
   "metadata": {},
   "source": [
    "## Описание проекта"
   ]
  },
  {
   "cell_type": "markdown",
   "metadata": {},
   "source": [
    "Оператор связи «Ниединогоразрыва.ком» хочет научиться прогнозировать отток клиентов.  \n",
    "Если выяснится, что пользователь планирует уйти, ему будут предложены промокоды и специальные условия.  "
   ]
  },
  {
   "cell_type": "markdown",
   "metadata": {},
   "source": [
    "***Что надо сделать:***  \n",
    "-  построить модель для прогнозирования оттока.\n",
    "\n",
    "❗Важно получить метрику качества `AUC-ROC` не меньше 0.88. \n",
    "\n",
    "***Данные:***\n",
    "- набор данных о клиентах, информация об их тарифах и договорах.\n",
    "- информация о договорах актуальна на 1 февраля 2020 года.\n",
    "\n",
    "***Дополнительные условия:*** \n",
    "- основная метрика качества — `AUC-ROC`, вспомогательная — `accuracy`.\n",
    "- ограничений по используемым моделям нет."
   ]
  },
  {
   "cell_type": "markdown",
   "metadata": {},
   "source": [
    "### Описание услуг\n",
    "\n",
    "Оператор предоставляет два основных типа услуг: \n",
    "\n",
    "- Стационарную телефонную связь. Возможно подключение телефонного аппарата к нескольким линиям одновременно.\n",
    "- Интернет. Подключение может быть двух типов: через телефонную линию (DSL*,* от англ. *digital subscriber line*, «цифровая абонентская линия») или оптоволоконный кабель (*Fiber optic*).  \n",
    "\n",
    "Также доступны такие услуги:\n",
    "\n",
    "- Интернет-безопасность: антивирус (*DeviceProtection*) и блокировка небезопасных сайтов (*OnlineSecurity*);\n",
    "- Выделенная линия технической поддержки (*TechSupport*);\n",
    "- Облачное хранилище файлов для резервного копирования данных (*OnlineBackup*);\n",
    "- Стриминговое телевидение (*StreamingTV*) и каталог фильмов (*StreamingMovies*).\n",
    "\n",
    "За услуги клиенты могут платить каждый месяц или заключить договор на 1–2 года. Доступны различные способы расчёта и возможность получения электронного чека."
   ]
  },
  {
   "cell_type": "markdown",
   "metadata": {},
   "source": [
    "### Описание данных"
   ]
  },
  {
   "cell_type": "markdown",
   "metadata": {},
   "source": [
    "Данные состоят из файлов, полученных из разных источников:\n",
    "\n",
    "- `contract.csv` — информация о договоре;\n",
    "- `personal.csv` — персональные данные клиента;\n",
    "- `internet.csv` — информация об интернет-услугах;\n",
    "- `phone.csv` — информация об услугах телефонии.\n",
    "\n",
    "Во всех файлах столбец `customerID` содержит код клиента.\n",
    "\n",
    "***Целевой признак:*** столбец `'EndDate'` равен `'No'`."
   ]
  },
  {
   "cell_type": "markdown",
   "metadata": {},
   "source": [
    "## Импорт библиотек и настройка окружения"
   ]
  },
  {
   "cell_type": "code",
   "execution_count": 1,
   "metadata": {},
   "outputs": [],
   "source": [
    "!pip install --upgrade scikit-learn --quiet\n",
    "!pip install --upgrade seaborn --quiet\n",
    "!pip install --upgrade pandas --quiet\n",
    "!pip install --upgrade catboost --quiet"
   ]
  },
  {
   "cell_type": "code",
   "execution_count": 2,
   "metadata": {},
   "outputs": [],
   "source": [
    "# базовые библиотеки для работы с данными\n",
    "import pandas as pd\n",
    "import numpy as np\n",
    "\n",
    "# библиотеки, методы и метрики машинного обучения\n",
    "from sklearn.model_selection import train_test_split\n",
    "from sklearn.preprocessing import StandardScaler, OneHotEncoder\n",
    "from sklearn.utils import shuffle\n",
    "\n",
    "from sklearn.linear_model import LogisticRegression\n",
    "from sklearn.neighbors import KNeighborsClassifier\n",
    "from sklearn.tree import DecisionTreeClassifier\n",
    "from lightgbm import LGBMClassifier\n",
    "\n",
    "from catboost import CatBoostClassifier\n",
    "from sklearn.ensemble import RandomForestClassifier\n",
    "\n",
    "from sklearn.metrics import f1_score, roc_auc_score, confusion_matrix, roc_curve, accuracy_score \n",
    "from sklearn.metrics import precision_recall_curve\n",
    "from sklearn.metrics import precision_score, average_precision_score, recall_score\n",
    "from sklearn.inspection import permutation_importance\n",
    "\n",
    "from sklearn.compose import ColumnTransformer\n",
    "from sklearn.pipeline import Pipeline\n",
    "from sklearn.model_selection import GridSearchCV\n",
    "\n",
    "\n",
    "# методы для отображения данных\n",
    "import ipywidgets as widgets\n",
    "from IPython.display import display, HTML, display_html\n",
    "\n",
    "# библиотеки для построения графиков\n",
    "import matplotlib.pyplot as plt\n",
    "import seaborn as sns\n",
    "sns.set_style(\"whitegrid\")\n",
    "sns.set_palette(\"husl\", 8)\n",
    "sns.set_context(\"notebook\")\n",
    "\n",
    "# отключение предупреждений\n",
    "import warnings\n",
    "warnings.filterwarnings('ignore')\n",
    "pd.options.mode.chained_assignment = None"
   ]
  },
  {
   "cell_type": "markdown",
   "metadata": {},
   "source": [
    "## Функции"
   ]
  },
  {
   "cell_type": "markdown",
   "metadata": {},
   "source": [
    "Вынесем в отдельный раздел все функции, так их будет удобнее искать."
   ]
  },
  {
   "cell_type": "markdown",
   "metadata": {},
   "source": [
    "### display_tables"
   ]
  },
  {
   "cell_type": "code",
   "execution_count": 3,
   "metadata": {},
   "outputs": [],
   "source": [
    "def display_tables(dfs: list, captions: list, title=None):\n",
    "    \"\"\"Функция для компактного отображения таблиц.\n",
    "    Аргументы:\n",
    "    dfs — список таблиц;\n",
    "    captions — список заголовков таблиц;\n",
    "    title — общий заголовок, необязательный параметр.\n",
    "    \"\"\"\n",
    "    output = \"\"\n",
    "    # проверка на совпадение числа таблиц и заголовков\n",
    "    if len(dfs) != len(captions):\n",
    "        raise ValueError('Число таблиц и заголовков должно совпадать!')\n",
    "    # объединяем аргументы в словарь\n",
    "    combined = dict(zip(captions, dfs))\n",
    "    if title is not None:\n",
    "        print(\"\\033[1m\", title, \"\\033[0m\")\n",
    "    for caption, df in combined.items():\n",
    "        # настраиваем параметры вывода\n",
    "        output += df.style.set_table_attributes(\"style='display:inline'\").set_caption(caption)._repr_html_()\n",
    "        output += \"\\xa0\\xa0\\xa0\"\n",
    "    display(HTML(output))\n"
   ]
  },
  {
   "cell_type": "markdown",
   "metadata": {},
   "source": [
    "### show_values_on_bars"
   ]
  },
  {
   "cell_type": "code",
   "execution_count": 4,
   "metadata": {},
   "outputs": [],
   "source": [
    "def show_values_on_bars(axs, h_v=\"v\", space=0.4):\n",
    "    \"\"\"Функция, которая показывает значения на столбчатых графиках.\n",
    "    Аргументы:\n",
    "    axs — на каком графике подписать;\n",
    "    h_v — ориентация графика, необязательный параметр;\n",
    "    space — отступ, необязательный параметр.\n",
    "    \"\"\"\n",
    "\n",
    "    def _show_on_single_plot(ax):\n",
    "        if h_v == \"v\":\n",
    "            for p in ax.patches:\n",
    "                _x = p.get_x() + p.get_width() / 2\n",
    "                _y = p.get_y() + p.get_height()\n",
    "                value = int(p.get_height())\n",
    "                ax.text(_x, _y, value, ha=\"center\")\n",
    "        elif h_v == \"h\":\n",
    "            for p in ax.patches:\n",
    "                _x = p.get_x() + p.get_width() + float(space)\n",
    "                _y = p.get_y() + p.get_height() / 2\n",
    "                value = int(p.get_width())\n",
    "                ax.text(_x, _y, value, ha=\"right\")\n",
    "\n",
    "    if isinstance(axs, np.ndarray):\n",
    "        for idx, ax in np.ndenumerate(axs):\n",
    "            _show_on_single_plot(ax)\n",
    "    else:\n",
    "        _show_on_single_plot(axs)"
   ]
  },
  {
   "cell_type": "markdown",
   "metadata": {},
   "source": [
    "## Первичный анализ"
   ]
  },
  {
   "cell_type": "markdown",
   "metadata": {},
   "source": [
    "### Чтение файлов и изучение данных"
   ]
  },
  {
   "cell_type": "markdown",
   "metadata": {},
   "source": [
    "Загрузим данные из файлов."
   ]
  },
  {
   "cell_type": "code",
   "execution_count": 5,
   "metadata": {},
   "outputs": [],
   "source": [
    "contract = pd.read_csv('/datasets/final_provider/contract.csv')\n",
    "internet = pd.read_csv('/datasets/final_provider/internet.csv')\n",
    "personal = pd.read_csv('/datasets/final_provider/personal.csv')\n",
    "phone = pd.read_csv('/datasets/final_provider/phone.csv')"
   ]
  },
  {
   "cell_type": "markdown",
   "metadata": {},
   "source": [
    "Присвоим имена таблицам для удобства работы."
   ]
  },
  {
   "cell_type": "code",
   "execution_count": 6,
   "metadata": {},
   "outputs": [],
   "source": [
    "contract.name = 'contract'\n",
    "internet.name = 'internet'\n",
    "personal.name = 'personal'\n",
    "phone.name = 'phone'"
   ]
  },
  {
   "cell_type": "markdown",
   "metadata": {},
   "source": [
    "Посмотрим на наши таблицы."
   ]
  },
  {
   "cell_type": "code",
   "execution_count": 7,
   "metadata": {
    "scrolled": false
   },
   "outputs": [
    {
     "name": "stdout",
     "output_type": "stream",
     "text": [
      "\u001b[1mТаблица contract \u001b[0m\n",
      "Общая информация, info() \n",
      "\n",
      "<class 'pandas.core.frame.DataFrame'>\n",
      "RangeIndex: 7043 entries, 0 to 7042\n",
      "Data columns (total 8 columns):\n",
      " #   Column            Non-Null Count  Dtype  \n",
      "---  ------            --------------  -----  \n",
      " 0   customerID        7043 non-null   object \n",
      " 1   BeginDate         7043 non-null   object \n",
      " 2   EndDate           7043 non-null   object \n",
      " 3   Type              7043 non-null   object \n",
      " 4   PaperlessBilling  7043 non-null   object \n",
      " 5   PaymentMethod     7043 non-null   object \n",
      " 6   MonthlyCharges    7043 non-null   float64\n",
      " 7   TotalCharges      7043 non-null   object \n",
      "dtypes: float64(1), object(7)\n",
      "memory usage: 440.3+ KB\n"
     ]
    },
    {
     "data": {
      "text/plain": [
       "None"
      ]
     },
     "metadata": {},
     "output_type": "display_data"
    },
    {
     "name": "stdout",
     "output_type": "stream",
     "text": [
      "\u001b[1m Смотрим на исходные данные \u001b[0m\n"
     ]
    },
    {
     "data": {
      "text/html": [
       "<style type=\"text/css\">\n",
       "</style>\n",
       "<table id=\"T_80c3e_\" style='display:inline'>\n",
       "  <caption>Первые 10 строк</caption>\n",
       "  <thead>\n",
       "    <tr>\n",
       "      <th class=\"blank level0\" >&nbsp;</th>\n",
       "      <th class=\"col_heading level0 col0\" >customerID</th>\n",
       "      <th class=\"col_heading level0 col1\" >BeginDate</th>\n",
       "      <th class=\"col_heading level0 col2\" >EndDate</th>\n",
       "      <th class=\"col_heading level0 col3\" >Type</th>\n",
       "      <th class=\"col_heading level0 col4\" >PaperlessBilling</th>\n",
       "      <th class=\"col_heading level0 col5\" >PaymentMethod</th>\n",
       "      <th class=\"col_heading level0 col6\" >MonthlyCharges</th>\n",
       "      <th class=\"col_heading level0 col7\" >TotalCharges</th>\n",
       "    </tr>\n",
       "  </thead>\n",
       "  <tbody>\n",
       "    <tr>\n",
       "      <th id=\"T_80c3e_level0_row0\" class=\"row_heading level0 row0\" >0</th>\n",
       "      <td id=\"T_80c3e_row0_col0\" class=\"data row0 col0\" >7590-VHVEG</td>\n",
       "      <td id=\"T_80c3e_row0_col1\" class=\"data row0 col1\" >2020-01-01</td>\n",
       "      <td id=\"T_80c3e_row0_col2\" class=\"data row0 col2\" >No</td>\n",
       "      <td id=\"T_80c3e_row0_col3\" class=\"data row0 col3\" >Month-to-month</td>\n",
       "      <td id=\"T_80c3e_row0_col4\" class=\"data row0 col4\" >Yes</td>\n",
       "      <td id=\"T_80c3e_row0_col5\" class=\"data row0 col5\" >Electronic check</td>\n",
       "      <td id=\"T_80c3e_row0_col6\" class=\"data row0 col6\" >29.850000</td>\n",
       "      <td id=\"T_80c3e_row0_col7\" class=\"data row0 col7\" >29.85</td>\n",
       "    </tr>\n",
       "    <tr>\n",
       "      <th id=\"T_80c3e_level0_row1\" class=\"row_heading level0 row1\" >1</th>\n",
       "      <td id=\"T_80c3e_row1_col0\" class=\"data row1 col0\" >5575-GNVDE</td>\n",
       "      <td id=\"T_80c3e_row1_col1\" class=\"data row1 col1\" >2017-04-01</td>\n",
       "      <td id=\"T_80c3e_row1_col2\" class=\"data row1 col2\" >No</td>\n",
       "      <td id=\"T_80c3e_row1_col3\" class=\"data row1 col3\" >One year</td>\n",
       "      <td id=\"T_80c3e_row1_col4\" class=\"data row1 col4\" >No</td>\n",
       "      <td id=\"T_80c3e_row1_col5\" class=\"data row1 col5\" >Mailed check</td>\n",
       "      <td id=\"T_80c3e_row1_col6\" class=\"data row1 col6\" >56.950000</td>\n",
       "      <td id=\"T_80c3e_row1_col7\" class=\"data row1 col7\" >1889.5</td>\n",
       "    </tr>\n",
       "    <tr>\n",
       "      <th id=\"T_80c3e_level0_row2\" class=\"row_heading level0 row2\" >2</th>\n",
       "      <td id=\"T_80c3e_row2_col0\" class=\"data row2 col0\" >3668-QPYBK</td>\n",
       "      <td id=\"T_80c3e_row2_col1\" class=\"data row2 col1\" >2019-10-01</td>\n",
       "      <td id=\"T_80c3e_row2_col2\" class=\"data row2 col2\" >2019-12-01 00:00:00</td>\n",
       "      <td id=\"T_80c3e_row2_col3\" class=\"data row2 col3\" >Month-to-month</td>\n",
       "      <td id=\"T_80c3e_row2_col4\" class=\"data row2 col4\" >Yes</td>\n",
       "      <td id=\"T_80c3e_row2_col5\" class=\"data row2 col5\" >Mailed check</td>\n",
       "      <td id=\"T_80c3e_row2_col6\" class=\"data row2 col6\" >53.850000</td>\n",
       "      <td id=\"T_80c3e_row2_col7\" class=\"data row2 col7\" >108.15</td>\n",
       "    </tr>\n",
       "    <tr>\n",
       "      <th id=\"T_80c3e_level0_row3\" class=\"row_heading level0 row3\" >3</th>\n",
       "      <td id=\"T_80c3e_row3_col0\" class=\"data row3 col0\" >7795-CFOCW</td>\n",
       "      <td id=\"T_80c3e_row3_col1\" class=\"data row3 col1\" >2016-05-01</td>\n",
       "      <td id=\"T_80c3e_row3_col2\" class=\"data row3 col2\" >No</td>\n",
       "      <td id=\"T_80c3e_row3_col3\" class=\"data row3 col3\" >One year</td>\n",
       "      <td id=\"T_80c3e_row3_col4\" class=\"data row3 col4\" >No</td>\n",
       "      <td id=\"T_80c3e_row3_col5\" class=\"data row3 col5\" >Bank transfer (automatic)</td>\n",
       "      <td id=\"T_80c3e_row3_col6\" class=\"data row3 col6\" >42.300000</td>\n",
       "      <td id=\"T_80c3e_row3_col7\" class=\"data row3 col7\" >1840.75</td>\n",
       "    </tr>\n",
       "    <tr>\n",
       "      <th id=\"T_80c3e_level0_row4\" class=\"row_heading level0 row4\" >4</th>\n",
       "      <td id=\"T_80c3e_row4_col0\" class=\"data row4 col0\" >9237-HQITU</td>\n",
       "      <td id=\"T_80c3e_row4_col1\" class=\"data row4 col1\" >2019-09-01</td>\n",
       "      <td id=\"T_80c3e_row4_col2\" class=\"data row4 col2\" >2019-11-01 00:00:00</td>\n",
       "      <td id=\"T_80c3e_row4_col3\" class=\"data row4 col3\" >Month-to-month</td>\n",
       "      <td id=\"T_80c3e_row4_col4\" class=\"data row4 col4\" >Yes</td>\n",
       "      <td id=\"T_80c3e_row4_col5\" class=\"data row4 col5\" >Electronic check</td>\n",
       "      <td id=\"T_80c3e_row4_col6\" class=\"data row4 col6\" >70.700000</td>\n",
       "      <td id=\"T_80c3e_row4_col7\" class=\"data row4 col7\" >151.65</td>\n",
       "    </tr>\n",
       "    <tr>\n",
       "      <th id=\"T_80c3e_level0_row5\" class=\"row_heading level0 row5\" >5</th>\n",
       "      <td id=\"T_80c3e_row5_col0\" class=\"data row5 col0\" >9305-CDSKC</td>\n",
       "      <td id=\"T_80c3e_row5_col1\" class=\"data row5 col1\" >2019-03-01</td>\n",
       "      <td id=\"T_80c3e_row5_col2\" class=\"data row5 col2\" >2019-11-01 00:00:00</td>\n",
       "      <td id=\"T_80c3e_row5_col3\" class=\"data row5 col3\" >Month-to-month</td>\n",
       "      <td id=\"T_80c3e_row5_col4\" class=\"data row5 col4\" >Yes</td>\n",
       "      <td id=\"T_80c3e_row5_col5\" class=\"data row5 col5\" >Electronic check</td>\n",
       "      <td id=\"T_80c3e_row5_col6\" class=\"data row5 col6\" >99.650000</td>\n",
       "      <td id=\"T_80c3e_row5_col7\" class=\"data row5 col7\" >820.5</td>\n",
       "    </tr>\n",
       "    <tr>\n",
       "      <th id=\"T_80c3e_level0_row6\" class=\"row_heading level0 row6\" >6</th>\n",
       "      <td id=\"T_80c3e_row6_col0\" class=\"data row6 col0\" >1452-KIOVK</td>\n",
       "      <td id=\"T_80c3e_row6_col1\" class=\"data row6 col1\" >2018-04-01</td>\n",
       "      <td id=\"T_80c3e_row6_col2\" class=\"data row6 col2\" >No</td>\n",
       "      <td id=\"T_80c3e_row6_col3\" class=\"data row6 col3\" >Month-to-month</td>\n",
       "      <td id=\"T_80c3e_row6_col4\" class=\"data row6 col4\" >Yes</td>\n",
       "      <td id=\"T_80c3e_row6_col5\" class=\"data row6 col5\" >Credit card (automatic)</td>\n",
       "      <td id=\"T_80c3e_row6_col6\" class=\"data row6 col6\" >89.100000</td>\n",
       "      <td id=\"T_80c3e_row6_col7\" class=\"data row6 col7\" >1949.4</td>\n",
       "    </tr>\n",
       "    <tr>\n",
       "      <th id=\"T_80c3e_level0_row7\" class=\"row_heading level0 row7\" >7</th>\n",
       "      <td id=\"T_80c3e_row7_col0\" class=\"data row7 col0\" >6713-OKOMC</td>\n",
       "      <td id=\"T_80c3e_row7_col1\" class=\"data row7 col1\" >2019-04-01</td>\n",
       "      <td id=\"T_80c3e_row7_col2\" class=\"data row7 col2\" >No</td>\n",
       "      <td id=\"T_80c3e_row7_col3\" class=\"data row7 col3\" >Month-to-month</td>\n",
       "      <td id=\"T_80c3e_row7_col4\" class=\"data row7 col4\" >No</td>\n",
       "      <td id=\"T_80c3e_row7_col5\" class=\"data row7 col5\" >Mailed check</td>\n",
       "      <td id=\"T_80c3e_row7_col6\" class=\"data row7 col6\" >29.750000</td>\n",
       "      <td id=\"T_80c3e_row7_col7\" class=\"data row7 col7\" >301.9</td>\n",
       "    </tr>\n",
       "    <tr>\n",
       "      <th id=\"T_80c3e_level0_row8\" class=\"row_heading level0 row8\" >8</th>\n",
       "      <td id=\"T_80c3e_row8_col0\" class=\"data row8 col0\" >7892-POOKP</td>\n",
       "      <td id=\"T_80c3e_row8_col1\" class=\"data row8 col1\" >2017-07-01</td>\n",
       "      <td id=\"T_80c3e_row8_col2\" class=\"data row8 col2\" >2019-11-01 00:00:00</td>\n",
       "      <td id=\"T_80c3e_row8_col3\" class=\"data row8 col3\" >Month-to-month</td>\n",
       "      <td id=\"T_80c3e_row8_col4\" class=\"data row8 col4\" >Yes</td>\n",
       "      <td id=\"T_80c3e_row8_col5\" class=\"data row8 col5\" >Electronic check</td>\n",
       "      <td id=\"T_80c3e_row8_col6\" class=\"data row8 col6\" >104.800000</td>\n",
       "      <td id=\"T_80c3e_row8_col7\" class=\"data row8 col7\" >3046.05</td>\n",
       "    </tr>\n",
       "    <tr>\n",
       "      <th id=\"T_80c3e_level0_row9\" class=\"row_heading level0 row9\" >9</th>\n",
       "      <td id=\"T_80c3e_row9_col0\" class=\"data row9 col0\" >6388-TABGU</td>\n",
       "      <td id=\"T_80c3e_row9_col1\" class=\"data row9 col1\" >2014-12-01</td>\n",
       "      <td id=\"T_80c3e_row9_col2\" class=\"data row9 col2\" >No</td>\n",
       "      <td id=\"T_80c3e_row9_col3\" class=\"data row9 col3\" >One year</td>\n",
       "      <td id=\"T_80c3e_row9_col4\" class=\"data row9 col4\" >No</td>\n",
       "      <td id=\"T_80c3e_row9_col5\" class=\"data row9 col5\" >Bank transfer (automatic)</td>\n",
       "      <td id=\"T_80c3e_row9_col6\" class=\"data row9 col6\" >56.150000</td>\n",
       "      <td id=\"T_80c3e_row9_col7\" class=\"data row9 col7\" >3487.95</td>\n",
       "    </tr>\n",
       "  </tbody>\n",
       "</table>\n",
       "   <style type=\"text/css\">\n",
       "</style>\n",
       "<table id=\"T_cdbdb_\" style='display:inline'>\n",
       "  <caption>Произвольные 10 строк</caption>\n",
       "  <thead>\n",
       "    <tr>\n",
       "      <th class=\"blank level0\" >&nbsp;</th>\n",
       "      <th class=\"col_heading level0 col0\" >customerID</th>\n",
       "      <th class=\"col_heading level0 col1\" >BeginDate</th>\n",
       "      <th class=\"col_heading level0 col2\" >EndDate</th>\n",
       "      <th class=\"col_heading level0 col3\" >Type</th>\n",
       "      <th class=\"col_heading level0 col4\" >PaperlessBilling</th>\n",
       "      <th class=\"col_heading level0 col5\" >PaymentMethod</th>\n",
       "      <th class=\"col_heading level0 col6\" >MonthlyCharges</th>\n",
       "      <th class=\"col_heading level0 col7\" >TotalCharges</th>\n",
       "    </tr>\n",
       "  </thead>\n",
       "  <tbody>\n",
       "    <tr>\n",
       "      <th id=\"T_cdbdb_level0_row0\" class=\"row_heading level0 row0\" >185</th>\n",
       "      <td id=\"T_cdbdb_row0_col0\" class=\"data row0 col0\" >1024-GUALD</td>\n",
       "      <td id=\"T_cdbdb_row0_col1\" class=\"data row0 col1\" >2019-10-01</td>\n",
       "      <td id=\"T_cdbdb_row0_col2\" class=\"data row0 col2\" >2019-11-01 00:00:00</td>\n",
       "      <td id=\"T_cdbdb_row0_col3\" class=\"data row0 col3\" >Month-to-month</td>\n",
       "      <td id=\"T_cdbdb_row0_col4\" class=\"data row0 col4\" >Yes</td>\n",
       "      <td id=\"T_cdbdb_row0_col5\" class=\"data row0 col5\" >Electronic check</td>\n",
       "      <td id=\"T_cdbdb_row0_col6\" class=\"data row0 col6\" >24.800000</td>\n",
       "      <td id=\"T_cdbdb_row0_col7\" class=\"data row0 col7\" >24.8</td>\n",
       "    </tr>\n",
       "    <tr>\n",
       "      <th id=\"T_cdbdb_level0_row1\" class=\"row_heading level0 row1\" >2715</th>\n",
       "      <td id=\"T_cdbdb_row1_col0\" class=\"data row1 col0\" >0484-JPBRU</td>\n",
       "      <td id=\"T_cdbdb_row1_col1\" class=\"data row1 col1\" >2016-09-01</td>\n",
       "      <td id=\"T_cdbdb_row1_col2\" class=\"data row1 col2\" >No</td>\n",
       "      <td id=\"T_cdbdb_row1_col3\" class=\"data row1 col3\" >Month-to-month</td>\n",
       "      <td id=\"T_cdbdb_row1_col4\" class=\"data row1 col4\" >Yes</td>\n",
       "      <td id=\"T_cdbdb_row1_col5\" class=\"data row1 col5\" >Bank transfer (automatic)</td>\n",
       "      <td id=\"T_cdbdb_row1_col6\" class=\"data row1 col6\" >25.250000</td>\n",
       "      <td id=\"T_cdbdb_row1_col7\" class=\"data row1 col7\" >996.45</td>\n",
       "    </tr>\n",
       "    <tr>\n",
       "      <th id=\"T_cdbdb_level0_row2\" class=\"row_heading level0 row2\" >3825</th>\n",
       "      <td id=\"T_cdbdb_row2_col0\" class=\"data row2 col0\" >3620-EHIMZ</td>\n",
       "      <td id=\"T_cdbdb_row2_col1\" class=\"data row2 col1\" >2015-10-01</td>\n",
       "      <td id=\"T_cdbdb_row2_col2\" class=\"data row2 col2\" >No</td>\n",
       "      <td id=\"T_cdbdb_row2_col3\" class=\"data row2 col3\" >Two year</td>\n",
       "      <td id=\"T_cdbdb_row2_col4\" class=\"data row2 col4\" >No</td>\n",
       "      <td id=\"T_cdbdb_row2_col5\" class=\"data row2 col5\" >Mailed check</td>\n",
       "      <td id=\"T_cdbdb_row2_col6\" class=\"data row2 col6\" >19.350000</td>\n",
       "      <td id=\"T_cdbdb_row2_col7\" class=\"data row2 col7\" >1031.7</td>\n",
       "    </tr>\n",
       "    <tr>\n",
       "      <th id=\"T_cdbdb_level0_row3\" class=\"row_heading level0 row3\" >1807</th>\n",
       "      <td id=\"T_cdbdb_row3_col0\" class=\"data row3 col0\" >6910-HADCM</td>\n",
       "      <td id=\"T_cdbdb_row3_col1\" class=\"data row3 col1\" >2019-09-01</td>\n",
       "      <td id=\"T_cdbdb_row3_col2\" class=\"data row3 col2\" >2019-10-01 00:00:00</td>\n",
       "      <td id=\"T_cdbdb_row3_col3\" class=\"data row3 col3\" >Month-to-month</td>\n",
       "      <td id=\"T_cdbdb_row3_col4\" class=\"data row3 col4\" >No</td>\n",
       "      <td id=\"T_cdbdb_row3_col5\" class=\"data row3 col5\" >Electronic check</td>\n",
       "      <td id=\"T_cdbdb_row3_col6\" class=\"data row3 col6\" >76.350000</td>\n",
       "      <td id=\"T_cdbdb_row3_col7\" class=\"data row3 col7\" >76.35</td>\n",
       "    </tr>\n",
       "    <tr>\n",
       "      <th id=\"T_cdbdb_level0_row4\" class=\"row_heading level0 row4\" >132</th>\n",
       "      <td id=\"T_cdbdb_row4_col0\" class=\"data row4 col0\" >8587-XYZSF</td>\n",
       "      <td id=\"T_cdbdb_row4_col1\" class=\"data row4 col1\" >2014-07-01</td>\n",
       "      <td id=\"T_cdbdb_row4_col2\" class=\"data row4 col2\" >No</td>\n",
       "      <td id=\"T_cdbdb_row4_col3\" class=\"data row4 col3\" >Two year</td>\n",
       "      <td id=\"T_cdbdb_row4_col4\" class=\"data row4 col4\" >No</td>\n",
       "      <td id=\"T_cdbdb_row4_col5\" class=\"data row4 col5\" >Bank transfer (automatic)</td>\n",
       "      <td id=\"T_cdbdb_row4_col6\" class=\"data row4 col6\" >50.550000</td>\n",
       "      <td id=\"T_cdbdb_row4_col7\" class=\"data row4 col7\" >3260.1</td>\n",
       "    </tr>\n",
       "    <tr>\n",
       "      <th id=\"T_cdbdb_level0_row5\" class=\"row_heading level0 row5\" >1263</th>\n",
       "      <td id=\"T_cdbdb_row5_col0\" class=\"data row5 col0\" >6818-WOBHJ</td>\n",
       "      <td id=\"T_cdbdb_row5_col1\" class=\"data row5 col1\" >2014-05-01</td>\n",
       "      <td id=\"T_cdbdb_row5_col2\" class=\"data row5 col2\" >2020-01-01 00:00:00</td>\n",
       "      <td id=\"T_cdbdb_row5_col3\" class=\"data row5 col3\" >Month-to-month</td>\n",
       "      <td id=\"T_cdbdb_row5_col4\" class=\"data row5 col4\" >Yes</td>\n",
       "      <td id=\"T_cdbdb_row5_col5\" class=\"data row5 col5\" >Bank transfer (automatic)</td>\n",
       "      <td id=\"T_cdbdb_row5_col6\" class=\"data row5 col6\" >89.600000</td>\n",
       "      <td id=\"T_cdbdb_row5_col7\" class=\"data row5 col7\" >6127.6</td>\n",
       "    </tr>\n",
       "    <tr>\n",
       "      <th id=\"T_cdbdb_level0_row6\" class=\"row_heading level0 row6\" >3732</th>\n",
       "      <td id=\"T_cdbdb_row6_col0\" class=\"data row6 col0\" >3082-YVEKW</td>\n",
       "      <td id=\"T_cdbdb_row6_col1\" class=\"data row6 col1\" >2018-03-01</td>\n",
       "      <td id=\"T_cdbdb_row6_col2\" class=\"data row6 col2\" >No</td>\n",
       "      <td id=\"T_cdbdb_row6_col3\" class=\"data row6 col3\" >Two year</td>\n",
       "      <td id=\"T_cdbdb_row6_col4\" class=\"data row6 col4\" >Yes</td>\n",
       "      <td id=\"T_cdbdb_row6_col5\" class=\"data row6 col5\" >Bank transfer (automatic)</td>\n",
       "      <td id=\"T_cdbdb_row6_col6\" class=\"data row6 col6\" >77.150000</td>\n",
       "      <td id=\"T_cdbdb_row6_col7\" class=\"data row6 col7\" >1759.4</td>\n",
       "    </tr>\n",
       "    <tr>\n",
       "      <th id=\"T_cdbdb_level0_row7\" class=\"row_heading level0 row7\" >1672</th>\n",
       "      <td id=\"T_cdbdb_row7_col0\" class=\"data row7 col0\" >4737-AQCPU</td>\n",
       "      <td id=\"T_cdbdb_row7_col1\" class=\"data row7 col1\" >2014-02-01</td>\n",
       "      <td id=\"T_cdbdb_row7_col2\" class=\"data row7 col2\" >No</td>\n",
       "      <td id=\"T_cdbdb_row7_col3\" class=\"data row7 col3\" >Two year</td>\n",
       "      <td id=\"T_cdbdb_row7_col4\" class=\"data row7 col4\" >No</td>\n",
       "      <td id=\"T_cdbdb_row7_col5\" class=\"data row7 col5\" >Credit card (automatic)</td>\n",
       "      <td id=\"T_cdbdb_row7_col6\" class=\"data row7 col6\" >72.100000</td>\n",
       "      <td id=\"T_cdbdb_row7_col7\" class=\"data row7 col7\" >5016.65</td>\n",
       "    </tr>\n",
       "    <tr>\n",
       "      <th id=\"T_cdbdb_level0_row8\" class=\"row_heading level0 row8\" >811</th>\n",
       "      <td id=\"T_cdbdb_row8_col0\" class=\"data row8 col0\" >4853-RULSV</td>\n",
       "      <td id=\"T_cdbdb_row8_col1\" class=\"data row8 col1\" >2014-02-01</td>\n",
       "      <td id=\"T_cdbdb_row8_col2\" class=\"data row8 col2\" >2019-12-01 00:00:00</td>\n",
       "      <td id=\"T_cdbdb_row8_col3\" class=\"data row8 col3\" >Two year</td>\n",
       "      <td id=\"T_cdbdb_row8_col4\" class=\"data row8 col4\" >Yes</td>\n",
       "      <td id=\"T_cdbdb_row8_col5\" class=\"data row8 col5\" >Credit card (automatic)</td>\n",
       "      <td id=\"T_cdbdb_row8_col6\" class=\"data row8 col6\" >104.000000</td>\n",
       "      <td id=\"T_cdbdb_row8_col7\" class=\"data row8 col7\" >7250.15</td>\n",
       "    </tr>\n",
       "    <tr>\n",
       "      <th id=\"T_cdbdb_level0_row9\" class=\"row_heading level0 row9\" >2526</th>\n",
       "      <td id=\"T_cdbdb_row9_col0\" class=\"data row9 col0\" >5766-ZJYBB</td>\n",
       "      <td id=\"T_cdbdb_row9_col1\" class=\"data row9 col1\" >2019-11-01</td>\n",
       "      <td id=\"T_cdbdb_row9_col2\" class=\"data row9 col2\" >2019-12-01 00:00:00</td>\n",
       "      <td id=\"T_cdbdb_row9_col3\" class=\"data row9 col3\" >Month-to-month</td>\n",
       "      <td id=\"T_cdbdb_row9_col4\" class=\"data row9 col4\" >No</td>\n",
       "      <td id=\"T_cdbdb_row9_col5\" class=\"data row9 col5\" >Mailed check</td>\n",
       "      <td id=\"T_cdbdb_row9_col6\" class=\"data row9 col6\" >19.400000</td>\n",
       "      <td id=\"T_cdbdb_row9_col7\" class=\"data row9 col7\" >19.4</td>\n",
       "    </tr>\n",
       "  </tbody>\n",
       "</table>\n",
       "   <style type=\"text/css\">\n",
       "</style>\n",
       "<table id=\"T_d84cc_\" style='display:inline'>\n",
       "  <caption>Последние 10 строк</caption>\n",
       "  <thead>\n",
       "    <tr>\n",
       "      <th class=\"blank level0\" >&nbsp;</th>\n",
       "      <th class=\"col_heading level0 col0\" >customerID</th>\n",
       "      <th class=\"col_heading level0 col1\" >BeginDate</th>\n",
       "      <th class=\"col_heading level0 col2\" >EndDate</th>\n",
       "      <th class=\"col_heading level0 col3\" >Type</th>\n",
       "      <th class=\"col_heading level0 col4\" >PaperlessBilling</th>\n",
       "      <th class=\"col_heading level0 col5\" >PaymentMethod</th>\n",
       "      <th class=\"col_heading level0 col6\" >MonthlyCharges</th>\n",
       "      <th class=\"col_heading level0 col7\" >TotalCharges</th>\n",
       "    </tr>\n",
       "  </thead>\n",
       "  <tbody>\n",
       "    <tr>\n",
       "      <th id=\"T_d84cc_level0_row0\" class=\"row_heading level0 row0\" >7033</th>\n",
       "      <td id=\"T_d84cc_row0_col0\" class=\"data row0 col0\" >9767-FFLEM</td>\n",
       "      <td id=\"T_d84cc_row0_col1\" class=\"data row0 col1\" >2016-12-01</td>\n",
       "      <td id=\"T_d84cc_row0_col2\" class=\"data row0 col2\" >No</td>\n",
       "      <td id=\"T_d84cc_row0_col3\" class=\"data row0 col3\" >Month-to-month</td>\n",
       "      <td id=\"T_d84cc_row0_col4\" class=\"data row0 col4\" >Yes</td>\n",
       "      <td id=\"T_d84cc_row0_col5\" class=\"data row0 col5\" >Credit card (automatic)</td>\n",
       "      <td id=\"T_d84cc_row0_col6\" class=\"data row0 col6\" >69.500000</td>\n",
       "      <td id=\"T_d84cc_row0_col7\" class=\"data row0 col7\" >2625.25</td>\n",
       "    </tr>\n",
       "    <tr>\n",
       "      <th id=\"T_d84cc_level0_row1\" class=\"row_heading level0 row1\" >7034</th>\n",
       "      <td id=\"T_d84cc_row1_col0\" class=\"data row1 col0\" >0639-TSIQW</td>\n",
       "      <td id=\"T_d84cc_row1_col1\" class=\"data row1 col1\" >2014-03-01</td>\n",
       "      <td id=\"T_d84cc_row1_col2\" class=\"data row1 col2\" >2019-10-01 00:00:00</td>\n",
       "      <td id=\"T_d84cc_row1_col3\" class=\"data row1 col3\" >Month-to-month</td>\n",
       "      <td id=\"T_d84cc_row1_col4\" class=\"data row1 col4\" >Yes</td>\n",
       "      <td id=\"T_d84cc_row1_col5\" class=\"data row1 col5\" >Credit card (automatic)</td>\n",
       "      <td id=\"T_d84cc_row1_col6\" class=\"data row1 col6\" >102.950000</td>\n",
       "      <td id=\"T_d84cc_row1_col7\" class=\"data row1 col7\" >6886.25</td>\n",
       "    </tr>\n",
       "    <tr>\n",
       "      <th id=\"T_d84cc_level0_row2\" class=\"row_heading level0 row2\" >7035</th>\n",
       "      <td id=\"T_d84cc_row2_col0\" class=\"data row2 col0\" >8456-QDAVC</td>\n",
       "      <td id=\"T_d84cc_row2_col1\" class=\"data row2 col1\" >2018-07-01</td>\n",
       "      <td id=\"T_d84cc_row2_col2\" class=\"data row2 col2\" >No</td>\n",
       "      <td id=\"T_d84cc_row2_col3\" class=\"data row2 col3\" >Month-to-month</td>\n",
       "      <td id=\"T_d84cc_row2_col4\" class=\"data row2 col4\" >Yes</td>\n",
       "      <td id=\"T_d84cc_row2_col5\" class=\"data row2 col5\" >Bank transfer (automatic)</td>\n",
       "      <td id=\"T_d84cc_row2_col6\" class=\"data row2 col6\" >78.700000</td>\n",
       "      <td id=\"T_d84cc_row2_col7\" class=\"data row2 col7\" >1495.1</td>\n",
       "    </tr>\n",
       "    <tr>\n",
       "      <th id=\"T_d84cc_level0_row3\" class=\"row_heading level0 row3\" >7036</th>\n",
       "      <td id=\"T_d84cc_row3_col0\" class=\"data row3 col0\" >7750-EYXWZ</td>\n",
       "      <td id=\"T_d84cc_row3_col1\" class=\"data row3 col1\" >2019-02-01</td>\n",
       "      <td id=\"T_d84cc_row3_col2\" class=\"data row3 col2\" >No</td>\n",
       "      <td id=\"T_d84cc_row3_col3\" class=\"data row3 col3\" >One year</td>\n",
       "      <td id=\"T_d84cc_row3_col4\" class=\"data row3 col4\" >No</td>\n",
       "      <td id=\"T_d84cc_row3_col5\" class=\"data row3 col5\" >Electronic check</td>\n",
       "      <td id=\"T_d84cc_row3_col6\" class=\"data row3 col6\" >60.650000</td>\n",
       "      <td id=\"T_d84cc_row3_col7\" class=\"data row3 col7\" >743.3</td>\n",
       "    </tr>\n",
       "    <tr>\n",
       "      <th id=\"T_d84cc_level0_row4\" class=\"row_heading level0 row4\" >7037</th>\n",
       "      <td id=\"T_d84cc_row4_col0\" class=\"data row4 col0\" >2569-WGERO</td>\n",
       "      <td id=\"T_d84cc_row4_col1\" class=\"data row4 col1\" >2014-02-01</td>\n",
       "      <td id=\"T_d84cc_row4_col2\" class=\"data row4 col2\" >No</td>\n",
       "      <td id=\"T_d84cc_row4_col3\" class=\"data row4 col3\" >Two year</td>\n",
       "      <td id=\"T_d84cc_row4_col4\" class=\"data row4 col4\" >Yes</td>\n",
       "      <td id=\"T_d84cc_row4_col5\" class=\"data row4 col5\" >Bank transfer (automatic)</td>\n",
       "      <td id=\"T_d84cc_row4_col6\" class=\"data row4 col6\" >21.150000</td>\n",
       "      <td id=\"T_d84cc_row4_col7\" class=\"data row4 col7\" >1419.4</td>\n",
       "    </tr>\n",
       "    <tr>\n",
       "      <th id=\"T_d84cc_level0_row5\" class=\"row_heading level0 row5\" >7038</th>\n",
       "      <td id=\"T_d84cc_row5_col0\" class=\"data row5 col0\" >6840-RESVB</td>\n",
       "      <td id=\"T_d84cc_row5_col1\" class=\"data row5 col1\" >2018-02-01</td>\n",
       "      <td id=\"T_d84cc_row5_col2\" class=\"data row5 col2\" >No</td>\n",
       "      <td id=\"T_d84cc_row5_col3\" class=\"data row5 col3\" >One year</td>\n",
       "      <td id=\"T_d84cc_row5_col4\" class=\"data row5 col4\" >Yes</td>\n",
       "      <td id=\"T_d84cc_row5_col5\" class=\"data row5 col5\" >Mailed check</td>\n",
       "      <td id=\"T_d84cc_row5_col6\" class=\"data row5 col6\" >84.800000</td>\n",
       "      <td id=\"T_d84cc_row5_col7\" class=\"data row5 col7\" >1990.5</td>\n",
       "    </tr>\n",
       "    <tr>\n",
       "      <th id=\"T_d84cc_level0_row6\" class=\"row_heading level0 row6\" >7039</th>\n",
       "      <td id=\"T_d84cc_row6_col0\" class=\"data row6 col0\" >2234-XADUH</td>\n",
       "      <td id=\"T_d84cc_row6_col1\" class=\"data row6 col1\" >2014-02-01</td>\n",
       "      <td id=\"T_d84cc_row6_col2\" class=\"data row6 col2\" >No</td>\n",
       "      <td id=\"T_d84cc_row6_col3\" class=\"data row6 col3\" >One year</td>\n",
       "      <td id=\"T_d84cc_row6_col4\" class=\"data row6 col4\" >Yes</td>\n",
       "      <td id=\"T_d84cc_row6_col5\" class=\"data row6 col5\" >Credit card (automatic)</td>\n",
       "      <td id=\"T_d84cc_row6_col6\" class=\"data row6 col6\" >103.200000</td>\n",
       "      <td id=\"T_d84cc_row6_col7\" class=\"data row6 col7\" >7362.9</td>\n",
       "    </tr>\n",
       "    <tr>\n",
       "      <th id=\"T_d84cc_level0_row7\" class=\"row_heading level0 row7\" >7040</th>\n",
       "      <td id=\"T_d84cc_row7_col0\" class=\"data row7 col0\" >4801-JZAZL</td>\n",
       "      <td id=\"T_d84cc_row7_col1\" class=\"data row7 col1\" >2019-03-01</td>\n",
       "      <td id=\"T_d84cc_row7_col2\" class=\"data row7 col2\" >No</td>\n",
       "      <td id=\"T_d84cc_row7_col3\" class=\"data row7 col3\" >Month-to-month</td>\n",
       "      <td id=\"T_d84cc_row7_col4\" class=\"data row7 col4\" >Yes</td>\n",
       "      <td id=\"T_d84cc_row7_col5\" class=\"data row7 col5\" >Electronic check</td>\n",
       "      <td id=\"T_d84cc_row7_col6\" class=\"data row7 col6\" >29.600000</td>\n",
       "      <td id=\"T_d84cc_row7_col7\" class=\"data row7 col7\" >346.45</td>\n",
       "    </tr>\n",
       "    <tr>\n",
       "      <th id=\"T_d84cc_level0_row8\" class=\"row_heading level0 row8\" >7041</th>\n",
       "      <td id=\"T_d84cc_row8_col0\" class=\"data row8 col0\" >8361-LTMKD</td>\n",
       "      <td id=\"T_d84cc_row8_col1\" class=\"data row8 col1\" >2019-07-01</td>\n",
       "      <td id=\"T_d84cc_row8_col2\" class=\"data row8 col2\" >2019-11-01 00:00:00</td>\n",
       "      <td id=\"T_d84cc_row8_col3\" class=\"data row8 col3\" >Month-to-month</td>\n",
       "      <td id=\"T_d84cc_row8_col4\" class=\"data row8 col4\" >Yes</td>\n",
       "      <td id=\"T_d84cc_row8_col5\" class=\"data row8 col5\" >Mailed check</td>\n",
       "      <td id=\"T_d84cc_row8_col6\" class=\"data row8 col6\" >74.400000</td>\n",
       "      <td id=\"T_d84cc_row8_col7\" class=\"data row8 col7\" >306.6</td>\n",
       "    </tr>\n",
       "    <tr>\n",
       "      <th id=\"T_d84cc_level0_row9\" class=\"row_heading level0 row9\" >7042</th>\n",
       "      <td id=\"T_d84cc_row9_col0\" class=\"data row9 col0\" >3186-AJIEK</td>\n",
       "      <td id=\"T_d84cc_row9_col1\" class=\"data row9 col1\" >2014-08-01</td>\n",
       "      <td id=\"T_d84cc_row9_col2\" class=\"data row9 col2\" >No</td>\n",
       "      <td id=\"T_d84cc_row9_col3\" class=\"data row9 col3\" >Two year</td>\n",
       "      <td id=\"T_d84cc_row9_col4\" class=\"data row9 col4\" >Yes</td>\n",
       "      <td id=\"T_d84cc_row9_col5\" class=\"data row9 col5\" >Bank transfer (automatic)</td>\n",
       "      <td id=\"T_d84cc_row9_col6\" class=\"data row9 col6\" >105.650000</td>\n",
       "      <td id=\"T_d84cc_row9_col7\" class=\"data row9 col7\" >6844.5</td>\n",
       "    </tr>\n",
       "  </tbody>\n",
       "</table>\n",
       "   <style type=\"text/css\">\n",
       "</style>\n",
       "<table id=\"T_32c19_\" style='display:inline'>\n",
       "  <caption>Статистическая информация</caption>\n",
       "  <thead>\n",
       "    <tr>\n",
       "      <th class=\"blank level0\" >&nbsp;</th>\n",
       "      <th class=\"col_heading level0 col0\" >MonthlyCharges</th>\n",
       "    </tr>\n",
       "  </thead>\n",
       "  <tbody>\n",
       "    <tr>\n",
       "      <th id=\"T_32c19_level0_row0\" class=\"row_heading level0 row0\" >count</th>\n",
       "      <td id=\"T_32c19_row0_col0\" class=\"data row0 col0\" >7043.000000</td>\n",
       "    </tr>\n",
       "    <tr>\n",
       "      <th id=\"T_32c19_level0_row1\" class=\"row_heading level0 row1\" >mean</th>\n",
       "      <td id=\"T_32c19_row1_col0\" class=\"data row1 col0\" >64.761692</td>\n",
       "    </tr>\n",
       "    <tr>\n",
       "      <th id=\"T_32c19_level0_row2\" class=\"row_heading level0 row2\" >std</th>\n",
       "      <td id=\"T_32c19_row2_col0\" class=\"data row2 col0\" >30.090047</td>\n",
       "    </tr>\n",
       "    <tr>\n",
       "      <th id=\"T_32c19_level0_row3\" class=\"row_heading level0 row3\" >min</th>\n",
       "      <td id=\"T_32c19_row3_col0\" class=\"data row3 col0\" >18.250000</td>\n",
       "    </tr>\n",
       "    <tr>\n",
       "      <th id=\"T_32c19_level0_row4\" class=\"row_heading level0 row4\" >25%</th>\n",
       "      <td id=\"T_32c19_row4_col0\" class=\"data row4 col0\" >35.500000</td>\n",
       "    </tr>\n",
       "    <tr>\n",
       "      <th id=\"T_32c19_level0_row5\" class=\"row_heading level0 row5\" >50%</th>\n",
       "      <td id=\"T_32c19_row5_col0\" class=\"data row5 col0\" >70.350000</td>\n",
       "    </tr>\n",
       "    <tr>\n",
       "      <th id=\"T_32c19_level0_row6\" class=\"row_heading level0 row6\" >75%</th>\n",
       "      <td id=\"T_32c19_row6_col0\" class=\"data row6 col0\" >89.850000</td>\n",
       "    </tr>\n",
       "    <tr>\n",
       "      <th id=\"T_32c19_level0_row7\" class=\"row_heading level0 row7\" >max</th>\n",
       "      <td id=\"T_32c19_row7_col0\" class=\"data row7 col0\" >118.750000</td>\n",
       "    </tr>\n",
       "  </tbody>\n",
       "</table>\n",
       "   <style type=\"text/css\">\n",
       "</style>\n",
       "<table id=\"T_48442_\" style='display:inline'>\n",
       "  <caption>Категориальные признаки</caption>\n",
       "  <thead>\n",
       "    <tr>\n",
       "      <th class=\"blank level0\" >&nbsp;</th>\n",
       "      <th class=\"col_heading level0 col0\" >customerID</th>\n",
       "      <th class=\"col_heading level0 col1\" >BeginDate</th>\n",
       "      <th class=\"col_heading level0 col2\" >EndDate</th>\n",
       "      <th class=\"col_heading level0 col3\" >Type</th>\n",
       "      <th class=\"col_heading level0 col4\" >PaperlessBilling</th>\n",
       "      <th class=\"col_heading level0 col5\" >PaymentMethod</th>\n",
       "      <th class=\"col_heading level0 col6\" >TotalCharges</th>\n",
       "    </tr>\n",
       "  </thead>\n",
       "  <tbody>\n",
       "    <tr>\n",
       "      <th id=\"T_48442_level0_row0\" class=\"row_heading level0 row0\" >count</th>\n",
       "      <td id=\"T_48442_row0_col0\" class=\"data row0 col0\" >7043</td>\n",
       "      <td id=\"T_48442_row0_col1\" class=\"data row0 col1\" >7043</td>\n",
       "      <td id=\"T_48442_row0_col2\" class=\"data row0 col2\" >7043</td>\n",
       "      <td id=\"T_48442_row0_col3\" class=\"data row0 col3\" >7043</td>\n",
       "      <td id=\"T_48442_row0_col4\" class=\"data row0 col4\" >7043</td>\n",
       "      <td id=\"T_48442_row0_col5\" class=\"data row0 col5\" >7043</td>\n",
       "      <td id=\"T_48442_row0_col6\" class=\"data row0 col6\" >7043</td>\n",
       "    </tr>\n",
       "    <tr>\n",
       "      <th id=\"T_48442_level0_row1\" class=\"row_heading level0 row1\" >unique</th>\n",
       "      <td id=\"T_48442_row1_col0\" class=\"data row1 col0\" >7043</td>\n",
       "      <td id=\"T_48442_row1_col1\" class=\"data row1 col1\" >77</td>\n",
       "      <td id=\"T_48442_row1_col2\" class=\"data row1 col2\" >5</td>\n",
       "      <td id=\"T_48442_row1_col3\" class=\"data row1 col3\" >3</td>\n",
       "      <td id=\"T_48442_row1_col4\" class=\"data row1 col4\" >2</td>\n",
       "      <td id=\"T_48442_row1_col5\" class=\"data row1 col5\" >4</td>\n",
       "      <td id=\"T_48442_row1_col6\" class=\"data row1 col6\" >6531</td>\n",
       "    </tr>\n",
       "    <tr>\n",
       "      <th id=\"T_48442_level0_row2\" class=\"row_heading level0 row2\" >top</th>\n",
       "      <td id=\"T_48442_row2_col0\" class=\"data row2 col0\" >7590-VHVEG</td>\n",
       "      <td id=\"T_48442_row2_col1\" class=\"data row2 col1\" >2014-02-01</td>\n",
       "      <td id=\"T_48442_row2_col2\" class=\"data row2 col2\" >No</td>\n",
       "      <td id=\"T_48442_row2_col3\" class=\"data row2 col3\" >Month-to-month</td>\n",
       "      <td id=\"T_48442_row2_col4\" class=\"data row2 col4\" >Yes</td>\n",
       "      <td id=\"T_48442_row2_col5\" class=\"data row2 col5\" >Electronic check</td>\n",
       "      <td id=\"T_48442_row2_col6\" class=\"data row2 col6\" > </td>\n",
       "    </tr>\n",
       "    <tr>\n",
       "      <th id=\"T_48442_level0_row3\" class=\"row_heading level0 row3\" >freq</th>\n",
       "      <td id=\"T_48442_row3_col0\" class=\"data row3 col0\" >1</td>\n",
       "      <td id=\"T_48442_row3_col1\" class=\"data row3 col1\" >366</td>\n",
       "      <td id=\"T_48442_row3_col2\" class=\"data row3 col2\" >5174</td>\n",
       "      <td id=\"T_48442_row3_col3\" class=\"data row3 col3\" >3875</td>\n",
       "      <td id=\"T_48442_row3_col4\" class=\"data row3 col4\" >4171</td>\n",
       "      <td id=\"T_48442_row3_col5\" class=\"data row3 col5\" >2365</td>\n",
       "      <td id=\"T_48442_row3_col6\" class=\"data row3 col6\" >11</td>\n",
       "    </tr>\n",
       "  </tbody>\n",
       "</table>\n",
       "   "
      ],
      "text/plain": [
       "<IPython.core.display.HTML object>"
      ]
     },
     "metadata": {},
     "output_type": "display_data"
    },
    {
     "name": "stdout",
     "output_type": "stream",
     "text": [
      "Пропущенные значения\n"
     ]
    },
    {
     "data": {
      "text/html": [
       "<div>\n",
       "<style scoped>\n",
       "    .dataframe tbody tr th:only-of-type {\n",
       "        vertical-align: middle;\n",
       "    }\n",
       "\n",
       "    .dataframe tbody tr th {\n",
       "        vertical-align: top;\n",
       "    }\n",
       "\n",
       "    .dataframe thead th {\n",
       "        text-align: right;\n",
       "    }\n",
       "</style>\n",
       "<table border=\"1\" class=\"dataframe\">\n",
       "  <thead>\n",
       "    <tr style=\"text-align: right;\">\n",
       "      <th></th>\n",
       "      <th>Доля пропусков</th>\n",
       "      <th>Количество</th>\n",
       "    </tr>\n",
       "  </thead>\n",
       "  <tbody>\n",
       "    <tr>\n",
       "      <th>customerID</th>\n",
       "      <td>0.0</td>\n",
       "      <td>0</td>\n",
       "    </tr>\n",
       "    <tr>\n",
       "      <th>BeginDate</th>\n",
       "      <td>0.0</td>\n",
       "      <td>0</td>\n",
       "    </tr>\n",
       "    <tr>\n",
       "      <th>EndDate</th>\n",
       "      <td>0.0</td>\n",
       "      <td>0</td>\n",
       "    </tr>\n",
       "    <tr>\n",
       "      <th>Type</th>\n",
       "      <td>0.0</td>\n",
       "      <td>0</td>\n",
       "    </tr>\n",
       "    <tr>\n",
       "      <th>PaperlessBilling</th>\n",
       "      <td>0.0</td>\n",
       "      <td>0</td>\n",
       "    </tr>\n",
       "    <tr>\n",
       "      <th>PaymentMethod</th>\n",
       "      <td>0.0</td>\n",
       "      <td>0</td>\n",
       "    </tr>\n",
       "    <tr>\n",
       "      <th>MonthlyCharges</th>\n",
       "      <td>0.0</td>\n",
       "      <td>0</td>\n",
       "    </tr>\n",
       "    <tr>\n",
       "      <th>TotalCharges</th>\n",
       "      <td>0.0</td>\n",
       "      <td>0</td>\n",
       "    </tr>\n",
       "  </tbody>\n",
       "</table>\n",
       "</div>"
      ],
      "text/plain": [
       "                  Доля пропусков  Количество\n",
       "customerID                   0.0           0\n",
       "BeginDate                    0.0           0\n",
       "EndDate                      0.0           0\n",
       "Type                         0.0           0\n",
       "PaperlessBilling             0.0           0\n",
       "PaymentMethod                0.0           0\n",
       "MonthlyCharges               0.0           0\n",
       "TotalCharges                 0.0           0"
      ]
     },
     "metadata": {},
     "output_type": "display_data"
    },
    {
     "name": "stdout",
     "output_type": "stream",
     "text": [
      "Строк: 7043 \n",
      "Дубликатов: 0\n",
      "\n",
      "\u001b[1mТаблица internet \u001b[0m\n",
      "Общая информация, info() \n",
      "\n",
      "<class 'pandas.core.frame.DataFrame'>\n",
      "RangeIndex: 5517 entries, 0 to 5516\n",
      "Data columns (total 8 columns):\n",
      " #   Column            Non-Null Count  Dtype \n",
      "---  ------            --------------  ----- \n",
      " 0   customerID        5517 non-null   object\n",
      " 1   InternetService   5517 non-null   object\n",
      " 2   OnlineSecurity    5517 non-null   object\n",
      " 3   OnlineBackup      5517 non-null   object\n",
      " 4   DeviceProtection  5517 non-null   object\n",
      " 5   TechSupport       5517 non-null   object\n",
      " 6   StreamingTV       5517 non-null   object\n",
      " 7   StreamingMovies   5517 non-null   object\n",
      "dtypes: object(8)\n",
      "memory usage: 344.9+ KB\n"
     ]
    },
    {
     "data": {
      "text/plain": [
       "None"
      ]
     },
     "metadata": {},
     "output_type": "display_data"
    },
    {
     "name": "stdout",
     "output_type": "stream",
     "text": [
      "\u001b[1m Смотрим на исходные данные \u001b[0m\n"
     ]
    },
    {
     "data": {
      "text/html": [
       "<style type=\"text/css\">\n",
       "</style>\n",
       "<table id=\"T_e5876_\" style='display:inline'>\n",
       "  <caption>Первые 10 строк</caption>\n",
       "  <thead>\n",
       "    <tr>\n",
       "      <th class=\"blank level0\" >&nbsp;</th>\n",
       "      <th class=\"col_heading level0 col0\" >customerID</th>\n",
       "      <th class=\"col_heading level0 col1\" >InternetService</th>\n",
       "      <th class=\"col_heading level0 col2\" >OnlineSecurity</th>\n",
       "      <th class=\"col_heading level0 col3\" >OnlineBackup</th>\n",
       "      <th class=\"col_heading level0 col4\" >DeviceProtection</th>\n",
       "      <th class=\"col_heading level0 col5\" >TechSupport</th>\n",
       "      <th class=\"col_heading level0 col6\" >StreamingTV</th>\n",
       "      <th class=\"col_heading level0 col7\" >StreamingMovies</th>\n",
       "    </tr>\n",
       "  </thead>\n",
       "  <tbody>\n",
       "    <tr>\n",
       "      <th id=\"T_e5876_level0_row0\" class=\"row_heading level0 row0\" >0</th>\n",
       "      <td id=\"T_e5876_row0_col0\" class=\"data row0 col0\" >7590-VHVEG</td>\n",
       "      <td id=\"T_e5876_row0_col1\" class=\"data row0 col1\" >DSL</td>\n",
       "      <td id=\"T_e5876_row0_col2\" class=\"data row0 col2\" >No</td>\n",
       "      <td id=\"T_e5876_row0_col3\" class=\"data row0 col3\" >Yes</td>\n",
       "      <td id=\"T_e5876_row0_col4\" class=\"data row0 col4\" >No</td>\n",
       "      <td id=\"T_e5876_row0_col5\" class=\"data row0 col5\" >No</td>\n",
       "      <td id=\"T_e5876_row0_col6\" class=\"data row0 col6\" >No</td>\n",
       "      <td id=\"T_e5876_row0_col7\" class=\"data row0 col7\" >No</td>\n",
       "    </tr>\n",
       "    <tr>\n",
       "      <th id=\"T_e5876_level0_row1\" class=\"row_heading level0 row1\" >1</th>\n",
       "      <td id=\"T_e5876_row1_col0\" class=\"data row1 col0\" >5575-GNVDE</td>\n",
       "      <td id=\"T_e5876_row1_col1\" class=\"data row1 col1\" >DSL</td>\n",
       "      <td id=\"T_e5876_row1_col2\" class=\"data row1 col2\" >Yes</td>\n",
       "      <td id=\"T_e5876_row1_col3\" class=\"data row1 col3\" >No</td>\n",
       "      <td id=\"T_e5876_row1_col4\" class=\"data row1 col4\" >Yes</td>\n",
       "      <td id=\"T_e5876_row1_col5\" class=\"data row1 col5\" >No</td>\n",
       "      <td id=\"T_e5876_row1_col6\" class=\"data row1 col6\" >No</td>\n",
       "      <td id=\"T_e5876_row1_col7\" class=\"data row1 col7\" >No</td>\n",
       "    </tr>\n",
       "    <tr>\n",
       "      <th id=\"T_e5876_level0_row2\" class=\"row_heading level0 row2\" >2</th>\n",
       "      <td id=\"T_e5876_row2_col0\" class=\"data row2 col0\" >3668-QPYBK</td>\n",
       "      <td id=\"T_e5876_row2_col1\" class=\"data row2 col1\" >DSL</td>\n",
       "      <td id=\"T_e5876_row2_col2\" class=\"data row2 col2\" >Yes</td>\n",
       "      <td id=\"T_e5876_row2_col3\" class=\"data row2 col3\" >Yes</td>\n",
       "      <td id=\"T_e5876_row2_col4\" class=\"data row2 col4\" >No</td>\n",
       "      <td id=\"T_e5876_row2_col5\" class=\"data row2 col5\" >No</td>\n",
       "      <td id=\"T_e5876_row2_col6\" class=\"data row2 col6\" >No</td>\n",
       "      <td id=\"T_e5876_row2_col7\" class=\"data row2 col7\" >No</td>\n",
       "    </tr>\n",
       "    <tr>\n",
       "      <th id=\"T_e5876_level0_row3\" class=\"row_heading level0 row3\" >3</th>\n",
       "      <td id=\"T_e5876_row3_col0\" class=\"data row3 col0\" >7795-CFOCW</td>\n",
       "      <td id=\"T_e5876_row3_col1\" class=\"data row3 col1\" >DSL</td>\n",
       "      <td id=\"T_e5876_row3_col2\" class=\"data row3 col2\" >Yes</td>\n",
       "      <td id=\"T_e5876_row3_col3\" class=\"data row3 col3\" >No</td>\n",
       "      <td id=\"T_e5876_row3_col4\" class=\"data row3 col4\" >Yes</td>\n",
       "      <td id=\"T_e5876_row3_col5\" class=\"data row3 col5\" >Yes</td>\n",
       "      <td id=\"T_e5876_row3_col6\" class=\"data row3 col6\" >No</td>\n",
       "      <td id=\"T_e5876_row3_col7\" class=\"data row3 col7\" >No</td>\n",
       "    </tr>\n",
       "    <tr>\n",
       "      <th id=\"T_e5876_level0_row4\" class=\"row_heading level0 row4\" >4</th>\n",
       "      <td id=\"T_e5876_row4_col0\" class=\"data row4 col0\" >9237-HQITU</td>\n",
       "      <td id=\"T_e5876_row4_col1\" class=\"data row4 col1\" >Fiber optic</td>\n",
       "      <td id=\"T_e5876_row4_col2\" class=\"data row4 col2\" >No</td>\n",
       "      <td id=\"T_e5876_row4_col3\" class=\"data row4 col3\" >No</td>\n",
       "      <td id=\"T_e5876_row4_col4\" class=\"data row4 col4\" >No</td>\n",
       "      <td id=\"T_e5876_row4_col5\" class=\"data row4 col5\" >No</td>\n",
       "      <td id=\"T_e5876_row4_col6\" class=\"data row4 col6\" >No</td>\n",
       "      <td id=\"T_e5876_row4_col7\" class=\"data row4 col7\" >No</td>\n",
       "    </tr>\n",
       "    <tr>\n",
       "      <th id=\"T_e5876_level0_row5\" class=\"row_heading level0 row5\" >5</th>\n",
       "      <td id=\"T_e5876_row5_col0\" class=\"data row5 col0\" >9305-CDSKC</td>\n",
       "      <td id=\"T_e5876_row5_col1\" class=\"data row5 col1\" >Fiber optic</td>\n",
       "      <td id=\"T_e5876_row5_col2\" class=\"data row5 col2\" >No</td>\n",
       "      <td id=\"T_e5876_row5_col3\" class=\"data row5 col3\" >No</td>\n",
       "      <td id=\"T_e5876_row5_col4\" class=\"data row5 col4\" >Yes</td>\n",
       "      <td id=\"T_e5876_row5_col5\" class=\"data row5 col5\" >No</td>\n",
       "      <td id=\"T_e5876_row5_col6\" class=\"data row5 col6\" >Yes</td>\n",
       "      <td id=\"T_e5876_row5_col7\" class=\"data row5 col7\" >Yes</td>\n",
       "    </tr>\n",
       "    <tr>\n",
       "      <th id=\"T_e5876_level0_row6\" class=\"row_heading level0 row6\" >6</th>\n",
       "      <td id=\"T_e5876_row6_col0\" class=\"data row6 col0\" >1452-KIOVK</td>\n",
       "      <td id=\"T_e5876_row6_col1\" class=\"data row6 col1\" >Fiber optic</td>\n",
       "      <td id=\"T_e5876_row6_col2\" class=\"data row6 col2\" >No</td>\n",
       "      <td id=\"T_e5876_row6_col3\" class=\"data row6 col3\" >Yes</td>\n",
       "      <td id=\"T_e5876_row6_col4\" class=\"data row6 col4\" >No</td>\n",
       "      <td id=\"T_e5876_row6_col5\" class=\"data row6 col5\" >No</td>\n",
       "      <td id=\"T_e5876_row6_col6\" class=\"data row6 col6\" >Yes</td>\n",
       "      <td id=\"T_e5876_row6_col7\" class=\"data row6 col7\" >No</td>\n",
       "    </tr>\n",
       "    <tr>\n",
       "      <th id=\"T_e5876_level0_row7\" class=\"row_heading level0 row7\" >7</th>\n",
       "      <td id=\"T_e5876_row7_col0\" class=\"data row7 col0\" >6713-OKOMC</td>\n",
       "      <td id=\"T_e5876_row7_col1\" class=\"data row7 col1\" >DSL</td>\n",
       "      <td id=\"T_e5876_row7_col2\" class=\"data row7 col2\" >Yes</td>\n",
       "      <td id=\"T_e5876_row7_col3\" class=\"data row7 col3\" >No</td>\n",
       "      <td id=\"T_e5876_row7_col4\" class=\"data row7 col4\" >No</td>\n",
       "      <td id=\"T_e5876_row7_col5\" class=\"data row7 col5\" >No</td>\n",
       "      <td id=\"T_e5876_row7_col6\" class=\"data row7 col6\" >No</td>\n",
       "      <td id=\"T_e5876_row7_col7\" class=\"data row7 col7\" >No</td>\n",
       "    </tr>\n",
       "    <tr>\n",
       "      <th id=\"T_e5876_level0_row8\" class=\"row_heading level0 row8\" >8</th>\n",
       "      <td id=\"T_e5876_row8_col0\" class=\"data row8 col0\" >7892-POOKP</td>\n",
       "      <td id=\"T_e5876_row8_col1\" class=\"data row8 col1\" >Fiber optic</td>\n",
       "      <td id=\"T_e5876_row8_col2\" class=\"data row8 col2\" >No</td>\n",
       "      <td id=\"T_e5876_row8_col3\" class=\"data row8 col3\" >No</td>\n",
       "      <td id=\"T_e5876_row8_col4\" class=\"data row8 col4\" >Yes</td>\n",
       "      <td id=\"T_e5876_row8_col5\" class=\"data row8 col5\" >Yes</td>\n",
       "      <td id=\"T_e5876_row8_col6\" class=\"data row8 col6\" >Yes</td>\n",
       "      <td id=\"T_e5876_row8_col7\" class=\"data row8 col7\" >Yes</td>\n",
       "    </tr>\n",
       "    <tr>\n",
       "      <th id=\"T_e5876_level0_row9\" class=\"row_heading level0 row9\" >9</th>\n",
       "      <td id=\"T_e5876_row9_col0\" class=\"data row9 col0\" >6388-TABGU</td>\n",
       "      <td id=\"T_e5876_row9_col1\" class=\"data row9 col1\" >DSL</td>\n",
       "      <td id=\"T_e5876_row9_col2\" class=\"data row9 col2\" >Yes</td>\n",
       "      <td id=\"T_e5876_row9_col3\" class=\"data row9 col3\" >Yes</td>\n",
       "      <td id=\"T_e5876_row9_col4\" class=\"data row9 col4\" >No</td>\n",
       "      <td id=\"T_e5876_row9_col5\" class=\"data row9 col5\" >No</td>\n",
       "      <td id=\"T_e5876_row9_col6\" class=\"data row9 col6\" >No</td>\n",
       "      <td id=\"T_e5876_row9_col7\" class=\"data row9 col7\" >No</td>\n",
       "    </tr>\n",
       "  </tbody>\n",
       "</table>\n",
       "   <style type=\"text/css\">\n",
       "</style>\n",
       "<table id=\"T_e61b8_\" style='display:inline'>\n",
       "  <caption>Произвольные 10 строк</caption>\n",
       "  <thead>\n",
       "    <tr>\n",
       "      <th class=\"blank level0\" >&nbsp;</th>\n",
       "      <th class=\"col_heading level0 col0\" >customerID</th>\n",
       "      <th class=\"col_heading level0 col1\" >InternetService</th>\n",
       "      <th class=\"col_heading level0 col2\" >OnlineSecurity</th>\n",
       "      <th class=\"col_heading level0 col3\" >OnlineBackup</th>\n",
       "      <th class=\"col_heading level0 col4\" >DeviceProtection</th>\n",
       "      <th class=\"col_heading level0 col5\" >TechSupport</th>\n",
       "      <th class=\"col_heading level0 col6\" >StreamingTV</th>\n",
       "      <th class=\"col_heading level0 col7\" >StreamingMovies</th>\n",
       "    </tr>\n",
       "  </thead>\n",
       "  <tbody>\n",
       "    <tr>\n",
       "      <th id=\"T_e61b8_level0_row0\" class=\"row_heading level0 row0\" >1615</th>\n",
       "      <td id=\"T_e61b8_row0_col0\" class=\"data row0 col0\" >1170-SASML</td>\n",
       "      <td id=\"T_e61b8_row0_col1\" class=\"data row0 col1\" >Fiber optic</td>\n",
       "      <td id=\"T_e61b8_row0_col2\" class=\"data row0 col2\" >No</td>\n",
       "      <td id=\"T_e61b8_row0_col3\" class=\"data row0 col3\" >Yes</td>\n",
       "      <td id=\"T_e61b8_row0_col4\" class=\"data row0 col4\" >Yes</td>\n",
       "      <td id=\"T_e61b8_row0_col5\" class=\"data row0 col5\" >No</td>\n",
       "      <td id=\"T_e61b8_row0_col6\" class=\"data row0 col6\" >No</td>\n",
       "      <td id=\"T_e61b8_row0_col7\" class=\"data row0 col7\" >No</td>\n",
       "    </tr>\n",
       "    <tr>\n",
       "      <th id=\"T_e61b8_level0_row1\" class=\"row_heading level0 row1\" >1874</th>\n",
       "      <td id=\"T_e61b8_row1_col0\" class=\"data row1 col0\" >9314-QDMDW</td>\n",
       "      <td id=\"T_e61b8_row1_col1\" class=\"data row1 col1\" >DSL</td>\n",
       "      <td id=\"T_e61b8_row1_col2\" class=\"data row1 col2\" >No</td>\n",
       "      <td id=\"T_e61b8_row1_col3\" class=\"data row1 col3\" >Yes</td>\n",
       "      <td id=\"T_e61b8_row1_col4\" class=\"data row1 col4\" >No</td>\n",
       "      <td id=\"T_e61b8_row1_col5\" class=\"data row1 col5\" >No</td>\n",
       "      <td id=\"T_e61b8_row1_col6\" class=\"data row1 col6\" >Yes</td>\n",
       "      <td id=\"T_e61b8_row1_col7\" class=\"data row1 col7\" >No</td>\n",
       "    </tr>\n",
       "    <tr>\n",
       "      <th id=\"T_e61b8_level0_row2\" class=\"row_heading level0 row2\" >3167</th>\n",
       "      <td id=\"T_e61b8_row2_col0\" class=\"data row2 col0\" >2434-EEVDB</td>\n",
       "      <td id=\"T_e61b8_row2_col1\" class=\"data row2 col1\" >Fiber optic</td>\n",
       "      <td id=\"T_e61b8_row2_col2\" class=\"data row2 col2\" >Yes</td>\n",
       "      <td id=\"T_e61b8_row2_col3\" class=\"data row2 col3\" >No</td>\n",
       "      <td id=\"T_e61b8_row2_col4\" class=\"data row2 col4\" >Yes</td>\n",
       "      <td id=\"T_e61b8_row2_col5\" class=\"data row2 col5\" >No</td>\n",
       "      <td id=\"T_e61b8_row2_col6\" class=\"data row2 col6\" >Yes</td>\n",
       "      <td id=\"T_e61b8_row2_col7\" class=\"data row2 col7\" >No</td>\n",
       "    </tr>\n",
       "    <tr>\n",
       "      <th id=\"T_e61b8_level0_row3\" class=\"row_heading level0 row3\" >5287</th>\n",
       "      <td id=\"T_e61b8_row3_col0\" class=\"data row3 col0\" >7672-VFMXZ</td>\n",
       "      <td id=\"T_e61b8_row3_col1\" class=\"data row3 col1\" >DSL</td>\n",
       "      <td id=\"T_e61b8_row3_col2\" class=\"data row3 col2\" >Yes</td>\n",
       "      <td id=\"T_e61b8_row3_col3\" class=\"data row3 col3\" >No</td>\n",
       "      <td id=\"T_e61b8_row3_col4\" class=\"data row3 col4\" >No</td>\n",
       "      <td id=\"T_e61b8_row3_col5\" class=\"data row3 col5\" >Yes</td>\n",
       "      <td id=\"T_e61b8_row3_col6\" class=\"data row3 col6\" >No</td>\n",
       "      <td id=\"T_e61b8_row3_col7\" class=\"data row3 col7\" >No</td>\n",
       "    </tr>\n",
       "    <tr>\n",
       "      <th id=\"T_e61b8_level0_row4\" class=\"row_heading level0 row4\" >4770</th>\n",
       "      <td id=\"T_e61b8_row4_col0\" class=\"data row4 col0\" >7445-WMRBW</td>\n",
       "      <td id=\"T_e61b8_row4_col1\" class=\"data row4 col1\" >DSL</td>\n",
       "      <td id=\"T_e61b8_row4_col2\" class=\"data row4 col2\" >No</td>\n",
       "      <td id=\"T_e61b8_row4_col3\" class=\"data row4 col3\" >Yes</td>\n",
       "      <td id=\"T_e61b8_row4_col4\" class=\"data row4 col4\" >Yes</td>\n",
       "      <td id=\"T_e61b8_row4_col5\" class=\"data row4 col5\" >Yes</td>\n",
       "      <td id=\"T_e61b8_row4_col6\" class=\"data row4 col6\" >Yes</td>\n",
       "      <td id=\"T_e61b8_row4_col7\" class=\"data row4 col7\" >No</td>\n",
       "    </tr>\n",
       "    <tr>\n",
       "      <th id=\"T_e61b8_level0_row5\" class=\"row_heading level0 row5\" >3660</th>\n",
       "      <td id=\"T_e61b8_row5_col0\" class=\"data row5 col0\" >7036-ZZKBD</td>\n",
       "      <td id=\"T_e61b8_row5_col1\" class=\"data row5 col1\" >DSL</td>\n",
       "      <td id=\"T_e61b8_row5_col2\" class=\"data row5 col2\" >No</td>\n",
       "      <td id=\"T_e61b8_row5_col3\" class=\"data row5 col3\" >No</td>\n",
       "      <td id=\"T_e61b8_row5_col4\" class=\"data row5 col4\" >Yes</td>\n",
       "      <td id=\"T_e61b8_row5_col5\" class=\"data row5 col5\" >Yes</td>\n",
       "      <td id=\"T_e61b8_row5_col6\" class=\"data row5 col6\" >No</td>\n",
       "      <td id=\"T_e61b8_row5_col7\" class=\"data row5 col7\" >Yes</td>\n",
       "    </tr>\n",
       "    <tr>\n",
       "      <th id=\"T_e61b8_level0_row6\" class=\"row_heading level0 row6\" >2943</th>\n",
       "      <td id=\"T_e61b8_row6_col0\" class=\"data row6 col0\" >7479-NITWS</td>\n",
       "      <td id=\"T_e61b8_row6_col1\" class=\"data row6 col1\" >Fiber optic</td>\n",
       "      <td id=\"T_e61b8_row6_col2\" class=\"data row6 col2\" >No</td>\n",
       "      <td id=\"T_e61b8_row6_col3\" class=\"data row6 col3\" >No</td>\n",
       "      <td id=\"T_e61b8_row6_col4\" class=\"data row6 col4\" >Yes</td>\n",
       "      <td id=\"T_e61b8_row6_col5\" class=\"data row6 col5\" >No</td>\n",
       "      <td id=\"T_e61b8_row6_col6\" class=\"data row6 col6\" >Yes</td>\n",
       "      <td id=\"T_e61b8_row6_col7\" class=\"data row6 col7\" >No</td>\n",
       "    </tr>\n",
       "    <tr>\n",
       "      <th id=\"T_e61b8_level0_row7\" class=\"row_heading level0 row7\" >1471</th>\n",
       "      <td id=\"T_e61b8_row7_col0\" class=\"data row7 col0\" >3062-ICYZQ</td>\n",
       "      <td id=\"T_e61b8_row7_col1\" class=\"data row7 col1\" >Fiber optic</td>\n",
       "      <td id=\"T_e61b8_row7_col2\" class=\"data row7 col2\" >Yes</td>\n",
       "      <td id=\"T_e61b8_row7_col3\" class=\"data row7 col3\" >Yes</td>\n",
       "      <td id=\"T_e61b8_row7_col4\" class=\"data row7 col4\" >No</td>\n",
       "      <td id=\"T_e61b8_row7_col5\" class=\"data row7 col5\" >No</td>\n",
       "      <td id=\"T_e61b8_row7_col6\" class=\"data row7 col6\" >No</td>\n",
       "      <td id=\"T_e61b8_row7_col7\" class=\"data row7 col7\" >Yes</td>\n",
       "    </tr>\n",
       "    <tr>\n",
       "      <th id=\"T_e61b8_level0_row8\" class=\"row_heading level0 row8\" >2459</th>\n",
       "      <td id=\"T_e61b8_row8_col0\" class=\"data row8 col0\" >5924-IFQTT</td>\n",
       "      <td id=\"T_e61b8_row8_col1\" class=\"data row8 col1\" >DSL</td>\n",
       "      <td id=\"T_e61b8_row8_col2\" class=\"data row8 col2\" >No</td>\n",
       "      <td id=\"T_e61b8_row8_col3\" class=\"data row8 col3\" >Yes</td>\n",
       "      <td id=\"T_e61b8_row8_col4\" class=\"data row8 col4\" >Yes</td>\n",
       "      <td id=\"T_e61b8_row8_col5\" class=\"data row8 col5\" >Yes</td>\n",
       "      <td id=\"T_e61b8_row8_col6\" class=\"data row8 col6\" >Yes</td>\n",
       "      <td id=\"T_e61b8_row8_col7\" class=\"data row8 col7\" >No</td>\n",
       "    </tr>\n",
       "    <tr>\n",
       "      <th id=\"T_e61b8_level0_row9\" class=\"row_heading level0 row9\" >3226</th>\n",
       "      <td id=\"T_e61b8_row9_col0\" class=\"data row9 col0\" >4826-TZEVA</td>\n",
       "      <td id=\"T_e61b8_row9_col1\" class=\"data row9 col1\" >Fiber optic</td>\n",
       "      <td id=\"T_e61b8_row9_col2\" class=\"data row9 col2\" >No</td>\n",
       "      <td id=\"T_e61b8_row9_col3\" class=\"data row9 col3\" >Yes</td>\n",
       "      <td id=\"T_e61b8_row9_col4\" class=\"data row9 col4\" >No</td>\n",
       "      <td id=\"T_e61b8_row9_col5\" class=\"data row9 col5\" >No</td>\n",
       "      <td id=\"T_e61b8_row9_col6\" class=\"data row9 col6\" >No</td>\n",
       "      <td id=\"T_e61b8_row9_col7\" class=\"data row9 col7\" >No</td>\n",
       "    </tr>\n",
       "  </tbody>\n",
       "</table>\n",
       "   <style type=\"text/css\">\n",
       "</style>\n",
       "<table id=\"T_717b6_\" style='display:inline'>\n",
       "  <caption>Последние 10 строк</caption>\n",
       "  <thead>\n",
       "    <tr>\n",
       "      <th class=\"blank level0\" >&nbsp;</th>\n",
       "      <th class=\"col_heading level0 col0\" >customerID</th>\n",
       "      <th class=\"col_heading level0 col1\" >InternetService</th>\n",
       "      <th class=\"col_heading level0 col2\" >OnlineSecurity</th>\n",
       "      <th class=\"col_heading level0 col3\" >OnlineBackup</th>\n",
       "      <th class=\"col_heading level0 col4\" >DeviceProtection</th>\n",
       "      <th class=\"col_heading level0 col5\" >TechSupport</th>\n",
       "      <th class=\"col_heading level0 col6\" >StreamingTV</th>\n",
       "      <th class=\"col_heading level0 col7\" >StreamingMovies</th>\n",
       "    </tr>\n",
       "  </thead>\n",
       "  <tbody>\n",
       "    <tr>\n",
       "      <th id=\"T_717b6_level0_row0\" class=\"row_heading level0 row0\" >5507</th>\n",
       "      <td id=\"T_717b6_row0_col0\" class=\"data row0 col0\" >6894-LFHLY</td>\n",
       "      <td id=\"T_717b6_row0_col1\" class=\"data row0 col1\" >Fiber optic</td>\n",
       "      <td id=\"T_717b6_row0_col2\" class=\"data row0 col2\" >No</td>\n",
       "      <td id=\"T_717b6_row0_col3\" class=\"data row0 col3\" >No</td>\n",
       "      <td id=\"T_717b6_row0_col4\" class=\"data row0 col4\" >No</td>\n",
       "      <td id=\"T_717b6_row0_col5\" class=\"data row0 col5\" >No</td>\n",
       "      <td id=\"T_717b6_row0_col6\" class=\"data row0 col6\" >No</td>\n",
       "      <td id=\"T_717b6_row0_col7\" class=\"data row0 col7\" >No</td>\n",
       "    </tr>\n",
       "    <tr>\n",
       "      <th id=\"T_717b6_level0_row1\" class=\"row_heading level0 row1\" >5508</th>\n",
       "      <td id=\"T_717b6_row1_col0\" class=\"data row1 col0\" >9767-FFLEM</td>\n",
       "      <td id=\"T_717b6_row1_col1\" class=\"data row1 col1\" >Fiber optic</td>\n",
       "      <td id=\"T_717b6_row1_col2\" class=\"data row1 col2\" >No</td>\n",
       "      <td id=\"T_717b6_row1_col3\" class=\"data row1 col3\" >No</td>\n",
       "      <td id=\"T_717b6_row1_col4\" class=\"data row1 col4\" >No</td>\n",
       "      <td id=\"T_717b6_row1_col5\" class=\"data row1 col5\" >No</td>\n",
       "      <td id=\"T_717b6_row1_col6\" class=\"data row1 col6\" >No</td>\n",
       "      <td id=\"T_717b6_row1_col7\" class=\"data row1 col7\" >No</td>\n",
       "    </tr>\n",
       "    <tr>\n",
       "      <th id=\"T_717b6_level0_row2\" class=\"row_heading level0 row2\" >5509</th>\n",
       "      <td id=\"T_717b6_row2_col0\" class=\"data row2 col0\" >0639-TSIQW</td>\n",
       "      <td id=\"T_717b6_row2_col1\" class=\"data row2 col1\" >Fiber optic</td>\n",
       "      <td id=\"T_717b6_row2_col2\" class=\"data row2 col2\" >Yes</td>\n",
       "      <td id=\"T_717b6_row2_col3\" class=\"data row2 col3\" >Yes</td>\n",
       "      <td id=\"T_717b6_row2_col4\" class=\"data row2 col4\" >Yes</td>\n",
       "      <td id=\"T_717b6_row2_col5\" class=\"data row2 col5\" >No</td>\n",
       "      <td id=\"T_717b6_row2_col6\" class=\"data row2 col6\" >Yes</td>\n",
       "      <td id=\"T_717b6_row2_col7\" class=\"data row2 col7\" >No</td>\n",
       "    </tr>\n",
       "    <tr>\n",
       "      <th id=\"T_717b6_level0_row3\" class=\"row_heading level0 row3\" >5510</th>\n",
       "      <td id=\"T_717b6_row3_col0\" class=\"data row3 col0\" >8456-QDAVC</td>\n",
       "      <td id=\"T_717b6_row3_col1\" class=\"data row3 col1\" >Fiber optic</td>\n",
       "      <td id=\"T_717b6_row3_col2\" class=\"data row3 col2\" >No</td>\n",
       "      <td id=\"T_717b6_row3_col3\" class=\"data row3 col3\" >No</td>\n",
       "      <td id=\"T_717b6_row3_col4\" class=\"data row3 col4\" >No</td>\n",
       "      <td id=\"T_717b6_row3_col5\" class=\"data row3 col5\" >No</td>\n",
       "      <td id=\"T_717b6_row3_col6\" class=\"data row3 col6\" >Yes</td>\n",
       "      <td id=\"T_717b6_row3_col7\" class=\"data row3 col7\" >No</td>\n",
       "    </tr>\n",
       "    <tr>\n",
       "      <th id=\"T_717b6_level0_row4\" class=\"row_heading level0 row4\" >5511</th>\n",
       "      <td id=\"T_717b6_row4_col0\" class=\"data row4 col0\" >7750-EYXWZ</td>\n",
       "      <td id=\"T_717b6_row4_col1\" class=\"data row4 col1\" >DSL</td>\n",
       "      <td id=\"T_717b6_row4_col2\" class=\"data row4 col2\" >No</td>\n",
       "      <td id=\"T_717b6_row4_col3\" class=\"data row4 col3\" >Yes</td>\n",
       "      <td id=\"T_717b6_row4_col4\" class=\"data row4 col4\" >Yes</td>\n",
       "      <td id=\"T_717b6_row4_col5\" class=\"data row4 col5\" >Yes</td>\n",
       "      <td id=\"T_717b6_row4_col6\" class=\"data row4 col6\" >Yes</td>\n",
       "      <td id=\"T_717b6_row4_col7\" class=\"data row4 col7\" >Yes</td>\n",
       "    </tr>\n",
       "    <tr>\n",
       "      <th id=\"T_717b6_level0_row5\" class=\"row_heading level0 row5\" >5512</th>\n",
       "      <td id=\"T_717b6_row5_col0\" class=\"data row5 col0\" >6840-RESVB</td>\n",
       "      <td id=\"T_717b6_row5_col1\" class=\"data row5 col1\" >DSL</td>\n",
       "      <td id=\"T_717b6_row5_col2\" class=\"data row5 col2\" >Yes</td>\n",
       "      <td id=\"T_717b6_row5_col3\" class=\"data row5 col3\" >No</td>\n",
       "      <td id=\"T_717b6_row5_col4\" class=\"data row5 col4\" >Yes</td>\n",
       "      <td id=\"T_717b6_row5_col5\" class=\"data row5 col5\" >Yes</td>\n",
       "      <td id=\"T_717b6_row5_col6\" class=\"data row5 col6\" >Yes</td>\n",
       "      <td id=\"T_717b6_row5_col7\" class=\"data row5 col7\" >Yes</td>\n",
       "    </tr>\n",
       "    <tr>\n",
       "      <th id=\"T_717b6_level0_row6\" class=\"row_heading level0 row6\" >5513</th>\n",
       "      <td id=\"T_717b6_row6_col0\" class=\"data row6 col0\" >2234-XADUH</td>\n",
       "      <td id=\"T_717b6_row6_col1\" class=\"data row6 col1\" >Fiber optic</td>\n",
       "      <td id=\"T_717b6_row6_col2\" class=\"data row6 col2\" >No</td>\n",
       "      <td id=\"T_717b6_row6_col3\" class=\"data row6 col3\" >Yes</td>\n",
       "      <td id=\"T_717b6_row6_col4\" class=\"data row6 col4\" >Yes</td>\n",
       "      <td id=\"T_717b6_row6_col5\" class=\"data row6 col5\" >No</td>\n",
       "      <td id=\"T_717b6_row6_col6\" class=\"data row6 col6\" >Yes</td>\n",
       "      <td id=\"T_717b6_row6_col7\" class=\"data row6 col7\" >Yes</td>\n",
       "    </tr>\n",
       "    <tr>\n",
       "      <th id=\"T_717b6_level0_row7\" class=\"row_heading level0 row7\" >5514</th>\n",
       "      <td id=\"T_717b6_row7_col0\" class=\"data row7 col0\" >4801-JZAZL</td>\n",
       "      <td id=\"T_717b6_row7_col1\" class=\"data row7 col1\" >DSL</td>\n",
       "      <td id=\"T_717b6_row7_col2\" class=\"data row7 col2\" >Yes</td>\n",
       "      <td id=\"T_717b6_row7_col3\" class=\"data row7 col3\" >No</td>\n",
       "      <td id=\"T_717b6_row7_col4\" class=\"data row7 col4\" >No</td>\n",
       "      <td id=\"T_717b6_row7_col5\" class=\"data row7 col5\" >No</td>\n",
       "      <td id=\"T_717b6_row7_col6\" class=\"data row7 col6\" >No</td>\n",
       "      <td id=\"T_717b6_row7_col7\" class=\"data row7 col7\" >No</td>\n",
       "    </tr>\n",
       "    <tr>\n",
       "      <th id=\"T_717b6_level0_row8\" class=\"row_heading level0 row8\" >5515</th>\n",
       "      <td id=\"T_717b6_row8_col0\" class=\"data row8 col0\" >8361-LTMKD</td>\n",
       "      <td id=\"T_717b6_row8_col1\" class=\"data row8 col1\" >Fiber optic</td>\n",
       "      <td id=\"T_717b6_row8_col2\" class=\"data row8 col2\" >No</td>\n",
       "      <td id=\"T_717b6_row8_col3\" class=\"data row8 col3\" >No</td>\n",
       "      <td id=\"T_717b6_row8_col4\" class=\"data row8 col4\" >No</td>\n",
       "      <td id=\"T_717b6_row8_col5\" class=\"data row8 col5\" >No</td>\n",
       "      <td id=\"T_717b6_row8_col6\" class=\"data row8 col6\" >No</td>\n",
       "      <td id=\"T_717b6_row8_col7\" class=\"data row8 col7\" >No</td>\n",
       "    </tr>\n",
       "    <tr>\n",
       "      <th id=\"T_717b6_level0_row9\" class=\"row_heading level0 row9\" >5516</th>\n",
       "      <td id=\"T_717b6_row9_col0\" class=\"data row9 col0\" >3186-AJIEK</td>\n",
       "      <td id=\"T_717b6_row9_col1\" class=\"data row9 col1\" >Fiber optic</td>\n",
       "      <td id=\"T_717b6_row9_col2\" class=\"data row9 col2\" >Yes</td>\n",
       "      <td id=\"T_717b6_row9_col3\" class=\"data row9 col3\" >No</td>\n",
       "      <td id=\"T_717b6_row9_col4\" class=\"data row9 col4\" >Yes</td>\n",
       "      <td id=\"T_717b6_row9_col5\" class=\"data row9 col5\" >Yes</td>\n",
       "      <td id=\"T_717b6_row9_col6\" class=\"data row9 col6\" >Yes</td>\n",
       "      <td id=\"T_717b6_row9_col7\" class=\"data row9 col7\" >Yes</td>\n",
       "    </tr>\n",
       "  </tbody>\n",
       "</table>\n",
       "   <style type=\"text/css\">\n",
       "</style>\n",
       "<table id=\"T_b1479_\" style='display:inline'>\n",
       "  <caption>Статистическая информация</caption>\n",
       "  <thead>\n",
       "    <tr>\n",
       "      <th class=\"blank level0\" >&nbsp;</th>\n",
       "      <th class=\"col_heading level0 col0\" >customerID</th>\n",
       "      <th class=\"col_heading level0 col1\" >InternetService</th>\n",
       "      <th class=\"col_heading level0 col2\" >OnlineSecurity</th>\n",
       "      <th class=\"col_heading level0 col3\" >OnlineBackup</th>\n",
       "      <th class=\"col_heading level0 col4\" >DeviceProtection</th>\n",
       "      <th class=\"col_heading level0 col5\" >TechSupport</th>\n",
       "      <th class=\"col_heading level0 col6\" >StreamingTV</th>\n",
       "      <th class=\"col_heading level0 col7\" >StreamingMovies</th>\n",
       "    </tr>\n",
       "  </thead>\n",
       "  <tbody>\n",
       "    <tr>\n",
       "      <th id=\"T_b1479_level0_row0\" class=\"row_heading level0 row0\" >count</th>\n",
       "      <td id=\"T_b1479_row0_col0\" class=\"data row0 col0\" >5517</td>\n",
       "      <td id=\"T_b1479_row0_col1\" class=\"data row0 col1\" >5517</td>\n",
       "      <td id=\"T_b1479_row0_col2\" class=\"data row0 col2\" >5517</td>\n",
       "      <td id=\"T_b1479_row0_col3\" class=\"data row0 col3\" >5517</td>\n",
       "      <td id=\"T_b1479_row0_col4\" class=\"data row0 col4\" >5517</td>\n",
       "      <td id=\"T_b1479_row0_col5\" class=\"data row0 col5\" >5517</td>\n",
       "      <td id=\"T_b1479_row0_col6\" class=\"data row0 col6\" >5517</td>\n",
       "      <td id=\"T_b1479_row0_col7\" class=\"data row0 col7\" >5517</td>\n",
       "    </tr>\n",
       "    <tr>\n",
       "      <th id=\"T_b1479_level0_row1\" class=\"row_heading level0 row1\" >unique</th>\n",
       "      <td id=\"T_b1479_row1_col0\" class=\"data row1 col0\" >5517</td>\n",
       "      <td id=\"T_b1479_row1_col1\" class=\"data row1 col1\" >2</td>\n",
       "      <td id=\"T_b1479_row1_col2\" class=\"data row1 col2\" >2</td>\n",
       "      <td id=\"T_b1479_row1_col3\" class=\"data row1 col3\" >2</td>\n",
       "      <td id=\"T_b1479_row1_col4\" class=\"data row1 col4\" >2</td>\n",
       "      <td id=\"T_b1479_row1_col5\" class=\"data row1 col5\" >2</td>\n",
       "      <td id=\"T_b1479_row1_col6\" class=\"data row1 col6\" >2</td>\n",
       "      <td id=\"T_b1479_row1_col7\" class=\"data row1 col7\" >2</td>\n",
       "    </tr>\n",
       "    <tr>\n",
       "      <th id=\"T_b1479_level0_row2\" class=\"row_heading level0 row2\" >top</th>\n",
       "      <td id=\"T_b1479_row2_col0\" class=\"data row2 col0\" >7590-VHVEG</td>\n",
       "      <td id=\"T_b1479_row2_col1\" class=\"data row2 col1\" >Fiber optic</td>\n",
       "      <td id=\"T_b1479_row2_col2\" class=\"data row2 col2\" >No</td>\n",
       "      <td id=\"T_b1479_row2_col3\" class=\"data row2 col3\" >No</td>\n",
       "      <td id=\"T_b1479_row2_col4\" class=\"data row2 col4\" >No</td>\n",
       "      <td id=\"T_b1479_row2_col5\" class=\"data row2 col5\" >No</td>\n",
       "      <td id=\"T_b1479_row2_col6\" class=\"data row2 col6\" >No</td>\n",
       "      <td id=\"T_b1479_row2_col7\" class=\"data row2 col7\" >No</td>\n",
       "    </tr>\n",
       "    <tr>\n",
       "      <th id=\"T_b1479_level0_row3\" class=\"row_heading level0 row3\" >freq</th>\n",
       "      <td id=\"T_b1479_row3_col0\" class=\"data row3 col0\" >1</td>\n",
       "      <td id=\"T_b1479_row3_col1\" class=\"data row3 col1\" >3096</td>\n",
       "      <td id=\"T_b1479_row3_col2\" class=\"data row3 col2\" >3498</td>\n",
       "      <td id=\"T_b1479_row3_col3\" class=\"data row3 col3\" >3088</td>\n",
       "      <td id=\"T_b1479_row3_col4\" class=\"data row3 col4\" >3095</td>\n",
       "      <td id=\"T_b1479_row3_col5\" class=\"data row3 col5\" >3473</td>\n",
       "      <td id=\"T_b1479_row3_col6\" class=\"data row3 col6\" >2810</td>\n",
       "      <td id=\"T_b1479_row3_col7\" class=\"data row3 col7\" >2785</td>\n",
       "    </tr>\n",
       "  </tbody>\n",
       "</table>\n",
       "   <style type=\"text/css\">\n",
       "</style>\n",
       "<table id=\"T_a5bdb_\" style='display:inline'>\n",
       "  <caption>Категориальные признаки</caption>\n",
       "  <thead>\n",
       "    <tr>\n",
       "      <th class=\"blank level0\" >&nbsp;</th>\n",
       "      <th class=\"col_heading level0 col0\" >customerID</th>\n",
       "      <th class=\"col_heading level0 col1\" >InternetService</th>\n",
       "      <th class=\"col_heading level0 col2\" >OnlineSecurity</th>\n",
       "      <th class=\"col_heading level0 col3\" >OnlineBackup</th>\n",
       "      <th class=\"col_heading level0 col4\" >DeviceProtection</th>\n",
       "      <th class=\"col_heading level0 col5\" >TechSupport</th>\n",
       "      <th class=\"col_heading level0 col6\" >StreamingTV</th>\n",
       "      <th class=\"col_heading level0 col7\" >StreamingMovies</th>\n",
       "    </tr>\n",
       "  </thead>\n",
       "  <tbody>\n",
       "    <tr>\n",
       "      <th id=\"T_a5bdb_level0_row0\" class=\"row_heading level0 row0\" >count</th>\n",
       "      <td id=\"T_a5bdb_row0_col0\" class=\"data row0 col0\" >5517</td>\n",
       "      <td id=\"T_a5bdb_row0_col1\" class=\"data row0 col1\" >5517</td>\n",
       "      <td id=\"T_a5bdb_row0_col2\" class=\"data row0 col2\" >5517</td>\n",
       "      <td id=\"T_a5bdb_row0_col3\" class=\"data row0 col3\" >5517</td>\n",
       "      <td id=\"T_a5bdb_row0_col4\" class=\"data row0 col4\" >5517</td>\n",
       "      <td id=\"T_a5bdb_row0_col5\" class=\"data row0 col5\" >5517</td>\n",
       "      <td id=\"T_a5bdb_row0_col6\" class=\"data row0 col6\" >5517</td>\n",
       "      <td id=\"T_a5bdb_row0_col7\" class=\"data row0 col7\" >5517</td>\n",
       "    </tr>\n",
       "    <tr>\n",
       "      <th id=\"T_a5bdb_level0_row1\" class=\"row_heading level0 row1\" >unique</th>\n",
       "      <td id=\"T_a5bdb_row1_col0\" class=\"data row1 col0\" >5517</td>\n",
       "      <td id=\"T_a5bdb_row1_col1\" class=\"data row1 col1\" >2</td>\n",
       "      <td id=\"T_a5bdb_row1_col2\" class=\"data row1 col2\" >2</td>\n",
       "      <td id=\"T_a5bdb_row1_col3\" class=\"data row1 col3\" >2</td>\n",
       "      <td id=\"T_a5bdb_row1_col4\" class=\"data row1 col4\" >2</td>\n",
       "      <td id=\"T_a5bdb_row1_col5\" class=\"data row1 col5\" >2</td>\n",
       "      <td id=\"T_a5bdb_row1_col6\" class=\"data row1 col6\" >2</td>\n",
       "      <td id=\"T_a5bdb_row1_col7\" class=\"data row1 col7\" >2</td>\n",
       "    </tr>\n",
       "    <tr>\n",
       "      <th id=\"T_a5bdb_level0_row2\" class=\"row_heading level0 row2\" >top</th>\n",
       "      <td id=\"T_a5bdb_row2_col0\" class=\"data row2 col0\" >7590-VHVEG</td>\n",
       "      <td id=\"T_a5bdb_row2_col1\" class=\"data row2 col1\" >Fiber optic</td>\n",
       "      <td id=\"T_a5bdb_row2_col2\" class=\"data row2 col2\" >No</td>\n",
       "      <td id=\"T_a5bdb_row2_col3\" class=\"data row2 col3\" >No</td>\n",
       "      <td id=\"T_a5bdb_row2_col4\" class=\"data row2 col4\" >No</td>\n",
       "      <td id=\"T_a5bdb_row2_col5\" class=\"data row2 col5\" >No</td>\n",
       "      <td id=\"T_a5bdb_row2_col6\" class=\"data row2 col6\" >No</td>\n",
       "      <td id=\"T_a5bdb_row2_col7\" class=\"data row2 col7\" >No</td>\n",
       "    </tr>\n",
       "    <tr>\n",
       "      <th id=\"T_a5bdb_level0_row3\" class=\"row_heading level0 row3\" >freq</th>\n",
       "      <td id=\"T_a5bdb_row3_col0\" class=\"data row3 col0\" >1</td>\n",
       "      <td id=\"T_a5bdb_row3_col1\" class=\"data row3 col1\" >3096</td>\n",
       "      <td id=\"T_a5bdb_row3_col2\" class=\"data row3 col2\" >3498</td>\n",
       "      <td id=\"T_a5bdb_row3_col3\" class=\"data row3 col3\" >3088</td>\n",
       "      <td id=\"T_a5bdb_row3_col4\" class=\"data row3 col4\" >3095</td>\n",
       "      <td id=\"T_a5bdb_row3_col5\" class=\"data row3 col5\" >3473</td>\n",
       "      <td id=\"T_a5bdb_row3_col6\" class=\"data row3 col6\" >2810</td>\n",
       "      <td id=\"T_a5bdb_row3_col7\" class=\"data row3 col7\" >2785</td>\n",
       "    </tr>\n",
       "  </tbody>\n",
       "</table>\n",
       "   "
      ],
      "text/plain": [
       "<IPython.core.display.HTML object>"
      ]
     },
     "metadata": {},
     "output_type": "display_data"
    },
    {
     "name": "stdout",
     "output_type": "stream",
     "text": [
      "Пропущенные значения\n"
     ]
    },
    {
     "data": {
      "text/html": [
       "<div>\n",
       "<style scoped>\n",
       "    .dataframe tbody tr th:only-of-type {\n",
       "        vertical-align: middle;\n",
       "    }\n",
       "\n",
       "    .dataframe tbody tr th {\n",
       "        vertical-align: top;\n",
       "    }\n",
       "\n",
       "    .dataframe thead th {\n",
       "        text-align: right;\n",
       "    }\n",
       "</style>\n",
       "<table border=\"1\" class=\"dataframe\">\n",
       "  <thead>\n",
       "    <tr style=\"text-align: right;\">\n",
       "      <th></th>\n",
       "      <th>Доля пропусков</th>\n",
       "      <th>Количество</th>\n",
       "    </tr>\n",
       "  </thead>\n",
       "  <tbody>\n",
       "    <tr>\n",
       "      <th>customerID</th>\n",
       "      <td>0.0</td>\n",
       "      <td>0</td>\n",
       "    </tr>\n",
       "    <tr>\n",
       "      <th>InternetService</th>\n",
       "      <td>0.0</td>\n",
       "      <td>0</td>\n",
       "    </tr>\n",
       "    <tr>\n",
       "      <th>OnlineSecurity</th>\n",
       "      <td>0.0</td>\n",
       "      <td>0</td>\n",
       "    </tr>\n",
       "    <tr>\n",
       "      <th>OnlineBackup</th>\n",
       "      <td>0.0</td>\n",
       "      <td>0</td>\n",
       "    </tr>\n",
       "    <tr>\n",
       "      <th>DeviceProtection</th>\n",
       "      <td>0.0</td>\n",
       "      <td>0</td>\n",
       "    </tr>\n",
       "    <tr>\n",
       "      <th>TechSupport</th>\n",
       "      <td>0.0</td>\n",
       "      <td>0</td>\n",
       "    </tr>\n",
       "    <tr>\n",
       "      <th>StreamingTV</th>\n",
       "      <td>0.0</td>\n",
       "      <td>0</td>\n",
       "    </tr>\n",
       "    <tr>\n",
       "      <th>StreamingMovies</th>\n",
       "      <td>0.0</td>\n",
       "      <td>0</td>\n",
       "    </tr>\n",
       "  </tbody>\n",
       "</table>\n",
       "</div>"
      ],
      "text/plain": [
       "                  Доля пропусков  Количество\n",
       "customerID                   0.0           0\n",
       "InternetService              0.0           0\n",
       "OnlineSecurity               0.0           0\n",
       "OnlineBackup                 0.0           0\n",
       "DeviceProtection             0.0           0\n",
       "TechSupport                  0.0           0\n",
       "StreamingTV                  0.0           0\n",
       "StreamingMovies              0.0           0"
      ]
     },
     "metadata": {},
     "output_type": "display_data"
    },
    {
     "name": "stdout",
     "output_type": "stream",
     "text": [
      "Строк: 5517 \n",
      "Дубликатов: 0\n",
      "\n",
      "\u001b[1mТаблица personal \u001b[0m\n",
      "Общая информация, info() \n",
      "\n",
      "<class 'pandas.core.frame.DataFrame'>\n",
      "RangeIndex: 7043 entries, 0 to 7042\n",
      "Data columns (total 5 columns):\n",
      " #   Column         Non-Null Count  Dtype \n",
      "---  ------         --------------  ----- \n",
      " 0   customerID     7043 non-null   object\n",
      " 1   gender         7043 non-null   object\n",
      " 2   SeniorCitizen  7043 non-null   int64 \n",
      " 3   Partner        7043 non-null   object\n",
      " 4   Dependents     7043 non-null   object\n",
      "dtypes: int64(1), object(4)\n",
      "memory usage: 275.2+ KB\n"
     ]
    },
    {
     "data": {
      "text/plain": [
       "None"
      ]
     },
     "metadata": {},
     "output_type": "display_data"
    },
    {
     "name": "stdout",
     "output_type": "stream",
     "text": [
      "\u001b[1m Смотрим на исходные данные \u001b[0m\n"
     ]
    },
    {
     "data": {
      "text/html": [
       "<style type=\"text/css\">\n",
       "</style>\n",
       "<table id=\"T_fd8b6_\" style='display:inline'>\n",
       "  <caption>Первые 10 строк</caption>\n",
       "  <thead>\n",
       "    <tr>\n",
       "      <th class=\"blank level0\" >&nbsp;</th>\n",
       "      <th class=\"col_heading level0 col0\" >customerID</th>\n",
       "      <th class=\"col_heading level0 col1\" >gender</th>\n",
       "      <th class=\"col_heading level0 col2\" >SeniorCitizen</th>\n",
       "      <th class=\"col_heading level0 col3\" >Partner</th>\n",
       "      <th class=\"col_heading level0 col4\" >Dependents</th>\n",
       "    </tr>\n",
       "  </thead>\n",
       "  <tbody>\n",
       "    <tr>\n",
       "      <th id=\"T_fd8b6_level0_row0\" class=\"row_heading level0 row0\" >0</th>\n",
       "      <td id=\"T_fd8b6_row0_col0\" class=\"data row0 col0\" >7590-VHVEG</td>\n",
       "      <td id=\"T_fd8b6_row0_col1\" class=\"data row0 col1\" >Female</td>\n",
       "      <td id=\"T_fd8b6_row0_col2\" class=\"data row0 col2\" >0</td>\n",
       "      <td id=\"T_fd8b6_row0_col3\" class=\"data row0 col3\" >Yes</td>\n",
       "      <td id=\"T_fd8b6_row0_col4\" class=\"data row0 col4\" >No</td>\n",
       "    </tr>\n",
       "    <tr>\n",
       "      <th id=\"T_fd8b6_level0_row1\" class=\"row_heading level0 row1\" >1</th>\n",
       "      <td id=\"T_fd8b6_row1_col0\" class=\"data row1 col0\" >5575-GNVDE</td>\n",
       "      <td id=\"T_fd8b6_row1_col1\" class=\"data row1 col1\" >Male</td>\n",
       "      <td id=\"T_fd8b6_row1_col2\" class=\"data row1 col2\" >0</td>\n",
       "      <td id=\"T_fd8b6_row1_col3\" class=\"data row1 col3\" >No</td>\n",
       "      <td id=\"T_fd8b6_row1_col4\" class=\"data row1 col4\" >No</td>\n",
       "    </tr>\n",
       "    <tr>\n",
       "      <th id=\"T_fd8b6_level0_row2\" class=\"row_heading level0 row2\" >2</th>\n",
       "      <td id=\"T_fd8b6_row2_col0\" class=\"data row2 col0\" >3668-QPYBK</td>\n",
       "      <td id=\"T_fd8b6_row2_col1\" class=\"data row2 col1\" >Male</td>\n",
       "      <td id=\"T_fd8b6_row2_col2\" class=\"data row2 col2\" >0</td>\n",
       "      <td id=\"T_fd8b6_row2_col3\" class=\"data row2 col3\" >No</td>\n",
       "      <td id=\"T_fd8b6_row2_col4\" class=\"data row2 col4\" >No</td>\n",
       "    </tr>\n",
       "    <tr>\n",
       "      <th id=\"T_fd8b6_level0_row3\" class=\"row_heading level0 row3\" >3</th>\n",
       "      <td id=\"T_fd8b6_row3_col0\" class=\"data row3 col0\" >7795-CFOCW</td>\n",
       "      <td id=\"T_fd8b6_row3_col1\" class=\"data row3 col1\" >Male</td>\n",
       "      <td id=\"T_fd8b6_row3_col2\" class=\"data row3 col2\" >0</td>\n",
       "      <td id=\"T_fd8b6_row3_col3\" class=\"data row3 col3\" >No</td>\n",
       "      <td id=\"T_fd8b6_row3_col4\" class=\"data row3 col4\" >No</td>\n",
       "    </tr>\n",
       "    <tr>\n",
       "      <th id=\"T_fd8b6_level0_row4\" class=\"row_heading level0 row4\" >4</th>\n",
       "      <td id=\"T_fd8b6_row4_col0\" class=\"data row4 col0\" >9237-HQITU</td>\n",
       "      <td id=\"T_fd8b6_row4_col1\" class=\"data row4 col1\" >Female</td>\n",
       "      <td id=\"T_fd8b6_row4_col2\" class=\"data row4 col2\" >0</td>\n",
       "      <td id=\"T_fd8b6_row4_col3\" class=\"data row4 col3\" >No</td>\n",
       "      <td id=\"T_fd8b6_row4_col4\" class=\"data row4 col4\" >No</td>\n",
       "    </tr>\n",
       "    <tr>\n",
       "      <th id=\"T_fd8b6_level0_row5\" class=\"row_heading level0 row5\" >5</th>\n",
       "      <td id=\"T_fd8b6_row5_col0\" class=\"data row5 col0\" >9305-CDSKC</td>\n",
       "      <td id=\"T_fd8b6_row5_col1\" class=\"data row5 col1\" >Female</td>\n",
       "      <td id=\"T_fd8b6_row5_col2\" class=\"data row5 col2\" >0</td>\n",
       "      <td id=\"T_fd8b6_row5_col3\" class=\"data row5 col3\" >No</td>\n",
       "      <td id=\"T_fd8b6_row5_col4\" class=\"data row5 col4\" >No</td>\n",
       "    </tr>\n",
       "    <tr>\n",
       "      <th id=\"T_fd8b6_level0_row6\" class=\"row_heading level0 row6\" >6</th>\n",
       "      <td id=\"T_fd8b6_row6_col0\" class=\"data row6 col0\" >1452-KIOVK</td>\n",
       "      <td id=\"T_fd8b6_row6_col1\" class=\"data row6 col1\" >Male</td>\n",
       "      <td id=\"T_fd8b6_row6_col2\" class=\"data row6 col2\" >0</td>\n",
       "      <td id=\"T_fd8b6_row6_col3\" class=\"data row6 col3\" >No</td>\n",
       "      <td id=\"T_fd8b6_row6_col4\" class=\"data row6 col4\" >Yes</td>\n",
       "    </tr>\n",
       "    <tr>\n",
       "      <th id=\"T_fd8b6_level0_row7\" class=\"row_heading level0 row7\" >7</th>\n",
       "      <td id=\"T_fd8b6_row7_col0\" class=\"data row7 col0\" >6713-OKOMC</td>\n",
       "      <td id=\"T_fd8b6_row7_col1\" class=\"data row7 col1\" >Female</td>\n",
       "      <td id=\"T_fd8b6_row7_col2\" class=\"data row7 col2\" >0</td>\n",
       "      <td id=\"T_fd8b6_row7_col3\" class=\"data row7 col3\" >No</td>\n",
       "      <td id=\"T_fd8b6_row7_col4\" class=\"data row7 col4\" >No</td>\n",
       "    </tr>\n",
       "    <tr>\n",
       "      <th id=\"T_fd8b6_level0_row8\" class=\"row_heading level0 row8\" >8</th>\n",
       "      <td id=\"T_fd8b6_row8_col0\" class=\"data row8 col0\" >7892-POOKP</td>\n",
       "      <td id=\"T_fd8b6_row8_col1\" class=\"data row8 col1\" >Female</td>\n",
       "      <td id=\"T_fd8b6_row8_col2\" class=\"data row8 col2\" >0</td>\n",
       "      <td id=\"T_fd8b6_row8_col3\" class=\"data row8 col3\" >Yes</td>\n",
       "      <td id=\"T_fd8b6_row8_col4\" class=\"data row8 col4\" >No</td>\n",
       "    </tr>\n",
       "    <tr>\n",
       "      <th id=\"T_fd8b6_level0_row9\" class=\"row_heading level0 row9\" >9</th>\n",
       "      <td id=\"T_fd8b6_row9_col0\" class=\"data row9 col0\" >6388-TABGU</td>\n",
       "      <td id=\"T_fd8b6_row9_col1\" class=\"data row9 col1\" >Male</td>\n",
       "      <td id=\"T_fd8b6_row9_col2\" class=\"data row9 col2\" >0</td>\n",
       "      <td id=\"T_fd8b6_row9_col3\" class=\"data row9 col3\" >No</td>\n",
       "      <td id=\"T_fd8b6_row9_col4\" class=\"data row9 col4\" >Yes</td>\n",
       "    </tr>\n",
       "  </tbody>\n",
       "</table>\n",
       "   <style type=\"text/css\">\n",
       "</style>\n",
       "<table id=\"T_a6872_\" style='display:inline'>\n",
       "  <caption>Произвольные 10 строк</caption>\n",
       "  <thead>\n",
       "    <tr>\n",
       "      <th class=\"blank level0\" >&nbsp;</th>\n",
       "      <th class=\"col_heading level0 col0\" >customerID</th>\n",
       "      <th class=\"col_heading level0 col1\" >gender</th>\n",
       "      <th class=\"col_heading level0 col2\" >SeniorCitizen</th>\n",
       "      <th class=\"col_heading level0 col3\" >Partner</th>\n",
       "      <th class=\"col_heading level0 col4\" >Dependents</th>\n",
       "    </tr>\n",
       "  </thead>\n",
       "  <tbody>\n",
       "    <tr>\n",
       "      <th id=\"T_a6872_level0_row0\" class=\"row_heading level0 row0\" >185</th>\n",
       "      <td id=\"T_a6872_row0_col0\" class=\"data row0 col0\" >1024-GUALD</td>\n",
       "      <td id=\"T_a6872_row0_col1\" class=\"data row0 col1\" >Female</td>\n",
       "      <td id=\"T_a6872_row0_col2\" class=\"data row0 col2\" >0</td>\n",
       "      <td id=\"T_a6872_row0_col3\" class=\"data row0 col3\" >Yes</td>\n",
       "      <td id=\"T_a6872_row0_col4\" class=\"data row0 col4\" >No</td>\n",
       "    </tr>\n",
       "    <tr>\n",
       "      <th id=\"T_a6872_level0_row1\" class=\"row_heading level0 row1\" >2715</th>\n",
       "      <td id=\"T_a6872_row1_col0\" class=\"data row1 col0\" >0484-JPBRU</td>\n",
       "      <td id=\"T_a6872_row1_col1\" class=\"data row1 col1\" >Male</td>\n",
       "      <td id=\"T_a6872_row1_col2\" class=\"data row1 col2\" >0</td>\n",
       "      <td id=\"T_a6872_row1_col3\" class=\"data row1 col3\" >No</td>\n",
       "      <td id=\"T_a6872_row1_col4\" class=\"data row1 col4\" >No</td>\n",
       "    </tr>\n",
       "    <tr>\n",
       "      <th id=\"T_a6872_level0_row2\" class=\"row_heading level0 row2\" >3825</th>\n",
       "      <td id=\"T_a6872_row2_col0\" class=\"data row2 col0\" >3620-EHIMZ</td>\n",
       "      <td id=\"T_a6872_row2_col1\" class=\"data row2 col1\" >Female</td>\n",
       "      <td id=\"T_a6872_row2_col2\" class=\"data row2 col2\" >0</td>\n",
       "      <td id=\"T_a6872_row2_col3\" class=\"data row2 col3\" >Yes</td>\n",
       "      <td id=\"T_a6872_row2_col4\" class=\"data row2 col4\" >Yes</td>\n",
       "    </tr>\n",
       "    <tr>\n",
       "      <th id=\"T_a6872_level0_row3\" class=\"row_heading level0 row3\" >1807</th>\n",
       "      <td id=\"T_a6872_row3_col0\" class=\"data row3 col0\" >6910-HADCM</td>\n",
       "      <td id=\"T_a6872_row3_col1\" class=\"data row3 col1\" >Female</td>\n",
       "      <td id=\"T_a6872_row3_col2\" class=\"data row3 col2\" >0</td>\n",
       "      <td id=\"T_a6872_row3_col3\" class=\"data row3 col3\" >No</td>\n",
       "      <td id=\"T_a6872_row3_col4\" class=\"data row3 col4\" >No</td>\n",
       "    </tr>\n",
       "    <tr>\n",
       "      <th id=\"T_a6872_level0_row4\" class=\"row_heading level0 row4\" >132</th>\n",
       "      <td id=\"T_a6872_row4_col0\" class=\"data row4 col0\" >8587-XYZSF</td>\n",
       "      <td id=\"T_a6872_row4_col1\" class=\"data row4 col1\" >Male</td>\n",
       "      <td id=\"T_a6872_row4_col2\" class=\"data row4 col2\" >0</td>\n",
       "      <td id=\"T_a6872_row4_col3\" class=\"data row4 col3\" >No</td>\n",
       "      <td id=\"T_a6872_row4_col4\" class=\"data row4 col4\" >No</td>\n",
       "    </tr>\n",
       "    <tr>\n",
       "      <th id=\"T_a6872_level0_row5\" class=\"row_heading level0 row5\" >1263</th>\n",
       "      <td id=\"T_a6872_row5_col0\" class=\"data row5 col0\" >6818-WOBHJ</td>\n",
       "      <td id=\"T_a6872_row5_col1\" class=\"data row5 col1\" >Female</td>\n",
       "      <td id=\"T_a6872_row5_col2\" class=\"data row5 col2\" >1</td>\n",
       "      <td id=\"T_a6872_row5_col3\" class=\"data row5 col3\" >Yes</td>\n",
       "      <td id=\"T_a6872_row5_col4\" class=\"data row5 col4\" >No</td>\n",
       "    </tr>\n",
       "    <tr>\n",
       "      <th id=\"T_a6872_level0_row6\" class=\"row_heading level0 row6\" >3732</th>\n",
       "      <td id=\"T_a6872_row6_col0\" class=\"data row6 col0\" >3082-YVEKW</td>\n",
       "      <td id=\"T_a6872_row6_col1\" class=\"data row6 col1\" >Female</td>\n",
       "      <td id=\"T_a6872_row6_col2\" class=\"data row6 col2\" >0</td>\n",
       "      <td id=\"T_a6872_row6_col3\" class=\"data row6 col3\" >Yes</td>\n",
       "      <td id=\"T_a6872_row6_col4\" class=\"data row6 col4\" >Yes</td>\n",
       "    </tr>\n",
       "    <tr>\n",
       "      <th id=\"T_a6872_level0_row7\" class=\"row_heading level0 row7\" >1672</th>\n",
       "      <td id=\"T_a6872_row7_col0\" class=\"data row7 col0\" >4737-AQCPU</td>\n",
       "      <td id=\"T_a6872_row7_col1\" class=\"data row7 col1\" >Male</td>\n",
       "      <td id=\"T_a6872_row7_col2\" class=\"data row7 col2\" >0</td>\n",
       "      <td id=\"T_a6872_row7_col3\" class=\"data row7 col3\" >Yes</td>\n",
       "      <td id=\"T_a6872_row7_col4\" class=\"data row7 col4\" >Yes</td>\n",
       "    </tr>\n",
       "    <tr>\n",
       "      <th id=\"T_a6872_level0_row8\" class=\"row_heading level0 row8\" >811</th>\n",
       "      <td id=\"T_a6872_row8_col0\" class=\"data row8 col0\" >4853-RULSV</td>\n",
       "      <td id=\"T_a6872_row8_col1\" class=\"data row8 col1\" >Male</td>\n",
       "      <td id=\"T_a6872_row8_col2\" class=\"data row8 col2\" >0</td>\n",
       "      <td id=\"T_a6872_row8_col3\" class=\"data row8 col3\" >No</td>\n",
       "      <td id=\"T_a6872_row8_col4\" class=\"data row8 col4\" >No</td>\n",
       "    </tr>\n",
       "    <tr>\n",
       "      <th id=\"T_a6872_level0_row9\" class=\"row_heading level0 row9\" >2526</th>\n",
       "      <td id=\"T_a6872_row9_col0\" class=\"data row9 col0\" >5766-ZJYBB</td>\n",
       "      <td id=\"T_a6872_row9_col1\" class=\"data row9 col1\" >Male</td>\n",
       "      <td id=\"T_a6872_row9_col2\" class=\"data row9 col2\" >0</td>\n",
       "      <td id=\"T_a6872_row9_col3\" class=\"data row9 col3\" >No</td>\n",
       "      <td id=\"T_a6872_row9_col4\" class=\"data row9 col4\" >No</td>\n",
       "    </tr>\n",
       "  </tbody>\n",
       "</table>\n",
       "   <style type=\"text/css\">\n",
       "</style>\n",
       "<table id=\"T_b827f_\" style='display:inline'>\n",
       "  <caption>Последние 10 строк</caption>\n",
       "  <thead>\n",
       "    <tr>\n",
       "      <th class=\"blank level0\" >&nbsp;</th>\n",
       "      <th class=\"col_heading level0 col0\" >customerID</th>\n",
       "      <th class=\"col_heading level0 col1\" >gender</th>\n",
       "      <th class=\"col_heading level0 col2\" >SeniorCitizen</th>\n",
       "      <th class=\"col_heading level0 col3\" >Partner</th>\n",
       "      <th class=\"col_heading level0 col4\" >Dependents</th>\n",
       "    </tr>\n",
       "  </thead>\n",
       "  <tbody>\n",
       "    <tr>\n",
       "      <th id=\"T_b827f_level0_row0\" class=\"row_heading level0 row0\" >7033</th>\n",
       "      <td id=\"T_b827f_row0_col0\" class=\"data row0 col0\" >9767-FFLEM</td>\n",
       "      <td id=\"T_b827f_row0_col1\" class=\"data row0 col1\" >Male</td>\n",
       "      <td id=\"T_b827f_row0_col2\" class=\"data row0 col2\" >0</td>\n",
       "      <td id=\"T_b827f_row0_col3\" class=\"data row0 col3\" >No</td>\n",
       "      <td id=\"T_b827f_row0_col4\" class=\"data row0 col4\" >No</td>\n",
       "    </tr>\n",
       "    <tr>\n",
       "      <th id=\"T_b827f_level0_row1\" class=\"row_heading level0 row1\" >7034</th>\n",
       "      <td id=\"T_b827f_row1_col0\" class=\"data row1 col0\" >0639-TSIQW</td>\n",
       "      <td id=\"T_b827f_row1_col1\" class=\"data row1 col1\" >Female</td>\n",
       "      <td id=\"T_b827f_row1_col2\" class=\"data row1 col2\" >0</td>\n",
       "      <td id=\"T_b827f_row1_col3\" class=\"data row1 col3\" >No</td>\n",
       "      <td id=\"T_b827f_row1_col4\" class=\"data row1 col4\" >No</td>\n",
       "    </tr>\n",
       "    <tr>\n",
       "      <th id=\"T_b827f_level0_row2\" class=\"row_heading level0 row2\" >7035</th>\n",
       "      <td id=\"T_b827f_row2_col0\" class=\"data row2 col0\" >8456-QDAVC</td>\n",
       "      <td id=\"T_b827f_row2_col1\" class=\"data row2 col1\" >Male</td>\n",
       "      <td id=\"T_b827f_row2_col2\" class=\"data row2 col2\" >0</td>\n",
       "      <td id=\"T_b827f_row2_col3\" class=\"data row2 col3\" >No</td>\n",
       "      <td id=\"T_b827f_row2_col4\" class=\"data row2 col4\" >No</td>\n",
       "    </tr>\n",
       "    <tr>\n",
       "      <th id=\"T_b827f_level0_row3\" class=\"row_heading level0 row3\" >7036</th>\n",
       "      <td id=\"T_b827f_row3_col0\" class=\"data row3 col0\" >7750-EYXWZ</td>\n",
       "      <td id=\"T_b827f_row3_col1\" class=\"data row3 col1\" >Female</td>\n",
       "      <td id=\"T_b827f_row3_col2\" class=\"data row3 col2\" >0</td>\n",
       "      <td id=\"T_b827f_row3_col3\" class=\"data row3 col3\" >No</td>\n",
       "      <td id=\"T_b827f_row3_col4\" class=\"data row3 col4\" >No</td>\n",
       "    </tr>\n",
       "    <tr>\n",
       "      <th id=\"T_b827f_level0_row4\" class=\"row_heading level0 row4\" >7037</th>\n",
       "      <td id=\"T_b827f_row4_col0\" class=\"data row4 col0\" >2569-WGERO</td>\n",
       "      <td id=\"T_b827f_row4_col1\" class=\"data row4 col1\" >Female</td>\n",
       "      <td id=\"T_b827f_row4_col2\" class=\"data row4 col2\" >0</td>\n",
       "      <td id=\"T_b827f_row4_col3\" class=\"data row4 col3\" >No</td>\n",
       "      <td id=\"T_b827f_row4_col4\" class=\"data row4 col4\" >No</td>\n",
       "    </tr>\n",
       "    <tr>\n",
       "      <th id=\"T_b827f_level0_row5\" class=\"row_heading level0 row5\" >7038</th>\n",
       "      <td id=\"T_b827f_row5_col0\" class=\"data row5 col0\" >6840-RESVB</td>\n",
       "      <td id=\"T_b827f_row5_col1\" class=\"data row5 col1\" >Male</td>\n",
       "      <td id=\"T_b827f_row5_col2\" class=\"data row5 col2\" >0</td>\n",
       "      <td id=\"T_b827f_row5_col3\" class=\"data row5 col3\" >Yes</td>\n",
       "      <td id=\"T_b827f_row5_col4\" class=\"data row5 col4\" >Yes</td>\n",
       "    </tr>\n",
       "    <tr>\n",
       "      <th id=\"T_b827f_level0_row6\" class=\"row_heading level0 row6\" >7039</th>\n",
       "      <td id=\"T_b827f_row6_col0\" class=\"data row6 col0\" >2234-XADUH</td>\n",
       "      <td id=\"T_b827f_row6_col1\" class=\"data row6 col1\" >Female</td>\n",
       "      <td id=\"T_b827f_row6_col2\" class=\"data row6 col2\" >0</td>\n",
       "      <td id=\"T_b827f_row6_col3\" class=\"data row6 col3\" >Yes</td>\n",
       "      <td id=\"T_b827f_row6_col4\" class=\"data row6 col4\" >Yes</td>\n",
       "    </tr>\n",
       "    <tr>\n",
       "      <th id=\"T_b827f_level0_row7\" class=\"row_heading level0 row7\" >7040</th>\n",
       "      <td id=\"T_b827f_row7_col0\" class=\"data row7 col0\" >4801-JZAZL</td>\n",
       "      <td id=\"T_b827f_row7_col1\" class=\"data row7 col1\" >Female</td>\n",
       "      <td id=\"T_b827f_row7_col2\" class=\"data row7 col2\" >0</td>\n",
       "      <td id=\"T_b827f_row7_col3\" class=\"data row7 col3\" >Yes</td>\n",
       "      <td id=\"T_b827f_row7_col4\" class=\"data row7 col4\" >Yes</td>\n",
       "    </tr>\n",
       "    <tr>\n",
       "      <th id=\"T_b827f_level0_row8\" class=\"row_heading level0 row8\" >7041</th>\n",
       "      <td id=\"T_b827f_row8_col0\" class=\"data row8 col0\" >8361-LTMKD</td>\n",
       "      <td id=\"T_b827f_row8_col1\" class=\"data row8 col1\" >Male</td>\n",
       "      <td id=\"T_b827f_row8_col2\" class=\"data row8 col2\" >1</td>\n",
       "      <td id=\"T_b827f_row8_col3\" class=\"data row8 col3\" >Yes</td>\n",
       "      <td id=\"T_b827f_row8_col4\" class=\"data row8 col4\" >No</td>\n",
       "    </tr>\n",
       "    <tr>\n",
       "      <th id=\"T_b827f_level0_row9\" class=\"row_heading level0 row9\" >7042</th>\n",
       "      <td id=\"T_b827f_row9_col0\" class=\"data row9 col0\" >3186-AJIEK</td>\n",
       "      <td id=\"T_b827f_row9_col1\" class=\"data row9 col1\" >Male</td>\n",
       "      <td id=\"T_b827f_row9_col2\" class=\"data row9 col2\" >0</td>\n",
       "      <td id=\"T_b827f_row9_col3\" class=\"data row9 col3\" >No</td>\n",
       "      <td id=\"T_b827f_row9_col4\" class=\"data row9 col4\" >No</td>\n",
       "    </tr>\n",
       "  </tbody>\n",
       "</table>\n",
       "   <style type=\"text/css\">\n",
       "</style>\n",
       "<table id=\"T_69492_\" style='display:inline'>\n",
       "  <caption>Статистическая информация</caption>\n",
       "  <thead>\n",
       "    <tr>\n",
       "      <th class=\"blank level0\" >&nbsp;</th>\n",
       "      <th class=\"col_heading level0 col0\" >SeniorCitizen</th>\n",
       "    </tr>\n",
       "  </thead>\n",
       "  <tbody>\n",
       "    <tr>\n",
       "      <th id=\"T_69492_level0_row0\" class=\"row_heading level0 row0\" >count</th>\n",
       "      <td id=\"T_69492_row0_col0\" class=\"data row0 col0\" >7043.000000</td>\n",
       "    </tr>\n",
       "    <tr>\n",
       "      <th id=\"T_69492_level0_row1\" class=\"row_heading level0 row1\" >mean</th>\n",
       "      <td id=\"T_69492_row1_col0\" class=\"data row1 col0\" >0.162147</td>\n",
       "    </tr>\n",
       "    <tr>\n",
       "      <th id=\"T_69492_level0_row2\" class=\"row_heading level0 row2\" >std</th>\n",
       "      <td id=\"T_69492_row2_col0\" class=\"data row2 col0\" >0.368612</td>\n",
       "    </tr>\n",
       "    <tr>\n",
       "      <th id=\"T_69492_level0_row3\" class=\"row_heading level0 row3\" >min</th>\n",
       "      <td id=\"T_69492_row3_col0\" class=\"data row3 col0\" >0.000000</td>\n",
       "    </tr>\n",
       "    <tr>\n",
       "      <th id=\"T_69492_level0_row4\" class=\"row_heading level0 row4\" >25%</th>\n",
       "      <td id=\"T_69492_row4_col0\" class=\"data row4 col0\" >0.000000</td>\n",
       "    </tr>\n",
       "    <tr>\n",
       "      <th id=\"T_69492_level0_row5\" class=\"row_heading level0 row5\" >50%</th>\n",
       "      <td id=\"T_69492_row5_col0\" class=\"data row5 col0\" >0.000000</td>\n",
       "    </tr>\n",
       "    <tr>\n",
       "      <th id=\"T_69492_level0_row6\" class=\"row_heading level0 row6\" >75%</th>\n",
       "      <td id=\"T_69492_row6_col0\" class=\"data row6 col0\" >0.000000</td>\n",
       "    </tr>\n",
       "    <tr>\n",
       "      <th id=\"T_69492_level0_row7\" class=\"row_heading level0 row7\" >max</th>\n",
       "      <td id=\"T_69492_row7_col0\" class=\"data row7 col0\" >1.000000</td>\n",
       "    </tr>\n",
       "  </tbody>\n",
       "</table>\n",
       "   <style type=\"text/css\">\n",
       "</style>\n",
       "<table id=\"T_5cf66_\" style='display:inline'>\n",
       "  <caption>Категориальные признаки</caption>\n",
       "  <thead>\n",
       "    <tr>\n",
       "      <th class=\"blank level0\" >&nbsp;</th>\n",
       "      <th class=\"col_heading level0 col0\" >customerID</th>\n",
       "      <th class=\"col_heading level0 col1\" >gender</th>\n",
       "      <th class=\"col_heading level0 col2\" >Partner</th>\n",
       "      <th class=\"col_heading level0 col3\" >Dependents</th>\n",
       "    </tr>\n",
       "  </thead>\n",
       "  <tbody>\n",
       "    <tr>\n",
       "      <th id=\"T_5cf66_level0_row0\" class=\"row_heading level0 row0\" >count</th>\n",
       "      <td id=\"T_5cf66_row0_col0\" class=\"data row0 col0\" >7043</td>\n",
       "      <td id=\"T_5cf66_row0_col1\" class=\"data row0 col1\" >7043</td>\n",
       "      <td id=\"T_5cf66_row0_col2\" class=\"data row0 col2\" >7043</td>\n",
       "      <td id=\"T_5cf66_row0_col3\" class=\"data row0 col3\" >7043</td>\n",
       "    </tr>\n",
       "    <tr>\n",
       "      <th id=\"T_5cf66_level0_row1\" class=\"row_heading level0 row1\" >unique</th>\n",
       "      <td id=\"T_5cf66_row1_col0\" class=\"data row1 col0\" >7043</td>\n",
       "      <td id=\"T_5cf66_row1_col1\" class=\"data row1 col1\" >2</td>\n",
       "      <td id=\"T_5cf66_row1_col2\" class=\"data row1 col2\" >2</td>\n",
       "      <td id=\"T_5cf66_row1_col3\" class=\"data row1 col3\" >2</td>\n",
       "    </tr>\n",
       "    <tr>\n",
       "      <th id=\"T_5cf66_level0_row2\" class=\"row_heading level0 row2\" >top</th>\n",
       "      <td id=\"T_5cf66_row2_col0\" class=\"data row2 col0\" >7590-VHVEG</td>\n",
       "      <td id=\"T_5cf66_row2_col1\" class=\"data row2 col1\" >Male</td>\n",
       "      <td id=\"T_5cf66_row2_col2\" class=\"data row2 col2\" >No</td>\n",
       "      <td id=\"T_5cf66_row2_col3\" class=\"data row2 col3\" >No</td>\n",
       "    </tr>\n",
       "    <tr>\n",
       "      <th id=\"T_5cf66_level0_row3\" class=\"row_heading level0 row3\" >freq</th>\n",
       "      <td id=\"T_5cf66_row3_col0\" class=\"data row3 col0\" >1</td>\n",
       "      <td id=\"T_5cf66_row3_col1\" class=\"data row3 col1\" >3555</td>\n",
       "      <td id=\"T_5cf66_row3_col2\" class=\"data row3 col2\" >3641</td>\n",
       "      <td id=\"T_5cf66_row3_col3\" class=\"data row3 col3\" >4933</td>\n",
       "    </tr>\n",
       "  </tbody>\n",
       "</table>\n",
       "   "
      ],
      "text/plain": [
       "<IPython.core.display.HTML object>"
      ]
     },
     "metadata": {},
     "output_type": "display_data"
    },
    {
     "name": "stdout",
     "output_type": "stream",
     "text": [
      "Пропущенные значения\n"
     ]
    },
    {
     "data": {
      "text/html": [
       "<div>\n",
       "<style scoped>\n",
       "    .dataframe tbody tr th:only-of-type {\n",
       "        vertical-align: middle;\n",
       "    }\n",
       "\n",
       "    .dataframe tbody tr th {\n",
       "        vertical-align: top;\n",
       "    }\n",
       "\n",
       "    .dataframe thead th {\n",
       "        text-align: right;\n",
       "    }\n",
       "</style>\n",
       "<table border=\"1\" class=\"dataframe\">\n",
       "  <thead>\n",
       "    <tr style=\"text-align: right;\">\n",
       "      <th></th>\n",
       "      <th>Доля пропусков</th>\n",
       "      <th>Количество</th>\n",
       "    </tr>\n",
       "  </thead>\n",
       "  <tbody>\n",
       "    <tr>\n",
       "      <th>customerID</th>\n",
       "      <td>0.0</td>\n",
       "      <td>0</td>\n",
       "    </tr>\n",
       "    <tr>\n",
       "      <th>gender</th>\n",
       "      <td>0.0</td>\n",
       "      <td>0</td>\n",
       "    </tr>\n",
       "    <tr>\n",
       "      <th>SeniorCitizen</th>\n",
       "      <td>0.0</td>\n",
       "      <td>0</td>\n",
       "    </tr>\n",
       "    <tr>\n",
       "      <th>Partner</th>\n",
       "      <td>0.0</td>\n",
       "      <td>0</td>\n",
       "    </tr>\n",
       "    <tr>\n",
       "      <th>Dependents</th>\n",
       "      <td>0.0</td>\n",
       "      <td>0</td>\n",
       "    </tr>\n",
       "  </tbody>\n",
       "</table>\n",
       "</div>"
      ],
      "text/plain": [
       "               Доля пропусков  Количество\n",
       "customerID                0.0           0\n",
       "gender                    0.0           0\n",
       "SeniorCitizen             0.0           0\n",
       "Partner                   0.0           0\n",
       "Dependents                0.0           0"
      ]
     },
     "metadata": {},
     "output_type": "display_data"
    },
    {
     "name": "stdout",
     "output_type": "stream",
     "text": [
      "Строк: 7043 \n",
      "Дубликатов: 0\n",
      "\n",
      "\u001b[1mТаблица phone \u001b[0m\n",
      "Общая информация, info() \n",
      "\n",
      "<class 'pandas.core.frame.DataFrame'>\n",
      "RangeIndex: 6361 entries, 0 to 6360\n",
      "Data columns (total 2 columns):\n",
      " #   Column         Non-Null Count  Dtype \n",
      "---  ------         --------------  ----- \n",
      " 0   customerID     6361 non-null   object\n",
      " 1   MultipleLines  6361 non-null   object\n",
      "dtypes: object(2)\n",
      "memory usage: 99.5+ KB\n"
     ]
    },
    {
     "data": {
      "text/plain": [
       "None"
      ]
     },
     "metadata": {},
     "output_type": "display_data"
    },
    {
     "name": "stdout",
     "output_type": "stream",
     "text": [
      "\u001b[1m Смотрим на исходные данные \u001b[0m\n"
     ]
    },
    {
     "data": {
      "text/html": [
       "<style type=\"text/css\">\n",
       "</style>\n",
       "<table id=\"T_d1abd_\" style='display:inline'>\n",
       "  <caption>Первые 10 строк</caption>\n",
       "  <thead>\n",
       "    <tr>\n",
       "      <th class=\"blank level0\" >&nbsp;</th>\n",
       "      <th class=\"col_heading level0 col0\" >customerID</th>\n",
       "      <th class=\"col_heading level0 col1\" >MultipleLines</th>\n",
       "    </tr>\n",
       "  </thead>\n",
       "  <tbody>\n",
       "    <tr>\n",
       "      <th id=\"T_d1abd_level0_row0\" class=\"row_heading level0 row0\" >0</th>\n",
       "      <td id=\"T_d1abd_row0_col0\" class=\"data row0 col0\" >5575-GNVDE</td>\n",
       "      <td id=\"T_d1abd_row0_col1\" class=\"data row0 col1\" >No</td>\n",
       "    </tr>\n",
       "    <tr>\n",
       "      <th id=\"T_d1abd_level0_row1\" class=\"row_heading level0 row1\" >1</th>\n",
       "      <td id=\"T_d1abd_row1_col0\" class=\"data row1 col0\" >3668-QPYBK</td>\n",
       "      <td id=\"T_d1abd_row1_col1\" class=\"data row1 col1\" >No</td>\n",
       "    </tr>\n",
       "    <tr>\n",
       "      <th id=\"T_d1abd_level0_row2\" class=\"row_heading level0 row2\" >2</th>\n",
       "      <td id=\"T_d1abd_row2_col0\" class=\"data row2 col0\" >9237-HQITU</td>\n",
       "      <td id=\"T_d1abd_row2_col1\" class=\"data row2 col1\" >No</td>\n",
       "    </tr>\n",
       "    <tr>\n",
       "      <th id=\"T_d1abd_level0_row3\" class=\"row_heading level0 row3\" >3</th>\n",
       "      <td id=\"T_d1abd_row3_col0\" class=\"data row3 col0\" >9305-CDSKC</td>\n",
       "      <td id=\"T_d1abd_row3_col1\" class=\"data row3 col1\" >Yes</td>\n",
       "    </tr>\n",
       "    <tr>\n",
       "      <th id=\"T_d1abd_level0_row4\" class=\"row_heading level0 row4\" >4</th>\n",
       "      <td id=\"T_d1abd_row4_col0\" class=\"data row4 col0\" >1452-KIOVK</td>\n",
       "      <td id=\"T_d1abd_row4_col1\" class=\"data row4 col1\" >Yes</td>\n",
       "    </tr>\n",
       "    <tr>\n",
       "      <th id=\"T_d1abd_level0_row5\" class=\"row_heading level0 row5\" >5</th>\n",
       "      <td id=\"T_d1abd_row5_col0\" class=\"data row5 col0\" >7892-POOKP</td>\n",
       "      <td id=\"T_d1abd_row5_col1\" class=\"data row5 col1\" >Yes</td>\n",
       "    </tr>\n",
       "    <tr>\n",
       "      <th id=\"T_d1abd_level0_row6\" class=\"row_heading level0 row6\" >6</th>\n",
       "      <td id=\"T_d1abd_row6_col0\" class=\"data row6 col0\" >6388-TABGU</td>\n",
       "      <td id=\"T_d1abd_row6_col1\" class=\"data row6 col1\" >No</td>\n",
       "    </tr>\n",
       "    <tr>\n",
       "      <th id=\"T_d1abd_level0_row7\" class=\"row_heading level0 row7\" >7</th>\n",
       "      <td id=\"T_d1abd_row7_col0\" class=\"data row7 col0\" >9763-GRSKD</td>\n",
       "      <td id=\"T_d1abd_row7_col1\" class=\"data row7 col1\" >No</td>\n",
       "    </tr>\n",
       "    <tr>\n",
       "      <th id=\"T_d1abd_level0_row8\" class=\"row_heading level0 row8\" >8</th>\n",
       "      <td id=\"T_d1abd_row8_col0\" class=\"data row8 col0\" >7469-LKBCI</td>\n",
       "      <td id=\"T_d1abd_row8_col1\" class=\"data row8 col1\" >No</td>\n",
       "    </tr>\n",
       "    <tr>\n",
       "      <th id=\"T_d1abd_level0_row9\" class=\"row_heading level0 row9\" >9</th>\n",
       "      <td id=\"T_d1abd_row9_col0\" class=\"data row9 col0\" >8091-TTVAX</td>\n",
       "      <td id=\"T_d1abd_row9_col1\" class=\"data row9 col1\" >Yes</td>\n",
       "    </tr>\n",
       "  </tbody>\n",
       "</table>\n",
       "   <style type=\"text/css\">\n",
       "</style>\n",
       "<table id=\"T_af060_\" style='display:inline'>\n",
       "  <caption>Произвольные 10 строк</caption>\n",
       "  <thead>\n",
       "    <tr>\n",
       "      <th class=\"blank level0\" >&nbsp;</th>\n",
       "      <th class=\"col_heading level0 col0\" >customerID</th>\n",
       "      <th class=\"col_heading level0 col1\" >MultipleLines</th>\n",
       "    </tr>\n",
       "  </thead>\n",
       "  <tbody>\n",
       "    <tr>\n",
       "      <th id=\"T_af060_level0_row0\" class=\"row_heading level0 row0\" >4743</th>\n",
       "      <td id=\"T_af060_row0_col0\" class=\"data row0 col0\" >5887-IKKYO</td>\n",
       "      <td id=\"T_af060_row0_col1\" class=\"data row0 col1\" >Yes</td>\n",
       "    </tr>\n",
       "    <tr>\n",
       "      <th id=\"T_af060_level0_row1\" class=\"row_heading level0 row1\" >4825</th>\n",
       "      <td id=\"T_af060_row1_col0\" class=\"data row1 col0\" >7718-UPSKJ</td>\n",
       "      <td id=\"T_af060_row1_col1\" class=\"data row1 col1\" >No</td>\n",
       "    </tr>\n",
       "    <tr>\n",
       "      <th id=\"T_af060_level0_row2\" class=\"row_heading level0 row2\" >472</th>\n",
       "      <td id=\"T_af060_row2_col0\" class=\"data row2 col0\" >3571-DPYUH</td>\n",
       "      <td id=\"T_af060_row2_col1\" class=\"data row2 col1\" >Yes</td>\n",
       "    </tr>\n",
       "    <tr>\n",
       "      <th id=\"T_af060_level0_row3\" class=\"row_heading level0 row3\" >2722</th>\n",
       "      <td id=\"T_af060_row3_col0\" class=\"data row3 col0\" >3769-MHZNV</td>\n",
       "      <td id=\"T_af060_row3_col1\" class=\"data row3 col1\" >No</td>\n",
       "    </tr>\n",
       "    <tr>\n",
       "      <th id=\"T_af060_level0_row4\" class=\"row_heading level0 row4\" >932</th>\n",
       "      <td id=\"T_af060_row4_col0\" class=\"data row4 col0\" >6732-FZUGP</td>\n",
       "      <td id=\"T_af060_row4_col1\" class=\"data row4 col1\" >Yes</td>\n",
       "    </tr>\n",
       "    <tr>\n",
       "      <th id=\"T_af060_level0_row5\" class=\"row_heading level0 row5\" >4414</th>\n",
       "      <td id=\"T_af060_row5_col0\" class=\"data row5 col0\" >0868-VJRDR</td>\n",
       "      <td id=\"T_af060_row5_col1\" class=\"data row5 col1\" >No</td>\n",
       "    </tr>\n",
       "    <tr>\n",
       "      <th id=\"T_af060_level0_row6\" class=\"row_heading level0 row6\" >3011</th>\n",
       "      <td id=\"T_af060_row6_col0\" class=\"data row6 col0\" >6685-GBWJZ</td>\n",
       "      <td id=\"T_af060_row6_col1\" class=\"data row6 col1\" >No</td>\n",
       "    </tr>\n",
       "    <tr>\n",
       "      <th id=\"T_af060_level0_row7\" class=\"row_heading level0 row7\" >5811</th>\n",
       "      <td id=\"T_af060_row7_col0\" class=\"data row7 col0\" >2486-WYVVE</td>\n",
       "      <td id=\"T_af060_row7_col1\" class=\"data row7 col1\" >Yes</td>\n",
       "    </tr>\n",
       "    <tr>\n",
       "      <th id=\"T_af060_level0_row8\" class=\"row_heading level0 row8\" >3784</th>\n",
       "      <td id=\"T_af060_row8_col0\" class=\"data row8 col0\" >9025-ZRPVR</td>\n",
       "      <td id=\"T_af060_row8_col1\" class=\"data row8 col1\" >No</td>\n",
       "    </tr>\n",
       "    <tr>\n",
       "      <th id=\"T_af060_level0_row9\" class=\"row_heading level0 row9\" >4700</th>\n",
       "      <td id=\"T_af060_row9_col0\" class=\"data row9 col0\" >5727-MYATE</td>\n",
       "      <td id=\"T_af060_row9_col1\" class=\"data row9 col1\" >Yes</td>\n",
       "    </tr>\n",
       "  </tbody>\n",
       "</table>\n",
       "   <style type=\"text/css\">\n",
       "</style>\n",
       "<table id=\"T_8d299_\" style='display:inline'>\n",
       "  <caption>Последние 10 строк</caption>\n",
       "  <thead>\n",
       "    <tr>\n",
       "      <th class=\"blank level0\" >&nbsp;</th>\n",
       "      <th class=\"col_heading level0 col0\" >customerID</th>\n",
       "      <th class=\"col_heading level0 col1\" >MultipleLines</th>\n",
       "    </tr>\n",
       "  </thead>\n",
       "  <tbody>\n",
       "    <tr>\n",
       "      <th id=\"T_8d299_level0_row0\" class=\"row_heading level0 row0\" >6351</th>\n",
       "      <td id=\"T_8d299_row0_col0\" class=\"data row0 col0\" >3605-JISKB</td>\n",
       "      <td id=\"T_8d299_row0_col1\" class=\"data row0 col1\" >Yes</td>\n",
       "    </tr>\n",
       "    <tr>\n",
       "      <th id=\"T_8d299_level0_row1\" class=\"row_heading level0 row1\" >6352</th>\n",
       "      <td id=\"T_8d299_row1_col0\" class=\"data row1 col0\" >6894-LFHLY</td>\n",
       "      <td id=\"T_8d299_row1_col1\" class=\"data row1 col1\" >Yes</td>\n",
       "    </tr>\n",
       "    <tr>\n",
       "      <th id=\"T_8d299_level0_row2\" class=\"row_heading level0 row2\" >6353</th>\n",
       "      <td id=\"T_8d299_row2_col0\" class=\"data row2 col0\" >9767-FFLEM</td>\n",
       "      <td id=\"T_8d299_row2_col1\" class=\"data row2 col1\" >No</td>\n",
       "    </tr>\n",
       "    <tr>\n",
       "      <th id=\"T_8d299_level0_row3\" class=\"row_heading level0 row3\" >6354</th>\n",
       "      <td id=\"T_8d299_row3_col0\" class=\"data row3 col0\" >0639-TSIQW</td>\n",
       "      <td id=\"T_8d299_row3_col1\" class=\"data row3 col1\" >Yes</td>\n",
       "    </tr>\n",
       "    <tr>\n",
       "      <th id=\"T_8d299_level0_row4\" class=\"row_heading level0 row4\" >6355</th>\n",
       "      <td id=\"T_8d299_row4_col0\" class=\"data row4 col0\" >8456-QDAVC</td>\n",
       "      <td id=\"T_8d299_row4_col1\" class=\"data row4 col1\" >No</td>\n",
       "    </tr>\n",
       "    <tr>\n",
       "      <th id=\"T_8d299_level0_row5\" class=\"row_heading level0 row5\" >6356</th>\n",
       "      <td id=\"T_8d299_row5_col0\" class=\"data row5 col0\" >2569-WGERO</td>\n",
       "      <td id=\"T_8d299_row5_col1\" class=\"data row5 col1\" >No</td>\n",
       "    </tr>\n",
       "    <tr>\n",
       "      <th id=\"T_8d299_level0_row6\" class=\"row_heading level0 row6\" >6357</th>\n",
       "      <td id=\"T_8d299_row6_col0\" class=\"data row6 col0\" >6840-RESVB</td>\n",
       "      <td id=\"T_8d299_row6_col1\" class=\"data row6 col1\" >Yes</td>\n",
       "    </tr>\n",
       "    <tr>\n",
       "      <th id=\"T_8d299_level0_row7\" class=\"row_heading level0 row7\" >6358</th>\n",
       "      <td id=\"T_8d299_row7_col0\" class=\"data row7 col0\" >2234-XADUH</td>\n",
       "      <td id=\"T_8d299_row7_col1\" class=\"data row7 col1\" >Yes</td>\n",
       "    </tr>\n",
       "    <tr>\n",
       "      <th id=\"T_8d299_level0_row8\" class=\"row_heading level0 row8\" >6359</th>\n",
       "      <td id=\"T_8d299_row8_col0\" class=\"data row8 col0\" >8361-LTMKD</td>\n",
       "      <td id=\"T_8d299_row8_col1\" class=\"data row8 col1\" >Yes</td>\n",
       "    </tr>\n",
       "    <tr>\n",
       "      <th id=\"T_8d299_level0_row9\" class=\"row_heading level0 row9\" >6360</th>\n",
       "      <td id=\"T_8d299_row9_col0\" class=\"data row9 col0\" >3186-AJIEK</td>\n",
       "      <td id=\"T_8d299_row9_col1\" class=\"data row9 col1\" >No</td>\n",
       "    </tr>\n",
       "  </tbody>\n",
       "</table>\n",
       "   <style type=\"text/css\">\n",
       "</style>\n",
       "<table id=\"T_e1e88_\" style='display:inline'>\n",
       "  <caption>Статистическая информация</caption>\n",
       "  <thead>\n",
       "    <tr>\n",
       "      <th class=\"blank level0\" >&nbsp;</th>\n",
       "      <th class=\"col_heading level0 col0\" >customerID</th>\n",
       "      <th class=\"col_heading level0 col1\" >MultipleLines</th>\n",
       "    </tr>\n",
       "  </thead>\n",
       "  <tbody>\n",
       "    <tr>\n",
       "      <th id=\"T_e1e88_level0_row0\" class=\"row_heading level0 row0\" >count</th>\n",
       "      <td id=\"T_e1e88_row0_col0\" class=\"data row0 col0\" >6361</td>\n",
       "      <td id=\"T_e1e88_row0_col1\" class=\"data row0 col1\" >6361</td>\n",
       "    </tr>\n",
       "    <tr>\n",
       "      <th id=\"T_e1e88_level0_row1\" class=\"row_heading level0 row1\" >unique</th>\n",
       "      <td id=\"T_e1e88_row1_col0\" class=\"data row1 col0\" >6361</td>\n",
       "      <td id=\"T_e1e88_row1_col1\" class=\"data row1 col1\" >2</td>\n",
       "    </tr>\n",
       "    <tr>\n",
       "      <th id=\"T_e1e88_level0_row2\" class=\"row_heading level0 row2\" >top</th>\n",
       "      <td id=\"T_e1e88_row2_col0\" class=\"data row2 col0\" >5575-GNVDE</td>\n",
       "      <td id=\"T_e1e88_row2_col1\" class=\"data row2 col1\" >No</td>\n",
       "    </tr>\n",
       "    <tr>\n",
       "      <th id=\"T_e1e88_level0_row3\" class=\"row_heading level0 row3\" >freq</th>\n",
       "      <td id=\"T_e1e88_row3_col0\" class=\"data row3 col0\" >1</td>\n",
       "      <td id=\"T_e1e88_row3_col1\" class=\"data row3 col1\" >3390</td>\n",
       "    </tr>\n",
       "  </tbody>\n",
       "</table>\n",
       "   <style type=\"text/css\">\n",
       "</style>\n",
       "<table id=\"T_4682b_\" style='display:inline'>\n",
       "  <caption>Категориальные признаки</caption>\n",
       "  <thead>\n",
       "    <tr>\n",
       "      <th class=\"blank level0\" >&nbsp;</th>\n",
       "      <th class=\"col_heading level0 col0\" >customerID</th>\n",
       "      <th class=\"col_heading level0 col1\" >MultipleLines</th>\n",
       "    </tr>\n",
       "  </thead>\n",
       "  <tbody>\n",
       "    <tr>\n",
       "      <th id=\"T_4682b_level0_row0\" class=\"row_heading level0 row0\" >count</th>\n",
       "      <td id=\"T_4682b_row0_col0\" class=\"data row0 col0\" >6361</td>\n",
       "      <td id=\"T_4682b_row0_col1\" class=\"data row0 col1\" >6361</td>\n",
       "    </tr>\n",
       "    <tr>\n",
       "      <th id=\"T_4682b_level0_row1\" class=\"row_heading level0 row1\" >unique</th>\n",
       "      <td id=\"T_4682b_row1_col0\" class=\"data row1 col0\" >6361</td>\n",
       "      <td id=\"T_4682b_row1_col1\" class=\"data row1 col1\" >2</td>\n",
       "    </tr>\n",
       "    <tr>\n",
       "      <th id=\"T_4682b_level0_row2\" class=\"row_heading level0 row2\" >top</th>\n",
       "      <td id=\"T_4682b_row2_col0\" class=\"data row2 col0\" >5575-GNVDE</td>\n",
       "      <td id=\"T_4682b_row2_col1\" class=\"data row2 col1\" >No</td>\n",
       "    </tr>\n",
       "    <tr>\n",
       "      <th id=\"T_4682b_level0_row3\" class=\"row_heading level0 row3\" >freq</th>\n",
       "      <td id=\"T_4682b_row3_col0\" class=\"data row3 col0\" >1</td>\n",
       "      <td id=\"T_4682b_row3_col1\" class=\"data row3 col1\" >3390</td>\n",
       "    </tr>\n",
       "  </tbody>\n",
       "</table>\n",
       "   "
      ],
      "text/plain": [
       "<IPython.core.display.HTML object>"
      ]
     },
     "metadata": {},
     "output_type": "display_data"
    },
    {
     "name": "stdout",
     "output_type": "stream",
     "text": [
      "Пропущенные значения\n"
     ]
    },
    {
     "data": {
      "text/html": [
       "<div>\n",
       "<style scoped>\n",
       "    .dataframe tbody tr th:only-of-type {\n",
       "        vertical-align: middle;\n",
       "    }\n",
       "\n",
       "    .dataframe tbody tr th {\n",
       "        vertical-align: top;\n",
       "    }\n",
       "\n",
       "    .dataframe thead th {\n",
       "        text-align: right;\n",
       "    }\n",
       "</style>\n",
       "<table border=\"1\" class=\"dataframe\">\n",
       "  <thead>\n",
       "    <tr style=\"text-align: right;\">\n",
       "      <th></th>\n",
       "      <th>Доля пропусков</th>\n",
       "      <th>Количество</th>\n",
       "    </tr>\n",
       "  </thead>\n",
       "  <tbody>\n",
       "    <tr>\n",
       "      <th>customerID</th>\n",
       "      <td>0.0</td>\n",
       "      <td>0</td>\n",
       "    </tr>\n",
       "    <tr>\n",
       "      <th>MultipleLines</th>\n",
       "      <td>0.0</td>\n",
       "      <td>0</td>\n",
       "    </tr>\n",
       "  </tbody>\n",
       "</table>\n",
       "</div>"
      ],
      "text/plain": [
       "               Доля пропусков  Количество\n",
       "customerID                0.0           0\n",
       "MultipleLines             0.0           0"
      ]
     },
     "metadata": {},
     "output_type": "display_data"
    },
    {
     "name": "stdout",
     "output_type": "stream",
     "text": [
      "Строк: 6361 \n",
      "Дубликатов: 0\n",
      "\n",
      "\u001b[1mРаспределение целевого признака в исходных данных:\u001b[0m\n",
      "Осталось клиентов - 5174 \n",
      "Ушло клиентов - 1869\n"
     ]
    }
   ],
   "source": [
    "data = [contract, internet, personal, phone]\n",
    "for df in data:\n",
    "    print(\"\\033[1m\" \"Таблица\", df.name, \"\\033[0m\")\n",
    "    print(\"Общая информация, info()\", '\\n')\n",
    "    display(df.info())\n",
    "    display_tables(\n",
    "        [df.head(10), df.sample(10, random_state=42), df.tail(10), df.describe(), df.describe(include='object')],\n",
    "        ['Первые 10 строк', 'Произвольные 10 строк', 'Последние 10 строк', 'Статистическая информация',\n",
    "         'Категориальные признаки'],\n",
    "        'Смотрим на исходные данные')\n",
    "    print(\"Пропущенные значения\")\n",
    "    display(pd.concat([df.isnull().mean().to_frame(name='Доля пропусков'),\n",
    "                       df.isnull().sum().to_frame(name='Количество')], axis=1).sort_values(by='Количество',\n",
    "                                                                                           ascending=False))\n",
    "    print(\"Строк:\", df.shape[0], '\\n' \"Дубликатов:\", df.duplicated().sum())\n",
    "    print()\n",
    "print(\"\\033[1m\" \"Распределение целевого признака в исходных данных:\" \"\\033[0m\")\n",
    "print(\"Осталось клиентов -\", len(contract[contract['EndDate'] == 'No']), \"\\nУшло клиентов -\",\n",
    "      len(contract[contract['EndDate'] != 'No']))"
   ]
  },
  {
   "cell_type": "markdown",
   "metadata": {},
   "source": [
    "***Выводы:*** \n",
    "- Данные без пропусков и дубликатов.\n",
    "- Уникальность customerID соблюдена.\n",
    "- Есть проблемы с типами данных и разным форматом записи бинарных признаков.\n",
    "- 77 дат подключений на 4 даты ухода, что кажется странным, надо посмотреть на них подробнее. \n",
    "- Из 7043 клиентов с нами осталось 5174, а 1869(~27%) ушли.\n",
    "- Слишком гибкая тарифная политика: очень много уникальных значений ежемесячной платы.\n",
    "- Нет информации о себестоимости услуг, убытках от потери клиентов и затратах на удержание, а в рамках текущей задачи это полезная информация."
   ]
  },
  {
   "cell_type": "markdown",
   "metadata": {},
   "source": [
    "## План работ\n",
    "\n",
    "***Предобработка:***\n",
    "   - Заменить типы данных\n",
    "   - Добавить признак LT\n",
    "   - Объединить таблицы по customerID\n",
    "   - Обработать пропуски  \n",
    "    \n",
    "    \n",
    "***Анализ данных:***\n",
    "   - Исследовать данные и построить графики  \n",
    "    \n",
    "    \n",
    "***Подготовка к обучению:***\n",
    "   - Подумать, все ли столбцы нужны для обучения\n",
    "   - Разбить на выборки\n",
    "   - Построить preprocessor с помощью ColumnTransformer \n",
    "    \n",
    "    \n",
    "***Моделирование:***\n",
    "   - Создать список моделей и параметров\n",
    "   - Обучить модели и подобрать параметры с помощью GridSearchCV\n",
    "   - Выбрать модели с лучшими метриками, протестировать на тестовой выборке, построить для них графики ROC-AUC и матрицы ошибок  \n",
    "    \n",
    "    \n",
    "***Сделать вывод и дать рекомендации***"
   ]
  },
  {
   "cell_type": "markdown",
   "metadata": {},
   "source": [
    "## Предобработка"
   ]
  },
  {
   "cell_type": "markdown",
   "metadata": {},
   "source": [
    "### Таблица contract"
   ]
  },
  {
   "cell_type": "markdown",
   "metadata": {},
   "source": [
    "Посмотрим на даты ухода клиентов.  "
   ]
  },
  {
   "cell_type": "code",
   "execution_count": 8,
   "metadata": {
    "scrolled": true
   },
   "outputs": [
    {
     "data": {
      "image/png": "[encoded data removed]",
      "text/plain": [
       "<Figure size 864x288 with 1 Axes>"
      ]
     },
     "metadata": {},
     "output_type": "display_data"
    }
   ],
   "source": [
    "fig, ax = plt.subplots(figsize=(12, 4))\n",
    "ax.set_title('Когда и сколько клиентов ушло', fontsize=15)\n",
    "sns.countplot(x='EndDate', data=contract[contract['EndDate'] != 'No'], ax=ax, color='#e274cf')\n",
    "ax.set_xlabel('')\n",
    "ax.set_ylabel('')\n",
    "ax.set_yticks([], [])\n",
    "sns.despine(left=True)\n",
    "show_values_on_bars(ax)    \n",
    "plt.show()"
   ]
  },
  {
   "cell_type": "markdown",
   "metadata": {},
   "source": [
    "Так, видим, что массовый исход начался в октябре 2019. Он связан с появлением на рынке компании-конкурента.  \n",
    "Отметим, что в базе нет записей о клиентах, ушедших в феврале 2020.  \n",
    "\n",
    "Разберёмся с форматом дат, выделим целевой признак и добавим признак `LTDays` - длительность контракта в днях."
   ]
  },
  {
   "cell_type": "code",
   "execution_count": 9,
   "metadata": {},
   "outputs": [],
   "source": [
    "contract.BeginDate = contract.BeginDate.astype('datetime64')\n",
    "contract.EndDate = contract.EndDate.replace(to_replace='No', value='2020-02-01')\n",
    "contract.EndDate = contract.EndDate.astype('datetime64')"
   ]
  },
  {
   "cell_type": "code",
   "execution_count": 10,
   "metadata": {},
   "outputs": [],
   "source": [
    "contract['LTDays'] = (contract['EndDate'] - contract['BeginDate']).dt.days"
   ]
  },
  {
   "cell_type": "code",
   "execution_count": 11,
   "metadata": {},
   "outputs": [],
   "source": [
    "contract['Exited'] = 1\n",
    "contract.loc[contract.EndDate == '2020-02-01', 'Exited'] = 0"
   ]
  },
  {
   "cell_type": "markdown",
   "metadata": {},
   "source": [
    "Разберемся заодно с неявными пропусками в TotalCharges."
   ]
  },
  {
   "cell_type": "code",
   "execution_count": 12,
   "metadata": {},
   "outputs": [
    {
     "data": {
      "text/html": [
       "<div>\n",
       "<style scoped>\n",
       "    .dataframe tbody tr th:only-of-type {\n",
       "        vertical-align: middle;\n",
       "    }\n",
       "\n",
       "    .dataframe tbody tr th {\n",
       "        vertical-align: top;\n",
       "    }\n",
       "\n",
       "    .dataframe thead th {\n",
       "        text-align: right;\n",
       "    }\n",
       "</style>\n",
       "<table border=\"1\" class=\"dataframe\">\n",
       "  <thead>\n",
       "    <tr style=\"text-align: right;\">\n",
       "      <th></th>\n",
       "      <th>customerID</th>\n",
       "      <th>BeginDate</th>\n",
       "      <th>EndDate</th>\n",
       "      <th>Type</th>\n",
       "      <th>PaperlessBilling</th>\n",
       "      <th>PaymentMethod</th>\n",
       "      <th>MonthlyCharges</th>\n",
       "      <th>TotalCharges</th>\n",
       "      <th>LTDays</th>\n",
       "      <th>Exited</th>\n",
       "    </tr>\n",
       "  </thead>\n",
       "  <tbody>\n",
       "    <tr>\n",
       "      <th>488</th>\n",
       "      <td>4472-LVYGI</td>\n",
       "      <td>2020-02-01</td>\n",
       "      <td>2020-02-01</td>\n",
       "      <td>Two year</td>\n",
       "      <td>Yes</td>\n",
       "      <td>Bank transfer (automatic)</td>\n",
       "      <td>52.55</td>\n",
       "      <td></td>\n",
       "      <td>0</td>\n",
       "      <td>0</td>\n",
       "    </tr>\n",
       "    <tr>\n",
       "      <th>753</th>\n",
       "      <td>3115-CZMZD</td>\n",
       "      <td>2020-02-01</td>\n",
       "      <td>2020-02-01</td>\n",
       "      <td>Two year</td>\n",
       "      <td>No</td>\n",
       "      <td>Mailed check</td>\n",
       "      <td>20.25</td>\n",
       "      <td></td>\n",
       "      <td>0</td>\n",
       "      <td>0</td>\n",
       "    </tr>\n",
       "    <tr>\n",
       "      <th>936</th>\n",
       "      <td>5709-LVOEQ</td>\n",
       "      <td>2020-02-01</td>\n",
       "      <td>2020-02-01</td>\n",
       "      <td>Two year</td>\n",
       "      <td>No</td>\n",
       "      <td>Mailed check</td>\n",
       "      <td>80.85</td>\n",
       "      <td></td>\n",
       "      <td>0</td>\n",
       "      <td>0</td>\n",
       "    </tr>\n",
       "    <tr>\n",
       "      <th>1082</th>\n",
       "      <td>4367-NUYAO</td>\n",
       "      <td>2020-02-01</td>\n",
       "      <td>2020-02-01</td>\n",
       "      <td>Two year</td>\n",
       "      <td>No</td>\n",
       "      <td>Mailed check</td>\n",
       "      <td>25.75</td>\n",
       "      <td></td>\n",
       "      <td>0</td>\n",
       "      <td>0</td>\n",
       "    </tr>\n",
       "    <tr>\n",
       "      <th>1340</th>\n",
       "      <td>1371-DWPAZ</td>\n",
       "      <td>2020-02-01</td>\n",
       "      <td>2020-02-01</td>\n",
       "      <td>Two year</td>\n",
       "      <td>No</td>\n",
       "      <td>Credit card (automatic)</td>\n",
       "      <td>56.05</td>\n",
       "      <td></td>\n",
       "      <td>0</td>\n",
       "      <td>0</td>\n",
       "    </tr>\n",
       "    <tr>\n",
       "      <th>3331</th>\n",
       "      <td>7644-OMVMY</td>\n",
       "      <td>2020-02-01</td>\n",
       "      <td>2020-02-01</td>\n",
       "      <td>Two year</td>\n",
       "      <td>No</td>\n",
       "      <td>Mailed check</td>\n",
       "      <td>19.85</td>\n",
       "      <td></td>\n",
       "      <td>0</td>\n",
       "      <td>0</td>\n",
       "    </tr>\n",
       "    <tr>\n",
       "      <th>3826</th>\n",
       "      <td>3213-VVOLG</td>\n",
       "      <td>2020-02-01</td>\n",
       "      <td>2020-02-01</td>\n",
       "      <td>Two year</td>\n",
       "      <td>No</td>\n",
       "      <td>Mailed check</td>\n",
       "      <td>25.35</td>\n",
       "      <td></td>\n",
       "      <td>0</td>\n",
       "      <td>0</td>\n",
       "    </tr>\n",
       "    <tr>\n",
       "      <th>4380</th>\n",
       "      <td>2520-SGTTA</td>\n",
       "      <td>2020-02-01</td>\n",
       "      <td>2020-02-01</td>\n",
       "      <td>Two year</td>\n",
       "      <td>No</td>\n",
       "      <td>Mailed check</td>\n",
       "      <td>20.00</td>\n",
       "      <td></td>\n",
       "      <td>0</td>\n",
       "      <td>0</td>\n",
       "    </tr>\n",
       "    <tr>\n",
       "      <th>5218</th>\n",
       "      <td>2923-ARZLG</td>\n",
       "      <td>2020-02-01</td>\n",
       "      <td>2020-02-01</td>\n",
       "      <td>One year</td>\n",
       "      <td>Yes</td>\n",
       "      <td>Mailed check</td>\n",
       "      <td>19.70</td>\n",
       "      <td></td>\n",
       "      <td>0</td>\n",
       "      <td>0</td>\n",
       "    </tr>\n",
       "    <tr>\n",
       "      <th>6670</th>\n",
       "      <td>4075-WKNIU</td>\n",
       "      <td>2020-02-01</td>\n",
       "      <td>2020-02-01</td>\n",
       "      <td>Two year</td>\n",
       "      <td>No</td>\n",
       "      <td>Mailed check</td>\n",
       "      <td>73.35</td>\n",
       "      <td></td>\n",
       "      <td>0</td>\n",
       "      <td>0</td>\n",
       "    </tr>\n",
       "    <tr>\n",
       "      <th>6754</th>\n",
       "      <td>2775-SEFEE</td>\n",
       "      <td>2020-02-01</td>\n",
       "      <td>2020-02-01</td>\n",
       "      <td>Two year</td>\n",
       "      <td>Yes</td>\n",
       "      <td>Bank transfer (automatic)</td>\n",
       "      <td>61.90</td>\n",
       "      <td></td>\n",
       "      <td>0</td>\n",
       "      <td>0</td>\n",
       "    </tr>\n",
       "  </tbody>\n",
       "</table>\n",
       "</div>"
      ],
      "text/plain": [
       "      customerID  BeginDate    EndDate      Type PaperlessBilling  \\\n",
       "488   4472-LVYGI 2020-02-01 2020-02-01  Two year              Yes   \n",
       "753   3115-CZMZD 2020-02-01 2020-02-01  Two year               No   \n",
       "936   5709-LVOEQ 2020-02-01 2020-02-01  Two year               No   \n",
       "1082  4367-NUYAO 2020-02-01 2020-02-01  Two year               No   \n",
       "1340  1371-DWPAZ 2020-02-01 2020-02-01  Two year               No   \n",
       "3331  7644-OMVMY 2020-02-01 2020-02-01  Two year               No   \n",
       "3826  3213-VVOLG 2020-02-01 2020-02-01  Two year               No   \n",
       "4380  2520-SGTTA 2020-02-01 2020-02-01  Two year               No   \n",
       "5218  2923-ARZLG 2020-02-01 2020-02-01  One year              Yes   \n",
       "6670  4075-WKNIU 2020-02-01 2020-02-01  Two year               No   \n",
       "6754  2775-SEFEE 2020-02-01 2020-02-01  Two year              Yes   \n",
       "\n",
       "                  PaymentMethod  MonthlyCharges TotalCharges  LTDays  Exited  \n",
       "488   Bank transfer (automatic)           52.55                    0       0  \n",
       "753                Mailed check           20.25                    0       0  \n",
       "936                Mailed check           80.85                    0       0  \n",
       "1082               Mailed check           25.75                    0       0  \n",
       "1340    Credit card (automatic)           56.05                    0       0  \n",
       "3331               Mailed check           19.85                    0       0  \n",
       "3826               Mailed check           25.35                    0       0  \n",
       "4380               Mailed check           20.00                    0       0  \n",
       "5218               Mailed check           19.70                    0       0  \n",
       "6670               Mailed check           73.35                    0       0  \n",
       "6754  Bank transfer (automatic)           61.90                    0       0  "
      ]
     },
     "execution_count": 12,
     "metadata": {},
     "output_type": "execute_result"
    }
   ],
   "source": [
    "contract[contract['TotalCharges'] == ' ']"
   ]
  },
  {
   "cell_type": "markdown",
   "metadata": {},
   "source": [
    "Ок, это клиенты, которые не успели заплатить на момент выгрузки, заменим пропуски на размер абонплаты."
   ]
  },
  {
   "cell_type": "code",
   "execution_count": 13,
   "metadata": {},
   "outputs": [],
   "source": [
    "contract.loc[contract['TotalCharges'] == ' ', 'TotalCharges'] = contract['MonthlyCharges']\n",
    "contract.TotalCharges = contract.TotalCharges.astype('float64')"
   ]
  },
  {
   "cell_type": "markdown",
   "metadata": {},
   "source": [
    "Смотрим, что получилось."
   ]
  },
  {
   "cell_type": "code",
   "execution_count": 14,
   "metadata": {
    "scrolled": true
   },
   "outputs": [
    {
     "data": {
      "text/html": [
       "<div>\n",
       "<style scoped>\n",
       "    .dataframe tbody tr th:only-of-type {\n",
       "        vertical-align: middle;\n",
       "    }\n",
       "\n",
       "    .dataframe tbody tr th {\n",
       "        vertical-align: top;\n",
       "    }\n",
       "\n",
       "    .dataframe thead th {\n",
       "        text-align: right;\n",
       "    }\n",
       "</style>\n",
       "<table border=\"1\" class=\"dataframe\">\n",
       "  <thead>\n",
       "    <tr style=\"text-align: right;\">\n",
       "      <th></th>\n",
       "      <th>customerID</th>\n",
       "      <th>BeginDate</th>\n",
       "      <th>EndDate</th>\n",
       "      <th>Type</th>\n",
       "      <th>PaperlessBilling</th>\n",
       "      <th>PaymentMethod</th>\n",
       "      <th>MonthlyCharges</th>\n",
       "      <th>TotalCharges</th>\n",
       "      <th>LTDays</th>\n",
       "      <th>Exited</th>\n",
       "    </tr>\n",
       "  </thead>\n",
       "  <tbody>\n",
       "    <tr>\n",
       "      <th>0</th>\n",
       "      <td>7590-VHVEG</td>\n",
       "      <td>2020-01-01</td>\n",
       "      <td>2020-02-01</td>\n",
       "      <td>Month-to-month</td>\n",
       "      <td>Yes</td>\n",
       "      <td>Electronic check</td>\n",
       "      <td>29.85</td>\n",
       "      <td>29.85</td>\n",
       "      <td>31</td>\n",
       "      <td>0</td>\n",
       "    </tr>\n",
       "    <tr>\n",
       "      <th>1</th>\n",
       "      <td>5575-GNVDE</td>\n",
       "      <td>2017-04-01</td>\n",
       "      <td>2020-02-01</td>\n",
       "      <td>One year</td>\n",
       "      <td>No</td>\n",
       "      <td>Mailed check</td>\n",
       "      <td>56.95</td>\n",
       "      <td>1889.50</td>\n",
       "      <td>1036</td>\n",
       "      <td>0</td>\n",
       "    </tr>\n",
       "    <tr>\n",
       "      <th>2</th>\n",
       "      <td>3668-QPYBK</td>\n",
       "      <td>2019-10-01</td>\n",
       "      <td>2019-12-01</td>\n",
       "      <td>Month-to-month</td>\n",
       "      <td>Yes</td>\n",
       "      <td>Mailed check</td>\n",
       "      <td>53.85</td>\n",
       "      <td>108.15</td>\n",
       "      <td>61</td>\n",
       "      <td>1</td>\n",
       "    </tr>\n",
       "    <tr>\n",
       "      <th>3</th>\n",
       "      <td>7795-CFOCW</td>\n",
       "      <td>2016-05-01</td>\n",
       "      <td>2020-02-01</td>\n",
       "      <td>One year</td>\n",
       "      <td>No</td>\n",
       "      <td>Bank transfer (automatic)</td>\n",
       "      <td>42.30</td>\n",
       "      <td>1840.75</td>\n",
       "      <td>1371</td>\n",
       "      <td>0</td>\n",
       "    </tr>\n",
       "    <tr>\n",
       "      <th>4</th>\n",
       "      <td>9237-HQITU</td>\n",
       "      <td>2019-09-01</td>\n",
       "      <td>2019-11-01</td>\n",
       "      <td>Month-to-month</td>\n",
       "      <td>Yes</td>\n",
       "      <td>Electronic check</td>\n",
       "      <td>70.70</td>\n",
       "      <td>151.65</td>\n",
       "      <td>61</td>\n",
       "      <td>1</td>\n",
       "    </tr>\n",
       "  </tbody>\n",
       "</table>\n",
       "</div>"
      ],
      "text/plain": [
       "   customerID  BeginDate    EndDate            Type PaperlessBilling  \\\n",
       "0  7590-VHVEG 2020-01-01 2020-02-01  Month-to-month              Yes   \n",
       "1  5575-GNVDE 2017-04-01 2020-02-01        One year               No   \n",
       "2  3668-QPYBK 2019-10-01 2019-12-01  Month-to-month              Yes   \n",
       "3  7795-CFOCW 2016-05-01 2020-02-01        One year               No   \n",
       "4  9237-HQITU 2019-09-01 2019-11-01  Month-to-month              Yes   \n",
       "\n",
       "               PaymentMethod  MonthlyCharges  TotalCharges  LTDays  Exited  \n",
       "0           Electronic check           29.85         29.85      31       0  \n",
       "1               Mailed check           56.95       1889.50    1036       0  \n",
       "2               Mailed check           53.85        108.15      61       1  \n",
       "3  Bank transfer (automatic)           42.30       1840.75    1371       0  \n",
       "4           Electronic check           70.70        151.65      61       1  "
      ]
     },
     "execution_count": 14,
     "metadata": {},
     "output_type": "execute_result"
    }
   ],
   "source": [
    "contract.head()"
   ]
  },
  {
   "cell_type": "markdown",
   "metadata": {},
   "source": [
    "Проверим как связаны числовые признаки, чтобы исключить мультиколлинеарность."
   ]
  },
  {
   "cell_type": "code",
   "execution_count": 15,
   "metadata": {},
   "outputs": [
    {
     "data": {
      "image/png": "[encoded data removed]",
      "text/plain": [
       "<Figure size 468x468 with 1 Axes>"
      ]
     },
     "metadata": {},
     "output_type": "display_data"
    }
   ],
   "source": [
    "fig, ax = plt.subplots(figsize=(6.5, 6.5))\n",
    "ax.set_title('Матрица корреляции', fontsize=15)\n",
    "sns.heatmap(contract.drop('Exited', axis=1).corr(), cmap='RdPu', linewidths=.2, cbar=False, annot=True, ax=ax)\n",
    "plt.show()"
   ]
  },
  {
   "cell_type": "markdown",
   "metadata": {},
   "source": [
    "Удалим `TotalCharges`, так как значение зависит от `MonthlyCharges` и `LTDays`.\n",
    "\n",
    "Заодно удалим признаки `BeginDate`и `EndDate`, это временные признаки и их лучше не использовать в этом проекте."
   ]
  },
  {
   "cell_type": "code",
   "execution_count": 16,
   "metadata": {},
   "outputs": [],
   "source": [
    "contract = contract.drop(['BeginDate','EndDate', 'TotalCharges'], axis=1)"
   ]
  },
  {
   "cell_type": "code",
   "execution_count": 17,
   "metadata": {},
   "outputs": [
    {
     "name": "stdout",
     "output_type": "stream",
     "text": [
      "<class 'pandas.core.frame.DataFrame'>\n",
      "RangeIndex: 7043 entries, 0 to 7042\n",
      "Data columns (total 7 columns):\n",
      " #   Column            Non-Null Count  Dtype  \n",
      "---  ------            --------------  -----  \n",
      " 0   customerID        7043 non-null   object \n",
      " 1   Type              7043 non-null   object \n",
      " 2   PaperlessBilling  7043 non-null   object \n",
      " 3   PaymentMethod     7043 non-null   object \n",
      " 4   MonthlyCharges    7043 non-null   float64\n",
      " 5   LTDays            7043 non-null   int64  \n",
      " 6   Exited            7043 non-null   int64  \n",
      "dtypes: float64(1), int64(2), object(4)\n",
      "memory usage: 385.3+ KB\n"
     ]
    }
   ],
   "source": [
    "contract.info()"
   ]
  },
  {
   "cell_type": "markdown",
   "metadata": {},
   "source": [
    "### Объединение таблиц"
   ]
  },
  {
   "cell_type": "code",
   "execution_count": 18,
   "metadata": {},
   "outputs": [],
   "source": [
    "df = (contract.set_index('customerID').\n",
    "      join(personal.set_index('customerID')).\n",
    "      join(internet.set_index('customerID')).\n",
    "      join(phone.set_index('customerID')))"
   ]
  },
  {
   "cell_type": "markdown",
   "metadata": {},
   "source": [
    "Проверяем, что получилось."
   ]
  },
  {
   "cell_type": "code",
   "execution_count": 19,
   "metadata": {
    "scrolled": true
   },
   "outputs": [
    {
     "name": "stdout",
     "output_type": "stream",
     "text": [
      "\u001b[1mИтоговая таблица \u001b[0m\n",
      "Общая информация, info() \n",
      "\n",
      "<class 'pandas.core.frame.DataFrame'>\n",
      "Index: 7043 entries, 7590-VHVEG to 3186-AJIEK\n",
      "Data columns (total 18 columns):\n",
      " #   Column            Non-Null Count  Dtype  \n",
      "---  ------            --------------  -----  \n",
      " 0   Type              7043 non-null   object \n",
      " 1   PaperlessBilling  7043 non-null   object \n",
      " 2   PaymentMethod     7043 non-null   object \n",
      " 3   MonthlyCharges    7043 non-null   float64\n",
      " 4   LTDays            7043 non-null   int64  \n",
      " 5   Exited            7043 non-null   int64  \n",
      " 6   gender            7043 non-null   object \n",
      " 7   SeniorCitizen     7043 non-null   int64  \n",
      " 8   Partner           7043 non-null   object \n",
      " 9   Dependents        7043 non-null   object \n",
      " 10  InternetService   5517 non-null   object \n",
      " 11  OnlineSecurity    5517 non-null   object \n",
      " 12  OnlineBackup      5517 non-null   object \n",
      " 13  DeviceProtection  5517 non-null   object \n",
      " 14  TechSupport       5517 non-null   object \n",
      " 15  StreamingTV       5517 non-null   object \n",
      " 16  StreamingMovies   5517 non-null   object \n",
      " 17  MultipleLines     6361 non-null   object \n",
      "dtypes: float64(1), int64(3), object(14)\n",
      "memory usage: 1.3+ MB\n"
     ]
    },
    {
     "data": {
      "text/plain": [
       "None"
      ]
     },
     "metadata": {},
     "output_type": "display_data"
    },
    {
     "name": "stdout",
     "output_type": "stream",
     "text": [
      "Строк: 7043 \n",
      "Дубликатов: 23\n"
     ]
    },
    {
     "data": {
      "text/html": [
       "<style type=\"text/css\">\n",
       "</style>\n",
       "<table id=\"T_e1cfe_\" style='display:inline'>\n",
       "  <caption>Первые 10 строк</caption>\n",
       "  <thead>\n",
       "    <tr>\n",
       "      <th class=\"blank level0\" >&nbsp;</th>\n",
       "      <th class=\"col_heading level0 col0\" >Type</th>\n",
       "      <th class=\"col_heading level0 col1\" >PaperlessBilling</th>\n",
       "      <th class=\"col_heading level0 col2\" >PaymentMethod</th>\n",
       "      <th class=\"col_heading level0 col3\" >MonthlyCharges</th>\n",
       "      <th class=\"col_heading level0 col4\" >LTDays</th>\n",
       "      <th class=\"col_heading level0 col5\" >Exited</th>\n",
       "      <th class=\"col_heading level0 col6\" >gender</th>\n",
       "      <th class=\"col_heading level0 col7\" >SeniorCitizen</th>\n",
       "      <th class=\"col_heading level0 col8\" >Partner</th>\n",
       "      <th class=\"col_heading level0 col9\" >Dependents</th>\n",
       "      <th class=\"col_heading level0 col10\" >InternetService</th>\n",
       "      <th class=\"col_heading level0 col11\" >OnlineSecurity</th>\n",
       "      <th class=\"col_heading level0 col12\" >OnlineBackup</th>\n",
       "      <th class=\"col_heading level0 col13\" >DeviceProtection</th>\n",
       "      <th class=\"col_heading level0 col14\" >TechSupport</th>\n",
       "      <th class=\"col_heading level0 col15\" >StreamingTV</th>\n",
       "      <th class=\"col_heading level0 col16\" >StreamingMovies</th>\n",
       "      <th class=\"col_heading level0 col17\" >MultipleLines</th>\n",
       "    </tr>\n",
       "    <tr>\n",
       "      <th class=\"index_name level0\" >customerID</th>\n",
       "      <th class=\"blank col0\" >&nbsp;</th>\n",
       "      <th class=\"blank col1\" >&nbsp;</th>\n",
       "      <th class=\"blank col2\" >&nbsp;</th>\n",
       "      <th class=\"blank col3\" >&nbsp;</th>\n",
       "      <th class=\"blank col4\" >&nbsp;</th>\n",
       "      <th class=\"blank col5\" >&nbsp;</th>\n",
       "      <th class=\"blank col6\" >&nbsp;</th>\n",
       "      <th class=\"blank col7\" >&nbsp;</th>\n",
       "      <th class=\"blank col8\" >&nbsp;</th>\n",
       "      <th class=\"blank col9\" >&nbsp;</th>\n",
       "      <th class=\"blank col10\" >&nbsp;</th>\n",
       "      <th class=\"blank col11\" >&nbsp;</th>\n",
       "      <th class=\"blank col12\" >&nbsp;</th>\n",
       "      <th class=\"blank col13\" >&nbsp;</th>\n",
       "      <th class=\"blank col14\" >&nbsp;</th>\n",
       "      <th class=\"blank col15\" >&nbsp;</th>\n",
       "      <th class=\"blank col16\" >&nbsp;</th>\n",
       "      <th class=\"blank col17\" >&nbsp;</th>\n",
       "    </tr>\n",
       "  </thead>\n",
       "  <tbody>\n",
       "    <tr>\n",
       "      <th id=\"T_e1cfe_level0_row0\" class=\"row_heading level0 row0\" >7590-VHVEG</th>\n",
       "      <td id=\"T_e1cfe_row0_col0\" class=\"data row0 col0\" >Month-to-month</td>\n",
       "      <td id=\"T_e1cfe_row0_col1\" class=\"data row0 col1\" >Yes</td>\n",
       "      <td id=\"T_e1cfe_row0_col2\" class=\"data row0 col2\" >Electronic check</td>\n",
       "      <td id=\"T_e1cfe_row0_col3\" class=\"data row0 col3\" >29.850000</td>\n",
       "      <td id=\"T_e1cfe_row0_col4\" class=\"data row0 col4\" >31</td>\n",
       "      <td id=\"T_e1cfe_row0_col5\" class=\"data row0 col5\" >0</td>\n",
       "      <td id=\"T_e1cfe_row0_col6\" class=\"data row0 col6\" >Female</td>\n",
       "      <td id=\"T_e1cfe_row0_col7\" class=\"data row0 col7\" >0</td>\n",
       "      <td id=\"T_e1cfe_row0_col8\" class=\"data row0 col8\" >Yes</td>\n",
       "      <td id=\"T_e1cfe_row0_col9\" class=\"data row0 col9\" >No</td>\n",
       "      <td id=\"T_e1cfe_row0_col10\" class=\"data row0 col10\" >DSL</td>\n",
       "      <td id=\"T_e1cfe_row0_col11\" class=\"data row0 col11\" >No</td>\n",
       "      <td id=\"T_e1cfe_row0_col12\" class=\"data row0 col12\" >Yes</td>\n",
       "      <td id=\"T_e1cfe_row0_col13\" class=\"data row0 col13\" >No</td>\n",
       "      <td id=\"T_e1cfe_row0_col14\" class=\"data row0 col14\" >No</td>\n",
       "      <td id=\"T_e1cfe_row0_col15\" class=\"data row0 col15\" >No</td>\n",
       "      <td id=\"T_e1cfe_row0_col16\" class=\"data row0 col16\" >No</td>\n",
       "      <td id=\"T_e1cfe_row0_col17\" class=\"data row0 col17\" >nan</td>\n",
       "    </tr>\n",
       "    <tr>\n",
       "      <th id=\"T_e1cfe_level0_row1\" class=\"row_heading level0 row1\" >5575-GNVDE</th>\n",
       "      <td id=\"T_e1cfe_row1_col0\" class=\"data row1 col0\" >One year</td>\n",
       "      <td id=\"T_e1cfe_row1_col1\" class=\"data row1 col1\" >No</td>\n",
       "      <td id=\"T_e1cfe_row1_col2\" class=\"data row1 col2\" >Mailed check</td>\n",
       "      <td id=\"T_e1cfe_row1_col3\" class=\"data row1 col3\" >56.950000</td>\n",
       "      <td id=\"T_e1cfe_row1_col4\" class=\"data row1 col4\" >1036</td>\n",
       "      <td id=\"T_e1cfe_row1_col5\" class=\"data row1 col5\" >0</td>\n",
       "      <td id=\"T_e1cfe_row1_col6\" class=\"data row1 col6\" >Male</td>\n",
       "      <td id=\"T_e1cfe_row1_col7\" class=\"data row1 col7\" >0</td>\n",
       "      <td id=\"T_e1cfe_row1_col8\" class=\"data row1 col8\" >No</td>\n",
       "      <td id=\"T_e1cfe_row1_col9\" class=\"data row1 col9\" >No</td>\n",
       "      <td id=\"T_e1cfe_row1_col10\" class=\"data row1 col10\" >DSL</td>\n",
       "      <td id=\"T_e1cfe_row1_col11\" class=\"data row1 col11\" >Yes</td>\n",
       "      <td id=\"T_e1cfe_row1_col12\" class=\"data row1 col12\" >No</td>\n",
       "      <td id=\"T_e1cfe_row1_col13\" class=\"data row1 col13\" >Yes</td>\n",
       "      <td id=\"T_e1cfe_row1_col14\" class=\"data row1 col14\" >No</td>\n",
       "      <td id=\"T_e1cfe_row1_col15\" class=\"data row1 col15\" >No</td>\n",
       "      <td id=\"T_e1cfe_row1_col16\" class=\"data row1 col16\" >No</td>\n",
       "      <td id=\"T_e1cfe_row1_col17\" class=\"data row1 col17\" >No</td>\n",
       "    </tr>\n",
       "    <tr>\n",
       "      <th id=\"T_e1cfe_level0_row2\" class=\"row_heading level0 row2\" >3668-QPYBK</th>\n",
       "      <td id=\"T_e1cfe_row2_col0\" class=\"data row2 col0\" >Month-to-month</td>\n",
       "      <td id=\"T_e1cfe_row2_col1\" class=\"data row2 col1\" >Yes</td>\n",
       "      <td id=\"T_e1cfe_row2_col2\" class=\"data row2 col2\" >Mailed check</td>\n",
       "      <td id=\"T_e1cfe_row2_col3\" class=\"data row2 col3\" >53.850000</td>\n",
       "      <td id=\"T_e1cfe_row2_col4\" class=\"data row2 col4\" >61</td>\n",
       "      <td id=\"T_e1cfe_row2_col5\" class=\"data row2 col5\" >1</td>\n",
       "      <td id=\"T_e1cfe_row2_col6\" class=\"data row2 col6\" >Male</td>\n",
       "      <td id=\"T_e1cfe_row2_col7\" class=\"data row2 col7\" >0</td>\n",
       "      <td id=\"T_e1cfe_row2_col8\" class=\"data row2 col8\" >No</td>\n",
       "      <td id=\"T_e1cfe_row2_col9\" class=\"data row2 col9\" >No</td>\n",
       "      <td id=\"T_e1cfe_row2_col10\" class=\"data row2 col10\" >DSL</td>\n",
       "      <td id=\"T_e1cfe_row2_col11\" class=\"data row2 col11\" >Yes</td>\n",
       "      <td id=\"T_e1cfe_row2_col12\" class=\"data row2 col12\" >Yes</td>\n",
       "      <td id=\"T_e1cfe_row2_col13\" class=\"data row2 col13\" >No</td>\n",
       "      <td id=\"T_e1cfe_row2_col14\" class=\"data row2 col14\" >No</td>\n",
       "      <td id=\"T_e1cfe_row2_col15\" class=\"data row2 col15\" >No</td>\n",
       "      <td id=\"T_e1cfe_row2_col16\" class=\"data row2 col16\" >No</td>\n",
       "      <td id=\"T_e1cfe_row2_col17\" class=\"data row2 col17\" >No</td>\n",
       "    </tr>\n",
       "    <tr>\n",
       "      <th id=\"T_e1cfe_level0_row3\" class=\"row_heading level0 row3\" >7795-CFOCW</th>\n",
       "      <td id=\"T_e1cfe_row3_col0\" class=\"data row3 col0\" >One year</td>\n",
       "      <td id=\"T_e1cfe_row3_col1\" class=\"data row3 col1\" >No</td>\n",
       "      <td id=\"T_e1cfe_row3_col2\" class=\"data row3 col2\" >Bank transfer (automatic)</td>\n",
       "      <td id=\"T_e1cfe_row3_col3\" class=\"data row3 col3\" >42.300000</td>\n",
       "      <td id=\"T_e1cfe_row3_col4\" class=\"data row3 col4\" >1371</td>\n",
       "      <td id=\"T_e1cfe_row3_col5\" class=\"data row3 col5\" >0</td>\n",
       "      <td id=\"T_e1cfe_row3_col6\" class=\"data row3 col6\" >Male</td>\n",
       "      <td id=\"T_e1cfe_row3_col7\" class=\"data row3 col7\" >0</td>\n",
       "      <td id=\"T_e1cfe_row3_col8\" class=\"data row3 col8\" >No</td>\n",
       "      <td id=\"T_e1cfe_row3_col9\" class=\"data row3 col9\" >No</td>\n",
       "      <td id=\"T_e1cfe_row3_col10\" class=\"data row3 col10\" >DSL</td>\n",
       "      <td id=\"T_e1cfe_row3_col11\" class=\"data row3 col11\" >Yes</td>\n",
       "      <td id=\"T_e1cfe_row3_col12\" class=\"data row3 col12\" >No</td>\n",
       "      <td id=\"T_e1cfe_row3_col13\" class=\"data row3 col13\" >Yes</td>\n",
       "      <td id=\"T_e1cfe_row3_col14\" class=\"data row3 col14\" >Yes</td>\n",
       "      <td id=\"T_e1cfe_row3_col15\" class=\"data row3 col15\" >No</td>\n",
       "      <td id=\"T_e1cfe_row3_col16\" class=\"data row3 col16\" >No</td>\n",
       "      <td id=\"T_e1cfe_row3_col17\" class=\"data row3 col17\" >nan</td>\n",
       "    </tr>\n",
       "    <tr>\n",
       "      <th id=\"T_e1cfe_level0_row4\" class=\"row_heading level0 row4\" >9237-HQITU</th>\n",
       "      <td id=\"T_e1cfe_row4_col0\" class=\"data row4 col0\" >Month-to-month</td>\n",
       "      <td id=\"T_e1cfe_row4_col1\" class=\"data row4 col1\" >Yes</td>\n",
       "      <td id=\"T_e1cfe_row4_col2\" class=\"data row4 col2\" >Electronic check</td>\n",
       "      <td id=\"T_e1cfe_row4_col3\" class=\"data row4 col3\" >70.700000</td>\n",
       "      <td id=\"T_e1cfe_row4_col4\" class=\"data row4 col4\" >61</td>\n",
       "      <td id=\"T_e1cfe_row4_col5\" class=\"data row4 col5\" >1</td>\n",
       "      <td id=\"T_e1cfe_row4_col6\" class=\"data row4 col6\" >Female</td>\n",
       "      <td id=\"T_e1cfe_row4_col7\" class=\"data row4 col7\" >0</td>\n",
       "      <td id=\"T_e1cfe_row4_col8\" class=\"data row4 col8\" >No</td>\n",
       "      <td id=\"T_e1cfe_row4_col9\" class=\"data row4 col9\" >No</td>\n",
       "      <td id=\"T_e1cfe_row4_col10\" class=\"data row4 col10\" >Fiber optic</td>\n",
       "      <td id=\"T_e1cfe_row4_col11\" class=\"data row4 col11\" >No</td>\n",
       "      <td id=\"T_e1cfe_row4_col12\" class=\"data row4 col12\" >No</td>\n",
       "      <td id=\"T_e1cfe_row4_col13\" class=\"data row4 col13\" >No</td>\n",
       "      <td id=\"T_e1cfe_row4_col14\" class=\"data row4 col14\" >No</td>\n",
       "      <td id=\"T_e1cfe_row4_col15\" class=\"data row4 col15\" >No</td>\n",
       "      <td id=\"T_e1cfe_row4_col16\" class=\"data row4 col16\" >No</td>\n",
       "      <td id=\"T_e1cfe_row4_col17\" class=\"data row4 col17\" >No</td>\n",
       "    </tr>\n",
       "    <tr>\n",
       "      <th id=\"T_e1cfe_level0_row5\" class=\"row_heading level0 row5\" >9305-CDSKC</th>\n",
       "      <td id=\"T_e1cfe_row5_col0\" class=\"data row5 col0\" >Month-to-month</td>\n",
       "      <td id=\"T_e1cfe_row5_col1\" class=\"data row5 col1\" >Yes</td>\n",
       "      <td id=\"T_e1cfe_row5_col2\" class=\"data row5 col2\" >Electronic check</td>\n",
       "      <td id=\"T_e1cfe_row5_col3\" class=\"data row5 col3\" >99.650000</td>\n",
       "      <td id=\"T_e1cfe_row5_col4\" class=\"data row5 col4\" >245</td>\n",
       "      <td id=\"T_e1cfe_row5_col5\" class=\"data row5 col5\" >1</td>\n",
       "      <td id=\"T_e1cfe_row5_col6\" class=\"data row5 col6\" >Female</td>\n",
       "      <td id=\"T_e1cfe_row5_col7\" class=\"data row5 col7\" >0</td>\n",
       "      <td id=\"T_e1cfe_row5_col8\" class=\"data row5 col8\" >No</td>\n",
       "      <td id=\"T_e1cfe_row5_col9\" class=\"data row5 col9\" >No</td>\n",
       "      <td id=\"T_e1cfe_row5_col10\" class=\"data row5 col10\" >Fiber optic</td>\n",
       "      <td id=\"T_e1cfe_row5_col11\" class=\"data row5 col11\" >No</td>\n",
       "      <td id=\"T_e1cfe_row5_col12\" class=\"data row5 col12\" >No</td>\n",
       "      <td id=\"T_e1cfe_row5_col13\" class=\"data row5 col13\" >Yes</td>\n",
       "      <td id=\"T_e1cfe_row5_col14\" class=\"data row5 col14\" >No</td>\n",
       "      <td id=\"T_e1cfe_row5_col15\" class=\"data row5 col15\" >Yes</td>\n",
       "      <td id=\"T_e1cfe_row5_col16\" class=\"data row5 col16\" >Yes</td>\n",
       "      <td id=\"T_e1cfe_row5_col17\" class=\"data row5 col17\" >Yes</td>\n",
       "    </tr>\n",
       "    <tr>\n",
       "      <th id=\"T_e1cfe_level0_row6\" class=\"row_heading level0 row6\" >1452-KIOVK</th>\n",
       "      <td id=\"T_e1cfe_row6_col0\" class=\"data row6 col0\" >Month-to-month</td>\n",
       "      <td id=\"T_e1cfe_row6_col1\" class=\"data row6 col1\" >Yes</td>\n",
       "      <td id=\"T_e1cfe_row6_col2\" class=\"data row6 col2\" >Credit card (automatic)</td>\n",
       "      <td id=\"T_e1cfe_row6_col3\" class=\"data row6 col3\" >89.100000</td>\n",
       "      <td id=\"T_e1cfe_row6_col4\" class=\"data row6 col4\" >671</td>\n",
       "      <td id=\"T_e1cfe_row6_col5\" class=\"data row6 col5\" >0</td>\n",
       "      <td id=\"T_e1cfe_row6_col6\" class=\"data row6 col6\" >Male</td>\n",
       "      <td id=\"T_e1cfe_row6_col7\" class=\"data row6 col7\" >0</td>\n",
       "      <td id=\"T_e1cfe_row6_col8\" class=\"data row6 col8\" >No</td>\n",
       "      <td id=\"T_e1cfe_row6_col9\" class=\"data row6 col9\" >Yes</td>\n",
       "      <td id=\"T_e1cfe_row6_col10\" class=\"data row6 col10\" >Fiber optic</td>\n",
       "      <td id=\"T_e1cfe_row6_col11\" class=\"data row6 col11\" >No</td>\n",
       "      <td id=\"T_e1cfe_row6_col12\" class=\"data row6 col12\" >Yes</td>\n",
       "      <td id=\"T_e1cfe_row6_col13\" class=\"data row6 col13\" >No</td>\n",
       "      <td id=\"T_e1cfe_row6_col14\" class=\"data row6 col14\" >No</td>\n",
       "      <td id=\"T_e1cfe_row6_col15\" class=\"data row6 col15\" >Yes</td>\n",
       "      <td id=\"T_e1cfe_row6_col16\" class=\"data row6 col16\" >No</td>\n",
       "      <td id=\"T_e1cfe_row6_col17\" class=\"data row6 col17\" >Yes</td>\n",
       "    </tr>\n",
       "    <tr>\n",
       "      <th id=\"T_e1cfe_level0_row7\" class=\"row_heading level0 row7\" >6713-OKOMC</th>\n",
       "      <td id=\"T_e1cfe_row7_col0\" class=\"data row7 col0\" >Month-to-month</td>\n",
       "      <td id=\"T_e1cfe_row7_col1\" class=\"data row7 col1\" >No</td>\n",
       "      <td id=\"T_e1cfe_row7_col2\" class=\"data row7 col2\" >Mailed check</td>\n",
       "      <td id=\"T_e1cfe_row7_col3\" class=\"data row7 col3\" >29.750000</td>\n",
       "      <td id=\"T_e1cfe_row7_col4\" class=\"data row7 col4\" >306</td>\n",
       "      <td id=\"T_e1cfe_row7_col5\" class=\"data row7 col5\" >0</td>\n",
       "      <td id=\"T_e1cfe_row7_col6\" class=\"data row7 col6\" >Female</td>\n",
       "      <td id=\"T_e1cfe_row7_col7\" class=\"data row7 col7\" >0</td>\n",
       "      <td id=\"T_e1cfe_row7_col8\" class=\"data row7 col8\" >No</td>\n",
       "      <td id=\"T_e1cfe_row7_col9\" class=\"data row7 col9\" >No</td>\n",
       "      <td id=\"T_e1cfe_row7_col10\" class=\"data row7 col10\" >DSL</td>\n",
       "      <td id=\"T_e1cfe_row7_col11\" class=\"data row7 col11\" >Yes</td>\n",
       "      <td id=\"T_e1cfe_row7_col12\" class=\"data row7 col12\" >No</td>\n",
       "      <td id=\"T_e1cfe_row7_col13\" class=\"data row7 col13\" >No</td>\n",
       "      <td id=\"T_e1cfe_row7_col14\" class=\"data row7 col14\" >No</td>\n",
       "      <td id=\"T_e1cfe_row7_col15\" class=\"data row7 col15\" >No</td>\n",
       "      <td id=\"T_e1cfe_row7_col16\" class=\"data row7 col16\" >No</td>\n",
       "      <td id=\"T_e1cfe_row7_col17\" class=\"data row7 col17\" >nan</td>\n",
       "    </tr>\n",
       "    <tr>\n",
       "      <th id=\"T_e1cfe_level0_row8\" class=\"row_heading level0 row8\" >7892-POOKP</th>\n",
       "      <td id=\"T_e1cfe_row8_col0\" class=\"data row8 col0\" >Month-to-month</td>\n",
       "      <td id=\"T_e1cfe_row8_col1\" class=\"data row8 col1\" >Yes</td>\n",
       "      <td id=\"T_e1cfe_row8_col2\" class=\"data row8 col2\" >Electronic check</td>\n",
       "      <td id=\"T_e1cfe_row8_col3\" class=\"data row8 col3\" >104.800000</td>\n",
       "      <td id=\"T_e1cfe_row8_col4\" class=\"data row8 col4\" >853</td>\n",
       "      <td id=\"T_e1cfe_row8_col5\" class=\"data row8 col5\" >1</td>\n",
       "      <td id=\"T_e1cfe_row8_col6\" class=\"data row8 col6\" >Female</td>\n",
       "      <td id=\"T_e1cfe_row8_col7\" class=\"data row8 col7\" >0</td>\n",
       "      <td id=\"T_e1cfe_row8_col8\" class=\"data row8 col8\" >Yes</td>\n",
       "      <td id=\"T_e1cfe_row8_col9\" class=\"data row8 col9\" >No</td>\n",
       "      <td id=\"T_e1cfe_row8_col10\" class=\"data row8 col10\" >Fiber optic</td>\n",
       "      <td id=\"T_e1cfe_row8_col11\" class=\"data row8 col11\" >No</td>\n",
       "      <td id=\"T_e1cfe_row8_col12\" class=\"data row8 col12\" >No</td>\n",
       "      <td id=\"T_e1cfe_row8_col13\" class=\"data row8 col13\" >Yes</td>\n",
       "      <td id=\"T_e1cfe_row8_col14\" class=\"data row8 col14\" >Yes</td>\n",
       "      <td id=\"T_e1cfe_row8_col15\" class=\"data row8 col15\" >Yes</td>\n",
       "      <td id=\"T_e1cfe_row8_col16\" class=\"data row8 col16\" >Yes</td>\n",
       "      <td id=\"T_e1cfe_row8_col17\" class=\"data row8 col17\" >Yes</td>\n",
       "    </tr>\n",
       "    <tr>\n",
       "      <th id=\"T_e1cfe_level0_row9\" class=\"row_heading level0 row9\" >6388-TABGU</th>\n",
       "      <td id=\"T_e1cfe_row9_col0\" class=\"data row9 col0\" >One year</td>\n",
       "      <td id=\"T_e1cfe_row9_col1\" class=\"data row9 col1\" >No</td>\n",
       "      <td id=\"T_e1cfe_row9_col2\" class=\"data row9 col2\" >Bank transfer (automatic)</td>\n",
       "      <td id=\"T_e1cfe_row9_col3\" class=\"data row9 col3\" >56.150000</td>\n",
       "      <td id=\"T_e1cfe_row9_col4\" class=\"data row9 col4\" >1888</td>\n",
       "      <td id=\"T_e1cfe_row9_col5\" class=\"data row9 col5\" >0</td>\n",
       "      <td id=\"T_e1cfe_row9_col6\" class=\"data row9 col6\" >Male</td>\n",
       "      <td id=\"T_e1cfe_row9_col7\" class=\"data row9 col7\" >0</td>\n",
       "      <td id=\"T_e1cfe_row9_col8\" class=\"data row9 col8\" >No</td>\n",
       "      <td id=\"T_e1cfe_row9_col9\" class=\"data row9 col9\" >Yes</td>\n",
       "      <td id=\"T_e1cfe_row9_col10\" class=\"data row9 col10\" >DSL</td>\n",
       "      <td id=\"T_e1cfe_row9_col11\" class=\"data row9 col11\" >Yes</td>\n",
       "      <td id=\"T_e1cfe_row9_col12\" class=\"data row9 col12\" >Yes</td>\n",
       "      <td id=\"T_e1cfe_row9_col13\" class=\"data row9 col13\" >No</td>\n",
       "      <td id=\"T_e1cfe_row9_col14\" class=\"data row9 col14\" >No</td>\n",
       "      <td id=\"T_e1cfe_row9_col15\" class=\"data row9 col15\" >No</td>\n",
       "      <td id=\"T_e1cfe_row9_col16\" class=\"data row9 col16\" >No</td>\n",
       "      <td id=\"T_e1cfe_row9_col17\" class=\"data row9 col17\" >No</td>\n",
       "    </tr>\n",
       "  </tbody>\n",
       "</table>\n",
       "   <style type=\"text/css\">\n",
       "</style>\n",
       "<table id=\"T_0edb2_\" style='display:inline'>\n",
       "  <caption>Произвольные 10 строк</caption>\n",
       "  <thead>\n",
       "    <tr>\n",
       "      <th class=\"blank level0\" >&nbsp;</th>\n",
       "      <th class=\"col_heading level0 col0\" >Type</th>\n",
       "      <th class=\"col_heading level0 col1\" >PaperlessBilling</th>\n",
       "      <th class=\"col_heading level0 col2\" >PaymentMethod</th>\n",
       "      <th class=\"col_heading level0 col3\" >MonthlyCharges</th>\n",
       "      <th class=\"col_heading level0 col4\" >LTDays</th>\n",
       "      <th class=\"col_heading level0 col5\" >Exited</th>\n",
       "      <th class=\"col_heading level0 col6\" >gender</th>\n",
       "      <th class=\"col_heading level0 col7\" >SeniorCitizen</th>\n",
       "      <th class=\"col_heading level0 col8\" >Partner</th>\n",
       "      <th class=\"col_heading level0 col9\" >Dependents</th>\n",
       "      <th class=\"col_heading level0 col10\" >InternetService</th>\n",
       "      <th class=\"col_heading level0 col11\" >OnlineSecurity</th>\n",
       "      <th class=\"col_heading level0 col12\" >OnlineBackup</th>\n",
       "      <th class=\"col_heading level0 col13\" >DeviceProtection</th>\n",
       "      <th class=\"col_heading level0 col14\" >TechSupport</th>\n",
       "      <th class=\"col_heading level0 col15\" >StreamingTV</th>\n",
       "      <th class=\"col_heading level0 col16\" >StreamingMovies</th>\n",
       "      <th class=\"col_heading level0 col17\" >MultipleLines</th>\n",
       "    </tr>\n",
       "    <tr>\n",
       "      <th class=\"index_name level0\" >customerID</th>\n",
       "      <th class=\"blank col0\" >&nbsp;</th>\n",
       "      <th class=\"blank col1\" >&nbsp;</th>\n",
       "      <th class=\"blank col2\" >&nbsp;</th>\n",
       "      <th class=\"blank col3\" >&nbsp;</th>\n",
       "      <th class=\"blank col4\" >&nbsp;</th>\n",
       "      <th class=\"blank col5\" >&nbsp;</th>\n",
       "      <th class=\"blank col6\" >&nbsp;</th>\n",
       "      <th class=\"blank col7\" >&nbsp;</th>\n",
       "      <th class=\"blank col8\" >&nbsp;</th>\n",
       "      <th class=\"blank col9\" >&nbsp;</th>\n",
       "      <th class=\"blank col10\" >&nbsp;</th>\n",
       "      <th class=\"blank col11\" >&nbsp;</th>\n",
       "      <th class=\"blank col12\" >&nbsp;</th>\n",
       "      <th class=\"blank col13\" >&nbsp;</th>\n",
       "      <th class=\"blank col14\" >&nbsp;</th>\n",
       "      <th class=\"blank col15\" >&nbsp;</th>\n",
       "      <th class=\"blank col16\" >&nbsp;</th>\n",
       "      <th class=\"blank col17\" >&nbsp;</th>\n",
       "    </tr>\n",
       "  </thead>\n",
       "  <tbody>\n",
       "    <tr>\n",
       "      <th id=\"T_0edb2_level0_row0\" class=\"row_heading level0 row0\" >1024-GUALD</th>\n",
       "      <td id=\"T_0edb2_row0_col0\" class=\"data row0 col0\" >Month-to-month</td>\n",
       "      <td id=\"T_0edb2_row0_col1\" class=\"data row0 col1\" >Yes</td>\n",
       "      <td id=\"T_0edb2_row0_col2\" class=\"data row0 col2\" >Electronic check</td>\n",
       "      <td id=\"T_0edb2_row0_col3\" class=\"data row0 col3\" >24.800000</td>\n",
       "      <td id=\"T_0edb2_row0_col4\" class=\"data row0 col4\" >31</td>\n",
       "      <td id=\"T_0edb2_row0_col5\" class=\"data row0 col5\" >1</td>\n",
       "      <td id=\"T_0edb2_row0_col6\" class=\"data row0 col6\" >Female</td>\n",
       "      <td id=\"T_0edb2_row0_col7\" class=\"data row0 col7\" >0</td>\n",
       "      <td id=\"T_0edb2_row0_col8\" class=\"data row0 col8\" >Yes</td>\n",
       "      <td id=\"T_0edb2_row0_col9\" class=\"data row0 col9\" >No</td>\n",
       "      <td id=\"T_0edb2_row0_col10\" class=\"data row0 col10\" >DSL</td>\n",
       "      <td id=\"T_0edb2_row0_col11\" class=\"data row0 col11\" >No</td>\n",
       "      <td id=\"T_0edb2_row0_col12\" class=\"data row0 col12\" >No</td>\n",
       "      <td id=\"T_0edb2_row0_col13\" class=\"data row0 col13\" >No</td>\n",
       "      <td id=\"T_0edb2_row0_col14\" class=\"data row0 col14\" >No</td>\n",
       "      <td id=\"T_0edb2_row0_col15\" class=\"data row0 col15\" >No</td>\n",
       "      <td id=\"T_0edb2_row0_col16\" class=\"data row0 col16\" >No</td>\n",
       "      <td id=\"T_0edb2_row0_col17\" class=\"data row0 col17\" >nan</td>\n",
       "    </tr>\n",
       "    <tr>\n",
       "      <th id=\"T_0edb2_level0_row1\" class=\"row_heading level0 row1\" >0484-JPBRU</th>\n",
       "      <td id=\"T_0edb2_row1_col0\" class=\"data row1 col0\" >Month-to-month</td>\n",
       "      <td id=\"T_0edb2_row1_col1\" class=\"data row1 col1\" >Yes</td>\n",
       "      <td id=\"T_0edb2_row1_col2\" class=\"data row1 col2\" >Bank transfer (automatic)</td>\n",
       "      <td id=\"T_0edb2_row1_col3\" class=\"data row1 col3\" >25.250000</td>\n",
       "      <td id=\"T_0edb2_row1_col4\" class=\"data row1 col4\" >1248</td>\n",
       "      <td id=\"T_0edb2_row1_col5\" class=\"data row1 col5\" >0</td>\n",
       "      <td id=\"T_0edb2_row1_col6\" class=\"data row1 col6\" >Male</td>\n",
       "      <td id=\"T_0edb2_row1_col7\" class=\"data row1 col7\" >0</td>\n",
       "      <td id=\"T_0edb2_row1_col8\" class=\"data row1 col8\" >No</td>\n",
       "      <td id=\"T_0edb2_row1_col9\" class=\"data row1 col9\" >No</td>\n",
       "      <td id=\"T_0edb2_row1_col10\" class=\"data row1 col10\" >nan</td>\n",
       "      <td id=\"T_0edb2_row1_col11\" class=\"data row1 col11\" >nan</td>\n",
       "      <td id=\"T_0edb2_row1_col12\" class=\"data row1 col12\" >nan</td>\n",
       "      <td id=\"T_0edb2_row1_col13\" class=\"data row1 col13\" >nan</td>\n",
       "      <td id=\"T_0edb2_row1_col14\" class=\"data row1 col14\" >nan</td>\n",
       "      <td id=\"T_0edb2_row1_col15\" class=\"data row1 col15\" >nan</td>\n",
       "      <td id=\"T_0edb2_row1_col16\" class=\"data row1 col16\" >nan</td>\n",
       "      <td id=\"T_0edb2_row1_col17\" class=\"data row1 col17\" >Yes</td>\n",
       "    </tr>\n",
       "    <tr>\n",
       "      <th id=\"T_0edb2_level0_row2\" class=\"row_heading level0 row2\" >3620-EHIMZ</th>\n",
       "      <td id=\"T_0edb2_row2_col0\" class=\"data row2 col0\" >Two year</td>\n",
       "      <td id=\"T_0edb2_row2_col1\" class=\"data row2 col1\" >No</td>\n",
       "      <td id=\"T_0edb2_row2_col2\" class=\"data row2 col2\" >Mailed check</td>\n",
       "      <td id=\"T_0edb2_row2_col3\" class=\"data row2 col3\" >19.350000</td>\n",
       "      <td id=\"T_0edb2_row2_col4\" class=\"data row2 col4\" >1584</td>\n",
       "      <td id=\"T_0edb2_row2_col5\" class=\"data row2 col5\" >0</td>\n",
       "      <td id=\"T_0edb2_row2_col6\" class=\"data row2 col6\" >Female</td>\n",
       "      <td id=\"T_0edb2_row2_col7\" class=\"data row2 col7\" >0</td>\n",
       "      <td id=\"T_0edb2_row2_col8\" class=\"data row2 col8\" >Yes</td>\n",
       "      <td id=\"T_0edb2_row2_col9\" class=\"data row2 col9\" >Yes</td>\n",
       "      <td id=\"T_0edb2_row2_col10\" class=\"data row2 col10\" >nan</td>\n",
       "      <td id=\"T_0edb2_row2_col11\" class=\"data row2 col11\" >nan</td>\n",
       "      <td id=\"T_0edb2_row2_col12\" class=\"data row2 col12\" >nan</td>\n",
       "      <td id=\"T_0edb2_row2_col13\" class=\"data row2 col13\" >nan</td>\n",
       "      <td id=\"T_0edb2_row2_col14\" class=\"data row2 col14\" >nan</td>\n",
       "      <td id=\"T_0edb2_row2_col15\" class=\"data row2 col15\" >nan</td>\n",
       "      <td id=\"T_0edb2_row2_col16\" class=\"data row2 col16\" >nan</td>\n",
       "      <td id=\"T_0edb2_row2_col17\" class=\"data row2 col17\" >No</td>\n",
       "    </tr>\n",
       "    <tr>\n",
       "      <th id=\"T_0edb2_level0_row3\" class=\"row_heading level0 row3\" >6910-HADCM</th>\n",
       "      <td id=\"T_0edb2_row3_col0\" class=\"data row3 col0\" >Month-to-month</td>\n",
       "      <td id=\"T_0edb2_row3_col1\" class=\"data row3 col1\" >No</td>\n",
       "      <td id=\"T_0edb2_row3_col2\" class=\"data row3 col2\" >Electronic check</td>\n",
       "      <td id=\"T_0edb2_row3_col3\" class=\"data row3 col3\" >76.350000</td>\n",
       "      <td id=\"T_0edb2_row3_col4\" class=\"data row3 col4\" >30</td>\n",
       "      <td id=\"T_0edb2_row3_col5\" class=\"data row3 col5\" >1</td>\n",
       "      <td id=\"T_0edb2_row3_col6\" class=\"data row3 col6\" >Female</td>\n",
       "      <td id=\"T_0edb2_row3_col7\" class=\"data row3 col7\" >0</td>\n",
       "      <td id=\"T_0edb2_row3_col8\" class=\"data row3 col8\" >No</td>\n",
       "      <td id=\"T_0edb2_row3_col9\" class=\"data row3 col9\" >No</td>\n",
       "      <td id=\"T_0edb2_row3_col10\" class=\"data row3 col10\" >Fiber optic</td>\n",
       "      <td id=\"T_0edb2_row3_col11\" class=\"data row3 col11\" >No</td>\n",
       "      <td id=\"T_0edb2_row3_col12\" class=\"data row3 col12\" >No</td>\n",
       "      <td id=\"T_0edb2_row3_col13\" class=\"data row3 col13\" >Yes</td>\n",
       "      <td id=\"T_0edb2_row3_col14\" class=\"data row3 col14\" >No</td>\n",
       "      <td id=\"T_0edb2_row3_col15\" class=\"data row3 col15\" >No</td>\n",
       "      <td id=\"T_0edb2_row3_col16\" class=\"data row3 col16\" >No</td>\n",
       "      <td id=\"T_0edb2_row3_col17\" class=\"data row3 col17\" >No</td>\n",
       "    </tr>\n",
       "    <tr>\n",
       "      <th id=\"T_0edb2_level0_row4\" class=\"row_heading level0 row4\" >8587-XYZSF</th>\n",
       "      <td id=\"T_0edb2_row4_col0\" class=\"data row4 col0\" >Two year</td>\n",
       "      <td id=\"T_0edb2_row4_col1\" class=\"data row4 col1\" >No</td>\n",
       "      <td id=\"T_0edb2_row4_col2\" class=\"data row4 col2\" >Bank transfer (automatic)</td>\n",
       "      <td id=\"T_0edb2_row4_col3\" class=\"data row4 col3\" >50.550000</td>\n",
       "      <td id=\"T_0edb2_row4_col4\" class=\"data row4 col4\" >2041</td>\n",
       "      <td id=\"T_0edb2_row4_col5\" class=\"data row4 col5\" >0</td>\n",
       "      <td id=\"T_0edb2_row4_col6\" class=\"data row4 col6\" >Male</td>\n",
       "      <td id=\"T_0edb2_row4_col7\" class=\"data row4 col7\" >0</td>\n",
       "      <td id=\"T_0edb2_row4_col8\" class=\"data row4 col8\" >No</td>\n",
       "      <td id=\"T_0edb2_row4_col9\" class=\"data row4 col9\" >No</td>\n",
       "      <td id=\"T_0edb2_row4_col10\" class=\"data row4 col10\" >DSL</td>\n",
       "      <td id=\"T_0edb2_row4_col11\" class=\"data row4 col11\" >No</td>\n",
       "      <td id=\"T_0edb2_row4_col12\" class=\"data row4 col12\" >No</td>\n",
       "      <td id=\"T_0edb2_row4_col13\" class=\"data row4 col13\" >No</td>\n",
       "      <td id=\"T_0edb2_row4_col14\" class=\"data row4 col14\" >Yes</td>\n",
       "      <td id=\"T_0edb2_row4_col15\" class=\"data row4 col15\" >No</td>\n",
       "      <td id=\"T_0edb2_row4_col16\" class=\"data row4 col16\" >No</td>\n",
       "      <td id=\"T_0edb2_row4_col17\" class=\"data row4 col17\" >No</td>\n",
       "    </tr>\n",
       "    <tr>\n",
       "      <th id=\"T_0edb2_level0_row5\" class=\"row_heading level0 row5\" >6818-WOBHJ</th>\n",
       "      <td id=\"T_0edb2_row5_col0\" class=\"data row5 col0\" >Month-to-month</td>\n",
       "      <td id=\"T_0edb2_row5_col1\" class=\"data row5 col1\" >Yes</td>\n",
       "      <td id=\"T_0edb2_row5_col2\" class=\"data row5 col2\" >Bank transfer (automatic)</td>\n",
       "      <td id=\"T_0edb2_row5_col3\" class=\"data row5 col3\" >89.600000</td>\n",
       "      <td id=\"T_0edb2_row5_col4\" class=\"data row5 col4\" >2071</td>\n",
       "      <td id=\"T_0edb2_row5_col5\" class=\"data row5 col5\" >1</td>\n",
       "      <td id=\"T_0edb2_row5_col6\" class=\"data row5 col6\" >Female</td>\n",
       "      <td id=\"T_0edb2_row5_col7\" class=\"data row5 col7\" >1</td>\n",
       "      <td id=\"T_0edb2_row5_col8\" class=\"data row5 col8\" >Yes</td>\n",
       "      <td id=\"T_0edb2_row5_col9\" class=\"data row5 col9\" >No</td>\n",
       "      <td id=\"T_0edb2_row5_col10\" class=\"data row5 col10\" >Fiber optic</td>\n",
       "      <td id=\"T_0edb2_row5_col11\" class=\"data row5 col11\" >No</td>\n",
       "      <td id=\"T_0edb2_row5_col12\" class=\"data row5 col12\" >Yes</td>\n",
       "      <td id=\"T_0edb2_row5_col13\" class=\"data row5 col13\" >No</td>\n",
       "      <td id=\"T_0edb2_row5_col14\" class=\"data row5 col14\" >No</td>\n",
       "      <td id=\"T_0edb2_row5_col15\" class=\"data row5 col15\" >No</td>\n",
       "      <td id=\"T_0edb2_row5_col16\" class=\"data row5 col16\" >Yes</td>\n",
       "      <td id=\"T_0edb2_row5_col17\" class=\"data row5 col17\" >Yes</td>\n",
       "    </tr>\n",
       "    <tr>\n",
       "      <th id=\"T_0edb2_level0_row6\" class=\"row_heading level0 row6\" >3082-YVEKW</th>\n",
       "      <td id=\"T_0edb2_row6_col0\" class=\"data row6 col0\" >Two year</td>\n",
       "      <td id=\"T_0edb2_row6_col1\" class=\"data row6 col1\" >Yes</td>\n",
       "      <td id=\"T_0edb2_row6_col2\" class=\"data row6 col2\" >Bank transfer (automatic)</td>\n",
       "      <td id=\"T_0edb2_row6_col3\" class=\"data row6 col3\" >77.150000</td>\n",
       "      <td id=\"T_0edb2_row6_col4\" class=\"data row6 col4\" >702</td>\n",
       "      <td id=\"T_0edb2_row6_col5\" class=\"data row6 col5\" >0</td>\n",
       "      <td id=\"T_0edb2_row6_col6\" class=\"data row6 col6\" >Female</td>\n",
       "      <td id=\"T_0edb2_row6_col7\" class=\"data row6 col7\" >0</td>\n",
       "      <td id=\"T_0edb2_row6_col8\" class=\"data row6 col8\" >Yes</td>\n",
       "      <td id=\"T_0edb2_row6_col9\" class=\"data row6 col9\" >Yes</td>\n",
       "      <td id=\"T_0edb2_row6_col10\" class=\"data row6 col10\" >DSL</td>\n",
       "      <td id=\"T_0edb2_row6_col11\" class=\"data row6 col11\" >Yes</td>\n",
       "      <td id=\"T_0edb2_row6_col12\" class=\"data row6 col12\" >No</td>\n",
       "      <td id=\"T_0edb2_row6_col13\" class=\"data row6 col13\" >Yes</td>\n",
       "      <td id=\"T_0edb2_row6_col14\" class=\"data row6 col14\" >Yes</td>\n",
       "      <td id=\"T_0edb2_row6_col15\" class=\"data row6 col15\" >Yes</td>\n",
       "      <td id=\"T_0edb2_row6_col16\" class=\"data row6 col16\" >No</td>\n",
       "      <td id=\"T_0edb2_row6_col17\" class=\"data row6 col17\" >Yes</td>\n",
       "    </tr>\n",
       "    <tr>\n",
       "      <th id=\"T_0edb2_level0_row7\" class=\"row_heading level0 row7\" >4737-AQCPU</th>\n",
       "      <td id=\"T_0edb2_row7_col0\" class=\"data row7 col0\" >Two year</td>\n",
       "      <td id=\"T_0edb2_row7_col1\" class=\"data row7 col1\" >No</td>\n",
       "      <td id=\"T_0edb2_row7_col2\" class=\"data row7 col2\" >Credit card (automatic)</td>\n",
       "      <td id=\"T_0edb2_row7_col3\" class=\"data row7 col3\" >72.100000</td>\n",
       "      <td id=\"T_0edb2_row7_col4\" class=\"data row7 col4\" >2191</td>\n",
       "      <td id=\"T_0edb2_row7_col5\" class=\"data row7 col5\" >0</td>\n",
       "      <td id=\"T_0edb2_row7_col6\" class=\"data row7 col6\" >Male</td>\n",
       "      <td id=\"T_0edb2_row7_col7\" class=\"data row7 col7\" >0</td>\n",
       "      <td id=\"T_0edb2_row7_col8\" class=\"data row7 col8\" >Yes</td>\n",
       "      <td id=\"T_0edb2_row7_col9\" class=\"data row7 col9\" >Yes</td>\n",
       "      <td id=\"T_0edb2_row7_col10\" class=\"data row7 col10\" >DSL</td>\n",
       "      <td id=\"T_0edb2_row7_col11\" class=\"data row7 col11\" >Yes</td>\n",
       "      <td id=\"T_0edb2_row7_col12\" class=\"data row7 col12\" >Yes</td>\n",
       "      <td id=\"T_0edb2_row7_col13\" class=\"data row7 col13\" >Yes</td>\n",
       "      <td id=\"T_0edb2_row7_col14\" class=\"data row7 col14\" >Yes</td>\n",
       "      <td id=\"T_0edb2_row7_col15\" class=\"data row7 col15\" >No</td>\n",
       "      <td id=\"T_0edb2_row7_col16\" class=\"data row7 col16\" >No</td>\n",
       "      <td id=\"T_0edb2_row7_col17\" class=\"data row7 col17\" >Yes</td>\n",
       "    </tr>\n",
       "    <tr>\n",
       "      <th id=\"T_0edb2_level0_row8\" class=\"row_heading level0 row8\" >4853-RULSV</th>\n",
       "      <td id=\"T_0edb2_row8_col0\" class=\"data row8 col0\" >Two year</td>\n",
       "      <td id=\"T_0edb2_row8_col1\" class=\"data row8 col1\" >Yes</td>\n",
       "      <td id=\"T_0edb2_row8_col2\" class=\"data row8 col2\" >Credit card (automatic)</td>\n",
       "      <td id=\"T_0edb2_row8_col3\" class=\"data row8 col3\" >104.000000</td>\n",
       "      <td id=\"T_0edb2_row8_col4\" class=\"data row8 col4\" >2129</td>\n",
       "      <td id=\"T_0edb2_row8_col5\" class=\"data row8 col5\" >1</td>\n",
       "      <td id=\"T_0edb2_row8_col6\" class=\"data row8 col6\" >Male</td>\n",
       "      <td id=\"T_0edb2_row8_col7\" class=\"data row8 col7\" >0</td>\n",
       "      <td id=\"T_0edb2_row8_col8\" class=\"data row8 col8\" >No</td>\n",
       "      <td id=\"T_0edb2_row8_col9\" class=\"data row8 col9\" >No</td>\n",
       "      <td id=\"T_0edb2_row8_col10\" class=\"data row8 col10\" >Fiber optic</td>\n",
       "      <td id=\"T_0edb2_row8_col11\" class=\"data row8 col11\" >Yes</td>\n",
       "      <td id=\"T_0edb2_row8_col12\" class=\"data row8 col12\" >No</td>\n",
       "      <td id=\"T_0edb2_row8_col13\" class=\"data row8 col13\" >No</td>\n",
       "      <td id=\"T_0edb2_row8_col14\" class=\"data row8 col14\" >Yes</td>\n",
       "      <td id=\"T_0edb2_row8_col15\" class=\"data row8 col15\" >Yes</td>\n",
       "      <td id=\"T_0edb2_row8_col16\" class=\"data row8 col16\" >Yes</td>\n",
       "      <td id=\"T_0edb2_row8_col17\" class=\"data row8 col17\" >Yes</td>\n",
       "    </tr>\n",
       "    <tr>\n",
       "      <th id=\"T_0edb2_level0_row9\" class=\"row_heading level0 row9\" >5766-ZJYBB</th>\n",
       "      <td id=\"T_0edb2_row9_col0\" class=\"data row9 col0\" >Month-to-month</td>\n",
       "      <td id=\"T_0edb2_row9_col1\" class=\"data row9 col1\" >No</td>\n",
       "      <td id=\"T_0edb2_row9_col2\" class=\"data row9 col2\" >Mailed check</td>\n",
       "      <td id=\"T_0edb2_row9_col3\" class=\"data row9 col3\" >19.400000</td>\n",
       "      <td id=\"T_0edb2_row9_col4\" class=\"data row9 col4\" >30</td>\n",
       "      <td id=\"T_0edb2_row9_col5\" class=\"data row9 col5\" >1</td>\n",
       "      <td id=\"T_0edb2_row9_col6\" class=\"data row9 col6\" >Male</td>\n",
       "      <td id=\"T_0edb2_row9_col7\" class=\"data row9 col7\" >0</td>\n",
       "      <td id=\"T_0edb2_row9_col8\" class=\"data row9 col8\" >No</td>\n",
       "      <td id=\"T_0edb2_row9_col9\" class=\"data row9 col9\" >No</td>\n",
       "      <td id=\"T_0edb2_row9_col10\" class=\"data row9 col10\" >nan</td>\n",
       "      <td id=\"T_0edb2_row9_col11\" class=\"data row9 col11\" >nan</td>\n",
       "      <td id=\"T_0edb2_row9_col12\" class=\"data row9 col12\" >nan</td>\n",
       "      <td id=\"T_0edb2_row9_col13\" class=\"data row9 col13\" >nan</td>\n",
       "      <td id=\"T_0edb2_row9_col14\" class=\"data row9 col14\" >nan</td>\n",
       "      <td id=\"T_0edb2_row9_col15\" class=\"data row9 col15\" >nan</td>\n",
       "      <td id=\"T_0edb2_row9_col16\" class=\"data row9 col16\" >nan</td>\n",
       "      <td id=\"T_0edb2_row9_col17\" class=\"data row9 col17\" >No</td>\n",
       "    </tr>\n",
       "  </tbody>\n",
       "</table>\n",
       "   <style type=\"text/css\">\n",
       "</style>\n",
       "<table id=\"T_ad568_\" style='display:inline'>\n",
       "  <caption>Последние 10 строк</caption>\n",
       "  <thead>\n",
       "    <tr>\n",
       "      <th class=\"blank level0\" >&nbsp;</th>\n",
       "      <th class=\"col_heading level0 col0\" >Type</th>\n",
       "      <th class=\"col_heading level0 col1\" >PaperlessBilling</th>\n",
       "      <th class=\"col_heading level0 col2\" >PaymentMethod</th>\n",
       "      <th class=\"col_heading level0 col3\" >MonthlyCharges</th>\n",
       "      <th class=\"col_heading level0 col4\" >LTDays</th>\n",
       "      <th class=\"col_heading level0 col5\" >Exited</th>\n",
       "      <th class=\"col_heading level0 col6\" >gender</th>\n",
       "      <th class=\"col_heading level0 col7\" >SeniorCitizen</th>\n",
       "      <th class=\"col_heading level0 col8\" >Partner</th>\n",
       "      <th class=\"col_heading level0 col9\" >Dependents</th>\n",
       "      <th class=\"col_heading level0 col10\" >InternetService</th>\n",
       "      <th class=\"col_heading level0 col11\" >OnlineSecurity</th>\n",
       "      <th class=\"col_heading level0 col12\" >OnlineBackup</th>\n",
       "      <th class=\"col_heading level0 col13\" >DeviceProtection</th>\n",
       "      <th class=\"col_heading level0 col14\" >TechSupport</th>\n",
       "      <th class=\"col_heading level0 col15\" >StreamingTV</th>\n",
       "      <th class=\"col_heading level0 col16\" >StreamingMovies</th>\n",
       "      <th class=\"col_heading level0 col17\" >MultipleLines</th>\n",
       "    </tr>\n",
       "    <tr>\n",
       "      <th class=\"index_name level0\" >customerID</th>\n",
       "      <th class=\"blank col0\" >&nbsp;</th>\n",
       "      <th class=\"blank col1\" >&nbsp;</th>\n",
       "      <th class=\"blank col2\" >&nbsp;</th>\n",
       "      <th class=\"blank col3\" >&nbsp;</th>\n",
       "      <th class=\"blank col4\" >&nbsp;</th>\n",
       "      <th class=\"blank col5\" >&nbsp;</th>\n",
       "      <th class=\"blank col6\" >&nbsp;</th>\n",
       "      <th class=\"blank col7\" >&nbsp;</th>\n",
       "      <th class=\"blank col8\" >&nbsp;</th>\n",
       "      <th class=\"blank col9\" >&nbsp;</th>\n",
       "      <th class=\"blank col10\" >&nbsp;</th>\n",
       "      <th class=\"blank col11\" >&nbsp;</th>\n",
       "      <th class=\"blank col12\" >&nbsp;</th>\n",
       "      <th class=\"blank col13\" >&nbsp;</th>\n",
       "      <th class=\"blank col14\" >&nbsp;</th>\n",
       "      <th class=\"blank col15\" >&nbsp;</th>\n",
       "      <th class=\"blank col16\" >&nbsp;</th>\n",
       "      <th class=\"blank col17\" >&nbsp;</th>\n",
       "    </tr>\n",
       "  </thead>\n",
       "  <tbody>\n",
       "    <tr>\n",
       "      <th id=\"T_ad568_level0_row0\" class=\"row_heading level0 row0\" >9767-FFLEM</th>\n",
       "      <td id=\"T_ad568_row0_col0\" class=\"data row0 col0\" >Month-to-month</td>\n",
       "      <td id=\"T_ad568_row0_col1\" class=\"data row0 col1\" >Yes</td>\n",
       "      <td id=\"T_ad568_row0_col2\" class=\"data row0 col2\" >Credit card (automatic)</td>\n",
       "      <td id=\"T_ad568_row0_col3\" class=\"data row0 col3\" >69.500000</td>\n",
       "      <td id=\"T_ad568_row0_col4\" class=\"data row0 col4\" >1157</td>\n",
       "      <td id=\"T_ad568_row0_col5\" class=\"data row0 col5\" >0</td>\n",
       "      <td id=\"T_ad568_row0_col6\" class=\"data row0 col6\" >Male</td>\n",
       "      <td id=\"T_ad568_row0_col7\" class=\"data row0 col7\" >0</td>\n",
       "      <td id=\"T_ad568_row0_col8\" class=\"data row0 col8\" >No</td>\n",
       "      <td id=\"T_ad568_row0_col9\" class=\"data row0 col9\" >No</td>\n",
       "      <td id=\"T_ad568_row0_col10\" class=\"data row0 col10\" >Fiber optic</td>\n",
       "      <td id=\"T_ad568_row0_col11\" class=\"data row0 col11\" >No</td>\n",
       "      <td id=\"T_ad568_row0_col12\" class=\"data row0 col12\" >No</td>\n",
       "      <td id=\"T_ad568_row0_col13\" class=\"data row0 col13\" >No</td>\n",
       "      <td id=\"T_ad568_row0_col14\" class=\"data row0 col14\" >No</td>\n",
       "      <td id=\"T_ad568_row0_col15\" class=\"data row0 col15\" >No</td>\n",
       "      <td id=\"T_ad568_row0_col16\" class=\"data row0 col16\" >No</td>\n",
       "      <td id=\"T_ad568_row0_col17\" class=\"data row0 col17\" >No</td>\n",
       "    </tr>\n",
       "    <tr>\n",
       "      <th id=\"T_ad568_level0_row1\" class=\"row_heading level0 row1\" >0639-TSIQW</th>\n",
       "      <td id=\"T_ad568_row1_col0\" class=\"data row1 col0\" >Month-to-month</td>\n",
       "      <td id=\"T_ad568_row1_col1\" class=\"data row1 col1\" >Yes</td>\n",
       "      <td id=\"T_ad568_row1_col2\" class=\"data row1 col2\" >Credit card (automatic)</td>\n",
       "      <td id=\"T_ad568_row1_col3\" class=\"data row1 col3\" >102.950000</td>\n",
       "      <td id=\"T_ad568_row1_col4\" class=\"data row1 col4\" >2040</td>\n",
       "      <td id=\"T_ad568_row1_col5\" class=\"data row1 col5\" >1</td>\n",
       "      <td id=\"T_ad568_row1_col6\" class=\"data row1 col6\" >Female</td>\n",
       "      <td id=\"T_ad568_row1_col7\" class=\"data row1 col7\" >0</td>\n",
       "      <td id=\"T_ad568_row1_col8\" class=\"data row1 col8\" >No</td>\n",
       "      <td id=\"T_ad568_row1_col9\" class=\"data row1 col9\" >No</td>\n",
       "      <td id=\"T_ad568_row1_col10\" class=\"data row1 col10\" >Fiber optic</td>\n",
       "      <td id=\"T_ad568_row1_col11\" class=\"data row1 col11\" >Yes</td>\n",
       "      <td id=\"T_ad568_row1_col12\" class=\"data row1 col12\" >Yes</td>\n",
       "      <td id=\"T_ad568_row1_col13\" class=\"data row1 col13\" >Yes</td>\n",
       "      <td id=\"T_ad568_row1_col14\" class=\"data row1 col14\" >No</td>\n",
       "      <td id=\"T_ad568_row1_col15\" class=\"data row1 col15\" >Yes</td>\n",
       "      <td id=\"T_ad568_row1_col16\" class=\"data row1 col16\" >No</td>\n",
       "      <td id=\"T_ad568_row1_col17\" class=\"data row1 col17\" >Yes</td>\n",
       "    </tr>\n",
       "    <tr>\n",
       "      <th id=\"T_ad568_level0_row2\" class=\"row_heading level0 row2\" >8456-QDAVC</th>\n",
       "      <td id=\"T_ad568_row2_col0\" class=\"data row2 col0\" >Month-to-month</td>\n",
       "      <td id=\"T_ad568_row2_col1\" class=\"data row2 col1\" >Yes</td>\n",
       "      <td id=\"T_ad568_row2_col2\" class=\"data row2 col2\" >Bank transfer (automatic)</td>\n",
       "      <td id=\"T_ad568_row2_col3\" class=\"data row2 col3\" >78.700000</td>\n",
       "      <td id=\"T_ad568_row2_col4\" class=\"data row2 col4\" >580</td>\n",
       "      <td id=\"T_ad568_row2_col5\" class=\"data row2 col5\" >0</td>\n",
       "      <td id=\"T_ad568_row2_col6\" class=\"data row2 col6\" >Male</td>\n",
       "      <td id=\"T_ad568_row2_col7\" class=\"data row2 col7\" >0</td>\n",
       "      <td id=\"T_ad568_row2_col8\" class=\"data row2 col8\" >No</td>\n",
       "      <td id=\"T_ad568_row2_col9\" class=\"data row2 col9\" >No</td>\n",
       "      <td id=\"T_ad568_row2_col10\" class=\"data row2 col10\" >Fiber optic</td>\n",
       "      <td id=\"T_ad568_row2_col11\" class=\"data row2 col11\" >No</td>\n",
       "      <td id=\"T_ad568_row2_col12\" class=\"data row2 col12\" >No</td>\n",
       "      <td id=\"T_ad568_row2_col13\" class=\"data row2 col13\" >No</td>\n",
       "      <td id=\"T_ad568_row2_col14\" class=\"data row2 col14\" >No</td>\n",
       "      <td id=\"T_ad568_row2_col15\" class=\"data row2 col15\" >Yes</td>\n",
       "      <td id=\"T_ad568_row2_col16\" class=\"data row2 col16\" >No</td>\n",
       "      <td id=\"T_ad568_row2_col17\" class=\"data row2 col17\" >No</td>\n",
       "    </tr>\n",
       "    <tr>\n",
       "      <th id=\"T_ad568_level0_row3\" class=\"row_heading level0 row3\" >7750-EYXWZ</th>\n",
       "      <td id=\"T_ad568_row3_col0\" class=\"data row3 col0\" >One year</td>\n",
       "      <td id=\"T_ad568_row3_col1\" class=\"data row3 col1\" >No</td>\n",
       "      <td id=\"T_ad568_row3_col2\" class=\"data row3 col2\" >Electronic check</td>\n",
       "      <td id=\"T_ad568_row3_col3\" class=\"data row3 col3\" >60.650000</td>\n",
       "      <td id=\"T_ad568_row3_col4\" class=\"data row3 col4\" >365</td>\n",
       "      <td id=\"T_ad568_row3_col5\" class=\"data row3 col5\" >0</td>\n",
       "      <td id=\"T_ad568_row3_col6\" class=\"data row3 col6\" >Female</td>\n",
       "      <td id=\"T_ad568_row3_col7\" class=\"data row3 col7\" >0</td>\n",
       "      <td id=\"T_ad568_row3_col8\" class=\"data row3 col8\" >No</td>\n",
       "      <td id=\"T_ad568_row3_col9\" class=\"data row3 col9\" >No</td>\n",
       "      <td id=\"T_ad568_row3_col10\" class=\"data row3 col10\" >DSL</td>\n",
       "      <td id=\"T_ad568_row3_col11\" class=\"data row3 col11\" >No</td>\n",
       "      <td id=\"T_ad568_row3_col12\" class=\"data row3 col12\" >Yes</td>\n",
       "      <td id=\"T_ad568_row3_col13\" class=\"data row3 col13\" >Yes</td>\n",
       "      <td id=\"T_ad568_row3_col14\" class=\"data row3 col14\" >Yes</td>\n",
       "      <td id=\"T_ad568_row3_col15\" class=\"data row3 col15\" >Yes</td>\n",
       "      <td id=\"T_ad568_row3_col16\" class=\"data row3 col16\" >Yes</td>\n",
       "      <td id=\"T_ad568_row3_col17\" class=\"data row3 col17\" >nan</td>\n",
       "    </tr>\n",
       "    <tr>\n",
       "      <th id=\"T_ad568_level0_row4\" class=\"row_heading level0 row4\" >2569-WGERO</th>\n",
       "      <td id=\"T_ad568_row4_col0\" class=\"data row4 col0\" >Two year</td>\n",
       "      <td id=\"T_ad568_row4_col1\" class=\"data row4 col1\" >Yes</td>\n",
       "      <td id=\"T_ad568_row4_col2\" class=\"data row4 col2\" >Bank transfer (automatic)</td>\n",
       "      <td id=\"T_ad568_row4_col3\" class=\"data row4 col3\" >21.150000</td>\n",
       "      <td id=\"T_ad568_row4_col4\" class=\"data row4 col4\" >2191</td>\n",
       "      <td id=\"T_ad568_row4_col5\" class=\"data row4 col5\" >0</td>\n",
       "      <td id=\"T_ad568_row4_col6\" class=\"data row4 col6\" >Female</td>\n",
       "      <td id=\"T_ad568_row4_col7\" class=\"data row4 col7\" >0</td>\n",
       "      <td id=\"T_ad568_row4_col8\" class=\"data row4 col8\" >No</td>\n",
       "      <td id=\"T_ad568_row4_col9\" class=\"data row4 col9\" >No</td>\n",
       "      <td id=\"T_ad568_row4_col10\" class=\"data row4 col10\" >nan</td>\n",
       "      <td id=\"T_ad568_row4_col11\" class=\"data row4 col11\" >nan</td>\n",
       "      <td id=\"T_ad568_row4_col12\" class=\"data row4 col12\" >nan</td>\n",
       "      <td id=\"T_ad568_row4_col13\" class=\"data row4 col13\" >nan</td>\n",
       "      <td id=\"T_ad568_row4_col14\" class=\"data row4 col14\" >nan</td>\n",
       "      <td id=\"T_ad568_row4_col15\" class=\"data row4 col15\" >nan</td>\n",
       "      <td id=\"T_ad568_row4_col16\" class=\"data row4 col16\" >nan</td>\n",
       "      <td id=\"T_ad568_row4_col17\" class=\"data row4 col17\" >No</td>\n",
       "    </tr>\n",
       "    <tr>\n",
       "      <th id=\"T_ad568_level0_row5\" class=\"row_heading level0 row5\" >6840-RESVB</th>\n",
       "      <td id=\"T_ad568_row5_col0\" class=\"data row5 col0\" >One year</td>\n",
       "      <td id=\"T_ad568_row5_col1\" class=\"data row5 col1\" >Yes</td>\n",
       "      <td id=\"T_ad568_row5_col2\" class=\"data row5 col2\" >Mailed check</td>\n",
       "      <td id=\"T_ad568_row5_col3\" class=\"data row5 col3\" >84.800000</td>\n",
       "      <td id=\"T_ad568_row5_col4\" class=\"data row5 col4\" >730</td>\n",
       "      <td id=\"T_ad568_row5_col5\" class=\"data row5 col5\" >0</td>\n",
       "      <td id=\"T_ad568_row5_col6\" class=\"data row5 col6\" >Male</td>\n",
       "      <td id=\"T_ad568_row5_col7\" class=\"data row5 col7\" >0</td>\n",
       "      <td id=\"T_ad568_row5_col8\" class=\"data row5 col8\" >Yes</td>\n",
       "      <td id=\"T_ad568_row5_col9\" class=\"data row5 col9\" >Yes</td>\n",
       "      <td id=\"T_ad568_row5_col10\" class=\"data row5 col10\" >DSL</td>\n",
       "      <td id=\"T_ad568_row5_col11\" class=\"data row5 col11\" >Yes</td>\n",
       "      <td id=\"T_ad568_row5_col12\" class=\"data row5 col12\" >No</td>\n",
       "      <td id=\"T_ad568_row5_col13\" class=\"data row5 col13\" >Yes</td>\n",
       "      <td id=\"T_ad568_row5_col14\" class=\"data row5 col14\" >Yes</td>\n",
       "      <td id=\"T_ad568_row5_col15\" class=\"data row5 col15\" >Yes</td>\n",
       "      <td id=\"T_ad568_row5_col16\" class=\"data row5 col16\" >Yes</td>\n",
       "      <td id=\"T_ad568_row5_col17\" class=\"data row5 col17\" >Yes</td>\n",
       "    </tr>\n",
       "    <tr>\n",
       "      <th id=\"T_ad568_level0_row6\" class=\"row_heading level0 row6\" >2234-XADUH</th>\n",
       "      <td id=\"T_ad568_row6_col0\" class=\"data row6 col0\" >One year</td>\n",
       "      <td id=\"T_ad568_row6_col1\" class=\"data row6 col1\" >Yes</td>\n",
       "      <td id=\"T_ad568_row6_col2\" class=\"data row6 col2\" >Credit card (automatic)</td>\n",
       "      <td id=\"T_ad568_row6_col3\" class=\"data row6 col3\" >103.200000</td>\n",
       "      <td id=\"T_ad568_row6_col4\" class=\"data row6 col4\" >2191</td>\n",
       "      <td id=\"T_ad568_row6_col5\" class=\"data row6 col5\" >0</td>\n",
       "      <td id=\"T_ad568_row6_col6\" class=\"data row6 col6\" >Female</td>\n",
       "      <td id=\"T_ad568_row6_col7\" class=\"data row6 col7\" >0</td>\n",
       "      <td id=\"T_ad568_row6_col8\" class=\"data row6 col8\" >Yes</td>\n",
       "      <td id=\"T_ad568_row6_col9\" class=\"data row6 col9\" >Yes</td>\n",
       "      <td id=\"T_ad568_row6_col10\" class=\"data row6 col10\" >Fiber optic</td>\n",
       "      <td id=\"T_ad568_row6_col11\" class=\"data row6 col11\" >No</td>\n",
       "      <td id=\"T_ad568_row6_col12\" class=\"data row6 col12\" >Yes</td>\n",
       "      <td id=\"T_ad568_row6_col13\" class=\"data row6 col13\" >Yes</td>\n",
       "      <td id=\"T_ad568_row6_col14\" class=\"data row6 col14\" >No</td>\n",
       "      <td id=\"T_ad568_row6_col15\" class=\"data row6 col15\" >Yes</td>\n",
       "      <td id=\"T_ad568_row6_col16\" class=\"data row6 col16\" >Yes</td>\n",
       "      <td id=\"T_ad568_row6_col17\" class=\"data row6 col17\" >Yes</td>\n",
       "    </tr>\n",
       "    <tr>\n",
       "      <th id=\"T_ad568_level0_row7\" class=\"row_heading level0 row7\" >4801-JZAZL</th>\n",
       "      <td id=\"T_ad568_row7_col0\" class=\"data row7 col0\" >Month-to-month</td>\n",
       "      <td id=\"T_ad568_row7_col1\" class=\"data row7 col1\" >Yes</td>\n",
       "      <td id=\"T_ad568_row7_col2\" class=\"data row7 col2\" >Electronic check</td>\n",
       "      <td id=\"T_ad568_row7_col3\" class=\"data row7 col3\" >29.600000</td>\n",
       "      <td id=\"T_ad568_row7_col4\" class=\"data row7 col4\" >337</td>\n",
       "      <td id=\"T_ad568_row7_col5\" class=\"data row7 col5\" >0</td>\n",
       "      <td id=\"T_ad568_row7_col6\" class=\"data row7 col6\" >Female</td>\n",
       "      <td id=\"T_ad568_row7_col7\" class=\"data row7 col7\" >0</td>\n",
       "      <td id=\"T_ad568_row7_col8\" class=\"data row7 col8\" >Yes</td>\n",
       "      <td id=\"T_ad568_row7_col9\" class=\"data row7 col9\" >Yes</td>\n",
       "      <td id=\"T_ad568_row7_col10\" class=\"data row7 col10\" >DSL</td>\n",
       "      <td id=\"T_ad568_row7_col11\" class=\"data row7 col11\" >Yes</td>\n",
       "      <td id=\"T_ad568_row7_col12\" class=\"data row7 col12\" >No</td>\n",
       "      <td id=\"T_ad568_row7_col13\" class=\"data row7 col13\" >No</td>\n",
       "      <td id=\"T_ad568_row7_col14\" class=\"data row7 col14\" >No</td>\n",
       "      <td id=\"T_ad568_row7_col15\" class=\"data row7 col15\" >No</td>\n",
       "      <td id=\"T_ad568_row7_col16\" class=\"data row7 col16\" >No</td>\n",
       "      <td id=\"T_ad568_row7_col17\" class=\"data row7 col17\" >nan</td>\n",
       "    </tr>\n",
       "    <tr>\n",
       "      <th id=\"T_ad568_level0_row8\" class=\"row_heading level0 row8\" >8361-LTMKD</th>\n",
       "      <td id=\"T_ad568_row8_col0\" class=\"data row8 col0\" >Month-to-month</td>\n",
       "      <td id=\"T_ad568_row8_col1\" class=\"data row8 col1\" >Yes</td>\n",
       "      <td id=\"T_ad568_row8_col2\" class=\"data row8 col2\" >Mailed check</td>\n",
       "      <td id=\"T_ad568_row8_col3\" class=\"data row8 col3\" >74.400000</td>\n",
       "      <td id=\"T_ad568_row8_col4\" class=\"data row8 col4\" >123</td>\n",
       "      <td id=\"T_ad568_row8_col5\" class=\"data row8 col5\" >1</td>\n",
       "      <td id=\"T_ad568_row8_col6\" class=\"data row8 col6\" >Male</td>\n",
       "      <td id=\"T_ad568_row8_col7\" class=\"data row8 col7\" >1</td>\n",
       "      <td id=\"T_ad568_row8_col8\" class=\"data row8 col8\" >Yes</td>\n",
       "      <td id=\"T_ad568_row8_col9\" class=\"data row8 col9\" >No</td>\n",
       "      <td id=\"T_ad568_row8_col10\" class=\"data row8 col10\" >Fiber optic</td>\n",
       "      <td id=\"T_ad568_row8_col11\" class=\"data row8 col11\" >No</td>\n",
       "      <td id=\"T_ad568_row8_col12\" class=\"data row8 col12\" >No</td>\n",
       "      <td id=\"T_ad568_row8_col13\" class=\"data row8 col13\" >No</td>\n",
       "      <td id=\"T_ad568_row8_col14\" class=\"data row8 col14\" >No</td>\n",
       "      <td id=\"T_ad568_row8_col15\" class=\"data row8 col15\" >No</td>\n",
       "      <td id=\"T_ad568_row8_col16\" class=\"data row8 col16\" >No</td>\n",
       "      <td id=\"T_ad568_row8_col17\" class=\"data row8 col17\" >Yes</td>\n",
       "    </tr>\n",
       "    <tr>\n",
       "      <th id=\"T_ad568_level0_row9\" class=\"row_heading level0 row9\" >3186-AJIEK</th>\n",
       "      <td id=\"T_ad568_row9_col0\" class=\"data row9 col0\" >Two year</td>\n",
       "      <td id=\"T_ad568_row9_col1\" class=\"data row9 col1\" >Yes</td>\n",
       "      <td id=\"T_ad568_row9_col2\" class=\"data row9 col2\" >Bank transfer (automatic)</td>\n",
       "      <td id=\"T_ad568_row9_col3\" class=\"data row9 col3\" >105.650000</td>\n",
       "      <td id=\"T_ad568_row9_col4\" class=\"data row9 col4\" >2010</td>\n",
       "      <td id=\"T_ad568_row9_col5\" class=\"data row9 col5\" >0</td>\n",
       "      <td id=\"T_ad568_row9_col6\" class=\"data row9 col6\" >Male</td>\n",
       "      <td id=\"T_ad568_row9_col7\" class=\"data row9 col7\" >0</td>\n",
       "      <td id=\"T_ad568_row9_col8\" class=\"data row9 col8\" >No</td>\n",
       "      <td id=\"T_ad568_row9_col9\" class=\"data row9 col9\" >No</td>\n",
       "      <td id=\"T_ad568_row9_col10\" class=\"data row9 col10\" >Fiber optic</td>\n",
       "      <td id=\"T_ad568_row9_col11\" class=\"data row9 col11\" >Yes</td>\n",
       "      <td id=\"T_ad568_row9_col12\" class=\"data row9 col12\" >No</td>\n",
       "      <td id=\"T_ad568_row9_col13\" class=\"data row9 col13\" >Yes</td>\n",
       "      <td id=\"T_ad568_row9_col14\" class=\"data row9 col14\" >Yes</td>\n",
       "      <td id=\"T_ad568_row9_col15\" class=\"data row9 col15\" >Yes</td>\n",
       "      <td id=\"T_ad568_row9_col16\" class=\"data row9 col16\" >Yes</td>\n",
       "      <td id=\"T_ad568_row9_col17\" class=\"data row9 col17\" >No</td>\n",
       "    </tr>\n",
       "  </tbody>\n",
       "</table>\n",
       "   <style type=\"text/css\">\n",
       "</style>\n",
       "<table id=\"T_72cbf_\" style='display:inline'>\n",
       "  <caption>Пропущенные значения</caption>\n",
       "  <thead>\n",
       "    <tr>\n",
       "      <th class=\"blank level0\" >&nbsp;</th>\n",
       "      <th class=\"col_heading level0 col0\" >Доля пропусков</th>\n",
       "      <th class=\"col_heading level0 col1\" >Количество</th>\n",
       "    </tr>\n",
       "  </thead>\n",
       "  <tbody>\n",
       "    <tr>\n",
       "      <th id=\"T_72cbf_level0_row0\" class=\"row_heading level0 row0\" >StreamingMovies</th>\n",
       "      <td id=\"T_72cbf_row0_col0\" class=\"data row0 col0\" >0.216669</td>\n",
       "      <td id=\"T_72cbf_row0_col1\" class=\"data row0 col1\" >1526</td>\n",
       "    </tr>\n",
       "    <tr>\n",
       "      <th id=\"T_72cbf_level0_row1\" class=\"row_heading level0 row1\" >StreamingTV</th>\n",
       "      <td id=\"T_72cbf_row1_col0\" class=\"data row1 col0\" >0.216669</td>\n",
       "      <td id=\"T_72cbf_row1_col1\" class=\"data row1 col1\" >1526</td>\n",
       "    </tr>\n",
       "    <tr>\n",
       "      <th id=\"T_72cbf_level0_row2\" class=\"row_heading level0 row2\" >TechSupport</th>\n",
       "      <td id=\"T_72cbf_row2_col0\" class=\"data row2 col0\" >0.216669</td>\n",
       "      <td id=\"T_72cbf_row2_col1\" class=\"data row2 col1\" >1526</td>\n",
       "    </tr>\n",
       "    <tr>\n",
       "      <th id=\"T_72cbf_level0_row3\" class=\"row_heading level0 row3\" >DeviceProtection</th>\n",
       "      <td id=\"T_72cbf_row3_col0\" class=\"data row3 col0\" >0.216669</td>\n",
       "      <td id=\"T_72cbf_row3_col1\" class=\"data row3 col1\" >1526</td>\n",
       "    </tr>\n",
       "    <tr>\n",
       "      <th id=\"T_72cbf_level0_row4\" class=\"row_heading level0 row4\" >OnlineBackup</th>\n",
       "      <td id=\"T_72cbf_row4_col0\" class=\"data row4 col0\" >0.216669</td>\n",
       "      <td id=\"T_72cbf_row4_col1\" class=\"data row4 col1\" >1526</td>\n",
       "    </tr>\n",
       "    <tr>\n",
       "      <th id=\"T_72cbf_level0_row5\" class=\"row_heading level0 row5\" >OnlineSecurity</th>\n",
       "      <td id=\"T_72cbf_row5_col0\" class=\"data row5 col0\" >0.216669</td>\n",
       "      <td id=\"T_72cbf_row5_col1\" class=\"data row5 col1\" >1526</td>\n",
       "    </tr>\n",
       "    <tr>\n",
       "      <th id=\"T_72cbf_level0_row6\" class=\"row_heading level0 row6\" >InternetService</th>\n",
       "      <td id=\"T_72cbf_row6_col0\" class=\"data row6 col0\" >0.216669</td>\n",
       "      <td id=\"T_72cbf_row6_col1\" class=\"data row6 col1\" >1526</td>\n",
       "    </tr>\n",
       "    <tr>\n",
       "      <th id=\"T_72cbf_level0_row7\" class=\"row_heading level0 row7\" >MultipleLines</th>\n",
       "      <td id=\"T_72cbf_row7_col0\" class=\"data row7 col0\" >0.096834</td>\n",
       "      <td id=\"T_72cbf_row7_col1\" class=\"data row7 col1\" >682</td>\n",
       "    </tr>\n",
       "    <tr>\n",
       "      <th id=\"T_72cbf_level0_row8\" class=\"row_heading level0 row8\" >PaperlessBilling</th>\n",
       "      <td id=\"T_72cbf_row8_col0\" class=\"data row8 col0\" >0.000000</td>\n",
       "      <td id=\"T_72cbf_row8_col1\" class=\"data row8 col1\" >0</td>\n",
       "    </tr>\n",
       "    <tr>\n",
       "      <th id=\"T_72cbf_level0_row9\" class=\"row_heading level0 row9\" >Type</th>\n",
       "      <td id=\"T_72cbf_row9_col0\" class=\"data row9 col0\" >0.000000</td>\n",
       "      <td id=\"T_72cbf_row9_col1\" class=\"data row9 col1\" >0</td>\n",
       "    </tr>\n",
       "    <tr>\n",
       "      <th id=\"T_72cbf_level0_row10\" class=\"row_heading level0 row10\" >Partner</th>\n",
       "      <td id=\"T_72cbf_row10_col0\" class=\"data row10 col0\" >0.000000</td>\n",
       "      <td id=\"T_72cbf_row10_col1\" class=\"data row10 col1\" >0</td>\n",
       "    </tr>\n",
       "    <tr>\n",
       "      <th id=\"T_72cbf_level0_row11\" class=\"row_heading level0 row11\" >SeniorCitizen</th>\n",
       "      <td id=\"T_72cbf_row11_col0\" class=\"data row11 col0\" >0.000000</td>\n",
       "      <td id=\"T_72cbf_row11_col1\" class=\"data row11 col1\" >0</td>\n",
       "    </tr>\n",
       "    <tr>\n",
       "      <th id=\"T_72cbf_level0_row12\" class=\"row_heading level0 row12\" >gender</th>\n",
       "      <td id=\"T_72cbf_row12_col0\" class=\"data row12 col0\" >0.000000</td>\n",
       "      <td id=\"T_72cbf_row12_col1\" class=\"data row12 col1\" >0</td>\n",
       "    </tr>\n",
       "    <tr>\n",
       "      <th id=\"T_72cbf_level0_row13\" class=\"row_heading level0 row13\" >Exited</th>\n",
       "      <td id=\"T_72cbf_row13_col0\" class=\"data row13 col0\" >0.000000</td>\n",
       "      <td id=\"T_72cbf_row13_col1\" class=\"data row13 col1\" >0</td>\n",
       "    </tr>\n",
       "    <tr>\n",
       "      <th id=\"T_72cbf_level0_row14\" class=\"row_heading level0 row14\" >LTDays</th>\n",
       "      <td id=\"T_72cbf_row14_col0\" class=\"data row14 col0\" >0.000000</td>\n",
       "      <td id=\"T_72cbf_row14_col1\" class=\"data row14 col1\" >0</td>\n",
       "    </tr>\n",
       "    <tr>\n",
       "      <th id=\"T_72cbf_level0_row15\" class=\"row_heading level0 row15\" >MonthlyCharges</th>\n",
       "      <td id=\"T_72cbf_row15_col0\" class=\"data row15 col0\" >0.000000</td>\n",
       "      <td id=\"T_72cbf_row15_col1\" class=\"data row15 col1\" >0</td>\n",
       "    </tr>\n",
       "    <tr>\n",
       "      <th id=\"T_72cbf_level0_row16\" class=\"row_heading level0 row16\" >PaymentMethod</th>\n",
       "      <td id=\"T_72cbf_row16_col0\" class=\"data row16 col0\" >0.000000</td>\n",
       "      <td id=\"T_72cbf_row16_col1\" class=\"data row16 col1\" >0</td>\n",
       "    </tr>\n",
       "    <tr>\n",
       "      <th id=\"T_72cbf_level0_row17\" class=\"row_heading level0 row17\" >Dependents</th>\n",
       "      <td id=\"T_72cbf_row17_col0\" class=\"data row17 col0\" >0.000000</td>\n",
       "      <td id=\"T_72cbf_row17_col1\" class=\"data row17 col1\" >0</td>\n",
       "    </tr>\n",
       "  </tbody>\n",
       "</table>\n",
       "   "
      ],
      "text/plain": [
       "<IPython.core.display.HTML object>"
      ]
     },
     "metadata": {},
     "output_type": "display_data"
    }
   ],
   "source": [
    "missing_values = pd.concat([df.isnull().mean().to_frame(name='Доля пропусков'),\n",
    "                            df.isnull().sum().to_frame(name='Количество')], axis=1).sort_values(by='Количество',\n",
    "                                                                                                ascending=False)\n",
    "print(\"\\033[1m\" \"Итоговая таблица\", \"\\033[0m\")\n",
    "print(\"Общая информация, info()\", '\\n')\n",
    "display(df.info())\n",
    "print(\"Строк:\", df.shape[0], '\\n' \"Дубликатов:\", df.duplicated().sum())\n",
    "display_tables([df.head(10), df.sample(10, random_state=42), df.tail(10), missing_values],\n",
    "               ['Первые 10 строк', 'Произвольные 10 строк',\n",
    "                'Последние 10 строк', 'Пропущенные значения'])"
   ]
  },
  {
   "cell_type": "markdown",
   "metadata": {},
   "source": [
    "Пропуски в услугах означают их отсутствие, заменим их на \"Unsupported\"."
   ]
  },
  {
   "cell_type": "code",
   "execution_count": 20,
   "metadata": {},
   "outputs": [],
   "source": [
    "df = df.fillna('Unsupported')"
   ]
  },
  {
   "cell_type": "markdown",
   "metadata": {},
   "source": [
    "И еще раз проверим."
   ]
  },
  {
   "cell_type": "code",
   "execution_count": 21,
   "metadata": {
    "scrolled": true
   },
   "outputs": [
    {
     "data": {
      "text/html": [
       "<div>\n",
       "<style scoped>\n",
       "    .dataframe tbody tr th:only-of-type {\n",
       "        vertical-align: middle;\n",
       "    }\n",
       "\n",
       "    .dataframe tbody tr th {\n",
       "        vertical-align: top;\n",
       "    }\n",
       "\n",
       "    .dataframe thead th {\n",
       "        text-align: right;\n",
       "    }\n",
       "</style>\n",
       "<table border=\"1\" class=\"dataframe\">\n",
       "  <thead>\n",
       "    <tr style=\"text-align: right;\">\n",
       "      <th></th>\n",
       "      <th>Type</th>\n",
       "      <th>PaperlessBilling</th>\n",
       "      <th>PaymentMethod</th>\n",
       "      <th>MonthlyCharges</th>\n",
       "      <th>LTDays</th>\n",
       "      <th>Exited</th>\n",
       "      <th>gender</th>\n",
       "      <th>SeniorCitizen</th>\n",
       "      <th>Partner</th>\n",
       "      <th>Dependents</th>\n",
       "      <th>InternetService</th>\n",
       "      <th>OnlineSecurity</th>\n",
       "      <th>OnlineBackup</th>\n",
       "      <th>DeviceProtection</th>\n",
       "      <th>TechSupport</th>\n",
       "      <th>StreamingTV</th>\n",
       "      <th>StreamingMovies</th>\n",
       "      <th>MultipleLines</th>\n",
       "    </tr>\n",
       "    <tr>\n",
       "      <th>customerID</th>\n",
       "      <th></th>\n",
       "      <th></th>\n",
       "      <th></th>\n",
       "      <th></th>\n",
       "      <th></th>\n",
       "      <th></th>\n",
       "      <th></th>\n",
       "      <th></th>\n",
       "      <th></th>\n",
       "      <th></th>\n",
       "      <th></th>\n",
       "      <th></th>\n",
       "      <th></th>\n",
       "      <th></th>\n",
       "      <th></th>\n",
       "      <th></th>\n",
       "      <th></th>\n",
       "      <th></th>\n",
       "    </tr>\n",
       "  </thead>\n",
       "  <tbody>\n",
       "    <tr>\n",
       "      <th>7590-VHVEG</th>\n",
       "      <td>Month-to-month</td>\n",
       "      <td>Yes</td>\n",
       "      <td>Electronic check</td>\n",
       "      <td>29.85</td>\n",
       "      <td>31</td>\n",
       "      <td>0</td>\n",
       "      <td>Female</td>\n",
       "      <td>0</td>\n",
       "      <td>Yes</td>\n",
       "      <td>No</td>\n",
       "      <td>DSL</td>\n",
       "      <td>No</td>\n",
       "      <td>Yes</td>\n",
       "      <td>No</td>\n",
       "      <td>No</td>\n",
       "      <td>No</td>\n",
       "      <td>No</td>\n",
       "      <td>Unsupported</td>\n",
       "    </tr>\n",
       "    <tr>\n",
       "      <th>5575-GNVDE</th>\n",
       "      <td>One year</td>\n",
       "      <td>No</td>\n",
       "      <td>Mailed check</td>\n",
       "      <td>56.95</td>\n",
       "      <td>1036</td>\n",
       "      <td>0</td>\n",
       "      <td>Male</td>\n",
       "      <td>0</td>\n",
       "      <td>No</td>\n",
       "      <td>No</td>\n",
       "      <td>DSL</td>\n",
       "      <td>Yes</td>\n",
       "      <td>No</td>\n",
       "      <td>Yes</td>\n",
       "      <td>No</td>\n",
       "      <td>No</td>\n",
       "      <td>No</td>\n",
       "      <td>No</td>\n",
       "    </tr>\n",
       "    <tr>\n",
       "      <th>3668-QPYBK</th>\n",
       "      <td>Month-to-month</td>\n",
       "      <td>Yes</td>\n",
       "      <td>Mailed check</td>\n",
       "      <td>53.85</td>\n",
       "      <td>61</td>\n",
       "      <td>1</td>\n",
       "      <td>Male</td>\n",
       "      <td>0</td>\n",
       "      <td>No</td>\n",
       "      <td>No</td>\n",
       "      <td>DSL</td>\n",
       "      <td>Yes</td>\n",
       "      <td>Yes</td>\n",
       "      <td>No</td>\n",
       "      <td>No</td>\n",
       "      <td>No</td>\n",
       "      <td>No</td>\n",
       "      <td>No</td>\n",
       "    </tr>\n",
       "    <tr>\n",
       "      <th>7795-CFOCW</th>\n",
       "      <td>One year</td>\n",
       "      <td>No</td>\n",
       "      <td>Bank transfer (automatic)</td>\n",
       "      <td>42.30</td>\n",
       "      <td>1371</td>\n",
       "      <td>0</td>\n",
       "      <td>Male</td>\n",
       "      <td>0</td>\n",
       "      <td>No</td>\n",
       "      <td>No</td>\n",
       "      <td>DSL</td>\n",
       "      <td>Yes</td>\n",
       "      <td>No</td>\n",
       "      <td>Yes</td>\n",
       "      <td>Yes</td>\n",
       "      <td>No</td>\n",
       "      <td>No</td>\n",
       "      <td>Unsupported</td>\n",
       "    </tr>\n",
       "    <tr>\n",
       "      <th>9237-HQITU</th>\n",
       "      <td>Month-to-month</td>\n",
       "      <td>Yes</td>\n",
       "      <td>Electronic check</td>\n",
       "      <td>70.70</td>\n",
       "      <td>61</td>\n",
       "      <td>1</td>\n",
       "      <td>Female</td>\n",
       "      <td>0</td>\n",
       "      <td>No</td>\n",
       "      <td>No</td>\n",
       "      <td>Fiber optic</td>\n",
       "      <td>No</td>\n",
       "      <td>No</td>\n",
       "      <td>No</td>\n",
       "      <td>No</td>\n",
       "      <td>No</td>\n",
       "      <td>No</td>\n",
       "      <td>No</td>\n",
       "    </tr>\n",
       "  </tbody>\n",
       "</table>\n",
       "</div>"
      ],
      "text/plain": [
       "                      Type PaperlessBilling              PaymentMethod  \\\n",
       "customerID                                                               \n",
       "7590-VHVEG  Month-to-month              Yes           Electronic check   \n",
       "5575-GNVDE        One year               No               Mailed check   \n",
       "3668-QPYBK  Month-to-month              Yes               Mailed check   \n",
       "7795-CFOCW        One year               No  Bank transfer (automatic)   \n",
       "9237-HQITU  Month-to-month              Yes           Electronic check   \n",
       "\n",
       "            MonthlyCharges  LTDays  Exited  gender  SeniorCitizen Partner  \\\n",
       "customerID                                                                  \n",
       "7590-VHVEG           29.85      31       0  Female              0     Yes   \n",
       "5575-GNVDE           56.95    1036       0    Male              0      No   \n",
       "3668-QPYBK           53.85      61       1    Male              0      No   \n",
       "7795-CFOCW           42.30    1371       0    Male              0      No   \n",
       "9237-HQITU           70.70      61       1  Female              0      No   \n",
       "\n",
       "           Dependents InternetService OnlineSecurity OnlineBackup  \\\n",
       "customerID                                                          \n",
       "7590-VHVEG         No             DSL             No          Yes   \n",
       "5575-GNVDE         No             DSL            Yes           No   \n",
       "3668-QPYBK         No             DSL            Yes          Yes   \n",
       "7795-CFOCW         No             DSL            Yes           No   \n",
       "9237-HQITU         No     Fiber optic             No           No   \n",
       "\n",
       "           DeviceProtection TechSupport StreamingTV StreamingMovies  \\\n",
       "customerID                                                            \n",
       "7590-VHVEG               No          No          No              No   \n",
       "5575-GNVDE              Yes          No          No              No   \n",
       "3668-QPYBK               No          No          No              No   \n",
       "7795-CFOCW              Yes         Yes          No              No   \n",
       "9237-HQITU               No          No          No              No   \n",
       "\n",
       "           MultipleLines  \n",
       "customerID                \n",
       "7590-VHVEG   Unsupported  \n",
       "5575-GNVDE            No  \n",
       "3668-QPYBK            No  \n",
       "7795-CFOCW   Unsupported  \n",
       "9237-HQITU            No  "
      ]
     },
     "execution_count": 21,
     "metadata": {},
     "output_type": "execute_result"
    }
   ],
   "source": [
    "df.head()"
   ]
  },
  {
   "cell_type": "code",
   "execution_count": 22,
   "metadata": {},
   "outputs": [
    {
     "name": "stdout",
     "output_type": "stream",
     "text": [
      "<class 'pandas.core.frame.DataFrame'>\n",
      "Index: 7043 entries, 7590-VHVEG to 3186-AJIEK\n",
      "Data columns (total 18 columns):\n",
      " #   Column            Non-Null Count  Dtype  \n",
      "---  ------            --------------  -----  \n",
      " 0   Type              7043 non-null   object \n",
      " 1   PaperlessBilling  7043 non-null   object \n",
      " 2   PaymentMethod     7043 non-null   object \n",
      " 3   MonthlyCharges    7043 non-null   float64\n",
      " 4   LTDays            7043 non-null   int64  \n",
      " 5   Exited            7043 non-null   int64  \n",
      " 6   gender            7043 non-null   object \n",
      " 7   SeniorCitizen     7043 non-null   int64  \n",
      " 8   Partner           7043 non-null   object \n",
      " 9   Dependents        7043 non-null   object \n",
      " 10  InternetService   7043 non-null   object \n",
      " 11  OnlineSecurity    7043 non-null   object \n",
      " 12  OnlineBackup      7043 non-null   object \n",
      " 13  DeviceProtection  7043 non-null   object \n",
      " 14  TechSupport       7043 non-null   object \n",
      " 15  StreamingTV       7043 non-null   object \n",
      " 16  StreamingMovies   7043 non-null   object \n",
      " 17  MultipleLines     7043 non-null   object \n",
      "dtypes: float64(1), int64(3), object(14)\n",
      "memory usage: 1.3+ MB\n"
     ]
    }
   ],
   "source": [
    "df.info()"
   ]
  },
  {
   "cell_type": "markdown",
   "metadata": {},
   "source": [
    "Все корректно."
   ]
  },
  {
   "cell_type": "markdown",
   "metadata": {},
   "source": [
    "## Анализ данных"
   ]
  },
  {
   "cell_type": "markdown",
   "metadata": {},
   "source": [
    "Посмотрим на числовые признаки, отличаются ли они у оставшихся и ушедших клиентов."
   ]
  },
  {
   "cell_type": "code",
   "execution_count": 23,
   "metadata": {},
   "outputs": [
    {
     "data": {
      "text/html": [
       "<style type=\"text/css\">\n",
       "</style>\n",
       "<table id=\"T_50bd4_\" style='display:inline'>\n",
       "  <caption>Все клиенты</caption>\n",
       "  <thead>\n",
       "    <tr>\n",
       "      <th class=\"blank level0\" >&nbsp;</th>\n",
       "      <th class=\"col_heading level0 col0\" >MonthlyCharges</th>\n",
       "      <th class=\"col_heading level0 col1\" >LTDays</th>\n",
       "    </tr>\n",
       "  </thead>\n",
       "  <tbody>\n",
       "    <tr>\n",
       "      <th id=\"T_50bd4_level0_row0\" class=\"row_heading level0 row0\" >count</th>\n",
       "      <td id=\"T_50bd4_row0_col0\" class=\"data row0 col0\" >7043.000000</td>\n",
       "      <td id=\"T_50bd4_row0_col1\" class=\"data row0 col1\" >7043.000000</td>\n",
       "    </tr>\n",
       "    <tr>\n",
       "      <th id=\"T_50bd4_level0_row1\" class=\"row_heading level0 row1\" >mean</th>\n",
       "      <td id=\"T_50bd4_row1_col0\" class=\"data row1 col0\" >64.761692</td>\n",
       "      <td id=\"T_50bd4_row1_col1\" class=\"data row1 col1\" >985.996166</td>\n",
       "    </tr>\n",
       "    <tr>\n",
       "      <th id=\"T_50bd4_level0_row2\" class=\"row_heading level0 row2\" >std</th>\n",
       "      <td id=\"T_50bd4_row2_col0\" class=\"data row2 col0\" >30.090047</td>\n",
       "      <td id=\"T_50bd4_row2_col1\" class=\"data row2 col1\" >747.587844</td>\n",
       "    </tr>\n",
       "    <tr>\n",
       "      <th id=\"T_50bd4_level0_row3\" class=\"row_heading level0 row3\" >min</th>\n",
       "      <td id=\"T_50bd4_row3_col0\" class=\"data row3 col0\" >18.250000</td>\n",
       "      <td id=\"T_50bd4_row3_col1\" class=\"data row3 col1\" >0.000000</td>\n",
       "    </tr>\n",
       "    <tr>\n",
       "      <th id=\"T_50bd4_level0_row4\" class=\"row_heading level0 row4\" >25%</th>\n",
       "      <td id=\"T_50bd4_row4_col0\" class=\"data row4 col0\" >35.500000</td>\n",
       "      <td id=\"T_50bd4_row4_col1\" class=\"data row4 col1\" >273.000000</td>\n",
       "    </tr>\n",
       "    <tr>\n",
       "      <th id=\"T_50bd4_level0_row5\" class=\"row_heading level0 row5\" >50%</th>\n",
       "      <td id=\"T_50bd4_row5_col0\" class=\"data row5 col0\" >70.350000</td>\n",
       "      <td id=\"T_50bd4_row5_col1\" class=\"data row5 col1\" >883.000000</td>\n",
       "    </tr>\n",
       "    <tr>\n",
       "      <th id=\"T_50bd4_level0_row6\" class=\"row_heading level0 row6\" >75%</th>\n",
       "      <td id=\"T_50bd4_row6_col0\" class=\"data row6 col0\" >89.850000</td>\n",
       "      <td id=\"T_50bd4_row6_col1\" class=\"data row6 col1\" >1676.000000</td>\n",
       "    </tr>\n",
       "    <tr>\n",
       "      <th id=\"T_50bd4_level0_row7\" class=\"row_heading level0 row7\" >max</th>\n",
       "      <td id=\"T_50bd4_row7_col0\" class=\"data row7 col0\" >118.750000</td>\n",
       "      <td id=\"T_50bd4_row7_col1\" class=\"data row7 col1\" >2191.000000</td>\n",
       "    </tr>\n",
       "  </tbody>\n",
       "</table>\n",
       "   <style type=\"text/css\">\n",
       "</style>\n",
       "<table id=\"T_e1791_\" style='display:inline'>\n",
       "  <caption>Клиенты, которые остались</caption>\n",
       "  <thead>\n",
       "    <tr>\n",
       "      <th class=\"blank level0\" >&nbsp;</th>\n",
       "      <th class=\"col_heading level0 col0\" >MonthlyCharges</th>\n",
       "      <th class=\"col_heading level0 col1\" >LTDays</th>\n",
       "    </tr>\n",
       "  </thead>\n",
       "  <tbody>\n",
       "    <tr>\n",
       "      <th id=\"T_e1791_level0_row0\" class=\"row_heading level0 row0\" >count</th>\n",
       "      <td id=\"T_e1791_row0_col0\" class=\"data row0 col0\" >5174.000000</td>\n",
       "      <td id=\"T_e1791_row0_col1\" class=\"data row0 col1\" >5174.000000</td>\n",
       "    </tr>\n",
       "    <tr>\n",
       "      <th id=\"T_e1791_level0_row1\" class=\"row_heading level0 row1\" >mean</th>\n",
       "      <td id=\"T_e1791_row1_col0\" class=\"data row1 col0\" >61.265124</td>\n",
       "      <td id=\"T_e1791_row1_col1\" class=\"data row1 col1\" >1144.447236</td>\n",
       "    </tr>\n",
       "    <tr>\n",
       "      <th id=\"T_e1791_level0_row2\" class=\"row_heading level0 row2\" >std</th>\n",
       "      <td id=\"T_e1791_row2_col0\" class=\"data row2 col0\" >31.092648</td>\n",
       "      <td id=\"T_e1791_row2_col1\" class=\"data row2 col1\" >733.897937</td>\n",
       "    </tr>\n",
       "    <tr>\n",
       "      <th id=\"T_e1791_level0_row3\" class=\"row_heading level0 row3\" >min</th>\n",
       "      <td id=\"T_e1791_row3_col0\" class=\"data row3 col0\" >18.250000</td>\n",
       "      <td id=\"T_e1791_row3_col1\" class=\"data row3 col1\" >0.000000</td>\n",
       "    </tr>\n",
       "    <tr>\n",
       "      <th id=\"T_e1791_level0_row4\" class=\"row_heading level0 row4\" >25%</th>\n",
       "      <td id=\"T_e1791_row4_col0\" class=\"data row4 col0\" >25.100000</td>\n",
       "      <td id=\"T_e1791_row4_col1\" class=\"data row4 col1\" >457.000000</td>\n",
       "    </tr>\n",
       "    <tr>\n",
       "      <th id=\"T_e1791_level0_row5\" class=\"row_heading level0 row5\" >50%</th>\n",
       "      <td id=\"T_e1791_row5_col0\" class=\"data row5 col0\" >64.425000</td>\n",
       "      <td id=\"T_e1791_row5_col1\" class=\"data row5 col1\" >1157.000000</td>\n",
       "    </tr>\n",
       "    <tr>\n",
       "      <th id=\"T_e1791_level0_row6\" class=\"row_heading level0 row6\" >75%</th>\n",
       "      <td id=\"T_e1791_row6_col0\" class=\"data row6 col0\" >88.400000</td>\n",
       "      <td id=\"T_e1791_row6_col1\" class=\"data row6 col1\" >1857.000000</td>\n",
       "    </tr>\n",
       "    <tr>\n",
       "      <th id=\"T_e1791_level0_row7\" class=\"row_heading level0 row7\" >max</th>\n",
       "      <td id=\"T_e1791_row7_col0\" class=\"data row7 col0\" >118.750000</td>\n",
       "      <td id=\"T_e1791_row7_col1\" class=\"data row7 col1\" >2191.000000</td>\n",
       "    </tr>\n",
       "  </tbody>\n",
       "</table>\n",
       "   <style type=\"text/css\">\n",
       "</style>\n",
       "<table id=\"T_db03d_\" style='display:inline'>\n",
       "  <caption>Клиенты, которые ушли</caption>\n",
       "  <thead>\n",
       "    <tr>\n",
       "      <th class=\"blank level0\" >&nbsp;</th>\n",
       "      <th class=\"col_heading level0 col0\" >MonthlyCharges</th>\n",
       "      <th class=\"col_heading level0 col1\" >LTDays</th>\n",
       "    </tr>\n",
       "  </thead>\n",
       "  <tbody>\n",
       "    <tr>\n",
       "      <th id=\"T_db03d_level0_row0\" class=\"row_heading level0 row0\" >count</th>\n",
       "      <td id=\"T_db03d_row0_col0\" class=\"data row0 col0\" >1869.000000</td>\n",
       "      <td id=\"T_db03d_row0_col1\" class=\"data row0 col1\" >1869.000000</td>\n",
       "    </tr>\n",
       "    <tr>\n",
       "      <th id=\"T_db03d_level0_row1\" class=\"row_heading level0 row1\" >mean</th>\n",
       "      <td id=\"T_db03d_row1_col0\" class=\"data row1 col0\" >74.441332</td>\n",
       "      <td id=\"T_db03d_row1_col1\" class=\"data row1 col1\" >547.352060</td>\n",
       "    </tr>\n",
       "    <tr>\n",
       "      <th id=\"T_db03d_level0_row2\" class=\"row_heading level0 row2\" >std</th>\n",
       "      <td id=\"T_db03d_row2_col0\" class=\"data row2 col0\" >24.666053</td>\n",
       "      <td id=\"T_db03d_row2_col1\" class=\"data row2 col1\" >594.389607</td>\n",
       "    </tr>\n",
       "    <tr>\n",
       "      <th id=\"T_db03d_level0_row3\" class=\"row_heading level0 row3\" >min</th>\n",
       "      <td id=\"T_db03d_row3_col0\" class=\"data row3 col0\" >18.850000</td>\n",
       "      <td id=\"T_db03d_row3_col1\" class=\"data row3 col1\" >30.000000</td>\n",
       "    </tr>\n",
       "    <tr>\n",
       "      <th id=\"T_db03d_level0_row4\" class=\"row_heading level0 row4\" >25%</th>\n",
       "      <td id=\"T_db03d_row4_col0\" class=\"data row4 col0\" >56.150000</td>\n",
       "      <td id=\"T_db03d_row4_col1\" class=\"data row4 col1\" >61.000000</td>\n",
       "    </tr>\n",
       "    <tr>\n",
       "      <th id=\"T_db03d_level0_row5\" class=\"row_heading level0 row5\" >50%</th>\n",
       "      <td id=\"T_db03d_row5_col0\" class=\"data row5 col0\" >79.650000</td>\n",
       "      <td id=\"T_db03d_row5_col1\" class=\"data row5 col1\" >304.000000</td>\n",
       "    </tr>\n",
       "    <tr>\n",
       "      <th id=\"T_db03d_level0_row6\" class=\"row_heading level0 row6\" >75%</th>\n",
       "      <td id=\"T_db03d_row6_col0\" class=\"data row6 col0\" >94.200000</td>\n",
       "      <td id=\"T_db03d_row6_col1\" class=\"data row6 col1\" >883.000000</td>\n",
       "    </tr>\n",
       "    <tr>\n",
       "      <th id=\"T_db03d_level0_row7\" class=\"row_heading level0 row7\" >max</th>\n",
       "      <td id=\"T_db03d_row7_col0\" class=\"data row7 col0\" >118.350000</td>\n",
       "      <td id=\"T_db03d_row7_col1\" class=\"data row7 col1\" >2191.000000</td>\n",
       "    </tr>\n",
       "  </tbody>\n",
       "</table>\n",
       "   "
      ],
      "text/plain": [
       "<IPython.core.display.HTML object>"
      ]
     },
     "metadata": {},
     "output_type": "display_data"
    }
   ],
   "source": [
    "numeric_features = ['MonthlyCharges', 'LTDays']\n",
    "display_tables([df[numeric_features].describe(), df[numeric_features][df['Exited'] == 0].describe(),\n",
    "                df[numeric_features][df['Exited'] == 1].describe()],\n",
    "               ['Все клиенты', 'Клиенты, которые остались', 'Клиенты, которые ушли'])"
   ]
  },
  {
   "cell_type": "markdown",
   "metadata": {},
   "source": [
    "Видим, что ушедшие платят больше, а подключились позже."
   ]
  },
  {
   "cell_type": "code",
   "execution_count": 24,
   "metadata": {},
   "outputs": [
    {
     "name": "stdout",
     "output_type": "stream",
     "text": [
      "Минутка занимательной статистики: на момент выгрузки 362 абонента с нами 2191 день, ушедших из таких долгожителей всего 6\n"
     ]
    }
   ],
   "source": [
    "print('Минутка занимательной статистики: на момент выгрузки', len(df[df.LTDays == 2191]), 'абонента с нами 2191 день,',\n",
    "      'ушедших из таких долгожителей всего', df[df.LTDays == 2191]['Exited'].sum())"
   ]
  },
  {
   "cell_type": "code",
   "execution_count": 25,
   "metadata": {},
   "outputs": [
    {
     "data": {
      "image/png": "[encoded data removed]",
      "text/plain": [
       "<Figure size 1080x360 with 2 Axes>"
      ]
     },
     "metadata": {},
     "output_type": "display_data"
    }
   ],
   "source": [
    "fig, axs = plt.subplots(1, 2, figsize=(15, 5))\n",
    "sns.set_palette(\"husl\", 8)\n",
    "axs = axs.ravel()\n",
    "for i, x in enumerate(numeric_features):\n",
    "    sns.distplot(df.loc[df['Exited']==0, x], ax=axs[i], label='Остались')\n",
    "    sns.distplot(df.loc[df['Exited']==1, x], ax=axs[i], label='Ушли')\n",
    "    axs[i].set_title('Распределение значений признака ' + x, fontsize=14)\n",
    "    axs[i].legend(loc='upper right', fontsize=12)\n",
    "    axs[i].set_xlabel(x, fontsize=12)\n",
    "    axs[i].tick_params(labelsize=12)\n",
    "plt.tight_layout()"
   ]
  },
  {
   "cell_type": "markdown",
   "metadata": {},
   "source": [
    "Клиенты, которые подключились относительно недавно и клиенты, которые платят больше среднего, уходят активнее.  \n",
    "Посмотрим на распределение значений категориальных признаков с учётом того, ушёл клиент или нет."
   ]
  },
  {
   "cell_type": "code",
   "execution_count": 26,
   "metadata": {
    "scrolled": false
   },
   "outputs": [
    {
     "data": {
      "image/png": "[encoded data removed]",
      "text/plain": [
       "<Figure size 1800x3240 with 15 Axes>"
      ]
     },
     "metadata": {},
     "output_type": "display_data"
    }
   ],
   "source": [
    "cat_features = ['Type', 'PaperlessBilling', 'PaymentMethod', 'InternetService', 'OnlineSecurity',\n",
    "                'OnlineBackup', 'DeviceProtection', 'TechSupport', 'StreamingTV',\n",
    "                'StreamingMovies', 'gender', 'SeniorCitizen', 'Partner', 'Dependents',\n",
    "                'MultipleLines']\n",
    "\n",
    "fig, axs = plt.subplots(8, 2, figsize=(25, 45))\n",
    "fig.suptitle('Значения категориальных признаков для ушедших и оставшихся клиентов', fontsize=20, y=0.9)\n",
    "axs = axs.ravel()\n",
    "for i, cat in enumerate(cat_features):\n",
    "    sns.countplot(x=cat, data=df, ax=axs[i], order=df[cat].value_counts().head(6).index,\n",
    "                  palette=[\"#e274cf\", \"#BDB5D5\"], hue=\"Exited\")\n",
    "    axs[i].set_xlabel('')\n",
    "    axs[i].set_title(cat, fontsize=12)\n",
    "    axs[i].set_ylabel('Count')\n",
    "    axs[i].set_yticks([], [])\n",
    "    sns.despine(left=True)\n",
    "    show_values_on_bars(axs[i])\n",
    "fig.delaxes(axs[15])\n",
    "plt.show()"
   ]
  },
  {
   "cell_type": "markdown",
   "metadata": {},
   "source": [
    "Из графиков становится понятно, что типичный ушедший клиент - это пользователь интернета через оптоволоконный кабель, без дополнительных услуг, с ежемесячной формой оплаты и электронным чеком."
   ]
  },
  {
   "cell_type": "markdown",
   "metadata": {},
   "source": [
    "## Подготовка к обучению"
   ]
  },
  {
   "cell_type": "markdown",
   "metadata": {},
   "source": [
    "Выделяем признаки и целевой признак, разбиваем на выборки."
   ]
  },
  {
   "cell_type": "code",
   "execution_count": 27,
   "metadata": {},
   "outputs": [],
   "source": [
    "X = df.drop(['Exited'], axis=1)\n",
    "y = df['Exited']"
   ]
  },
  {
   "cell_type": "code",
   "execution_count": 28,
   "metadata": {},
   "outputs": [],
   "source": [
    "X_train, X_test, y_train, y_test = train_test_split(X, y, test_size=0.2, random_state=42, stratify = y)"
   ]
  },
  {
   "cell_type": "markdown",
   "metadata": {},
   "source": [
    "Разделяем признаки на числовые и категориальные и создаем preprocessor с помощью ColumnTransformer."
   ]
  },
  {
   "cell_type": "code",
   "execution_count": 29,
   "metadata": {},
   "outputs": [],
   "source": [
    "numeric_features = ['MonthlyCharges', 'LTDays']\n",
    "\n",
    "numeric_transformer = Pipeline(steps=[('scaler', StandardScaler())])\n",
    "\n",
    "cat_features = ['Type', 'PaperlessBilling', 'PaymentMethod', 'InternetService', 'OnlineSecurity',\n",
    "                'OnlineBackup', 'DeviceProtection', 'TechSupport', 'StreamingTV',\n",
    "                'StreamingMovies', 'gender', 'SeniorCitizen', 'Partner', 'Dependents',\n",
    "                'MultipleLines']\n",
    "\n",
    "categorical_transformer = OneHotEncoder(handle_unknown='ignore')\n",
    "\n",
    "preprocessor = ColumnTransformer(transformers=[('cat', categorical_transformer, cat_features),\n",
    "                                               ('num', numeric_transformer, numeric_features)])"
   ]
  },
  {
   "cell_type": "markdown",
   "metadata": {},
   "source": [
    "## Моделирование"
   ]
  },
  {
   "cell_type": "markdown",
   "metadata": {},
   "source": [
    "Создаём список моделей и параметров."
   ]
  },
  {
   "cell_type": "code",
   "execution_count": 30,
   "metadata": {},
   "outputs": [],
   "source": [
    "classifiers = [DecisionTreeClassifier(random_state=42), RandomForestClassifier(random_state=42),\n",
    "               LogisticRegression(random_state=42),\n",
    "               KNeighborsClassifier(), LGBMClassifier(metric='AUC', random_state=42),\n",
    "               CatBoostClassifier(random_state=42, verbose=False)]\n",
    "\n",
    "parameters = [{'classifier__max_depth': range(1, 30, 10), 'classifier__min_samples_split': range(1, 10, 2),\n",
    "               'classifier__class_weight': ['balanced']},\n",
    "\n",
    "              {'classifier__n_estimators': range(40, 100, 10), 'classifier__max_depth': range(5, 10, 1),\n",
    "               'classifier__class_weight': ['balanced']},\n",
    "\n",
    "              {'classifier__solver': ['liblinear'], 'classifier__class_weight': ['balanced']},\n",
    "\n",
    "              {'classifier__n_neighbors': range(1, 10, 1)},\n",
    "\n",
    "              {'classifier__learning_rate': [0.3, 0.35], 'classifier__max_depth': range(2, 10, 1)},\n",
    "\n",
    "              {'classifier__learning_rate': [0.3, 0.4], 'classifier__iterations': range(100, 200, 50),\n",
    "               'classifier__depth': [4, 5]}\n",
    "\n",
    "              ]"
   ]
  },
  {
   "cell_type": "markdown",
   "metadata": {},
   "source": [
    "Собираем всё в Pipeline и ищем оптимальные параметры с помощью GridSearchCV."
   ]
  },
  {
   "cell_type": "code",
   "execution_count": 31,
   "metadata": {},
   "outputs": [
    {
     "data": {
      "text/html": [
       "<div>\n",
       "<style scoped>\n",
       "    .dataframe tbody tr th:only-of-type {\n",
       "        vertical-align: middle;\n",
       "    }\n",
       "\n",
       "    .dataframe tbody tr th {\n",
       "        vertical-align: top;\n",
       "    }\n",
       "\n",
       "    .dataframe thead th {\n",
       "        text-align: right;\n",
       "    }\n",
       "</style>\n",
       "<table border=\"1\" class=\"dataframe\">\n",
       "  <thead>\n",
       "    <tr style=\"text-align: right;\">\n",
       "      <th></th>\n",
       "      <th>Название модели</th>\n",
       "      <th>Оптимальные параметры модели</th>\n",
       "      <th>Модель</th>\n",
       "      <th>ROC-AUC на валидации</th>\n",
       "    </tr>\n",
       "  </thead>\n",
       "  <tbody>\n",
       "    <tr>\n",
       "      <th>0</th>\n",
       "      <td>CatBoostClassifier</td>\n",
       "      <td>{'classifier__depth': 4, 'classifier__iteratio...</td>\n",
       "      <td>(ColumnTransformer(transformers=[('cat', OneHo...</td>\n",
       "      <td>0.920917</td>\n",
       "    </tr>\n",
       "    <tr>\n",
       "      <th>1</th>\n",
       "      <td>LGBMClassifier</td>\n",
       "      <td>{'classifier__learning_rate': 0.3, 'classifier...</td>\n",
       "      <td>(ColumnTransformer(transformers=[('cat', OneHo...</td>\n",
       "      <td>0.899483</td>\n",
       "    </tr>\n",
       "    <tr>\n",
       "      <th>2</th>\n",
       "      <td>RandomForestClassifier</td>\n",
       "      <td>{'classifier__class_weight': 'balanced', 'clas...</td>\n",
       "      <td>(ColumnTransformer(transformers=[('cat', OneHo...</td>\n",
       "      <td>0.850577</td>\n",
       "    </tr>\n",
       "    <tr>\n",
       "      <th>3</th>\n",
       "      <td>LogisticRegression</td>\n",
       "      <td>{'classifier__class_weight': 'balanced', 'clas...</td>\n",
       "      <td>(ColumnTransformer(transformers=[('cat', OneHo...</td>\n",
       "      <td>0.844315</td>\n",
       "    </tr>\n",
       "    <tr>\n",
       "      <th>4</th>\n",
       "      <td>KNeighborsClassifier</td>\n",
       "      <td>{'classifier__n_neighbors': 9}</td>\n",
       "      <td>(ColumnTransformer(transformers=[('cat', OneHo...</td>\n",
       "      <td>0.809612</td>\n",
       "    </tr>\n",
       "    <tr>\n",
       "      <th>5</th>\n",
       "      <td>DecisionTreeClassifier</td>\n",
       "      <td>{'classifier__class_weight': 'balanced', 'clas...</td>\n",
       "      <td>(ColumnTransformer(transformers=[('cat', OneHo...</td>\n",
       "      <td>0.803511</td>\n",
       "    </tr>\n",
       "  </tbody>\n",
       "</table>\n",
       "</div>"
      ],
      "text/plain": [
       "          Название модели                       Оптимальные параметры модели  \\\n",
       "0      CatBoostClassifier  {'classifier__depth': 4, 'classifier__iteratio...   \n",
       "1          LGBMClassifier  {'classifier__learning_rate': 0.3, 'classifier...   \n",
       "2  RandomForestClassifier  {'classifier__class_weight': 'balanced', 'clas...   \n",
       "3      LogisticRegression  {'classifier__class_weight': 'balanced', 'clas...   \n",
       "4    KNeighborsClassifier                     {'classifier__n_neighbors': 9}   \n",
       "5  DecisionTreeClassifier  {'classifier__class_weight': 'balanced', 'clas...   \n",
       "\n",
       "                                              Модель  ROC-AUC на валидации  \n",
       "0  (ColumnTransformer(transformers=[('cat', OneHo...              0.920917  \n",
       "1  (ColumnTransformer(transformers=[('cat', OneHo...              0.899483  \n",
       "2  (ColumnTransformer(transformers=[('cat', OneHo...              0.850577  \n",
       "3  (ColumnTransformer(transformers=[('cat', OneHo...              0.844315  \n",
       "4  (ColumnTransformer(transformers=[('cat', OneHo...              0.809612  \n",
       "5  (ColumnTransformer(transformers=[('cat', OneHo...              0.803511  "
      ]
     },
     "metadata": {},
     "output_type": "display_data"
    },
    {
     "name": "stdout",
     "output_type": "stream",
     "text": [
      "Лучшая модель:  CatBoostClassifier\n",
      "Вторая по качеству модель:  LGBMClassifier\n",
      "Третья по качеству модель:  RandomForestClassifier\n"
     ]
    }
   ],
   "source": [
    "result = []\n",
    "\n",
    "for classifier, params in zip(classifiers, parameters):\n",
    "    clf = Pipeline(steps=[('preprocessor', preprocessor), ('classifier', classifier)])\n",
    "    model = GridSearchCV(clf, param_grid=params, cv=5, scoring='roc_auc', n_jobs=-1).fit(X_train, y_train)\n",
    "    result.append([classifier.__class__.__name__, model.best_params_, model.best_estimator_, model.best_score_])\n",
    "\n",
    "result = pd.DataFrame(result, columns=['Название модели', 'Оптимальные параметры модели',\n",
    "                                       'Модель', 'ROC-AUC на валидации'])\n",
    "best_results = result.sort_values('ROC-AUC на валидации', ascending=False).reset_index(drop=True)\n",
    "\n",
    "display(best_results)\n",
    "\n",
    "best_model = best_results.loc[0, 'Название модели']\n",
    "second_model = best_results.loc[1, 'Название модели']\n",
    "third_model = best_results.loc[2, 'Название модели']\n",
    "print('Лучшая модель: ', best_model)\n",
    "print('Вторая по качеству модель: ', second_model)\n",
    "print('Третья по качеству модель: ', third_model)   "
   ]
  },
  {
   "cell_type": "code",
   "execution_count": 32,
   "metadata": {},
   "outputs": [
    {
     "data": {
      "image/png": "[encoded data removed]",
      "text/plain": [
       "<Figure size 1152x720 with 3 Axes>"
      ]
     },
     "metadata": {},
     "output_type": "display_data"
    }
   ],
   "source": [
    "fig, axs = plt.subplots(2, 2, figsize=(16, 10))\n",
    "fig.suptitle('Топ-10 признаков по важности для трёх лучших моделей', fontsize=15, y=0.95)\n",
    "\n",
    "axs = axs.ravel()\n",
    "\n",
    "for i in [0, 1, 2]:\n",
    "    perm = permutation_importance(best_results['Модель'][i], X_train, y_train, scoring='roc_auc', random_state=42)\n",
    "    sorted_idx = perm.importances_mean.argsort()[::-1][:10]\n",
    "\n",
    "    sns.barplot(x=perm.importances_mean[sorted_idx],\n",
    "                y=X_train.columns[sorted_idx], orient='h', ax=axs[i], color='#e274cf')\n",
    "\n",
    "    axs[i].set_title(str(best_results['Название модели'][i]), fontsize=15)\n",
    "    sns.despine(left=True)\n",
    "fig.delaxes(axs[3])\n",
    "plt.show()"
   ]
  },
  {
   "cell_type": "markdown",
   "metadata": {},
   "source": [
    "Для CatBoostClassifier и LGBMClassifier во вклад в метрику с большим отрывом лидирует длительность конктракта в днях, для RandomForestClassifier самый важный признак - тип контракта.  \n",
    "Удалим малозначащие признаки и проверим качество модели.   \n",
    "Для чистоты эксперимента не будет разбивать на выборки заново."
   ]
  },
  {
   "cell_type": "code",
   "execution_count": 33,
   "metadata": {},
   "outputs": [],
   "source": [
    "X_train_fe = X_train.drop(['DeviceProtection', 'SeniorCitizen',\n",
    "                           'Partner', 'Dependents', 'StreamingTV'], axis=1)\n",
    "X_test_fe = X_test.drop(['DeviceProtection', 'SeniorCitizen',\n",
    "                         'Partner', 'Dependents', 'StreamingTV'], axis=1)\n",
    "y_train_fe = y_train\n",
    "y_test_fe = y_test"
   ]
  },
  {
   "cell_type": "code",
   "execution_count": 34,
   "metadata": {},
   "outputs": [
    {
     "data": {
      "text/html": [
       "<div>\n",
       "<style scoped>\n",
       "    .dataframe tbody tr th:only-of-type {\n",
       "        vertical-align: middle;\n",
       "    }\n",
       "\n",
       "    .dataframe tbody tr th {\n",
       "        vertical-align: top;\n",
       "    }\n",
       "\n",
       "    .dataframe thead th {\n",
       "        text-align: right;\n",
       "    }\n",
       "</style>\n",
       "<table border=\"1\" class=\"dataframe\">\n",
       "  <thead>\n",
       "    <tr style=\"text-align: right;\">\n",
       "      <th></th>\n",
       "      <th>Название модели</th>\n",
       "      <th>Оптимальные параметры модели</th>\n",
       "      <th>Модель</th>\n",
       "      <th>ROC-AUC на валидации</th>\n",
       "    </tr>\n",
       "  </thead>\n",
       "  <tbody>\n",
       "    <tr>\n",
       "      <th>0</th>\n",
       "      <td>CatBoostClassifier</td>\n",
       "      <td>{'classifier__depth': 4, 'classifier__iteratio...</td>\n",
       "      <td>(ColumnTransformer(transformers=[('cat', OneHo...</td>\n",
       "      <td>0.927632</td>\n",
       "    </tr>\n",
       "    <tr>\n",
       "      <th>1</th>\n",
       "      <td>LGBMClassifier</td>\n",
       "      <td>{'classifier__learning_rate': 0.35, 'classifie...</td>\n",
       "      <td>(ColumnTransformer(transformers=[('cat', OneHo...</td>\n",
       "      <td>0.905290</td>\n",
       "    </tr>\n",
       "    <tr>\n",
       "      <th>2</th>\n",
       "      <td>RandomForestClassifier</td>\n",
       "      <td>{'classifier__class_weight': 'balanced', 'clas...</td>\n",
       "      <td>(ColumnTransformer(transformers=[('cat', OneHo...</td>\n",
       "      <td>0.854994</td>\n",
       "    </tr>\n",
       "  </tbody>\n",
       "</table>\n",
       "</div>"
      ],
      "text/plain": [
       "          Название модели                       Оптимальные параметры модели  \\\n",
       "0      CatBoostClassifier  {'classifier__depth': 4, 'classifier__iteratio...   \n",
       "1          LGBMClassifier  {'classifier__learning_rate': 0.35, 'classifie...   \n",
       "2  RandomForestClassifier  {'classifier__class_weight': 'balanced', 'clas...   \n",
       "\n",
       "                                              Модель  ROC-AUC на валидации  \n",
       "0  (ColumnTransformer(transformers=[('cat', OneHo...              0.927632  \n",
       "1  (ColumnTransformer(transformers=[('cat', OneHo...              0.905290  \n",
       "2  (ColumnTransformer(transformers=[('cat', OneHo...              0.854994  "
      ]
     },
     "metadata": {},
     "output_type": "display_data"
    },
    {
     "name": "stdout",
     "output_type": "stream",
     "text": [
      "Лучшая модель:  CatBoostClassifier\n",
      "Вторая по качеству модель:  LGBMClassifier\n",
      "Третья по качеству модель:  RandomForestClassifier\n"
     ]
    }
   ],
   "source": [
    "cat_features = ['Type', 'PaymentMethod', 'InternetService', 'PaperlessBilling', 'OnlineSecurity',\n",
    "                'OnlineBackup', 'TechSupport', 'StreamingMovies', 'gender', 'MultipleLines']\n",
    "\n",
    "preprocessor = ColumnTransformer(transformers=[('cat', categorical_transformer, cat_features),\n",
    "                                               ('num', numeric_transformer, numeric_features)])\n",
    "\n",
    "classifiers = [RandomForestClassifier(random_state=42),\n",
    "               LGBMClassifier(metric='AUC', random_state=42),\n",
    "               CatBoostClassifier(random_state=42, verbose=False)]\n",
    "\n",
    "parameters = [{'classifier__n_estimators': range(40, 100, 10), 'classifier__max_depth': range(5, 10, 1),\n",
    "               'classifier__class_weight': ['balanced']},\n",
    "\n",
    "              {'classifier__learning_rate': [0.3, 0.35], 'classifier__max_depth': range(2, 10, 1)},\n",
    "\n",
    "              {'classifier__learning_rate': [0.4, 0.45, 0.5], 'classifier__iterations': range(100, 200, 50),\n",
    "               'classifier__depth': [4, 5]}\n",
    "\n",
    "              ]\n",
    "\n",
    "result_fe = []\n",
    "\n",
    "for classifier, params in zip(classifiers, parameters):\n",
    "    clf = Pipeline(steps=[('preprocessor', preprocessor), ('classifier', classifier)])\n",
    "    model = GridSearchCV(clf, param_grid=params, cv=5, scoring='roc_auc', n_jobs=-1).fit(X_train_fe, y_train_fe)\n",
    "    result_fe.append([classifier.__class__.__name__, model.best_params_, model.best_estimator_, model.best_score_])\n",
    "\n",
    "result_fe = pd.DataFrame(result_fe, columns=['Название модели', 'Оптимальные параметры модели',\n",
    "                                             'Модель', 'ROC-AUC на валидации'])\n",
    "best_results_fe = result_fe.sort_values('ROC-AUC на валидации', ascending=False).reset_index(drop=True)\n",
    "\n",
    "display(best_results_fe)\n",
    "\n",
    "best_model_fe = best_results_fe.loc[0, 'Название модели']\n",
    "second_model_fe = best_results_fe.loc[1, 'Название модели']\n",
    "third_model_fe = best_results_fe.loc[2, 'Название модели']\n",
    "print('Лучшая модель: ', best_model_fe)\n",
    "print('Вторая по качеству модель: ', second_model_fe)\n",
    "print('Третья по качеству модель: ', third_model_fe)"
   ]
  },
  {
   "cell_type": "markdown",
   "metadata": {},
   "source": [
    "Качество улучшилось! Переходим к тестированию лучших моделей."
   ]
  },
  {
   "cell_type": "markdown",
   "metadata": {},
   "source": [
    "## Тестирование лучших моделей"
   ]
  },
  {
   "cell_type": "markdown",
   "metadata": {},
   "source": [
    "Протестируем 3 лучшие модели на тестовой выборке и посмотрим как именно они ошибаются."
   ]
  },
  {
   "cell_type": "code",
   "execution_count": 35,
   "metadata": {},
   "outputs": [
    {
     "name": "stdout",
     "output_type": "stream",
     "text": [
      "Лучшая модель:  CatBoostClassifier {'classifier__depth': 4, 'classifier__iterations': 150, 'classifier__learning_rate': 0.4}\n",
      "Вторая по качеству модель:  LGBMClassifier {'classifier__learning_rate': 0.35, 'classifier__max_depth': 4}\n",
      "Третья по качеству модель:  RandomForestClassifier {'classifier__class_weight': 'balanced', 'classifier__max_depth': 8, 'classifier__n_estimators': 90}\n"
     ]
    }
   ],
   "source": [
    "best_model = best_results_fe.loc[0, 'Название модели']\n",
    "second_model = best_results_fe.loc[1, 'Название модели']\n",
    "third_model = best_results_fe.loc[2, 'Название модели']\n",
    "\n",
    "best_params = best_results_fe.loc[0, 'Оптимальные параметры модели']\n",
    "second_params = best_results_fe.loc[1, 'Оптимальные параметры модели']\n",
    "third_params = best_results_fe.loc[2, 'Оптимальные параметры модели']\n",
    "\n",
    "print('Лучшая модель: ', best_model, best_params)\n",
    "print('Вторая по качеству модель: ', second_model, second_params)\n",
    "print('Третья по качеству модель: ', third_model, third_params)"
   ]
  },
  {
   "cell_type": "markdown",
   "metadata": {},
   "source": [
    "Смотрим на ошибки и метрики на тестовых данных."
   ]
  },
  {
   "cell_type": "code",
   "execution_count": 36,
   "metadata": {},
   "outputs": [
    {
     "data": {
      "image/png": "[encoded data removed]",
      "text/plain": [
       "<Figure size 1152x324 with 3 Axes>"
      ]
     },
     "metadata": {},
     "output_type": "display_data"
    },
    {
     "data": {
      "image/png": "[encoded data removed]",
      "text/plain": [
       "<Figure size 1152x324 with 3 Axes>"
      ]
     },
     "metadata": {},
     "output_type": "display_data"
    },
    {
     "data": {
      "image/png": "[encoded data removed]",
      "text/plain": [
       "<Figure size 1152x324 with 3 Axes>"
      ]
     },
     "metadata": {},
     "output_type": "display_data"
    },
    {
     "data": {
      "text/html": [
       "<div>\n",
       "<style scoped>\n",
       "    .dataframe tbody tr th:only-of-type {\n",
       "        vertical-align: middle;\n",
       "    }\n",
       "\n",
       "    .dataframe tbody tr th {\n",
       "        vertical-align: top;\n",
       "    }\n",
       "\n",
       "    .dataframe thead th {\n",
       "        text-align: right;\n",
       "    }\n",
       "</style>\n",
       "<table border=\"1\" class=\"dataframe\">\n",
       "  <thead>\n",
       "    <tr style=\"text-align: right;\">\n",
       "      <th></th>\n",
       "      <th>Название модели</th>\n",
       "      <th>Параметры модели</th>\n",
       "      <th>ROC-AUC</th>\n",
       "      <th>F1-мера</th>\n",
       "      <th>Accuracy</th>\n",
       "      <th>Average precision</th>\n",
       "      <th>Precision</th>\n",
       "      <th>Recall</th>\n",
       "    </tr>\n",
       "  </thead>\n",
       "  <tbody>\n",
       "    <tr>\n",
       "      <th>0</th>\n",
       "      <td>CatBoostClassifier</td>\n",
       "      <td>{'classifier__depth': 4, 'classifier__iteratio...</td>\n",
       "      <td>0.930964</td>\n",
       "      <td>0.752239</td>\n",
       "      <td>0.882186</td>\n",
       "      <td>0.870836</td>\n",
       "      <td>0.851351</td>\n",
       "      <td>0.673797</td>\n",
       "    </tr>\n",
       "    <tr>\n",
       "      <th>1</th>\n",
       "      <td>LGBMClassifier</td>\n",
       "      <td>{'classifier__learning_rate': 0.35, 'classifie...</td>\n",
       "      <td>0.911044</td>\n",
       "      <td>0.715569</td>\n",
       "      <td>0.865153</td>\n",
       "      <td>0.826216</td>\n",
       "      <td>0.812925</td>\n",
       "      <td>0.639037</td>\n",
       "    </tr>\n",
       "    <tr>\n",
       "      <th>2</th>\n",
       "      <td>RandomForestClassifier</td>\n",
       "      <td>{'classifier__class_weight': 'balanced', 'clas...</td>\n",
       "      <td>0.847059</td>\n",
       "      <td>0.634956</td>\n",
       "      <td>0.765791</td>\n",
       "      <td>0.679386</td>\n",
       "      <td>0.541509</td>\n",
       "      <td>0.767380</td>\n",
       "    </tr>\n",
       "  </tbody>\n",
       "</table>\n",
       "</div>"
      ],
      "text/plain": [
       "          Название модели                                   Параметры модели  \\\n",
       "0      CatBoostClassifier  {'classifier__depth': 4, 'classifier__iteratio...   \n",
       "1          LGBMClassifier  {'classifier__learning_rate': 0.35, 'classifie...   \n",
       "2  RandomForestClassifier  {'classifier__class_weight': 'balanced', 'clas...   \n",
       "\n",
       "    ROC-AUC   F1-мера  Accuracy  Average precision  Precision    Recall  \n",
       "0  0.930964  0.752239  0.882186           0.870836   0.851351  0.673797  \n",
       "1  0.911044  0.715569  0.865153           0.826216   0.812925  0.639037  \n",
       "2  0.847059  0.634956  0.765791           0.679386   0.541509  0.767380  "
      ]
     },
     "metadata": {},
     "output_type": "display_data"
    }
   ],
   "source": [
    "test_results_fe = []\n",
    "for i in [0, 1, 2]:\n",
    "    clf = best_results_fe['Модель'][i]\n",
    "    у_pred = clf.predict(X_test_fe)\n",
    "\n",
    "    # метрики\n",
    "    accuracy = accuracy_score(y_test_fe, у_pred)\n",
    "    probabilities_test = clf.predict_proba(X_test_fe)\n",
    "    probabilities_one_test = probabilities_test[:, 1]\n",
    "    roc_auc = roc_auc_score(y_test_fe, probabilities_one_test)\n",
    "    f1 = f1_score(y_test_fe, у_pred)\n",
    "    precision = precision_score(y_test_fe, у_pred)\n",
    "    recall = recall_score(y_test_fe, у_pred)\n",
    "    average_precision = average_precision_score(y_test_fe, probabilities_one_test)\n",
    "\n",
    "    sns.set(font_scale=1)\n",
    "    sns.set_style(\"whitegrid\")\n",
    "    sns.set_palette(\"deep\")\n",
    "\n",
    "    # определим количество фигур и размер\n",
    "    fig, axs = plt.subplots(1, 3, figsize=(16, 4.5))\n",
    "    fig.suptitle('Матрица ошибок, ROC-кривая и PR-кривая модели '\n",
    "                 + str(best_results_fe['Название модели'][i]) + ' на тестовых данных', fontsize=15)\n",
    "    axs = axs.ravel()\n",
    "\n",
    "    # блок для матрицы ошибок\n",
    "    sns.heatmap(confusion_matrix(y_test_fe, у_pred), annot=True, fmt='d', cmap=\"RdPu\", cbar=False, ax=axs[0])\n",
    "    axs[0].set_xlabel('Predicted')\n",
    "    axs[0].tick_params(labelrotation=0)\n",
    "    axs[0].set_ylabel('True')\n",
    "\n",
    "    # блок для ROC-кривой\n",
    "    fpr, tpr, thresholds = roc_curve(y_test_fe, probabilities_one_test)\n",
    "    lw = 2\n",
    "    axs[1].plot(fpr, tpr, lw=lw)\n",
    "    axs[1].plot([0, 1], [0, 1])\n",
    "    axs[1].set_xlim([-0.02, 1])\n",
    "    axs[1].set_ylim([0.0, 1.02])\n",
    "    axs[1].set_xlabel('False Positive Rate')\n",
    "    axs[1].set_ylabel('True Positive Rate')\n",
    "    axs[1].text(0.5, 0.3,\n",
    "                'ROC-AUC = ' + str(roc_auc)[:5] + '\\n' + 'Accuracy = ' + str(accuracy)[:5] + '\\n' + 'F1 = ' + str(f1)[\n",
    "                                                                                                              :5])\n",
    "\n",
    "    # блок для PR-кривой\n",
    "    precision_plt, recall_plt, thresholds = precision_recall_curve(y_test_fe, probabilities_one_test)\n",
    "    axs[2].step(recall_plt, precision_plt, where='post')\n",
    "    axs[2].set_xlabel('Recall(Positive label: 1)')\n",
    "    axs[2].set_ylabel('Precision(Positive label: 1)')\n",
    "    axs[2].set_xlim([-0.02, 1])\n",
    "    axs[2].set_ylim([0.0, 1.02])\n",
    "    axs[2].text(0.2, 0.3, 'Average precision = ' + str(average_precision)[:5])\n",
    "    plt.show()\n",
    "\n",
    "    test_results_fe.append([best_results_fe['Название модели'][i], best_results_fe['Оптимальные параметры модели'][i],\n",
    "                            roc_auc, f1, accuracy, average_precision, precision, recall])\n",
    "\n",
    "test_results_fe = pd.DataFrame(test_results_fe, columns=['Название модели', 'Параметры модели', 'ROC-AUC',\n",
    "                                                         'F1-мера', 'Accuracy', 'Average precision', 'Precision',\n",
    "                                                         'Recall'])\n",
    "test_results_fe = test_results_fe.sort_values('ROC-AUC', ascending=False).reset_index(drop=True)\n",
    "display(test_results_fe)"
   ]
  },
  {
   "cell_type": "markdown",
   "metadata": {},
   "source": [
    "## Вывод"
   ]
  },
  {
   "cell_type": "markdown",
   "metadata": {},
   "source": [
    "***Что было сделано:***\n",
    "- Изучили и предобработали данные.\n",
    "- Добавили признак `LTDays` — длительность контракта в днях.\n",
    "- Объединили таблицы.\n",
    "- Пропущенные значения после объединения таблиц записали как `Unsupported`.\n",
    "- Из обучающих признаков удалили `BeginDate`,`EndDate` и `TotalCharges`.\n",
    "- Подготовили данные к обучению, отделив 20% на тестовую выборку.\n",
    "- Написали `preprocessor` со `StandardScaler` для числовых признаков и `OneHotEncoder` для категориальных.\n",
    "- Нашли оптимальные параметры с помощью `GridSearchCV`. Результаты и зафиченные модели(`best_estimator_`) сохранены в `best_results_fe`.\n",
    "- Исследовали важность признаков для трёх лучших моделей.\n",
    "- Протестировали лучшие модели на тестовой выборки, построили матрицы ошибок, ROC- и PR-кривые.\n",
    "- Рассчитали дополнительные метрики: F1-меру, average precision, precision, recall.\n",
    "\n",
    "***Результаты:*** \n",
    "- Лучший результат из рассмотренных моделей у CatBoostClassifier, ROC-AUC на тесте 0.931, это выше целевого 0.88.  \n",
    "- Стоит отметить, что у модели RandomForestClassifier меньше всего ошибок второго рода и самое высокое значение метрики полноты(`recall` 0.767) \n",
    "- Для CatBoostClassifier и LGBMClassifier во вклад в метрику с большим отрывом лидирует длительность конктракта в днях, для RandomForestClassifier самый важный признак - тип контракта.\n",
    "\n",
    "Подробные результаты с графиками можно посмотреть в пункте `Тестирование лучших моделей`, метрики и параметры лучших моделей сохранены в `test_results_fe`.  \n",
    "\n",
    "***Что еще надо сделать:***\n",
    "- Получить от коммерческого отдела информацию о себестоимости услуг.\n",
    "- Если у нас будет информация по стоимости удержания клиента и убытках от ухода, то мы сможем понять цену ошибки предсказания и точнее подобрать модели.\n",
    "- Можем даже кластеризовать клиентов и построить разные модели для каждой группы."
   ]
  }
 ],
 "metadata": {
  "ExecuteTimeLog": [
   {
    "duration": 1514,
    "start_time": "2021-08-18T04:25:15.222Z"
   },
   {
    "duration": 7,
    "start_time": "2021-08-18T04:25:19.142Z"
   },
   {
    "duration": 8,
    "start_time": "2021-08-18T04:25:20.039Z"
   },
   {
    "duration": 7,
    "start_time": "2021-08-18T04:25:21.382Z"
   },
   {
    "duration": 112,
    "start_time": "2021-08-18T04:25:23.782Z"
   },
   {
    "duration": 4,
    "start_time": "2021-08-18T04:27:39.535Z"
   },
   {
    "duration": 131,
    "start_time": "2021-08-18T04:28:57.437Z"
   },
   {
    "duration": 1145,
    "start_time": "2021-08-18T04:32:29.557Z"
   },
   {
    "duration": 458,
    "start_time": "2021-08-18T04:36:28.005Z"
   },
   {
    "duration": 579,
    "start_time": "2021-08-18T06:19:35.306Z"
   },
   {
    "duration": 2112,
    "start_time": "2021-08-18T06:20:03.701Z"
   },
   {
    "duration": 1683,
    "start_time": "2021-08-18T06:22:02.788Z"
   },
   {
    "duration": 141,
    "start_time": "2021-08-18T06:22:58.869Z"
   },
   {
    "duration": 1703,
    "start_time": "2021-08-18T06:23:28.012Z"
   },
   {
    "duration": 2163,
    "start_time": "2021-08-18T06:26:20.529Z"
   },
   {
    "duration": 232,
    "start_time": "2021-08-18T06:31:19.292Z"
   },
   {
    "duration": 303,
    "start_time": "2021-08-18T06:31:43.632Z"
   },
   {
    "duration": 300,
    "start_time": "2021-08-18T06:32:01.244Z"
   },
   {
    "duration": 302,
    "start_time": "2021-08-18T06:32:38.205Z"
   },
   {
    "duration": 1109,
    "start_time": "2021-08-18T06:39:26.415Z"
   },
   {
    "duration": 292,
    "start_time": "2021-08-18T06:39:53.500Z"
   },
   {
    "duration": 289,
    "start_time": "2021-08-18T06:40:03.981Z"
   },
   {
    "duration": 269,
    "start_time": "2021-08-18T06:40:22.602Z"
   },
   {
    "duration": 233,
    "start_time": "2021-08-18T06:40:55.105Z"
   },
   {
    "duration": 235,
    "start_time": "2021-08-18T06:41:27.300Z"
   },
   {
    "duration": 242,
    "start_time": "2021-08-18T06:46:07.061Z"
   },
   {
    "duration": 29,
    "start_time": "2021-08-18T07:12:52.829Z"
   },
   {
    "duration": 28,
    "start_time": "2021-08-18T07:13:05.149Z"
   },
   {
    "duration": 441,
    "start_time": "2021-08-18T07:31:25.471Z"
   },
   {
    "duration": 409,
    "start_time": "2021-08-18T07:31:38.288Z"
   },
   {
    "duration": 398,
    "start_time": "2021-08-18T07:31:53.679Z"
   },
   {
    "duration": 18,
    "start_time": "2021-08-18T07:36:43.464Z"
   },
   {
    "duration": 193,
    "start_time": "2021-08-18T07:38:49.678Z"
   },
   {
    "duration": 8,
    "start_time": "2021-08-18T08:14:39.468Z"
   },
   {
    "duration": 15,
    "start_time": "2021-08-18T08:17:22.550Z"
   },
   {
    "duration": 10,
    "start_time": "2021-08-18T08:31:01.211Z"
   },
   {
    "duration": 613,
    "start_time": "2021-08-18T08:31:04.898Z"
   },
   {
    "duration": 9,
    "start_time": "2021-08-18T08:32:15.545Z"
   },
   {
    "duration": 395,
    "start_time": "2021-08-18T08:32:21.449Z"
   },
   {
    "duration": 107,
    "start_time": "2021-08-18T08:32:58.781Z"
   },
   {
    "duration": 5,
    "start_time": "2021-08-18T08:33:00.797Z"
   },
   {
    "duration": 10,
    "start_time": "2021-08-18T08:33:10.230Z"
   },
   {
    "duration": 16,
    "start_time": "2021-08-18T08:33:15.437Z"
   },
   {
    "duration": 18,
    "start_time": "2021-08-18T08:33:36.612Z"
   },
   {
    "duration": 7,
    "start_time": "2021-08-18T08:35:22.201Z"
   },
   {
    "duration": 17,
    "start_time": "2021-08-18T08:35:23.014Z"
   },
   {
    "duration": 8,
    "start_time": "2021-08-18T08:36:21.869Z"
   },
   {
    "duration": 17,
    "start_time": "2021-08-18T08:36:22.679Z"
   },
   {
    "duration": 12,
    "start_time": "2021-08-18T08:39:23.476Z"
   },
   {
    "duration": 48,
    "start_time": "2021-08-18T08:39:50.104Z"
   },
   {
    "duration": 7,
    "start_time": "2021-08-18T08:39:51.128Z"
   },
   {
    "duration": 17,
    "start_time": "2021-08-18T08:39:52.036Z"
   },
   {
    "duration": 8,
    "start_time": "2021-08-18T08:44:42.442Z"
   },
   {
    "duration": 21,
    "start_time": "2021-08-18T08:44:54.784Z"
   },
   {
    "duration": 19,
    "start_time": "2021-08-18T08:45:05.354Z"
   },
   {
    "duration": 20,
    "start_time": "2021-08-18T08:45:34.410Z"
   },
   {
    "duration": 10,
    "start_time": "2021-08-18T08:45:46.615Z"
   },
   {
    "duration": 18,
    "start_time": "2021-08-18T08:45:55.838Z"
   },
   {
    "duration": 18,
    "start_time": "2021-08-18T08:51:20.394Z"
   },
   {
    "duration": 19,
    "start_time": "2021-08-18T08:51:31.758Z"
   },
   {
    "duration": 6,
    "start_time": "2021-08-18T08:52:31.766Z"
   },
   {
    "duration": 11,
    "start_time": "2021-08-18T08:52:48.114Z"
   },
   {
    "duration": 19,
    "start_time": "2021-08-18T08:52:48.904Z"
   },
   {
    "duration": 17,
    "start_time": "2021-08-18T08:54:17.521Z"
   },
   {
    "duration": 7,
    "start_time": "2021-08-18T08:55:25.855Z"
   },
   {
    "duration": 126,
    "start_time": "2021-08-20T07:18:50.883Z"
   },
   {
    "duration": 1987,
    "start_time": "2021-08-20T07:18:56.136Z"
   },
   {
    "duration": 21398,
    "start_time": "2021-08-20T07:20:34.435Z"
   },
   {
    "duration": 396,
    "start_time": "2021-08-20T07:22:04.775Z"
   },
   {
    "duration": 18518,
    "start_time": "2021-08-20T07:23:25.594Z"
   },
   {
    "duration": 372,
    "start_time": "2021-08-20T07:24:28.213Z"
   },
   {
    "duration": 395,
    "start_time": "2021-08-20T07:28:01.084Z"
   },
   {
    "duration": 16320,
    "start_time": "2021-08-20T07:29:16.544Z"
   },
   {
    "duration": 221,
    "start_time": "2021-08-20T07:29:39.624Z"
   },
   {
    "duration": 9,
    "start_time": "2021-08-20T08:05:46.041Z"
   },
   {
    "duration": 7,
    "start_time": "2021-08-20T08:05:48.804Z"
   },
   {
    "duration": 109,
    "start_time": "2021-08-20T08:05:50.873Z"
   },
   {
    "duration": 4,
    "start_time": "2021-08-20T08:05:51.983Z"
   },
   {
    "duration": 1400,
    "start_time": "2021-08-20T08:05:52.810Z"
   },
   {
    "duration": 8701,
    "start_time": "2021-08-20T08:05:54.213Z"
   },
   {
    "duration": 104,
    "start_time": "2021-08-20T08:07:06.768Z"
   },
   {
    "duration": 4,
    "start_time": "2021-08-20T08:07:08.319Z"
   },
   {
    "duration": 489,
    "start_time": "2021-08-20T08:07:10.569Z"
   },
   {
    "duration": 9655,
    "start_time": "2021-08-20T08:07:13.159Z"
   },
   {
    "duration": 11,
    "start_time": "2021-08-20T08:08:07.111Z"
   },
   {
    "duration": 465,
    "start_time": "2021-08-20T08:08:51.243Z"
   },
   {
    "duration": 129,
    "start_time": "2021-08-20T08:09:48.980Z"
   },
   {
    "duration": 126,
    "start_time": "2021-08-20T08:10:09.825Z"
   },
   {
    "duration": 517,
    "start_time": "2021-08-20T08:10:48.051Z"
   },
   {
    "duration": 470,
    "start_time": "2021-08-20T08:11:35.766Z"
   },
   {
    "duration": 429,
    "start_time": "2021-08-20T08:12:11.744Z"
   },
   {
    "duration": 647,
    "start_time": "2021-08-20T08:14:00.992Z"
   },
   {
    "duration": 8,
    "start_time": "2021-08-20T08:14:51.281Z"
   },
   {
    "duration": 247,
    "start_time": "2021-08-20T08:15:06.596Z"
   },
   {
    "duration": 14,
    "start_time": "2021-08-20T08:15:51.427Z"
   },
   {
    "duration": 17,
    "start_time": "2021-08-20T08:15:52.301Z"
   },
   {
    "duration": 10,
    "start_time": "2021-08-20T08:15:53.494Z"
   },
   {
    "duration": 20,
    "start_time": "2021-08-20T08:15:55.049Z"
   },
   {
    "duration": 6,
    "start_time": "2021-08-20T08:22:03.214Z"
   },
   {
    "duration": 11,
    "start_time": "2021-08-20T08:24:58.838Z"
   },
   {
    "duration": 11,
    "start_time": "2021-08-20T08:27:48.116Z"
   },
   {
    "duration": 26,
    "start_time": "2021-08-20T08:38:35.342Z"
   },
   {
    "duration": 89,
    "start_time": "2021-08-20T08:38:36.729Z"
   },
   {
    "duration": 36,
    "start_time": "2021-08-20T08:39:27.684Z"
   },
   {
    "duration": 25,
    "start_time": "2021-08-20T08:39:36.345Z"
   },
   {
    "duration": 41,
    "start_time": "2021-08-20T08:43:14.317Z"
   },
   {
    "duration": 23,
    "start_time": "2021-08-20T08:43:15.181Z"
   },
   {
    "duration": 29,
    "start_time": "2021-08-20T08:46:08.450Z"
   },
   {
    "duration": 25,
    "start_time": "2021-08-20T08:47:08.549Z"
   },
   {
    "duration": 12,
    "start_time": "2021-08-20T08:47:47.598Z"
   },
   {
    "duration": 6,
    "start_time": "2021-08-20T08:49:05.621Z"
   },
   {
    "duration": 6,
    "start_time": "2021-08-20T08:49:11.129Z"
   },
   {
    "duration": 26,
    "start_time": "2021-08-20T08:51:01.989Z"
   },
   {
    "duration": 103,
    "start_time": "2021-08-20T08:51:03.297Z"
   },
   {
    "duration": 16,
    "start_time": "2021-08-20T08:51:05.221Z"
   },
   {
    "duration": 25,
    "start_time": "2021-08-20T08:51:05.961Z"
   },
   {
    "duration": 16,
    "start_time": "2021-08-20T08:51:08.469Z"
   },
   {
    "duration": 6,
    "start_time": "2021-08-20T08:51:16.665Z"
   },
   {
    "duration": 377,
    "start_time": "2021-08-20T09:04:52.834Z"
   },
   {
    "duration": 22,
    "start_time": "2021-08-20T09:05:51.674Z"
   },
   {
    "duration": 6,
    "start_time": "2021-08-20T09:06:46.717Z"
   },
   {
    "duration": 7,
    "start_time": "2021-08-20T09:09:39.451Z"
   },
   {
    "duration": 357,
    "start_time": "2021-08-20T09:10:54.925Z"
   },
   {
    "duration": 7,
    "start_time": "2021-08-20T09:11:01.634Z"
   },
   {
    "duration": 15,
    "start_time": "2021-08-20T09:11:02.435Z"
   },
   {
    "duration": 6,
    "start_time": "2021-08-20T09:11:14.597Z"
   },
   {
    "duration": 401,
    "start_time": "2021-08-20T09:11:30.394Z"
   },
   {
    "duration": 11,
    "start_time": "2021-08-20T09:12:20.103Z"
   },
   {
    "duration": 442,
    "start_time": "2021-08-20T09:12:29.642Z"
   },
   {
    "duration": 359,
    "start_time": "2021-08-20T09:13:52.825Z"
   },
   {
    "duration": 383,
    "start_time": "2021-08-20T09:14:02.576Z"
   },
   {
    "duration": 5,
    "start_time": "2021-08-20T09:14:23.922Z"
   },
   {
    "duration": 5,
    "start_time": "2021-08-20T09:14:26.481Z"
   },
   {
    "duration": 391,
    "start_time": "2021-08-20T09:14:46.415Z"
   },
   {
    "duration": 381,
    "start_time": "2021-08-20T09:15:07.341Z"
   },
   {
    "duration": 6,
    "start_time": "2021-08-20T09:16:00.180Z"
   },
   {
    "duration": 4,
    "start_time": "2021-08-20T09:16:01.373Z"
   },
   {
    "duration": 2179,
    "start_time": "2021-08-20T09:16:02.412Z"
   },
   {
    "duration": 854,
    "start_time": "2021-08-20T09:16:39.200Z"
   },
   {
    "duration": 9,
    "start_time": "2021-08-20T09:16:58.819Z"
   },
   {
    "duration": 605,
    "start_time": "2021-08-20T09:17:06.150Z"
   },
   {
    "duration": 509,
    "start_time": "2021-08-20T09:18:15.515Z"
   },
   {
    "duration": 2902,
    "start_time": "2021-08-20T09:20:26.631Z"
   },
   {
    "duration": 5,
    "start_time": "2021-08-20T09:22:22.403Z"
   },
   {
    "duration": 4,
    "start_time": "2021-08-20T09:22:23.307Z"
   },
   {
    "duration": 3441,
    "start_time": "2021-08-20T09:22:24.161Z"
   },
   {
    "duration": 5,
    "start_time": "2021-08-20T09:23:23.892Z"
   },
   {
    "duration": 4,
    "start_time": "2021-08-20T09:23:25.110Z"
   },
   {
    "duration": 3734,
    "start_time": "2021-08-20T09:23:25.971Z"
   },
   {
    "duration": 5,
    "start_time": "2021-08-20T09:24:27.005Z"
   },
   {
    "duration": 5,
    "start_time": "2021-08-20T09:24:38.534Z"
   },
   {
    "duration": 4,
    "start_time": "2021-08-20T09:24:39.470Z"
   },
   {
    "duration": 5598,
    "start_time": "2021-08-20T09:24:40.411Z"
   },
   {
    "duration": 5,
    "start_time": "2021-08-20T09:25:10.680Z"
   },
   {
    "duration": 5,
    "start_time": "2021-08-20T09:25:11.422Z"
   },
   {
    "duration": 4426,
    "start_time": "2021-08-20T09:25:12.180Z"
   },
   {
    "duration": 5,
    "start_time": "2021-08-20T09:25:38.767Z"
   },
   {
    "duration": 4,
    "start_time": "2021-08-20T09:25:39.575Z"
   },
   {
    "duration": 4205,
    "start_time": "2021-08-20T09:25:40.311Z"
   },
   {
    "duration": 5,
    "start_time": "2021-08-20T09:26:56.101Z"
   },
   {
    "duration": 5,
    "start_time": "2021-08-20T09:26:57.040Z"
   },
   {
    "duration": 4272,
    "start_time": "2021-08-20T09:26:57.929Z"
   },
   {
    "duration": 5,
    "start_time": "2021-08-20T09:27:19.226Z"
   },
   {
    "duration": 4,
    "start_time": "2021-08-20T09:27:20.545Z"
   },
   {
    "duration": 4024,
    "start_time": "2021-08-20T09:27:21.484Z"
   },
   {
    "duration": 5,
    "start_time": "2021-08-20T09:27:34.814Z"
   },
   {
    "duration": 5,
    "start_time": "2021-08-20T09:27:35.823Z"
   },
   {
    "duration": 4956,
    "start_time": "2021-08-20T09:27:36.747Z"
   },
   {
    "duration": 5,
    "start_time": "2021-08-20T09:27:49.020Z"
   },
   {
    "duration": 4,
    "start_time": "2021-08-20T09:27:49.880Z"
   },
   {
    "duration": 4364,
    "start_time": "2021-08-20T09:27:50.646Z"
   },
   {
    "duration": 9,
    "start_time": "2021-08-20T09:29:23.447Z"
   },
   {
    "duration": 4,
    "start_time": "2021-08-20T09:29:57.932Z"
   },
   {
    "duration": 4,
    "start_time": "2021-08-20T09:29:58.746Z"
   },
   {
    "duration": 6795,
    "start_time": "2021-08-20T09:29:59.881Z"
   },
   {
    "duration": 5,
    "start_time": "2021-08-20T09:30:38.936Z"
   },
   {
    "duration": 6,
    "start_time": "2021-08-20T09:30:40.027Z"
   },
   {
    "duration": 5081,
    "start_time": "2021-08-20T09:30:40.921Z"
   },
   {
    "duration": 5,
    "start_time": "2021-08-20T09:30:55.245Z"
   },
   {
    "duration": 4,
    "start_time": "2021-08-20T09:30:56.115Z"
   },
   {
    "duration": 6328,
    "start_time": "2021-08-20T09:30:56.881Z"
   },
   {
    "duration": 9,
    "start_time": "2021-08-20T09:33:07.944Z"
   },
   {
    "duration": 6,
    "start_time": "2021-08-20T09:34:03.366Z"
   },
   {
    "duration": 5,
    "start_time": "2021-08-20T09:34:04.341Z"
   },
   {
    "duration": 7508,
    "start_time": "2021-08-20T09:34:05.238Z"
   },
   {
    "duration": 6,
    "start_time": "2021-08-20T09:34:34.028Z"
   },
   {
    "duration": 5,
    "start_time": "2021-08-20T09:34:34.857Z"
   },
   {
    "duration": 5347,
    "start_time": "2021-08-20T09:34:35.601Z"
   },
   {
    "duration": 6,
    "start_time": "2021-08-20T09:35:23.869Z"
   },
   {
    "duration": 4,
    "start_time": "2021-08-20T09:35:24.759Z"
   },
   {
    "duration": 4843,
    "start_time": "2021-08-20T09:35:25.539Z"
   },
   {
    "duration": 6,
    "start_time": "2021-08-20T09:37:14.401Z"
   },
   {
    "duration": 5,
    "start_time": "2021-08-20T09:37:16.409Z"
   },
   {
    "duration": 6160,
    "start_time": "2021-08-20T09:37:17.191Z"
   },
   {
    "duration": 6,
    "start_time": "2021-08-20T09:37:37.918Z"
   },
   {
    "duration": 5,
    "start_time": "2021-08-20T09:37:38.975Z"
   },
   {
    "duration": 4878,
    "start_time": "2021-08-20T09:37:39.723Z"
   },
   {
    "duration": 5,
    "start_time": "2021-08-20T09:37:52.728Z"
   },
   {
    "duration": 5,
    "start_time": "2021-08-20T09:37:53.616Z"
   },
   {
    "duration": 4800,
    "start_time": "2021-08-20T09:37:54.330Z"
   },
   {
    "duration": 6,
    "start_time": "2021-08-20T09:38:45.241Z"
   },
   {
    "duration": 6,
    "start_time": "2021-08-20T09:38:46.371Z"
   },
   {
    "duration": 4797,
    "start_time": "2021-08-20T09:38:47.108Z"
   },
   {
    "duration": 6,
    "start_time": "2021-08-20T09:40:25.159Z"
   },
   {
    "duration": 5,
    "start_time": "2021-08-20T09:40:25.877Z"
   },
   {
    "duration": 5011,
    "start_time": "2021-08-20T09:40:26.600Z"
   },
   {
    "duration": 5,
    "start_time": "2021-08-20T09:43:17.186Z"
   },
   {
    "duration": 5,
    "start_time": "2021-08-20T09:43:17.947Z"
   },
   {
    "duration": 1259,
    "start_time": "2021-08-20T09:43:18.663Z"
   },
   {
    "duration": 5,
    "start_time": "2021-08-20T09:43:46.186Z"
   },
   {
    "duration": 5,
    "start_time": "2021-08-20T09:43:46.913Z"
   },
   {
    "duration": 3510,
    "start_time": "2021-08-20T09:43:47.634Z"
   },
   {
    "duration": 4,
    "start_time": "2021-08-20T09:44:00.889Z"
   },
   {
    "duration": 4,
    "start_time": "2021-08-20T09:44:01.565Z"
   },
   {
    "duration": 870,
    "start_time": "2021-08-20T09:44:02.240Z"
   },
   {
    "duration": 4,
    "start_time": "2021-08-20T09:44:38.282Z"
   },
   {
    "duration": 5,
    "start_time": "2021-08-20T09:44:38.969Z"
   },
   {
    "duration": 1517,
    "start_time": "2021-08-20T09:44:39.689Z"
   },
   {
    "duration": 4,
    "start_time": "2021-08-20T09:48:25.013Z"
   },
   {
    "duration": 4,
    "start_time": "2021-08-20T09:48:25.711Z"
   },
   {
    "duration": 99604,
    "start_time": "2021-08-20T09:48:26.414Z"
   },
   {
    "duration": 4,
    "start_time": "2021-08-20T09:51:20.601Z"
   },
   {
    "duration": 5,
    "start_time": "2021-08-20T09:51:21.520Z"
   },
   {
    "duration": 36314,
    "start_time": "2021-08-20T09:51:22.201Z"
   },
   {
    "duration": 4,
    "start_time": "2021-08-20T09:52:15.560Z"
   },
   {
    "duration": 4,
    "start_time": "2021-08-20T09:52:16.269Z"
   },
   {
    "duration": 25647,
    "start_time": "2021-08-20T09:52:16.980Z"
   },
   {
    "duration": 386,
    "start_time": "2021-08-20T09:56:15.222Z"
   },
   {
    "duration": 396,
    "start_time": "2021-08-20T09:57:18.971Z"
   },
   {
    "duration": 104,
    "start_time": "2021-08-20T09:57:38.395Z"
   },
   {
    "duration": 4,
    "start_time": "2021-08-20T09:57:40.799Z"
   },
   {
    "duration": 19,
    "start_time": "2021-08-20T09:57:53.431Z"
   },
   {
    "duration": 444,
    "start_time": "2021-08-20T09:58:02.199Z"
   },
   {
    "duration": 2447,
    "start_time": "2021-08-20T09:58:11.640Z"
   },
   {
    "duration": 369,
    "start_time": "2021-08-20T09:58:49.282Z"
   },
   {
    "duration": 402,
    "start_time": "2021-08-20T09:59:30.961Z"
   },
   {
    "duration": 406,
    "start_time": "2021-08-20T10:00:01.831Z"
   },
   {
    "duration": 16,
    "start_time": "2021-08-20T10:00:08.999Z"
   },
   {
    "duration": 10,
    "start_time": "2021-08-20T10:00:10.191Z"
   },
   {
    "duration": 24,
    "start_time": "2021-08-20T10:00:11.460Z"
   },
   {
    "duration": 16,
    "start_time": "2021-08-20T10:00:28.111Z"
   },
   {
    "duration": 9,
    "start_time": "2021-08-20T10:00:38.391Z"
   },
   {
    "duration": 19,
    "start_time": "2021-08-20T10:00:39.698Z"
   },
   {
    "duration": 6,
    "start_time": "2021-08-20T10:01:08.859Z"
   },
   {
    "duration": 14,
    "start_time": "2021-08-20T10:01:10.758Z"
   },
   {
    "duration": 10,
    "start_time": "2021-08-20T10:01:12.710Z"
   },
   {
    "duration": 25,
    "start_time": "2021-08-20T10:01:14.058Z"
   },
   {
    "duration": 93,
    "start_time": "2021-08-20T10:01:14.478Z"
   },
   {
    "duration": 15,
    "start_time": "2021-08-20T10:01:14.930Z"
   },
   {
    "duration": 28,
    "start_time": "2021-08-20T10:01:15.166Z"
   },
   {
    "duration": 18,
    "start_time": "2021-08-20T10:01:15.390Z"
   },
   {
    "duration": 7,
    "start_time": "2021-08-20T10:01:15.606Z"
   },
   {
    "duration": 8,
    "start_time": "2021-08-20T10:01:16.339Z"
   },
   {
    "duration": 7,
    "start_time": "2021-08-20T10:01:37.476Z"
   },
   {
    "duration": 14,
    "start_time": "2021-08-20T10:01:38.510Z"
   },
   {
    "duration": 6,
    "start_time": "2021-08-20T10:01:40.938Z"
   },
   {
    "duration": 6,
    "start_time": "2021-08-20T10:01:48.286Z"
   },
   {
    "duration": 4,
    "start_time": "2021-08-20T10:01:55.411Z"
   },
   {
    "duration": 4,
    "start_time": "2021-08-20T10:01:56.252Z"
   },
   {
    "duration": 95839,
    "start_time": "2021-08-20T10:01:56.978Z"
   },
   {
    "duration": 8,
    "start_time": "2021-08-20T10:07:30.783Z"
   },
   {
    "duration": 4,
    "start_time": "2021-08-20T10:13:08.685Z"
   },
   {
    "duration": 5,
    "start_time": "2021-08-20T10:13:09.368Z"
   },
   {
    "duration": 2116,
    "start_time": "2021-08-20T10:13:10.097Z"
   },
   {
    "duration": 7,
    "start_time": "2021-08-20T10:13:16.117Z"
   },
   {
    "duration": 1220,
    "start_time": "2021-08-20T10:17:02.710Z"
   },
   {
    "duration": 218,
    "start_time": "2021-08-20T10:20:39.705Z"
   },
   {
    "duration": 1862,
    "start_time": "2021-08-20T10:20:47.105Z"
   },
   {
    "duration": 1500,
    "start_time": "2021-08-20T10:21:16.132Z"
   },
   {
    "duration": 1151,
    "start_time": "2021-08-20T10:21:44.105Z"
   },
   {
    "duration": 1152,
    "start_time": "2021-08-20T10:22:06.602Z"
   },
   {
    "duration": 1383,
    "start_time": "2021-08-20T10:23:57.328Z"
   },
   {
    "duration": 2029,
    "start_time": "2021-08-20T10:24:04.489Z"
   },
   {
    "duration": 1077,
    "start_time": "2021-08-20T10:24:34.596Z"
   },
   {
    "duration": 1008,
    "start_time": "2021-08-20T10:24:46.816Z"
   },
   {
    "duration": 29968,
    "start_time": "2021-08-21T09:31:20.610Z"
   },
   {
    "duration": 2450,
    "start_time": "2021-08-21T09:31:50.581Z"
   },
   {
    "duration": 6,
    "start_time": "2021-08-21T09:31:53.034Z"
   },
   {
    "duration": 21,
    "start_time": "2021-08-21T09:31:53.043Z"
   },
   {
    "duration": 115,
    "start_time": "2021-08-21T09:31:53.067Z"
   },
   {
    "duration": 4,
    "start_time": "2021-08-21T09:31:53.185Z"
   },
   {
    "duration": 563,
    "start_time": "2021-08-21T09:31:53.192Z"
   },
   {
    "duration": 347,
    "start_time": "2021-08-21T09:31:53.760Z"
   },
   {
    "duration": 20,
    "start_time": "2021-08-21T09:31:54.112Z"
   },
   {
    "duration": 14,
    "start_time": "2021-08-21T09:31:54.134Z"
   },
   {
    "duration": 36,
    "start_time": "2021-08-21T09:31:54.151Z"
   },
   {
    "duration": 21,
    "start_time": "2021-08-21T09:31:54.190Z"
   },
   {
    "duration": 7,
    "start_time": "2021-08-21T09:31:54.213Z"
   },
   {
    "duration": 15,
    "start_time": "2021-08-21T09:31:54.223Z"
   },
   {
    "duration": 52,
    "start_time": "2021-08-21T09:31:54.240Z"
   },
   {
    "duration": 27,
    "start_time": "2021-08-21T09:31:54.294Z"
   },
   {
    "duration": 122,
    "start_time": "2021-08-21T09:31:54.324Z"
   },
   {
    "duration": 12,
    "start_time": "2021-08-21T09:31:54.448Z"
   },
   {
    "duration": 60,
    "start_time": "2021-08-21T09:31:54.462Z"
   },
   {
    "duration": 25,
    "start_time": "2021-08-21T09:31:54.524Z"
   },
   {
    "duration": 6,
    "start_time": "2021-08-21T09:31:54.552Z"
   },
   {
    "duration": 28,
    "start_time": "2021-08-21T09:31:54.560Z"
   },
   {
    "duration": 18,
    "start_time": "2021-08-21T09:31:54.594Z"
   },
   {
    "duration": 8,
    "start_time": "2021-08-21T09:31:54.615Z"
   },
   {
    "duration": 629,
    "start_time": "2021-08-21T09:31:54.626Z"
   },
   {
    "duration": -47,
    "start_time": "2021-08-21T09:31:55.304Z"
   },
   {
    "duration": -48,
    "start_time": "2021-08-21T09:31:55.307Z"
   },
   {
    "duration": -50,
    "start_time": "2021-08-21T09:31:55.310Z"
   },
   {
    "duration": -51,
    "start_time": "2021-08-21T09:31:55.312Z"
   },
   {
    "duration": 3,
    "start_time": "2021-08-21T09:45:19.609Z"
   },
   {
    "duration": 5,
    "start_time": "2021-08-21T09:45:20.943Z"
   },
   {
    "duration": 4,
    "start_time": "2021-08-21T09:45:23.113Z"
   },
   {
    "duration": 1976,
    "start_time": "2021-08-21T09:45:24.547Z"
   },
   {
    "duration": 1510,
    "start_time": "2021-08-21T09:45:49.783Z"
   },
   {
    "duration": 1106,
    "start_time": "2021-08-21T09:45:52.742Z"
   },
   {
    "duration": 5,
    "start_time": "2021-08-21T09:51:49.693Z"
   },
   {
    "duration": 5,
    "start_time": "2021-08-21T09:51:50.409Z"
   },
   {
    "duration": 1587,
    "start_time": "2021-08-21T09:51:51.140Z"
   },
   {
    "duration": 4,
    "start_time": "2021-08-21T09:52:26.155Z"
   },
   {
    "duration": 5,
    "start_time": "2021-08-21T09:52:26.900Z"
   },
   {
    "duration": 1705,
    "start_time": "2021-08-21T09:52:27.681Z"
   },
   {
    "duration": 33,
    "start_time": "2021-08-21T09:54:26.548Z"
   },
   {
    "duration": 4,
    "start_time": "2021-08-21T09:56:47.756Z"
   },
   {
    "duration": 5,
    "start_time": "2021-08-21T09:56:48.427Z"
   },
   {
    "duration": 2654,
    "start_time": "2021-08-21T09:56:49.132Z"
   },
   {
    "duration": 5,
    "start_time": "2021-08-21T09:58:17.555Z"
   },
   {
    "duration": 4,
    "start_time": "2021-08-21T09:58:18.343Z"
   },
   {
    "duration": 6086,
    "start_time": "2021-08-21T09:58:19.105Z"
   },
   {
    "duration": 1180,
    "start_time": "2021-08-21T09:58:45.832Z"
   },
   {
    "duration": 4,
    "start_time": "2021-08-21T09:59:29.612Z"
   },
   {
    "duration": 5,
    "start_time": "2021-08-21T09:59:30.623Z"
   },
   {
    "duration": 1677,
    "start_time": "2021-08-21T09:59:31.309Z"
   },
   {
    "duration": 4,
    "start_time": "2021-08-21T09:59:44.319Z"
   },
   {
    "duration": 5,
    "start_time": "2021-08-21T09:59:45.020Z"
   },
   {
    "duration": 1445,
    "start_time": "2021-08-21T09:59:45.660Z"
   },
   {
    "duration": 1116,
    "start_time": "2021-08-21T09:59:50.729Z"
   },
   {
    "duration": 5,
    "start_time": "2021-08-21T10:03:33.709Z"
   },
   {
    "duration": 4,
    "start_time": "2021-08-21T10:03:34.452Z"
   },
   {
    "duration": 3890,
    "start_time": "2021-08-21T10:03:35.227Z"
   },
   {
    "duration": 4,
    "start_time": "2021-08-21T10:04:30.504Z"
   },
   {
    "duration": 4,
    "start_time": "2021-08-21T10:04:31.259Z"
   },
   {
    "duration": 7178,
    "start_time": "2021-08-21T10:04:32.062Z"
   },
   {
    "duration": 1435,
    "start_time": "2021-08-21T10:04:43.460Z"
   },
   {
    "duration": 4,
    "start_time": "2021-08-21T10:07:37.560Z"
   },
   {
    "duration": 5,
    "start_time": "2021-08-21T10:07:38.312Z"
   },
   {
    "duration": 2840,
    "start_time": "2021-08-21T10:07:39.026Z"
   },
   {
    "duration": 4,
    "start_time": "2021-08-21T10:07:58.758Z"
   },
   {
    "duration": 4,
    "start_time": "2021-08-21T10:07:59.429Z"
   },
   {
    "duration": 6181,
    "start_time": "2021-08-21T10:08:00.252Z"
   },
   {
    "duration": 4,
    "start_time": "2021-08-21T10:08:19.103Z"
   },
   {
    "duration": 4,
    "start_time": "2021-08-21T10:08:19.807Z"
   },
   {
    "duration": 6660,
    "start_time": "2021-08-21T10:08:20.518Z"
   },
   {
    "duration": 5,
    "start_time": "2021-08-21T10:09:25.489Z"
   },
   {
    "duration": 4,
    "start_time": "2021-08-21T10:09:26.137Z"
   },
   {
    "duration": 6758,
    "start_time": "2021-08-21T10:09:26.765Z"
   },
   {
    "duration": 4,
    "start_time": "2021-08-21T10:09:42.622Z"
   },
   {
    "duration": 5,
    "start_time": "2021-08-21T10:09:43.277Z"
   },
   {
    "duration": 6685,
    "start_time": "2021-08-21T10:09:43.917Z"
   },
   {
    "duration": 4,
    "start_time": "2021-08-21T10:10:21.067Z"
   },
   {
    "duration": 4,
    "start_time": "2021-08-21T10:10:21.822Z"
   },
   {
    "duration": 6982,
    "start_time": "2021-08-21T10:10:22.530Z"
   },
   {
    "duration": 5,
    "start_time": "2021-08-21T10:10:35.723Z"
   },
   {
    "duration": 4,
    "start_time": "2021-08-21T10:10:36.540Z"
   },
   {
    "duration": 8122,
    "start_time": "2021-08-21T10:10:37.262Z"
   },
   {
    "duration": 3,
    "start_time": "2021-08-21T10:10:52.447Z"
   },
   {
    "duration": 4,
    "start_time": "2021-08-21T10:10:53.122Z"
   },
   {
    "duration": 6708,
    "start_time": "2021-08-21T10:10:53.810Z"
   },
   {
    "duration": 4,
    "start_time": "2021-08-21T10:11:07.772Z"
   },
   {
    "duration": 4,
    "start_time": "2021-08-21T10:11:08.514Z"
   },
   {
    "duration": 7047,
    "start_time": "2021-08-21T10:11:09.366Z"
   },
   {
    "duration": 1105,
    "start_time": "2021-08-21T10:12:28.027Z"
   },
   {
    "duration": 5,
    "start_time": "2021-08-21T10:22:08.457Z"
   },
   {
    "duration": 4,
    "start_time": "2021-08-21T10:22:09.530Z"
   },
   {
    "duration": 13455,
    "start_time": "2021-08-21T10:22:10.992Z"
   },
   {
    "duration": 4,
    "start_time": "2021-08-21T10:22:59.364Z"
   },
   {
    "duration": 4,
    "start_time": "2021-08-21T10:23:00.049Z"
   },
   {
    "duration": 14925,
    "start_time": "2021-08-21T10:23:00.715Z"
   },
   {
    "duration": 3,
    "start_time": "2021-08-21T10:23:26.907Z"
   },
   {
    "duration": 5,
    "start_time": "2021-08-21T10:23:27.640Z"
   },
   {
    "duration": 4352,
    "start_time": "2021-08-21T10:23:28.332Z"
   },
   {
    "duration": 4,
    "start_time": "2021-08-21T10:23:45.605Z"
   },
   {
    "duration": 4,
    "start_time": "2021-08-21T10:23:46.469Z"
   },
   {
    "duration": 11598,
    "start_time": "2021-08-21T10:23:47.224Z"
   },
   {
    "duration": 1119,
    "start_time": "2021-08-21T10:24:05.331Z"
   },
   {
    "duration": 4,
    "start_time": "2021-08-21T10:24:28.908Z"
   },
   {
    "duration": 5,
    "start_time": "2021-08-21T10:24:29.676Z"
   },
   {
    "duration": 14605,
    "start_time": "2021-08-21T10:24:30.381Z"
   },
   {
    "duration": 1231,
    "start_time": "2021-08-21T10:25:22.968Z"
   },
   {
    "duration": 4,
    "start_time": "2021-08-21T10:25:37.956Z"
   },
   {
    "duration": 4,
    "start_time": "2021-08-21T10:25:38.666Z"
   },
   {
    "duration": 9133,
    "start_time": "2021-08-21T10:25:39.370Z"
   },
   {
    "duration": 1313,
    "start_time": "2021-08-21T10:25:51.425Z"
   },
   {
    "duration": 6,
    "start_time": "2021-08-21T10:28:21.754Z"
   },
   {
    "duration": 5,
    "start_time": "2021-08-21T10:28:25.356Z"
   },
   {
    "duration": 17128,
    "start_time": "2021-08-21T10:28:26.871Z"
   },
   {
    "duration": 6,
    "start_time": "2021-08-21T10:29:19.144Z"
   },
   {
    "duration": 3,
    "start_time": "2021-08-21T10:29:21.045Z"
   },
   {
    "duration": 5,
    "start_time": "2021-08-21T10:29:21.729Z"
   },
   {
    "duration": 25166,
    "start_time": "2021-08-21T10:29:22.558Z"
   },
   {
    "duration": 5,
    "start_time": "2021-08-21T10:30:09.820Z"
   },
   {
    "duration": 5,
    "start_time": "2021-08-21T10:30:16.200Z"
   },
   {
    "duration": 21378,
    "start_time": "2021-08-21T10:30:16.915Z"
   },
   {
    "duration": 4,
    "start_time": "2021-08-21T10:50:13.385Z"
   },
   {
    "duration": 11,
    "start_time": "2021-08-21T10:50:13.391Z"
   },
   {
    "duration": 9672,
    "start_time": "2021-08-21T10:50:15.417Z"
   },
   {
    "duration": 4,
    "start_time": "2021-08-21T10:50:41.817Z"
   },
   {
    "duration": 4,
    "start_time": "2021-08-21T10:50:42.598Z"
   },
   {
    "duration": 7716,
    "start_time": "2021-08-21T10:50:43.302Z"
   },
   {
    "duration": 3,
    "start_time": "2021-08-21T10:51:10.176Z"
   },
   {
    "duration": 5,
    "start_time": "2021-08-21T10:51:10.902Z"
   },
   {
    "duration": 5439,
    "start_time": "2021-08-21T10:51:11.654Z"
   },
   {
    "duration": 1073,
    "start_time": "2021-08-21T10:51:36.295Z"
   },
   {
    "duration": 1129,
    "start_time": "2021-08-21T10:52:04.046Z"
   },
   {
    "duration": 1184,
    "start_time": "2021-08-21T10:52:20.258Z"
   },
   {
    "duration": 1127,
    "start_time": "2021-08-21T10:52:46.825Z"
   },
   {
    "duration": 8,
    "start_time": "2021-08-21T12:40:47.431Z"
   },
   {
    "duration": 5,
    "start_time": "2021-08-21T12:40:51.569Z"
   },
   {
    "duration": 401,
    "start_time": "2021-08-21T12:42:27.910Z"
   },
   {
    "duration": 10,
    "start_time": "2021-08-21T12:43:00.817Z"
   },
   {
    "duration": 348625,
    "start_time": "2021-08-21T12:51:14.028Z"
   },
   {
    "duration": 17,
    "start_time": "2021-08-21T12:58:55.722Z"
   },
   {
    "duration": 8,
    "start_time": "2021-08-21T13:00:04.229Z"
   },
   {
    "duration": 7783,
    "start_time": "2021-08-21T13:02:09.588Z"
   },
   {
    "duration": 465539,
    "start_time": "2021-08-21T13:02:44.415Z"
   },
   {
    "duration": 397,
    "start_time": "2021-08-21T13:21:51.435Z"
   },
   {
    "duration": 396,
    "start_time": "2021-08-21T13:22:05.615Z"
   },
   {
    "duration": 8,
    "start_time": "2021-08-21T13:29:43.937Z"
   },
   {
    "duration": 7,
    "start_time": "2021-08-21T13:30:54.367Z"
   },
   {
    "duration": 238326,
    "start_time": "2021-08-21T13:30:55.525Z"
   },
   {
    "duration": 416,
    "start_time": "2021-08-21T13:38:43.390Z"
   },
   {
    "duration": 265784,
    "start_time": "2021-08-21T13:40:50.102Z"
   },
   {
    "duration": 8,
    "start_time": "2021-08-21T13:46:58.469Z"
   },
   {
    "duration": 225867,
    "start_time": "2021-08-21T13:46:59.618Z"
   },
   {
    "duration": 29458,
    "start_time": "2021-08-21T13:52:14.958Z"
   },
   {
    "duration": 15,
    "start_time": "2021-08-21T13:53:37.251Z"
   },
   {
    "duration": 12,
    "start_time": "2021-08-21T13:54:28.075Z"
   },
   {
    "duration": 7088,
    "start_time": "2021-08-21T13:54:31.607Z"
   },
   {
    "duration": 481108,
    "start_time": "2021-08-21T13:54:49.019Z"
   },
   {
    "duration": 398829,
    "start_time": "2021-08-21T14:03:02.699Z"
   },
   {
    "duration": -107,
    "start_time": "2021-08-21T14:09:41.640Z"
   },
   {
    "duration": 14163,
    "start_time": "2021-08-21T14:09:44.337Z"
   },
   {
    "duration": 11,
    "start_time": "2021-08-21T14:10:02.002Z"
   },
   {
    "duration": 425,
    "start_time": "2021-08-21T14:10:04.033Z"
   },
   {
    "duration": 12,
    "start_time": "2021-08-21T14:10:31.958Z"
   },
   {
    "duration": 29358,
    "start_time": "2021-08-21T14:10:32.694Z"
   },
   {
    "duration": -112,
    "start_time": "2021-08-21T14:11:02.167Z"
   },
   {
    "duration": 8,
    "start_time": "2021-08-21T14:11:06.438Z"
   },
   {
    "duration": 119705,
    "start_time": "2021-08-21T14:11:07.251Z"
   },
   {
    "duration": 8,
    "start_time": "2021-08-21T14:18:07.400Z"
   },
   {
    "duration": 121998,
    "start_time": "2021-08-21T14:18:08.263Z"
   },
   {
    "duration": 17555,
    "start_time": "2021-08-21T14:20:31.103Z"
   },
   {
    "duration": 2662,
    "start_time": "2021-08-21T14:20:48.661Z"
   },
   {
    "duration": 11,
    "start_time": "2021-08-21T14:20:58.447Z"
   },
   {
    "duration": 7,
    "start_time": "2021-08-21T14:21:09.325Z"
   },
   {
    "duration": 9,
    "start_time": "2021-08-21T14:21:10.672Z"
   },
   {
    "duration": 108,
    "start_time": "2021-08-21T14:21:12.965Z"
   },
   {
    "duration": 5,
    "start_time": "2021-08-21T14:21:14.383Z"
   },
   {
    "duration": 586,
    "start_time": "2021-08-21T14:21:15.625Z"
   },
   {
    "duration": 259,
    "start_time": "2021-08-21T14:21:23.340Z"
   },
   {
    "duration": 15,
    "start_time": "2021-08-21T14:21:25.209Z"
   },
   {
    "duration": 15,
    "start_time": "2021-08-21T14:21:25.906Z"
   },
   {
    "duration": 6,
    "start_time": "2021-08-21T14:21:26.617Z"
   },
   {
    "duration": 18,
    "start_time": "2021-08-21T14:21:27.922Z"
   },
   {
    "duration": 7,
    "start_time": "2021-08-21T14:21:29.177Z"
   },
   {
    "duration": 20,
    "start_time": "2021-08-21T14:21:29.591Z"
   },
   {
    "duration": 24,
    "start_time": "2021-08-21T14:21:30.335Z"
   },
   {
    "duration": 103,
    "start_time": "2021-08-21T14:21:31.235Z"
   },
   {
    "duration": 13,
    "start_time": "2021-08-21T14:21:32.335Z"
   },
   {
    "duration": 29,
    "start_time": "2021-08-21T14:21:32.793Z"
   },
   {
    "duration": 27,
    "start_time": "2021-08-21T14:21:33.196Z"
   },
   {
    "duration": 7,
    "start_time": "2021-08-21T14:21:33.660Z"
   },
   {
    "duration": 8,
    "start_time": "2021-08-21T14:21:40.735Z"
   },
   {
    "duration": 16,
    "start_time": "2021-08-21T14:21:41.417Z"
   },
   {
    "duration": 6,
    "start_time": "2021-08-21T14:21:42.716Z"
   },
   {
    "duration": 4,
    "start_time": "2021-08-21T14:21:45.740Z"
   },
   {
    "duration": 13,
    "start_time": "2021-08-21T14:21:48.186Z"
   },
   {
    "duration": 56706,
    "start_time": "2021-08-21T14:21:49.821Z"
   },
   {
    "duration": 8,
    "start_time": "2021-08-21T14:24:10.813Z"
   },
   {
    "duration": 1189123,
    "start_time": "2021-08-21T14:24:13.458Z"
   },
   {
    "duration": 20,
    "start_time": "2021-08-21T14:51:34.422Z"
   },
   {
    "duration": 597,
    "start_time": "2021-08-21T14:54:43.280Z"
   },
   {
    "duration": 5005,
    "start_time": "2021-08-21T14:55:13.022Z"
   },
   {
    "duration": 8,
    "start_time": "2021-08-21T14:55:44.011Z"
   },
   {
    "duration": 397,
    "start_time": "2021-08-21T14:55:52.881Z"
   },
   {
    "duration": 7,
    "start_time": "2021-08-21T14:56:44.777Z"
   },
   {
    "duration": 8,
    "start_time": "2021-08-21T14:59:51.735Z"
   },
   {
    "duration": 4,
    "start_time": "2021-08-21T15:04:15.471Z"
   },
   {
    "duration": 11,
    "start_time": "2021-08-21T15:04:20.009Z"
   },
   {
    "duration": 4,
    "start_time": "2021-08-21T15:04:44.344Z"
   },
   {
    "duration": 406,
    "start_time": "2021-08-21T15:06:36.936Z"
   },
   {
    "duration": 16,
    "start_time": "2021-08-21T15:10:42.353Z"
   },
   {
    "duration": 3799,
    "start_time": "2021-08-21T15:15:57.709Z"
   },
   {
    "duration": 1038573,
    "start_time": "2021-08-21T15:16:17.003Z"
   },
   {
    "duration": 8,
    "start_time": "2021-08-21T15:42:01.921Z"
   },
   {
    "duration": 129,
    "start_time": "2021-08-21T15:47:04.679Z"
   },
   {
    "duration": 5530,
    "start_time": "2021-08-21T15:47:28.470Z"
   },
   {
    "duration": 4294,
    "start_time": "2021-08-21T15:48:43.326Z"
   },
   {
    "duration": 1193,
    "start_time": "2021-08-21T15:50:49.019Z"
   },
   {
    "duration": 6565,
    "start_time": "2021-08-21T15:51:47.941Z"
   },
   {
    "duration": 8057,
    "start_time": "2021-08-21T15:53:54.938Z"
   },
   {
    "duration": 6,
    "start_time": "2021-08-21T16:15:15.119Z"
   },
   {
    "duration": 139,
    "start_time": "2021-08-21T16:17:02.933Z"
   },
   {
    "duration": 6431,
    "start_time": "2021-08-21T16:17:12.357Z"
   },
   {
    "duration": 6696,
    "start_time": "2021-08-21T16:20:51.632Z"
   },
   {
    "duration": 7,
    "start_time": "2021-08-21T16:21:51.313Z"
   },
   {
    "duration": 426409,
    "start_time": "2021-08-21T16:21:52.890Z"
   },
   {
    "duration": 9,
    "start_time": "2021-08-21T16:32:14.914Z"
   },
   {
    "duration": 6532,
    "start_time": "2021-08-21T16:32:17.648Z"
   },
   {
    "duration": 6,
    "start_time": "2021-08-21T16:37:41.698Z"
   },
   {
    "duration": 408,
    "start_time": "2021-08-21T16:37:49.877Z"
   },
   {
    "duration": 394,
    "start_time": "2021-08-21T16:38:01.190Z"
   },
   {
    "duration": 498,
    "start_time": "2021-08-21T16:38:28.831Z"
   },
   {
    "duration": 8,
    "start_time": "2021-08-21T16:38:34.479Z"
   },
   {
    "duration": 14,
    "start_time": "2021-08-21T16:38:50.634Z"
   },
   {
    "duration": 500,
    "start_time": "2021-08-21T19:32:51.090Z"
   },
   {
    "duration": 47245,
    "start_time": "2021-08-21T19:34:10.384Z"
   },
   {
    "duration": 2379,
    "start_time": "2021-08-21T19:34:57.632Z"
   },
   {
    "duration": 6,
    "start_time": "2021-08-21T19:35:00.014Z"
   },
   {
    "duration": 22,
    "start_time": "2021-08-21T19:35:00.023Z"
   },
   {
    "duration": 121,
    "start_time": "2021-08-21T19:35:00.048Z"
   },
   {
    "duration": 4,
    "start_time": "2021-08-21T19:35:00.172Z"
   },
   {
    "duration": 578,
    "start_time": "2021-08-21T19:35:00.178Z"
   },
   {
    "duration": 257,
    "start_time": "2021-08-21T19:35:00.787Z"
   },
   {
    "duration": 15,
    "start_time": "2021-08-21T19:35:01.047Z"
   },
   {
    "duration": 30,
    "start_time": "2021-08-21T19:35:01.064Z"
   },
   {
    "duration": 27,
    "start_time": "2021-08-21T19:35:01.097Z"
   },
   {
    "duration": 31,
    "start_time": "2021-08-21T19:35:01.127Z"
   },
   {
    "duration": 24,
    "start_time": "2021-08-21T19:35:01.161Z"
   },
   {
    "duration": 28,
    "start_time": "2021-08-21T19:35:01.188Z"
   },
   {
    "duration": 36,
    "start_time": "2021-08-21T19:35:01.219Z"
   },
   {
    "duration": 96,
    "start_time": "2021-08-21T19:35:01.258Z"
   },
   {
    "duration": 30,
    "start_time": "2021-08-21T19:35:01.356Z"
   },
   {
    "duration": 30,
    "start_time": "2021-08-21T19:35:01.389Z"
   },
   {
    "duration": 43,
    "start_time": "2021-08-21T19:35:01.422Z"
   },
   {
    "duration": 18,
    "start_time": "2021-08-21T19:35:01.467Z"
   },
   {
    "duration": 12,
    "start_time": "2021-08-21T19:35:01.488Z"
   },
   {
    "duration": 48,
    "start_time": "2021-08-21T19:35:01.502Z"
   },
   {
    "duration": 13,
    "start_time": "2021-08-21T19:35:01.555Z"
   },
   {
    "duration": 57,
    "start_time": "2021-08-21T19:35:01.571Z"
   },
   {
    "duration": 24,
    "start_time": "2021-08-21T19:35:01.631Z"
   },
   {
    "duration": 208360,
    "start_time": "2021-08-21T19:35:01.658Z"
   },
   {
    "duration": 11,
    "start_time": "2021-08-21T19:38:38.184Z"
   },
   {
    "duration": 614,
    "start_time": "2021-08-21T19:41:40.717Z"
   },
   {
    "duration": 398,
    "start_time": "2021-08-21T19:42:13.821Z"
   },
   {
    "duration": 10143,
    "start_time": "2021-08-21T19:42:57.256Z"
   },
   {
    "duration": 5045,
    "start_time": "2021-08-21T19:51:05.508Z"
   },
   {
    "duration": 410,
    "start_time": "2021-08-21T19:55:20.512Z"
   },
   {
    "duration": 33,
    "start_time": "2021-08-21T19:55:38.499Z"
   },
   {
    "duration": 3074,
    "start_time": "2021-08-21T19:55:47.417Z"
   },
   {
    "duration": 9,
    "start_time": "2021-08-21T20:01:21.145Z"
   },
   {
    "duration": 444,
    "start_time": "2021-08-21T20:04:19.980Z"
   },
   {
    "duration": 10,
    "start_time": "2021-08-21T20:04:45.343Z"
   },
   {
    "duration": 461,
    "start_time": "2021-08-21T20:04:55.446Z"
   },
   {
    "duration": 160131,
    "start_time": "2021-08-21T20:07:45.004Z"
   },
   {
    "duration": 21,
    "start_time": "2021-08-21T20:11:44.628Z"
   },
   {
    "duration": 10,
    "start_time": "2021-08-21T20:13:04.363Z"
   },
   {
    "duration": 8164,
    "start_time": "2021-08-21T20:13:31.811Z"
   },
   {
    "duration": 9117,
    "start_time": "2021-08-21T20:29:11.222Z"
   },
   {
    "duration": 17,
    "start_time": "2021-08-21T20:30:03.118Z"
   },
   {
    "duration": 10027,
    "start_time": "2021-08-21T20:30:53.779Z"
   },
   {
    "duration": 15672,
    "start_time": "2021-08-21T20:46:07.395Z"
   },
   {
    "duration": 3773,
    "start_time": "2021-08-21T20:46:23.070Z"
   },
   {
    "duration": 2424,
    "start_time": "2021-08-21T20:46:26.846Z"
   },
   {
    "duration": 6,
    "start_time": "2021-08-21T20:46:29.272Z"
   },
   {
    "duration": 9,
    "start_time": "2021-08-21T20:46:29.287Z"
   },
   {
    "duration": 110,
    "start_time": "2021-08-21T20:46:29.299Z"
   },
   {
    "duration": 4,
    "start_time": "2021-08-21T20:46:29.411Z"
   },
   {
    "duration": 577,
    "start_time": "2021-08-21T20:46:29.421Z"
   },
   {
    "duration": 270,
    "start_time": "2021-08-21T20:46:30.002Z"
   },
   {
    "duration": 21,
    "start_time": "2021-08-21T20:46:30.275Z"
   },
   {
    "duration": 7,
    "start_time": "2021-08-21T20:46:30.299Z"
   },
   {
    "duration": 15,
    "start_time": "2021-08-21T20:46:30.309Z"
   },
   {
    "duration": 55,
    "start_time": "2021-08-21T20:46:30.326Z"
   },
   {
    "duration": 27,
    "start_time": "2021-08-21T20:46:30.383Z"
   },
   {
    "duration": 42,
    "start_time": "2021-08-21T20:46:30.413Z"
   },
   {
    "duration": 27,
    "start_time": "2021-08-21T20:46:30.457Z"
   },
   {
    "duration": 106,
    "start_time": "2021-08-21T20:46:30.487Z"
   },
   {
    "duration": 11,
    "start_time": "2021-08-21T20:46:30.596Z"
   },
   {
    "duration": 41,
    "start_time": "2021-08-21T20:46:30.610Z"
   },
   {
    "duration": 43,
    "start_time": "2021-08-21T20:46:30.654Z"
   },
   {
    "duration": 14,
    "start_time": "2021-08-21T20:46:30.700Z"
   },
   {
    "duration": 13,
    "start_time": "2021-08-21T20:46:30.717Z"
   },
   {
    "duration": 12,
    "start_time": "2021-08-21T20:46:30.734Z"
   },
   {
    "duration": 30,
    "start_time": "2021-08-21T20:46:30.748Z"
   },
   {
    "duration": 157261,
    "start_time": "2021-08-21T20:46:30.781Z"
   },
   {
    "duration": 8,
    "start_time": "2021-08-21T20:49:08.045Z"
   },
   {
    "duration": 9687,
    "start_time": "2021-08-21T20:49:08.056Z"
   },
   {
    "duration": 18346,
    "start_time": "2021-08-21T20:53:16.723Z"
   },
   {
    "duration": 2444,
    "start_time": "2021-08-21T20:53:35.073Z"
   },
   {
    "duration": 6,
    "start_time": "2021-08-21T20:53:37.520Z"
   },
   {
    "duration": 13,
    "start_time": "2021-08-21T20:53:37.528Z"
   },
   {
    "duration": 110,
    "start_time": "2021-08-21T20:53:37.544Z"
   },
   {
    "duration": 4,
    "start_time": "2021-08-21T20:53:37.656Z"
   },
   {
    "duration": 546,
    "start_time": "2021-08-21T20:53:37.664Z"
   },
   {
    "duration": 289,
    "start_time": "2021-08-21T20:53:38.214Z"
   },
   {
    "duration": 17,
    "start_time": "2021-08-21T20:53:38.507Z"
   },
   {
    "duration": 7,
    "start_time": "2021-08-21T20:53:38.526Z"
   },
   {
    "duration": 6,
    "start_time": "2021-08-21T20:53:38.536Z"
   },
   {
    "duration": 54,
    "start_time": "2021-08-21T20:53:38.545Z"
   },
   {
    "duration": 7,
    "start_time": "2021-08-21T20:53:38.601Z"
   },
   {
    "duration": 17,
    "start_time": "2021-08-21T20:53:38.610Z"
   },
   {
    "duration": 23,
    "start_time": "2021-08-21T20:53:38.630Z"
   },
   {
    "duration": 135,
    "start_time": "2021-08-21T20:53:38.656Z"
   },
   {
    "duration": 12,
    "start_time": "2021-08-21T20:53:38.793Z"
   },
   {
    "duration": 32,
    "start_time": "2021-08-21T20:53:38.807Z"
   },
   {
    "duration": 55,
    "start_time": "2021-08-21T20:53:38.841Z"
   },
   {
    "duration": 14,
    "start_time": "2021-08-21T20:53:38.898Z"
   },
   {
    "duration": 17,
    "start_time": "2021-08-21T20:53:38.915Z"
   },
   {
    "duration": 8,
    "start_time": "2021-08-21T20:53:38.935Z"
   },
   {
    "duration": 40,
    "start_time": "2021-08-21T20:53:38.946Z"
   },
   {
    "duration": 163303,
    "start_time": "2021-08-21T20:53:38.989Z"
   },
   {
    "duration": 8,
    "start_time": "2021-08-21T20:56:22.294Z"
   },
   {
    "duration": 7499,
    "start_time": "2021-08-21T20:56:22.306Z"
   },
   {
    "duration": 18202,
    "start_time": "2021-08-21T21:05:20.732Z"
   },
   {
    "duration": 2481,
    "start_time": "2021-08-21T21:05:38.938Z"
   },
   {
    "duration": 7,
    "start_time": "2021-08-21T21:05:41.422Z"
   },
   {
    "duration": 15,
    "start_time": "2021-08-21T21:05:41.431Z"
   },
   {
    "duration": 119,
    "start_time": "2021-08-21T21:05:41.448Z"
   },
   {
    "duration": 3,
    "start_time": "2021-08-21T21:05:41.570Z"
   },
   {
    "duration": 564,
    "start_time": "2021-08-21T21:05:41.576Z"
   },
   {
    "duration": 298,
    "start_time": "2021-08-21T21:05:42.142Z"
   },
   {
    "duration": 15,
    "start_time": "2021-08-21T21:05:42.445Z"
   },
   {
    "duration": 24,
    "start_time": "2021-08-21T21:05:42.463Z"
   },
   {
    "duration": 6,
    "start_time": "2021-08-21T21:05:42.490Z"
   },
   {
    "duration": 21,
    "start_time": "2021-08-21T21:05:42.499Z"
   },
   {
    "duration": 7,
    "start_time": "2021-08-21T21:05:42.523Z"
   },
   {
    "duration": 53,
    "start_time": "2021-08-21T21:05:42.532Z"
   },
   {
    "duration": 25,
    "start_time": "2021-08-21T21:05:42.588Z"
   },
   {
    "duration": 116,
    "start_time": "2021-08-21T21:05:42.616Z"
   },
   {
    "duration": 11,
    "start_time": "2021-08-21T21:05:42.735Z"
   },
   {
    "duration": 50,
    "start_time": "2021-08-21T21:05:42.749Z"
   },
   {
    "duration": 36,
    "start_time": "2021-08-21T21:05:42.802Z"
   },
   {
    "duration": 9,
    "start_time": "2021-08-21T21:05:42.841Z"
   },
   {
    "duration": 32,
    "start_time": "2021-08-21T21:05:42.853Z"
   },
   {
    "duration": 7,
    "start_time": "2021-08-21T21:05:42.888Z"
   },
   {
    "duration": 18,
    "start_time": "2021-08-21T21:05:42.897Z"
   },
   {
    "duration": 160383,
    "start_time": "2021-08-21T21:05:42.917Z"
   },
   {
    "duration": 9,
    "start_time": "2021-08-21T21:08:23.303Z"
   },
   {
    "duration": 7036,
    "start_time": "2021-08-21T21:08:23.315Z"
   },
   {
    "duration": 46589,
    "start_time": "2021-08-22T05:32:15.194Z"
   },
   {
    "duration": 2671,
    "start_time": "2021-08-22T05:33:09.091Z"
   },
   {
    "duration": 6,
    "start_time": "2021-08-22T05:33:24.914Z"
   },
   {
    "duration": 9,
    "start_time": "2021-08-22T05:33:28.356Z"
   },
   {
    "duration": 95,
    "start_time": "2021-08-22T05:33:35.914Z"
   },
   {
    "duration": 5,
    "start_time": "2021-08-22T05:34:09.644Z"
   },
   {
    "duration": 596,
    "start_time": "2021-08-22T05:34:12.424Z"
   },
   {
    "duration": 256,
    "start_time": "2021-08-22T05:36:46.763Z"
   },
   {
    "duration": 15,
    "start_time": "2021-08-22T05:37:57.872Z"
   },
   {
    "duration": 8,
    "start_time": "2021-08-22T05:37:59.693Z"
   },
   {
    "duration": 7,
    "start_time": "2021-08-22T05:38:00.452Z"
   },
   {
    "duration": 19,
    "start_time": "2021-08-22T05:38:04.364Z"
   },
   {
    "duration": 18,
    "start_time": "2021-08-22T05:40:47.719Z"
   },
   {
    "duration": 7,
    "start_time": "2021-08-22T05:40:50.442Z"
   },
   {
    "duration": 23,
    "start_time": "2021-08-22T05:40:54.548Z"
   },
   {
    "duration": 91,
    "start_time": "2021-08-22T05:40:55.876Z"
   },
   {
    "duration": 12,
    "start_time": "2021-08-22T05:41:07.295Z"
   },
   {
    "duration": 26,
    "start_time": "2021-08-22T05:42:18.192Z"
   },
   {
    "duration": 26,
    "start_time": "2021-08-22T05:42:19.573Z"
   },
   {
    "duration": 8,
    "start_time": "2021-08-22T05:42:46.449Z"
   },
   {
    "duration": 15,
    "start_time": "2021-08-22T05:42:47.352Z"
   },
   {
    "duration": 6,
    "start_time": "2021-08-22T05:42:48.603Z"
   },
   {
    "duration": 4,
    "start_time": "2021-08-22T08:15:57.823Z"
   },
   {
    "duration": 52915,
    "start_time": "2021-08-22T08:28:00.533Z"
   },
   {
    "duration": 2645,
    "start_time": "2021-08-22T08:28:53.452Z"
   },
   {
    "duration": 15110,
    "start_time": "2021-08-22T08:46:42.664Z"
   },
   {
    "duration": 11,
    "start_time": "2021-08-22T08:47:10.646Z"
   },
   {
    "duration": 7,
    "start_time": "2021-08-22T08:47:16.492Z"
   },
   {
    "duration": 10,
    "start_time": "2021-08-22T08:47:21.466Z"
   },
   {
    "duration": 499,
    "start_time": "2021-08-22T08:47:26.581Z"
   },
   {
    "duration": 95,
    "start_time": "2021-08-22T08:47:37.439Z"
   },
   {
    "duration": 4,
    "start_time": "2021-08-22T08:47:40.326Z"
   },
   {
    "duration": 548,
    "start_time": "2021-08-22T08:47:45.622Z"
   },
   {
    "duration": 251,
    "start_time": "2021-08-22T08:47:57.801Z"
   },
   {
    "duration": 15,
    "start_time": "2021-08-22T08:48:04.799Z"
   },
   {
    "duration": 7,
    "start_time": "2021-08-22T08:48:05.948Z"
   },
   {
    "duration": 7,
    "start_time": "2021-08-22T08:48:06.710Z"
   },
   {
    "duration": 18,
    "start_time": "2021-08-22T08:48:08.675Z"
   },
   {
    "duration": 7,
    "start_time": "2021-08-22T08:48:18.019Z"
   },
   {
    "duration": 16,
    "start_time": "2021-08-22T08:48:20.400Z"
   },
   {
    "duration": 26,
    "start_time": "2021-08-22T08:48:28.189Z"
   },
   {
    "duration": 92,
    "start_time": "2021-08-22T08:48:29.917Z"
   },
   {
    "duration": 12,
    "start_time": "2021-08-22T08:48:32.631Z"
   },
   {
    "duration": 26,
    "start_time": "2021-08-22T08:48:35.789Z"
   },
   {
    "duration": 26,
    "start_time": "2021-08-22T08:48:37.121Z"
   },
   {
    "duration": 8,
    "start_time": "2021-08-22T08:48:48.125Z"
   },
   {
    "duration": 14,
    "start_time": "2021-08-22T08:48:48.842Z"
   },
   {
    "duration": 7,
    "start_time": "2021-08-22T08:48:50.696Z"
   },
   {
    "duration": 8,
    "start_time": "2021-08-22T08:48:57.642Z"
   },
   {
    "duration": 153352,
    "start_time": "2021-08-22T08:49:18.097Z"
   },
   {
    "duration": 8,
    "start_time": "2021-08-22T08:52:35.426Z"
   },
   {
    "duration": 8231,
    "start_time": "2021-08-22T09:18:13.046Z"
   },
   {
    "duration": 8666,
    "start_time": "2021-08-22T09:18:46.407Z"
   },
   {
    "duration": 7379,
    "start_time": "2021-08-22T09:19:04.022Z"
   },
   {
    "duration": 8444,
    "start_time": "2021-08-22T09:19:43.141Z"
   },
   {
    "duration": 3886,
    "start_time": "2021-08-22T09:21:42.454Z"
   },
   {
    "duration": 10948,
    "start_time": "2021-08-22T09:24:53.821Z"
   },
   {
    "duration": 7721,
    "start_time": "2021-08-22T09:26:04.344Z"
   },
   {
    "duration": 7705,
    "start_time": "2021-08-22T09:26:23.436Z"
   },
   {
    "duration": 7939,
    "start_time": "2021-08-22T09:26:52.205Z"
   },
   {
    "duration": 4179,
    "start_time": "2021-08-22T09:32:41.400Z"
   },
   {
    "duration": 8863,
    "start_time": "2021-08-22T09:33:03.067Z"
   },
   {
    "duration": 8660,
    "start_time": "2021-08-22T09:36:08.206Z"
   },
   {
    "duration": 9,
    "start_time": "2021-08-22T09:39:01.438Z"
   },
   {
    "duration": 10,
    "start_time": "2021-08-22T09:45:59.103Z"
   },
   {
    "duration": 8447,
    "start_time": "2021-08-22T09:51:13.162Z"
   },
   {
    "duration": 7913,
    "start_time": "2021-08-22T09:53:40.313Z"
   },
   {
    "duration": 13,
    "start_time": "2021-08-22T10:18:43.372Z"
   },
   {
    "duration": 2534,
    "start_time": "2021-08-22T10:22:07.132Z"
   },
   {
    "duration": 293,
    "start_time": "2021-08-22T10:23:10.504Z"
   },
   {
    "duration": 316,
    "start_time": "2021-08-22T10:23:24.511Z"
   },
   {
    "duration": 13,
    "start_time": "2021-08-22T10:23:46.136Z"
   },
   {
    "duration": 19,
    "start_time": "2021-08-22T10:24:11.928Z"
   },
   {
    "duration": 15,
    "start_time": "2021-08-22T10:24:59.195Z"
   },
   {
    "duration": 390,
    "start_time": "2021-08-22T10:25:09.893Z"
   },
   {
    "duration": 316,
    "start_time": "2021-08-22T10:25:28.773Z"
   },
   {
    "duration": 287,
    "start_time": "2021-08-22T10:25:57.074Z"
   },
   {
    "duration": 16,
    "start_time": "2021-08-22T10:26:06.585Z"
   },
   {
    "duration": 14,
    "start_time": "2021-08-22T10:26:21.373Z"
   },
   {
    "duration": 5168,
    "start_time": "2021-08-22T10:26:50.306Z"
   },
   {
    "duration": 4716,
    "start_time": "2021-08-22T10:27:42.842Z"
   },
   {
    "duration": 553,
    "start_time": "2021-08-22T10:28:06.331Z"
   },
   {
    "duration": 10,
    "start_time": "2021-08-22T10:28:15.957Z"
   },
   {
    "duration": 9170,
    "start_time": "2021-08-22T10:28:23.129Z"
   },
   {
    "duration": 16,
    "start_time": "2021-08-22T10:29:20.374Z"
   },
   {
    "duration": 20,
    "start_time": "2021-08-22T10:29:41.808Z"
   },
   {
    "duration": 4500,
    "start_time": "2021-08-22T10:31:11.715Z"
   },
   {
    "duration": 8068,
    "start_time": "2021-08-22T10:31:23.832Z"
   },
   {
    "duration": 7549,
    "start_time": "2021-08-22T10:35:49.586Z"
   },
   {
    "duration": 9148,
    "start_time": "2021-08-22T10:42:59.028Z"
   },
   {
    "duration": 10,
    "start_time": "2021-08-22T10:44:10.347Z"
   },
   {
    "duration": 7706,
    "start_time": "2021-08-22T10:44:59.990Z"
   },
   {
    "duration": 7,
    "start_time": "2021-08-22T11:28:22.039Z"
   },
   {
    "duration": 367639,
    "start_time": "2021-08-22T11:28:27.529Z"
   },
   {
    "duration": 8,
    "start_time": "2021-08-22T11:35:33.378Z"
   },
   {
    "duration": 512252,
    "start_time": "2021-08-22T11:35:37.660Z"
   },
   {
    "duration": 10,
    "start_time": "2021-08-22T11:46:25.547Z"
   },
   {
    "duration": 7642,
    "start_time": "2021-08-22T11:47:29.947Z"
   },
   {
    "duration": 7,
    "start_time": "2021-08-22T11:50:40.084Z"
   },
   {
    "duration": 8,
    "start_time": "2021-08-22T11:50:52.554Z"
   },
   {
    "duration": 202000,
    "start_time": "2021-08-22T11:50:56.826Z"
   },
   {
    "duration": 10,
    "start_time": "2021-08-22T11:58:54.656Z"
   },
   {
    "duration": 8061,
    "start_time": "2021-08-22T11:58:56.046Z"
   },
   {
    "duration": 11,
    "start_time": "2021-08-22T12:02:04.925Z"
   },
   {
    "duration": 504550,
    "start_time": "2021-08-22T12:02:11.473Z"
   },
   {
    "duration": 8,
    "start_time": "2021-08-22T12:20:50.271Z"
   },
   {
    "duration": 7774,
    "start_time": "2021-08-22T12:21:22.994Z"
   },
   {
    "duration": 8,
    "start_time": "2021-08-22T12:24:33.945Z"
   },
   {
    "duration": 7,
    "start_time": "2021-08-22T12:25:07.415Z"
   },
   {
    "duration": 279940,
    "start_time": "2021-08-22T12:25:09.019Z"
   },
   {
    "duration": 12,
    "start_time": "2021-08-22T12:34:57.510Z"
   },
   {
    "duration": 14809,
    "start_time": "2021-08-22T12:35:22.467Z"
   },
   {
    "duration": 8218,
    "start_time": "2021-08-22T12:39:09.345Z"
   },
   {
    "duration": 296,
    "start_time": "2021-08-22T12:43:47.234Z"
   },
   {
    "duration": 8648,
    "start_time": "2021-08-22T12:44:14.259Z"
   },
   {
    "duration": 7508,
    "start_time": "2021-08-22T12:44:59.497Z"
   },
   {
    "duration": 17,
    "start_time": "2021-08-22T12:46:59.797Z"
   },
   {
    "duration": 8,
    "start_time": "2021-08-22T12:49:41.923Z"
   },
   {
    "duration": 241,
    "start_time": "2021-08-22T12:49:47.004Z"
   },
   {
    "duration": 293,
    "start_time": "2021-08-22T12:50:35.403Z"
   },
   {
    "duration": 361,
    "start_time": "2021-08-22T12:51:03.031Z"
   },
   {
    "duration": 320,
    "start_time": "2021-08-22T12:52:37.316Z"
   },
   {
    "duration": 329,
    "start_time": "2021-08-22T12:52:56.267Z"
   },
   {
    "duration": 10,
    "start_time": "2021-08-22T12:53:55.647Z"
   },
   {
    "duration": 330,
    "start_time": "2021-08-22T12:54:09.977Z"
   },
   {
    "duration": 290,
    "start_time": "2021-08-22T12:55:04.534Z"
   },
   {
    "duration": 179683,
    "start_time": "2021-08-22T12:55:50.337Z"
   },
   {
    "duration": 10050,
    "start_time": "2021-08-22T17:10:50.903Z"
   },
   {
    "duration": 8458,
    "start_time": "2021-08-22T17:44:53.283Z"
   },
   {
    "duration": 192970,
    "start_time": "2021-08-22T19:38:03.723Z"
   },
   {
    "duration": 98,
    "start_time": "2021-08-22T19:43:01.499Z"
   },
   {
    "duration": 4,
    "start_time": "2021-08-22T19:43:03.988Z"
   },
   {
    "duration": 21,
    "start_time": "2021-08-22T19:43:17.067Z"
   },
   {
    "duration": 9,
    "start_time": "2021-08-22T19:43:22.059Z"
   },
   {
    "duration": 8,
    "start_time": "2021-08-22T19:43:22.888Z"
   },
   {
    "duration": 35,
    "start_time": "2021-08-22T19:43:43.919Z"
   },
   {
    "duration": 14,
    "start_time": "2021-08-22T19:48:18.483Z"
   },
   {
    "duration": 25,
    "start_time": "2021-08-22T19:48:36.951Z"
   },
   {
    "duration": 369,
    "start_time": "2021-08-22T19:50:23.580Z"
   },
   {
    "duration": 510,
    "start_time": "2021-08-22T19:59:15.417Z"
   },
   {
    "duration": 377,
    "start_time": "2021-08-22T19:59:37.821Z"
   },
   {
    "duration": 367,
    "start_time": "2021-08-22T20:00:02.299Z"
   },
   {
    "duration": 269,
    "start_time": "2021-08-22T20:01:12.917Z"
   },
   {
    "duration": 6,
    "start_time": "2021-08-22T20:02:43.424Z"
   },
   {
    "duration": 19,
    "start_time": "2021-08-22T20:02:52.848Z"
   },
   {
    "duration": 26,
    "start_time": "2021-08-22T20:02:54.135Z"
   },
   {
    "duration": 96,
    "start_time": "2021-08-22T20:02:56.531Z"
   },
   {
    "duration": 11,
    "start_time": "2021-08-22T20:03:03.937Z"
   },
   {
    "duration": 25,
    "start_time": "2021-08-22T20:03:05.959Z"
   },
   {
    "duration": 25,
    "start_time": "2021-08-22T20:03:10.365Z"
   },
   {
    "duration": 15752,
    "start_time": "2021-08-22T20:03:29.454Z"
   },
   {
    "duration": 2675,
    "start_time": "2021-08-22T20:03:45.209Z"
   },
   {
    "duration": 7,
    "start_time": "2021-08-22T20:03:47.887Z"
   },
   {
    "duration": 12,
    "start_time": "2021-08-22T20:03:47.896Z"
   },
   {
    "duration": 108,
    "start_time": "2021-08-22T20:03:47.910Z"
   },
   {
    "duration": 5,
    "start_time": "2021-08-22T20:03:48.021Z"
   },
   {
    "duration": 588,
    "start_time": "2021-08-22T20:03:48.031Z"
   },
   {
    "duration": 269,
    "start_time": "2021-08-22T20:03:48.624Z"
   },
   {
    "duration": 17,
    "start_time": "2021-08-22T20:03:48.896Z"
   },
   {
    "duration": 9,
    "start_time": "2021-08-22T20:03:48.915Z"
   },
   {
    "duration": 38,
    "start_time": "2021-08-22T20:03:48.927Z"
   },
   {
    "duration": 32,
    "start_time": "2021-08-22T20:03:48.968Z"
   },
   {
    "duration": 10,
    "start_time": "2021-08-22T20:03:49.003Z"
   },
   {
    "duration": 27,
    "start_time": "2021-08-22T20:03:49.015Z"
   },
   {
    "duration": 398,
    "start_time": "2021-08-22T20:03:49.044Z"
   },
   {
    "duration": 5,
    "start_time": "2021-08-22T20:03:49.444Z"
   },
   {
    "duration": 16,
    "start_time": "2021-08-22T20:03:49.461Z"
   },
   {
    "duration": 25,
    "start_time": "2021-08-22T20:03:49.479Z"
   },
   {
    "duration": 123,
    "start_time": "2021-08-22T20:03:49.506Z"
   },
   {
    "duration": 32,
    "start_time": "2021-08-22T20:03:49.632Z"
   },
   {
    "duration": 25,
    "start_time": "2021-08-22T20:03:49.666Z"
   },
   {
    "duration": 25,
    "start_time": "2021-08-22T20:03:49.694Z"
   },
   {
    "duration": 10,
    "start_time": "2021-08-22T20:03:49.762Z"
   },
   {
    "duration": 20,
    "start_time": "2021-08-22T20:03:49.775Z"
   },
   {
    "duration": 23,
    "start_time": "2021-08-22T20:03:49.798Z"
   },
   {
    "duration": 8,
    "start_time": "2021-08-22T20:03:49.825Z"
   },
   {
    "duration": 294236,
    "start_time": "2021-08-22T20:03:49.836Z"
   },
   {
    "duration": 10,
    "start_time": "2021-08-22T20:08:44.076Z"
   },
   {
    "duration": 8009,
    "start_time": "2021-08-22T20:08:44.090Z"
   },
   {
    "duration": 425,
    "start_time": "2021-08-22T20:18:55.554Z"
   },
   {
    "duration": 285,
    "start_time": "2021-08-22T20:19:23.408Z"
   },
   {
    "duration": 862,
    "start_time": "2021-08-22T20:21:16.370Z"
   },
   {
    "duration": 291,
    "start_time": "2021-08-22T20:21:37.052Z"
   },
   {
    "duration": 272,
    "start_time": "2021-08-22T20:22:26.682Z"
   },
   {
    "duration": 259,
    "start_time": "2021-08-22T20:23:31.332Z"
   },
   {
    "duration": 252,
    "start_time": "2021-08-22T20:24:39.884Z"
   },
   {
    "duration": 286,
    "start_time": "2021-08-22T20:24:53.932Z"
   },
   {
    "duration": 290,
    "start_time": "2021-08-22T20:24:59.294Z"
   },
   {
    "duration": 252,
    "start_time": "2021-08-22T20:25:09.516Z"
   },
   {
    "duration": 267,
    "start_time": "2021-08-22T20:25:17.337Z"
   },
   {
    "duration": 8,
    "start_time": "2021-08-22T20:25:29.481Z"
   },
   {
    "duration": 325,
    "start_time": "2021-08-22T20:28:05.225Z"
   },
   {
    "duration": 23,
    "start_time": "2021-08-22T20:30:10.962Z"
   },
   {
    "duration": 18,
    "start_time": "2021-08-22T20:31:13.420Z"
   },
   {
    "duration": 51,
    "start_time": "2021-08-22T20:31:47.611Z"
   },
   {
    "duration": 8,
    "start_time": "2021-08-22T20:33:11.251Z"
   },
   {
    "duration": 3909,
    "start_time": "2021-08-22T20:35:31.098Z"
   },
   {
    "duration": 5696,
    "start_time": "2021-08-22T20:36:06.978Z"
   },
   {
    "duration": 7,
    "start_time": "2021-08-22T20:36:53.098Z"
   },
   {
    "duration": 12,
    "start_time": "2021-08-22T20:38:24.044Z"
   },
   {
    "duration": 342,
    "start_time": "2021-08-22T20:38:34.236Z"
   },
   {
    "duration": 115,
    "start_time": "2021-08-22T20:41:45.469Z"
   },
   {
    "duration": 4665,
    "start_time": "2021-08-22T20:42:11.159Z"
   },
   {
    "duration": 3966,
    "start_time": "2021-08-22T20:42:46.258Z"
   },
   {
    "duration": 4396,
    "start_time": "2021-08-22T20:43:22.642Z"
   },
   {
    "duration": 3828,
    "start_time": "2021-08-22T20:44:03.677Z"
   },
   {
    "duration": 290,
    "start_time": "2021-08-22T20:48:05.244Z"
   },
   {
    "duration": 31,
    "start_time": "2021-08-22T20:48:28.784Z"
   },
   {
    "duration": 289,
    "start_time": "2021-08-22T20:55:04.654Z"
   },
   {
    "duration": 355,
    "start_time": "2021-08-22T20:55:25.051Z"
   },
   {
    "duration": 30,
    "start_time": "2021-08-22T20:55:33.828Z"
   },
   {
    "duration": 300,
    "start_time": "2021-08-22T21:00:06.351Z"
   },
   {
    "duration": 366,
    "start_time": "2021-08-22T21:01:14.414Z"
   },
   {
    "duration": 299,
    "start_time": "2021-08-22T21:01:33.906Z"
   },
   {
    "duration": 256,
    "start_time": "2021-08-22T21:01:54.658Z"
   },
   {
    "duration": 274,
    "start_time": "2021-08-22T21:02:12.086Z"
   },
   {
    "duration": 244,
    "start_time": "2021-08-22T21:02:58.889Z"
   },
   {
    "duration": 338,
    "start_time": "2021-08-22T21:04:01.547Z"
   },
   {
    "duration": 307,
    "start_time": "2021-08-22T21:05:12.659Z"
   },
   {
    "duration": 4,
    "start_time": "2021-08-22T21:05:30.861Z"
   },
   {
    "duration": 294,
    "start_time": "2021-08-22T21:06:39.812Z"
   },
   {
    "duration": 303,
    "start_time": "2021-08-22T21:08:36.086Z"
   },
   {
    "duration": 787,
    "start_time": "2021-08-22T21:09:22.839Z"
   },
   {
    "duration": 52,
    "start_time": "2021-08-22T21:09:42.097Z"
   },
   {
    "duration": 293,
    "start_time": "2021-08-22T21:10:45.897Z"
   },
   {
    "duration": 318,
    "start_time": "2021-08-22T21:10:53.756Z"
   },
   {
    "duration": 48,
    "start_time": "2021-08-22T21:11:00.886Z"
   },
   {
    "duration": 74,
    "start_time": "2021-08-22T21:16:03.390Z"
   },
   {
    "duration": 94,
    "start_time": "2021-08-22T21:30:27.880Z"
   },
   {
    "duration": 15866,
    "start_time": "2021-08-22T21:33:56.718Z"
   },
   {
    "duration": 2393,
    "start_time": "2021-08-22T21:34:12.587Z"
   },
   {
    "duration": 6,
    "start_time": "2021-08-22T21:34:14.983Z"
   },
   {
    "duration": 32,
    "start_time": "2021-08-22T21:34:14.993Z"
   },
   {
    "duration": 101,
    "start_time": "2021-08-22T21:34:15.028Z"
   },
   {
    "duration": 5,
    "start_time": "2021-08-22T21:34:15.131Z"
   },
   {
    "duration": 572,
    "start_time": "2021-08-22T21:34:15.138Z"
   },
   {
    "duration": 276,
    "start_time": "2021-08-22T21:34:15.714Z"
   },
   {
    "duration": 14,
    "start_time": "2021-08-22T21:34:15.993Z"
   },
   {
    "duration": 7,
    "start_time": "2021-08-22T21:34:16.010Z"
   },
   {
    "duration": 7,
    "start_time": "2021-08-22T21:34:16.020Z"
   },
   {
    "duration": 53,
    "start_time": "2021-08-22T21:34:16.030Z"
   },
   {
    "duration": 9,
    "start_time": "2021-08-22T21:34:16.085Z"
   },
   {
    "duration": 22,
    "start_time": "2021-08-22T21:34:16.097Z"
   },
   {
    "duration": 427,
    "start_time": "2021-08-22T21:34:16.122Z"
   },
   {
    "duration": 10,
    "start_time": "2021-08-22T21:34:16.552Z"
   },
   {
    "duration": 28,
    "start_time": "2021-08-22T21:34:16.565Z"
   },
   {
    "duration": 24,
    "start_time": "2021-08-22T21:34:16.596Z"
   },
   {
    "duration": 114,
    "start_time": "2021-08-22T21:34:16.622Z"
   },
   {
    "duration": 31,
    "start_time": "2021-08-22T21:34:16.739Z"
   },
   {
    "duration": 25,
    "start_time": "2021-08-22T21:34:16.773Z"
   },
   {
    "duration": 25,
    "start_time": "2021-08-22T21:34:16.801Z"
   },
   {
    "duration": 36,
    "start_time": "2021-08-22T21:34:16.830Z"
   },
   {
    "duration": 17,
    "start_time": "2021-08-22T21:34:16.870Z"
   },
   {
    "duration": 7,
    "start_time": "2021-08-22T21:34:16.891Z"
   },
   {
    "duration": 15,
    "start_time": "2021-08-22T21:34:16.901Z"
   },
   {
    "duration": 261416,
    "start_time": "2021-08-22T21:34:16.919Z"
   },
   {
    "duration": 7,
    "start_time": "2021-08-22T21:38:38.337Z"
   },
   {
    "duration": 3828,
    "start_time": "2021-08-22T21:38:38.362Z"
   },
   {
    "duration": 66572,
    "start_time": "2021-08-23T06:27:49.450Z"
   },
   {
    "duration": 3893,
    "start_time": "2021-08-23T06:31:44.163Z"
   },
   {
    "duration": 7,
    "start_time": "2021-08-23T06:34:40.193Z"
   },
   {
    "duration": 9,
    "start_time": "2021-08-23T06:34:44.993Z"
   },
   {
    "duration": 7,
    "start_time": "2021-08-23T07:13:13.467Z"
   },
   {
    "duration": 24953,
    "start_time": "2021-08-23T07:14:55.625Z"
   },
   {
    "duration": 7785,
    "start_time": "2021-08-23T07:15:20.581Z"
   },
   {
    "duration": 9,
    "start_time": "2021-08-23T07:15:28.374Z"
   },
   {
    "duration": 28,
    "start_time": "2021-08-23T07:15:28.386Z"
   },
   {
    "duration": 14,
    "start_time": "2021-08-23T07:15:28.418Z"
   },
   {
    "duration": 119,
    "start_time": "2021-08-23T07:15:28.435Z"
   },
   {
    "duration": 3,
    "start_time": "2021-08-23T07:15:28.558Z"
   },
   {
    "duration": 592,
    "start_time": "2021-08-23T07:15:28.565Z"
   },
   {
    "duration": 324,
    "start_time": "2021-08-23T07:15:29.160Z"
   },
   {
    "duration": 16,
    "start_time": "2021-08-23T07:15:29.486Z"
   },
   {
    "duration": 41,
    "start_time": "2021-08-23T07:15:29.504Z"
   },
   {
    "duration": 17,
    "start_time": "2021-08-23T07:15:29.548Z"
   },
   {
    "duration": 41,
    "start_time": "2021-08-23T07:15:29.568Z"
   },
   {
    "duration": 12,
    "start_time": "2021-08-23T07:15:29.613Z"
   },
   {
    "duration": 32,
    "start_time": "2021-08-23T07:15:29.628Z"
   },
   {
    "duration": 399,
    "start_time": "2021-08-23T07:15:29.662Z"
   },
   {
    "duration": 8,
    "start_time": "2021-08-23T07:15:30.063Z"
   },
   {
    "duration": 42,
    "start_time": "2021-08-23T07:15:30.074Z"
   },
   {
    "duration": 34,
    "start_time": "2021-08-23T07:15:30.119Z"
   },
   {
    "duration": 109,
    "start_time": "2021-08-23T07:15:30.156Z"
   },
   {
    "duration": 14,
    "start_time": "2021-08-23T07:15:30.267Z"
   },
   {
    "duration": 42,
    "start_time": "2021-08-23T07:15:30.287Z"
   },
   {
    "duration": 46,
    "start_time": "2021-08-23T07:15:30.333Z"
   },
   {
    "duration": 11,
    "start_time": "2021-08-23T07:15:30.381Z"
   },
   {
    "duration": 27,
    "start_time": "2021-08-23T07:15:30.394Z"
   },
   {
    "duration": 35,
    "start_time": "2021-08-23T07:15:30.423Z"
   },
   {
    "duration": 21,
    "start_time": "2021-08-23T07:15:30.460Z"
   },
   {
    "duration": 1054706,
    "start_time": "2021-08-23T07:15:30.483Z"
   },
   {
    "duration": 8,
    "start_time": "2021-08-23T07:33:05.191Z"
   },
   {
    "duration": 4172,
    "start_time": "2021-08-23T07:33:05.201Z"
   },
   {
    "duration": 5,
    "start_time": "2021-08-23T07:33:34.420Z"
   },
   {
    "duration": 3119,
    "start_time": "2021-08-23T07:35:27.172Z"
   },
   {
    "duration": 370,
    "start_time": "2021-08-23T07:35:58.757Z"
   },
   {
    "duration": 6,
    "start_time": "2021-08-23T07:37:36.225Z"
   },
   {
    "duration": 13990,
    "start_time": "2021-08-23T07:37:49.619Z"
   },
   {
    "duration": 11723,
    "start_time": "2021-08-23T07:41:30.255Z"
   },
   {
    "duration": 13979,
    "start_time": "2021-08-23T07:41:56.549Z"
   },
   {
    "duration": 14336,
    "start_time": "2021-08-23T07:45:40.505Z"
   },
   {
    "duration": 13871,
    "start_time": "2021-08-23T07:46:05.149Z"
   },
   {
    "duration": 6396,
    "start_time": "2021-08-23T07:58:49.105Z"
   },
   {
    "duration": 6638,
    "start_time": "2021-08-23T08:00:00.408Z"
   },
   {
    "duration": 7,
    "start_time": "2021-08-23T08:03:58.014Z"
   },
   {
    "duration": 15,
    "start_time": "2021-08-23T08:03:58.792Z"
   },
   {
    "duration": 6,
    "start_time": "2021-08-23T08:04:00.556Z"
   },
   {
    "duration": 10,
    "start_time": "2021-08-23T08:04:03.658Z"
   },
   {
    "duration": 70085,
    "start_time": "2021-08-23T08:04:11.371Z"
   },
   {
    "duration": 122,
    "start_time": "2021-08-23T08:11:38.863Z"
   },
   {
    "duration": 5,
    "start_time": "2021-08-23T08:11:48.135Z"
   },
   {
    "duration": 10,
    "start_time": "2021-08-23T08:11:54.057Z"
   },
   {
    "duration": 972,
    "start_time": "2021-08-23T08:11:55.491Z"
   },
   {
    "duration": 6,
    "start_time": "2021-08-23T08:12:22.785Z"
   },
   {
    "duration": 7,
    "start_time": "2021-08-23T08:12:25.521Z"
   },
   {
    "duration": 5,
    "start_time": "2021-08-23T08:14:33.303Z"
   },
   {
    "duration": 8,
    "start_time": "2021-08-23T08:14:36.349Z"
   },
   {
    "duration": 514077,
    "start_time": "2021-08-23T08:14:37.545Z"
   },
   {
    "duration": 4937,
    "start_time": "2021-08-23T08:24:03.865Z"
   },
   {
    "duration": 6,
    "start_time": "2021-08-23T08:24:50.637Z"
   },
   {
    "duration": 15,
    "start_time": "2021-08-23T08:24:52.396Z"
   },
   {
    "duration": 5,
    "start_time": "2021-08-23T08:24:53.943Z"
   },
   {
    "duration": 8,
    "start_time": "2021-08-23T08:24:56.121Z"
   },
   {
    "duration": 422315,
    "start_time": "2021-08-23T08:24:57.972Z"
   },
   {
    "duration": 7352,
    "start_time": "2021-08-23T08:32:08.714Z"
   },
   {
    "duration": 12235,
    "start_time": "2021-08-23T08:32:24.966Z"
   },
   {
    "duration": 44461,
    "start_time": "2021-08-23T08:32:54.442Z"
   },
   {
    "duration": 7,
    "start_time": "2021-08-23T08:34:36.124Z"
   },
   {
    "duration": 14,
    "start_time": "2021-08-23T08:34:36.886Z"
   },
   {
    "duration": 6,
    "start_time": "2021-08-23T08:34:38.581Z"
   },
   {
    "duration": 6,
    "start_time": "2021-08-23T08:35:01.382Z"
   },
   {
    "duration": 8,
    "start_time": "2021-08-23T08:35:07.222Z"
   },
   {
    "duration": 280075,
    "start_time": "2021-08-23T08:35:08.791Z"
   },
   {
    "duration": 399,
    "start_time": "2021-08-23T08:41:14.424Z"
   },
   {
    "duration": 13808,
    "start_time": "2021-08-23T08:43:14.971Z"
   },
   {
    "duration": 6,
    "start_time": "2021-08-23T08:46:29.585Z"
   },
   {
    "duration": 13546,
    "start_time": "2021-08-23T08:46:38.345Z"
   },
   {
    "duration": 13269,
    "start_time": "2021-08-23T08:47:08.025Z"
   },
   {
    "duration": 4715,
    "start_time": "2021-08-23T08:48:39.625Z"
   },
   {
    "duration": 18080,
    "start_time": "2021-08-23T08:49:26.185Z"
   },
   {
    "duration": 40251,
    "start_time": "2021-08-23T08:59:11.826Z"
   },
   {
    "duration": 14392,
    "start_time": "2021-08-23T09:01:59.032Z"
   },
   {
    "duration": 36574,
    "start_time": "2021-08-23T09:02:23.115Z"
   },
   {
    "duration": 13877,
    "start_time": "2021-08-23T09:07:50.527Z"
   },
   {
    "duration": 35964,
    "start_time": "2021-08-23T09:08:51.574Z"
   },
   {
    "duration": 2923,
    "start_time": "2021-08-23T09:16:44.963Z"
   },
   {
    "duration": 3124,
    "start_time": "2021-08-23T09:19:08.079Z"
   },
   {
    "duration": 2958,
    "start_time": "2021-08-23T09:19:32.689Z"
   },
   {
    "duration": 3378,
    "start_time": "2021-08-23T09:22:36.987Z"
   },
   {
    "duration": 10,
    "start_time": "2021-08-23T09:23:15.767Z"
   },
   {
    "duration": 3330,
    "start_time": "2021-08-23T09:23:33.949Z"
   },
   {
    "duration": 3531,
    "start_time": "2021-08-23T09:23:51.907Z"
   },
   {
    "duration": 3306,
    "start_time": "2021-08-23T09:25:14.113Z"
   },
   {
    "duration": 3678,
    "start_time": "2021-08-23T09:25:27.047Z"
   },
   {
    "duration": 3047,
    "start_time": "2021-08-23T09:26:37.677Z"
   },
   {
    "duration": 3285,
    "start_time": "2021-08-23T09:28:13.907Z"
   },
   {
    "duration": 3009,
    "start_time": "2021-08-23T09:29:02.181Z"
   },
   {
    "duration": 3452,
    "start_time": "2021-08-23T09:32:21.979Z"
   },
   {
    "duration": 2930,
    "start_time": "2021-08-23T09:32:47.807Z"
   },
   {
    "duration": 6626,
    "start_time": "2021-08-23T09:33:58.267Z"
   },
   {
    "duration": 2723,
    "start_time": "2021-08-23T09:34:46.569Z"
   },
   {
    "duration": 3134,
    "start_time": "2021-08-23T09:35:10.306Z"
   },
   {
    "duration": 1322,
    "start_time": "2021-08-23T09:37:12.865Z"
   },
   {
    "duration": 1834,
    "start_time": "2021-08-23T09:39:46.443Z"
   },
   {
    "duration": 1024,
    "start_time": "2021-08-23T09:39:54.416Z"
   },
   {
    "duration": 1104,
    "start_time": "2021-08-23T09:40:15.802Z"
   },
   {
    "duration": 3028,
    "start_time": "2021-08-23T09:41:27.328Z"
   },
   {
    "duration": 3183,
    "start_time": "2021-08-23T09:41:53.173Z"
   },
   {
    "duration": 3758,
    "start_time": "2021-08-23T09:42:11.101Z"
   },
   {
    "duration": 4227,
    "start_time": "2021-08-23T09:42:35.938Z"
   },
   {
    "duration": 4192,
    "start_time": "2021-08-23T09:43:37.477Z"
   },
   {
    "duration": 4076,
    "start_time": "2021-08-23T09:44:39.843Z"
   },
   {
    "duration": 6569,
    "start_time": "2021-08-23T09:44:57.275Z"
   },
   {
    "duration": 6847,
    "start_time": "2021-08-23T09:45:10.655Z"
   },
   {
    "duration": 3967,
    "start_time": "2021-08-23T09:45:22.964Z"
   },
   {
    "duration": 3936,
    "start_time": "2021-08-23T09:46:36.324Z"
   },
   {
    "duration": 4034,
    "start_time": "2021-08-23T09:46:58.904Z"
   },
   {
    "duration": 4301,
    "start_time": "2021-08-23T09:47:13.691Z"
   },
   {
    "duration": 4492,
    "start_time": "2021-08-23T09:47:48.384Z"
   },
   {
    "duration": 4649,
    "start_time": "2021-08-23T09:48:13.867Z"
   },
   {
    "duration": 4292,
    "start_time": "2021-08-23T09:52:23.772Z"
   },
   {
    "duration": 14828,
    "start_time": "2021-08-23T10:15:42.585Z"
   },
   {
    "duration": 36890,
    "start_time": "2021-08-23T10:17:23.393Z"
   },
   {
    "duration": 39489,
    "start_time": "2021-08-23T10:18:42.733Z"
   },
   {
    "duration": 14588,
    "start_time": "2021-08-23T10:20:23.544Z"
   },
   {
    "duration": 15336,
    "start_time": "2021-08-23T10:20:59.349Z"
   },
   {
    "duration": 44802,
    "start_time": "2021-08-23T10:21:48.391Z"
   },
   {
    "duration": 39053,
    "start_time": "2021-08-23T10:27:47.219Z"
   },
   {
    "duration": 36183,
    "start_time": "2021-08-23T10:29:46.135Z"
   },
   {
    "duration": 36284,
    "start_time": "2021-08-23T10:31:33.876Z"
   },
   {
    "duration": 36954,
    "start_time": "2021-08-23T10:34:33.387Z"
   },
   {
    "duration": 37676,
    "start_time": "2021-08-23T10:37:52.645Z"
   },
   {
    "duration": 38289,
    "start_time": "2021-08-23T10:39:52.050Z"
   },
   {
    "duration": 36408,
    "start_time": "2021-08-23T10:40:55.520Z"
   },
   {
    "duration": 37139,
    "start_time": "2021-08-23T10:46:22.088Z"
   },
   {
    "duration": 15557,
    "start_time": "2021-08-23T10:52:59.510Z"
   },
   {
    "duration": 2356,
    "start_time": "2021-08-23T10:53:15.070Z"
   },
   {
    "duration": 6,
    "start_time": "2021-08-23T10:53:17.429Z"
   },
   {
    "duration": 21,
    "start_time": "2021-08-23T10:53:17.438Z"
   },
   {
    "duration": 116,
    "start_time": "2021-08-23T10:53:17.462Z"
   },
   {
    "duration": 4,
    "start_time": "2021-08-23T10:53:17.581Z"
   },
   {
    "duration": 587,
    "start_time": "2021-08-23T10:53:17.587Z"
   },
   {
    "duration": 275,
    "start_time": "2021-08-23T10:53:18.177Z"
   },
   {
    "duration": 14,
    "start_time": "2021-08-23T10:53:18.457Z"
   },
   {
    "duration": 13,
    "start_time": "2021-08-23T10:53:18.474Z"
   },
   {
    "duration": 23,
    "start_time": "2021-08-23T10:53:18.490Z"
   },
   {
    "duration": 32,
    "start_time": "2021-08-23T10:53:18.515Z"
   },
   {
    "duration": 12,
    "start_time": "2021-08-23T10:53:18.549Z"
   },
   {
    "duration": 28,
    "start_time": "2021-08-23T10:53:18.564Z"
   },
   {
    "duration": 400,
    "start_time": "2021-08-23T10:53:18.595Z"
   },
   {
    "duration": 6,
    "start_time": "2021-08-23T10:53:18.997Z"
   },
   {
    "duration": 23,
    "start_time": "2021-08-23T10:53:19.005Z"
   },
   {
    "duration": 38,
    "start_time": "2021-08-23T10:53:19.030Z"
   },
   {
    "duration": 118,
    "start_time": "2021-08-23T10:53:19.070Z"
   },
   {
    "duration": 12,
    "start_time": "2021-08-23T10:53:19.191Z"
   },
   {
    "duration": 38,
    "start_time": "2021-08-23T10:53:19.205Z"
   },
   {
    "duration": 36,
    "start_time": "2021-08-23T10:53:19.257Z"
   },
   {
    "duration": 4284,
    "start_time": "2021-08-23T10:53:19.295Z"
   },
   {
    "duration": 10,
    "start_time": "2021-08-23T10:53:23.581Z"
   },
   {
    "duration": 14,
    "start_time": "2021-08-23T10:53:23.594Z"
   },
   {
    "duration": 5,
    "start_time": "2021-08-23T10:53:23.611Z"
   },
   {
    "duration": 37,
    "start_time": "2021-08-23T10:53:23.621Z"
   },
   {
    "duration": 320688,
    "start_time": "2021-08-23T10:53:23.661Z"
   },
   {
    "duration": 39364,
    "start_time": "2021-08-23T10:58:44.356Z"
   },
   {
    "duration": 8,
    "start_time": "2021-08-23T10:59:23.722Z"
   },
   {
    "duration": 3874,
    "start_time": "2021-08-23T10:59:23.733Z"
   },
   {
    "duration": 27866,
    "start_time": "2021-08-23T15:34:30.258Z"
   },
   {
    "duration": 1900,
    "start_time": "2021-08-23T15:34:58.127Z"
   },
   {
    "duration": 4,
    "start_time": "2021-08-23T15:35:00.030Z"
   },
   {
    "duration": 29,
    "start_time": "2021-08-23T15:35:00.037Z"
   },
   {
    "duration": 121,
    "start_time": "2021-08-23T15:35:00.069Z"
   },
   {
    "duration": 4,
    "start_time": "2021-08-23T15:35:00.192Z"
   },
   {
    "duration": 421,
    "start_time": "2021-08-23T15:35:00.198Z"
   },
   {
    "duration": 186,
    "start_time": "2021-08-23T15:35:00.622Z"
   },
   {
    "duration": 10,
    "start_time": "2021-08-23T15:35:00.810Z"
   },
   {
    "duration": 15,
    "start_time": "2021-08-23T15:35:00.822Z"
   },
   {
    "duration": 28,
    "start_time": "2021-08-23T15:35:00.838Z"
   },
   {
    "duration": 23,
    "start_time": "2021-08-23T15:35:00.868Z"
   },
   {
    "duration": 7,
    "start_time": "2021-08-23T15:35:00.892Z"
   },
   {
    "duration": 25,
    "start_time": "2021-08-23T15:35:00.900Z"
   },
   {
    "duration": 295,
    "start_time": "2021-08-23T15:35:00.927Z"
   },
   {
    "duration": 5,
    "start_time": "2021-08-23T15:35:09.340Z"
   },
   {
    "duration": 12,
    "start_time": "2021-08-23T15:35:15.525Z"
   },
   {
    "duration": 454,
    "start_time": "2021-08-23T15:42:15.508Z"
   },
   {
    "duration": 307,
    "start_time": "2021-08-23T15:42:43.866Z"
   },
   {
    "duration": 398,
    "start_time": "2021-08-23T15:43:18.597Z"
   },
   {
    "duration": 241,
    "start_time": "2021-08-23T15:43:39.621Z"
   },
   {
    "duration": 362,
    "start_time": "2021-08-23T15:43:41.358Z"
   },
   {
    "duration": -1293,
    "start_time": "2021-08-23T15:43:43.015Z"
   },
   {
    "duration": 11,
    "start_time": "2021-08-23T15:43:54.182Z"
   },
   {
    "duration": 8,
    "start_time": "2021-08-23T15:49:32.725Z"
   },
   {
    "duration": 5,
    "start_time": "2021-08-23T15:49:34.764Z"
   },
   {
    "duration": 5,
    "start_time": "2021-08-23T15:49:35.526Z"
   },
   {
    "duration": 93,
    "start_time": "2021-08-23T15:49:36.654Z"
   },
   {
    "duration": 3,
    "start_time": "2021-08-23T15:49:37.187Z"
   },
   {
    "duration": 229,
    "start_time": "2021-08-23T15:49:37.705Z"
   },
   {
    "duration": 148,
    "start_time": "2021-08-23T15:49:40.303Z"
   },
   {
    "duration": 10,
    "start_time": "2021-08-23T15:49:41.599Z"
   },
   {
    "duration": 6,
    "start_time": "2021-08-23T15:49:41.787Z"
   },
   {
    "duration": 4,
    "start_time": "2021-08-23T15:49:42.015Z"
   },
   {
    "duration": 14,
    "start_time": "2021-08-23T15:49:42.341Z"
   },
   {
    "duration": 7,
    "start_time": "2021-08-23T15:49:43.470Z"
   },
   {
    "duration": 13,
    "start_time": "2021-08-23T15:49:44.181Z"
   },
   {
    "duration": 283,
    "start_time": "2021-08-23T15:49:46.111Z"
   },
   {
    "duration": 5,
    "start_time": "2021-08-23T15:49:47.442Z"
   },
   {
    "duration": 11,
    "start_time": "2021-08-23T15:49:49.714Z"
   },
   {
    "duration": 17,
    "start_time": "2021-08-23T15:49:51.462Z"
   },
   {
    "duration": 65,
    "start_time": "2021-08-23T15:49:52.695Z"
   },
   {
    "duration": 9,
    "start_time": "2021-08-23T15:50:02.725Z"
   },
   {
    "duration": 20,
    "start_time": "2021-08-23T15:50:04.210Z"
   },
   {
    "duration": 19,
    "start_time": "2021-08-23T15:50:05.247Z"
   },
   {
    "duration": 8210,
    "start_time": "2021-08-23T15:50:11.289Z"
   },
   {
    "duration": 349,
    "start_time": "2021-08-23T15:51:52.316Z"
   },
   {
    "duration": 305,
    "start_time": "2021-08-23T15:55:17.665Z"
   },
   {
    "duration": 389,
    "start_time": "2021-08-23T16:00:08.528Z"
   },
   {
    "duration": 392,
    "start_time": "2021-08-23T16:00:22.829Z"
   },
   {
    "duration": 695,
    "start_time": "2021-08-23T16:01:28.077Z"
   },
   {
    "duration": 349,
    "start_time": "2021-08-23T16:01:41.191Z"
   },
   {
    "duration": 294,
    "start_time": "2021-08-23T16:02:16.734Z"
   },
   {
    "duration": 1024,
    "start_time": "2021-08-23T16:18:25.662Z"
   },
   {
    "duration": 900,
    "start_time": "2021-08-23T16:18:39.722Z"
   },
   {
    "duration": 915,
    "start_time": "2021-08-23T16:19:10.963Z"
   },
   {
    "duration": 882,
    "start_time": "2021-08-23T16:20:44.461Z"
   },
   {
    "duration": 982,
    "start_time": "2021-08-23T16:21:18.808Z"
   },
   {
    "duration": 929,
    "start_time": "2021-08-23T16:21:31.613Z"
   },
   {
    "duration": 871,
    "start_time": "2021-08-23T16:21:44.660Z"
   },
   {
    "duration": 878,
    "start_time": "2021-08-23T16:22:11.901Z"
   },
   {
    "duration": 917,
    "start_time": "2021-08-23T16:22:39.641Z"
   },
   {
    "duration": 932,
    "start_time": "2021-08-23T16:22:52.312Z"
   },
   {
    "duration": 910,
    "start_time": "2021-08-23T16:23:26.521Z"
   },
   {
    "duration": 898,
    "start_time": "2021-08-23T16:24:05.821Z"
   },
   {
    "duration": 912,
    "start_time": "2021-08-23T16:24:21.013Z"
   },
   {
    "duration": 6,
    "start_time": "2021-08-23T16:24:40.486Z"
   },
   {
    "duration": 899,
    "start_time": "2021-08-23T16:25:03.870Z"
   },
   {
    "duration": 1045,
    "start_time": "2021-08-23T16:26:39.369Z"
   },
   {
    "duration": 1186,
    "start_time": "2021-08-23T16:27:19.883Z"
   },
   {
    "duration": 1058,
    "start_time": "2021-08-23T16:28:21.281Z"
   },
   {
    "duration": 1052,
    "start_time": "2021-08-23T16:28:35.521Z"
   },
   {
    "duration": 6,
    "start_time": "2021-08-23T16:30:11.607Z"
   },
   {
    "duration": 1062,
    "start_time": "2021-08-23T16:30:22.808Z"
   },
   {
    "duration": 1012,
    "start_time": "2021-08-23T16:30:33.917Z"
   },
   {
    "duration": 6,
    "start_time": "2021-08-23T16:30:57.416Z"
   },
   {
    "duration": 95,
    "start_time": "2021-08-23T16:31:30.277Z"
   },
   {
    "duration": 3,
    "start_time": "2021-08-23T16:31:31.387Z"
   },
   {
    "duration": 253,
    "start_time": "2021-08-23T16:31:31.879Z"
   },
   {
    "duration": 152,
    "start_time": "2021-08-23T16:31:33.362Z"
   },
   {
    "duration": 11,
    "start_time": "2021-08-23T16:31:36.348Z"
   },
   {
    "duration": 6,
    "start_time": "2021-08-23T16:31:36.840Z"
   },
   {
    "duration": 5,
    "start_time": "2021-08-23T16:31:37.048Z"
   },
   {
    "duration": 15,
    "start_time": "2021-08-23T16:31:37.540Z"
   },
   {
    "duration": 7,
    "start_time": "2021-08-23T16:31:38.399Z"
   },
   {
    "duration": 11,
    "start_time": "2021-08-23T16:31:39.002Z"
   },
   {
    "duration": 290,
    "start_time": "2021-08-23T16:31:39.457Z"
   },
   {
    "duration": 5,
    "start_time": "2021-08-23T16:31:40.887Z"
   },
   {
    "duration": 12,
    "start_time": "2021-08-23T16:31:41.379Z"
   },
   {
    "duration": 16,
    "start_time": "2021-08-23T16:31:42.028Z"
   },
   {
    "duration": 61,
    "start_time": "2021-08-23T16:31:42.928Z"
   },
   {
    "duration": 9,
    "start_time": "2021-08-23T16:31:43.847Z"
   },
   {
    "duration": 17,
    "start_time": "2021-08-23T16:31:44.520Z"
   },
   {
    "duration": 17,
    "start_time": "2021-08-23T16:31:44.732Z"
   },
   {
    "duration": 1255,
    "start_time": "2021-08-23T16:31:46.867Z"
   },
   {
    "duration": 2603,
    "start_time": "2021-08-23T16:31:55.442Z"
   },
   {
    "duration": 7,
    "start_time": "2021-08-23T16:33:07.176Z"
   },
   {
    "duration": 4000,
    "start_time": "2021-08-23T16:33:18.986Z"
   },
   {
    "duration": 1056,
    "start_time": "2021-08-23T16:33:38.948Z"
   },
   {
    "duration": 2843,
    "start_time": "2021-08-23T16:33:48.070Z"
   },
   {
    "duration": 2747,
    "start_time": "2021-08-23T16:34:16.869Z"
   },
   {
    "duration": 2890,
    "start_time": "2021-08-23T16:35:31.333Z"
   },
   {
    "duration": 2689,
    "start_time": "2021-08-23T16:36:50.069Z"
   },
   {
    "duration": 8,
    "start_time": "2021-08-23T16:51:12.108Z"
   },
   {
    "duration": 5,
    "start_time": "2021-08-23T16:52:03.340Z"
   },
   {
    "duration": 5,
    "start_time": "2021-08-23T16:52:42.022Z"
   },
   {
    "duration": 23,
    "start_time": "2021-08-23T16:53:59.157Z"
   },
   {
    "duration": 10,
    "start_time": "2021-08-23T16:54:31.868Z"
   },
   {
    "duration": 15,
    "start_time": "2021-08-23T16:58:30.129Z"
   },
   {
    "duration": 24,
    "start_time": "2021-08-23T17:00:08.063Z"
   },
   {
    "duration": 5,
    "start_time": "2021-08-23T17:00:28.579Z"
   },
   {
    "duration": 6,
    "start_time": "2021-08-23T17:01:11.440Z"
   },
   {
    "duration": 6,
    "start_time": "2021-08-23T17:01:23.104Z"
   },
   {
    "duration": 5,
    "start_time": "2021-08-23T17:01:57.668Z"
   },
   {
    "duration": 102,
    "start_time": "2021-08-23T17:03:10.764Z"
   },
   {
    "duration": 8,
    "start_time": "2021-08-23T17:03:27.263Z"
   },
   {
    "duration": 6,
    "start_time": "2021-08-23T17:04:42.602Z"
   },
   {
    "duration": 6,
    "start_time": "2021-08-23T17:04:56.046Z"
   },
   {
    "duration": 93,
    "start_time": "2021-08-23T17:06:03.532Z"
   },
   {
    "duration": 324,
    "start_time": "2021-08-23T17:06:13.580Z"
   },
   {
    "duration": 7,
    "start_time": "2021-08-23T17:06:23.314Z"
   },
   {
    "duration": 6,
    "start_time": "2021-08-23T17:06:43.174Z"
   },
   {
    "duration": 6,
    "start_time": "2021-08-23T17:06:58.099Z"
   },
   {
    "duration": 3975,
    "start_time": "2021-08-23T17:08:14.356Z"
   },
   {
    "duration": 18,
    "start_time": "2021-08-23T17:08:23.928Z"
   },
   {
    "duration": 16,
    "start_time": "2021-08-23T17:08:30.290Z"
   },
   {
    "duration": 21,
    "start_time": "2021-08-23T17:11:29.212Z"
   },
   {
    "duration": 29,
    "start_time": "2021-08-23T17:18:39.070Z"
   },
   {
    "duration": 6,
    "start_time": "2021-08-23T17:20:00.972Z"
   },
   {
    "duration": 6,
    "start_time": "2021-08-23T17:20:47.088Z"
   },
   {
    "duration": 6,
    "start_time": "2021-08-23T17:20:55.629Z"
   },
   {
    "duration": 6,
    "start_time": "2021-08-23T17:21:24.346Z"
   },
   {
    "duration": 6,
    "start_time": "2021-08-23T17:21:51.880Z"
   },
   {
    "duration": 1210,
    "start_time": "2021-08-23T17:22:48.099Z"
   },
   {
    "duration": 1077,
    "start_time": "2021-08-23T17:23:15.253Z"
   },
   {
    "duration": 10077,
    "start_time": "2021-08-23T17:24:02.483Z"
   },
   {
    "duration": 1638,
    "start_time": "2021-08-23T17:24:12.562Z"
   },
   {
    "duration": 4,
    "start_time": "2021-08-23T17:24:14.202Z"
   },
   {
    "duration": 7,
    "start_time": "2021-08-23T17:24:14.208Z"
   },
   {
    "duration": 96,
    "start_time": "2021-08-23T17:24:14.217Z"
   },
   {
    "duration": 2,
    "start_time": "2021-08-23T17:24:14.315Z"
   },
   {
    "duration": 387,
    "start_time": "2021-08-23T17:24:14.319Z"
   },
   {
    "duration": 176,
    "start_time": "2021-08-23T17:24:14.708Z"
   },
   {
    "duration": 11,
    "start_time": "2021-08-23T17:24:14.886Z"
   },
   {
    "duration": 5,
    "start_time": "2021-08-23T17:24:14.899Z"
   },
   {
    "duration": 4,
    "start_time": "2021-08-23T17:24:14.905Z"
   },
   {
    "duration": 17,
    "start_time": "2021-08-23T17:24:14.911Z"
   },
   {
    "duration": 6,
    "start_time": "2021-08-23T17:24:14.929Z"
   },
   {
    "duration": 13,
    "start_time": "2021-08-23T17:24:14.936Z"
   },
   {
    "duration": 353,
    "start_time": "2021-08-23T17:24:14.951Z"
   },
   {
    "duration": 5,
    "start_time": "2021-08-23T17:24:15.306Z"
   },
   {
    "duration": 13,
    "start_time": "2021-08-23T17:24:15.312Z"
   },
   {
    "duration": 25,
    "start_time": "2021-08-23T17:24:15.327Z"
   },
   {
    "duration": 74,
    "start_time": "2021-08-23T17:24:15.354Z"
   },
   {
    "duration": 8,
    "start_time": "2021-08-23T17:24:15.429Z"
   },
   {
    "duration": 20,
    "start_time": "2021-08-23T17:24:15.439Z"
   },
   {
    "duration": 45,
    "start_time": "2021-08-23T17:24:15.461Z"
   },
   {
    "duration": 30,
    "start_time": "2021-08-23T17:24:15.510Z"
   },
   {
    "duration": 5,
    "start_time": "2021-08-23T17:24:15.542Z"
   },
   {
    "duration": 1089,
    "start_time": "2021-08-23T17:24:15.549Z"
   },
   {
    "duration": 2855,
    "start_time": "2021-08-23T17:24:16.639Z"
   },
   {
    "duration": 6,
    "start_time": "2021-08-23T17:24:19.496Z"
   },
   {
    "duration": 12,
    "start_time": "2021-08-23T17:24:19.504Z"
   },
   {
    "duration": 4,
    "start_time": "2021-08-23T17:24:19.518Z"
   },
   {
    "duration": 7,
    "start_time": "2021-08-23T17:24:19.524Z"
   },
   {
    "duration": 202142,
    "start_time": "2021-08-23T17:24:19.533Z"
   },
   {
    "duration": 23565,
    "start_time": "2021-08-23T17:27:41.677Z"
   },
   {
    "duration": 6,
    "start_time": "2021-08-23T17:28:05.244Z"
   },
   {
    "duration": 2771,
    "start_time": "2021-08-23T17:28:05.252Z"
   },
   {
    "duration": 10240,
    "start_time": "2021-08-23T18:46:30.551Z"
   },
   {
    "duration": 12,
    "start_time": "2021-08-23T18:46:40.794Z"
   },
   {
    "duration": 7,
    "start_time": "2021-08-23T18:46:40.808Z"
   },
   {
    "duration": 7,
    "start_time": "2021-08-23T18:46:40.817Z"
   },
   {
    "duration": 99,
    "start_time": "2021-08-23T18:46:40.825Z"
   },
   {
    "duration": 2,
    "start_time": "2021-08-23T18:46:40.926Z"
   },
   {
    "duration": 275,
    "start_time": "2021-08-23T18:46:40.930Z"
   },
   {
    "duration": 154,
    "start_time": "2021-08-23T18:47:15.868Z"
   },
   {
    "duration": 147,
    "start_time": "2021-08-23T18:47:58.308Z"
   },
   {
    "duration": 289,
    "start_time": "2021-08-23T18:48:08.247Z"
   },
   {
    "duration": 11,
    "start_time": "2021-08-23T18:48:15.927Z"
   },
   {
    "duration": 6,
    "start_time": "2021-08-23T18:48:16.599Z"
   },
   {
    "duration": 5,
    "start_time": "2021-08-23T18:48:17.328Z"
   },
   {
    "duration": 15,
    "start_time": "2021-08-23T18:48:18.616Z"
   },
   {
    "duration": 8,
    "start_time": "2021-08-23T18:48:20.207Z"
   },
   {
    "duration": 13,
    "start_time": "2021-08-23T18:48:21.647Z"
   },
   {
    "duration": 259,
    "start_time": "2021-08-23T18:48:23.637Z"
   },
   {
    "duration": 10051,
    "start_time": "2021-08-23T18:50:54.404Z"
   },
   {
    "duration": 1659,
    "start_time": "2021-08-23T18:51:04.457Z"
   },
   {
    "duration": 4,
    "start_time": "2021-08-23T18:51:06.118Z"
   },
   {
    "duration": 7,
    "start_time": "2021-08-23T18:51:06.124Z"
   },
   {
    "duration": 96,
    "start_time": "2021-08-23T18:51:06.133Z"
   },
   {
    "duration": 4,
    "start_time": "2021-08-23T18:51:06.231Z"
   },
   {
    "duration": 396,
    "start_time": "2021-08-23T18:51:06.237Z"
   },
   {
    "duration": 191,
    "start_time": "2021-08-23T18:51:06.636Z"
   },
   {
    "duration": 12,
    "start_time": "2021-08-23T18:51:06.831Z"
   },
   {
    "duration": 6,
    "start_time": "2021-08-23T18:51:06.845Z"
   },
   {
    "duration": 6,
    "start_time": "2021-08-23T18:51:06.852Z"
   },
   {
    "duration": 37,
    "start_time": "2021-08-23T18:51:06.860Z"
   },
   {
    "duration": 7,
    "start_time": "2021-08-23T18:51:06.899Z"
   },
   {
    "duration": 14,
    "start_time": "2021-08-23T18:51:06.907Z"
   },
   {
    "duration": 286,
    "start_time": "2021-08-23T18:51:06.923Z"
   },
   {
    "duration": 4,
    "start_time": "2021-08-23T18:51:07.211Z"
   },
   {
    "duration": 12,
    "start_time": "2021-08-23T18:51:07.217Z"
   },
   {
    "duration": 15,
    "start_time": "2021-08-23T18:51:07.231Z"
   },
   {
    "duration": 81,
    "start_time": "2021-08-23T18:51:07.248Z"
   },
   {
    "duration": 8,
    "start_time": "2021-08-23T18:51:07.331Z"
   },
   {
    "duration": 17,
    "start_time": "2021-08-23T18:51:07.340Z"
   },
   {
    "duration": 36,
    "start_time": "2021-08-23T18:51:07.359Z"
   },
   {
    "duration": 27,
    "start_time": "2021-08-23T18:51:07.398Z"
   },
   {
    "duration": 6,
    "start_time": "2021-08-23T18:51:07.426Z"
   },
   {
    "duration": 1108,
    "start_time": "2021-08-23T18:51:07.434Z"
   },
   {
    "duration": 2848,
    "start_time": "2021-08-23T18:51:08.543Z"
   },
   {
    "duration": 5,
    "start_time": "2021-08-23T18:51:11.393Z"
   },
   {
    "duration": 13,
    "start_time": "2021-08-23T18:51:11.400Z"
   },
   {
    "duration": 4,
    "start_time": "2021-08-23T18:51:11.414Z"
   },
   {
    "duration": 9,
    "start_time": "2021-08-23T18:51:11.420Z"
   },
   {
    "duration": 200086,
    "start_time": "2021-08-23T18:51:11.430Z"
   },
   {
    "duration": 23682,
    "start_time": "2021-08-23T18:54:31.518Z"
   },
   {
    "duration": 6,
    "start_time": "2021-08-23T18:54:55.202Z"
   },
   {
    "duration": 2820,
    "start_time": "2021-08-23T18:54:55.210Z"
   },
   {
    "duration": 17475,
    "start_time": "2021-08-24T08:04:47.912Z"
   },
   {
    "duration": 2333,
    "start_time": "2021-08-24T08:05:05.391Z"
   },
   {
    "duration": 8,
    "start_time": "2021-08-24T08:05:07.728Z"
   },
   {
    "duration": 22,
    "start_time": "2021-08-24T08:05:07.740Z"
   },
   {
    "duration": 124,
    "start_time": "2021-08-24T08:05:07.765Z"
   },
   {
    "duration": 5,
    "start_time": "2021-08-24T08:05:07.892Z"
   },
   {
    "duration": 573,
    "start_time": "2021-08-24T08:05:07.900Z"
   },
   {
    "duration": 264,
    "start_time": "2021-08-24T08:05:08.477Z"
   },
   {
    "duration": 14,
    "start_time": "2021-08-24T08:05:08.755Z"
   },
   {
    "duration": 21,
    "start_time": "2021-08-24T08:05:08.771Z"
   },
   {
    "duration": 18,
    "start_time": "2021-08-24T08:05:08.795Z"
   },
   {
    "duration": 35,
    "start_time": "2021-08-24T08:05:08.816Z"
   },
   {
    "duration": 17,
    "start_time": "2021-08-24T08:05:08.853Z"
   },
   {
    "duration": 31,
    "start_time": "2021-08-24T08:05:08.873Z"
   },
   {
    "duration": 448,
    "start_time": "2021-08-24T08:05:08.906Z"
   },
   {
    "duration": 6,
    "start_time": "2021-08-24T08:05:09.357Z"
   },
   {
    "duration": 21,
    "start_time": "2021-08-24T08:05:09.365Z"
   },
   {
    "duration": 38,
    "start_time": "2021-08-24T08:05:09.388Z"
   },
   {
    "duration": 159,
    "start_time": "2021-08-24T08:05:09.429Z"
   },
   {
    "duration": 15,
    "start_time": "2021-08-24T08:05:09.591Z"
   },
   {
    "duration": 56,
    "start_time": "2021-08-24T08:05:09.609Z"
   },
   {
    "duration": 31,
    "start_time": "2021-08-24T08:05:09.667Z"
   },
   {
    "duration": 55,
    "start_time": "2021-08-24T08:05:09.703Z"
   },
   {
    "duration": 8,
    "start_time": "2021-08-24T08:05:09.761Z"
   },
   {
    "duration": 1671,
    "start_time": "2021-08-24T08:05:09.771Z"
   },
   {
    "duration": 4680,
    "start_time": "2021-08-24T08:05:11.445Z"
   },
   {
    "duration": 26,
    "start_time": "2021-08-24T08:05:16.128Z"
   },
   {
    "duration": 20,
    "start_time": "2021-08-24T08:05:16.158Z"
   },
   {
    "duration": 9,
    "start_time": "2021-08-24T08:05:16.181Z"
   },
   {
    "duration": 36,
    "start_time": "2021-08-24T08:05:16.193Z"
   },
   {
    "duration": 294097,
    "start_time": "2021-08-24T08:05:16.232Z"
   },
   {
    "duration": 37632,
    "start_time": "2021-08-24T08:10:10.331Z"
   },
   {
    "duration": 10,
    "start_time": "2021-08-24T08:10:47.965Z"
   },
   {
    "duration": 4204,
    "start_time": "2021-08-24T08:10:47.977Z"
   },
   {
    "duration": 37831,
    "start_time": "2021-08-24T08:12:21.093Z"
   },
   {
    "duration": 294710,
    "start_time": "2021-08-24T08:20:42.765Z"
   },
   {
    "duration": 16,
    "start_time": "2021-08-24T08:33:07.942Z"
   },
   {
    "duration": 35,
    "start_time": "2021-08-24T08:33:25.739Z"
   },
   {
    "duration": 35,
    "start_time": "2021-08-24T08:34:08.660Z"
   },
   {
    "duration": 13,
    "start_time": "2021-08-24T08:34:26.104Z"
   },
   {
    "duration": 49993,
    "start_time": "2021-08-24T08:34:33.433Z"
   },
   {
    "duration": 15,
    "start_time": "2021-08-24T08:37:43.561Z"
   },
   {
    "duration": 34,
    "start_time": "2021-08-24T08:38:01.405Z"
   },
   {
    "duration": 46974,
    "start_time": "2021-08-24T08:38:39.863Z"
   },
   {
    "duration": 16902,
    "start_time": "2021-08-24T08:40:39.310Z"
   },
   {
    "duration": 2587,
    "start_time": "2021-08-24T08:40:56.215Z"
   },
   {
    "duration": 6,
    "start_time": "2021-08-24T08:40:58.805Z"
   },
   {
    "duration": 13,
    "start_time": "2021-08-24T08:40:58.813Z"
   },
   {
    "duration": 115,
    "start_time": "2021-08-24T08:40:58.828Z"
   },
   {
    "duration": 5,
    "start_time": "2021-08-24T08:40:58.945Z"
   },
   {
    "duration": 557,
    "start_time": "2021-08-24T08:40:58.953Z"
   },
   {
    "duration": 285,
    "start_time": "2021-08-24T08:40:59.514Z"
   },
   {
    "duration": 16,
    "start_time": "2021-08-24T08:40:59.803Z"
   },
   {
    "duration": 7,
    "start_time": "2021-08-24T08:40:59.821Z"
   },
   {
    "duration": 28,
    "start_time": "2021-08-24T08:40:59.830Z"
   },
   {
    "duration": 29,
    "start_time": "2021-08-24T08:40:59.861Z"
   },
   {
    "duration": 8,
    "start_time": "2021-08-24T08:40:59.893Z"
   },
   {
    "duration": 20,
    "start_time": "2021-08-24T08:40:59.904Z"
   },
   {
    "duration": 424,
    "start_time": "2021-08-24T08:40:59.926Z"
   },
   {
    "duration": 6,
    "start_time": "2021-08-24T08:41:00.353Z"
   },
   {
    "duration": 34,
    "start_time": "2021-08-24T08:41:00.361Z"
   },
   {
    "duration": 28,
    "start_time": "2021-08-24T08:41:00.397Z"
   },
   {
    "duration": 102,
    "start_time": "2021-08-24T08:41:00.427Z"
   },
   {
    "duration": 28,
    "start_time": "2021-08-24T08:41:00.531Z"
   },
   {
    "duration": 64,
    "start_time": "2021-08-24T08:41:00.561Z"
   },
   {
    "duration": 87,
    "start_time": "2021-08-24T08:41:00.628Z"
   },
   {
    "duration": 47,
    "start_time": "2021-08-24T08:41:00.720Z"
   },
   {
    "duration": 9,
    "start_time": "2021-08-24T08:41:00.770Z"
   },
   {
    "duration": 1651,
    "start_time": "2021-08-24T08:41:00.781Z"
   },
   {
    "duration": 4470,
    "start_time": "2021-08-24T08:41:02.434Z"
   },
   {
    "duration": 7,
    "start_time": "2021-08-24T08:41:06.907Z"
   },
   {
    "duration": 42,
    "start_time": "2021-08-24T08:41:06.918Z"
   },
   {
    "duration": 8,
    "start_time": "2021-08-24T08:41:06.962Z"
   },
   {
    "duration": 23,
    "start_time": "2021-08-24T08:41:06.973Z"
   },
   {
    "duration": 316359,
    "start_time": "2021-08-24T08:41:06.998Z"
   },
   {
    "duration": 36821,
    "start_time": "2021-08-24T08:46:23.360Z"
   },
   {
    "duration": 7,
    "start_time": "2021-08-24T08:47:00.184Z"
   },
   {
    "duration": 14,
    "start_time": "2021-08-24T08:47:00.195Z"
   },
   {
    "duration": 46497,
    "start_time": "2021-08-24T08:47:00.212Z"
   },
   {
    "duration": -1191,
    "start_time": "2021-08-24T08:47:47.904Z"
   },
   {
    "duration": -1194,
    "start_time": "2021-08-24T08:47:47.910Z"
   },
   {
    "duration": 7,
    "start_time": "2021-08-24T08:50:04.569Z"
   },
   {
    "duration": 13,
    "start_time": "2021-08-24T08:50:05.400Z"
   },
   {
    "duration": 22612,
    "start_time": "2021-08-24T08:50:06.694Z"
   },
   {
    "duration": 7,
    "start_time": "2021-08-24T08:50:40.558Z"
   },
   {
    "duration": 13,
    "start_time": "2021-08-24T08:50:43.105Z"
   },
   {
    "duration": 284715,
    "start_time": "2021-08-24T08:50:43.121Z"
   },
   {
    "duration": 3968,
    "start_time": "2021-08-24T09:07:51.671Z"
   },
   {
    "duration": 7,
    "start_time": "2021-08-24T09:22:14.829Z"
   },
   {
    "duration": 11,
    "start_time": "2021-08-24T09:22:17.418Z"
   },
   {
    "duration": 244313,
    "start_time": "2021-08-24T09:22:18.607Z"
   },
   {
    "duration": 3967,
    "start_time": "2021-08-24T09:27:18.925Z"
   },
   {
    "duration": 6,
    "start_time": "2021-08-24T09:35:43.809Z"
   },
   {
    "duration": 13,
    "start_time": "2021-08-24T09:35:44.625Z"
   },
   {
    "duration": 276071,
    "start_time": "2021-08-24T09:35:47.401Z"
   },
   {
    "duration": 3931,
    "start_time": "2021-08-24T09:41:34.585Z"
   },
   {
    "duration": 6,
    "start_time": "2021-08-24T09:42:57.814Z"
   },
   {
    "duration": 14,
    "start_time": "2021-08-24T09:42:59.085Z"
   },
   {
    "duration": 9,
    "start_time": "2021-08-24T09:46:56.100Z"
   },
   {
    "duration": 281257,
    "start_time": "2021-08-24T09:47:03.947Z"
   },
   {
    "duration": 4064,
    "start_time": "2021-08-24T09:54:17.357Z"
   },
   {
    "duration": 9,
    "start_time": "2021-08-24T09:55:34.522Z"
   },
   {
    "duration": 311786,
    "start_time": "2021-08-24T10:01:09.729Z"
   },
   {
    "duration": 10,
    "start_time": "2021-08-24T10:15:39.562Z"
   },
   {
    "duration": 4337,
    "start_time": "2021-08-24T10:16:40.258Z"
   },
   {
    "duration": 324882,
    "start_time": "2021-08-24T10:19:55.337Z"
   },
   {
    "duration": 8,
    "start_time": "2021-08-24T10:26:57.200Z"
   },
   {
    "duration": 11,
    "start_time": "2021-08-24T10:27:32.020Z"
   },
   {
    "duration": 4077,
    "start_time": "2021-08-24T10:27:33.947Z"
   },
   {
    "duration": 6,
    "start_time": "2021-08-24T10:30:53.763Z"
   },
   {
    "duration": 9,
    "start_time": "2021-08-24T10:31:18.618Z"
   },
   {
    "duration": 15658,
    "start_time": "2021-08-24T10:35:21.282Z"
   },
   {
    "duration": 2628,
    "start_time": "2021-08-24T10:35:36.943Z"
   },
   {
    "duration": 7,
    "start_time": "2021-08-24T10:35:39.574Z"
   },
   {
    "duration": 28,
    "start_time": "2021-08-24T10:35:39.583Z"
   },
   {
    "duration": 134,
    "start_time": "2021-08-24T10:35:39.614Z"
   },
   {
    "duration": 4,
    "start_time": "2021-08-24T10:35:39.751Z"
   },
   {
    "duration": 555,
    "start_time": "2021-08-24T10:35:39.757Z"
   },
   {
    "duration": 296,
    "start_time": "2021-08-24T10:35:40.315Z"
   },
   {
    "duration": 15,
    "start_time": "2021-08-24T10:35:40.616Z"
   },
   {
    "duration": 24,
    "start_time": "2021-08-24T10:35:40.634Z"
   },
   {
    "duration": 6,
    "start_time": "2021-08-24T10:35:40.661Z"
   },
   {
    "duration": 28,
    "start_time": "2021-08-24T10:35:40.669Z"
   },
   {
    "duration": 8,
    "start_time": "2021-08-24T10:35:40.700Z"
   },
   {
    "duration": 48,
    "start_time": "2021-08-24T10:35:40.711Z"
   },
   {
    "duration": 392,
    "start_time": "2021-08-24T10:35:40.762Z"
   },
   {
    "duration": 6,
    "start_time": "2021-08-24T10:35:41.157Z"
   },
   {
    "duration": 21,
    "start_time": "2021-08-24T10:35:41.165Z"
   },
   {
    "duration": 24,
    "start_time": "2021-08-24T10:35:41.189Z"
   },
   {
    "duration": 138,
    "start_time": "2021-08-24T10:35:41.216Z"
   },
   {
    "duration": 14,
    "start_time": "2021-08-24T10:35:41.357Z"
   },
   {
    "duration": 32,
    "start_time": "2021-08-24T10:35:41.374Z"
   },
   {
    "duration": 55,
    "start_time": "2021-08-24T10:35:41.408Z"
   },
   {
    "duration": 45,
    "start_time": "2021-08-24T10:35:41.466Z"
   },
   {
    "duration": 8,
    "start_time": "2021-08-24T10:35:41.513Z"
   },
   {
    "duration": 1843,
    "start_time": "2021-08-24T10:35:41.523Z"
   },
   {
    "duration": 4503,
    "start_time": "2021-08-24T10:35:43.369Z"
   },
   {
    "duration": 6,
    "start_time": "2021-08-24T10:35:47.876Z"
   },
   {
    "duration": 30,
    "start_time": "2021-08-24T10:35:47.884Z"
   },
   {
    "duration": 8,
    "start_time": "2021-08-24T10:35:47.917Z"
   },
   {
    "duration": 27,
    "start_time": "2021-08-24T10:35:47.928Z"
   },
   {
    "duration": 747018,
    "start_time": "2021-08-24T10:35:47.958Z"
   },
   {
    "duration": 33756,
    "start_time": "2021-08-24T10:48:14.979Z"
   },
   {
    "duration": 18,
    "start_time": "2021-08-24T10:48:48.737Z"
   },
   {
    "duration": 267945,
    "start_time": "2021-08-24T10:48:48.758Z"
   },
   {
    "duration": 7,
    "start_time": "2021-08-24T10:53:16.706Z"
   },
   {
    "duration": 4049,
    "start_time": "2021-08-24T10:53:16.716Z"
   },
   {
    "duration": 36621,
    "start_time": "2021-08-26T18:47:59.615Z"
   },
   {
    "duration": 2914,
    "start_time": "2021-08-26T18:48:36.240Z"
   },
   {
    "duration": 14,
    "start_time": "2021-08-26T18:48:39.157Z"
   },
   {
    "duration": 14,
    "start_time": "2021-08-26T18:48:39.173Z"
   },
   {
    "duration": 100,
    "start_time": "2021-08-26T18:48:39.189Z"
   },
   {
    "duration": 4,
    "start_time": "2021-08-26T18:48:39.292Z"
   },
   {
    "duration": 571,
    "start_time": "2021-08-26T18:48:39.298Z"
   },
   {
    "duration": 266,
    "start_time": "2021-08-26T18:48:39.874Z"
   },
   {
    "duration": 29,
    "start_time": "2021-08-26T18:48:40.144Z"
   },
   {
    "duration": 8,
    "start_time": "2021-08-26T18:48:40.176Z"
   },
   {
    "duration": 7,
    "start_time": "2021-08-26T18:48:40.187Z"
   },
   {
    "duration": 23,
    "start_time": "2021-08-26T18:48:40.197Z"
   },
   {
    "duration": 50,
    "start_time": "2021-08-26T18:48:40.222Z"
   },
   {
    "duration": 19,
    "start_time": "2021-08-26T18:48:40.274Z"
   },
   {
    "duration": 848,
    "start_time": "2021-08-26T18:48:40.295Z"
   },
   {
    "duration": -64,
    "start_time": "2021-08-26T18:48:41.210Z"
   },
   {
    "duration": -66,
    "start_time": "2021-08-26T18:48:41.214Z"
   },
   {
    "duration": -68,
    "start_time": "2021-08-26T18:48:41.218Z"
   },
   {
    "duration": -58,
    "start_time": "2021-08-26T18:48:41.224Z"
   },
   {
    "duration": -63,
    "start_time": "2021-08-26T18:48:41.230Z"
   },
   {
    "duration": -75,
    "start_time": "2021-08-26T18:48:41.244Z"
   },
   {
    "duration": -79,
    "start_time": "2021-08-26T18:48:41.249Z"
   },
   {
    "duration": -84,
    "start_time": "2021-08-26T18:48:41.256Z"
   },
   {
    "duration": -86,
    "start_time": "2021-08-26T18:48:41.259Z"
   },
   {
    "duration": -92,
    "start_time": "2021-08-26T18:48:41.266Z"
   },
   {
    "duration": -94,
    "start_time": "2021-08-26T18:48:41.270Z"
   },
   {
    "duration": -97,
    "start_time": "2021-08-26T18:48:41.275Z"
   },
   {
    "duration": -99,
    "start_time": "2021-08-26T18:48:41.278Z"
   },
   {
    "duration": -102,
    "start_time": "2021-08-26T18:48:41.283Z"
   },
   {
    "duration": -107,
    "start_time": "2021-08-26T18:48:41.289Z"
   },
   {
    "duration": -110,
    "start_time": "2021-08-26T18:48:41.294Z"
   },
   {
    "duration": -112,
    "start_time": "2021-08-26T18:48:41.298Z"
   },
   {
    "duration": -117,
    "start_time": "2021-08-26T18:48:41.304Z"
   },
   {
    "duration": -119,
    "start_time": "2021-08-26T18:48:41.308Z"
   },
   {
    "duration": -123,
    "start_time": "2021-08-26T18:48:41.314Z"
   },
   {
    "duration": -127,
    "start_time": "2021-08-26T18:48:41.319Z"
   },
   {
    "duration": 381,
    "start_time": "2021-08-26T19:11:33.929Z"
   },
   {
    "duration": 5,
    "start_time": "2021-08-26T19:11:49.330Z"
   },
   {
    "duration": 17,
    "start_time": "2021-08-26T19:11:50.101Z"
   },
   {
    "duration": 18173,
    "start_time": "2021-08-26T19:11:58.434Z"
   },
   {
    "duration": 2314,
    "start_time": "2021-08-26T19:12:16.612Z"
   },
   {
    "duration": 6,
    "start_time": "2021-08-26T19:12:18.929Z"
   },
   {
    "duration": 12,
    "start_time": "2021-08-26T19:12:18.937Z"
   },
   {
    "duration": 104,
    "start_time": "2021-08-26T19:12:18.951Z"
   },
   {
    "duration": 4,
    "start_time": "2021-08-26T19:12:19.057Z"
   },
   {
    "duration": 539,
    "start_time": "2021-08-26T19:12:19.065Z"
   },
   {
    "duration": 282,
    "start_time": "2021-08-26T19:12:19.606Z"
   },
   {
    "duration": 16,
    "start_time": "2021-08-26T19:12:19.894Z"
   },
   {
    "duration": 8,
    "start_time": "2021-08-26T19:12:19.914Z"
   },
   {
    "duration": 8,
    "start_time": "2021-08-26T19:12:19.924Z"
   },
   {
    "duration": 24,
    "start_time": "2021-08-26T19:12:19.967Z"
   },
   {
    "duration": 10,
    "start_time": "2021-08-26T19:12:19.994Z"
   },
   {
    "duration": 20,
    "start_time": "2021-08-26T19:12:20.007Z"
   },
   {
    "duration": 368,
    "start_time": "2021-08-26T19:12:20.066Z"
   },
   {
    "duration": 6,
    "start_time": "2021-08-26T19:12:20.437Z"
   },
   {
    "duration": 30,
    "start_time": "2021-08-26T19:12:20.446Z"
   },
   {
    "duration": 26,
    "start_time": "2021-08-26T19:12:20.479Z"
   },
   {
    "duration": 133,
    "start_time": "2021-08-26T19:12:20.508Z"
   },
   {
    "duration": 31,
    "start_time": "2021-08-26T19:12:20.644Z"
   },
   {
    "duration": 25,
    "start_time": "2021-08-26T19:12:20.678Z"
   },
   {
    "duration": 61,
    "start_time": "2021-08-26T19:12:20.707Z"
   },
   {
    "duration": 42,
    "start_time": "2021-08-26T19:12:20.772Z"
   },
   {
    "duration": 7,
    "start_time": "2021-08-26T19:12:20.817Z"
   },
   {
    "duration": 1695,
    "start_time": "2021-08-26T19:12:20.826Z"
   },
   {
    "duration": 4874,
    "start_time": "2021-08-26T19:12:22.523Z"
   },
   {
    "duration": 5,
    "start_time": "2021-08-26T19:12:27.402Z"
   },
   {
    "duration": 16,
    "start_time": "2021-08-26T19:12:27.410Z"
   },
   {
    "duration": 5,
    "start_time": "2021-08-26T19:12:27.429Z"
   },
   {
    "duration": 8,
    "start_time": "2021-08-26T19:12:27.468Z"
   },
   {
    "duration": 257717,
    "start_time": "2021-08-26T19:12:27.479Z"
   },
   {
    "duration": 33377,
    "start_time": "2021-08-26T19:16:45.199Z"
   },
   {
    "duration": 7,
    "start_time": "2021-08-26T19:17:18.579Z"
   },
   {
    "duration": 244355,
    "start_time": "2021-08-26T19:17:18.588Z"
   },
   {
    "duration": 9,
    "start_time": "2021-08-26T19:21:22.946Z"
   },
   {
    "duration": 4241,
    "start_time": "2021-08-26T19:21:22.968Z"
   }
  ],
  "kernelspec": {
   "display_name": "Python 3",
   "language": "python",
   "name": "python3"
  },
  "language_info": {
   "codemirror_mode": {
    "name": "ipython",
    "version": 3
   },
   "file_extension": ".py",
   "mimetype": "text/x-python",
   "name": "python",
   "nbconvert_exporter": "python",
   "pygments_lexer": "ipython3",
   "version": "3.8.8"
  },
  "toc": {
   "base_numbering": 1,
   "nav_menu": {},
   "number_sections": true,
   "sideBar": true,
   "skip_h1_title": true,
   "title_cell": "Содержание",
   "title_sidebar": "Contents",
   "toc_cell": true,
   "toc_position": {
    "height": "542.4px",
    "left": "732px",
    "top": "110.8px",
    "width": "286.225px"
   },
   "toc_section_display": true,
   "toc_window_display": true
  }
 },
 "nbformat": 4,
 "nbformat_minor": 2
}
