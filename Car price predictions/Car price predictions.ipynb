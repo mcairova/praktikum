{
 "cells": [
  {
   "cell_type": "markdown",
   "metadata": {
    "toc": true
   },
   "source": [
    "<h1>Содержание<span class=\"tocSkip\"></span></h1>\n",
    "<div class=\"toc\"><ul class=\"toc-item\"><li><span><a href=\"#Описание-проекта\" data-toc-modified-id=\"Описание-проекта-1\"><span class=\"toc-item-num\">1&nbsp;&nbsp;</span>Описание проекта</a></span></li><li><span><a href=\"#Описание-данных\" data-toc-modified-id=\"Описание-данных-2\"><span class=\"toc-item-num\">2&nbsp;&nbsp;</span>Описание данных</a></span></li><li><span><a href=\"#Импорт-библиотек-и-настройка-окружения\" data-toc-modified-id=\"Импорт-библиотек-и-настройка-окружения-3\"><span class=\"toc-item-num\">3&nbsp;&nbsp;</span>Импорт библиотек и настройка окружения</a></span></li><li><span><a href=\"#Функции\" data-toc-modified-id=\"Функции-4\"><span class=\"toc-item-num\">4&nbsp;&nbsp;</span>Функции</a></span><ul class=\"toc-item\"><li><span><a href=\"#display_tables\" data-toc-modified-id=\"display_tables-4.1\"><span class=\"toc-item-num\">4.1&nbsp;&nbsp;</span>display_tables</a></span></li><li><span><a href=\"#show_values_on_bars\" data-toc-modified-id=\"show_values_on_bars-4.2\"><span class=\"toc-item-num\">4.2&nbsp;&nbsp;</span>show_values_on_bars</a></span></li></ul></li><li><span><a href=\"#Подготовка-данных\" data-toc-modified-id=\"Подготовка-данных-5\"><span class=\"toc-item-num\">5&nbsp;&nbsp;</span>Подготовка данных</a></span><ul class=\"toc-item\"><li><span><a href=\"#Загрузка-и-первичный-анализ\" data-toc-modified-id=\"Загрузка-и-первичный-анализ-5.1\"><span class=\"toc-item-num\">5.1&nbsp;&nbsp;</span>Загрузка и первичный анализ</a></span></li></ul></li><li><span><a href=\"#Предобработка\" data-toc-modified-id=\"Предобработка-6\"><span class=\"toc-item-num\">6&nbsp;&nbsp;</span>Предобработка</a></span><ul class=\"toc-item\"><li><span><a href=\"#Целевой-признак\" data-toc-modified-id=\"Целевой-признак-6.1\"><span class=\"toc-item-num\">6.1&nbsp;&nbsp;</span>Целевой признак</a></span></li><li><span><a href=\"#NumberOfPictures\" data-toc-modified-id=\"NumberOfPictures-6.2\"><span class=\"toc-item-num\">6.2&nbsp;&nbsp;</span>NumberOfPictures</a></span></li><li><span><a href=\"#Datetime-признаки\" data-toc-modified-id=\"Datetime-признаки-6.3\"><span class=\"toc-item-num\">6.3&nbsp;&nbsp;</span>Datetime признаки</a></span></li><li><span><a href=\"#Категориальные-признаки\" data-toc-modified-id=\"Категориальные-признаки-6.4\"><span class=\"toc-item-num\">6.4&nbsp;&nbsp;</span>Категориальные признаки</a></span><ul class=\"toc-item\"><li><span><a href=\"#Model\" data-toc-modified-id=\"Model-6.4.1\"><span class=\"toc-item-num\">6.4.1&nbsp;&nbsp;</span>Model</a></span></li><li><span><a href=\"#FuelType\" data-toc-modified-id=\"FuelType-6.4.2\"><span class=\"toc-item-num\">6.4.2&nbsp;&nbsp;</span>FuelType</a></span></li><li><span><a href=\"#VehicleType-и-Gearbox\" data-toc-modified-id=\"VehicleType-и-Gearbox-6.4.3\"><span class=\"toc-item-num\">6.4.3&nbsp;&nbsp;</span>VehicleType и Gearbox</a></span></li><li><span><a href=\"#NotRepaired\" data-toc-modified-id=\"NotRepaired-6.4.4\"><span class=\"toc-item-num\">6.4.4&nbsp;&nbsp;</span>NotRepaired</a></span></li></ul></li><li><span><a href=\"#Численные-признаки\" data-toc-modified-id=\"Численные-признаки-6.5\"><span class=\"toc-item-num\">6.5&nbsp;&nbsp;</span>Численные признаки</a></span><ul class=\"toc-item\"><li><span><a href=\"#Power\" data-toc-modified-id=\"Power-6.5.1\"><span class=\"toc-item-num\">6.5.1&nbsp;&nbsp;</span>Power</a></span></li><li><span><a href=\"#Kilometer\" data-toc-modified-id=\"Kilometer-6.5.2\"><span class=\"toc-item-num\">6.5.2&nbsp;&nbsp;</span>Kilometer</a></span></li><li><span><a href=\"#PostalCode-и-RegistrationMonth\" data-toc-modified-id=\"PostalCode-и-RegistrationMonth-6.5.3\"><span class=\"toc-item-num\">6.5.3&nbsp;&nbsp;</span>PostalCode и RegistrationMonth</a></span></li></ul></li><li><span><a href=\"#Подготовка-к-обучению\" data-toc-modified-id=\"Подготовка-к-обучению-6.6\"><span class=\"toc-item-num\">6.6&nbsp;&nbsp;</span>Подготовка к обучению</a></span></li></ul></li><li><span><a href=\"#Обучение-моделей\" data-toc-modified-id=\"Обучение-моделей-7\"><span class=\"toc-item-num\">7&nbsp;&nbsp;</span>Обучение моделей</a></span><ul class=\"toc-item\"><li><span><a href=\"#DummyRegressor,-Ridge\" data-toc-modified-id=\"DummyRegressor,-Ridge-7.1\"><span class=\"toc-item-num\">7.1&nbsp;&nbsp;</span>DummyRegressor, Ridge</a></span></li><li><span><a href=\"#LGBMRegressor-и-CatBoostRegressor\" data-toc-modified-id=\"LGBMRegressor-и-CatBoostRegressor-7.2\"><span class=\"toc-item-num\">7.2&nbsp;&nbsp;</span>LGBMRegressor и CatBoostRegressor</a></span></li></ul></li><li><span><a href=\"#Анализ-моделей\" data-toc-modified-id=\"Анализ-моделей-8\"><span class=\"toc-item-num\">8&nbsp;&nbsp;</span>Анализ моделей</a></span></li><li><span><a href=\"#Выводы\" data-toc-modified-id=\"Выводы-9\"><span class=\"toc-item-num\">9&nbsp;&nbsp;</span>Выводы</a></span></li></ul></div>"
   ]
  },
  {
   "cell_type": "markdown",
   "metadata": {},
   "source": [
    "# Определение стоимости автомобилей"
   ]
  },
  {
   "cell_type": "markdown",
   "metadata": {},
   "source": [
    "## Описание проекта"
   ]
  },
  {
   "cell_type": "markdown",
   "metadata": {},
   "source": [
    "***Что надо сделать:***  \n",
    "-  построить модель для определения стоимости автомобилей, модель будет использоваться в мобильном приложении.\n",
    "\n",
    "❗ Заказчику важны:\n",
    "- качество предсказания;\n",
    "- скорость предсказания;\n",
    "- время обучения.\n",
    "\n",
    "***Данные:***\n",
    "- исторические данные: технические характеристики, комплектации и цены автомобилей.\n",
    "\n",
    "***Дополнительные условия:*** \n",
    "- использовать несколько моделей для сравнения, в т.ч. самые простые;\n",
    "- использовать библиотеку LightGBM;\n",
    "- подобрать только два-три гиперпараметра, ограничение обусловлено скоростью обучения моделей бустинга;\n",
    "- метрика качества — RMSE."
   ]
  },
  {
   "cell_type": "markdown",
   "metadata": {},
   "source": [
    "## Описание данных\n",
    "Данные находятся в файле /datasets/autos.csv.  \n",
    "***Признаки:***\n",
    "- DateCrawled — дата скачивания анкеты из базы\n",
    "- VehicleType — тип автомобильного кузова\n",
    "- RegistrationYear — год регистрации автомобиля\n",
    "- Gearbox — тип коробки передач\n",
    "- Power — мощность (л. с.)\n",
    "- Model — модель автомобиля\n",
    "- Kilometer — пробег (км)\n",
    "- RegistrationMonth — месяц регистрации автомобиля\n",
    "- FuelType — тип топлива\n",
    "- Brand — марка автомобиля\n",
    "- NotRepaired — была машина в ремонте или нет\n",
    "- DateCreated — дата создания анкеты\n",
    "- NumberOfPictures — количество фотографий автомобиля\n",
    "- PostalCode — почтовый индекс владельца анкеты (пользователя)\n",
    "- LastSeen — дата последней активности пользователя  \n",
    "\n",
    "***Целевой признак:***\n",
    "- Price — цена (евро)"
   ]
  },
  {
   "cell_type": "markdown",
   "metadata": {},
   "source": [
    "## Импорт библиотек и настройка окружения"
   ]
  },
  {
   "cell_type": "code",
   "execution_count": 1,
   "metadata": {},
   "outputs": [],
   "source": [
    "!pip install -U seaborn --quiet\n",
    "!pip install -U sklearn --quiet\n",
    "!pip install -U pandas --quiet"
   ]
  },
  {
   "cell_type": "code",
   "execution_count": 2,
   "metadata": {},
   "outputs": [],
   "source": [
    "# базовые библиотеки для работы с данными\n",
    "import pandas as pd\n",
    "import numpy as np\n",
    "import time\n",
    "\n",
    "# библиотеки, методы и метрики машинного обучения\n",
    "from sklearn.dummy import DummyRegressor\n",
    "from sklearn.linear_model import Ridge\n",
    "from lightgbm import LGBMRegressor\n",
    "from catboost import CatBoostRegressor\n",
    "from sklearn.model_selection import train_test_split, GridSearchCV\n",
    "\n",
    "from sklearn.preprocessing import StandardScaler, OneHotEncoder\n",
    "from sklearn.metrics import mean_squared_error, SCORERS\n",
    "\n",
    "# методы и настройки для отображения данных\n",
    "import ipywidgets as widgets\n",
    "from IPython.display import display, HTML, display_html\n",
    "pd.set_option('display.max_columns', None)\n",
    "pd.set_option('display.max_rows', 20)\n",
    "pd.set_option(\"max_colwidth\", None)\n",
    "\n",
    "# библиотеки для построения графиков\n",
    "import matplotlib.pyplot as plt\n",
    "import seaborn as sns\n",
    "sns.set_palette(\"pastel\")\n",
    "sns.set_style(\"whitegrid\")\n",
    "sns.set_context(\"notebook\")\n",
    "\n",
    "# отключение предупреждений\n",
    "import warnings\n",
    "warnings.filterwarnings('ignore')\n",
    "pd.options.mode.chained_assignment = None"
   ]
  },
  {
   "cell_type": "markdown",
   "metadata": {},
   "source": [
    "## Функции"
   ]
  },
  {
   "cell_type": "markdown",
   "metadata": {},
   "source": [
    "### display_tables"
   ]
  },
  {
   "cell_type": "code",
   "execution_count": 3,
   "metadata": {},
   "outputs": [],
   "source": [
    "def display_tables(dfs: list, captions: list, title=None):\n",
    "    \"\"\"Функция для компактного отображения таблиц.\n",
    "    Аргументы:\n",
    "    dfs — список таблиц;\n",
    "    captions — список заголовков таблиц;\n",
    "    title — общий заголовок, необязательный параметр.\n",
    "    \"\"\"\n",
    "    output = \"\"\n",
    "    if len(dfs) != len(captions):\n",
    "        raise ValueError('Число таблиц и заголовков должно совпадать!')\n",
    "    combined = dict(zip(captions, dfs))\n",
    "    if title is not None:\n",
    "        print(\"\\033[1m\", title, \"\\033[0m\")\n",
    "    for caption, df in combined.items():\n",
    "        output += df.style.set_table_attributes(\"style='display:inline'\").set_caption(caption)._repr_html_()\n",
    "        output += \"\\xa0\\xa0\\xa0\"\n",
    "    display(HTML(output))"
   ]
  },
  {
   "cell_type": "markdown",
   "metadata": {},
   "source": [
    "### show_values_on_bars"
   ]
  },
  {
   "cell_type": "code",
   "execution_count": 4,
   "metadata": {},
   "outputs": [],
   "source": [
    "def show_values_on_bars(axs, h_v=\"v\", space=0.4):\n",
    "    \"\"\"Функция, которая показывает значения на столбчатых графиках.\n",
    "    Аргументы:\n",
    "    axs — на каком графике подписать;\n",
    "    h_v — ориентация графика, необязательный параметр;\n",
    "    space — отступ, необязательный параметр.\n",
    "    \"\"\"\n",
    "\n",
    "    def _show_on_single_plot(ax):\n",
    "        if h_v == \"v\":\n",
    "            for p in ax.patches:\n",
    "                _x = p.get_x() + p.get_width() / 2\n",
    "                _y = p.get_y() + p.get_height()\n",
    "                value = int(p.get_height())\n",
    "                ax.text(_x, _y, value, ha=\"center\")\n",
    "        elif h_v == \"h\":\n",
    "            for p in ax.patches:\n",
    "                _x = p.get_x() + p.get_width() + float(space)\n",
    "                _y = p.get_y() + p.get_height() / 2\n",
    "                value = int(p.get_width())\n",
    "                ax.text(_x, _y, value, ha=\"right\")\n",
    "\n",
    "    if isinstance(axs, np.ndarray):\n",
    "        for idx, ax in np.ndenumerate(axs):\n",
    "            _show_on_single_plot(ax)\n",
    "    else:\n",
    "        _show_on_single_plot(axs)\n"
   ]
  },
  {
   "cell_type": "markdown",
   "metadata": {},
   "source": [
    "## Подготовка данных"
   ]
  },
  {
   "cell_type": "markdown",
   "metadata": {},
   "source": [
    "### Загрузка и первичный анализ"
   ]
  },
  {
   "cell_type": "code",
   "execution_count": 5,
   "metadata": {},
   "outputs": [],
   "source": [
    "try:\n",
    "    df = pd.read_csv('/datasets/autos.csv')\n",
    "except:    \n",
    "    df = pd.read_csv(r'D:\\autos.csv')"
   ]
  },
  {
   "cell_type": "code",
   "execution_count": 6,
   "metadata": {
    "scrolled": false
   },
   "outputs": [
    {
     "name": "stdout",
     "output_type": "stream",
     "text": [
      "\u001b[1mТаблица autos \u001b[0m\n",
      "Общая информация, info() \n",
      "\n",
      "<class 'pandas.core.frame.DataFrame'>\n",
      "RangeIndex: 354369 entries, 0 to 354368\n",
      "Data columns (total 16 columns):\n",
      " #   Column             Non-Null Count   Dtype \n",
      "---  ------             --------------   ----- \n",
      " 0   DateCrawled        354369 non-null  object\n",
      " 1   Price              354369 non-null  int64 \n",
      " 2   VehicleType        316879 non-null  object\n",
      " 3   RegistrationYear   354369 non-null  int64 \n",
      " 4   Gearbox            334536 non-null  object\n",
      " 5   Power              354369 non-null  int64 \n",
      " 6   Model              334664 non-null  object\n",
      " 7   Kilometer          354369 non-null  int64 \n",
      " 8   RegistrationMonth  354369 non-null  int64 \n",
      " 9   FuelType           321474 non-null  object\n",
      " 10  Brand              354369 non-null  object\n",
      " 11  NotRepaired        283215 non-null  object\n",
      " 12  DateCreated        354369 non-null  object\n",
      " 13  NumberOfPictures   354369 non-null  int64 \n",
      " 14  PostalCode         354369 non-null  int64 \n",
      " 15  LastSeen           354369 non-null  object\n",
      "dtypes: int64(7), object(9)\n",
      "memory usage: 43.3+ MB\n"
     ]
    },
    {
     "data": {
      "text/plain": [
       "None"
      ]
     },
     "metadata": {},
     "output_type": "display_data"
    },
    {
     "name": "stdout",
     "output_type": "stream",
     "text": [
      "Строк: 354369 \n",
      "Дубликатов: 4\n"
     ]
    },
    {
     "data": {
      "text/html": [
       "<style  type=\"text/css\" >\n",
       "</style><table id=\"T_b13fd_\" style='display:inline'><caption>Первые 10 строк</caption><thead>    <tr>        <th class=\"blank level0\" ></th>        <th class=\"col_heading level0 col0\" >DateCrawled</th>        <th class=\"col_heading level0 col1\" >Price</th>        <th class=\"col_heading level0 col2\" >VehicleType</th>        <th class=\"col_heading level0 col3\" >RegistrationYear</th>        <th class=\"col_heading level0 col4\" >Gearbox</th>        <th class=\"col_heading level0 col5\" >Power</th>        <th class=\"col_heading level0 col6\" >Model</th>        <th class=\"col_heading level0 col7\" >Kilometer</th>        <th class=\"col_heading level0 col8\" >RegistrationMonth</th>        <th class=\"col_heading level0 col9\" >FuelType</th>        <th class=\"col_heading level0 col10\" >Brand</th>        <th class=\"col_heading level0 col11\" >NotRepaired</th>        <th class=\"col_heading level0 col12\" >DateCreated</th>        <th class=\"col_heading level0 col13\" >NumberOfPictures</th>        <th class=\"col_heading level0 col14\" >PostalCode</th>        <th class=\"col_heading level0 col15\" >LastSeen</th>    </tr></thead><tbody>\n",
       "                <tr>\n",
       "                        <th id=\"T_b13fd_level0_row0\" class=\"row_heading level0 row0\" >0</th>\n",
       "                        <td id=\"T_b13fd_row0_col0\" class=\"data row0 col0\" >2016-03-24 11:52:17</td>\n",
       "                        <td id=\"T_b13fd_row0_col1\" class=\"data row0 col1\" >480</td>\n",
       "                        <td id=\"T_b13fd_row0_col2\" class=\"data row0 col2\" >nan</td>\n",
       "                        <td id=\"T_b13fd_row0_col3\" class=\"data row0 col3\" >1993</td>\n",
       "                        <td id=\"T_b13fd_row0_col4\" class=\"data row0 col4\" >manual</td>\n",
       "                        <td id=\"T_b13fd_row0_col5\" class=\"data row0 col5\" >0</td>\n",
       "                        <td id=\"T_b13fd_row0_col6\" class=\"data row0 col6\" >golf</td>\n",
       "                        <td id=\"T_b13fd_row0_col7\" class=\"data row0 col7\" >150000</td>\n",
       "                        <td id=\"T_b13fd_row0_col8\" class=\"data row0 col8\" >0</td>\n",
       "                        <td id=\"T_b13fd_row0_col9\" class=\"data row0 col9\" >petrol</td>\n",
       "                        <td id=\"T_b13fd_row0_col10\" class=\"data row0 col10\" >volkswagen</td>\n",
       "                        <td id=\"T_b13fd_row0_col11\" class=\"data row0 col11\" >nan</td>\n",
       "                        <td id=\"T_b13fd_row0_col12\" class=\"data row0 col12\" >2016-03-24 00:00:00</td>\n",
       "                        <td id=\"T_b13fd_row0_col13\" class=\"data row0 col13\" >0</td>\n",
       "                        <td id=\"T_b13fd_row0_col14\" class=\"data row0 col14\" >70435</td>\n",
       "                        <td id=\"T_b13fd_row0_col15\" class=\"data row0 col15\" >2016-04-07 03:16:57</td>\n",
       "            </tr>\n",
       "            <tr>\n",
       "                        <th id=\"T_b13fd_level0_row1\" class=\"row_heading level0 row1\" >1</th>\n",
       "                        <td id=\"T_b13fd_row1_col0\" class=\"data row1 col0\" >2016-03-24 10:58:45</td>\n",
       "                        <td id=\"T_b13fd_row1_col1\" class=\"data row1 col1\" >18300</td>\n",
       "                        <td id=\"T_b13fd_row1_col2\" class=\"data row1 col2\" >coupe</td>\n",
       "                        <td id=\"T_b13fd_row1_col3\" class=\"data row1 col3\" >2011</td>\n",
       "                        <td id=\"T_b13fd_row1_col4\" class=\"data row1 col4\" >manual</td>\n",
       "                        <td id=\"T_b13fd_row1_col5\" class=\"data row1 col5\" >190</td>\n",
       "                        <td id=\"T_b13fd_row1_col6\" class=\"data row1 col6\" >nan</td>\n",
       "                        <td id=\"T_b13fd_row1_col7\" class=\"data row1 col7\" >125000</td>\n",
       "                        <td id=\"T_b13fd_row1_col8\" class=\"data row1 col8\" >5</td>\n",
       "                        <td id=\"T_b13fd_row1_col9\" class=\"data row1 col9\" >gasoline</td>\n",
       "                        <td id=\"T_b13fd_row1_col10\" class=\"data row1 col10\" >audi</td>\n",
       "                        <td id=\"T_b13fd_row1_col11\" class=\"data row1 col11\" >yes</td>\n",
       "                        <td id=\"T_b13fd_row1_col12\" class=\"data row1 col12\" >2016-03-24 00:00:00</td>\n",
       "                        <td id=\"T_b13fd_row1_col13\" class=\"data row1 col13\" >0</td>\n",
       "                        <td id=\"T_b13fd_row1_col14\" class=\"data row1 col14\" >66954</td>\n",
       "                        <td id=\"T_b13fd_row1_col15\" class=\"data row1 col15\" >2016-04-07 01:46:50</td>\n",
       "            </tr>\n",
       "            <tr>\n",
       "                        <th id=\"T_b13fd_level0_row2\" class=\"row_heading level0 row2\" >2</th>\n",
       "                        <td id=\"T_b13fd_row2_col0\" class=\"data row2 col0\" >2016-03-14 12:52:21</td>\n",
       "                        <td id=\"T_b13fd_row2_col1\" class=\"data row2 col1\" >9800</td>\n",
       "                        <td id=\"T_b13fd_row2_col2\" class=\"data row2 col2\" >suv</td>\n",
       "                        <td id=\"T_b13fd_row2_col3\" class=\"data row2 col3\" >2004</td>\n",
       "                        <td id=\"T_b13fd_row2_col4\" class=\"data row2 col4\" >auto</td>\n",
       "                        <td id=\"T_b13fd_row2_col5\" class=\"data row2 col5\" >163</td>\n",
       "                        <td id=\"T_b13fd_row2_col6\" class=\"data row2 col6\" >grand</td>\n",
       "                        <td id=\"T_b13fd_row2_col7\" class=\"data row2 col7\" >125000</td>\n",
       "                        <td id=\"T_b13fd_row2_col8\" class=\"data row2 col8\" >8</td>\n",
       "                        <td id=\"T_b13fd_row2_col9\" class=\"data row2 col9\" >gasoline</td>\n",
       "                        <td id=\"T_b13fd_row2_col10\" class=\"data row2 col10\" >jeep</td>\n",
       "                        <td id=\"T_b13fd_row2_col11\" class=\"data row2 col11\" >nan</td>\n",
       "                        <td id=\"T_b13fd_row2_col12\" class=\"data row2 col12\" >2016-03-14 00:00:00</td>\n",
       "                        <td id=\"T_b13fd_row2_col13\" class=\"data row2 col13\" >0</td>\n",
       "                        <td id=\"T_b13fd_row2_col14\" class=\"data row2 col14\" >90480</td>\n",
       "                        <td id=\"T_b13fd_row2_col15\" class=\"data row2 col15\" >2016-04-05 12:47:46</td>\n",
       "            </tr>\n",
       "            <tr>\n",
       "                        <th id=\"T_b13fd_level0_row3\" class=\"row_heading level0 row3\" >3</th>\n",
       "                        <td id=\"T_b13fd_row3_col0\" class=\"data row3 col0\" >2016-03-17 16:54:04</td>\n",
       "                        <td id=\"T_b13fd_row3_col1\" class=\"data row3 col1\" >1500</td>\n",
       "                        <td id=\"T_b13fd_row3_col2\" class=\"data row3 col2\" >small</td>\n",
       "                        <td id=\"T_b13fd_row3_col3\" class=\"data row3 col3\" >2001</td>\n",
       "                        <td id=\"T_b13fd_row3_col4\" class=\"data row3 col4\" >manual</td>\n",
       "                        <td id=\"T_b13fd_row3_col5\" class=\"data row3 col5\" >75</td>\n",
       "                        <td id=\"T_b13fd_row3_col6\" class=\"data row3 col6\" >golf</td>\n",
       "                        <td id=\"T_b13fd_row3_col7\" class=\"data row3 col7\" >150000</td>\n",
       "                        <td id=\"T_b13fd_row3_col8\" class=\"data row3 col8\" >6</td>\n",
       "                        <td id=\"T_b13fd_row3_col9\" class=\"data row3 col9\" >petrol</td>\n",
       "                        <td id=\"T_b13fd_row3_col10\" class=\"data row3 col10\" >volkswagen</td>\n",
       "                        <td id=\"T_b13fd_row3_col11\" class=\"data row3 col11\" >no</td>\n",
       "                        <td id=\"T_b13fd_row3_col12\" class=\"data row3 col12\" >2016-03-17 00:00:00</td>\n",
       "                        <td id=\"T_b13fd_row3_col13\" class=\"data row3 col13\" >0</td>\n",
       "                        <td id=\"T_b13fd_row3_col14\" class=\"data row3 col14\" >91074</td>\n",
       "                        <td id=\"T_b13fd_row3_col15\" class=\"data row3 col15\" >2016-03-17 17:40:17</td>\n",
       "            </tr>\n",
       "            <tr>\n",
       "                        <th id=\"T_b13fd_level0_row4\" class=\"row_heading level0 row4\" >4</th>\n",
       "                        <td id=\"T_b13fd_row4_col0\" class=\"data row4 col0\" >2016-03-31 17:25:20</td>\n",
       "                        <td id=\"T_b13fd_row4_col1\" class=\"data row4 col1\" >3600</td>\n",
       "                        <td id=\"T_b13fd_row4_col2\" class=\"data row4 col2\" >small</td>\n",
       "                        <td id=\"T_b13fd_row4_col3\" class=\"data row4 col3\" >2008</td>\n",
       "                        <td id=\"T_b13fd_row4_col4\" class=\"data row4 col4\" >manual</td>\n",
       "                        <td id=\"T_b13fd_row4_col5\" class=\"data row4 col5\" >69</td>\n",
       "                        <td id=\"T_b13fd_row4_col6\" class=\"data row4 col6\" >fabia</td>\n",
       "                        <td id=\"T_b13fd_row4_col7\" class=\"data row4 col7\" >90000</td>\n",
       "                        <td id=\"T_b13fd_row4_col8\" class=\"data row4 col8\" >7</td>\n",
       "                        <td id=\"T_b13fd_row4_col9\" class=\"data row4 col9\" >gasoline</td>\n",
       "                        <td id=\"T_b13fd_row4_col10\" class=\"data row4 col10\" >skoda</td>\n",
       "                        <td id=\"T_b13fd_row4_col11\" class=\"data row4 col11\" >no</td>\n",
       "                        <td id=\"T_b13fd_row4_col12\" class=\"data row4 col12\" >2016-03-31 00:00:00</td>\n",
       "                        <td id=\"T_b13fd_row4_col13\" class=\"data row4 col13\" >0</td>\n",
       "                        <td id=\"T_b13fd_row4_col14\" class=\"data row4 col14\" >60437</td>\n",
       "                        <td id=\"T_b13fd_row4_col15\" class=\"data row4 col15\" >2016-04-06 10:17:21</td>\n",
       "            </tr>\n",
       "            <tr>\n",
       "                        <th id=\"T_b13fd_level0_row5\" class=\"row_heading level0 row5\" >5</th>\n",
       "                        <td id=\"T_b13fd_row5_col0\" class=\"data row5 col0\" >2016-04-04 17:36:23</td>\n",
       "                        <td id=\"T_b13fd_row5_col1\" class=\"data row5 col1\" >650</td>\n",
       "                        <td id=\"T_b13fd_row5_col2\" class=\"data row5 col2\" >sedan</td>\n",
       "                        <td id=\"T_b13fd_row5_col3\" class=\"data row5 col3\" >1995</td>\n",
       "                        <td id=\"T_b13fd_row5_col4\" class=\"data row5 col4\" >manual</td>\n",
       "                        <td id=\"T_b13fd_row5_col5\" class=\"data row5 col5\" >102</td>\n",
       "                        <td id=\"T_b13fd_row5_col6\" class=\"data row5 col6\" >3er</td>\n",
       "                        <td id=\"T_b13fd_row5_col7\" class=\"data row5 col7\" >150000</td>\n",
       "                        <td id=\"T_b13fd_row5_col8\" class=\"data row5 col8\" >10</td>\n",
       "                        <td id=\"T_b13fd_row5_col9\" class=\"data row5 col9\" >petrol</td>\n",
       "                        <td id=\"T_b13fd_row5_col10\" class=\"data row5 col10\" >bmw</td>\n",
       "                        <td id=\"T_b13fd_row5_col11\" class=\"data row5 col11\" >yes</td>\n",
       "                        <td id=\"T_b13fd_row5_col12\" class=\"data row5 col12\" >2016-04-04 00:00:00</td>\n",
       "                        <td id=\"T_b13fd_row5_col13\" class=\"data row5 col13\" >0</td>\n",
       "                        <td id=\"T_b13fd_row5_col14\" class=\"data row5 col14\" >33775</td>\n",
       "                        <td id=\"T_b13fd_row5_col15\" class=\"data row5 col15\" >2016-04-06 19:17:07</td>\n",
       "            </tr>\n",
       "            <tr>\n",
       "                        <th id=\"T_b13fd_level0_row6\" class=\"row_heading level0 row6\" >6</th>\n",
       "                        <td id=\"T_b13fd_row6_col0\" class=\"data row6 col0\" >2016-04-01 20:48:51</td>\n",
       "                        <td id=\"T_b13fd_row6_col1\" class=\"data row6 col1\" >2200</td>\n",
       "                        <td id=\"T_b13fd_row6_col2\" class=\"data row6 col2\" >convertible</td>\n",
       "                        <td id=\"T_b13fd_row6_col3\" class=\"data row6 col3\" >2004</td>\n",
       "                        <td id=\"T_b13fd_row6_col4\" class=\"data row6 col4\" >manual</td>\n",
       "                        <td id=\"T_b13fd_row6_col5\" class=\"data row6 col5\" >109</td>\n",
       "                        <td id=\"T_b13fd_row6_col6\" class=\"data row6 col6\" >2_reihe</td>\n",
       "                        <td id=\"T_b13fd_row6_col7\" class=\"data row6 col7\" >150000</td>\n",
       "                        <td id=\"T_b13fd_row6_col8\" class=\"data row6 col8\" >8</td>\n",
       "                        <td id=\"T_b13fd_row6_col9\" class=\"data row6 col9\" >petrol</td>\n",
       "                        <td id=\"T_b13fd_row6_col10\" class=\"data row6 col10\" >peugeot</td>\n",
       "                        <td id=\"T_b13fd_row6_col11\" class=\"data row6 col11\" >no</td>\n",
       "                        <td id=\"T_b13fd_row6_col12\" class=\"data row6 col12\" >2016-04-01 00:00:00</td>\n",
       "                        <td id=\"T_b13fd_row6_col13\" class=\"data row6 col13\" >0</td>\n",
       "                        <td id=\"T_b13fd_row6_col14\" class=\"data row6 col14\" >67112</td>\n",
       "                        <td id=\"T_b13fd_row6_col15\" class=\"data row6 col15\" >2016-04-05 18:18:39</td>\n",
       "            </tr>\n",
       "            <tr>\n",
       "                        <th id=\"T_b13fd_level0_row7\" class=\"row_heading level0 row7\" >7</th>\n",
       "                        <td id=\"T_b13fd_row7_col0\" class=\"data row7 col0\" >2016-03-21 18:54:38</td>\n",
       "                        <td id=\"T_b13fd_row7_col1\" class=\"data row7 col1\" >0</td>\n",
       "                        <td id=\"T_b13fd_row7_col2\" class=\"data row7 col2\" >sedan</td>\n",
       "                        <td id=\"T_b13fd_row7_col3\" class=\"data row7 col3\" >1980</td>\n",
       "                        <td id=\"T_b13fd_row7_col4\" class=\"data row7 col4\" >manual</td>\n",
       "                        <td id=\"T_b13fd_row7_col5\" class=\"data row7 col5\" >50</td>\n",
       "                        <td id=\"T_b13fd_row7_col6\" class=\"data row7 col6\" >other</td>\n",
       "                        <td id=\"T_b13fd_row7_col7\" class=\"data row7 col7\" >40000</td>\n",
       "                        <td id=\"T_b13fd_row7_col8\" class=\"data row7 col8\" >7</td>\n",
       "                        <td id=\"T_b13fd_row7_col9\" class=\"data row7 col9\" >petrol</td>\n",
       "                        <td id=\"T_b13fd_row7_col10\" class=\"data row7 col10\" >volkswagen</td>\n",
       "                        <td id=\"T_b13fd_row7_col11\" class=\"data row7 col11\" >no</td>\n",
       "                        <td id=\"T_b13fd_row7_col12\" class=\"data row7 col12\" >2016-03-21 00:00:00</td>\n",
       "                        <td id=\"T_b13fd_row7_col13\" class=\"data row7 col13\" >0</td>\n",
       "                        <td id=\"T_b13fd_row7_col14\" class=\"data row7 col14\" >19348</td>\n",
       "                        <td id=\"T_b13fd_row7_col15\" class=\"data row7 col15\" >2016-03-25 16:47:58</td>\n",
       "            </tr>\n",
       "            <tr>\n",
       "                        <th id=\"T_b13fd_level0_row8\" class=\"row_heading level0 row8\" >8</th>\n",
       "                        <td id=\"T_b13fd_row8_col0\" class=\"data row8 col0\" >2016-04-04 23:42:13</td>\n",
       "                        <td id=\"T_b13fd_row8_col1\" class=\"data row8 col1\" >14500</td>\n",
       "                        <td id=\"T_b13fd_row8_col2\" class=\"data row8 col2\" >bus</td>\n",
       "                        <td id=\"T_b13fd_row8_col3\" class=\"data row8 col3\" >2014</td>\n",
       "                        <td id=\"T_b13fd_row8_col4\" class=\"data row8 col4\" >manual</td>\n",
       "                        <td id=\"T_b13fd_row8_col5\" class=\"data row8 col5\" >125</td>\n",
       "                        <td id=\"T_b13fd_row8_col6\" class=\"data row8 col6\" >c_max</td>\n",
       "                        <td id=\"T_b13fd_row8_col7\" class=\"data row8 col7\" >30000</td>\n",
       "                        <td id=\"T_b13fd_row8_col8\" class=\"data row8 col8\" >8</td>\n",
       "                        <td id=\"T_b13fd_row8_col9\" class=\"data row8 col9\" >petrol</td>\n",
       "                        <td id=\"T_b13fd_row8_col10\" class=\"data row8 col10\" >ford</td>\n",
       "                        <td id=\"T_b13fd_row8_col11\" class=\"data row8 col11\" >nan</td>\n",
       "                        <td id=\"T_b13fd_row8_col12\" class=\"data row8 col12\" >2016-04-04 00:00:00</td>\n",
       "                        <td id=\"T_b13fd_row8_col13\" class=\"data row8 col13\" >0</td>\n",
       "                        <td id=\"T_b13fd_row8_col14\" class=\"data row8 col14\" >94505</td>\n",
       "                        <td id=\"T_b13fd_row8_col15\" class=\"data row8 col15\" >2016-04-04 23:42:13</td>\n",
       "            </tr>\n",
       "            <tr>\n",
       "                        <th id=\"T_b13fd_level0_row9\" class=\"row_heading level0 row9\" >9</th>\n",
       "                        <td id=\"T_b13fd_row9_col0\" class=\"data row9 col0\" >2016-03-17 10:53:50</td>\n",
       "                        <td id=\"T_b13fd_row9_col1\" class=\"data row9 col1\" >999</td>\n",
       "                        <td id=\"T_b13fd_row9_col2\" class=\"data row9 col2\" >small</td>\n",
       "                        <td id=\"T_b13fd_row9_col3\" class=\"data row9 col3\" >1998</td>\n",
       "                        <td id=\"T_b13fd_row9_col4\" class=\"data row9 col4\" >manual</td>\n",
       "                        <td id=\"T_b13fd_row9_col5\" class=\"data row9 col5\" >101</td>\n",
       "                        <td id=\"T_b13fd_row9_col6\" class=\"data row9 col6\" >golf</td>\n",
       "                        <td id=\"T_b13fd_row9_col7\" class=\"data row9 col7\" >150000</td>\n",
       "                        <td id=\"T_b13fd_row9_col8\" class=\"data row9 col8\" >0</td>\n",
       "                        <td id=\"T_b13fd_row9_col9\" class=\"data row9 col9\" >nan</td>\n",
       "                        <td id=\"T_b13fd_row9_col10\" class=\"data row9 col10\" >volkswagen</td>\n",
       "                        <td id=\"T_b13fd_row9_col11\" class=\"data row9 col11\" >nan</td>\n",
       "                        <td id=\"T_b13fd_row9_col12\" class=\"data row9 col12\" >2016-03-17 00:00:00</td>\n",
       "                        <td id=\"T_b13fd_row9_col13\" class=\"data row9 col13\" >0</td>\n",
       "                        <td id=\"T_b13fd_row9_col14\" class=\"data row9 col14\" >27472</td>\n",
       "                        <td id=\"T_b13fd_row9_col15\" class=\"data row9 col15\" >2016-03-31 17:17:06</td>\n",
       "            </tr>\n",
       "    </tbody></table>   <style  type=\"text/css\" >\n",
       "</style><table id=\"T_ba697_\" style='display:inline'><caption>Произвольные 10 строк</caption><thead>    <tr>        <th class=\"blank level0\" ></th>        <th class=\"col_heading level0 col0\" >DateCrawled</th>        <th class=\"col_heading level0 col1\" >Price</th>        <th class=\"col_heading level0 col2\" >VehicleType</th>        <th class=\"col_heading level0 col3\" >RegistrationYear</th>        <th class=\"col_heading level0 col4\" >Gearbox</th>        <th class=\"col_heading level0 col5\" >Power</th>        <th class=\"col_heading level0 col6\" >Model</th>        <th class=\"col_heading level0 col7\" >Kilometer</th>        <th class=\"col_heading level0 col8\" >RegistrationMonth</th>        <th class=\"col_heading level0 col9\" >FuelType</th>        <th class=\"col_heading level0 col10\" >Brand</th>        <th class=\"col_heading level0 col11\" >NotRepaired</th>        <th class=\"col_heading level0 col12\" >DateCreated</th>        <th class=\"col_heading level0 col13\" >NumberOfPictures</th>        <th class=\"col_heading level0 col14\" >PostalCode</th>        <th class=\"col_heading level0 col15\" >LastSeen</th>    </tr></thead><tbody>\n",
       "                <tr>\n",
       "                        <th id=\"T_ba697_level0_row0\" class=\"row_heading level0 row0\" >294049</th>\n",
       "                        <td id=\"T_ba697_row0_col0\" class=\"data row0 col0\" >2016-03-20 20:54:33</td>\n",
       "                        <td id=\"T_ba697_row0_col1\" class=\"data row0 col1\" >19999</td>\n",
       "                        <td id=\"T_ba697_row0_col2\" class=\"data row0 col2\" >wagon</td>\n",
       "                        <td id=\"T_ba697_row0_col3\" class=\"data row0 col3\" >2014</td>\n",
       "                        <td id=\"T_ba697_row0_col4\" class=\"data row0 col4\" >manual</td>\n",
       "                        <td id=\"T_ba697_row0_col5\" class=\"data row0 col5\" >122</td>\n",
       "                        <td id=\"T_ba697_row0_col6\" class=\"data row0 col6\" >leon</td>\n",
       "                        <td id=\"T_ba697_row0_col7\" class=\"data row0 col7\" >30000</td>\n",
       "                        <td id=\"T_ba697_row0_col8\" class=\"data row0 col8\" >3</td>\n",
       "                        <td id=\"T_ba697_row0_col9\" class=\"data row0 col9\" >petrol</td>\n",
       "                        <td id=\"T_ba697_row0_col10\" class=\"data row0 col10\" >seat</td>\n",
       "                        <td id=\"T_ba697_row0_col11\" class=\"data row0 col11\" >no</td>\n",
       "                        <td id=\"T_ba697_row0_col12\" class=\"data row0 col12\" >2016-03-20 00:00:00</td>\n",
       "                        <td id=\"T_ba697_row0_col13\" class=\"data row0 col13\" >0</td>\n",
       "                        <td id=\"T_ba697_row0_col14\" class=\"data row0 col14\" >22089</td>\n",
       "                        <td id=\"T_ba697_row0_col15\" class=\"data row0 col15\" >2016-03-27 10:47:13</td>\n",
       "            </tr>\n",
       "            <tr>\n",
       "                        <th id=\"T_ba697_level0_row1\" class=\"row_heading level0 row1\" >76415</th>\n",
       "                        <td id=\"T_ba697_row1_col0\" class=\"data row1 col0\" >2016-03-25 12:56:02</td>\n",
       "                        <td id=\"T_ba697_row1_col1\" class=\"data row1 col1\" >14250</td>\n",
       "                        <td id=\"T_ba697_row1_col2\" class=\"data row1 col2\" >wagon</td>\n",
       "                        <td id=\"T_ba697_row1_col3\" class=\"data row1 col3\" >2011</td>\n",
       "                        <td id=\"T_ba697_row1_col4\" class=\"data row1 col4\" >manual</td>\n",
       "                        <td id=\"T_ba697_row1_col5\" class=\"data row1 col5\" >140</td>\n",
       "                        <td id=\"T_ba697_row1_col6\" class=\"data row1 col6\" >a3</td>\n",
       "                        <td id=\"T_ba697_row1_col7\" class=\"data row1 col7\" >70000</td>\n",
       "                        <td id=\"T_ba697_row1_col8\" class=\"data row1 col8\" >6</td>\n",
       "                        <td id=\"T_ba697_row1_col9\" class=\"data row1 col9\" >gasoline</td>\n",
       "                        <td id=\"T_ba697_row1_col10\" class=\"data row1 col10\" >audi</td>\n",
       "                        <td id=\"T_ba697_row1_col11\" class=\"data row1 col11\" >nan</td>\n",
       "                        <td id=\"T_ba697_row1_col12\" class=\"data row1 col12\" >2016-03-25 00:00:00</td>\n",
       "                        <td id=\"T_ba697_row1_col13\" class=\"data row1 col13\" >0</td>\n",
       "                        <td id=\"T_ba697_row1_col14\" class=\"data row1 col14\" >45770</td>\n",
       "                        <td id=\"T_ba697_row1_col15\" class=\"data row1 col15\" >2016-03-29 11:48:26</td>\n",
       "            </tr>\n",
       "            <tr>\n",
       "                        <th id=\"T_ba697_level0_row2\" class=\"row_heading level0 row2\" >212563</th>\n",
       "                        <td id=\"T_ba697_row2_col0\" class=\"data row2 col0\" >2016-03-09 13:46:02</td>\n",
       "                        <td id=\"T_ba697_row2_col1\" class=\"data row2 col1\" >2850</td>\n",
       "                        <td id=\"T_ba697_row2_col2\" class=\"data row2 col2\" >wagon</td>\n",
       "                        <td id=\"T_ba697_row2_col3\" class=\"data row2 col3\" >2001</td>\n",
       "                        <td id=\"T_ba697_row2_col4\" class=\"data row2 col4\" >manual</td>\n",
       "                        <td id=\"T_ba697_row2_col5\" class=\"data row2 col5\" >131</td>\n",
       "                        <td id=\"T_ba697_row2_col6\" class=\"data row2 col6\" >passat</td>\n",
       "                        <td id=\"T_ba697_row2_col7\" class=\"data row2 col7\" >150000</td>\n",
       "                        <td id=\"T_ba697_row2_col8\" class=\"data row2 col8\" >9</td>\n",
       "                        <td id=\"T_ba697_row2_col9\" class=\"data row2 col9\" >gasoline</td>\n",
       "                        <td id=\"T_ba697_row2_col10\" class=\"data row2 col10\" >volkswagen</td>\n",
       "                        <td id=\"T_ba697_row2_col11\" class=\"data row2 col11\" >no</td>\n",
       "                        <td id=\"T_ba697_row2_col12\" class=\"data row2 col12\" >2016-03-09 00:00:00</td>\n",
       "                        <td id=\"T_ba697_row2_col13\" class=\"data row2 col13\" >0</td>\n",
       "                        <td id=\"T_ba697_row2_col14\" class=\"data row2 col14\" >38259</td>\n",
       "                        <td id=\"T_ba697_row2_col15\" class=\"data row2 col15\" >2016-03-12 11:16:57</td>\n",
       "            </tr>\n",
       "            <tr>\n",
       "                        <th id=\"T_ba697_level0_row3\" class=\"row_heading level0 row3\" >109307</th>\n",
       "                        <td id=\"T_ba697_row3_col0\" class=\"data row3 col0\" >2016-03-30 11:39:47</td>\n",
       "                        <td id=\"T_ba697_row3_col1\" class=\"data row3 col1\" >50</td>\n",
       "                        <td id=\"T_ba697_row3_col2\" class=\"data row3 col2\" >small</td>\n",
       "                        <td id=\"T_ba697_row3_col3\" class=\"data row3 col3\" >1996</td>\n",
       "                        <td id=\"T_ba697_row3_col4\" class=\"data row3 col4\" >manual</td>\n",
       "                        <td id=\"T_ba697_row3_col5\" class=\"data row3 col5\" >60</td>\n",
       "                        <td id=\"T_ba697_row3_col6\" class=\"data row3 col6\" >corsa</td>\n",
       "                        <td id=\"T_ba697_row3_col7\" class=\"data row3 col7\" >150000</td>\n",
       "                        <td id=\"T_ba697_row3_col8\" class=\"data row3 col8\" >8</td>\n",
       "                        <td id=\"T_ba697_row3_col9\" class=\"data row3 col9\" >petrol</td>\n",
       "                        <td id=\"T_ba697_row3_col10\" class=\"data row3 col10\" >opel</td>\n",
       "                        <td id=\"T_ba697_row3_col11\" class=\"data row3 col11\" >yes</td>\n",
       "                        <td id=\"T_ba697_row3_col12\" class=\"data row3 col12\" >2016-03-30 00:00:00</td>\n",
       "                        <td id=\"T_ba697_row3_col13\" class=\"data row3 col13\" >0</td>\n",
       "                        <td id=\"T_ba697_row3_col14\" class=\"data row3 col14\" >7957</td>\n",
       "                        <td id=\"T_ba697_row3_col15\" class=\"data row3 col15\" >2016-04-03 00:46:29</td>\n",
       "            </tr>\n",
       "            <tr>\n",
       "                        <th id=\"T_ba697_level0_row4\" class=\"row_heading level0 row4\" >248545</th>\n",
       "                        <td id=\"T_ba697_row4_col0\" class=\"data row4 col0\" >2016-03-28 23:37:54</td>\n",
       "                        <td id=\"T_ba697_row4_col1\" class=\"data row4 col1\" >500</td>\n",
       "                        <td id=\"T_ba697_row4_col2\" class=\"data row4 col2\" >nan</td>\n",
       "                        <td id=\"T_ba697_row4_col3\" class=\"data row4 col3\" >2016</td>\n",
       "                        <td id=\"T_ba697_row4_col4\" class=\"data row4 col4\" >manual</td>\n",
       "                        <td id=\"T_ba697_row4_col5\" class=\"data row4 col5\" >82</td>\n",
       "                        <td id=\"T_ba697_row4_col6\" class=\"data row4 col6\" >a_klasse</td>\n",
       "                        <td id=\"T_ba697_row4_col7\" class=\"data row4 col7\" >150000</td>\n",
       "                        <td id=\"T_ba697_row4_col8\" class=\"data row4 col8\" >2</td>\n",
       "                        <td id=\"T_ba697_row4_col9\" class=\"data row4 col9\" >petrol</td>\n",
       "                        <td id=\"T_ba697_row4_col10\" class=\"data row4 col10\" >mercedes_benz</td>\n",
       "                        <td id=\"T_ba697_row4_col11\" class=\"data row4 col11\" >nan</td>\n",
       "                        <td id=\"T_ba697_row4_col12\" class=\"data row4 col12\" >2016-03-28 00:00:00</td>\n",
       "                        <td id=\"T_ba697_row4_col13\" class=\"data row4 col13\" >0</td>\n",
       "                        <td id=\"T_ba697_row4_col14\" class=\"data row4 col14\" >49356</td>\n",
       "                        <td id=\"T_ba697_row4_col15\" class=\"data row4 col15\" >2016-03-30 23:17:28</td>\n",
       "            </tr>\n",
       "            <tr>\n",
       "                        <th id=\"T_ba697_level0_row5\" class=\"row_heading level0 row5\" >318907</th>\n",
       "                        <td id=\"T_ba697_row5_col0\" class=\"data row5 col0\" >2016-03-31 13:51:44</td>\n",
       "                        <td id=\"T_ba697_row5_col1\" class=\"data row5 col1\" >3000</td>\n",
       "                        <td id=\"T_ba697_row5_col2\" class=\"data row5 col2\" >convertible</td>\n",
       "                        <td id=\"T_ba697_row5_col3\" class=\"data row5 col3\" >2005</td>\n",
       "                        <td id=\"T_ba697_row5_col4\" class=\"data row5 col4\" >nan</td>\n",
       "                        <td id=\"T_ba697_row5_col5\" class=\"data row5 col5\" >0</td>\n",
       "                        <td id=\"T_ba697_row5_col6\" class=\"data row5 col6\" >3_reihe</td>\n",
       "                        <td id=\"T_ba697_row5_col7\" class=\"data row5 col7\" >150000</td>\n",
       "                        <td id=\"T_ba697_row5_col8\" class=\"data row5 col8\" >0</td>\n",
       "                        <td id=\"T_ba697_row5_col9\" class=\"data row5 col9\" >petrol</td>\n",
       "                        <td id=\"T_ba697_row5_col10\" class=\"data row5 col10\" >peugeot</td>\n",
       "                        <td id=\"T_ba697_row5_col11\" class=\"data row5 col11\" >no</td>\n",
       "                        <td id=\"T_ba697_row5_col12\" class=\"data row5 col12\" >2016-03-31 00:00:00</td>\n",
       "                        <td id=\"T_ba697_row5_col13\" class=\"data row5 col13\" >0</td>\n",
       "                        <td id=\"T_ba697_row5_col14\" class=\"data row5 col14\" >53340</td>\n",
       "                        <td id=\"T_ba697_row5_col15\" class=\"data row5 col15\" >2016-04-06 06:44:47</td>\n",
       "            </tr>\n",
       "            <tr>\n",
       "                        <th id=\"T_ba697_level0_row6\" class=\"row_heading level0 row6\" >227367</th>\n",
       "                        <td id=\"T_ba697_row6_col0\" class=\"data row6 col0\" >2016-03-19 20:50:32</td>\n",
       "                        <td id=\"T_ba697_row6_col1\" class=\"data row6 col1\" >1099</td>\n",
       "                        <td id=\"T_ba697_row6_col2\" class=\"data row6 col2\" >sedan</td>\n",
       "                        <td id=\"T_ba697_row6_col3\" class=\"data row6 col3\" >1983</td>\n",
       "                        <td id=\"T_ba697_row6_col4\" class=\"data row6 col4\" >auto</td>\n",
       "                        <td id=\"T_ba697_row6_col5\" class=\"data row6 col5\" >122</td>\n",
       "                        <td id=\"T_ba697_row6_col6\" class=\"data row6 col6\" >other</td>\n",
       "                        <td id=\"T_ba697_row6_col7\" class=\"data row6 col7\" >150000</td>\n",
       "                        <td id=\"T_ba697_row6_col8\" class=\"data row6 col8\" >3</td>\n",
       "                        <td id=\"T_ba697_row6_col9\" class=\"data row6 col9\" >petrol</td>\n",
       "                        <td id=\"T_ba697_row6_col10\" class=\"data row6 col10\" >mercedes_benz</td>\n",
       "                        <td id=\"T_ba697_row6_col11\" class=\"data row6 col11\" >no</td>\n",
       "                        <td id=\"T_ba697_row6_col12\" class=\"data row6 col12\" >2016-03-19 00:00:00</td>\n",
       "                        <td id=\"T_ba697_row6_col13\" class=\"data row6 col13\" >0</td>\n",
       "                        <td id=\"T_ba697_row6_col14\" class=\"data row6 col14\" >49779</td>\n",
       "                        <td id=\"T_ba697_row6_col15\" class=\"data row6 col15\" >2016-04-07 09:17:08</td>\n",
       "            </tr>\n",
       "            <tr>\n",
       "                        <th id=\"T_ba697_level0_row7\" class=\"row_heading level0 row7\" >47677</th>\n",
       "                        <td id=\"T_ba697_row7_col0\" class=\"data row7 col0\" >2016-03-10 00:36:53</td>\n",
       "                        <td id=\"T_ba697_row7_col1\" class=\"data row7 col1\" >850</td>\n",
       "                        <td id=\"T_ba697_row7_col2\" class=\"data row7 col2\" >nan</td>\n",
       "                        <td id=\"T_ba697_row7_col3\" class=\"data row7 col3\" >2016</td>\n",
       "                        <td id=\"T_ba697_row7_col4\" class=\"data row7 col4\" >manual</td>\n",
       "                        <td id=\"T_ba697_row7_col5\" class=\"data row7 col5\" >55</td>\n",
       "                        <td id=\"T_ba697_row7_col6\" class=\"data row7 col6\" >astra</td>\n",
       "                        <td id=\"T_ba697_row7_col7\" class=\"data row7 col7\" >150000</td>\n",
       "                        <td id=\"T_ba697_row7_col8\" class=\"data row7 col8\" >12</td>\n",
       "                        <td id=\"T_ba697_row7_col9\" class=\"data row7 col9\" >petrol</td>\n",
       "                        <td id=\"T_ba697_row7_col10\" class=\"data row7 col10\" >opel</td>\n",
       "                        <td id=\"T_ba697_row7_col11\" class=\"data row7 col11\" >no</td>\n",
       "                        <td id=\"T_ba697_row7_col12\" class=\"data row7 col12\" >2016-03-10 00:00:00</td>\n",
       "                        <td id=\"T_ba697_row7_col13\" class=\"data row7 col13\" >0</td>\n",
       "                        <td id=\"T_ba697_row7_col14\" class=\"data row7 col14\" >14656</td>\n",
       "                        <td id=\"T_ba697_row7_col15\" class=\"data row7 col15\" >2016-03-10 08:45:41</td>\n",
       "            </tr>\n",
       "            <tr>\n",
       "                        <th id=\"T_ba697_level0_row8\" class=\"row_heading level0 row8\" >337147</th>\n",
       "                        <td id=\"T_ba697_row8_col0\" class=\"data row8 col0\" >2016-03-20 19:48:40</td>\n",
       "                        <td id=\"T_ba697_row8_col1\" class=\"data row8 col1\" >7999</td>\n",
       "                        <td id=\"T_ba697_row8_col2\" class=\"data row8 col2\" >small</td>\n",
       "                        <td id=\"T_ba697_row8_col3\" class=\"data row8 col3\" >2011</td>\n",
       "                        <td id=\"T_ba697_row8_col4\" class=\"data row8 col4\" >manual</td>\n",
       "                        <td id=\"T_ba697_row8_col5\" class=\"data row8 col5\" >99</td>\n",
       "                        <td id=\"T_ba697_row8_col6\" class=\"data row8 col6\" >500</td>\n",
       "                        <td id=\"T_ba697_row8_col7\" class=\"data row8 col7\" >90000</td>\n",
       "                        <td id=\"T_ba697_row8_col8\" class=\"data row8 col8\" >5</td>\n",
       "                        <td id=\"T_ba697_row8_col9\" class=\"data row8 col9\" >petrol</td>\n",
       "                        <td id=\"T_ba697_row8_col10\" class=\"data row8 col10\" >fiat</td>\n",
       "                        <td id=\"T_ba697_row8_col11\" class=\"data row8 col11\" >no</td>\n",
       "                        <td id=\"T_ba697_row8_col12\" class=\"data row8 col12\" >2016-03-20 00:00:00</td>\n",
       "                        <td id=\"T_ba697_row8_col13\" class=\"data row8 col13\" >0</td>\n",
       "                        <td id=\"T_ba697_row8_col14\" class=\"data row8 col14\" >71272</td>\n",
       "                        <td id=\"T_ba697_row8_col15\" class=\"data row8 col15\" >2016-04-07 04:16:53</td>\n",
       "            </tr>\n",
       "            <tr>\n",
       "                        <th id=\"T_ba697_level0_row9\" class=\"row_heading level0 row9\" >164456</th>\n",
       "                        <td id=\"T_ba697_row9_col0\" class=\"data row9 col0\" >2016-03-20 09:46:40</td>\n",
       "                        <td id=\"T_ba697_row9_col1\" class=\"data row9 col1\" >5900</td>\n",
       "                        <td id=\"T_ba697_row9_col2\" class=\"data row9 col2\" >convertible</td>\n",
       "                        <td id=\"T_ba697_row9_col3\" class=\"data row9 col3\" >1977</td>\n",
       "                        <td id=\"T_ba697_row9_col4\" class=\"data row9 col4\" >nan</td>\n",
       "                        <td id=\"T_ba697_row9_col5\" class=\"data row9 col5\" >0</td>\n",
       "                        <td id=\"T_ba697_row9_col6\" class=\"data row9 col6\" >nan</td>\n",
       "                        <td id=\"T_ba697_row9_col7\" class=\"data row9 col7\" >100000</td>\n",
       "                        <td id=\"T_ba697_row9_col8\" class=\"data row9 col8\" >7</td>\n",
       "                        <td id=\"T_ba697_row9_col9\" class=\"data row9 col9\" >nan</td>\n",
       "                        <td id=\"T_ba697_row9_col10\" class=\"data row9 col10\" >sonstige_autos</td>\n",
       "                        <td id=\"T_ba697_row9_col11\" class=\"data row9 col11\" >no</td>\n",
       "                        <td id=\"T_ba697_row9_col12\" class=\"data row9 col12\" >2016-03-20 00:00:00</td>\n",
       "                        <td id=\"T_ba697_row9_col13\" class=\"data row9 col13\" >0</td>\n",
       "                        <td id=\"T_ba697_row9_col14\" class=\"data row9 col14\" >32339</td>\n",
       "                        <td id=\"T_ba697_row9_col15\" class=\"data row9 col15\" >2016-04-06 05:16:17</td>\n",
       "            </tr>\n",
       "    </tbody></table>   <style  type=\"text/css\" >\n",
       "</style><table id=\"T_87a51_\" style='display:inline'><caption>Последние 10 строк</caption><thead>    <tr>        <th class=\"blank level0\" ></th>        <th class=\"col_heading level0 col0\" >DateCrawled</th>        <th class=\"col_heading level0 col1\" >Price</th>        <th class=\"col_heading level0 col2\" >VehicleType</th>        <th class=\"col_heading level0 col3\" >RegistrationYear</th>        <th class=\"col_heading level0 col4\" >Gearbox</th>        <th class=\"col_heading level0 col5\" >Power</th>        <th class=\"col_heading level0 col6\" >Model</th>        <th class=\"col_heading level0 col7\" >Kilometer</th>        <th class=\"col_heading level0 col8\" >RegistrationMonth</th>        <th class=\"col_heading level0 col9\" >FuelType</th>        <th class=\"col_heading level0 col10\" >Brand</th>        <th class=\"col_heading level0 col11\" >NotRepaired</th>        <th class=\"col_heading level0 col12\" >DateCreated</th>        <th class=\"col_heading level0 col13\" >NumberOfPictures</th>        <th class=\"col_heading level0 col14\" >PostalCode</th>        <th class=\"col_heading level0 col15\" >LastSeen</th>    </tr></thead><tbody>\n",
       "                <tr>\n",
       "                        <th id=\"T_87a51_level0_row0\" class=\"row_heading level0 row0\" >354359</th>\n",
       "                        <td id=\"T_87a51_row0_col0\" class=\"data row0 col0\" >2016-03-28 13:48:07</td>\n",
       "                        <td id=\"T_87a51_row0_col1\" class=\"data row0 col1\" >7900</td>\n",
       "                        <td id=\"T_87a51_row0_col2\" class=\"data row0 col2\" >sedan</td>\n",
       "                        <td id=\"T_87a51_row0_col3\" class=\"data row0 col3\" >2010</td>\n",
       "                        <td id=\"T_87a51_row0_col4\" class=\"data row0 col4\" >manual</td>\n",
       "                        <td id=\"T_87a51_row0_col5\" class=\"data row0 col5\" >140</td>\n",
       "                        <td id=\"T_87a51_row0_col6\" class=\"data row0 col6\" >golf</td>\n",
       "                        <td id=\"T_87a51_row0_col7\" class=\"data row0 col7\" >150000</td>\n",
       "                        <td id=\"T_87a51_row0_col8\" class=\"data row0 col8\" >7</td>\n",
       "                        <td id=\"T_87a51_row0_col9\" class=\"data row0 col9\" >gasoline</td>\n",
       "                        <td id=\"T_87a51_row0_col10\" class=\"data row0 col10\" >volkswagen</td>\n",
       "                        <td id=\"T_87a51_row0_col11\" class=\"data row0 col11\" >no</td>\n",
       "                        <td id=\"T_87a51_row0_col12\" class=\"data row0 col12\" >2016-03-28 00:00:00</td>\n",
       "                        <td id=\"T_87a51_row0_col13\" class=\"data row0 col13\" >0</td>\n",
       "                        <td id=\"T_87a51_row0_col14\" class=\"data row0 col14\" >75223</td>\n",
       "                        <td id=\"T_87a51_row0_col15\" class=\"data row0 col15\" >2016-04-02 18:16:20</td>\n",
       "            </tr>\n",
       "            <tr>\n",
       "                        <th id=\"T_87a51_level0_row1\" class=\"row_heading level0 row1\" >354360</th>\n",
       "                        <td id=\"T_87a51_row1_col0\" class=\"data row1 col0\" >2016-04-02 20:37:03</td>\n",
       "                        <td id=\"T_87a51_row1_col1\" class=\"data row1 col1\" >3999</td>\n",
       "                        <td id=\"T_87a51_row1_col2\" class=\"data row1 col2\" >wagon</td>\n",
       "                        <td id=\"T_87a51_row1_col3\" class=\"data row1 col3\" >2005</td>\n",
       "                        <td id=\"T_87a51_row1_col4\" class=\"data row1 col4\" >manual</td>\n",
       "                        <td id=\"T_87a51_row1_col5\" class=\"data row1 col5\" >3</td>\n",
       "                        <td id=\"T_87a51_row1_col6\" class=\"data row1 col6\" >3er</td>\n",
       "                        <td id=\"T_87a51_row1_col7\" class=\"data row1 col7\" >150000</td>\n",
       "                        <td id=\"T_87a51_row1_col8\" class=\"data row1 col8\" >5</td>\n",
       "                        <td id=\"T_87a51_row1_col9\" class=\"data row1 col9\" >gasoline</td>\n",
       "                        <td id=\"T_87a51_row1_col10\" class=\"data row1 col10\" >bmw</td>\n",
       "                        <td id=\"T_87a51_row1_col11\" class=\"data row1 col11\" >no</td>\n",
       "                        <td id=\"T_87a51_row1_col12\" class=\"data row1 col12\" >2016-04-02 00:00:00</td>\n",
       "                        <td id=\"T_87a51_row1_col13\" class=\"data row1 col13\" >0</td>\n",
       "                        <td id=\"T_87a51_row1_col14\" class=\"data row1 col14\" >81825</td>\n",
       "                        <td id=\"T_87a51_row1_col15\" class=\"data row1 col15\" >2016-04-06 20:47:12</td>\n",
       "            </tr>\n",
       "            <tr>\n",
       "                        <th id=\"T_87a51_level0_row2\" class=\"row_heading level0 row2\" >354361</th>\n",
       "                        <td id=\"T_87a51_row2_col0\" class=\"data row2 col0\" >2016-03-09 13:37:43</td>\n",
       "                        <td id=\"T_87a51_row2_col1\" class=\"data row2 col1\" >5250</td>\n",
       "                        <td id=\"T_87a51_row2_col2\" class=\"data row2 col2\" >nan</td>\n",
       "                        <td id=\"T_87a51_row2_col3\" class=\"data row2 col3\" >2016</td>\n",
       "                        <td id=\"T_87a51_row2_col4\" class=\"data row2 col4\" >auto</td>\n",
       "                        <td id=\"T_87a51_row2_col5\" class=\"data row2 col5\" >150</td>\n",
       "                        <td id=\"T_87a51_row2_col6\" class=\"data row2 col6\" >159</td>\n",
       "                        <td id=\"T_87a51_row2_col7\" class=\"data row2 col7\" >150000</td>\n",
       "                        <td id=\"T_87a51_row2_col8\" class=\"data row2 col8\" >12</td>\n",
       "                        <td id=\"T_87a51_row2_col9\" class=\"data row2 col9\" >nan</td>\n",
       "                        <td id=\"T_87a51_row2_col10\" class=\"data row2 col10\" >alfa_romeo</td>\n",
       "                        <td id=\"T_87a51_row2_col11\" class=\"data row2 col11\" >no</td>\n",
       "                        <td id=\"T_87a51_row2_col12\" class=\"data row2 col12\" >2016-03-09 00:00:00</td>\n",
       "                        <td id=\"T_87a51_row2_col13\" class=\"data row2 col13\" >0</td>\n",
       "                        <td id=\"T_87a51_row2_col14\" class=\"data row2 col14\" >51371</td>\n",
       "                        <td id=\"T_87a51_row2_col15\" class=\"data row2 col15\" >2016-03-13 01:44:13</td>\n",
       "            </tr>\n",
       "            <tr>\n",
       "                        <th id=\"T_87a51_level0_row3\" class=\"row_heading level0 row3\" >354362</th>\n",
       "                        <td id=\"T_87a51_row3_col0\" class=\"data row3 col0\" >2016-03-19 19:53:49</td>\n",
       "                        <td id=\"T_87a51_row3_col1\" class=\"data row3 col1\" >3200</td>\n",
       "                        <td id=\"T_87a51_row3_col2\" class=\"data row3 col2\" >sedan</td>\n",
       "                        <td id=\"T_87a51_row3_col3\" class=\"data row3 col3\" >2004</td>\n",
       "                        <td id=\"T_87a51_row3_col4\" class=\"data row3 col4\" >manual</td>\n",
       "                        <td id=\"T_87a51_row3_col5\" class=\"data row3 col5\" >225</td>\n",
       "                        <td id=\"T_87a51_row3_col6\" class=\"data row3 col6\" >leon</td>\n",
       "                        <td id=\"T_87a51_row3_col7\" class=\"data row3 col7\" >150000</td>\n",
       "                        <td id=\"T_87a51_row3_col8\" class=\"data row3 col8\" >5</td>\n",
       "                        <td id=\"T_87a51_row3_col9\" class=\"data row3 col9\" >petrol</td>\n",
       "                        <td id=\"T_87a51_row3_col10\" class=\"data row3 col10\" >seat</td>\n",
       "                        <td id=\"T_87a51_row3_col11\" class=\"data row3 col11\" >yes</td>\n",
       "                        <td id=\"T_87a51_row3_col12\" class=\"data row3 col12\" >2016-03-19 00:00:00</td>\n",
       "                        <td id=\"T_87a51_row3_col13\" class=\"data row3 col13\" >0</td>\n",
       "                        <td id=\"T_87a51_row3_col14\" class=\"data row3 col14\" >96465</td>\n",
       "                        <td id=\"T_87a51_row3_col15\" class=\"data row3 col15\" >2016-03-19 20:44:43</td>\n",
       "            </tr>\n",
       "            <tr>\n",
       "                        <th id=\"T_87a51_level0_row4\" class=\"row_heading level0 row4\" >354363</th>\n",
       "                        <td id=\"T_87a51_row4_col0\" class=\"data row4 col0\" >2016-03-27 20:36:20</td>\n",
       "                        <td id=\"T_87a51_row4_col1\" class=\"data row4 col1\" >1150</td>\n",
       "                        <td id=\"T_87a51_row4_col2\" class=\"data row4 col2\" >bus</td>\n",
       "                        <td id=\"T_87a51_row4_col3\" class=\"data row4 col3\" >2000</td>\n",
       "                        <td id=\"T_87a51_row4_col4\" class=\"data row4 col4\" >manual</td>\n",
       "                        <td id=\"T_87a51_row4_col5\" class=\"data row4 col5\" >0</td>\n",
       "                        <td id=\"T_87a51_row4_col6\" class=\"data row4 col6\" >zafira</td>\n",
       "                        <td id=\"T_87a51_row4_col7\" class=\"data row4 col7\" >150000</td>\n",
       "                        <td id=\"T_87a51_row4_col8\" class=\"data row4 col8\" >3</td>\n",
       "                        <td id=\"T_87a51_row4_col9\" class=\"data row4 col9\" >petrol</td>\n",
       "                        <td id=\"T_87a51_row4_col10\" class=\"data row4 col10\" >opel</td>\n",
       "                        <td id=\"T_87a51_row4_col11\" class=\"data row4 col11\" >no</td>\n",
       "                        <td id=\"T_87a51_row4_col12\" class=\"data row4 col12\" >2016-03-27 00:00:00</td>\n",
       "                        <td id=\"T_87a51_row4_col13\" class=\"data row4 col13\" >0</td>\n",
       "                        <td id=\"T_87a51_row4_col14\" class=\"data row4 col14\" >26624</td>\n",
       "                        <td id=\"T_87a51_row4_col15\" class=\"data row4 col15\" >2016-03-29 10:17:23</td>\n",
       "            </tr>\n",
       "            <tr>\n",
       "                        <th id=\"T_87a51_level0_row5\" class=\"row_heading level0 row5\" >354364</th>\n",
       "                        <td id=\"T_87a51_row5_col0\" class=\"data row5 col0\" >2016-03-21 09:50:58</td>\n",
       "                        <td id=\"T_87a51_row5_col1\" class=\"data row5 col1\" >0</td>\n",
       "                        <td id=\"T_87a51_row5_col2\" class=\"data row5 col2\" >nan</td>\n",
       "                        <td id=\"T_87a51_row5_col3\" class=\"data row5 col3\" >2005</td>\n",
       "                        <td id=\"T_87a51_row5_col4\" class=\"data row5 col4\" >manual</td>\n",
       "                        <td id=\"T_87a51_row5_col5\" class=\"data row5 col5\" >0</td>\n",
       "                        <td id=\"T_87a51_row5_col6\" class=\"data row5 col6\" >colt</td>\n",
       "                        <td id=\"T_87a51_row5_col7\" class=\"data row5 col7\" >150000</td>\n",
       "                        <td id=\"T_87a51_row5_col8\" class=\"data row5 col8\" >7</td>\n",
       "                        <td id=\"T_87a51_row5_col9\" class=\"data row5 col9\" >petrol</td>\n",
       "                        <td id=\"T_87a51_row5_col10\" class=\"data row5 col10\" >mitsubishi</td>\n",
       "                        <td id=\"T_87a51_row5_col11\" class=\"data row5 col11\" >yes</td>\n",
       "                        <td id=\"T_87a51_row5_col12\" class=\"data row5 col12\" >2016-03-21 00:00:00</td>\n",
       "                        <td id=\"T_87a51_row5_col13\" class=\"data row5 col13\" >0</td>\n",
       "                        <td id=\"T_87a51_row5_col14\" class=\"data row5 col14\" >2694</td>\n",
       "                        <td id=\"T_87a51_row5_col15\" class=\"data row5 col15\" >2016-03-21 10:42:49</td>\n",
       "            </tr>\n",
       "            <tr>\n",
       "                        <th id=\"T_87a51_level0_row6\" class=\"row_heading level0 row6\" >354365</th>\n",
       "                        <td id=\"T_87a51_row6_col0\" class=\"data row6 col0\" >2016-03-14 17:48:27</td>\n",
       "                        <td id=\"T_87a51_row6_col1\" class=\"data row6 col1\" >2200</td>\n",
       "                        <td id=\"T_87a51_row6_col2\" class=\"data row6 col2\" >nan</td>\n",
       "                        <td id=\"T_87a51_row6_col3\" class=\"data row6 col3\" >2005</td>\n",
       "                        <td id=\"T_87a51_row6_col4\" class=\"data row6 col4\" >nan</td>\n",
       "                        <td id=\"T_87a51_row6_col5\" class=\"data row6 col5\" >0</td>\n",
       "                        <td id=\"T_87a51_row6_col6\" class=\"data row6 col6\" >nan</td>\n",
       "                        <td id=\"T_87a51_row6_col7\" class=\"data row6 col7\" >20000</td>\n",
       "                        <td id=\"T_87a51_row6_col8\" class=\"data row6 col8\" >1</td>\n",
       "                        <td id=\"T_87a51_row6_col9\" class=\"data row6 col9\" >nan</td>\n",
       "                        <td id=\"T_87a51_row6_col10\" class=\"data row6 col10\" >sonstige_autos</td>\n",
       "                        <td id=\"T_87a51_row6_col11\" class=\"data row6 col11\" >nan</td>\n",
       "                        <td id=\"T_87a51_row6_col12\" class=\"data row6 col12\" >2016-03-14 00:00:00</td>\n",
       "                        <td id=\"T_87a51_row6_col13\" class=\"data row6 col13\" >0</td>\n",
       "                        <td id=\"T_87a51_row6_col14\" class=\"data row6 col14\" >39576</td>\n",
       "                        <td id=\"T_87a51_row6_col15\" class=\"data row6 col15\" >2016-04-06 00:46:52</td>\n",
       "            </tr>\n",
       "            <tr>\n",
       "                        <th id=\"T_87a51_level0_row7\" class=\"row_heading level0 row7\" >354366</th>\n",
       "                        <td id=\"T_87a51_row7_col0\" class=\"data row7 col0\" >2016-03-05 19:56:21</td>\n",
       "                        <td id=\"T_87a51_row7_col1\" class=\"data row7 col1\" >1199</td>\n",
       "                        <td id=\"T_87a51_row7_col2\" class=\"data row7 col2\" >convertible</td>\n",
       "                        <td id=\"T_87a51_row7_col3\" class=\"data row7 col3\" >2000</td>\n",
       "                        <td id=\"T_87a51_row7_col4\" class=\"data row7 col4\" >auto</td>\n",
       "                        <td id=\"T_87a51_row7_col5\" class=\"data row7 col5\" >101</td>\n",
       "                        <td id=\"T_87a51_row7_col6\" class=\"data row7 col6\" >fortwo</td>\n",
       "                        <td id=\"T_87a51_row7_col7\" class=\"data row7 col7\" >125000</td>\n",
       "                        <td id=\"T_87a51_row7_col8\" class=\"data row7 col8\" >3</td>\n",
       "                        <td id=\"T_87a51_row7_col9\" class=\"data row7 col9\" >petrol</td>\n",
       "                        <td id=\"T_87a51_row7_col10\" class=\"data row7 col10\" >smart</td>\n",
       "                        <td id=\"T_87a51_row7_col11\" class=\"data row7 col11\" >no</td>\n",
       "                        <td id=\"T_87a51_row7_col12\" class=\"data row7 col12\" >2016-03-05 00:00:00</td>\n",
       "                        <td id=\"T_87a51_row7_col13\" class=\"data row7 col13\" >0</td>\n",
       "                        <td id=\"T_87a51_row7_col14\" class=\"data row7 col14\" >26135</td>\n",
       "                        <td id=\"T_87a51_row7_col15\" class=\"data row7 col15\" >2016-03-11 18:17:12</td>\n",
       "            </tr>\n",
       "            <tr>\n",
       "                        <th id=\"T_87a51_level0_row8\" class=\"row_heading level0 row8\" >354367</th>\n",
       "                        <td id=\"T_87a51_row8_col0\" class=\"data row8 col0\" >2016-03-19 18:57:12</td>\n",
       "                        <td id=\"T_87a51_row8_col1\" class=\"data row8 col1\" >9200</td>\n",
       "                        <td id=\"T_87a51_row8_col2\" class=\"data row8 col2\" >bus</td>\n",
       "                        <td id=\"T_87a51_row8_col3\" class=\"data row8 col3\" >1996</td>\n",
       "                        <td id=\"T_87a51_row8_col4\" class=\"data row8 col4\" >manual</td>\n",
       "                        <td id=\"T_87a51_row8_col5\" class=\"data row8 col5\" >102</td>\n",
       "                        <td id=\"T_87a51_row8_col6\" class=\"data row8 col6\" >transporter</td>\n",
       "                        <td id=\"T_87a51_row8_col7\" class=\"data row8 col7\" >150000</td>\n",
       "                        <td id=\"T_87a51_row8_col8\" class=\"data row8 col8\" >3</td>\n",
       "                        <td id=\"T_87a51_row8_col9\" class=\"data row8 col9\" >gasoline</td>\n",
       "                        <td id=\"T_87a51_row8_col10\" class=\"data row8 col10\" >volkswagen</td>\n",
       "                        <td id=\"T_87a51_row8_col11\" class=\"data row8 col11\" >no</td>\n",
       "                        <td id=\"T_87a51_row8_col12\" class=\"data row8 col12\" >2016-03-19 00:00:00</td>\n",
       "                        <td id=\"T_87a51_row8_col13\" class=\"data row8 col13\" >0</td>\n",
       "                        <td id=\"T_87a51_row8_col14\" class=\"data row8 col14\" >87439</td>\n",
       "                        <td id=\"T_87a51_row8_col15\" class=\"data row8 col15\" >2016-04-07 07:15:26</td>\n",
       "            </tr>\n",
       "            <tr>\n",
       "                        <th id=\"T_87a51_level0_row9\" class=\"row_heading level0 row9\" >354368</th>\n",
       "                        <td id=\"T_87a51_row9_col0\" class=\"data row9 col0\" >2016-03-20 19:41:08</td>\n",
       "                        <td id=\"T_87a51_row9_col1\" class=\"data row9 col1\" >3400</td>\n",
       "                        <td id=\"T_87a51_row9_col2\" class=\"data row9 col2\" >wagon</td>\n",
       "                        <td id=\"T_87a51_row9_col3\" class=\"data row9 col3\" >2002</td>\n",
       "                        <td id=\"T_87a51_row9_col4\" class=\"data row9 col4\" >manual</td>\n",
       "                        <td id=\"T_87a51_row9_col5\" class=\"data row9 col5\" >100</td>\n",
       "                        <td id=\"T_87a51_row9_col6\" class=\"data row9 col6\" >golf</td>\n",
       "                        <td id=\"T_87a51_row9_col7\" class=\"data row9 col7\" >150000</td>\n",
       "                        <td id=\"T_87a51_row9_col8\" class=\"data row9 col8\" >6</td>\n",
       "                        <td id=\"T_87a51_row9_col9\" class=\"data row9 col9\" >gasoline</td>\n",
       "                        <td id=\"T_87a51_row9_col10\" class=\"data row9 col10\" >volkswagen</td>\n",
       "                        <td id=\"T_87a51_row9_col11\" class=\"data row9 col11\" >nan</td>\n",
       "                        <td id=\"T_87a51_row9_col12\" class=\"data row9 col12\" >2016-03-20 00:00:00</td>\n",
       "                        <td id=\"T_87a51_row9_col13\" class=\"data row9 col13\" >0</td>\n",
       "                        <td id=\"T_87a51_row9_col14\" class=\"data row9 col14\" >40764</td>\n",
       "                        <td id=\"T_87a51_row9_col15\" class=\"data row9 col15\" >2016-03-24 12:45:21</td>\n",
       "            </tr>\n",
       "    </tbody></table>   <style  type=\"text/css\" >\n",
       "</style><table id=\"T_9f42a_\" style='display:inline'><caption>Статистическая информация числовым признакам</caption><thead>    <tr>        <th class=\"blank level0\" ></th>        <th class=\"col_heading level0 col0\" >Price</th>        <th class=\"col_heading level0 col1\" >RegistrationYear</th>        <th class=\"col_heading level0 col2\" >Power</th>        <th class=\"col_heading level0 col3\" >Kilometer</th>        <th class=\"col_heading level0 col4\" >RegistrationMonth</th>        <th class=\"col_heading level0 col5\" >NumberOfPictures</th>        <th class=\"col_heading level0 col6\" >PostalCode</th>    </tr></thead><tbody>\n",
       "                <tr>\n",
       "                        <th id=\"T_9f42a_level0_row0\" class=\"row_heading level0 row0\" >count</th>\n",
       "                        <td id=\"T_9f42a_row0_col0\" class=\"data row0 col0\" >354369.000000</td>\n",
       "                        <td id=\"T_9f42a_row0_col1\" class=\"data row0 col1\" >354369.000000</td>\n",
       "                        <td id=\"T_9f42a_row0_col2\" class=\"data row0 col2\" >354369.000000</td>\n",
       "                        <td id=\"T_9f42a_row0_col3\" class=\"data row0 col3\" >354369.000000</td>\n",
       "                        <td id=\"T_9f42a_row0_col4\" class=\"data row0 col4\" >354369.000000</td>\n",
       "                        <td id=\"T_9f42a_row0_col5\" class=\"data row0 col5\" >354369.000000</td>\n",
       "                        <td id=\"T_9f42a_row0_col6\" class=\"data row0 col6\" >354369.000000</td>\n",
       "            </tr>\n",
       "            <tr>\n",
       "                        <th id=\"T_9f42a_level0_row1\" class=\"row_heading level0 row1\" >mean</th>\n",
       "                        <td id=\"T_9f42a_row1_col0\" class=\"data row1 col0\" >4416.656776</td>\n",
       "                        <td id=\"T_9f42a_row1_col1\" class=\"data row1 col1\" >2004.234448</td>\n",
       "                        <td id=\"T_9f42a_row1_col2\" class=\"data row1 col2\" >110.094337</td>\n",
       "                        <td id=\"T_9f42a_row1_col3\" class=\"data row1 col3\" >128211.172535</td>\n",
       "                        <td id=\"T_9f42a_row1_col4\" class=\"data row1 col4\" >5.714645</td>\n",
       "                        <td id=\"T_9f42a_row1_col5\" class=\"data row1 col5\" >0.000000</td>\n",
       "                        <td id=\"T_9f42a_row1_col6\" class=\"data row1 col6\" >50508.689087</td>\n",
       "            </tr>\n",
       "            <tr>\n",
       "                        <th id=\"T_9f42a_level0_row2\" class=\"row_heading level0 row2\" >std</th>\n",
       "                        <td id=\"T_9f42a_row2_col0\" class=\"data row2 col0\" >4514.158514</td>\n",
       "                        <td id=\"T_9f42a_row2_col1\" class=\"data row2 col1\" >90.227958</td>\n",
       "                        <td id=\"T_9f42a_row2_col2\" class=\"data row2 col2\" >189.850405</td>\n",
       "                        <td id=\"T_9f42a_row2_col3\" class=\"data row2 col3\" >37905.341530</td>\n",
       "                        <td id=\"T_9f42a_row2_col4\" class=\"data row2 col4\" >3.726421</td>\n",
       "                        <td id=\"T_9f42a_row2_col5\" class=\"data row2 col5\" >0.000000</td>\n",
       "                        <td id=\"T_9f42a_row2_col6\" class=\"data row2 col6\" >25783.096248</td>\n",
       "            </tr>\n",
       "            <tr>\n",
       "                        <th id=\"T_9f42a_level0_row3\" class=\"row_heading level0 row3\" >min</th>\n",
       "                        <td id=\"T_9f42a_row3_col0\" class=\"data row3 col0\" >0.000000</td>\n",
       "                        <td id=\"T_9f42a_row3_col1\" class=\"data row3 col1\" >1000.000000</td>\n",
       "                        <td id=\"T_9f42a_row3_col2\" class=\"data row3 col2\" >0.000000</td>\n",
       "                        <td id=\"T_9f42a_row3_col3\" class=\"data row3 col3\" >5000.000000</td>\n",
       "                        <td id=\"T_9f42a_row3_col4\" class=\"data row3 col4\" >0.000000</td>\n",
       "                        <td id=\"T_9f42a_row3_col5\" class=\"data row3 col5\" >0.000000</td>\n",
       "                        <td id=\"T_9f42a_row3_col6\" class=\"data row3 col6\" >1067.000000</td>\n",
       "            </tr>\n",
       "            <tr>\n",
       "                        <th id=\"T_9f42a_level0_row4\" class=\"row_heading level0 row4\" >25%</th>\n",
       "                        <td id=\"T_9f42a_row4_col0\" class=\"data row4 col0\" >1050.000000</td>\n",
       "                        <td id=\"T_9f42a_row4_col1\" class=\"data row4 col1\" >1999.000000</td>\n",
       "                        <td id=\"T_9f42a_row4_col2\" class=\"data row4 col2\" >69.000000</td>\n",
       "                        <td id=\"T_9f42a_row4_col3\" class=\"data row4 col3\" >125000.000000</td>\n",
       "                        <td id=\"T_9f42a_row4_col4\" class=\"data row4 col4\" >3.000000</td>\n",
       "                        <td id=\"T_9f42a_row4_col5\" class=\"data row4 col5\" >0.000000</td>\n",
       "                        <td id=\"T_9f42a_row4_col6\" class=\"data row4 col6\" >30165.000000</td>\n",
       "            </tr>\n",
       "            <tr>\n",
       "                        <th id=\"T_9f42a_level0_row5\" class=\"row_heading level0 row5\" >50%</th>\n",
       "                        <td id=\"T_9f42a_row5_col0\" class=\"data row5 col0\" >2700.000000</td>\n",
       "                        <td id=\"T_9f42a_row5_col1\" class=\"data row5 col1\" >2003.000000</td>\n",
       "                        <td id=\"T_9f42a_row5_col2\" class=\"data row5 col2\" >105.000000</td>\n",
       "                        <td id=\"T_9f42a_row5_col3\" class=\"data row5 col3\" >150000.000000</td>\n",
       "                        <td id=\"T_9f42a_row5_col4\" class=\"data row5 col4\" >6.000000</td>\n",
       "                        <td id=\"T_9f42a_row5_col5\" class=\"data row5 col5\" >0.000000</td>\n",
       "                        <td id=\"T_9f42a_row5_col6\" class=\"data row5 col6\" >49413.000000</td>\n",
       "            </tr>\n",
       "            <tr>\n",
       "                        <th id=\"T_9f42a_level0_row6\" class=\"row_heading level0 row6\" >75%</th>\n",
       "                        <td id=\"T_9f42a_row6_col0\" class=\"data row6 col0\" >6400.000000</td>\n",
       "                        <td id=\"T_9f42a_row6_col1\" class=\"data row6 col1\" >2008.000000</td>\n",
       "                        <td id=\"T_9f42a_row6_col2\" class=\"data row6 col2\" >143.000000</td>\n",
       "                        <td id=\"T_9f42a_row6_col3\" class=\"data row6 col3\" >150000.000000</td>\n",
       "                        <td id=\"T_9f42a_row6_col4\" class=\"data row6 col4\" >9.000000</td>\n",
       "                        <td id=\"T_9f42a_row6_col5\" class=\"data row6 col5\" >0.000000</td>\n",
       "                        <td id=\"T_9f42a_row6_col6\" class=\"data row6 col6\" >71083.000000</td>\n",
       "            </tr>\n",
       "            <tr>\n",
       "                        <th id=\"T_9f42a_level0_row7\" class=\"row_heading level0 row7\" >max</th>\n",
       "                        <td id=\"T_9f42a_row7_col0\" class=\"data row7 col0\" >20000.000000</td>\n",
       "                        <td id=\"T_9f42a_row7_col1\" class=\"data row7 col1\" >9999.000000</td>\n",
       "                        <td id=\"T_9f42a_row7_col2\" class=\"data row7 col2\" >20000.000000</td>\n",
       "                        <td id=\"T_9f42a_row7_col3\" class=\"data row7 col3\" >150000.000000</td>\n",
       "                        <td id=\"T_9f42a_row7_col4\" class=\"data row7 col4\" >12.000000</td>\n",
       "                        <td id=\"T_9f42a_row7_col5\" class=\"data row7 col5\" >0.000000</td>\n",
       "                        <td id=\"T_9f42a_row7_col6\" class=\"data row7 col6\" >99998.000000</td>\n",
       "            </tr>\n",
       "    </tbody></table>   <style  type=\"text/css\" >\n",
       "</style><table id=\"T_8424a_\" style='display:inline'><caption>Статистическая информация по типам object</caption><thead>    <tr>        <th class=\"blank level0\" ></th>        <th class=\"col_heading level0 col0\" >DateCrawled</th>        <th class=\"col_heading level0 col1\" >VehicleType</th>        <th class=\"col_heading level0 col2\" >Gearbox</th>        <th class=\"col_heading level0 col3\" >Model</th>        <th class=\"col_heading level0 col4\" >FuelType</th>        <th class=\"col_heading level0 col5\" >Brand</th>        <th class=\"col_heading level0 col6\" >NotRepaired</th>        <th class=\"col_heading level0 col7\" >DateCreated</th>        <th class=\"col_heading level0 col8\" >LastSeen</th>    </tr></thead><tbody>\n",
       "                <tr>\n",
       "                        <th id=\"T_8424a_level0_row0\" class=\"row_heading level0 row0\" >count</th>\n",
       "                        <td id=\"T_8424a_row0_col0\" class=\"data row0 col0\" >354369</td>\n",
       "                        <td id=\"T_8424a_row0_col1\" class=\"data row0 col1\" >316879</td>\n",
       "                        <td id=\"T_8424a_row0_col2\" class=\"data row0 col2\" >334536</td>\n",
       "                        <td id=\"T_8424a_row0_col3\" class=\"data row0 col3\" >334664</td>\n",
       "                        <td id=\"T_8424a_row0_col4\" class=\"data row0 col4\" >321474</td>\n",
       "                        <td id=\"T_8424a_row0_col5\" class=\"data row0 col5\" >354369</td>\n",
       "                        <td id=\"T_8424a_row0_col6\" class=\"data row0 col6\" >283215</td>\n",
       "                        <td id=\"T_8424a_row0_col7\" class=\"data row0 col7\" >354369</td>\n",
       "                        <td id=\"T_8424a_row0_col8\" class=\"data row0 col8\" >354369</td>\n",
       "            </tr>\n",
       "            <tr>\n",
       "                        <th id=\"T_8424a_level0_row1\" class=\"row_heading level0 row1\" >unique</th>\n",
       "                        <td id=\"T_8424a_row1_col0\" class=\"data row1 col0\" >271174</td>\n",
       "                        <td id=\"T_8424a_row1_col1\" class=\"data row1 col1\" >8</td>\n",
       "                        <td id=\"T_8424a_row1_col2\" class=\"data row1 col2\" >2</td>\n",
       "                        <td id=\"T_8424a_row1_col3\" class=\"data row1 col3\" >250</td>\n",
       "                        <td id=\"T_8424a_row1_col4\" class=\"data row1 col4\" >7</td>\n",
       "                        <td id=\"T_8424a_row1_col5\" class=\"data row1 col5\" >40</td>\n",
       "                        <td id=\"T_8424a_row1_col6\" class=\"data row1 col6\" >2</td>\n",
       "                        <td id=\"T_8424a_row1_col7\" class=\"data row1 col7\" >109</td>\n",
       "                        <td id=\"T_8424a_row1_col8\" class=\"data row1 col8\" >179150</td>\n",
       "            </tr>\n",
       "            <tr>\n",
       "                        <th id=\"T_8424a_level0_row2\" class=\"row_heading level0 row2\" >top</th>\n",
       "                        <td id=\"T_8424a_row2_col0\" class=\"data row2 col0\" >2016-03-24 14:49:47</td>\n",
       "                        <td id=\"T_8424a_row2_col1\" class=\"data row2 col1\" >sedan</td>\n",
       "                        <td id=\"T_8424a_row2_col2\" class=\"data row2 col2\" >manual</td>\n",
       "                        <td id=\"T_8424a_row2_col3\" class=\"data row2 col3\" >golf</td>\n",
       "                        <td id=\"T_8424a_row2_col4\" class=\"data row2 col4\" >petrol</td>\n",
       "                        <td id=\"T_8424a_row2_col5\" class=\"data row2 col5\" >volkswagen</td>\n",
       "                        <td id=\"T_8424a_row2_col6\" class=\"data row2 col6\" >no</td>\n",
       "                        <td id=\"T_8424a_row2_col7\" class=\"data row2 col7\" >2016-04-03 00:00:00</td>\n",
       "                        <td id=\"T_8424a_row2_col8\" class=\"data row2 col8\" >2016-04-06 13:45:54</td>\n",
       "            </tr>\n",
       "            <tr>\n",
       "                        <th id=\"T_8424a_level0_row3\" class=\"row_heading level0 row3\" >freq</th>\n",
       "                        <td id=\"T_8424a_row3_col0\" class=\"data row3 col0\" >7</td>\n",
       "                        <td id=\"T_8424a_row3_col1\" class=\"data row3 col1\" >91457</td>\n",
       "                        <td id=\"T_8424a_row3_col2\" class=\"data row3 col2\" >268251</td>\n",
       "                        <td id=\"T_8424a_row3_col3\" class=\"data row3 col3\" >29232</td>\n",
       "                        <td id=\"T_8424a_row3_col4\" class=\"data row3 col4\" >216352</td>\n",
       "                        <td id=\"T_8424a_row3_col5\" class=\"data row3 col5\" >77013</td>\n",
       "                        <td id=\"T_8424a_row3_col6\" class=\"data row3 col6\" >247161</td>\n",
       "                        <td id=\"T_8424a_row3_col7\" class=\"data row3 col7\" >13719</td>\n",
       "                        <td id=\"T_8424a_row3_col8\" class=\"data row3 col8\" >17</td>\n",
       "            </tr>\n",
       "    </tbody></table>   <style  type=\"text/css\" >\n",
       "</style><table id=\"T_82505_\" style='display:inline'><caption>Пропущенные значения</caption><thead>    <tr>        <th class=\"blank level0\" ></th>        <th class=\"col_heading level0 col0\" >Доля пропусков</th>        <th class=\"col_heading level0 col1\" >Количество</th>    </tr></thead><tbody>\n",
       "                <tr>\n",
       "                        <th id=\"T_82505_level0_row0\" class=\"row_heading level0 row0\" >NotRepaired</th>\n",
       "                        <td id=\"T_82505_row0_col0\" class=\"data row0 col0\" >0.200791</td>\n",
       "                        <td id=\"T_82505_row0_col1\" class=\"data row0 col1\" >71154</td>\n",
       "            </tr>\n",
       "            <tr>\n",
       "                        <th id=\"T_82505_level0_row1\" class=\"row_heading level0 row1\" >VehicleType</th>\n",
       "                        <td id=\"T_82505_row1_col0\" class=\"data row1 col0\" >0.105794</td>\n",
       "                        <td id=\"T_82505_row1_col1\" class=\"data row1 col1\" >37490</td>\n",
       "            </tr>\n",
       "            <tr>\n",
       "                        <th id=\"T_82505_level0_row2\" class=\"row_heading level0 row2\" >FuelType</th>\n",
       "                        <td id=\"T_82505_row2_col0\" class=\"data row2 col0\" >0.092827</td>\n",
       "                        <td id=\"T_82505_row2_col1\" class=\"data row2 col1\" >32895</td>\n",
       "            </tr>\n",
       "            <tr>\n",
       "                        <th id=\"T_82505_level0_row3\" class=\"row_heading level0 row3\" >Gearbox</th>\n",
       "                        <td id=\"T_82505_row3_col0\" class=\"data row3 col0\" >0.055967</td>\n",
       "                        <td id=\"T_82505_row3_col1\" class=\"data row3 col1\" >19833</td>\n",
       "            </tr>\n",
       "            <tr>\n",
       "                        <th id=\"T_82505_level0_row4\" class=\"row_heading level0 row4\" >Model</th>\n",
       "                        <td id=\"T_82505_row4_col0\" class=\"data row4 col0\" >0.055606</td>\n",
       "                        <td id=\"T_82505_row4_col1\" class=\"data row4 col1\" >19705</td>\n",
       "            </tr>\n",
       "            <tr>\n",
       "                        <th id=\"T_82505_level0_row5\" class=\"row_heading level0 row5\" >DateCrawled</th>\n",
       "                        <td id=\"T_82505_row5_col0\" class=\"data row5 col0\" >0.000000</td>\n",
       "                        <td id=\"T_82505_row5_col1\" class=\"data row5 col1\" >0</td>\n",
       "            </tr>\n",
       "            <tr>\n",
       "                        <th id=\"T_82505_level0_row6\" class=\"row_heading level0 row6\" >Price</th>\n",
       "                        <td id=\"T_82505_row6_col0\" class=\"data row6 col0\" >0.000000</td>\n",
       "                        <td id=\"T_82505_row6_col1\" class=\"data row6 col1\" >0</td>\n",
       "            </tr>\n",
       "            <tr>\n",
       "                        <th id=\"T_82505_level0_row7\" class=\"row_heading level0 row7\" >RegistrationYear</th>\n",
       "                        <td id=\"T_82505_row7_col0\" class=\"data row7 col0\" >0.000000</td>\n",
       "                        <td id=\"T_82505_row7_col1\" class=\"data row7 col1\" >0</td>\n",
       "            </tr>\n",
       "            <tr>\n",
       "                        <th id=\"T_82505_level0_row8\" class=\"row_heading level0 row8\" >Power</th>\n",
       "                        <td id=\"T_82505_row8_col0\" class=\"data row8 col0\" >0.000000</td>\n",
       "                        <td id=\"T_82505_row8_col1\" class=\"data row8 col1\" >0</td>\n",
       "            </tr>\n",
       "            <tr>\n",
       "                        <th id=\"T_82505_level0_row9\" class=\"row_heading level0 row9\" >Kilometer</th>\n",
       "                        <td id=\"T_82505_row9_col0\" class=\"data row9 col0\" >0.000000</td>\n",
       "                        <td id=\"T_82505_row9_col1\" class=\"data row9 col1\" >0</td>\n",
       "            </tr>\n",
       "            <tr>\n",
       "                        <th id=\"T_82505_level0_row10\" class=\"row_heading level0 row10\" >RegistrationMonth</th>\n",
       "                        <td id=\"T_82505_row10_col0\" class=\"data row10 col0\" >0.000000</td>\n",
       "                        <td id=\"T_82505_row10_col1\" class=\"data row10 col1\" >0</td>\n",
       "            </tr>\n",
       "            <tr>\n",
       "                        <th id=\"T_82505_level0_row11\" class=\"row_heading level0 row11\" >Brand</th>\n",
       "                        <td id=\"T_82505_row11_col0\" class=\"data row11 col0\" >0.000000</td>\n",
       "                        <td id=\"T_82505_row11_col1\" class=\"data row11 col1\" >0</td>\n",
       "            </tr>\n",
       "            <tr>\n",
       "                        <th id=\"T_82505_level0_row12\" class=\"row_heading level0 row12\" >DateCreated</th>\n",
       "                        <td id=\"T_82505_row12_col0\" class=\"data row12 col0\" >0.000000</td>\n",
       "                        <td id=\"T_82505_row12_col1\" class=\"data row12 col1\" >0</td>\n",
       "            </tr>\n",
       "            <tr>\n",
       "                        <th id=\"T_82505_level0_row13\" class=\"row_heading level0 row13\" >NumberOfPictures</th>\n",
       "                        <td id=\"T_82505_row13_col0\" class=\"data row13 col0\" >0.000000</td>\n",
       "                        <td id=\"T_82505_row13_col1\" class=\"data row13 col1\" >0</td>\n",
       "            </tr>\n",
       "            <tr>\n",
       "                        <th id=\"T_82505_level0_row14\" class=\"row_heading level0 row14\" >PostalCode</th>\n",
       "                        <td id=\"T_82505_row14_col0\" class=\"data row14 col0\" >0.000000</td>\n",
       "                        <td id=\"T_82505_row14_col1\" class=\"data row14 col1\" >0</td>\n",
       "            </tr>\n",
       "            <tr>\n",
       "                        <th id=\"T_82505_level0_row15\" class=\"row_heading level0 row15\" >LastSeen</th>\n",
       "                        <td id=\"T_82505_row15_col0\" class=\"data row15 col0\" >0.000000</td>\n",
       "                        <td id=\"T_82505_row15_col1\" class=\"data row15 col1\" >0</td>\n",
       "            </tr>\n",
       "    </tbody></table>   "
      ],
      "text/plain": [
       "<IPython.core.display.HTML object>"
      ]
     },
     "metadata": {},
     "output_type": "display_data"
    }
   ],
   "source": [
    "df.name = 'autos'\n",
    "missing_values = pd.concat([df.isnull().mean().to_frame(name='Доля пропусков'),\n",
    "                            df.isnull().sum().to_frame(name='Количество')], axis=1).sort_values(by='Количество',\n",
    "                                                                                                ascending=False)\n",
    "print(\"\\033[1m\" \"Таблица\", df.name, \"\\033[0m\")\n",
    "print(\"Общая информация, info()\", '\\n')\n",
    "display(df.info())\n",
    "print(\"Строк:\", df.shape[0], '\\n' \"Дубликатов:\", df.duplicated().sum())\n",
    "display_tables([df.head(10), df.sample(10, random_state=42), df.tail(10), df.describe(), df.describe(include='object'),\n",
    "                missing_values],\n",
    "               ['Первые 10 строк', 'Произвольные 10 строк',\n",
    "                'Последние 10 строк', 'Статистическая информация числовым признакам',\n",
    "                'Статистическая информация по типам object', 'Пропущенные значения'])"
   ]
  },
  {
   "cell_type": "markdown",
   "metadata": {},
   "source": [
    "***Первые выводы по данным:***\n",
    "- датасет содержит 15 признаков и 1 целевой признак;\n",
    "- из того, что видим, данные за период март-апрель 2016 года;\n",
    "- строк 354369, 4 дубликата;\n",
    "- отсутствует адекватная валидация вводимых значений, пообщаемся по итогам проекта с product-owner'ом и предложим помощь в составлении правил валидации;\n",
    "- предобработка будет масштабной:\n",
    "    - в целевом признаке нет пропусков, но есть нулевые значения, удалим их, чтобы не вредить качеству модели;\n",
    "    - разобраться с пропусками, в `NotRepaired` их 20%;\n",
    "    - нулевые значения есть и в месяце регистрации;\n",
    "    - месяцев регистрации аж 13, от 0 до 12, предположим, что 0 - это \"месяц неизвестен\";\n",
    "    - `FuelType` проблема с языком, потому что одновременно встречаются Petrol и Gasoline; \n",
    "    - фотографий нет ни у кого, что довольно странно, это может быть ошибка при выгрузке или же загрузка фотографий еще не реализована в мобильном приложении;\n",
    "    - некорректные значения в `RegistrationYear`: минимальный год - 1000, максимальный - 9999;\n",
    "    - `RegistrationYear` сам по себе довольно бестолковый признак, который не отражает реальный возраст машины;\n",
    "    - есть машины с мощностью двигателя в 20000 л.с.(сотрудники Koenigsegg плачут и сжигают свой суперкар, а Эдриана Ньюи увольняют из Ред Булл и с проекта \"Валькирия\");\n",
    "    - в базе в основном машины с большим пробегом, больше половины машин датасета имеют пробег в 150 тысяч километров, видимо, это число было максимальным допустимым значением в форме ввода;\n",
    "    - `DateCrawled`, `DateCreated` и `LastSeen` надо перевести в `datetime`;\n",
    "    - посмотреть на `PostalCode`, есть значения, которые кажутся некорректными(1067 и 99998).\n",
    "- подумать все ли поля будут полезными для модели, кажется, что дата регистрации и дата скачивания анкеты не помогут выявить закономерности;"
   ]
  },
  {
   "cell_type": "markdown",
   "metadata": {},
   "source": [
    "## Предобработка"
   ]
  },
  {
   "cell_type": "markdown",
   "metadata": {},
   "source": [
    "Начнем предобработку с целевого признака."
   ]
  },
  {
   "cell_type": "markdown",
   "metadata": {},
   "source": [
    "### Целевой признак"
   ]
  },
  {
   "cell_type": "code",
   "execution_count": 7,
   "metadata": {},
   "outputs": [
    {
     "data": {
      "image/png": "[encoded data removed]",
      "text/plain": [
       "<Figure size 720x720 with 2 Axes>"
      ]
     },
     "metadata": {},
     "output_type": "display_data"
    }
   ],
   "source": [
    "_, axs = plt.subplots(2, 1, figsize=(10, 10), sharex='col')\n",
    "axs = axs.ravel()\n",
    "plt.suptitle('Распределение значений целевого признака Price', fontsize=16)\n",
    "sns.distplot(df.Price, ax=axs[0], color='#BDB5D5')\n",
    "axs[0].set_xlabel('Price', fontsize=15)\n",
    "axs[0].set_ylabel('Density')\n",
    "sns.boxplot(data=df.Price, ax=axs[1], orient='h', color='#BDB5D5')\n",
    "sns.despine() \n",
    "plt.show()"
   ]
  },
  {
   "cell_type": "markdown",
   "metadata": {},
   "source": [
    "У цены, судя по графику, очень много выбросов, большинство значений лежит в диапазоне от нуля до 15 тысяч евро.  \n",
    "Не будем трогать правый хвост, так как даже 20000 евро - это адекватная цена для автомобиля.  \n",
    "Удалим значения, которые меньше 300 евро, выше 300 евро можно предположить, что хотя бы на металлолом купят.  \n",
    "Посчитаем их количество относительно размера датасета и удалим."
   ]
  },
  {
   "cell_type": "code",
   "execution_count": 8,
   "metadata": {},
   "outputs": [
    {
     "data": {
      "text/plain": [
       "0.06536406965620582"
      ]
     },
     "execution_count": 8,
     "metadata": {},
     "output_type": "execute_result"
    }
   ],
   "source": [
    "len(df[df.Price < 300])/len(df)"
   ]
  },
  {
   "cell_type": "code",
   "execution_count": 9,
   "metadata": {},
   "outputs": [
    {
     "data": {
      "text/plain": [
       "(331206, 16)"
      ]
     },
     "execution_count": 9,
     "metadata": {},
     "output_type": "execute_result"
    }
   ],
   "source": [
    "df = df[df.Price >= 300]\n",
    "df.shape"
   ]
  },
  {
   "cell_type": "markdown",
   "metadata": {},
   "source": [
    "- Удалили из базы машины дешевле 300 евро."
   ]
  },
  {
   "cell_type": "markdown",
   "metadata": {},
   "source": [
    "### NumberOfPictures"
   ]
  },
  {
   "cell_type": "markdown",
   "metadata": {},
   "source": [
    "Сразу удалим `NumberOfPictures`, так как фактических данный о фотографиях у нас нет, одни нули."
   ]
  },
  {
   "cell_type": "code",
   "execution_count": 10,
   "metadata": {},
   "outputs": [],
   "source": [
    "df.drop('NumberOfPictures', axis=1, inplace=True)"
   ]
  },
  {
   "cell_type": "code",
   "execution_count": 11,
   "metadata": {},
   "outputs": [
    {
     "data": {
      "text/plain": [
       "(331206, 15)"
      ]
     },
     "execution_count": 11,
     "metadata": {},
     "output_type": "execute_result"
    }
   ],
   "source": [
    "df.shape"
   ]
  },
  {
   "cell_type": "markdown",
   "metadata": {},
   "source": [
    "### Datetime признаки"
   ]
  },
  {
   "cell_type": "markdown",
   "metadata": {},
   "source": [
    "Переведем в datetime."
   ]
  },
  {
   "cell_type": "code",
   "execution_count": 12,
   "metadata": {},
   "outputs": [],
   "source": [
    "date_features = ['DateCrawled', 'DateCreated', 'LastSeen']\n",
    "for i in date_features:\n",
    "    df[i] = pd.to_datetime(df[i], format='%Y-%m-%d')"
   ]
  },
  {
   "cell_type": "code",
   "execution_count": 13,
   "metadata": {},
   "outputs": [
    {
     "data": {
      "text/plain": [
       "DateCrawled    datetime64[ns]\n",
       "DateCreated    datetime64[ns]\n",
       "LastSeen       datetime64[ns]\n",
       "dtype: object"
      ]
     },
     "execution_count": 13,
     "metadata": {},
     "output_type": "execute_result"
    }
   ],
   "source": [
    "df[date_features].dtypes"
   ]
  },
  {
   "cell_type": "code",
   "execution_count": 14,
   "metadata": {},
   "outputs": [
    {
     "data": {
      "text/html": [
       "<div>\n",
       "<style scoped>\n",
       "    .dataframe tbody tr th:only-of-type {\n",
       "        vertical-align: middle;\n",
       "    }\n",
       "\n",
       "    .dataframe tbody tr th {\n",
       "        vertical-align: top;\n",
       "    }\n",
       "\n",
       "    .dataframe thead th {\n",
       "        text-align: right;\n",
       "    }\n",
       "</style>\n",
       "<table border=\"1\" class=\"dataframe\">\n",
       "  <thead>\n",
       "    <tr style=\"text-align: right;\">\n",
       "      <th></th>\n",
       "      <th>DateCrawled</th>\n",
       "      <th>DateCreated</th>\n",
       "      <th>LastSeen</th>\n",
       "    </tr>\n",
       "  </thead>\n",
       "  <tbody>\n",
       "    <tr>\n",
       "      <th>count</th>\n",
       "      <td>331206</td>\n",
       "      <td>331206</td>\n",
       "      <td>331206</td>\n",
       "    </tr>\n",
       "    <tr>\n",
       "      <th>mean</th>\n",
       "      <td>2016-03-21 13:07:22.539241472</td>\n",
       "      <td>2016-03-20 19:15:16.222531840</td>\n",
       "      <td>2016-03-30 02:00:20.520190208</td>\n",
       "    </tr>\n",
       "    <tr>\n",
       "      <th>min</th>\n",
       "      <td>2016-03-05 14:06:23</td>\n",
       "      <td>2014-03-10 00:00:00</td>\n",
       "      <td>2016-03-05 14:15:08</td>\n",
       "    </tr>\n",
       "    <tr>\n",
       "      <th>25%</th>\n",
       "      <td>2016-03-13 11:47:19</td>\n",
       "      <td>2016-03-13 00:00:00</td>\n",
       "      <td>2016-03-23 08:17:00.500000</td>\n",
       "    </tr>\n",
       "    <tr>\n",
       "      <th>50%</th>\n",
       "      <td>2016-03-21 17:54:12</td>\n",
       "      <td>2016-03-21 00:00:00</td>\n",
       "      <td>2016-04-03 19:40:52.500000</td>\n",
       "    </tr>\n",
       "    <tr>\n",
       "      <th>75%</th>\n",
       "      <td>2016-03-29 14:46:55.750000128</td>\n",
       "      <td>2016-03-29 00:00:00</td>\n",
       "      <td>2016-04-06 10:17:19</td>\n",
       "    </tr>\n",
       "    <tr>\n",
       "      <th>max</th>\n",
       "      <td>2016-04-07 14:36:58</td>\n",
       "      <td>2016-04-07 00:00:00</td>\n",
       "      <td>2016-04-07 14:58:51</td>\n",
       "    </tr>\n",
       "  </tbody>\n",
       "</table>\n",
       "</div>"
      ],
      "text/plain": [
       "                         DateCrawled                    DateCreated  \\\n",
       "count                         331206                         331206   \n",
       "mean   2016-03-21 13:07:22.539241472  2016-03-20 19:15:16.222531840   \n",
       "min              2016-03-05 14:06:23            2014-03-10 00:00:00   \n",
       "25%              2016-03-13 11:47:19            2016-03-13 00:00:00   \n",
       "50%              2016-03-21 17:54:12            2016-03-21 00:00:00   \n",
       "75%    2016-03-29 14:46:55.750000128            2016-03-29 00:00:00   \n",
       "max              2016-04-07 14:36:58            2016-04-07 00:00:00   \n",
       "\n",
       "                            LastSeen  \n",
       "count                         331206  \n",
       "mean   2016-03-30 02:00:20.520190208  \n",
       "min              2016-03-05 14:15:08  \n",
       "25%       2016-03-23 08:17:00.500000  \n",
       "50%       2016-04-03 19:40:52.500000  \n",
       "75%              2016-04-06 10:17:19  \n",
       "max              2016-04-07 14:58:51  "
      ]
     },
     "execution_count": 14,
     "metadata": {},
     "output_type": "execute_result"
    }
   ],
   "source": [
    "df[date_features].describe(datetime_is_numeric=True)"
   ]
  },
  {
   "cell_type": "markdown",
   "metadata": {},
   "source": [
    "На первый взгляд все в порядке:\n",
    "- базу формировали месяц с 2016-03-05 по 2016-04-07;\n",
    "- собраны данные по объявлениям с марта 2014 по апрель 2016;\n",
    "- даты удалим из признаков, по которым будем строить модели, но сначала проведем по ним валидацию."
   ]
  },
  {
   "cell_type": "markdown",
   "metadata": {},
   "source": [
    "Проверим, есть ли машины, у которых год регистрации позже, чем дата создания объявления."
   ]
  },
  {
   "cell_type": "code",
   "execution_count": 15,
   "metadata": {
    "scrolled": true
   },
   "outputs": [
    {
     "data": {
      "text/html": [
       "<div>\n",
       "<style scoped>\n",
       "    .dataframe tbody tr th:only-of-type {\n",
       "        vertical-align: middle;\n",
       "    }\n",
       "\n",
       "    .dataframe tbody tr th {\n",
       "        vertical-align: top;\n",
       "    }\n",
       "\n",
       "    .dataframe thead th {\n",
       "        text-align: right;\n",
       "    }\n",
       "</style>\n",
       "<table border=\"1\" class=\"dataframe\">\n",
       "  <thead>\n",
       "    <tr style=\"text-align: right;\">\n",
       "      <th></th>\n",
       "      <th>DateCrawled</th>\n",
       "      <th>Price</th>\n",
       "      <th>VehicleType</th>\n",
       "      <th>RegistrationYear</th>\n",
       "      <th>Gearbox</th>\n",
       "      <th>Power</th>\n",
       "      <th>Model</th>\n",
       "      <th>Kilometer</th>\n",
       "      <th>RegistrationMonth</th>\n",
       "      <th>FuelType</th>\n",
       "      <th>Brand</th>\n",
       "      <th>NotRepaired</th>\n",
       "      <th>DateCreated</th>\n",
       "      <th>PostalCode</th>\n",
       "      <th>LastSeen</th>\n",
       "    </tr>\n",
       "  </thead>\n",
       "  <tbody>\n",
       "    <tr>\n",
       "      <th>22</th>\n",
       "      <td>2016-03-23 14:52:51</td>\n",
       "      <td>2900</td>\n",
       "      <td>NaN</td>\n",
       "      <td>2018</td>\n",
       "      <td>manual</td>\n",
       "      <td>90</td>\n",
       "      <td>meriva</td>\n",
       "      <td>150000</td>\n",
       "      <td>5</td>\n",
       "      <td>petrol</td>\n",
       "      <td>opel</td>\n",
       "      <td>no</td>\n",
       "      <td>2016-03-23</td>\n",
       "      <td>49716</td>\n",
       "      <td>2016-03-31 01:16:33</td>\n",
       "    </tr>\n",
       "    <tr>\n",
       "      <th>26</th>\n",
       "      <td>2016-03-10 19:38:18</td>\n",
       "      <td>5555</td>\n",
       "      <td>NaN</td>\n",
       "      <td>2017</td>\n",
       "      <td>manual</td>\n",
       "      <td>125</td>\n",
       "      <td>c4</td>\n",
       "      <td>125000</td>\n",
       "      <td>4</td>\n",
       "      <td>NaN</td>\n",
       "      <td>citroen</td>\n",
       "      <td>no</td>\n",
       "      <td>2016-03-10</td>\n",
       "      <td>31139</td>\n",
       "      <td>2016-03-16 09:16:46</td>\n",
       "    </tr>\n",
       "    <tr>\n",
       "      <th>48</th>\n",
       "      <td>2016-03-25 14:40:12</td>\n",
       "      <td>7750</td>\n",
       "      <td>NaN</td>\n",
       "      <td>2017</td>\n",
       "      <td>manual</td>\n",
       "      <td>80</td>\n",
       "      <td>golf</td>\n",
       "      <td>100000</td>\n",
       "      <td>1</td>\n",
       "      <td>petrol</td>\n",
       "      <td>volkswagen</td>\n",
       "      <td>NaN</td>\n",
       "      <td>2016-03-25</td>\n",
       "      <td>48499</td>\n",
       "      <td>2016-03-31 21:47:44</td>\n",
       "    </tr>\n",
       "    <tr>\n",
       "      <th>51</th>\n",
       "      <td>2016-03-07 18:57:08</td>\n",
       "      <td>2000</td>\n",
       "      <td>NaN</td>\n",
       "      <td>2017</td>\n",
       "      <td>manual</td>\n",
       "      <td>90</td>\n",
       "      <td>punto</td>\n",
       "      <td>150000</td>\n",
       "      <td>11</td>\n",
       "      <td>gasoline</td>\n",
       "      <td>fiat</td>\n",
       "      <td>yes</td>\n",
       "      <td>2016-03-07</td>\n",
       "      <td>66115</td>\n",
       "      <td>2016-03-07 18:57:08</td>\n",
       "    </tr>\n",
       "    <tr>\n",
       "      <th>57</th>\n",
       "      <td>2016-03-10 20:53:19</td>\n",
       "      <td>2399</td>\n",
       "      <td>NaN</td>\n",
       "      <td>2018</td>\n",
       "      <td>manual</td>\n",
       "      <td>64</td>\n",
       "      <td>other</td>\n",
       "      <td>125000</td>\n",
       "      <td>3</td>\n",
       "      <td>NaN</td>\n",
       "      <td>seat</td>\n",
       "      <td>no</td>\n",
       "      <td>2016-03-10</td>\n",
       "      <td>33397</td>\n",
       "      <td>2016-03-25 10:17:37</td>\n",
       "    </tr>\n",
       "    <tr>\n",
       "      <th>...</th>\n",
       "      <td>...</td>\n",
       "      <td>...</td>\n",
       "      <td>...</td>\n",
       "      <td>...</td>\n",
       "      <td>...</td>\n",
       "      <td>...</td>\n",
       "      <td>...</td>\n",
       "      <td>...</td>\n",
       "      <td>...</td>\n",
       "      <td>...</td>\n",
       "      <td>...</td>\n",
       "      <td>...</td>\n",
       "      <td>...</td>\n",
       "      <td>...</td>\n",
       "      <td>...</td>\n",
       "    </tr>\n",
       "    <tr>\n",
       "      <th>354112</th>\n",
       "      <td>2016-03-11 15:49:51</td>\n",
       "      <td>3600</td>\n",
       "      <td>NaN</td>\n",
       "      <td>2017</td>\n",
       "      <td>manual</td>\n",
       "      <td>86</td>\n",
       "      <td>transit</td>\n",
       "      <td>150000</td>\n",
       "      <td>5</td>\n",
       "      <td>gasoline</td>\n",
       "      <td>ford</td>\n",
       "      <td>NaN</td>\n",
       "      <td>2016-03-11</td>\n",
       "      <td>32339</td>\n",
       "      <td>2016-03-12 05:45:02</td>\n",
       "    </tr>\n",
       "    <tr>\n",
       "      <th>354140</th>\n",
       "      <td>2016-03-29 16:47:29</td>\n",
       "      <td>1000</td>\n",
       "      <td>NaN</td>\n",
       "      <td>2017</td>\n",
       "      <td>manual</td>\n",
       "      <td>101</td>\n",
       "      <td>a4</td>\n",
       "      <td>150000</td>\n",
       "      <td>9</td>\n",
       "      <td>NaN</td>\n",
       "      <td>audi</td>\n",
       "      <td>NaN</td>\n",
       "      <td>2016-03-29</td>\n",
       "      <td>38315</td>\n",
       "      <td>2016-04-06 02:44:27</td>\n",
       "    </tr>\n",
       "    <tr>\n",
       "      <th>354203</th>\n",
       "      <td>2016-03-17 00:56:26</td>\n",
       "      <td>2140</td>\n",
       "      <td>NaN</td>\n",
       "      <td>2018</td>\n",
       "      <td>manual</td>\n",
       "      <td>80</td>\n",
       "      <td>fiesta</td>\n",
       "      <td>150000</td>\n",
       "      <td>6</td>\n",
       "      <td>NaN</td>\n",
       "      <td>ford</td>\n",
       "      <td>no</td>\n",
       "      <td>2016-03-17</td>\n",
       "      <td>44866</td>\n",
       "      <td>2016-03-29 15:45:04</td>\n",
       "    </tr>\n",
       "    <tr>\n",
       "      <th>354253</th>\n",
       "      <td>2016-03-25 09:37:59</td>\n",
       "      <td>1250</td>\n",
       "      <td>NaN</td>\n",
       "      <td>2018</td>\n",
       "      <td>NaN</td>\n",
       "      <td>0</td>\n",
       "      <td>corsa</td>\n",
       "      <td>150000</td>\n",
       "      <td>0</td>\n",
       "      <td>petrol</td>\n",
       "      <td>opel</td>\n",
       "      <td>NaN</td>\n",
       "      <td>2016-03-25</td>\n",
       "      <td>45527</td>\n",
       "      <td>2016-04-06 07:46:13</td>\n",
       "    </tr>\n",
       "    <tr>\n",
       "      <th>354289</th>\n",
       "      <td>2016-03-05 14:55:29</td>\n",
       "      <td>5000</td>\n",
       "      <td>NaN</td>\n",
       "      <td>2017</td>\n",
       "      <td>manual</td>\n",
       "      <td>120</td>\n",
       "      <td>other</td>\n",
       "      <td>150000</td>\n",
       "      <td>7</td>\n",
       "      <td>NaN</td>\n",
       "      <td>citroen</td>\n",
       "      <td>yes</td>\n",
       "      <td>2016-03-05</td>\n",
       "      <td>15518</td>\n",
       "      <td>2016-04-05 11:48:09</td>\n",
       "    </tr>\n",
       "  </tbody>\n",
       "</table>\n",
       "<p>13488 rows × 15 columns</p>\n",
       "</div>"
      ],
      "text/plain": [
       "               DateCrawled  Price VehicleType  RegistrationYear Gearbox  \\\n",
       "22     2016-03-23 14:52:51   2900         NaN              2018  manual   \n",
       "26     2016-03-10 19:38:18   5555         NaN              2017  manual   \n",
       "48     2016-03-25 14:40:12   7750         NaN              2017  manual   \n",
       "51     2016-03-07 18:57:08   2000         NaN              2017  manual   \n",
       "57     2016-03-10 20:53:19   2399         NaN              2018  manual   \n",
       "...                    ...    ...         ...               ...     ...   \n",
       "354112 2016-03-11 15:49:51   3600         NaN              2017  manual   \n",
       "354140 2016-03-29 16:47:29   1000         NaN              2017  manual   \n",
       "354203 2016-03-17 00:56:26   2140         NaN              2018  manual   \n",
       "354253 2016-03-25 09:37:59   1250         NaN              2018     NaN   \n",
       "354289 2016-03-05 14:55:29   5000         NaN              2017  manual   \n",
       "\n",
       "        Power    Model  Kilometer  RegistrationMonth  FuelType       Brand  \\\n",
       "22         90   meriva     150000                  5    petrol        opel   \n",
       "26        125       c4     125000                  4       NaN     citroen   \n",
       "48         80     golf     100000                  1    petrol  volkswagen   \n",
       "51         90    punto     150000                 11  gasoline        fiat   \n",
       "57         64    other     125000                  3       NaN        seat   \n",
       "...       ...      ...        ...                ...       ...         ...   \n",
       "354112     86  transit     150000                  5  gasoline        ford   \n",
       "354140    101       a4     150000                  9       NaN        audi   \n",
       "354203     80   fiesta     150000                  6       NaN        ford   \n",
       "354253      0    corsa     150000                  0    petrol        opel   \n",
       "354289    120    other     150000                  7       NaN     citroen   \n",
       "\n",
       "       NotRepaired DateCreated  PostalCode            LastSeen  \n",
       "22              no  2016-03-23       49716 2016-03-31 01:16:33  \n",
       "26              no  2016-03-10       31139 2016-03-16 09:16:46  \n",
       "48             NaN  2016-03-25       48499 2016-03-31 21:47:44  \n",
       "51             yes  2016-03-07       66115 2016-03-07 18:57:08  \n",
       "57              no  2016-03-10       33397 2016-03-25 10:17:37  \n",
       "...            ...         ...         ...                 ...  \n",
       "354112         NaN  2016-03-11       32339 2016-03-12 05:45:02  \n",
       "354140         NaN  2016-03-29       38315 2016-04-06 02:44:27  \n",
       "354203          no  2016-03-17       44866 2016-03-29 15:45:04  \n",
       "354253         NaN  2016-03-25       45527 2016-04-06 07:46:13  \n",
       "354289         yes  2016-03-05       15518 2016-04-05 11:48:09  \n",
       "\n",
       "[13488 rows x 15 columns]"
      ]
     },
     "execution_count": 15,
     "metadata": {},
     "output_type": "execute_result"
    }
   ],
   "source": [
    "len(df[df.RegistrationYear > df.DateCreated.dt.year])\n",
    "df[df.RegistrationYear > df.DateCreated.dt.year]"
   ]
  },
  {
   "cell_type": "markdown",
   "metadata": {},
   "source": [
    "Проверим, сколько машин старше 1960 года, так как маловероятно, что их будут продавать через приложение."
   ]
  },
  {
   "cell_type": "code",
   "execution_count": 16,
   "metadata": {},
   "outputs": [
    {
     "data": {
      "text/plain": [
       "280"
      ]
     },
     "execution_count": 16,
     "metadata": {},
     "output_type": "execute_result"
    }
   ],
   "source": [
    "len(df[df.RegistrationYear < 1960])"
   ]
  },
  {
   "cell_type": "markdown",
   "metadata": {},
   "source": [
    "Удаляем из базы и проверяем."
   ]
  },
  {
   "cell_type": "code",
   "execution_count": 17,
   "metadata": {},
   "outputs": [
    {
     "data": {
      "text/plain": [
       "(317332, 15)"
      ]
     },
     "execution_count": 17,
     "metadata": {},
     "output_type": "execute_result"
    }
   ],
   "source": [
    "df = df[(df.RegistrationYear <= df.DateCreated.dt.year) & (df.RegistrationYear > 1960)]\n",
    "df.shape"
   ]
  },
  {
   "cell_type": "code",
   "execution_count": 18,
   "metadata": {},
   "outputs": [
    {
     "data": {
      "text/plain": [
       "2016    317306\n",
       "2015        25\n",
       "2014         1\n",
       "Name: DateCreated, dtype: int64"
      ]
     },
     "execution_count": 18,
     "metadata": {},
     "output_type": "execute_result"
    }
   ],
   "source": [
    "df.DateCreated.dt.year.value_counts()"
   ]
  },
  {
   "cell_type": "code",
   "execution_count": 19,
   "metadata": {},
   "outputs": [
    {
     "data": {
      "text/plain": [
       "3     265543\n",
       "4      51322\n",
       "2        380\n",
       "1         63\n",
       "11         9\n",
       "12         9\n",
       "9          3\n",
       "8          2\n",
       "6          1\n",
       "Name: DateCreated, dtype: int64"
      ]
     },
     "execution_count": 19,
     "metadata": {},
     "output_type": "execute_result"
    }
   ],
   "source": [
    "df.DateCreated.dt.month.value_counts()"
   ]
  },
  {
   "cell_type": "markdown",
   "metadata": {},
   "source": [
    "В базе в основном объявления, которые были созданы в феврале-апреле 2016 года.  \n",
    "Маловероятно, что цена будет отличатся внутри этого промежутка.  \n",
    "Удалим из признаков модели. Заодно удалим и `DateCrawled` с `LastSeen`."
   ]
  },
  {
   "cell_type": "code",
   "execution_count": 20,
   "metadata": {},
   "outputs": [],
   "source": [
    "df = df.drop(date_features, axis=1)"
   ]
  },
  {
   "cell_type": "code",
   "execution_count": 21,
   "metadata": {},
   "outputs": [
    {
     "name": "stdout",
     "output_type": "stream",
     "text": [
      "<class 'pandas.core.frame.DataFrame'>\n",
      "Int64Index: 317332 entries, 0 to 354368\n",
      "Data columns (total 12 columns):\n",
      " #   Column             Non-Null Count   Dtype \n",
      "---  ------             --------------   ----- \n",
      " 0   Price              317332 non-null  int64 \n",
      " 1   VehicleType        300972 non-null  object\n",
      " 2   RegistrationYear   317332 non-null  int64 \n",
      " 3   Gearbox            304339 non-null  object\n",
      " 4   Power              317332 non-null  int64 \n",
      " 5   Model              303329 non-null  object\n",
      " 6   Kilometer          317332 non-null  int64 \n",
      " 7   RegistrationMonth  317332 non-null  int64 \n",
      " 8   FuelType           296676 non-null  object\n",
      " 9   Brand              317332 non-null  object\n",
      " 10  NotRepaired        263331 non-null  object\n",
      " 11  PostalCode         317332 non-null  int64 \n",
      "dtypes: int64(6), object(6)\n",
      "memory usage: 31.5+ MB\n"
     ]
    }
   ],
   "source": [
    "df.info()"
   ]
  },
  {
   "cell_type": "markdown",
   "metadata": {},
   "source": [
    "### Категориальные признаки"
   ]
  },
  {
   "cell_type": "code",
   "execution_count": 22,
   "metadata": {
    "scrolled": false
   },
   "outputs": [
    {
     "data": {
      "text/html": [
       "<div>\n",
       "<style scoped>\n",
       "    .dataframe tbody tr th:only-of-type {\n",
       "        vertical-align: middle;\n",
       "    }\n",
       "\n",
       "    .dataframe tbody tr th {\n",
       "        vertical-align: top;\n",
       "    }\n",
       "\n",
       "    .dataframe thead th {\n",
       "        text-align: right;\n",
       "    }\n",
       "</style>\n",
       "<table border=\"1\" class=\"dataframe\">\n",
       "  <thead>\n",
       "    <tr style=\"text-align: right;\">\n",
       "      <th></th>\n",
       "      <th>VehicleType</th>\n",
       "      <th>Gearbox</th>\n",
       "      <th>Model</th>\n",
       "      <th>FuelType</th>\n",
       "      <th>Brand</th>\n",
       "      <th>NotRepaired</th>\n",
       "    </tr>\n",
       "  </thead>\n",
       "  <tbody>\n",
       "    <tr>\n",
       "      <th>count</th>\n",
       "      <td>300972</td>\n",
       "      <td>304339</td>\n",
       "      <td>303329</td>\n",
       "      <td>296676</td>\n",
       "      <td>317332</td>\n",
       "      <td>263331</td>\n",
       "    </tr>\n",
       "    <tr>\n",
       "      <th>unique</th>\n",
       "      <td>8</td>\n",
       "      <td>2</td>\n",
       "      <td>250</td>\n",
       "      <td>7</td>\n",
       "      <td>40</td>\n",
       "      <td>2</td>\n",
       "    </tr>\n",
       "    <tr>\n",
       "      <th>top</th>\n",
       "      <td>sedan</td>\n",
       "      <td>manual</td>\n",
       "      <td>golf</td>\n",
       "      <td>petrol</td>\n",
       "      <td>volkswagen</td>\n",
       "      <td>no</td>\n",
       "    </tr>\n",
       "    <tr>\n",
       "      <th>freq</th>\n",
       "      <td>87562</td>\n",
       "      <td>242013</td>\n",
       "      <td>25820</td>\n",
       "      <td>196394</td>\n",
       "      <td>68304</td>\n",
       "      <td>234246</td>\n",
       "    </tr>\n",
       "  </tbody>\n",
       "</table>\n",
       "</div>"
      ],
      "text/plain": [
       "       VehicleType Gearbox   Model FuelType       Brand NotRepaired\n",
       "count       300972  304339  303329   296676      317332      263331\n",
       "unique           8       2     250        7          40           2\n",
       "top          sedan  manual    golf   petrol  volkswagen          no\n",
       "freq         87562  242013   25820   196394       68304      234246"
      ]
     },
     "execution_count": 22,
     "metadata": {},
     "output_type": "execute_result"
    }
   ],
   "source": [
    "df.describe(include='object')"
   ]
  },
  {
   "cell_type": "markdown",
   "metadata": {},
   "source": [
    "Визуализируем признаки датасета.   \n",
    "Чтобы было красиво и данные поместились, упорядочим каждый признак по убыванию и возьмем только топ-6 значений."
   ]
  },
  {
   "cell_type": "code",
   "execution_count": 23,
   "metadata": {},
   "outputs": [
    {
     "data": {
      "image/png": "[encoded data removed]",
      "text/plain": [
       "<Figure size 1440x1080 with 6 Axes>"
      ]
     },
     "metadata": {},
     "output_type": "display_data"
    }
   ],
   "source": [
    "cat_features_v = df.select_dtypes(include='object').columns\n",
    "fig, axs = plt.subplots(3, 2, figsize=(20, 15))\n",
    "fig.suptitle('Значения категориальных признаков', fontsize=15)\n",
    "axs = axs.ravel()\n",
    "for i, cat in enumerate(cat_features_v):\n",
    "    sns.countplot(x=cat, data=df, ax=axs[i], order=df[cat].value_counts().head(6).index, color='#BDB5D5')\n",
    "    axs[i].set_xlabel('')\n",
    "    axs[i].set_title(cat, fontsize=12)\n",
    "    axs[i].set_ylabel('Count')\n",
    "    axs[i].set_yticks([], [])\n",
    "    sns.despine(left=True)\n",
    "    show_values_on_bars(axs[i])\n",
    "plt.show()"
   ]
  },
  {
   "cell_type": "markdown",
   "metadata": {},
   "source": [
    "Делаем предварительные выводы:\n",
    "- любимая марка Volkswagen;\n",
    "- самый популярный тип кузова sedan, на втором месте small;\n",
    "- модель golf и очень много моделей other;\n",
    "- больше всего машин с ручной коробкой передач;\n",
    "- машины в основном на бензине, проблема с терминами, потому что petrol=gasoline;\n",
    "- преобладают машины, которые не были в ремонте.  \n",
    "\n",
    "Еще раз смотрим на пропуски."
   ]
  },
  {
   "cell_type": "code",
   "execution_count": 24,
   "metadata": {},
   "outputs": [
    {
     "data": {
      "text/html": [
       "<div>\n",
       "<style scoped>\n",
       "    .dataframe tbody tr th:only-of-type {\n",
       "        vertical-align: middle;\n",
       "    }\n",
       "\n",
       "    .dataframe tbody tr th {\n",
       "        vertical-align: top;\n",
       "    }\n",
       "\n",
       "    .dataframe thead th {\n",
       "        text-align: right;\n",
       "    }\n",
       "</style>\n",
       "<table border=\"1\" class=\"dataframe\">\n",
       "  <thead>\n",
       "    <tr style=\"text-align: right;\">\n",
       "      <th></th>\n",
       "      <th>Доля пропусков</th>\n",
       "      <th>Количество</th>\n",
       "    </tr>\n",
       "  </thead>\n",
       "  <tbody>\n",
       "    <tr>\n",
       "      <th>NotRepaired</th>\n",
       "      <td>0.170172</td>\n",
       "      <td>54001</td>\n",
       "    </tr>\n",
       "    <tr>\n",
       "      <th>FuelType</th>\n",
       "      <td>0.065093</td>\n",
       "      <td>20656</td>\n",
       "    </tr>\n",
       "    <tr>\n",
       "      <th>VehicleType</th>\n",
       "      <td>0.051555</td>\n",
       "      <td>16360</td>\n",
       "    </tr>\n",
       "    <tr>\n",
       "      <th>Model</th>\n",
       "      <td>0.044127</td>\n",
       "      <td>14003</td>\n",
       "    </tr>\n",
       "    <tr>\n",
       "      <th>Gearbox</th>\n",
       "      <td>0.040944</td>\n",
       "      <td>12993</td>\n",
       "    </tr>\n",
       "    <tr>\n",
       "      <th>Price</th>\n",
       "      <td>0.000000</td>\n",
       "      <td>0</td>\n",
       "    </tr>\n",
       "    <tr>\n",
       "      <th>RegistrationYear</th>\n",
       "      <td>0.000000</td>\n",
       "      <td>0</td>\n",
       "    </tr>\n",
       "    <tr>\n",
       "      <th>Power</th>\n",
       "      <td>0.000000</td>\n",
       "      <td>0</td>\n",
       "    </tr>\n",
       "    <tr>\n",
       "      <th>Kilometer</th>\n",
       "      <td>0.000000</td>\n",
       "      <td>0</td>\n",
       "    </tr>\n",
       "    <tr>\n",
       "      <th>RegistrationMonth</th>\n",
       "      <td>0.000000</td>\n",
       "      <td>0</td>\n",
       "    </tr>\n",
       "    <tr>\n",
       "      <th>Brand</th>\n",
       "      <td>0.000000</td>\n",
       "      <td>0</td>\n",
       "    </tr>\n",
       "    <tr>\n",
       "      <th>PostalCode</th>\n",
       "      <td>0.000000</td>\n",
       "      <td>0</td>\n",
       "    </tr>\n",
       "  </tbody>\n",
       "</table>\n",
       "</div>"
      ],
      "text/plain": [
       "                   Доля пропусков  Количество\n",
       "NotRepaired              0.170172       54001\n",
       "FuelType                 0.065093       20656\n",
       "VehicleType              0.051555       16360\n",
       "Model                    0.044127       14003\n",
       "Gearbox                  0.040944       12993\n",
       "Price                    0.000000           0\n",
       "RegistrationYear         0.000000           0\n",
       "Power                    0.000000           0\n",
       "Kilometer                0.000000           0\n",
       "RegistrationMonth        0.000000           0\n",
       "Brand                    0.000000           0\n",
       "PostalCode               0.000000           0"
      ]
     },
     "execution_count": 24,
     "metadata": {},
     "output_type": "execute_result"
    }
   ],
   "source": [
    "pd.concat([df.isnull().mean().to_frame(name='Доля пропусков'),\n",
    "           df.isnull().sum().to_frame(name='Количество')], axis=1).sort_values(by='Количество', ascending=False)"
   ]
  },
  {
   "cell_type": "markdown",
   "metadata": {},
   "source": [
    "Надо решить, что делать с NotRepaired, FuelType, VehicleType, Model\tи Gearbox."
   ]
  },
  {
   "cell_type": "markdown",
   "metadata": {},
   "source": [
    "#### Model"
   ]
  },
  {
   "cell_type": "markdown",
   "metadata": {},
   "source": [
    "Пропуски по модели логичнее всего удалить."
   ]
  },
  {
   "cell_type": "code",
   "execution_count": 25,
   "metadata": {},
   "outputs": [],
   "source": [
    "df = df.loc[~df['Model'].isna()]"
   ]
  },
  {
   "cell_type": "markdown",
   "metadata": {},
   "source": [
    "#### FuelType"
   ]
  },
  {
   "cell_type": "markdown",
   "metadata": {},
   "source": [
    "Перепишем gasoline в petrol, а пропуски заполним по самому частому значению связки `Brand`и `Model`."
   ]
  },
  {
   "cell_type": "code",
   "execution_count": 26,
   "metadata": {},
   "outputs": [],
   "source": [
    "df.loc[df['FuelType']=='gasoline', 'FuelType'] = 'petrol'"
   ]
  },
  {
   "cell_type": "code",
   "execution_count": 27,
   "metadata": {},
   "outputs": [],
   "source": [
    "df['FuelType'] = df['FuelType'].fillna(df.groupby(['Brand', 'Model'])['FuelType']\n",
    "                                       .transform(lambda x: x.value_counts().idxmax()))"
   ]
  },
  {
   "cell_type": "markdown",
   "metadata": {},
   "source": [
    "#### VehicleType и Gearbox"
   ]
  },
  {
   "cell_type": "markdown",
   "metadata": {},
   "source": [
    "Таким же способом заполним `VehicleType` и `Gearbox`."
   ]
  },
  {
   "cell_type": "code",
   "execution_count": 28,
   "metadata": {},
   "outputs": [],
   "source": [
    "df['VehicleType'] = df['VehicleType'].fillna(df.groupby(['Brand', 'Model'])['VehicleType']\n",
    "                                             .transform(lambda x: x.value_counts().idxmax()))"
   ]
  },
  {
   "cell_type": "code",
   "execution_count": 29,
   "metadata": {},
   "outputs": [],
   "source": [
    "df['Gearbox'] = df['Gearbox'].fillna(df.groupby(['Brand', 'Model'])['Gearbox']\n",
    "                                     .transform(lambda x: x.value_counts().idxmax()))"
   ]
  },
  {
   "cell_type": "markdown",
   "metadata": {},
   "source": [
    "#### NotRepaired"
   ]
  },
  {
   "cell_type": "markdown",
   "metadata": {},
   "source": [
    "Запишем пропущенные значения в неизвестные."
   ]
  },
  {
   "cell_type": "code",
   "execution_count": 30,
   "metadata": {},
   "outputs": [],
   "source": [
    "df['NotRepaired'].fillna('unknown', inplace=True)"
   ]
  },
  {
   "cell_type": "markdown",
   "metadata": {},
   "source": [
    "Для перестаховки еще раз посмотрим на статистику и графики."
   ]
  },
  {
   "cell_type": "code",
   "execution_count": 31,
   "metadata": {},
   "outputs": [
    {
     "data": {
      "text/html": [
       "<div>\n",
       "<style scoped>\n",
       "    .dataframe tbody tr th:only-of-type {\n",
       "        vertical-align: middle;\n",
       "    }\n",
       "\n",
       "    .dataframe tbody tr th {\n",
       "        vertical-align: top;\n",
       "    }\n",
       "\n",
       "    .dataframe thead th {\n",
       "        text-align: right;\n",
       "    }\n",
       "</style>\n",
       "<table border=\"1\" class=\"dataframe\">\n",
       "  <thead>\n",
       "    <tr style=\"text-align: right;\">\n",
       "      <th></th>\n",
       "      <th>VehicleType</th>\n",
       "      <th>Gearbox</th>\n",
       "      <th>Model</th>\n",
       "      <th>FuelType</th>\n",
       "      <th>Brand</th>\n",
       "      <th>NotRepaired</th>\n",
       "    </tr>\n",
       "  </thead>\n",
       "  <tbody>\n",
       "    <tr>\n",
       "      <th>count</th>\n",
       "      <td>303329</td>\n",
       "      <td>303329</td>\n",
       "      <td>303329</td>\n",
       "      <td>303329</td>\n",
       "      <td>303329</td>\n",
       "      <td>303329</td>\n",
       "    </tr>\n",
       "    <tr>\n",
       "      <th>unique</th>\n",
       "      <td>8</td>\n",
       "      <td>2</td>\n",
       "      <td>250</td>\n",
       "      <td>6</td>\n",
       "      <td>39</td>\n",
       "      <td>3</td>\n",
       "    </tr>\n",
       "    <tr>\n",
       "      <th>top</th>\n",
       "      <td>sedan</td>\n",
       "      <td>manual</td>\n",
       "      <td>golf</td>\n",
       "      <td>petrol</td>\n",
       "      <td>volkswagen</td>\n",
       "      <td>no</td>\n",
       "    </tr>\n",
       "    <tr>\n",
       "      <th>freq</th>\n",
       "      <td>90486</td>\n",
       "      <td>242115</td>\n",
       "      <td>25820</td>\n",
       "      <td>297795</td>\n",
       "      <td>65810</td>\n",
       "      <td>227515</td>\n",
       "    </tr>\n",
       "  </tbody>\n",
       "</table>\n",
       "</div>"
      ],
      "text/plain": [
       "       VehicleType Gearbox   Model FuelType       Brand NotRepaired\n",
       "count       303329  303329  303329   303329      303329      303329\n",
       "unique           8       2     250        6          39           3\n",
       "top          sedan  manual    golf   petrol  volkswagen          no\n",
       "freq         90486  242115   25820   297795       65810      227515"
      ]
     },
     "execution_count": 31,
     "metadata": {},
     "output_type": "execute_result"
    }
   ],
   "source": [
    "df.describe(include='object')"
   ]
  },
  {
   "cell_type": "code",
   "execution_count": 32,
   "metadata": {},
   "outputs": [
    {
     "data": {
      "image/png": "[encoded data removed]",
      "text/plain": [
       "<Figure size 1440x1080 with 6 Axes>"
      ]
     },
     "metadata": {},
     "output_type": "display_data"
    }
   ],
   "source": [
    "fig, axs = plt.subplots(3, 2, figsize=(20, 15))\n",
    "fig.suptitle('Значения категориальных признаков после обработки', fontsize=15)\n",
    "axs = axs.ravel()\n",
    "for i, cat in enumerate(cat_features_v):\n",
    "    sns.countplot(x=cat, data=df, ax=axs[i], order=df[cat].value_counts().head(6).index, color='#BDB5D5')\n",
    "    axs[i].set_xlabel('')\n",
    "    axs[i].set_title(cat, fontsize=12)\n",
    "    axs[i].set_ylabel('Count')\n",
    "    axs[i].set_yticks([], [])\n",
    "    sns.despine(left=True)\n",
    "    show_values_on_bars(axs[i])\n",
    "plt.show()"
   ]
  },
  {
   "cell_type": "markdown",
   "metadata": {},
   "source": [
    "Обработка выглядит корректной, переходим к численным признакам.  \n",
    "Можно еще подумать над удалением `FuelType` из признаков модели, т.к. небензиновых машин очень мало."
   ]
  },
  {
   "cell_type": "markdown",
   "metadata": {},
   "source": [
    "### Численные признаки"
   ]
  },
  {
   "cell_type": "code",
   "execution_count": 33,
   "metadata": {},
   "outputs": [
    {
     "data": {
      "image/png": "[encoded data removed]",
      "text/plain": [
       "<Figure size 1080x360 with 2 Axes>"
      ]
     },
     "metadata": {},
     "output_type": "display_data"
    }
   ],
   "source": [
    "num_features = ['Power', 'Kilometer']\n",
    "fig, axs = plt.subplots(1, 2, figsize=(15, 5))\n",
    "fig.suptitle('Распределение значений численных признаков', fontsize=16)\n",
    "axs = axs.ravel()\n",
    "for i, num in enumerate(num_features):\n",
    "    sns.distplot(df[num], ax=axs[i], color='#BDB5D5')\n",
    "    axs[i].set_xlabel(num, fontsize=15)\n",
    "    axs[i].set_ylabel('Density')\n",
    "    sns.despine() \n",
    "plt.show()"
   ]
  },
  {
   "cell_type": "markdown",
   "metadata": {},
   "source": [
    "- Мощность двигателя страдает от выбросов, проверим и удалим значения больше 500 л.с., судя по цене, в нашей базе нет спорткаров;\n",
    "- Километры вызывают вопросы, особенно их пик, но мы ранее предположили, что это из-за того, что есть ограничение максимального пробега;"
   ]
  },
  {
   "cell_type": "markdown",
   "metadata": {},
   "source": [
    "#### Power"
   ]
  },
  {
   "cell_type": "markdown",
   "metadata": {},
   "source": [
    "Считаем сколько машин мощнее 500 л.с."
   ]
  },
  {
   "cell_type": "code",
   "execution_count": 34,
   "metadata": {
    "scrolled": true
   },
   "outputs": [
    {
     "data": {
      "text/html": [
       "<div>\n",
       "<style scoped>\n",
       "    .dataframe tbody tr th:only-of-type {\n",
       "        vertical-align: middle;\n",
       "    }\n",
       "\n",
       "    .dataframe tbody tr th {\n",
       "        vertical-align: top;\n",
       "    }\n",
       "\n",
       "    .dataframe thead th {\n",
       "        text-align: right;\n",
       "    }\n",
       "</style>\n",
       "<table border=\"1\" class=\"dataframe\">\n",
       "  <thead>\n",
       "    <tr style=\"text-align: right;\">\n",
       "      <th></th>\n",
       "      <th>Price</th>\n",
       "      <th>VehicleType</th>\n",
       "      <th>RegistrationYear</th>\n",
       "      <th>Gearbox</th>\n",
       "      <th>Power</th>\n",
       "      <th>Model</th>\n",
       "      <th>Kilometer</th>\n",
       "      <th>RegistrationMonth</th>\n",
       "      <th>FuelType</th>\n",
       "      <th>Brand</th>\n",
       "      <th>NotRepaired</th>\n",
       "      <th>PostalCode</th>\n",
       "    </tr>\n",
       "  </thead>\n",
       "  <tbody>\n",
       "    <tr>\n",
       "      <th>1816</th>\n",
       "      <td>3200</td>\n",
       "      <td>small</td>\n",
       "      <td>2004</td>\n",
       "      <td>manual</td>\n",
       "      <td>1398</td>\n",
       "      <td>corolla</td>\n",
       "      <td>5000</td>\n",
       "      <td>6</td>\n",
       "      <td>petrol</td>\n",
       "      <td>toyota</td>\n",
       "      <td>no</td>\n",
       "      <td>22043</td>\n",
       "    </tr>\n",
       "    <tr>\n",
       "      <th>4060</th>\n",
       "      <td>3100</td>\n",
       "      <td>sedan</td>\n",
       "      <td>2005</td>\n",
       "      <td>manual</td>\n",
       "      <td>953</td>\n",
       "      <td>colt</td>\n",
       "      <td>150000</td>\n",
       "      <td>4</td>\n",
       "      <td>petrol</td>\n",
       "      <td>mitsubishi</td>\n",
       "      <td>no</td>\n",
       "      <td>60326</td>\n",
       "    </tr>\n",
       "    <tr>\n",
       "      <th>5328</th>\n",
       "      <td>500</td>\n",
       "      <td>wagon</td>\n",
       "      <td>1999</td>\n",
       "      <td>manual</td>\n",
       "      <td>1001</td>\n",
       "      <td>astra</td>\n",
       "      <td>150000</td>\n",
       "      <td>7</td>\n",
       "      <td>petrol</td>\n",
       "      <td>opel</td>\n",
       "      <td>unknown</td>\n",
       "      <td>33154</td>\n",
       "    </tr>\n",
       "    <tr>\n",
       "      <th>6296</th>\n",
       "      <td>599</td>\n",
       "      <td>small</td>\n",
       "      <td>2002</td>\n",
       "      <td>manual</td>\n",
       "      <td>603</td>\n",
       "      <td>matiz</td>\n",
       "      <td>5000</td>\n",
       "      <td>11</td>\n",
       "      <td>petrol</td>\n",
       "      <td>chevrolet</td>\n",
       "      <td>yes</td>\n",
       "      <td>44379</td>\n",
       "    </tr>\n",
       "    <tr>\n",
       "      <th>6504</th>\n",
       "      <td>3000</td>\n",
       "      <td>small</td>\n",
       "      <td>2009</td>\n",
       "      <td>manual</td>\n",
       "      <td>771</td>\n",
       "      <td>punto</td>\n",
       "      <td>125000</td>\n",
       "      <td>0</td>\n",
       "      <td>petrol</td>\n",
       "      <td>fiat</td>\n",
       "      <td>unknown</td>\n",
       "      <td>40721</td>\n",
       "    </tr>\n",
       "    <tr>\n",
       "      <th>...</th>\n",
       "      <td>...</td>\n",
       "      <td>...</td>\n",
       "      <td>...</td>\n",
       "      <td>...</td>\n",
       "      <td>...</td>\n",
       "      <td>...</td>\n",
       "      <td>...</td>\n",
       "      <td>...</td>\n",
       "      <td>...</td>\n",
       "      <td>...</td>\n",
       "      <td>...</td>\n",
       "      <td>...</td>\n",
       "    </tr>\n",
       "    <tr>\n",
       "      <th>348668</th>\n",
       "      <td>1000</td>\n",
       "      <td>wagon</td>\n",
       "      <td>1996</td>\n",
       "      <td>manual</td>\n",
       "      <td>2598</td>\n",
       "      <td>a6</td>\n",
       "      <td>150000</td>\n",
       "      <td>7</td>\n",
       "      <td>petrol</td>\n",
       "      <td>audi</td>\n",
       "      <td>unknown</td>\n",
       "      <td>7646</td>\n",
       "    </tr>\n",
       "    <tr>\n",
       "      <th>348883</th>\n",
       "      <td>7500</td>\n",
       "      <td>sedan</td>\n",
       "      <td>2011</td>\n",
       "      <td>manual</td>\n",
       "      <td>1548</td>\n",
       "      <td>scenic</td>\n",
       "      <td>90000</td>\n",
       "      <td>4</td>\n",
       "      <td>petrol</td>\n",
       "      <td>renault</td>\n",
       "      <td>unknown</td>\n",
       "      <td>24568</td>\n",
       "    </tr>\n",
       "    <tr>\n",
       "      <th>351947</th>\n",
       "      <td>1500</td>\n",
       "      <td>bus</td>\n",
       "      <td>2001</td>\n",
       "      <td>manual</td>\n",
       "      <td>1001</td>\n",
       "      <td>zafira</td>\n",
       "      <td>5000</td>\n",
       "      <td>7</td>\n",
       "      <td>petrol</td>\n",
       "      <td>opel</td>\n",
       "      <td>no</td>\n",
       "      <td>66117</td>\n",
       "    </tr>\n",
       "    <tr>\n",
       "      <th>353633</th>\n",
       "      <td>2400</td>\n",
       "      <td>sedan</td>\n",
       "      <td>2007</td>\n",
       "      <td>manual</td>\n",
       "      <td>650</td>\n",
       "      <td>c2</td>\n",
       "      <td>150000</td>\n",
       "      <td>8</td>\n",
       "      <td>petrol</td>\n",
       "      <td>citroen</td>\n",
       "      <td>unknown</td>\n",
       "      <td>45277</td>\n",
       "    </tr>\n",
       "    <tr>\n",
       "      <th>354260</th>\n",
       "      <td>399</td>\n",
       "      <td>other</td>\n",
       "      <td>1994</td>\n",
       "      <td>manual</td>\n",
       "      <td>1103</td>\n",
       "      <td>3er</td>\n",
       "      <td>150000</td>\n",
       "      <td>0</td>\n",
       "      <td>petrol</td>\n",
       "      <td>bmw</td>\n",
       "      <td>unknown</td>\n",
       "      <td>56235</td>\n",
       "    </tr>\n",
       "  </tbody>\n",
       "</table>\n",
       "<p>333 rows × 12 columns</p>\n",
       "</div>"
      ],
      "text/plain": [
       "        Price VehicleType  RegistrationYear Gearbox  Power    Model  \\\n",
       "1816     3200       small              2004  manual   1398  corolla   \n",
       "4060     3100       sedan              2005  manual    953     colt   \n",
       "5328      500       wagon              1999  manual   1001    astra   \n",
       "6296      599       small              2002  manual    603    matiz   \n",
       "6504     3000       small              2009  manual    771    punto   \n",
       "...       ...         ...               ...     ...    ...      ...   \n",
       "348668   1000       wagon              1996  manual   2598       a6   \n",
       "348883   7500       sedan              2011  manual   1548   scenic   \n",
       "351947   1500         bus              2001  manual   1001   zafira   \n",
       "353633   2400       sedan              2007  manual    650       c2   \n",
       "354260    399       other              1994  manual   1103      3er   \n",
       "\n",
       "        Kilometer  RegistrationMonth FuelType       Brand NotRepaired  \\\n",
       "1816         5000                  6   petrol      toyota          no   \n",
       "4060       150000                  4   petrol  mitsubishi          no   \n",
       "5328       150000                  7   petrol        opel     unknown   \n",
       "6296         5000                 11   petrol   chevrolet         yes   \n",
       "6504       125000                  0   petrol        fiat     unknown   \n",
       "...           ...                ...      ...         ...         ...   \n",
       "348668     150000                  7   petrol        audi     unknown   \n",
       "348883      90000                  4   petrol     renault     unknown   \n",
       "351947       5000                  7   petrol        opel          no   \n",
       "353633     150000                  8   petrol     citroen     unknown   \n",
       "354260     150000                  0   petrol         bmw     unknown   \n",
       "\n",
       "        PostalCode  \n",
       "1816         22043  \n",
       "4060         60326  \n",
       "5328         33154  \n",
       "6296         44379  \n",
       "6504         40721  \n",
       "...            ...  \n",
       "348668        7646  \n",
       "348883       24568  \n",
       "351947       66117  \n",
       "353633       45277  \n",
       "354260       56235  \n",
       "\n",
       "[333 rows x 12 columns]"
      ]
     },
     "execution_count": 34,
     "metadata": {},
     "output_type": "execute_result"
    }
   ],
   "source": [
    "df[df.Power > 500]"
   ]
  },
  {
   "cell_type": "markdown",
   "metadata": {},
   "source": [
    "Удалим из из выборки."
   ]
  },
  {
   "cell_type": "code",
   "execution_count": 35,
   "metadata": {},
   "outputs": [],
   "source": [
    "df = df[df.Power <= 500]"
   ]
  },
  {
   "cell_type": "markdown",
   "metadata": {},
   "source": [
    "Разбираемся с нулевыми значениями."
   ]
  },
  {
   "cell_type": "code",
   "execution_count": 36,
   "metadata": {},
   "outputs": [
    {
     "name": "stdout",
     "output_type": "stream",
     "text": [
      "Авто с нулевой мощностью: 24945\n"
     ]
    },
    {
     "data": {
      "text/plain": [
       "volkswagen       5272\n",
       "opel             3078\n",
       "mercedes_benz    2545\n",
       "ford             1971\n",
       "bmw              1911\n",
       "renault          1861\n",
       "audi             1653\n",
       "fiat              868\n",
       "peugeot           702\n",
       "nissan            457\n",
       "citroen           418\n",
       "mazda             397\n",
       "smart             391\n",
       "seat              384\n",
       "toyota            339\n",
       "Name: Brand, dtype: int64"
      ]
     },
     "execution_count": 36,
     "metadata": {},
     "output_type": "execute_result"
    }
   ],
   "source": [
    "print('Авто с нулевой мощностью:', len(df[df.Power == 0]))\n",
    "df[df.Power == 0].Brand.value_counts().head(15)"
   ]
  },
  {
   "cell_type": "markdown",
   "metadata": {},
   "source": [
    "Машин много, они разных марок, предположим, что это автомобили без двигателя, которые продаются на запчасти.  \n",
    "Не будем их удалять из базы."
   ]
  },
  {
   "cell_type": "markdown",
   "metadata": {},
   "source": [
    "#### Kilometer"
   ]
  },
  {
   "cell_type": "markdown",
   "metadata": {},
   "source": [
    "Смотрим на аномальное значение в километрах, посчитаем, сколько машин разного года регистрации с таким пробегом."
   ]
  },
  {
   "cell_type": "code",
   "execution_count": 37,
   "metadata": {},
   "outputs": [
    {
     "data": {
      "text/plain": [
       "1999    16956\n",
       "2000    16398\n",
       "2001    15012\n",
       "2003    14570\n",
       "2005    14410\n",
       "2004    14200\n",
       "2002    14195\n",
       "1998    12752\n",
       "2006    12681\n",
       "1997    10061\n",
       "2007     9955\n",
       "1996     7385\n",
       "2008     7354\n",
       "1995     5687\n",
       "2016     5311\n",
       "Name: RegistrationYear, dtype: int64"
      ]
     },
     "execution_count": 37,
     "metadata": {},
     "output_type": "execute_result"
    }
   ],
   "source": [
    "df[df.Kilometer == 150000].RegistrationYear.value_counts().head(15)"
   ]
  },
  {
   "cell_type": "markdown",
   "metadata": {},
   "source": [
    "Похоже на правду, машины довольно старые. \n",
    "Вызывают сомнения только машины 2016 года, но так как у нас дата регистрации, а не дата выпуска, то считаем, что это нормой. У машины мог смениться владелец."
   ]
  },
  {
   "cell_type": "markdown",
   "metadata": {},
   "source": [
    "#### PostalCode и RegistrationMonth"
   ]
  },
  {
   "cell_type": "markdown",
   "metadata": {},
   "source": [
    "Сомнительно, что оба этих признака могут существенно влиять на цену автомобиля.  \n",
    "Возможно, из PostalCode что-то можно вытянуть, например, страну продажи. Но это требует отдельной длительной предобработки за рамками текущего проекта.  \n",
    "Поэтому удаляем."
   ]
  },
  {
   "cell_type": "code",
   "execution_count": 38,
   "metadata": {},
   "outputs": [],
   "source": [
    "df = df.drop(['PostalCode', 'RegistrationMonth'], axis=1)"
   ]
  },
  {
   "cell_type": "markdown",
   "metadata": {},
   "source": [
    "### Подготовка к обучению"
   ]
  },
  {
   "cell_type": "markdown",
   "metadata": {},
   "source": [
    "Переведем `object` в `category`."
   ]
  },
  {
   "cell_type": "code",
   "execution_count": 39,
   "metadata": {},
   "outputs": [],
   "source": [
    "cols_cat = df.select_dtypes(include='object').columns\n",
    "for col in cols_cat:\n",
    "    df[col] = df[col].astype('category')"
   ]
  },
  {
   "cell_type": "markdown",
   "metadata": {},
   "source": [
    "Построим матрицу корреляции, чтобы оценить влияние численных признаков на целевой."
   ]
  },
  {
   "cell_type": "code",
   "execution_count": 40,
   "metadata": {},
   "outputs": [
    {
     "data": {
      "image/png": "[encoded data removed]",
      "text/plain": [
       "<Figure size 432x432 with 1 Axes>"
      ]
     },
     "metadata": {},
     "output_type": "display_data"
    }
   ],
   "source": [
    "fig, ax = plt.subplots(figsize=(6, 6))\n",
    "fig.suptitle('Матрица корреляции', fontsize=12)\n",
    "sns.heatmap(df.corr(), cmap='Purples', linewidths=.2, cbar=False, annot=True, ax=ax)\n",
    "plt.show()"
   ]
  },
  {
   "cell_type": "markdown",
   "metadata": {},
   "source": [
    "Коэффициенты корреляции кажутся логичными, аномалий нет:\n",
    "- больше километраж = меньше цена;\n",
    "- больше л.с. = выше цена;\n",
    "- новые автомобиле дороже старых;\n",
    "- у старых автомобилей больше пробег."
   ]
  },
  {
   "cell_type": "markdown",
   "metadata": {},
   "source": [
    "Итоговая перепроверка."
   ]
  },
  {
   "cell_type": "code",
   "execution_count": 41,
   "metadata": {},
   "outputs": [
    {
     "name": "stdout",
     "output_type": "stream",
     "text": [
      "<class 'pandas.core.frame.DataFrame'>\n",
      "Int64Index: 302996 entries, 0 to 354368\n",
      "Data columns (total 10 columns):\n",
      " #   Column            Non-Null Count   Dtype   \n",
      "---  ------            --------------   -----   \n",
      " 0   Price             302996 non-null  int64   \n",
      " 1   VehicleType       302996 non-null  category\n",
      " 2   RegistrationYear  302996 non-null  int64   \n",
      " 3   Gearbox           302996 non-null  category\n",
      " 4   Power             302996 non-null  int64   \n",
      " 5   Model             302996 non-null  category\n",
      " 6   Kilometer         302996 non-null  int64   \n",
      " 7   FuelType          302996 non-null  category\n",
      " 8   Brand             302996 non-null  category\n",
      " 9   NotRepaired       302996 non-null  category\n",
      "dtypes: category(6), int64(4)\n",
      "memory usage: 13.6 MB\n"
     ]
    }
   ],
   "source": [
    "df.info()"
   ]
  },
  {
   "cell_type": "markdown",
   "metadata": {},
   "source": [
    "Воспользуемся `pd.get_dummies`, чтоб подготовить категориальные признаки для линейных и деревянных моделей."
   ]
  },
  {
   "cell_type": "code",
   "execution_count": 42,
   "metadata": {
    "scrolled": true
   },
   "outputs": [
    {
     "name": "stdout",
     "output_type": "stream",
     "text": [
      "Размеры датасета после кодирования: (302996, 306)\n"
     ]
    }
   ],
   "source": [
    "categorical_features = df.select_dtypes(include='category').columns\n",
    "df_ohe = pd.get_dummies(df, drop_first=True)\n",
    "print('Размеры датасета после кодирования:', df_ohe.shape)"
   ]
  },
  {
   "cell_type": "markdown",
   "metadata": {},
   "source": [
    "Многовато, но некритично."
   ]
  },
  {
   "cell_type": "markdown",
   "metadata": {},
   "source": [
    "Делим на обучающую и тестовую выборки, у нас будет 2 набора: с кодированием категорий и без.  "
   ]
  },
  {
   "cell_type": "code",
   "execution_count": 43,
   "metadata": {},
   "outputs": [],
   "source": [
    "X_ohe = df_ohe.drop('Price', axis=1)\n",
    "y_ohe = df_ohe['Price']\n",
    "\n",
    "X_train_ohe, X_test_ohe, y_train_ohe, y_test_ohe = train_test_split(X_ohe, y_ohe, test_size=0.2,\n",
    "                                                                    random_state=42)\n",
    "\n",
    "X = df.drop('Price', axis=1)\n",
    "y = df['Price']\n",
    "\n",
    "X_train, X_test, y_train, y_test = train_test_split(X, y, test_size=0.2, random_state=42)"
   ]
  },
  {
   "cell_type": "markdown",
   "metadata": {},
   "source": [
    "Масштабируем численные признаки."
   ]
  },
  {
   "cell_type": "code",
   "execution_count": 44,
   "metadata": {},
   "outputs": [],
   "source": [
    "numeric_features = ['Power', 'Kilometer', 'RegistrationYear']\n",
    "\n",
    "scaler = StandardScaler()\n",
    "X_train[numeric_features] = scaler.fit_transform(X_train[numeric_features])\n",
    "X_test[numeric_features] = scaler.transform(X_test[numeric_features])\n",
    "\n",
    "scaler_ohe = StandardScaler()\n",
    "X_train_ohe[numeric_features] = scaler_ohe.fit_transform(X_train_ohe[numeric_features])\n",
    "X_test_ohe[numeric_features] = scaler_ohe.transform(X_test_ohe[numeric_features])"
   ]
  },
  {
   "cell_type": "markdown",
   "metadata": {},
   "source": [
    "## Обучение моделей"
   ]
  },
  {
   "cell_type": "markdown",
   "metadata": {},
   "source": [
    "Для начала создадим таблицу для результатов."
   ]
  },
  {
   "cell_type": "code",
   "execution_count": 45,
   "metadata": {},
   "outputs": [],
   "source": [
    "cols = ['model_name', 'params', 'fit_time', 'predict_time', 'rmse']\n",
    "model_metrics = pd.DataFrame(columns = cols)"
   ]
  },
  {
   "cell_type": "markdown",
   "metadata": {},
   "source": [
    "### DummyRegressor, Ridge"
   ]
  },
  {
   "cell_type": "code",
   "execution_count": 46,
   "metadata": {},
   "outputs": [],
   "source": [
    "models = [DummyRegressor(strategy='median'), Ridge(random_state=42), \n",
    "          Ridge(alpha=0.1, solver='cholesky', random_state=42), Ridge(alpha=0.01, solver='cholesky', random_state=42)]\n",
    "for model in models:\n",
    "    start = time.time()\n",
    "    model.fit(X_train_ohe, y_train_ohe)\n",
    "    end = time.time()\n",
    "    fit_time = end - start\n",
    "    start = time.time()\n",
    "    y_pred = model.predict(X_test_ohe)\n",
    "    end = time.time()\n",
    "    predict_time = end - start\n",
    "    rmse = np.sqrt(mean_squared_error(y_test_ohe, y_pred))\n",
    "    model_metrics.loc[len(model_metrics)] = [model.__class__.__name__, model.get_params(deep=False), \n",
    "                                             fit_time, predict_time, rmse]"
   ]
  },
  {
   "cell_type": "markdown",
   "metadata": {},
   "source": [
    "### LGBMRegressor и CatBoostRegressor"
   ]
  },
  {
   "cell_type": "code",
   "execution_count": 47,
   "metadata": {},
   "outputs": [],
   "source": [
    "model = LGBMRegressor(metric='rmse', random_state=42)\n",
    "\n",
    "grid_params = {'learning_rate': [0.4, 0.5],\n",
    "              'max_depth': [10, 20]}"
   ]
  },
  {
   "cell_type": "code",
   "execution_count": 48,
   "metadata": {},
   "outputs": [],
   "source": [
    "grid = GridSearchCV(model, grid_params, cv=3, scoring='neg_mean_squared_error', n_jobs=-1)\n",
    "grid.fit(X_train, y_train)\n",
    "start = time.time()\n",
    "grid.best_estimator_.fit(X_train, y_train)\n",
    "end = time.time()\n",
    "fit_time = end - start\n",
    "start = time.time()\n",
    "y_pred = grid.best_estimator_.predict(X_test)\n",
    "end = time.time()\n",
    "predict_time = end - start\n",
    "rmse = np.sqrt(mean_squared_error(y_test_ohe, y_pred))\n",
    "model_metrics.loc[len(model_metrics)] = [model.__class__.__name__, grid.best_estimator_.get_params(deep=False),\n",
    "                                         fit_time, predict_time, rmse]"
   ]
  },
  {
   "cell_type": "code",
   "execution_count": 49,
   "metadata": {},
   "outputs": [],
   "source": [
    "models = [CatBoostRegressor(cat_features=categorical_features, loss_function='RMSE',\n",
    "                            verbose=False, random_state=42, iterations=200),\n",
    "          CatBoostRegressor(cat_features=categorical_features, loss_function='RMSE',\n",
    "                            verbose=False, random_state=42, iterations=50)]\n",
    "for model in models:\n",
    "    start = time.time()\n",
    "    model.fit(X_train, y_train)\n",
    "    end = time.time()\n",
    "    fit_time = end - start\n",
    "    start = time.time()\n",
    "    y_pred = model.predict(X_test)\n",
    "    end = time.time()\n",
    "    predict_time = end - start\n",
    "    rmse = np.sqrt(mean_squared_error(y_test, y_pred))\n",
    "    model_metrics.loc[len(model_metrics)] = [model.__class__.__name__, model.get_params(deep=False),\n",
    "                                             fit_time, predict_time, rmse]"
   ]
  },
  {
   "cell_type": "markdown",
   "metadata": {},
   "source": [
    "## Анализ моделей"
   ]
  },
  {
   "cell_type": "code",
   "execution_count": 50,
   "metadata": {},
   "outputs": [
    {
     "data": {
      "text/html": [
       "<div>\n",
       "<style scoped>\n",
       "    .dataframe tbody tr th:only-of-type {\n",
       "        vertical-align: middle;\n",
       "    }\n",
       "\n",
       "    .dataframe tbody tr th {\n",
       "        vertical-align: top;\n",
       "    }\n",
       "\n",
       "    .dataframe thead th {\n",
       "        text-align: right;\n",
       "    }\n",
       "</style>\n",
       "<table border=\"1\" class=\"dataframe\">\n",
       "  <thead>\n",
       "    <tr style=\"text-align: right;\">\n",
       "      <th></th>\n",
       "      <th>model_name</th>\n",
       "      <th>params</th>\n",
       "      <th>fit_time</th>\n",
       "      <th>predict_time</th>\n",
       "      <th>rmse</th>\n",
       "    </tr>\n",
       "  </thead>\n",
       "  <tbody>\n",
       "    <tr>\n",
       "      <th>4</th>\n",
       "      <td>LGBMRegressor</td>\n",
       "      <td>{'boosting_type': 'gbdt', 'class_weight': None, 'colsample_bytree': 1.0, 'importance_type': 'split', 'learning_rate': 0.4, 'max_depth': 20, 'min_child_samples': 20, 'min_child_weight': 0.001, 'min_split_gain': 0.0, 'n_estimators': 100, 'n_jobs': -1, 'num_leaves': 31, 'objective': None, 'random_state': 42, 'reg_alpha': 0.0, 'reg_lambda': 0.0, 'silent': True, 'subsample': 1.0, 'subsample_for_bin': 200000, 'subsample_freq': 0, 'metric': 'rmse'}</td>\n",
       "      <td>0.654573</td>\n",
       "      <td>0.141009</td>\n",
       "      <td>1575.084551</td>\n",
       "    </tr>\n",
       "    <tr>\n",
       "      <th>5</th>\n",
       "      <td>CatBoostRegressor</td>\n",
       "      <td>{'iterations': 200, 'loss_function': 'RMSE', 'verbose': False, 'random_state': 42, 'cat_features': ['VehicleType', 'Gearbox', 'Model', 'FuelType', 'Brand', 'NotRepaired']}</td>\n",
       "      <td>37.137963</td>\n",
       "      <td>0.120008</td>\n",
       "      <td>1606.198760</td>\n",
       "    </tr>\n",
       "    <tr>\n",
       "      <th>6</th>\n",
       "      <td>CatBoostRegressor</td>\n",
       "      <td>{'iterations': 50, 'loss_function': 'RMSE', 'verbose': False, 'random_state': 42, 'cat_features': ['VehicleType', 'Gearbox', 'Model', 'FuelType', 'Brand', 'NotRepaired']}</td>\n",
       "      <td>10.706576</td>\n",
       "      <td>0.064003</td>\n",
       "      <td>1705.080047</td>\n",
       "    </tr>\n",
       "    <tr>\n",
       "      <th>3</th>\n",
       "      <td>Ridge</td>\n",
       "      <td>{'alpha': 0.01, 'copy_X': True, 'fit_intercept': True, 'max_iter': None, 'normalize': False, 'random_state': 42, 'solver': 'cholesky', 'tol': 0.001}</td>\n",
       "      <td>2.423505</td>\n",
       "      <td>0.124010</td>\n",
       "      <td>2683.020193</td>\n",
       "    </tr>\n",
       "    <tr>\n",
       "      <th>2</th>\n",
       "      <td>Ridge</td>\n",
       "      <td>{'alpha': 0.1, 'copy_X': True, 'fit_intercept': True, 'max_iter': None, 'normalize': False, 'random_state': 42, 'solver': 'cholesky', 'tol': 0.001}</td>\n",
       "      <td>3.851032</td>\n",
       "      <td>0.154012</td>\n",
       "      <td>2683.028652</td>\n",
       "    </tr>\n",
       "    <tr>\n",
       "      <th>1</th>\n",
       "      <td>Ridge</td>\n",
       "      <td>{'alpha': 1.0, 'copy_X': True, 'fit_intercept': True, 'max_iter': None, 'normalize': False, 'random_state': 42, 'solver': 'auto', 'tol': 0.001}</td>\n",
       "      <td>5.224387</td>\n",
       "      <td>0.174015</td>\n",
       "      <td>2683.147357</td>\n",
       "    </tr>\n",
       "    <tr>\n",
       "      <th>0</th>\n",
       "      <td>DummyRegressor</td>\n",
       "      <td>{'constant': None, 'quantile': None, 'strategy': 'median'}</td>\n",
       "      <td>0.002999</td>\n",
       "      <td>0.000000</td>\n",
       "      <td>4860.392180</td>\n",
       "    </tr>\n",
       "  </tbody>\n",
       "</table>\n",
       "</div>"
      ],
      "text/plain": [
       "          model_name  \\\n",
       "4      LGBMRegressor   \n",
       "5  CatBoostRegressor   \n",
       "6  CatBoostRegressor   \n",
       "3              Ridge   \n",
       "2              Ridge   \n",
       "1              Ridge   \n",
       "0     DummyRegressor   \n",
       "\n",
       "                                                                                                                                                                                                                                                                                                                                                                                                                                                          params  \\\n",
       "4  {'boosting_type': 'gbdt', 'class_weight': None, 'colsample_bytree': 1.0, 'importance_type': 'split', 'learning_rate': 0.4, 'max_depth': 20, 'min_child_samples': 20, 'min_child_weight': 0.001, 'min_split_gain': 0.0, 'n_estimators': 100, 'n_jobs': -1, 'num_leaves': 31, 'objective': None, 'random_state': 42, 'reg_alpha': 0.0, 'reg_lambda': 0.0, 'silent': True, 'subsample': 1.0, 'subsample_for_bin': 200000, 'subsample_freq': 0, 'metric': 'rmse'}   \n",
       "5                                                                                                                                                                                                                                                                                    {'iterations': 200, 'loss_function': 'RMSE', 'verbose': False, 'random_state': 42, 'cat_features': ['VehicleType', 'Gearbox', 'Model', 'FuelType', 'Brand', 'NotRepaired']}   \n",
       "6                                                                                                                                                                                                                                                                                     {'iterations': 50, 'loss_function': 'RMSE', 'verbose': False, 'random_state': 42, 'cat_features': ['VehicleType', 'Gearbox', 'Model', 'FuelType', 'Brand', 'NotRepaired']}   \n",
       "3                                                                                                                                                                                                                                                                                                           {'alpha': 0.01, 'copy_X': True, 'fit_intercept': True, 'max_iter': None, 'normalize': False, 'random_state': 42, 'solver': 'cholesky', 'tol': 0.001}   \n",
       "2                                                                                                                                                                                                                                                                                                            {'alpha': 0.1, 'copy_X': True, 'fit_intercept': True, 'max_iter': None, 'normalize': False, 'random_state': 42, 'solver': 'cholesky', 'tol': 0.001}   \n",
       "1                                                                                                                                                                                                                                                                                                                {'alpha': 1.0, 'copy_X': True, 'fit_intercept': True, 'max_iter': None, 'normalize': False, 'random_state': 42, 'solver': 'auto', 'tol': 0.001}   \n",
       "0                                                                                                                                                                                                                                                                                                                                                                                                     {'constant': None, 'quantile': None, 'strategy': 'median'}   \n",
       "\n",
       "    fit_time  predict_time         rmse  \n",
       "4   0.654573      0.141009  1575.084551  \n",
       "5  37.137963      0.120008  1606.198760  \n",
       "6  10.706576      0.064003  1705.080047  \n",
       "3   2.423505      0.124010  2683.020193  \n",
       "2   3.851032      0.154012  2683.028652  \n",
       "1   5.224387      0.174015  2683.147357  \n",
       "0   0.002999      0.000000  4860.392180  "
      ]
     },
     "execution_count": 50,
     "metadata": {},
     "output_type": "execute_result"
    }
   ],
   "source": [
    "model_metrics.sort_values('rmse')"
   ]
  },
  {
   "cell_type": "markdown",
   "metadata": {},
   "source": [
    "Лучшая модель - LGBMRegressor.  \n",
    "За счёт увеличения числа итераций можно улучшить показатели CatBoostRegressor, но тогда нам потребуется еще больше времени."
   ]
  },
  {
   "cell_type": "markdown",
   "metadata": {},
   "source": [
    "## Выводы"
   ]
  },
  {
   "cell_type": "markdown",
   "metadata": {},
   "source": [
    "***Что было сделано:***  \n",
    "- Изучили и предобработали данные;\n",
    "- Провалидировали и удалили некорректные значения;\n",
    "- Удалили из базы машины дешевле 300 евро;\n",
    "- Удалили машины старше 1960 года и младше года создания объявления;\n",
    "- Удалили пропуски в `Model`;\n",
    "- Заполнили пропуски в `FuelType`, `VehicleType` и `Gearbox` самыми популярными значениями по связке `Brand`+`Model`;\n",
    "- Пропущенные значения `NotRepaired` перевели в неизвестные;\n",
    "- Удалили все машины, мощнее 500 л.с., при этом оставили машины с нулевым значением, предположив, что они без двигателя;\n",
    "- Из обучающих признаков удалили `NumberOfPictures`, `DateCrawled`, `DateCreated`, `LastSeen`, `PostalCode` и  `RegistrationMonth`\n",
    "- Подготовили данные к обучению, разбив на две группы: с применением OHE и без;\n",
    "- Промасштабировали StandardScaler'ом численные признаки.\n",
    "\n",
    "***Результаты:***  \n",
    "- Модели, которые использовались в проекте: \n",
    "    - линейная модель: Ridge\n",
    "    - модели градиентного бустинга: LGBMRegressor, CatBoostRegressor\n",
    "    - константная модель: DummyRegressor\n",
    "    \n",
    "Лучший результат из рассмотренных показали модели LGBMRegressor.    \n",
    "    \n",
    "*Результаты, отсортированные по значению rmse:*    \n",
    "\n",
    "|        model_name |                                                    params |  fit_time | predict_time |        rmse |\n",
    "|------------------:|----------------------------------------------------------:|----------:|-------------:|------------:|\n",
    "|     LGBMRegressor | {'learning_rate': 0.4, 'max_depth': 10, 'metric': 'rmse'} |  0.654573 |     0.141009 | 1575.084551 |\n",
    "| CatBoostRegressor | {'iterations': 200, 'loss_function': 'RMSE'}              | 37.137963 |     0.120008 | 1606.198760 |\n",
    "| CatBoostRegressor | {'iterations': 50, 'loss_function': 'RMSE'}               | 10.706576 |     0.064003 | 1705.080047 |\n",
    "|             Ridge | {'alpha': 0.01, 'solver': 'cholesky'}                     |  2.423505 |     0.124010 | 2683.020193 |\n",
    "|             Ridge | {'alpha': 0.1, 'solver': 'cholesky'}                      |  3.851032 |     0.154012 | 2683.028652 |\n",
    "|             Ridge | {'alpha': 1.0, 'solver': 'auto'}                          |  5.224387 |     0.174015 | 2683.147357 |\n",
    "|    DummyRegressor | strategy': 'median'}                                      |  0.002999 |     0.000000 | 4860.392180 |\n",
    "\n",
    "***Что еще надо сделать:***\n",
    "- Выяснить максимально допустимое время и провести расширенное исследование гиперпараметров моделей;\n",
    "- Выяснить мощность оборудования заказчика для работы модели в болевых условиях, сейчас прошлось отказаться от создания полноценного Рipeline с ColumnTransformer и GridSearch на всех моделях из-за слишком долгого времени просчёта; \n",
    "- Пообщаться с product-owner мобильного приложения и предложить помощь в создании правил валидации вводимых данных. Это значительно облегчит не только предобработку даннных для построения модели, но и поможет аналитикам и бизнесу получить качественные отчеты;\n",
    "- Разобраться с отсутствием фотографий, если их нет из-за ошибки при выгрузке, то получить корректную выгрузку и заново обучить модель. Если же это еще не реализованный функционал приложения, то надо опять же пообщаться с product-owner, чтобы быть готовым предложить новую модель, когда будут доступны данные о фото;\n",
    "- Предложить использовать дату выпуска вместо даты регистрации, потому что регистрация - это по сути смена владельца, которая не отражает реальный возраст машины."
   ]
  }
 ],
 "metadata": {
  "kernelspec": {
   "display_name": "Python 3",
   "language": "python",
   "name": "python3"
  },
  "language_info": {
   "codemirror_mode": {
    "name": "ipython",
    "version": 3
   },
   "file_extension": ".py",
   "mimetype": "text/x-python",
   "name": "python",
   "nbconvert_exporter": "python",
   "pygments_lexer": "ipython3",
   "version": "3.8.8"
  },
  "toc": {
   "base_numbering": 1,
   "nav_menu": {},
   "number_sections": true,
   "sideBar": true,
   "skip_h1_title": true,
   "title_cell": "Содержание",
   "title_sidebar": "Contents",
   "toc_cell": true,
   "toc_position": {
    "height": "calc(100% - 180px)",
    "left": "10px",
    "top": "150px",
    "width": "289.6px"
   },
   "toc_section_display": true,
   "toc_window_display": true
  }
 },
 "nbformat": 4,
 "nbformat_minor": 2
}
